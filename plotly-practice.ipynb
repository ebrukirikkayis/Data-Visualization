{
 "cells": [
  {
   "cell_type": "code",
   "execution_count": 1,
   "id": "7a2699d0",
   "metadata": {
    "_cell_guid": "b1076dfc-b9ad-4769-8c92-a6c4dae69d19",
    "_uuid": "8f2839f25d086af736a60e9eeb907d3b93b6e0e5",
    "execution": {
     "iopub.execute_input": "2022-08-02T12:20:50.633961Z",
     "iopub.status.busy": "2022-08-02T12:20:50.633364Z",
     "iopub.status.idle": "2022-08-02T12:20:50.777702Z",
     "shell.execute_reply": "2022-08-02T12:20:50.776660Z"
    },
    "papermill": {
     "duration": 0.157952,
     "end_time": "2022-08-02T12:20:50.780278",
     "exception": false,
     "start_time": "2022-08-02T12:20:50.622326",
     "status": "completed"
    },
    "tags": []
   },
   "outputs": [
    {
     "data": {
      "text/html": [
       "        <script type=\"text/javascript\">\n",
       "        window.PlotlyConfig = {MathJaxConfig: 'local'};\n",
       "        if (window.MathJax && window.MathJax.Hub && window.MathJax.Hub.Config) {window.MathJax.Hub.Config({SVG: {font: \"STIX-Web\"}});}\n",
       "        if (typeof require !== 'undefined') {\n",
       "        require.undef(\"plotly\");\n",
       "        requirejs.config({\n",
       "            paths: {\n",
       "                'plotly': ['https://cdn.plot.ly/plotly-2.12.1.min']\n",
       "            }\n",
       "        });\n",
       "        require(['plotly'], function(Plotly) {\n",
       "            window._Plotly = Plotly;\n",
       "        });\n",
       "        }\n",
       "        </script>\n",
       "        "
      ]
     },
     "metadata": {},
     "output_type": "display_data"
    },
    {
     "name": "stdout",
     "output_type": "stream",
     "text": [
      "/kaggle/input/world-university-rankings/education_expenditure_supplementary_data.csv\n",
      "/kaggle/input/world-university-rankings/educational_attainment_supplementary_data.csv\n",
      "/kaggle/input/world-university-rankings/shanghaiData.csv\n",
      "/kaggle/input/world-university-rankings/timesData.csv\n",
      "/kaggle/input/world-university-rankings/cwurData.csv\n",
      "/kaggle/input/world-university-rankings/school_and_country_table.csv\n"
     ]
    }
   ],
   "source": [
    "# This Python 3 environment comes with many helpful analytics libraries installed\n",
    "# It is defined by the kaggle/python Docker image: https://github.com/kaggle/docker-python\n",
    "# For example, here's several helpful packages to load\n",
    "\n",
    "import numpy as np # linear algebra\n",
    "import pandas as pd # data processing, CSV file I/O (e.g. pd.read_csv)\n",
    "\n",
    "# plotly\n",
    "\n",
    "from plotly.offline import init_notebook_mode, iplot, plot\n",
    "import plotly as py\n",
    "init_notebook_mode(connected=True)\n",
    "import plotly.graph_objs as go\n",
    "\n",
    "# world cloud lib\n",
    "from wordcloud import WordCloud\n",
    "\n",
    "# matplotlib\n",
    "import matplotlib.pyplot as plt\n",
    "\n",
    "# Input data files are available in the read-only \"../input/\" directory\n",
    "# For example, running this (by clicking run or pressing Shift+Enter) will list all files under the input directory\n",
    "\n",
    "import os\n",
    "for dirname, _, filenames in os.walk('/kaggle/input'):\n",
    "    for filename in filenames:\n",
    "        print(os.path.join(dirname, filename))\n",
    "\n",
    "# You can write up to 20GB to the current directory (/kaggle/working/) that gets preserved as output when you create a version using \"Save & Run All\" \n",
    "# You can also write temporary files to /kaggle/temp/, but they won't be saved outside of the current session"
   ]
  },
  {
   "cell_type": "code",
   "execution_count": 2,
   "id": "47ad28a5",
   "metadata": {
    "execution": {
     "iopub.execute_input": "2022-08-02T12:20:50.799100Z",
     "iopub.status.busy": "2022-08-02T12:20:50.798656Z",
     "iopub.status.idle": "2022-08-02T12:20:50.857340Z",
     "shell.execute_reply": "2022-08-02T12:20:50.856118Z"
    },
    "papermill": {
     "duration": 0.072185,
     "end_time": "2022-08-02T12:20:50.861598",
     "exception": false,
     "start_time": "2022-08-02T12:20:50.789413",
     "status": "completed"
    },
    "tags": []
   },
   "outputs": [
    {
     "name": "stdout",
     "output_type": "stream",
     "text": [
      "<class 'pandas.core.frame.DataFrame'>\n",
      "RangeIndex: 2603 entries, 0 to 2602\n",
      "Data columns (total 14 columns):\n",
      " #   Column                  Non-Null Count  Dtype  \n",
      "---  ------                  --------------  -----  \n",
      " 0   world_rank              2603 non-null   object \n",
      " 1   university_name         2603 non-null   object \n",
      " 2   country                 2603 non-null   object \n",
      " 3   teaching                2603 non-null   float64\n",
      " 4   international           2603 non-null   object \n",
      " 5   research                2603 non-null   float64\n",
      " 6   citations               2603 non-null   float64\n",
      " 7   income                  2603 non-null   object \n",
      " 8   total_score             2603 non-null   object \n",
      " 9   num_students            2544 non-null   object \n",
      " 10  student_staff_ratio     2544 non-null   float64\n",
      " 11  international_students  2536 non-null   object \n",
      " 12  female_male_ratio       2370 non-null   object \n",
      " 13  year                    2603 non-null   int64  \n",
      "dtypes: float64(4), int64(1), object(9)\n",
      "memory usage: 284.8+ KB\n"
     ]
    }
   ],
   "source": [
    "timesData= pd.read_csv(\"../input/world-university-rankings/timesData.csv\")\n",
    "timesData.info()"
   ]
  },
  {
   "cell_type": "code",
   "execution_count": 3,
   "id": "faf38e52",
   "metadata": {
    "execution": {
     "iopub.execute_input": "2022-08-02T12:20:50.880856Z",
     "iopub.status.busy": "2022-08-02T12:20:50.880462Z",
     "iopub.status.idle": "2022-08-02T12:20:50.912723Z",
     "shell.execute_reply": "2022-08-02T12:20:50.911464Z"
    },
    "papermill": {
     "duration": 0.044657,
     "end_time": "2022-08-02T12:20:50.915203",
     "exception": false,
     "start_time": "2022-08-02T12:20:50.870546",
     "status": "completed"
    },
    "tags": []
   },
   "outputs": [
    {
     "data": {
      "text/html": [
       "<div>\n",
       "<style scoped>\n",
       "    .dataframe tbody tr th:only-of-type {\n",
       "        vertical-align: middle;\n",
       "    }\n",
       "\n",
       "    .dataframe tbody tr th {\n",
       "        vertical-align: top;\n",
       "    }\n",
       "\n",
       "    .dataframe thead th {\n",
       "        text-align: right;\n",
       "    }\n",
       "</style>\n",
       "<table border=\"1\" class=\"dataframe\">\n",
       "  <thead>\n",
       "    <tr style=\"text-align: right;\">\n",
       "      <th></th>\n",
       "      <th>world_rank</th>\n",
       "      <th>university_name</th>\n",
       "      <th>country</th>\n",
       "      <th>teaching</th>\n",
       "      <th>international</th>\n",
       "      <th>research</th>\n",
       "      <th>citations</th>\n",
       "      <th>income</th>\n",
       "      <th>total_score</th>\n",
       "      <th>num_students</th>\n",
       "      <th>student_staff_ratio</th>\n",
       "      <th>international_students</th>\n",
       "      <th>female_male_ratio</th>\n",
       "      <th>year</th>\n",
       "    </tr>\n",
       "  </thead>\n",
       "  <tbody>\n",
       "    <tr>\n",
       "      <th>0</th>\n",
       "      <td>1</td>\n",
       "      <td>Harvard University</td>\n",
       "      <td>United States of America</td>\n",
       "      <td>99.7</td>\n",
       "      <td>72.4</td>\n",
       "      <td>98.7</td>\n",
       "      <td>98.8</td>\n",
       "      <td>34.5</td>\n",
       "      <td>96.1</td>\n",
       "      <td>20,152</td>\n",
       "      <td>8.9</td>\n",
       "      <td>25%</td>\n",
       "      <td>NaN</td>\n",
       "      <td>2011</td>\n",
       "    </tr>\n",
       "    <tr>\n",
       "      <th>1</th>\n",
       "      <td>2</td>\n",
       "      <td>California Institute of Technology</td>\n",
       "      <td>United States of America</td>\n",
       "      <td>97.7</td>\n",
       "      <td>54.6</td>\n",
       "      <td>98.0</td>\n",
       "      <td>99.9</td>\n",
       "      <td>83.7</td>\n",
       "      <td>96.0</td>\n",
       "      <td>2,243</td>\n",
       "      <td>6.9</td>\n",
       "      <td>27%</td>\n",
       "      <td>33 : 67</td>\n",
       "      <td>2011</td>\n",
       "    </tr>\n",
       "    <tr>\n",
       "      <th>2</th>\n",
       "      <td>3</td>\n",
       "      <td>Massachusetts Institute of Technology</td>\n",
       "      <td>United States of America</td>\n",
       "      <td>97.8</td>\n",
       "      <td>82.3</td>\n",
       "      <td>91.4</td>\n",
       "      <td>99.9</td>\n",
       "      <td>87.5</td>\n",
       "      <td>95.6</td>\n",
       "      <td>11,074</td>\n",
       "      <td>9.0</td>\n",
       "      <td>33%</td>\n",
       "      <td>37 : 63</td>\n",
       "      <td>2011</td>\n",
       "    </tr>\n",
       "    <tr>\n",
       "      <th>3</th>\n",
       "      <td>4</td>\n",
       "      <td>Stanford University</td>\n",
       "      <td>United States of America</td>\n",
       "      <td>98.3</td>\n",
       "      <td>29.5</td>\n",
       "      <td>98.1</td>\n",
       "      <td>99.2</td>\n",
       "      <td>64.3</td>\n",
       "      <td>94.3</td>\n",
       "      <td>15,596</td>\n",
       "      <td>7.8</td>\n",
       "      <td>22%</td>\n",
       "      <td>42 : 58</td>\n",
       "      <td>2011</td>\n",
       "    </tr>\n",
       "    <tr>\n",
       "      <th>4</th>\n",
       "      <td>5</td>\n",
       "      <td>Princeton University</td>\n",
       "      <td>United States of America</td>\n",
       "      <td>90.9</td>\n",
       "      <td>70.3</td>\n",
       "      <td>95.4</td>\n",
       "      <td>99.9</td>\n",
       "      <td>-</td>\n",
       "      <td>94.2</td>\n",
       "      <td>7,929</td>\n",
       "      <td>8.4</td>\n",
       "      <td>27%</td>\n",
       "      <td>45 : 55</td>\n",
       "      <td>2011</td>\n",
       "    </tr>\n",
       "    <tr>\n",
       "      <th>5</th>\n",
       "      <td>6</td>\n",
       "      <td>University of Cambridge</td>\n",
       "      <td>United Kingdom</td>\n",
       "      <td>90.5</td>\n",
       "      <td>77.7</td>\n",
       "      <td>94.1</td>\n",
       "      <td>94.0</td>\n",
       "      <td>57.0</td>\n",
       "      <td>91.2</td>\n",
       "      <td>18,812</td>\n",
       "      <td>11.8</td>\n",
       "      <td>34%</td>\n",
       "      <td>46 : 54</td>\n",
       "      <td>2011</td>\n",
       "    </tr>\n",
       "    <tr>\n",
       "      <th>6</th>\n",
       "      <td>6</td>\n",
       "      <td>University of Oxford</td>\n",
       "      <td>United Kingdom</td>\n",
       "      <td>88.2</td>\n",
       "      <td>77.2</td>\n",
       "      <td>93.9</td>\n",
       "      <td>95.1</td>\n",
       "      <td>73.5</td>\n",
       "      <td>91.2</td>\n",
       "      <td>19,919</td>\n",
       "      <td>11.6</td>\n",
       "      <td>34%</td>\n",
       "      <td>46 : 54</td>\n",
       "      <td>2011</td>\n",
       "    </tr>\n",
       "    <tr>\n",
       "      <th>7</th>\n",
       "      <td>8</td>\n",
       "      <td>University of California, Berkeley</td>\n",
       "      <td>United States of America</td>\n",
       "      <td>84.2</td>\n",
       "      <td>39.6</td>\n",
       "      <td>99.3</td>\n",
       "      <td>97.8</td>\n",
       "      <td>-</td>\n",
       "      <td>91.1</td>\n",
       "      <td>36,186</td>\n",
       "      <td>16.4</td>\n",
       "      <td>15%</td>\n",
       "      <td>50 : 50</td>\n",
       "      <td>2011</td>\n",
       "    </tr>\n",
       "    <tr>\n",
       "      <th>8</th>\n",
       "      <td>9</td>\n",
       "      <td>Imperial College London</td>\n",
       "      <td>United Kingdom</td>\n",
       "      <td>89.2</td>\n",
       "      <td>90.0</td>\n",
       "      <td>94.5</td>\n",
       "      <td>88.3</td>\n",
       "      <td>92.9</td>\n",
       "      <td>90.6</td>\n",
       "      <td>15,060</td>\n",
       "      <td>11.7</td>\n",
       "      <td>51%</td>\n",
       "      <td>37 : 63</td>\n",
       "      <td>2011</td>\n",
       "    </tr>\n",
       "    <tr>\n",
       "      <th>9</th>\n",
       "      <td>10</td>\n",
       "      <td>Yale University</td>\n",
       "      <td>United States of America</td>\n",
       "      <td>92.1</td>\n",
       "      <td>59.2</td>\n",
       "      <td>89.7</td>\n",
       "      <td>91.5</td>\n",
       "      <td>-</td>\n",
       "      <td>89.5</td>\n",
       "      <td>11,751</td>\n",
       "      <td>4.4</td>\n",
       "      <td>20%</td>\n",
       "      <td>50 : 50</td>\n",
       "      <td>2011</td>\n",
       "    </tr>\n",
       "  </tbody>\n",
       "</table>\n",
       "</div>"
      ],
      "text/plain": [
       "  world_rank                        university_name                   country  \\\n",
       "0          1                     Harvard University  United States of America   \n",
       "1          2     California Institute of Technology  United States of America   \n",
       "2          3  Massachusetts Institute of Technology  United States of America   \n",
       "3          4                    Stanford University  United States of America   \n",
       "4          5                   Princeton University  United States of America   \n",
       "5          6                University of Cambridge            United Kingdom   \n",
       "6          6                   University of Oxford            United Kingdom   \n",
       "7          8     University of California, Berkeley  United States of America   \n",
       "8          9                Imperial College London            United Kingdom   \n",
       "9         10                        Yale University  United States of America   \n",
       "\n",
       "   teaching international  research  citations income total_score  \\\n",
       "0      99.7          72.4      98.7       98.8   34.5        96.1   \n",
       "1      97.7          54.6      98.0       99.9   83.7        96.0   \n",
       "2      97.8          82.3      91.4       99.9   87.5        95.6   \n",
       "3      98.3          29.5      98.1       99.2   64.3        94.3   \n",
       "4      90.9          70.3      95.4       99.9      -        94.2   \n",
       "5      90.5          77.7      94.1       94.0   57.0        91.2   \n",
       "6      88.2          77.2      93.9       95.1   73.5        91.2   \n",
       "7      84.2          39.6      99.3       97.8      -        91.1   \n",
       "8      89.2          90.0      94.5       88.3   92.9        90.6   \n",
       "9      92.1          59.2      89.7       91.5      -        89.5   \n",
       "\n",
       "  num_students  student_staff_ratio international_students female_male_ratio  \\\n",
       "0       20,152                  8.9                    25%               NaN   \n",
       "1        2,243                  6.9                    27%           33 : 67   \n",
       "2       11,074                  9.0                    33%           37 : 63   \n",
       "3       15,596                  7.8                    22%           42 : 58   \n",
       "4        7,929                  8.4                    27%           45 : 55   \n",
       "5       18,812                 11.8                    34%           46 : 54   \n",
       "6       19,919                 11.6                    34%           46 : 54   \n",
       "7       36,186                 16.4                    15%           50 : 50   \n",
       "8       15,060                 11.7                    51%           37 : 63   \n",
       "9       11,751                  4.4                    20%           50 : 50   \n",
       "\n",
       "   year  \n",
       "0  2011  \n",
       "1  2011  \n",
       "2  2011  \n",
       "3  2011  \n",
       "4  2011  \n",
       "5  2011  \n",
       "6  2011  \n",
       "7  2011  \n",
       "8  2011  \n",
       "9  2011  "
      ]
     },
     "execution_count": 3,
     "metadata": {},
     "output_type": "execute_result"
    }
   ],
   "source": [
    "timesData.head(10)"
   ]
  },
  {
   "cell_type": "markdown",
   "id": "a4f30215",
   "metadata": {
    "papermill": {
     "duration": 0.008271,
     "end_time": "2022-08-02T12:20:50.932159",
     "exception": false,
     "start_time": "2022-08-02T12:20:50.923888",
     "status": "completed"
    },
    "tags": []
   },
   "source": [
    "## Line Chart"
   ]
  },
  {
   "cell_type": "code",
   "execution_count": 4,
   "id": "96e7173a",
   "metadata": {
    "execution": {
     "iopub.execute_input": "2022-08-02T12:20:50.951067Z",
     "iopub.status.busy": "2022-08-02T12:20:50.950644Z",
     "iopub.status.idle": "2022-08-02T12:20:52.127551Z",
     "shell.execute_reply": "2022-08-02T12:20:52.126446Z"
    },
    "papermill": {
     "duration": 1.190884,
     "end_time": "2022-08-02T12:20:52.131546",
     "exception": false,
     "start_time": "2022-08-02T12:20:50.940662",
     "status": "completed"
    },
    "tags": []
   },
   "outputs": [
    {
     "data": {
      "application/vnd.plotly.v1+json": {
       "config": {
        "linkText": "Export to plot.ly",
        "plotlyServerURL": "https://plot.ly",
        "showLink": false
       },
       "data": [
        {
         "marker": {
          "color": "rgba(16,112,2,0.8)"
         },
         "mode": "lines",
         "name": "citations",
         "text": [
          "Harvard University",
          "California Institute of Technology",
          "Massachusetts Institute of Technology",
          "Stanford University",
          "Princeton University",
          "University of Cambridge",
          "University of Oxford",
          "University of California, Berkeley",
          "Imperial College London",
          "Yale University",
          "University of California, Los Angeles",
          "University of Chicago",
          "Johns Hopkins University",
          "Cornell University",
          "ETH Zurich – Swiss Federal Institute of Technology Zurich",
          "University of Michigan",
          "University of Toronto",
          "Columbia University",
          "University of Pennsylvania",
          "Carnegie Mellon University",
          "University of Hong Kong",
          "University College London",
          "University of Washington",
          "Duke University",
          "Northwestern University",
          "University of Tokyo",
          "Georgia Institute of Technology",
          "Pohang University of Science and Technology",
          "University of California, Santa Barbara",
          "University of British Columbia",
          "University of North Carolina at Chapel Hill",
          "University of California, San Diego",
          "University of Illinois at Urbana-Champaign",
          "National University of Singapore",
          "McGill University",
          "University of Melbourne",
          "Peking University",
          "Washington University in St Louis",
          "École Polytechnique",
          "University of Edinburgh",
          "Hong Kong University of Science and Technology",
          "École Normale Supérieure",
          "Australian National University",
          "Karolinska Institute",
          "University of Göttingen",
          "University of Wisconsin",
          "Rice University",
          "École Polytechnique Fédérale de Lausanne",
          "University of California, Irvine",
          "University of Science and Technology of China",
          "Vanderbilt University",
          "University of Minnesota",
          "Tufts University",
          "University of California, Davis",
          "Brown University",
          "University of Massachusetts",
          "Kyoto University",
          "Tsinghua University",
          "Boston University",
          "New York University",
          "Emory University",
          "LMU Munich",
          "University of Notre Dame",
          "University of Pittsburgh",
          "Case Western Reserve University",
          "Ohio State University",
          "University of Colorado Boulder",
          "University of Bristol",
          "University of California, Santa Cruz",
          "Yeshiva University",
          "University of Sydney",
          "University of Virginia",
          "University of Adelaide",
          "University of Southern California",
          "William & Mary",
          "Trinity College Dublin",
          "King’s College London",
          "Stony Brook University",
          "Korea Advanced Institute of Science and Technology (KAIST)",
          "University of Sussex",
          "The University of Queensland",
          "University of York",
          "Heidelberg University",
          "University of Utah",
          "Durham University",
          "London School of Economics and Political Science",
          "University of Manchester",
          "Royal Holloway, University of London",
          "Lund University",
          "University of Southampton",
          "University of Zurich",
          "Wake Forest University",
          "McMaster University",
          "University College Dublin",
          "George Washington University",
          "University of Arizona",
          "University of Basel",
          "University of Maryland, College Park",
          "Dartmouth College",
          "École Normale Supérieure de Lyon"
         ],
         "type": "scatter",
         "x": [
          "1",
          "2",
          "3",
          "4",
          "5",
          "6",
          "6",
          "8",
          "9",
          "10",
          "11",
          "12",
          "13",
          "14",
          "15",
          "15",
          "17",
          "18",
          "19",
          "20",
          "21",
          "22",
          "23",
          "24",
          "25",
          "26",
          "27",
          "28",
          "29",
          "30",
          "30",
          "32",
          "33",
          "34",
          "35",
          "36",
          "37",
          "38",
          "39",
          "40",
          "41",
          "42",
          "43",
          "43",
          "43",
          "43",
          "47",
          "48",
          "49",
          "49",
          "51",
          "52",
          "53",
          "54",
          "55",
          "56",
          "57",
          "58",
          "59",
          "60",
          "61",
          "61",
          "63",
          "64",
          "65",
          "66",
          "67",
          "68",
          "68",
          "68",
          "71",
          "72",
          "73",
          "73",
          "75",
          "76",
          "77",
          "78",
          "79",
          "79",
          "81",
          "81",
          "83",
          "83",
          "85",
          "86",
          "87",
          "88",
          "89",
          "90",
          "90",
          "90",
          "93",
          "94",
          "95",
          "95",
          "95",
          "98",
          "99",
          "100"
         ],
         "y": [
          98.8,
          99.9,
          99.9,
          99.2,
          99.9,
          94.0,
          95.1,
          97.8,
          88.3,
          91.5,
          93.2,
          96.9,
          92.3,
          88.1,
          83.1,
          84.1,
          82.2,
          92.6,
          93.6,
          95.7,
          96.1,
          80.6,
          95.9,
          92.3,
          95.3,
          58.1,
          83.2,
          96.5,
          98.8,
          80.3,
          85.0,
          90.8,
          72.9,
          78.7,
          69.0,
          83.3,
          72.2,
          88.6,
          91.4,
          86.8,
          98.2,
          95.7,
          81.0,
          62.3,
          92.5,
          83.4,
          99.1,
          83.8,
          91.6,
          92.7,
          78.1,
          76.4,
          83.9,
          68.8,
          77.7,
          67.9,
          46.3,
          52.7,
          91.4,
          82.9,
          77.8,
          76.4,
          89.1,
          78.3,
          66.0,
          67.2,
          83.4,
          80.9,
          99.6,
          74.4,
          64.3,
          68.6,
          90.5,
          71.9,
          95.6,
          84.4,
          72.1,
          85.8,
          45.5,
          91.6,
          69.0,
          81.9,
          70.3,
          72.0,
          91.0,
          51.6,
          59.2,
          93.2,
          67.6,
          72.9,
          65.0,
          79.2,
          68.5,
          86.3,
          70.2,
          70.1,
          78.3,
          79.2,
          79.7,
          88.8
         ]
        },
        {
         "marker": {
          "color": "rgba(80,26,80,0.8)"
         },
         "mode": "lines+markers",
         "name": "teaching",
         "text": [
          "Harvard University",
          "California Institute of Technology",
          "Massachusetts Institute of Technology",
          "Stanford University",
          "Princeton University",
          "University of Cambridge",
          "University of Oxford",
          "University of California, Berkeley",
          "Imperial College London",
          "Yale University",
          "University of California, Los Angeles",
          "University of Chicago",
          "Johns Hopkins University",
          "Cornell University",
          "ETH Zurich – Swiss Federal Institute of Technology Zurich",
          "University of Michigan",
          "University of Toronto",
          "Columbia University",
          "University of Pennsylvania",
          "Carnegie Mellon University",
          "University of Hong Kong",
          "University College London",
          "University of Washington",
          "Duke University",
          "Northwestern University",
          "University of Tokyo",
          "Georgia Institute of Technology",
          "Pohang University of Science and Technology",
          "University of California, Santa Barbara",
          "University of British Columbia",
          "University of North Carolina at Chapel Hill",
          "University of California, San Diego",
          "University of Illinois at Urbana-Champaign",
          "National University of Singapore",
          "McGill University",
          "University of Melbourne",
          "Peking University",
          "Washington University in St Louis",
          "École Polytechnique",
          "University of Edinburgh",
          "Hong Kong University of Science and Technology",
          "École Normale Supérieure",
          "Australian National University",
          "Karolinska Institute",
          "University of Göttingen",
          "University of Wisconsin",
          "Rice University",
          "École Polytechnique Fédérale de Lausanne",
          "University of California, Irvine",
          "University of Science and Technology of China",
          "Vanderbilt University",
          "University of Minnesota",
          "Tufts University",
          "University of California, Davis",
          "Brown University",
          "University of Massachusetts",
          "Kyoto University",
          "Tsinghua University",
          "Boston University",
          "New York University",
          "Emory University",
          "LMU Munich",
          "University of Notre Dame",
          "University of Pittsburgh",
          "Case Western Reserve University",
          "Ohio State University",
          "University of Colorado Boulder",
          "University of Bristol",
          "University of California, Santa Cruz",
          "Yeshiva University",
          "University of Sydney",
          "University of Virginia",
          "University of Adelaide",
          "University of Southern California",
          "William & Mary",
          "Trinity College Dublin",
          "King’s College London",
          "Stony Brook University",
          "Korea Advanced Institute of Science and Technology (KAIST)",
          "University of Sussex",
          "The University of Queensland",
          "University of York",
          "Heidelberg University",
          "University of Utah",
          "Durham University",
          "London School of Economics and Political Science",
          "University of Manchester",
          "Royal Holloway, University of London",
          "Lund University",
          "University of Southampton",
          "University of Zurich",
          "Wake Forest University",
          "McMaster University",
          "University College Dublin",
          "George Washington University",
          "University of Arizona",
          "University of Basel",
          "University of Maryland, College Park",
          "Dartmouth College",
          "École Normale Supérieure de Lyon"
         ],
         "type": "scatter",
         "x": [
          "1",
          "2",
          "3",
          "4",
          "5",
          "6",
          "6",
          "8",
          "9",
          "10",
          "11",
          "12",
          "13",
          "14",
          "15",
          "15",
          "17",
          "18",
          "19",
          "20",
          "21",
          "22",
          "23",
          "24",
          "25",
          "26",
          "27",
          "28",
          "29",
          "30",
          "30",
          "32",
          "33",
          "34",
          "35",
          "36",
          "37",
          "38",
          "39",
          "40",
          "41",
          "42",
          "43",
          "43",
          "43",
          "43",
          "47",
          "48",
          "49",
          "49",
          "51",
          "52",
          "53",
          "54",
          "55",
          "56",
          "57",
          "58",
          "59",
          "60",
          "61",
          "61",
          "63",
          "64",
          "65",
          "66",
          "67",
          "68",
          "68",
          "68",
          "71",
          "72",
          "73",
          "73",
          "75",
          "76",
          "77",
          "78",
          "79",
          "79",
          "81",
          "81",
          "83",
          "83",
          "85",
          "86",
          "87",
          "88",
          "89",
          "90",
          "90",
          "90",
          "93",
          "94",
          "95",
          "95",
          "95",
          "98",
          "99",
          "100"
         ],
         "y": [
          99.7,
          97.7,
          97.8,
          98.3,
          90.9,
          90.5,
          88.2,
          84.2,
          89.2,
          92.1,
          83.0,
          79.1,
          80.9,
          82.2,
          77.5,
          83.9,
          75.8,
          73.8,
          71.8,
          70.3,
          68.4,
          74.0,
          68.2,
          66.8,
          64.5,
          87.7,
          67.9,
          69.5,
          56.6,
          65.1,
          70.9,
          59.8,
          68.1,
          65.5,
          69.0,
          58.7,
          76.4,
          58.9,
          57.9,
          59.9,
          50.4,
          66.8,
          51.9,
          65.8,
          57.3,
          55.5,
          57.4,
          55.0,
          49.4,
          57.5,
          64.9,
          57.6,
          64.1,
          57.3,
          59.7,
          61.3,
          78.9,
          74.9,
          53.6,
          62.0,
          63.4,
          59.1,
          56.4,
          58.5,
          67.2,
          63.5,
          46.4,
          49.6,
          38.3,
          63.5,
          49.8,
          62.0,
          46.5,
          65.4,
          53.1,
          47.7,
          48.5,
          48.5,
          71.3,
          42.4,
          51.8,
          47.9,
          59.2,
          55.8,
          39.8,
          62.4,
          56.5,
          37.7,
          46.3,
          50.8,
          56.6,
          54.6,
          44.7,
          42.4,
          60.6,
          52.4,
          50.2,
          45.4,
          44.7,
          51.1
         ]
        }
       ],
       "layout": {
        "template": {
         "data": {
          "bar": [
           {
            "error_x": {
             "color": "#2a3f5f"
            },
            "error_y": {
             "color": "#2a3f5f"
            },
            "marker": {
             "line": {
              "color": "#E5ECF6",
              "width": 0.5
             },
             "pattern": {
              "fillmode": "overlay",
              "size": 10,
              "solidity": 0.2
             }
            },
            "type": "bar"
           }
          ],
          "barpolar": [
           {
            "marker": {
             "line": {
              "color": "#E5ECF6",
              "width": 0.5
             },
             "pattern": {
              "fillmode": "overlay",
              "size": 10,
              "solidity": 0.2
             }
            },
            "type": "barpolar"
           }
          ],
          "carpet": [
           {
            "aaxis": {
             "endlinecolor": "#2a3f5f",
             "gridcolor": "white",
             "linecolor": "white",
             "minorgridcolor": "white",
             "startlinecolor": "#2a3f5f"
            },
            "baxis": {
             "endlinecolor": "#2a3f5f",
             "gridcolor": "white",
             "linecolor": "white",
             "minorgridcolor": "white",
             "startlinecolor": "#2a3f5f"
            },
            "type": "carpet"
           }
          ],
          "choropleth": [
           {
            "colorbar": {
             "outlinewidth": 0,
             "ticks": ""
            },
            "type": "choropleth"
           }
          ],
          "contour": [
           {
            "colorbar": {
             "outlinewidth": 0,
             "ticks": ""
            },
            "colorscale": [
             [
              0.0,
              "#0d0887"
             ],
             [
              0.1111111111111111,
              "#46039f"
             ],
             [
              0.2222222222222222,
              "#7201a8"
             ],
             [
              0.3333333333333333,
              "#9c179e"
             ],
             [
              0.4444444444444444,
              "#bd3786"
             ],
             [
              0.5555555555555556,
              "#d8576b"
             ],
             [
              0.6666666666666666,
              "#ed7953"
             ],
             [
              0.7777777777777778,
              "#fb9f3a"
             ],
             [
              0.8888888888888888,
              "#fdca26"
             ],
             [
              1.0,
              "#f0f921"
             ]
            ],
            "type": "contour"
           }
          ],
          "contourcarpet": [
           {
            "colorbar": {
             "outlinewidth": 0,
             "ticks": ""
            },
            "type": "contourcarpet"
           }
          ],
          "heatmap": [
           {
            "colorbar": {
             "outlinewidth": 0,
             "ticks": ""
            },
            "colorscale": [
             [
              0.0,
              "#0d0887"
             ],
             [
              0.1111111111111111,
              "#46039f"
             ],
             [
              0.2222222222222222,
              "#7201a8"
             ],
             [
              0.3333333333333333,
              "#9c179e"
             ],
             [
              0.4444444444444444,
              "#bd3786"
             ],
             [
              0.5555555555555556,
              "#d8576b"
             ],
             [
              0.6666666666666666,
              "#ed7953"
             ],
             [
              0.7777777777777778,
              "#fb9f3a"
             ],
             [
              0.8888888888888888,
              "#fdca26"
             ],
             [
              1.0,
              "#f0f921"
             ]
            ],
            "type": "heatmap"
           }
          ],
          "heatmapgl": [
           {
            "colorbar": {
             "outlinewidth": 0,
             "ticks": ""
            },
            "colorscale": [
             [
              0.0,
              "#0d0887"
             ],
             [
              0.1111111111111111,
              "#46039f"
             ],
             [
              0.2222222222222222,
              "#7201a8"
             ],
             [
              0.3333333333333333,
              "#9c179e"
             ],
             [
              0.4444444444444444,
              "#bd3786"
             ],
             [
              0.5555555555555556,
              "#d8576b"
             ],
             [
              0.6666666666666666,
              "#ed7953"
             ],
             [
              0.7777777777777778,
              "#fb9f3a"
             ],
             [
              0.8888888888888888,
              "#fdca26"
             ],
             [
              1.0,
              "#f0f921"
             ]
            ],
            "type": "heatmapgl"
           }
          ],
          "histogram": [
           {
            "marker": {
             "pattern": {
              "fillmode": "overlay",
              "size": 10,
              "solidity": 0.2
             }
            },
            "type": "histogram"
           }
          ],
          "histogram2d": [
           {
            "colorbar": {
             "outlinewidth": 0,
             "ticks": ""
            },
            "colorscale": [
             [
              0.0,
              "#0d0887"
             ],
             [
              0.1111111111111111,
              "#46039f"
             ],
             [
              0.2222222222222222,
              "#7201a8"
             ],
             [
              0.3333333333333333,
              "#9c179e"
             ],
             [
              0.4444444444444444,
              "#bd3786"
             ],
             [
              0.5555555555555556,
              "#d8576b"
             ],
             [
              0.6666666666666666,
              "#ed7953"
             ],
             [
              0.7777777777777778,
              "#fb9f3a"
             ],
             [
              0.8888888888888888,
              "#fdca26"
             ],
             [
              1.0,
              "#f0f921"
             ]
            ],
            "type": "histogram2d"
           }
          ],
          "histogram2dcontour": [
           {
            "colorbar": {
             "outlinewidth": 0,
             "ticks": ""
            },
            "colorscale": [
             [
              0.0,
              "#0d0887"
             ],
             [
              0.1111111111111111,
              "#46039f"
             ],
             [
              0.2222222222222222,
              "#7201a8"
             ],
             [
              0.3333333333333333,
              "#9c179e"
             ],
             [
              0.4444444444444444,
              "#bd3786"
             ],
             [
              0.5555555555555556,
              "#d8576b"
             ],
             [
              0.6666666666666666,
              "#ed7953"
             ],
             [
              0.7777777777777778,
              "#fb9f3a"
             ],
             [
              0.8888888888888888,
              "#fdca26"
             ],
             [
              1.0,
              "#f0f921"
             ]
            ],
            "type": "histogram2dcontour"
           }
          ],
          "mesh3d": [
           {
            "colorbar": {
             "outlinewidth": 0,
             "ticks": ""
            },
            "type": "mesh3d"
           }
          ],
          "parcoords": [
           {
            "line": {
             "colorbar": {
              "outlinewidth": 0,
              "ticks": ""
             }
            },
            "type": "parcoords"
           }
          ],
          "pie": [
           {
            "automargin": true,
            "type": "pie"
           }
          ],
          "scatter": [
           {
            "fillpattern": {
             "fillmode": "overlay",
             "size": 10,
             "solidity": 0.2
            },
            "type": "scatter"
           }
          ],
          "scatter3d": [
           {
            "line": {
             "colorbar": {
              "outlinewidth": 0,
              "ticks": ""
             }
            },
            "marker": {
             "colorbar": {
              "outlinewidth": 0,
              "ticks": ""
             }
            },
            "type": "scatter3d"
           }
          ],
          "scattercarpet": [
           {
            "marker": {
             "colorbar": {
              "outlinewidth": 0,
              "ticks": ""
             }
            },
            "type": "scattercarpet"
           }
          ],
          "scattergeo": [
           {
            "marker": {
             "colorbar": {
              "outlinewidth": 0,
              "ticks": ""
             }
            },
            "type": "scattergeo"
           }
          ],
          "scattergl": [
           {
            "marker": {
             "colorbar": {
              "outlinewidth": 0,
              "ticks": ""
             }
            },
            "type": "scattergl"
           }
          ],
          "scattermapbox": [
           {
            "marker": {
             "colorbar": {
              "outlinewidth": 0,
              "ticks": ""
             }
            },
            "type": "scattermapbox"
           }
          ],
          "scatterpolar": [
           {
            "marker": {
             "colorbar": {
              "outlinewidth": 0,
              "ticks": ""
             }
            },
            "type": "scatterpolar"
           }
          ],
          "scatterpolargl": [
           {
            "marker": {
             "colorbar": {
              "outlinewidth": 0,
              "ticks": ""
             }
            },
            "type": "scatterpolargl"
           }
          ],
          "scatterternary": [
           {
            "marker": {
             "colorbar": {
              "outlinewidth": 0,
              "ticks": ""
             }
            },
            "type": "scatterternary"
           }
          ],
          "surface": [
           {
            "colorbar": {
             "outlinewidth": 0,
             "ticks": ""
            },
            "colorscale": [
             [
              0.0,
              "#0d0887"
             ],
             [
              0.1111111111111111,
              "#46039f"
             ],
             [
              0.2222222222222222,
              "#7201a8"
             ],
             [
              0.3333333333333333,
              "#9c179e"
             ],
             [
              0.4444444444444444,
              "#bd3786"
             ],
             [
              0.5555555555555556,
              "#d8576b"
             ],
             [
              0.6666666666666666,
              "#ed7953"
             ],
             [
              0.7777777777777778,
              "#fb9f3a"
             ],
             [
              0.8888888888888888,
              "#fdca26"
             ],
             [
              1.0,
              "#f0f921"
             ]
            ],
            "type": "surface"
           }
          ],
          "table": [
           {
            "cells": {
             "fill": {
              "color": "#EBF0F8"
             },
             "line": {
              "color": "white"
             }
            },
            "header": {
             "fill": {
              "color": "#C8D4E3"
             },
             "line": {
              "color": "white"
             }
            },
            "type": "table"
           }
          ]
         },
         "layout": {
          "annotationdefaults": {
           "arrowcolor": "#2a3f5f",
           "arrowhead": 0,
           "arrowwidth": 1
          },
          "autotypenumbers": "strict",
          "coloraxis": {
           "colorbar": {
            "outlinewidth": 0,
            "ticks": ""
           }
          },
          "colorscale": {
           "diverging": [
            [
             0,
             "#8e0152"
            ],
            [
             0.1,
             "#c51b7d"
            ],
            [
             0.2,
             "#de77ae"
            ],
            [
             0.3,
             "#f1b6da"
            ],
            [
             0.4,
             "#fde0ef"
            ],
            [
             0.5,
             "#f7f7f7"
            ],
            [
             0.6,
             "#e6f5d0"
            ],
            [
             0.7,
             "#b8e186"
            ],
            [
             0.8,
             "#7fbc41"
            ],
            [
             0.9,
             "#4d9221"
            ],
            [
             1,
             "#276419"
            ]
           ],
           "sequential": [
            [
             0.0,
             "#0d0887"
            ],
            [
             0.1111111111111111,
             "#46039f"
            ],
            [
             0.2222222222222222,
             "#7201a8"
            ],
            [
             0.3333333333333333,
             "#9c179e"
            ],
            [
             0.4444444444444444,
             "#bd3786"
            ],
            [
             0.5555555555555556,
             "#d8576b"
            ],
            [
             0.6666666666666666,
             "#ed7953"
            ],
            [
             0.7777777777777778,
             "#fb9f3a"
            ],
            [
             0.8888888888888888,
             "#fdca26"
            ],
            [
             1.0,
             "#f0f921"
            ]
           ],
           "sequentialminus": [
            [
             0.0,
             "#0d0887"
            ],
            [
             0.1111111111111111,
             "#46039f"
            ],
            [
             0.2222222222222222,
             "#7201a8"
            ],
            [
             0.3333333333333333,
             "#9c179e"
            ],
            [
             0.4444444444444444,
             "#bd3786"
            ],
            [
             0.5555555555555556,
             "#d8576b"
            ],
            [
             0.6666666666666666,
             "#ed7953"
            ],
            [
             0.7777777777777778,
             "#fb9f3a"
            ],
            [
             0.8888888888888888,
             "#fdca26"
            ],
            [
             1.0,
             "#f0f921"
            ]
           ]
          },
          "colorway": [
           "#636efa",
           "#EF553B",
           "#00cc96",
           "#ab63fa",
           "#FFA15A",
           "#19d3f3",
           "#FF6692",
           "#B6E880",
           "#FF97FF",
           "#FECB52"
          ],
          "font": {
           "color": "#2a3f5f"
          },
          "geo": {
           "bgcolor": "white",
           "lakecolor": "white",
           "landcolor": "#E5ECF6",
           "showlakes": true,
           "showland": true,
           "subunitcolor": "white"
          },
          "hoverlabel": {
           "align": "left"
          },
          "hovermode": "closest",
          "mapbox": {
           "style": "light"
          },
          "paper_bgcolor": "white",
          "plot_bgcolor": "#E5ECF6",
          "polar": {
           "angularaxis": {
            "gridcolor": "white",
            "linecolor": "white",
            "ticks": ""
           },
           "bgcolor": "#E5ECF6",
           "radialaxis": {
            "gridcolor": "white",
            "linecolor": "white",
            "ticks": ""
           }
          },
          "scene": {
           "xaxis": {
            "backgroundcolor": "#E5ECF6",
            "gridcolor": "white",
            "gridwidth": 2,
            "linecolor": "white",
            "showbackground": true,
            "ticks": "",
            "zerolinecolor": "white"
           },
           "yaxis": {
            "backgroundcolor": "#E5ECF6",
            "gridcolor": "white",
            "gridwidth": 2,
            "linecolor": "white",
            "showbackground": true,
            "ticks": "",
            "zerolinecolor": "white"
           },
           "zaxis": {
            "backgroundcolor": "#E5ECF6",
            "gridcolor": "white",
            "gridwidth": 2,
            "linecolor": "white",
            "showbackground": true,
            "ticks": "",
            "zerolinecolor": "white"
           }
          },
          "shapedefaults": {
           "line": {
            "color": "#2a3f5f"
           }
          },
          "ternary": {
           "aaxis": {
            "gridcolor": "white",
            "linecolor": "white",
            "ticks": ""
           },
           "baxis": {
            "gridcolor": "white",
            "linecolor": "white",
            "ticks": ""
           },
           "bgcolor": "#E5ECF6",
           "caxis": {
            "gridcolor": "white",
            "linecolor": "white",
            "ticks": ""
           }
          },
          "title": {
           "x": 0.05
          },
          "xaxis": {
           "automargin": true,
           "gridcolor": "white",
           "linecolor": "white",
           "ticks": "",
           "title": {
            "standoff": 15
           },
           "zerolinecolor": "white",
           "zerolinewidth": 2
          },
          "yaxis": {
           "automargin": true,
           "gridcolor": "white",
           "linecolor": "white",
           "ticks": "",
           "title": {
            "standoff": 15
           },
           "zerolinecolor": "white",
           "zerolinewidth": 2
          }
         }
        },
        "title": {
         "text": "Citation and Teaching vs World Rank of Top 10 Universities"
        },
        "xaxis": {
         "ticklen": 5,
         "title": {
          "text": "World Rank"
         },
         "zeroline": false
        }
       }
      },
      "text/html": [
       "<div>                            <div id=\"3e034518-986f-49c9-9a90-efd80e8e58ce\" class=\"plotly-graph-div\" style=\"height:525px; width:100%;\"></div>            <script type=\"text/javascript\">                require([\"plotly\"], function(Plotly) {                    window.PLOTLYENV=window.PLOTLYENV || {};                                    if (document.getElementById(\"3e034518-986f-49c9-9a90-efd80e8e58ce\")) {                    Plotly.newPlot(                        \"3e034518-986f-49c9-9a90-efd80e8e58ce\",                        [{\"marker\":{\"color\":\"rgba(16,112,2,0.8)\"},\"mode\":\"lines\",\"name\":\"citations\",\"text\":[\"Harvard University\",\"California Institute of Technology\",\"Massachusetts Institute of Technology\",\"Stanford University\",\"Princeton University\",\"University of Cambridge\",\"University of Oxford\",\"University of California, Berkeley\",\"Imperial College London\",\"Yale University\",\"University of California, Los Angeles\",\"University of Chicago\",\"Johns Hopkins University\",\"Cornell University\",\"ETH Zurich – Swiss Federal Institute of Technology Zurich\",\"University of Michigan\",\"University of Toronto\",\"Columbia University\",\"University of Pennsylvania\",\"Carnegie Mellon University\",\"University of Hong Kong\",\"University College London\",\"University of Washington\",\"Duke University\",\"Northwestern University\",\"University of Tokyo\",\"Georgia Institute of Technology\",\"Pohang University of Science and Technology\",\"University of California, Santa Barbara\",\"University of British Columbia\",\"University of North Carolina at Chapel Hill\",\"University of California, San Diego\",\"University of Illinois at Urbana-Champaign\",\"National University of Singapore\",\"McGill University\",\"University of Melbourne\",\"Peking University\",\"Washington University in St Louis\",\"École Polytechnique\",\"University of Edinburgh\",\"Hong Kong University of Science and Technology\",\"École Normale Supérieure\",\"Australian National University\",\"Karolinska Institute\",\"University of Göttingen\",\"University of Wisconsin\",\"Rice University\",\"École Polytechnique Fédérale de Lausanne\",\"University of California, Irvine\",\"University of Science and Technology of China\",\"Vanderbilt University\",\"University of Minnesota\",\"Tufts University\",\"University of California, Davis\",\"Brown University\",\"University of Massachusetts\",\"Kyoto University\",\"Tsinghua University\",\"Boston University\",\"New York University\",\"Emory University\",\"LMU Munich\",\"University of Notre Dame\",\"University of Pittsburgh\",\"Case Western Reserve University\",\"Ohio State University\",\"University of Colorado Boulder\",\"University of Bristol\",\"University of California, Santa Cruz\",\"Yeshiva University\",\"University of Sydney\",\"University of Virginia\",\"University of Adelaide\",\"University of Southern California\",\"William & Mary\",\"Trinity College Dublin\",\"King’s College London\",\"Stony Brook University\",\"Korea Advanced Institute of Science and Technology (KAIST)\",\"University of Sussex\",\"The University of Queensland\",\"University of York\",\"Heidelberg University\",\"University of Utah\",\"Durham University\",\"London School of Economics and Political Science\",\"University of Manchester\",\"Royal Holloway, University of London\",\"Lund University\",\"University of Southampton\",\"University of Zurich\",\"Wake Forest University\",\"McMaster University\",\"University College Dublin\",\"George Washington University\",\"University of Arizona\",\"University of Basel\",\"University of Maryland, College Park\",\"Dartmouth College\",\"École Normale Supérieure de Lyon\"],\"x\":[\"1\",\"2\",\"3\",\"4\",\"5\",\"6\",\"6\",\"8\",\"9\",\"10\",\"11\",\"12\",\"13\",\"14\",\"15\",\"15\",\"17\",\"18\",\"19\",\"20\",\"21\",\"22\",\"23\",\"24\",\"25\",\"26\",\"27\",\"28\",\"29\",\"30\",\"30\",\"32\",\"33\",\"34\",\"35\",\"36\",\"37\",\"38\",\"39\",\"40\",\"41\",\"42\",\"43\",\"43\",\"43\",\"43\",\"47\",\"48\",\"49\",\"49\",\"51\",\"52\",\"53\",\"54\",\"55\",\"56\",\"57\",\"58\",\"59\",\"60\",\"61\",\"61\",\"63\",\"64\",\"65\",\"66\",\"67\",\"68\",\"68\",\"68\",\"71\",\"72\",\"73\",\"73\",\"75\",\"76\",\"77\",\"78\",\"79\",\"79\",\"81\",\"81\",\"83\",\"83\",\"85\",\"86\",\"87\",\"88\",\"89\",\"90\",\"90\",\"90\",\"93\",\"94\",\"95\",\"95\",\"95\",\"98\",\"99\",\"100\"],\"y\":[98.8,99.9,99.9,99.2,99.9,94.0,95.1,97.8,88.3,91.5,93.2,96.9,92.3,88.1,83.1,84.1,82.2,92.6,93.6,95.7,96.1,80.6,95.9,92.3,95.3,58.1,83.2,96.5,98.8,80.3,85.0,90.8,72.9,78.7,69.0,83.3,72.2,88.6,91.4,86.8,98.2,95.7,81.0,62.3,92.5,83.4,99.1,83.8,91.6,92.7,78.1,76.4,83.9,68.8,77.7,67.9,46.3,52.7,91.4,82.9,77.8,76.4,89.1,78.3,66.0,67.2,83.4,80.9,99.6,74.4,64.3,68.6,90.5,71.9,95.6,84.4,72.1,85.8,45.5,91.6,69.0,81.9,70.3,72.0,91.0,51.6,59.2,93.2,67.6,72.9,65.0,79.2,68.5,86.3,70.2,70.1,78.3,79.2,79.7,88.8],\"type\":\"scatter\"},{\"marker\":{\"color\":\"rgba(80,26,80,0.8)\"},\"mode\":\"lines+markers\",\"name\":\"teaching\",\"text\":[\"Harvard University\",\"California Institute of Technology\",\"Massachusetts Institute of Technology\",\"Stanford University\",\"Princeton University\",\"University of Cambridge\",\"University of Oxford\",\"University of California, Berkeley\",\"Imperial College London\",\"Yale University\",\"University of California, Los Angeles\",\"University of Chicago\",\"Johns Hopkins University\",\"Cornell University\",\"ETH Zurich – Swiss Federal Institute of Technology Zurich\",\"University of Michigan\",\"University of Toronto\",\"Columbia University\",\"University of Pennsylvania\",\"Carnegie Mellon University\",\"University of Hong Kong\",\"University College London\",\"University of Washington\",\"Duke University\",\"Northwestern University\",\"University of Tokyo\",\"Georgia Institute of Technology\",\"Pohang University of Science and Technology\",\"University of California, Santa Barbara\",\"University of British Columbia\",\"University of North Carolina at Chapel Hill\",\"University of California, San Diego\",\"University of Illinois at Urbana-Champaign\",\"National University of Singapore\",\"McGill University\",\"University of Melbourne\",\"Peking University\",\"Washington University in St Louis\",\"École Polytechnique\",\"University of Edinburgh\",\"Hong Kong University of Science and Technology\",\"École Normale Supérieure\",\"Australian National University\",\"Karolinska Institute\",\"University of Göttingen\",\"University of Wisconsin\",\"Rice University\",\"École Polytechnique Fédérale de Lausanne\",\"University of California, Irvine\",\"University of Science and Technology of China\",\"Vanderbilt University\",\"University of Minnesota\",\"Tufts University\",\"University of California, Davis\",\"Brown University\",\"University of Massachusetts\",\"Kyoto University\",\"Tsinghua University\",\"Boston University\",\"New York University\",\"Emory University\",\"LMU Munich\",\"University of Notre Dame\",\"University of Pittsburgh\",\"Case Western Reserve University\",\"Ohio State University\",\"University of Colorado Boulder\",\"University of Bristol\",\"University of California, Santa Cruz\",\"Yeshiva University\",\"University of Sydney\",\"University of Virginia\",\"University of Adelaide\",\"University of Southern California\",\"William & Mary\",\"Trinity College Dublin\",\"King’s College London\",\"Stony Brook University\",\"Korea Advanced Institute of Science and Technology (KAIST)\",\"University of Sussex\",\"The University of Queensland\",\"University of York\",\"Heidelberg University\",\"University of Utah\",\"Durham University\",\"London School of Economics and Political Science\",\"University of Manchester\",\"Royal Holloway, University of London\",\"Lund University\",\"University of Southampton\",\"University of Zurich\",\"Wake Forest University\",\"McMaster University\",\"University College Dublin\",\"George Washington University\",\"University of Arizona\",\"University of Basel\",\"University of Maryland, College Park\",\"Dartmouth College\",\"École Normale Supérieure de Lyon\"],\"x\":[\"1\",\"2\",\"3\",\"4\",\"5\",\"6\",\"6\",\"8\",\"9\",\"10\",\"11\",\"12\",\"13\",\"14\",\"15\",\"15\",\"17\",\"18\",\"19\",\"20\",\"21\",\"22\",\"23\",\"24\",\"25\",\"26\",\"27\",\"28\",\"29\",\"30\",\"30\",\"32\",\"33\",\"34\",\"35\",\"36\",\"37\",\"38\",\"39\",\"40\",\"41\",\"42\",\"43\",\"43\",\"43\",\"43\",\"47\",\"48\",\"49\",\"49\",\"51\",\"52\",\"53\",\"54\",\"55\",\"56\",\"57\",\"58\",\"59\",\"60\",\"61\",\"61\",\"63\",\"64\",\"65\",\"66\",\"67\",\"68\",\"68\",\"68\",\"71\",\"72\",\"73\",\"73\",\"75\",\"76\",\"77\",\"78\",\"79\",\"79\",\"81\",\"81\",\"83\",\"83\",\"85\",\"86\",\"87\",\"88\",\"89\",\"90\",\"90\",\"90\",\"93\",\"94\",\"95\",\"95\",\"95\",\"98\",\"99\",\"100\"],\"y\":[99.7,97.7,97.8,98.3,90.9,90.5,88.2,84.2,89.2,92.1,83.0,79.1,80.9,82.2,77.5,83.9,75.8,73.8,71.8,70.3,68.4,74.0,68.2,66.8,64.5,87.7,67.9,69.5,56.6,65.1,70.9,59.8,68.1,65.5,69.0,58.7,76.4,58.9,57.9,59.9,50.4,66.8,51.9,65.8,57.3,55.5,57.4,55.0,49.4,57.5,64.9,57.6,64.1,57.3,59.7,61.3,78.9,74.9,53.6,62.0,63.4,59.1,56.4,58.5,67.2,63.5,46.4,49.6,38.3,63.5,49.8,62.0,46.5,65.4,53.1,47.7,48.5,48.5,71.3,42.4,51.8,47.9,59.2,55.8,39.8,62.4,56.5,37.7,46.3,50.8,56.6,54.6,44.7,42.4,60.6,52.4,50.2,45.4,44.7,51.1],\"type\":\"scatter\"}],                        {\"template\":{\"data\":{\"barpolar\":[{\"marker\":{\"line\":{\"color\":\"#E5ECF6\",\"width\":0.5},\"pattern\":{\"fillmode\":\"overlay\",\"size\":10,\"solidity\":0.2}},\"type\":\"barpolar\"}],\"bar\":[{\"error_x\":{\"color\":\"#2a3f5f\"},\"error_y\":{\"color\":\"#2a3f5f\"},\"marker\":{\"line\":{\"color\":\"#E5ECF6\",\"width\":0.5},\"pattern\":{\"fillmode\":\"overlay\",\"size\":10,\"solidity\":0.2}},\"type\":\"bar\"}],\"carpet\":[{\"aaxis\":{\"endlinecolor\":\"#2a3f5f\",\"gridcolor\":\"white\",\"linecolor\":\"white\",\"minorgridcolor\":\"white\",\"startlinecolor\":\"#2a3f5f\"},\"baxis\":{\"endlinecolor\":\"#2a3f5f\",\"gridcolor\":\"white\",\"linecolor\":\"white\",\"minorgridcolor\":\"white\",\"startlinecolor\":\"#2a3f5f\"},\"type\":\"carpet\"}],\"choropleth\":[{\"colorbar\":{\"outlinewidth\":0,\"ticks\":\"\"},\"type\":\"choropleth\"}],\"contourcarpet\":[{\"colorbar\":{\"outlinewidth\":0,\"ticks\":\"\"},\"type\":\"contourcarpet\"}],\"contour\":[{\"colorbar\":{\"outlinewidth\":0,\"ticks\":\"\"},\"colorscale\":[[0.0,\"#0d0887\"],[0.1111111111111111,\"#46039f\"],[0.2222222222222222,\"#7201a8\"],[0.3333333333333333,\"#9c179e\"],[0.4444444444444444,\"#bd3786\"],[0.5555555555555556,\"#d8576b\"],[0.6666666666666666,\"#ed7953\"],[0.7777777777777778,\"#fb9f3a\"],[0.8888888888888888,\"#fdca26\"],[1.0,\"#f0f921\"]],\"type\":\"contour\"}],\"heatmapgl\":[{\"colorbar\":{\"outlinewidth\":0,\"ticks\":\"\"},\"colorscale\":[[0.0,\"#0d0887\"],[0.1111111111111111,\"#46039f\"],[0.2222222222222222,\"#7201a8\"],[0.3333333333333333,\"#9c179e\"],[0.4444444444444444,\"#bd3786\"],[0.5555555555555556,\"#d8576b\"],[0.6666666666666666,\"#ed7953\"],[0.7777777777777778,\"#fb9f3a\"],[0.8888888888888888,\"#fdca26\"],[1.0,\"#f0f921\"]],\"type\":\"heatmapgl\"}],\"heatmap\":[{\"colorbar\":{\"outlinewidth\":0,\"ticks\":\"\"},\"colorscale\":[[0.0,\"#0d0887\"],[0.1111111111111111,\"#46039f\"],[0.2222222222222222,\"#7201a8\"],[0.3333333333333333,\"#9c179e\"],[0.4444444444444444,\"#bd3786\"],[0.5555555555555556,\"#d8576b\"],[0.6666666666666666,\"#ed7953\"],[0.7777777777777778,\"#fb9f3a\"],[0.8888888888888888,\"#fdca26\"],[1.0,\"#f0f921\"]],\"type\":\"heatmap\"}],\"histogram2dcontour\":[{\"colorbar\":{\"outlinewidth\":0,\"ticks\":\"\"},\"colorscale\":[[0.0,\"#0d0887\"],[0.1111111111111111,\"#46039f\"],[0.2222222222222222,\"#7201a8\"],[0.3333333333333333,\"#9c179e\"],[0.4444444444444444,\"#bd3786\"],[0.5555555555555556,\"#d8576b\"],[0.6666666666666666,\"#ed7953\"],[0.7777777777777778,\"#fb9f3a\"],[0.8888888888888888,\"#fdca26\"],[1.0,\"#f0f921\"]],\"type\":\"histogram2dcontour\"}],\"histogram2d\":[{\"colorbar\":{\"outlinewidth\":0,\"ticks\":\"\"},\"colorscale\":[[0.0,\"#0d0887\"],[0.1111111111111111,\"#46039f\"],[0.2222222222222222,\"#7201a8\"],[0.3333333333333333,\"#9c179e\"],[0.4444444444444444,\"#bd3786\"],[0.5555555555555556,\"#d8576b\"],[0.6666666666666666,\"#ed7953\"],[0.7777777777777778,\"#fb9f3a\"],[0.8888888888888888,\"#fdca26\"],[1.0,\"#f0f921\"]],\"type\":\"histogram2d\"}],\"histogram\":[{\"marker\":{\"pattern\":{\"fillmode\":\"overlay\",\"size\":10,\"solidity\":0.2}},\"type\":\"histogram\"}],\"mesh3d\":[{\"colorbar\":{\"outlinewidth\":0,\"ticks\":\"\"},\"type\":\"mesh3d\"}],\"parcoords\":[{\"line\":{\"colorbar\":{\"outlinewidth\":0,\"ticks\":\"\"}},\"type\":\"parcoords\"}],\"pie\":[{\"automargin\":true,\"type\":\"pie\"}],\"scatter3d\":[{\"line\":{\"colorbar\":{\"outlinewidth\":0,\"ticks\":\"\"}},\"marker\":{\"colorbar\":{\"outlinewidth\":0,\"ticks\":\"\"}},\"type\":\"scatter3d\"}],\"scattercarpet\":[{\"marker\":{\"colorbar\":{\"outlinewidth\":0,\"ticks\":\"\"}},\"type\":\"scattercarpet\"}],\"scattergeo\":[{\"marker\":{\"colorbar\":{\"outlinewidth\":0,\"ticks\":\"\"}},\"type\":\"scattergeo\"}],\"scattergl\":[{\"marker\":{\"colorbar\":{\"outlinewidth\":0,\"ticks\":\"\"}},\"type\":\"scattergl\"}],\"scattermapbox\":[{\"marker\":{\"colorbar\":{\"outlinewidth\":0,\"ticks\":\"\"}},\"type\":\"scattermapbox\"}],\"scatterpolargl\":[{\"marker\":{\"colorbar\":{\"outlinewidth\":0,\"ticks\":\"\"}},\"type\":\"scatterpolargl\"}],\"scatterpolar\":[{\"marker\":{\"colorbar\":{\"outlinewidth\":0,\"ticks\":\"\"}},\"type\":\"scatterpolar\"}],\"scatter\":[{\"fillpattern\":{\"fillmode\":\"overlay\",\"size\":10,\"solidity\":0.2},\"type\":\"scatter\"}],\"scatterternary\":[{\"marker\":{\"colorbar\":{\"outlinewidth\":0,\"ticks\":\"\"}},\"type\":\"scatterternary\"}],\"surface\":[{\"colorbar\":{\"outlinewidth\":0,\"ticks\":\"\"},\"colorscale\":[[0.0,\"#0d0887\"],[0.1111111111111111,\"#46039f\"],[0.2222222222222222,\"#7201a8\"],[0.3333333333333333,\"#9c179e\"],[0.4444444444444444,\"#bd3786\"],[0.5555555555555556,\"#d8576b\"],[0.6666666666666666,\"#ed7953\"],[0.7777777777777778,\"#fb9f3a\"],[0.8888888888888888,\"#fdca26\"],[1.0,\"#f0f921\"]],\"type\":\"surface\"}],\"table\":[{\"cells\":{\"fill\":{\"color\":\"#EBF0F8\"},\"line\":{\"color\":\"white\"}},\"header\":{\"fill\":{\"color\":\"#C8D4E3\"},\"line\":{\"color\":\"white\"}},\"type\":\"table\"}]},\"layout\":{\"annotationdefaults\":{\"arrowcolor\":\"#2a3f5f\",\"arrowhead\":0,\"arrowwidth\":1},\"autotypenumbers\":\"strict\",\"coloraxis\":{\"colorbar\":{\"outlinewidth\":0,\"ticks\":\"\"}},\"colorscale\":{\"diverging\":[[0,\"#8e0152\"],[0.1,\"#c51b7d\"],[0.2,\"#de77ae\"],[0.3,\"#f1b6da\"],[0.4,\"#fde0ef\"],[0.5,\"#f7f7f7\"],[0.6,\"#e6f5d0\"],[0.7,\"#b8e186\"],[0.8,\"#7fbc41\"],[0.9,\"#4d9221\"],[1,\"#276419\"]],\"sequential\":[[0.0,\"#0d0887\"],[0.1111111111111111,\"#46039f\"],[0.2222222222222222,\"#7201a8\"],[0.3333333333333333,\"#9c179e\"],[0.4444444444444444,\"#bd3786\"],[0.5555555555555556,\"#d8576b\"],[0.6666666666666666,\"#ed7953\"],[0.7777777777777778,\"#fb9f3a\"],[0.8888888888888888,\"#fdca26\"],[1.0,\"#f0f921\"]],\"sequentialminus\":[[0.0,\"#0d0887\"],[0.1111111111111111,\"#46039f\"],[0.2222222222222222,\"#7201a8\"],[0.3333333333333333,\"#9c179e\"],[0.4444444444444444,\"#bd3786\"],[0.5555555555555556,\"#d8576b\"],[0.6666666666666666,\"#ed7953\"],[0.7777777777777778,\"#fb9f3a\"],[0.8888888888888888,\"#fdca26\"],[1.0,\"#f0f921\"]]},\"colorway\":[\"#636efa\",\"#EF553B\",\"#00cc96\",\"#ab63fa\",\"#FFA15A\",\"#19d3f3\",\"#FF6692\",\"#B6E880\",\"#FF97FF\",\"#FECB52\"],\"font\":{\"color\":\"#2a3f5f\"},\"geo\":{\"bgcolor\":\"white\",\"lakecolor\":\"white\",\"landcolor\":\"#E5ECF6\",\"showlakes\":true,\"showland\":true,\"subunitcolor\":\"white\"},\"hoverlabel\":{\"align\":\"left\"},\"hovermode\":\"closest\",\"mapbox\":{\"style\":\"light\"},\"paper_bgcolor\":\"white\",\"plot_bgcolor\":\"#E5ECF6\",\"polar\":{\"angularaxis\":{\"gridcolor\":\"white\",\"linecolor\":\"white\",\"ticks\":\"\"},\"bgcolor\":\"#E5ECF6\",\"radialaxis\":{\"gridcolor\":\"white\",\"linecolor\":\"white\",\"ticks\":\"\"}},\"scene\":{\"xaxis\":{\"backgroundcolor\":\"#E5ECF6\",\"gridcolor\":\"white\",\"gridwidth\":2,\"linecolor\":\"white\",\"showbackground\":true,\"ticks\":\"\",\"zerolinecolor\":\"white\"},\"yaxis\":{\"backgroundcolor\":\"#E5ECF6\",\"gridcolor\":\"white\",\"gridwidth\":2,\"linecolor\":\"white\",\"showbackground\":true,\"ticks\":\"\",\"zerolinecolor\":\"white\"},\"zaxis\":{\"backgroundcolor\":\"#E5ECF6\",\"gridcolor\":\"white\",\"gridwidth\":2,\"linecolor\":\"white\",\"showbackground\":true,\"ticks\":\"\",\"zerolinecolor\":\"white\"}},\"shapedefaults\":{\"line\":{\"color\":\"#2a3f5f\"}},\"ternary\":{\"aaxis\":{\"gridcolor\":\"white\",\"linecolor\":\"white\",\"ticks\":\"\"},\"baxis\":{\"gridcolor\":\"white\",\"linecolor\":\"white\",\"ticks\":\"\"},\"bgcolor\":\"#E5ECF6\",\"caxis\":{\"gridcolor\":\"white\",\"linecolor\":\"white\",\"ticks\":\"\"}},\"title\":{\"x\":0.05},\"xaxis\":{\"automargin\":true,\"gridcolor\":\"white\",\"linecolor\":\"white\",\"ticks\":\"\",\"title\":{\"standoff\":15},\"zerolinecolor\":\"white\",\"zerolinewidth\":2},\"yaxis\":{\"automargin\":true,\"gridcolor\":\"white\",\"linecolor\":\"white\",\"ticks\":\"\",\"title\":{\"standoff\":15},\"zerolinecolor\":\"white\",\"zerolinewidth\":2}}},\"title\":{\"text\":\"Citation and Teaching vs World Rank of Top 10 Universities\"},\"xaxis\":{\"ticklen\":5,\"title\":{\"text\":\"World Rank\"},\"zeroline\":false}},                        {\"responsive\": true}                    ).then(function(){\n",
       "                            \n",
       "var gd = document.getElementById('3e034518-986f-49c9-9a90-efd80e8e58ce');\n",
       "var x = new MutationObserver(function (mutations, observer) {{\n",
       "        var display = window.getComputedStyle(gd).display;\n",
       "        if (!display || display === 'none') {{\n",
       "            console.log([gd, 'removed!']);\n",
       "            Plotly.purge(gd);\n",
       "            observer.disconnect();\n",
       "        }}\n",
       "}});\n",
       "\n",
       "// Listen for the removal of the full notebook cells\n",
       "var notebookContainer = gd.closest('#notebook-container');\n",
       "if (notebookContainer) {{\n",
       "    x.observe(notebookContainer, {childList: true});\n",
       "}}\n",
       "\n",
       "// Listen for the clearing of the current output cell\n",
       "var outputEl = gd.closest('.output');\n",
       "if (outputEl) {{\n",
       "    x.observe(outputEl, {childList: true});\n",
       "}}\n",
       "\n",
       "                        })                };                });            </script>        </div>"
      ]
     },
     "metadata": {},
     "output_type": "display_data"
    }
   ],
   "source": [
    "df=timesData.iloc[:100,:]\n",
    "import plotly.graph_objs as go\n",
    "trace1=go.Scatter(\n",
    "                    x= df.world_rank,\n",
    "                    y= df.citations,   \n",
    "                    mode = \"lines\",\n",
    "                    name = \"citations\",\n",
    "                    marker=dict(color='rgba(16,112,2,0.8)'),  # hover text, grafikte bir noktaya gelince çıkan yazı arkaplanı\n",
    "                    text= df.university_name )\n",
    "# 1. grafik çizgisi alacağı değerler ve içeriği\n",
    "\n",
    "trace2= go.Scatter(\n",
    "                    x= df.world_rank,\n",
    "                    y= df.teaching,\n",
    "                    mode= \"lines+markers\",\n",
    "                    name=\"teaching\",\n",
    "                    marker= dict(color='rgba(80,26,80,0.8)'),    #rgb and opacity- alpha  \n",
    "                    text= df.university_name)\n",
    "# 2. grafik çizgisi alacağı değerler ve içeriği\n",
    "\n",
    "data=[trace1, trace2]  \n",
    "# data bu iki grafik çizgisinden oluşsun\n",
    "\n",
    "layout=dict(title='Citation and Teaching vs World Rank of Top 10 Universities',\n",
    "            xaxis= dict(title=\"World Rank\", ticklen=5, zeroline=False))\n",
    "            # yaxis'te citation ve teaching birlikte bulunmaktadır mor çizginin oranı teaching değerini yeşil çizginin oranı ise citations değerini aynı üniversite için vermektedir.\n",
    "fig= dict(data=data, layout=layout)  # figürü oluşturup\n",
    "iplot(fig) # plot ettirdik"
   ]
  },
  {
   "cell_type": "markdown",
   "id": "41f8ca5a",
   "metadata": {
    "papermill": {
     "duration": 0.014833,
     "end_time": "2022-08-02T12:20:52.162230",
     "exception": false,
     "start_time": "2022-08-02T12:20:52.147397",
     "status": "completed"
    },
    "tags": []
   },
   "source": [
    "Buradan yapabileceğimiz çıkarım şudur, üniversite sıralaması azaldıkça öğretim kalitesi azalırken, ünniversite yayınlarından alıntılama sayısı sıralamaya göre düşmüyor. "
   ]
  },
  {
   "cell_type": "markdown",
   "id": "79a24730",
   "metadata": {
    "papermill": {
     "duration": 0.014902,
     "end_time": "2022-08-02T12:20:52.193059",
     "exception": false,
     "start_time": "2022-08-02T12:20:52.178157",
     "status": "completed"
    },
    "tags": []
   },
   "source": [
    "## Scatter "
   ]
  },
  {
   "cell_type": "code",
   "execution_count": 5,
   "id": "6f84d2ac",
   "metadata": {
    "execution": {
     "iopub.execute_input": "2022-08-02T12:20:52.226232Z",
     "iopub.status.busy": "2022-08-02T12:20:52.225821Z",
     "iopub.status.idle": "2022-08-02T12:20:52.283103Z",
     "shell.execute_reply": "2022-08-02T12:20:52.281792Z"
    },
    "papermill": {
     "duration": 0.078326,
     "end_time": "2022-08-02T12:20:52.286902",
     "exception": false,
     "start_time": "2022-08-02T12:20:52.208576",
     "status": "completed"
    },
    "tags": []
   },
   "outputs": [
    {
     "data": {
      "application/vnd.plotly.v1+json": {
       "config": {
        "linkText": "Export to plot.ly",
        "plotlyServerURL": "https://plot.ly",
        "showLink": false
       },
       "data": [
        {
         "marker": {
          "color": "rgba(255,128,255,0.8)"
         },
         "mode": "markers",
         "name": "2014",
         "text": [
          "California Institute of Technology",
          "Harvard University",
          "University of Oxford",
          "Stanford University",
          "Massachusetts Institute of Technology",
          "Princeton University",
          "University of Cambridge",
          "University of California, Berkeley",
          "University of Chicago",
          "Imperial College London",
          "Yale University",
          "University of California, Los Angeles",
          "Columbia University",
          "ETH Zurich – Swiss Federal Institute of Technology Zurich",
          "Johns Hopkins University",
          "University of Pennsylvania",
          "Duke University",
          "University of Michigan",
          "Cornell University",
          "University of Toronto",
          "University College London",
          "Northwestern University",
          "University of Tokyo",
          "Carnegie Mellon University",
          "University of Washington",
          "National University of Singapore",
          "University of Texas at Austin",
          "Georgia Institute of Technology",
          "University of Illinois at Urbana-Champaign",
          "University of Wisconsin-Madison",
          "University of British Columbia",
          "London School of Economics and Political Science",
          "University of California, Santa Barbara",
          "University of Melbourne",
          "McGill University",
          "Karolinska Institute",
          "École Polytechnique Fédérale de Lausanne",
          "King’s College London",
          "University of Edinburgh",
          "New York University",
          "University of California, San Diego",
          "Washington University in St Louis",
          "University of Hong Kong",
          "Seoul National University",
          "Peking University",
          "University of Minnesota",
          "University of North Carolina at Chapel Hill",
          "Australian National University",
          "Pennsylvania State University",
          "Boston University",
          "Tsinghua University",
          "Brown University",
          "Kyoto University",
          "University of California, Davis",
          "LMU Munich",
          "Korea Advanced Institute of Science and Technology (KAIST)",
          "Hong Kong University of Science and Technology",
          "University of Manchester",
          "Ohio State University",
          "Pohang University of Science and Technology",
          "KU Leuven",
          "Purdue University",
          "The University of Queensland",
          "University of Göttingen",
          "Rice University",
          "École Normale Supérieure",
          "Leiden University",
          "Heidelberg University",
          "Delft University of Technology",
          "University of Southern California",
          "École Polytechnique",
          "University of Sydney",
          "Erasmus University Rotterdam",
          "University of Basel",
          "Utrecht University",
          "Nanyang Technological University",
          "Wageningen University and Research Center",
          "University of Pittsburgh",
          "University of Bristol",
          "Durham University",
          "Emory University",
          "Tufts University",
          "Michigan State University",
          "University of Amsterdam",
          "Ghent University",
          "Free University of Berlin",
          "Technical University of Munich",
          "Case Western Reserve University",
          "Vanderbilt University",
          "University of Notre Dame",
          "Monash University",
          "McMaster University",
          "University of California, Irvine",
          "Humboldt University of Berlin",
          "University of Rochester",
          "Pierre and Marie Curie University",
          "University of Colorado Boulder",
          "Maastricht University",
          "University of Groningen",
          "University of Helsinki"
         ],
         "type": "scatter",
         "x": [
          "1",
          "2",
          "2",
          "4",
          "5",
          "6",
          "7",
          "8",
          "9",
          "10",
          "11",
          "12",
          "13",
          "14",
          "15",
          "16",
          "17",
          "18",
          "19",
          "20",
          "21",
          "22",
          "23",
          "24",
          "25",
          "26",
          "27",
          "28",
          "29",
          "30",
          "31",
          "32",
          "33",
          "34",
          "35",
          "36",
          "37",
          "38",
          "39",
          "40",
          "40",
          "42",
          "43",
          "44",
          "45",
          "46",
          "47",
          "48",
          "49",
          "50",
          "50",
          "52",
          "52",
          "52",
          "55",
          "56",
          "57",
          "58",
          "59",
          "60",
          "61",
          "62",
          "63",
          "63",
          "65",
          "65",
          "67",
          "68",
          "69",
          "70",
          "70",
          "72",
          "73",
          "74",
          "74",
          "76",
          "77",
          "78",
          "79",
          "80",
          "80",
          "80",
          "83",
          "83",
          "85",
          "86",
          "87",
          "88",
          "88",
          "90",
          "91",
          "92",
          "93",
          "94",
          "95",
          "96",
          "97",
          "98",
          "98",
          "100"
         ],
         "y": [
          99.8,
          99.1,
          95.4,
          99.1,
          100.0,
          99.7,
          95.7,
          99.3,
          98.0,
          90.0,
          93.5,
          95.6,
          95.6,
          85.0,
          95.0,
          95.0,
          96.7,
          90.8,
          90.8,
          84.5,
          84.1,
          97.1,
          69.8,
          93.9,
          95.6,
          66.4,
          91.3,
          87.9,
          79.4,
          87.2,
          83.7,
          69.2,
          99.4,
          80.2,
          74.5,
          76.0,
          95.9,
          87.6,
          87.6,
          87.9,
          96.7,
          96.4,
          61.5,
          47.3,
          62.8,
          81.2,
          90.2,
          71.2,
          79.4,
          95.3,
          59.9,
          91.3,
          58.2,
          81.2,
          83.3,
          67.0,
          72.3,
          77.3,
          79.4,
          85.7,
          72.9,
          67.0,
          73.3,
          89.6,
          99.9,
          87.0,
          84.2,
          76.0,
          47.2,
          81.2,
          82.3,
          66.6,
          81.2,
          81.4,
          82.0,
          67.5,
          74.1,
          84.4,
          84.9,
          88.2,
          90.8,
          93.9,
          71.5,
          75.0,
          74.9,
          64.8,
          80.7,
          82.8,
          86.5,
          91.8,
          65.4,
          79.4,
          89.7,
          68.4,
          89.7,
          82.3,
          97.3,
          65.8,
          71.1,
          77.8
         ]
        },
        {
         "marker": {
          "color": "rgba(255,128,2,0.8)"
         },
         "mode": "markers",
         "name": "2015",
         "text": [
          "California Institute of Technology",
          "Harvard University",
          "University of Oxford",
          "Stanford University",
          "University of Cambridge",
          "Massachusetts Institute of Technology",
          "Princeton University",
          "University of California, Berkeley",
          "Imperial College London",
          "Yale University",
          "University of Chicago",
          "University of California, Los Angeles",
          "ETH Zurich – Swiss Federal Institute of Technology Zurich",
          "Columbia University",
          "Johns Hopkins University",
          "University of Pennsylvania",
          "University of Michigan",
          "Duke University",
          "Cornell University",
          "University of Toronto",
          "Northwestern University",
          "University College London",
          "University of Tokyo",
          "Carnegie Mellon University",
          "National University of Singapore",
          "University of Washington",
          "Georgia Institute of Technology",
          "University of Texas at Austin",
          "LMU Munich",
          "University of Illinois at Urbana-Champaign",
          "University of Wisconsin-Madison",
          "University of British Columbia",
          "University of Melbourne",
          "London School of Economics and Political Science",
          "École Polytechnique Fédérale de Lausanne",
          "University of Edinburgh",
          "University of California, Santa Barbara",
          "New York University",
          "McGill University",
          "King’s College London",
          "University of California, San Diego",
          "Washington University in St Louis",
          "University of Hong Kong",
          "Karolinska Institute",
          "Australian National University",
          "University of Minnesota",
          "University of North Carolina at Chapel Hill",
          "Peking University",
          "Tsinghua University",
          "Seoul National University",
          "Hong Kong University of Science and Technology",
          "Korea Advanced Institute of Science and Technology (KAIST)",
          "University of Manchester",
          "Brown University",
          "KU Leuven",
          "University of California, Davis",
          "Boston University",
          "Pennsylvania State University",
          "Kyoto University",
          "University of Sydney",
          "Nanyang Technological University",
          "École Polytechnique",
          "Scuola Normale Superiore di Pisa",
          "Leiden University",
          "The University of Queensland",
          "Pohang University of Science and Technology",
          "University of Göttingen",
          "Ohio State University",
          "Rice University",
          "Heidelberg University",
          "Delft University of Technology",
          "Erasmus University Rotterdam",
          "Wageningen University and Research Center",
          "University of Bristol",
          "University of Basel",
          "University of Southern California",
          "University of Amsterdam",
          "École Normale Supérieure",
          "Utrecht University",
          "Humboldt University of Berlin",
          "Free University of Berlin",
          "Michigan State University",
          "Durham University",
          "Monash University",
          "Middle East Technical University",
          "University of Arizona",
          "University of Notre Dame",
          "Tufts University",
          "University of California, Irvine",
          "Ghent University",
          "University of Massachusetts",
          "University of Pittsburgh",
          "Emory University",
          "McMaster University",
          "University of Glasgow",
          "Vanderbilt University",
          "University of Colorado Boulder",
          "Stockholm University",
          "Technical University of Munich",
          "Uppsala University"
         ],
         "type": "scatter",
         "x": [
          "1",
          "2",
          "3",
          "4",
          "5",
          "6",
          "7",
          "8",
          "9",
          "9",
          "11",
          "12",
          "13",
          "14",
          "15",
          "16",
          "17",
          "18",
          "19",
          "20",
          "21",
          "22",
          "23",
          "24",
          "25",
          "26",
          "27",
          "28",
          "29",
          "29",
          "29",
          "32",
          "33",
          "34",
          "34",
          "36",
          "37",
          "38",
          "39",
          "40",
          "41",
          "42",
          "43",
          "44",
          "45",
          "46",
          "46",
          "48",
          "49",
          "50",
          "51",
          "52",
          "52",
          "54",
          "55",
          "55",
          "57",
          "58",
          "59",
          "60",
          "61",
          "61",
          "63",
          "64",
          "65",
          "66",
          "67",
          "68",
          "69",
          "70",
          "71",
          "72",
          "73",
          "74",
          "75",
          "75",
          "77",
          "78",
          "79",
          "80",
          "81",
          "82",
          "83",
          "83",
          "85",
          "86",
          "86",
          "88",
          "88",
          "90",
          "91",
          "91",
          "93",
          "94",
          "94",
          "96",
          "97",
          "98",
          "98",
          "98"
         ],
         "y": [
          99.7,
          98.9,
          95.5,
          99.1,
          95.2,
          100.0,
          99.6,
          99.1,
          89.4,
          94.0,
          97.3,
          95.3,
          83.5,
          95.3,
          93.6,
          94.4,
          88.9,
          96.6,
          91.5,
          83.0,
          96.9,
          85.1,
          74.7,
          92.0,
          66.0,
          95.0,
          85.8,
          91.5,
          83.0,
          77.8,
          87.7,
          85.3,
          80.6,
          71.3,
          95.0,
          88.3,
          99.2,
          89.5,
          76.0,
          88.3,
          96.4,
          97.1,
          65.1,
          76.8,
          71.1,
          82.9,
          91.0,
          63.7,
          65.0,
          48.7,
          72.9,
          71.4,
          74.3,
          92.0,
          71.8,
          80.4,
          94.4,
          76.0,
          57.0,
          69.0,
          75.9,
          79.9,
          96.4,
          82.3,
          74.2,
          84.4,
          92.3,
          80.4,
          99.9,
          81.4,
          42.6,
          82.3,
          77.5,
          85.1,
          81.4,
          81.3,
          76.6,
          84.8,
          80.0,
          71.9,
          67.6,
          74.0,
          88.9,
          65.7,
          92.0,
          74.0,
          90.0,
          92.9,
          89.5,
          73.8,
          78.7,
          84.4,
          89.5,
          78.8,
          83.7,
          87.7,
          97.4,
          90.9,
          78.8,
          70.9
         ]
        },
        {
         "marker": {
          "color": "rgba(0,255,200,0.8)"
         },
         "mode": "markers",
         "name": "2016",
         "text": [
          "California Institute of Technology",
          "University of Oxford",
          "Stanford University",
          "University of Cambridge",
          "Massachusetts Institute of Technology",
          "Harvard University",
          "Princeton University",
          "Imperial College London",
          "ETH Zurich – Swiss Federal Institute of Technology Zurich",
          "University of Chicago",
          "Johns Hopkins University",
          "Yale University",
          "University of California, Berkeley",
          "University College London",
          "Columbia University",
          "University of California, Los Angeles",
          "University of Pennsylvania",
          "Cornell University",
          "University of Toronto",
          "Duke University",
          "University of Michigan",
          "Carnegie Mellon University",
          "London School of Economics and Political Science",
          "University of Edinburgh",
          "Northwestern University",
          "National University of Singapore",
          "King’s College London",
          "Karolinska Institute",
          "LMU Munich",
          "New York University",
          "École Polytechnique Fédérale de Lausanne",
          "University of Washington",
          "University of Melbourne",
          "University of British Columbia",
          "KU Leuven",
          "University of Illinois at Urbana-Champaign",
          "Heidelberg University",
          "McGill University",
          "University of California, San Diego",
          "University of California, Santa Barbara",
          "Georgia Institute of Technology",
          "Peking University",
          "University of Tokyo",
          "University of California, Davis",
          "University of Hong Kong",
          "University of Texas at Austin",
          "Tsinghua University",
          "Wageningen University and Research Center",
          "Humboldt University of Berlin",
          "University of Wisconsin-Madison",
          "Brown University",
          "Australian National University",
          "Technical University of Munich",
          "École Normale Supérieure",
          "Nanyang Technological University",
          "University of Manchester",
          "University of Sydney",
          "University of Amsterdam",
          "Hong Kong University of Science and Technology",
          "The University of Queensland",
          "Washington University in St Louis",
          "Utrecht University",
          "University of North Carolina at Chapel Hill",
          "Boston University",
          "Delft University of Technology",
          "University of Minnesota",
          "Leiden University",
          "University of Southern California",
          "University of Bristol",
          "Durham University",
          "Erasmus University Rotterdam",
          "Free University of Berlin",
          "Monash University",
          "University of Groningen",
          "Pennsylvania State University",
          "University of Glasgow",
          "University of Helsinki",
          "University of Tübingen",
          "University of Pittsburgh",
          "University of Warwick",
          "Uppsala University",
          "University of Copenhagen",
          "University of New South Wales",
          "University of Freiburg",
          "Seoul National University",
          "University of St Andrews",
          "Vanderbilt University",
          "Kyoto University",
          "Maastricht University",
          "Emory University",
          "Lund University",
          "Ohio State University",
          "University of Exeter",
          "University of Bonn",
          "Georgetown University",
          "McMaster University",
          "University of Sheffield",
          "Queen Mary University of London",
          "University of Göttingen",
          "Michigan State University"
         ],
         "type": "scatter",
         "x": [
          "1",
          "2",
          "3",
          "4",
          "5",
          "6",
          "7",
          "8",
          "9",
          "10",
          "11",
          "12",
          "13",
          "14",
          "15",
          "16",
          "17",
          "18",
          "19",
          "20",
          "21",
          "22",
          "23",
          "24",
          "25",
          "26",
          "27",
          "28",
          "29",
          "30",
          "31",
          "32",
          "33",
          "34",
          "35",
          "36",
          "37",
          "38",
          "=39",
          "=39",
          "41",
          "42",
          "43",
          "=44",
          "=44",
          "46",
          "=47",
          "=47",
          "49",
          "50",
          "51",
          "52",
          "53",
          "54",
          "55",
          "=56",
          "=56",
          "58",
          "59",
          "=60",
          "=60",
          "62",
          "63",
          "64",
          "=65",
          "=65",
          "67",
          "68",
          "69",
          "70",
          "71",
          "72",
          "73",
          "74",
          "75",
          "=76",
          "=76",
          "78",
          "79",
          "80",
          "81",
          "=82",
          "=82",
          "84",
          "85",
          "86",
          "87",
          "=88",
          "=88",
          "=90",
          "=90",
          "=90",
          "93",
          "=94",
          "=94",
          "=94",
          "97",
          "98",
          "=99",
          "=99"
         ],
         "y": [
          99.8,
          98.8,
          99.9,
          97.0,
          99.7,
          99.8,
          99.3,
          96.7,
          91.1,
          99.2,
          98.2,
          97.2,
          99.7,
          94.2,
          98.1,
          98.5,
          98.6,
          97.2,
          90.9,
          99.0,
          94.4,
          99.1,
          94.3,
          96.3,
          96.5,
          79.4,
          93.8,
          92.2,
          85.7,
          95.3,
          94.6,
          98.6,
          86.6,
          91.5,
          87.3,
          86.8,
          88.2,
          78.9,
          98.7,
          99.2,
          86.0,
          69.1,
          60.9,
          84.3,
          70.1,
          92.2,
          58.8,
          87.8,
          73.6,
          86.6,
          96.4,
          72.3,
          80.1,
          87.1,
          85.6,
          77.3,
          77.5,
          87.4,
          82.6,
          82.4,
          99.2,
          88.1,
          95.9,
          97.7,
          61.5,
          88.0,
          85.2,
          93.0,
          91.2,
          87.7,
          95.6,
          60.2,
          73.3,
          84.0,
          80.5,
          92.3,
          82.1,
          79.3,
          92.3,
          78.2,
          80.9,
          86.2,
          82.1,
          80.5,
          50.0,
          78.8,
          95.7,
          46.6,
          82.7,
          96.7,
          81.3,
          83.2,
          94.3,
          85.3,
          82.5,
          84.9,
          80.1,
          93.3,
          72.7,
          76.8
         ]
        }
       ],
       "layout": {
        "template": {
         "data": {
          "bar": [
           {
            "error_x": {
             "color": "#2a3f5f"
            },
            "error_y": {
             "color": "#2a3f5f"
            },
            "marker": {
             "line": {
              "color": "#E5ECF6",
              "width": 0.5
             },
             "pattern": {
              "fillmode": "overlay",
              "size": 10,
              "solidity": 0.2
             }
            },
            "type": "bar"
           }
          ],
          "barpolar": [
           {
            "marker": {
             "line": {
              "color": "#E5ECF6",
              "width": 0.5
             },
             "pattern": {
              "fillmode": "overlay",
              "size": 10,
              "solidity": 0.2
             }
            },
            "type": "barpolar"
           }
          ],
          "carpet": [
           {
            "aaxis": {
             "endlinecolor": "#2a3f5f",
             "gridcolor": "white",
             "linecolor": "white",
             "minorgridcolor": "white",
             "startlinecolor": "#2a3f5f"
            },
            "baxis": {
             "endlinecolor": "#2a3f5f",
             "gridcolor": "white",
             "linecolor": "white",
             "minorgridcolor": "white",
             "startlinecolor": "#2a3f5f"
            },
            "type": "carpet"
           }
          ],
          "choropleth": [
           {
            "colorbar": {
             "outlinewidth": 0,
             "ticks": ""
            },
            "type": "choropleth"
           }
          ],
          "contour": [
           {
            "colorbar": {
             "outlinewidth": 0,
             "ticks": ""
            },
            "colorscale": [
             [
              0.0,
              "#0d0887"
             ],
             [
              0.1111111111111111,
              "#46039f"
             ],
             [
              0.2222222222222222,
              "#7201a8"
             ],
             [
              0.3333333333333333,
              "#9c179e"
             ],
             [
              0.4444444444444444,
              "#bd3786"
             ],
             [
              0.5555555555555556,
              "#d8576b"
             ],
             [
              0.6666666666666666,
              "#ed7953"
             ],
             [
              0.7777777777777778,
              "#fb9f3a"
             ],
             [
              0.8888888888888888,
              "#fdca26"
             ],
             [
              1.0,
              "#f0f921"
             ]
            ],
            "type": "contour"
           }
          ],
          "contourcarpet": [
           {
            "colorbar": {
             "outlinewidth": 0,
             "ticks": ""
            },
            "type": "contourcarpet"
           }
          ],
          "heatmap": [
           {
            "colorbar": {
             "outlinewidth": 0,
             "ticks": ""
            },
            "colorscale": [
             [
              0.0,
              "#0d0887"
             ],
             [
              0.1111111111111111,
              "#46039f"
             ],
             [
              0.2222222222222222,
              "#7201a8"
             ],
             [
              0.3333333333333333,
              "#9c179e"
             ],
             [
              0.4444444444444444,
              "#bd3786"
             ],
             [
              0.5555555555555556,
              "#d8576b"
             ],
             [
              0.6666666666666666,
              "#ed7953"
             ],
             [
              0.7777777777777778,
              "#fb9f3a"
             ],
             [
              0.8888888888888888,
              "#fdca26"
             ],
             [
              1.0,
              "#f0f921"
             ]
            ],
            "type": "heatmap"
           }
          ],
          "heatmapgl": [
           {
            "colorbar": {
             "outlinewidth": 0,
             "ticks": ""
            },
            "colorscale": [
             [
              0.0,
              "#0d0887"
             ],
             [
              0.1111111111111111,
              "#46039f"
             ],
             [
              0.2222222222222222,
              "#7201a8"
             ],
             [
              0.3333333333333333,
              "#9c179e"
             ],
             [
              0.4444444444444444,
              "#bd3786"
             ],
             [
              0.5555555555555556,
              "#d8576b"
             ],
             [
              0.6666666666666666,
              "#ed7953"
             ],
             [
              0.7777777777777778,
              "#fb9f3a"
             ],
             [
              0.8888888888888888,
              "#fdca26"
             ],
             [
              1.0,
              "#f0f921"
             ]
            ],
            "type": "heatmapgl"
           }
          ],
          "histogram": [
           {
            "marker": {
             "pattern": {
              "fillmode": "overlay",
              "size": 10,
              "solidity": 0.2
             }
            },
            "type": "histogram"
           }
          ],
          "histogram2d": [
           {
            "colorbar": {
             "outlinewidth": 0,
             "ticks": ""
            },
            "colorscale": [
             [
              0.0,
              "#0d0887"
             ],
             [
              0.1111111111111111,
              "#46039f"
             ],
             [
              0.2222222222222222,
              "#7201a8"
             ],
             [
              0.3333333333333333,
              "#9c179e"
             ],
             [
              0.4444444444444444,
              "#bd3786"
             ],
             [
              0.5555555555555556,
              "#d8576b"
             ],
             [
              0.6666666666666666,
              "#ed7953"
             ],
             [
              0.7777777777777778,
              "#fb9f3a"
             ],
             [
              0.8888888888888888,
              "#fdca26"
             ],
             [
              1.0,
              "#f0f921"
             ]
            ],
            "type": "histogram2d"
           }
          ],
          "histogram2dcontour": [
           {
            "colorbar": {
             "outlinewidth": 0,
             "ticks": ""
            },
            "colorscale": [
             [
              0.0,
              "#0d0887"
             ],
             [
              0.1111111111111111,
              "#46039f"
             ],
             [
              0.2222222222222222,
              "#7201a8"
             ],
             [
              0.3333333333333333,
              "#9c179e"
             ],
             [
              0.4444444444444444,
              "#bd3786"
             ],
             [
              0.5555555555555556,
              "#d8576b"
             ],
             [
              0.6666666666666666,
              "#ed7953"
             ],
             [
              0.7777777777777778,
              "#fb9f3a"
             ],
             [
              0.8888888888888888,
              "#fdca26"
             ],
             [
              1.0,
              "#f0f921"
             ]
            ],
            "type": "histogram2dcontour"
           }
          ],
          "mesh3d": [
           {
            "colorbar": {
             "outlinewidth": 0,
             "ticks": ""
            },
            "type": "mesh3d"
           }
          ],
          "parcoords": [
           {
            "line": {
             "colorbar": {
              "outlinewidth": 0,
              "ticks": ""
             }
            },
            "type": "parcoords"
           }
          ],
          "pie": [
           {
            "automargin": true,
            "type": "pie"
           }
          ],
          "scatter": [
           {
            "fillpattern": {
             "fillmode": "overlay",
             "size": 10,
             "solidity": 0.2
            },
            "type": "scatter"
           }
          ],
          "scatter3d": [
           {
            "line": {
             "colorbar": {
              "outlinewidth": 0,
              "ticks": ""
             }
            },
            "marker": {
             "colorbar": {
              "outlinewidth": 0,
              "ticks": ""
             }
            },
            "type": "scatter3d"
           }
          ],
          "scattercarpet": [
           {
            "marker": {
             "colorbar": {
              "outlinewidth": 0,
              "ticks": ""
             }
            },
            "type": "scattercarpet"
           }
          ],
          "scattergeo": [
           {
            "marker": {
             "colorbar": {
              "outlinewidth": 0,
              "ticks": ""
             }
            },
            "type": "scattergeo"
           }
          ],
          "scattergl": [
           {
            "marker": {
             "colorbar": {
              "outlinewidth": 0,
              "ticks": ""
             }
            },
            "type": "scattergl"
           }
          ],
          "scattermapbox": [
           {
            "marker": {
             "colorbar": {
              "outlinewidth": 0,
              "ticks": ""
             }
            },
            "type": "scattermapbox"
           }
          ],
          "scatterpolar": [
           {
            "marker": {
             "colorbar": {
              "outlinewidth": 0,
              "ticks": ""
             }
            },
            "type": "scatterpolar"
           }
          ],
          "scatterpolargl": [
           {
            "marker": {
             "colorbar": {
              "outlinewidth": 0,
              "ticks": ""
             }
            },
            "type": "scatterpolargl"
           }
          ],
          "scatterternary": [
           {
            "marker": {
             "colorbar": {
              "outlinewidth": 0,
              "ticks": ""
             }
            },
            "type": "scatterternary"
           }
          ],
          "surface": [
           {
            "colorbar": {
             "outlinewidth": 0,
             "ticks": ""
            },
            "colorscale": [
             [
              0.0,
              "#0d0887"
             ],
             [
              0.1111111111111111,
              "#46039f"
             ],
             [
              0.2222222222222222,
              "#7201a8"
             ],
             [
              0.3333333333333333,
              "#9c179e"
             ],
             [
              0.4444444444444444,
              "#bd3786"
             ],
             [
              0.5555555555555556,
              "#d8576b"
             ],
             [
              0.6666666666666666,
              "#ed7953"
             ],
             [
              0.7777777777777778,
              "#fb9f3a"
             ],
             [
              0.8888888888888888,
              "#fdca26"
             ],
             [
              1.0,
              "#f0f921"
             ]
            ],
            "type": "surface"
           }
          ],
          "table": [
           {
            "cells": {
             "fill": {
              "color": "#EBF0F8"
             },
             "line": {
              "color": "white"
             }
            },
            "header": {
             "fill": {
              "color": "#C8D4E3"
             },
             "line": {
              "color": "white"
             }
            },
            "type": "table"
           }
          ]
         },
         "layout": {
          "annotationdefaults": {
           "arrowcolor": "#2a3f5f",
           "arrowhead": 0,
           "arrowwidth": 1
          },
          "autotypenumbers": "strict",
          "coloraxis": {
           "colorbar": {
            "outlinewidth": 0,
            "ticks": ""
           }
          },
          "colorscale": {
           "diverging": [
            [
             0,
             "#8e0152"
            ],
            [
             0.1,
             "#c51b7d"
            ],
            [
             0.2,
             "#de77ae"
            ],
            [
             0.3,
             "#f1b6da"
            ],
            [
             0.4,
             "#fde0ef"
            ],
            [
             0.5,
             "#f7f7f7"
            ],
            [
             0.6,
             "#e6f5d0"
            ],
            [
             0.7,
             "#b8e186"
            ],
            [
             0.8,
             "#7fbc41"
            ],
            [
             0.9,
             "#4d9221"
            ],
            [
             1,
             "#276419"
            ]
           ],
           "sequential": [
            [
             0.0,
             "#0d0887"
            ],
            [
             0.1111111111111111,
             "#46039f"
            ],
            [
             0.2222222222222222,
             "#7201a8"
            ],
            [
             0.3333333333333333,
             "#9c179e"
            ],
            [
             0.4444444444444444,
             "#bd3786"
            ],
            [
             0.5555555555555556,
             "#d8576b"
            ],
            [
             0.6666666666666666,
             "#ed7953"
            ],
            [
             0.7777777777777778,
             "#fb9f3a"
            ],
            [
             0.8888888888888888,
             "#fdca26"
            ],
            [
             1.0,
             "#f0f921"
            ]
           ],
           "sequentialminus": [
            [
             0.0,
             "#0d0887"
            ],
            [
             0.1111111111111111,
             "#46039f"
            ],
            [
             0.2222222222222222,
             "#7201a8"
            ],
            [
             0.3333333333333333,
             "#9c179e"
            ],
            [
             0.4444444444444444,
             "#bd3786"
            ],
            [
             0.5555555555555556,
             "#d8576b"
            ],
            [
             0.6666666666666666,
             "#ed7953"
            ],
            [
             0.7777777777777778,
             "#fb9f3a"
            ],
            [
             0.8888888888888888,
             "#fdca26"
            ],
            [
             1.0,
             "#f0f921"
            ]
           ]
          },
          "colorway": [
           "#636efa",
           "#EF553B",
           "#00cc96",
           "#ab63fa",
           "#FFA15A",
           "#19d3f3",
           "#FF6692",
           "#B6E880",
           "#FF97FF",
           "#FECB52"
          ],
          "font": {
           "color": "#2a3f5f"
          },
          "geo": {
           "bgcolor": "white",
           "lakecolor": "white",
           "landcolor": "#E5ECF6",
           "showlakes": true,
           "showland": true,
           "subunitcolor": "white"
          },
          "hoverlabel": {
           "align": "left"
          },
          "hovermode": "closest",
          "mapbox": {
           "style": "light"
          },
          "paper_bgcolor": "white",
          "plot_bgcolor": "#E5ECF6",
          "polar": {
           "angularaxis": {
            "gridcolor": "white",
            "linecolor": "white",
            "ticks": ""
           },
           "bgcolor": "#E5ECF6",
           "radialaxis": {
            "gridcolor": "white",
            "linecolor": "white",
            "ticks": ""
           }
          },
          "scene": {
           "xaxis": {
            "backgroundcolor": "#E5ECF6",
            "gridcolor": "white",
            "gridwidth": 2,
            "linecolor": "white",
            "showbackground": true,
            "ticks": "",
            "zerolinecolor": "white"
           },
           "yaxis": {
            "backgroundcolor": "#E5ECF6",
            "gridcolor": "white",
            "gridwidth": 2,
            "linecolor": "white",
            "showbackground": true,
            "ticks": "",
            "zerolinecolor": "white"
           },
           "zaxis": {
            "backgroundcolor": "#E5ECF6",
            "gridcolor": "white",
            "gridwidth": 2,
            "linecolor": "white",
            "showbackground": true,
            "ticks": "",
            "zerolinecolor": "white"
           }
          },
          "shapedefaults": {
           "line": {
            "color": "#2a3f5f"
           }
          },
          "ternary": {
           "aaxis": {
            "gridcolor": "white",
            "linecolor": "white",
            "ticks": ""
           },
           "baxis": {
            "gridcolor": "white",
            "linecolor": "white",
            "ticks": ""
           },
           "bgcolor": "#E5ECF6",
           "caxis": {
            "gridcolor": "white",
            "linecolor": "white",
            "ticks": ""
           }
          },
          "title": {
           "x": 0.05
          },
          "xaxis": {
           "automargin": true,
           "gridcolor": "white",
           "linecolor": "white",
           "ticks": "",
           "title": {
            "standoff": 15
           },
           "zerolinecolor": "white",
           "zerolinewidth": 2
          },
          "yaxis": {
           "automargin": true,
           "gridcolor": "white",
           "linecolor": "white",
           "ticks": "",
           "title": {
            "standoff": 15
           },
           "zerolinecolor": "white",
           "zerolinewidth": 2
          }
         }
        },
        "title": {
         "text": "Citation vs world rank of top 100 universities with 2014, 2015 and 2016 years"
        },
        "xaxis": {
         "ticklen": 5,
         "title": {
          "text": "World Rank"
         },
         "zeroline": false
        },
        "yaxis": {
         "ticklen": 5,
         "title": {
          "text": "Citation"
         },
         "zeroline": false
        }
       }
      },
      "text/html": [
       "<div>                            <div id=\"1e6f550b-1b23-4bf1-864b-371ba107a195\" class=\"plotly-graph-div\" style=\"height:525px; width:100%;\"></div>            <script type=\"text/javascript\">                require([\"plotly\"], function(Plotly) {                    window.PLOTLYENV=window.PLOTLYENV || {};                                    if (document.getElementById(\"1e6f550b-1b23-4bf1-864b-371ba107a195\")) {                    Plotly.newPlot(                        \"1e6f550b-1b23-4bf1-864b-371ba107a195\",                        [{\"marker\":{\"color\":\"rgba(255,128,255,0.8)\"},\"mode\":\"markers\",\"name\":\"2014\",\"text\":[\"California Institute of Technology\",\"Harvard University\",\"University of Oxford\",\"Stanford University\",\"Massachusetts Institute of Technology\",\"Princeton University\",\"University of Cambridge\",\"University of California, Berkeley\",\"University of Chicago\",\"Imperial College London\",\"Yale University\",\"University of California, Los Angeles\",\"Columbia University\",\"ETH Zurich – Swiss Federal Institute of Technology Zurich\",\"Johns Hopkins University\",\"University of Pennsylvania\",\"Duke University\",\"University of Michigan\",\"Cornell University\",\"University of Toronto\",\"University College London\",\"Northwestern University\",\"University of Tokyo\",\"Carnegie Mellon University\",\"University of Washington\",\"National University of Singapore\",\"University of Texas at Austin\",\"Georgia Institute of Technology\",\"University of Illinois at Urbana-Champaign\",\"University of Wisconsin-Madison\",\"University of British Columbia\",\"London School of Economics and Political Science\",\"University of California, Santa Barbara\",\"University of Melbourne\",\"McGill University\",\"Karolinska Institute\",\"École Polytechnique Fédérale de Lausanne\",\"King’s College London\",\"University of Edinburgh\",\"New York University\",\"University of California, San Diego\",\"Washington University in St Louis\",\"University of Hong Kong\",\"Seoul National University\",\"Peking University\",\"University of Minnesota\",\"University of North Carolina at Chapel Hill\",\"Australian National University\",\"Pennsylvania State University\",\"Boston University\",\"Tsinghua University\",\"Brown University\",\"Kyoto University\",\"University of California, Davis\",\"LMU Munich\",\"Korea Advanced Institute of Science and Technology (KAIST)\",\"Hong Kong University of Science and Technology\",\"University of Manchester\",\"Ohio State University\",\"Pohang University of Science and Technology\",\"KU Leuven\",\"Purdue University\",\"The University of Queensland\",\"University of Göttingen\",\"Rice University\",\"École Normale Supérieure\",\"Leiden University\",\"Heidelberg University\",\"Delft University of Technology\",\"University of Southern California\",\"École Polytechnique\",\"University of Sydney\",\"Erasmus University Rotterdam\",\"University of Basel\",\"Utrecht University\",\"Nanyang Technological University\",\"Wageningen University and Research Center\",\"University of Pittsburgh\",\"University of Bristol\",\"Durham University\",\"Emory University\",\"Tufts University\",\"Michigan State University\",\"University of Amsterdam\",\"Ghent University\",\"Free University of Berlin\",\"Technical University of Munich\",\"Case Western Reserve University\",\"Vanderbilt University\",\"University of Notre Dame\",\"Monash University\",\"McMaster University\",\"University of California, Irvine\",\"Humboldt University of Berlin\",\"University of Rochester\",\"Pierre and Marie Curie University\",\"University of Colorado Boulder\",\"Maastricht University\",\"University of Groningen\",\"University of Helsinki\"],\"x\":[\"1\",\"2\",\"2\",\"4\",\"5\",\"6\",\"7\",\"8\",\"9\",\"10\",\"11\",\"12\",\"13\",\"14\",\"15\",\"16\",\"17\",\"18\",\"19\",\"20\",\"21\",\"22\",\"23\",\"24\",\"25\",\"26\",\"27\",\"28\",\"29\",\"30\",\"31\",\"32\",\"33\",\"34\",\"35\",\"36\",\"37\",\"38\",\"39\",\"40\",\"40\",\"42\",\"43\",\"44\",\"45\",\"46\",\"47\",\"48\",\"49\",\"50\",\"50\",\"52\",\"52\",\"52\",\"55\",\"56\",\"57\",\"58\",\"59\",\"60\",\"61\",\"62\",\"63\",\"63\",\"65\",\"65\",\"67\",\"68\",\"69\",\"70\",\"70\",\"72\",\"73\",\"74\",\"74\",\"76\",\"77\",\"78\",\"79\",\"80\",\"80\",\"80\",\"83\",\"83\",\"85\",\"86\",\"87\",\"88\",\"88\",\"90\",\"91\",\"92\",\"93\",\"94\",\"95\",\"96\",\"97\",\"98\",\"98\",\"100\"],\"y\":[99.8,99.1,95.4,99.1,100.0,99.7,95.7,99.3,98.0,90.0,93.5,95.6,95.6,85.0,95.0,95.0,96.7,90.8,90.8,84.5,84.1,97.1,69.8,93.9,95.6,66.4,91.3,87.9,79.4,87.2,83.7,69.2,99.4,80.2,74.5,76.0,95.9,87.6,87.6,87.9,96.7,96.4,61.5,47.3,62.8,81.2,90.2,71.2,79.4,95.3,59.9,91.3,58.2,81.2,83.3,67.0,72.3,77.3,79.4,85.7,72.9,67.0,73.3,89.6,99.9,87.0,84.2,76.0,47.2,81.2,82.3,66.6,81.2,81.4,82.0,67.5,74.1,84.4,84.9,88.2,90.8,93.9,71.5,75.0,74.9,64.8,80.7,82.8,86.5,91.8,65.4,79.4,89.7,68.4,89.7,82.3,97.3,65.8,71.1,77.8],\"type\":\"scatter\"},{\"marker\":{\"color\":\"rgba(255,128,2,0.8)\"},\"mode\":\"markers\",\"name\":\"2015\",\"text\":[\"California Institute of Technology\",\"Harvard University\",\"University of Oxford\",\"Stanford University\",\"University of Cambridge\",\"Massachusetts Institute of Technology\",\"Princeton University\",\"University of California, Berkeley\",\"Imperial College London\",\"Yale University\",\"University of Chicago\",\"University of California, Los Angeles\",\"ETH Zurich – Swiss Federal Institute of Technology Zurich\",\"Columbia University\",\"Johns Hopkins University\",\"University of Pennsylvania\",\"University of Michigan\",\"Duke University\",\"Cornell University\",\"University of Toronto\",\"Northwestern University\",\"University College London\",\"University of Tokyo\",\"Carnegie Mellon University\",\"National University of Singapore\",\"University of Washington\",\"Georgia Institute of Technology\",\"University of Texas at Austin\",\"LMU Munich\",\"University of Illinois at Urbana-Champaign\",\"University of Wisconsin-Madison\",\"University of British Columbia\",\"University of Melbourne\",\"London School of Economics and Political Science\",\"École Polytechnique Fédérale de Lausanne\",\"University of Edinburgh\",\"University of California, Santa Barbara\",\"New York University\",\"McGill University\",\"King’s College London\",\"University of California, San Diego\",\"Washington University in St Louis\",\"University of Hong Kong\",\"Karolinska Institute\",\"Australian National University\",\"University of Minnesota\",\"University of North Carolina at Chapel Hill\",\"Peking University\",\"Tsinghua University\",\"Seoul National University\",\"Hong Kong University of Science and Technology\",\"Korea Advanced Institute of Science and Technology (KAIST)\",\"University of Manchester\",\"Brown University\",\"KU Leuven\",\"University of California, Davis\",\"Boston University\",\"Pennsylvania State University\",\"Kyoto University\",\"University of Sydney\",\"Nanyang Technological University\",\"École Polytechnique\",\"Scuola Normale Superiore di Pisa\",\"Leiden University\",\"The University of Queensland\",\"Pohang University of Science and Technology\",\"University of Göttingen\",\"Ohio State University\",\"Rice University\",\"Heidelberg University\",\"Delft University of Technology\",\"Erasmus University Rotterdam\",\"Wageningen University and Research Center\",\"University of Bristol\",\"University of Basel\",\"University of Southern California\",\"University of Amsterdam\",\"École Normale Supérieure\",\"Utrecht University\",\"Humboldt University of Berlin\",\"Free University of Berlin\",\"Michigan State University\",\"Durham University\",\"Monash University\",\"Middle East Technical University\",\"University of Arizona\",\"University of Notre Dame\",\"Tufts University\",\"University of California, Irvine\",\"Ghent University\",\"University of Massachusetts\",\"University of Pittsburgh\",\"Emory University\",\"McMaster University\",\"University of Glasgow\",\"Vanderbilt University\",\"University of Colorado Boulder\",\"Stockholm University\",\"Technical University of Munich\",\"Uppsala University\"],\"x\":[\"1\",\"2\",\"3\",\"4\",\"5\",\"6\",\"7\",\"8\",\"9\",\"9\",\"11\",\"12\",\"13\",\"14\",\"15\",\"16\",\"17\",\"18\",\"19\",\"20\",\"21\",\"22\",\"23\",\"24\",\"25\",\"26\",\"27\",\"28\",\"29\",\"29\",\"29\",\"32\",\"33\",\"34\",\"34\",\"36\",\"37\",\"38\",\"39\",\"40\",\"41\",\"42\",\"43\",\"44\",\"45\",\"46\",\"46\",\"48\",\"49\",\"50\",\"51\",\"52\",\"52\",\"54\",\"55\",\"55\",\"57\",\"58\",\"59\",\"60\",\"61\",\"61\",\"63\",\"64\",\"65\",\"66\",\"67\",\"68\",\"69\",\"70\",\"71\",\"72\",\"73\",\"74\",\"75\",\"75\",\"77\",\"78\",\"79\",\"80\",\"81\",\"82\",\"83\",\"83\",\"85\",\"86\",\"86\",\"88\",\"88\",\"90\",\"91\",\"91\",\"93\",\"94\",\"94\",\"96\",\"97\",\"98\",\"98\",\"98\"],\"y\":[99.7,98.9,95.5,99.1,95.2,100.0,99.6,99.1,89.4,94.0,97.3,95.3,83.5,95.3,93.6,94.4,88.9,96.6,91.5,83.0,96.9,85.1,74.7,92.0,66.0,95.0,85.8,91.5,83.0,77.8,87.7,85.3,80.6,71.3,95.0,88.3,99.2,89.5,76.0,88.3,96.4,97.1,65.1,76.8,71.1,82.9,91.0,63.7,65.0,48.7,72.9,71.4,74.3,92.0,71.8,80.4,94.4,76.0,57.0,69.0,75.9,79.9,96.4,82.3,74.2,84.4,92.3,80.4,99.9,81.4,42.6,82.3,77.5,85.1,81.4,81.3,76.6,84.8,80.0,71.9,67.6,74.0,88.9,65.7,92.0,74.0,90.0,92.9,89.5,73.8,78.7,84.4,89.5,78.8,83.7,87.7,97.4,90.9,78.8,70.9],\"type\":\"scatter\"},{\"marker\":{\"color\":\"rgba(0,255,200,0.8)\"},\"mode\":\"markers\",\"name\":\"2016\",\"text\":[\"California Institute of Technology\",\"University of Oxford\",\"Stanford University\",\"University of Cambridge\",\"Massachusetts Institute of Technology\",\"Harvard University\",\"Princeton University\",\"Imperial College London\",\"ETH Zurich – Swiss Federal Institute of Technology Zurich\",\"University of Chicago\",\"Johns Hopkins University\",\"Yale University\",\"University of California, Berkeley\",\"University College London\",\"Columbia University\",\"University of California, Los Angeles\",\"University of Pennsylvania\",\"Cornell University\",\"University of Toronto\",\"Duke University\",\"University of Michigan\",\"Carnegie Mellon University\",\"London School of Economics and Political Science\",\"University of Edinburgh\",\"Northwestern University\",\"National University of Singapore\",\"King’s College London\",\"Karolinska Institute\",\"LMU Munich\",\"New York University\",\"École Polytechnique Fédérale de Lausanne\",\"University of Washington\",\"University of Melbourne\",\"University of British Columbia\",\"KU Leuven\",\"University of Illinois at Urbana-Champaign\",\"Heidelberg University\",\"McGill University\",\"University of California, San Diego\",\"University of California, Santa Barbara\",\"Georgia Institute of Technology\",\"Peking University\",\"University of Tokyo\",\"University of California, Davis\",\"University of Hong Kong\",\"University of Texas at Austin\",\"Tsinghua University\",\"Wageningen University and Research Center\",\"Humboldt University of Berlin\",\"University of Wisconsin-Madison\",\"Brown University\",\"Australian National University\",\"Technical University of Munich\",\"École Normale Supérieure\",\"Nanyang Technological University\",\"University of Manchester\",\"University of Sydney\",\"University of Amsterdam\",\"Hong Kong University of Science and Technology\",\"The University of Queensland\",\"Washington University in St Louis\",\"Utrecht University\",\"University of North Carolina at Chapel Hill\",\"Boston University\",\"Delft University of Technology\",\"University of Minnesota\",\"Leiden University\",\"University of Southern California\",\"University of Bristol\",\"Durham University\",\"Erasmus University Rotterdam\",\"Free University of Berlin\",\"Monash University\",\"University of Groningen\",\"Pennsylvania State University\",\"University of Glasgow\",\"University of Helsinki\",\"University of Tübingen\",\"University of Pittsburgh\",\"University of Warwick\",\"Uppsala University\",\"University of Copenhagen\",\"University of New South Wales\",\"University of Freiburg\",\"Seoul National University\",\"University of St Andrews\",\"Vanderbilt University\",\"Kyoto University\",\"Maastricht University\",\"Emory University\",\"Lund University\",\"Ohio State University\",\"University of Exeter\",\"University of Bonn\",\"Georgetown University\",\"McMaster University\",\"University of Sheffield\",\"Queen Mary University of London\",\"University of Göttingen\",\"Michigan State University\"],\"x\":[\"1\",\"2\",\"3\",\"4\",\"5\",\"6\",\"7\",\"8\",\"9\",\"10\",\"11\",\"12\",\"13\",\"14\",\"15\",\"16\",\"17\",\"18\",\"19\",\"20\",\"21\",\"22\",\"23\",\"24\",\"25\",\"26\",\"27\",\"28\",\"29\",\"30\",\"31\",\"32\",\"33\",\"34\",\"35\",\"36\",\"37\",\"38\",\"=39\",\"=39\",\"41\",\"42\",\"43\",\"=44\",\"=44\",\"46\",\"=47\",\"=47\",\"49\",\"50\",\"51\",\"52\",\"53\",\"54\",\"55\",\"=56\",\"=56\",\"58\",\"59\",\"=60\",\"=60\",\"62\",\"63\",\"64\",\"=65\",\"=65\",\"67\",\"68\",\"69\",\"70\",\"71\",\"72\",\"73\",\"74\",\"75\",\"=76\",\"=76\",\"78\",\"79\",\"80\",\"81\",\"=82\",\"=82\",\"84\",\"85\",\"86\",\"87\",\"=88\",\"=88\",\"=90\",\"=90\",\"=90\",\"93\",\"=94\",\"=94\",\"=94\",\"97\",\"98\",\"=99\",\"=99\"],\"y\":[99.8,98.8,99.9,97.0,99.7,99.8,99.3,96.7,91.1,99.2,98.2,97.2,99.7,94.2,98.1,98.5,98.6,97.2,90.9,99.0,94.4,99.1,94.3,96.3,96.5,79.4,93.8,92.2,85.7,95.3,94.6,98.6,86.6,91.5,87.3,86.8,88.2,78.9,98.7,99.2,86.0,69.1,60.9,84.3,70.1,92.2,58.8,87.8,73.6,86.6,96.4,72.3,80.1,87.1,85.6,77.3,77.5,87.4,82.6,82.4,99.2,88.1,95.9,97.7,61.5,88.0,85.2,93.0,91.2,87.7,95.6,60.2,73.3,84.0,80.5,92.3,82.1,79.3,92.3,78.2,80.9,86.2,82.1,80.5,50.0,78.8,95.7,46.6,82.7,96.7,81.3,83.2,94.3,85.3,82.5,84.9,80.1,93.3,72.7,76.8],\"type\":\"scatter\"}],                        {\"template\":{\"data\":{\"barpolar\":[{\"marker\":{\"line\":{\"color\":\"#E5ECF6\",\"width\":0.5},\"pattern\":{\"fillmode\":\"overlay\",\"size\":10,\"solidity\":0.2}},\"type\":\"barpolar\"}],\"bar\":[{\"error_x\":{\"color\":\"#2a3f5f\"},\"error_y\":{\"color\":\"#2a3f5f\"},\"marker\":{\"line\":{\"color\":\"#E5ECF6\",\"width\":0.5},\"pattern\":{\"fillmode\":\"overlay\",\"size\":10,\"solidity\":0.2}},\"type\":\"bar\"}],\"carpet\":[{\"aaxis\":{\"endlinecolor\":\"#2a3f5f\",\"gridcolor\":\"white\",\"linecolor\":\"white\",\"minorgridcolor\":\"white\",\"startlinecolor\":\"#2a3f5f\"},\"baxis\":{\"endlinecolor\":\"#2a3f5f\",\"gridcolor\":\"white\",\"linecolor\":\"white\",\"minorgridcolor\":\"white\",\"startlinecolor\":\"#2a3f5f\"},\"type\":\"carpet\"}],\"choropleth\":[{\"colorbar\":{\"outlinewidth\":0,\"ticks\":\"\"},\"type\":\"choropleth\"}],\"contourcarpet\":[{\"colorbar\":{\"outlinewidth\":0,\"ticks\":\"\"},\"type\":\"contourcarpet\"}],\"contour\":[{\"colorbar\":{\"outlinewidth\":0,\"ticks\":\"\"},\"colorscale\":[[0.0,\"#0d0887\"],[0.1111111111111111,\"#46039f\"],[0.2222222222222222,\"#7201a8\"],[0.3333333333333333,\"#9c179e\"],[0.4444444444444444,\"#bd3786\"],[0.5555555555555556,\"#d8576b\"],[0.6666666666666666,\"#ed7953\"],[0.7777777777777778,\"#fb9f3a\"],[0.8888888888888888,\"#fdca26\"],[1.0,\"#f0f921\"]],\"type\":\"contour\"}],\"heatmapgl\":[{\"colorbar\":{\"outlinewidth\":0,\"ticks\":\"\"},\"colorscale\":[[0.0,\"#0d0887\"],[0.1111111111111111,\"#46039f\"],[0.2222222222222222,\"#7201a8\"],[0.3333333333333333,\"#9c179e\"],[0.4444444444444444,\"#bd3786\"],[0.5555555555555556,\"#d8576b\"],[0.6666666666666666,\"#ed7953\"],[0.7777777777777778,\"#fb9f3a\"],[0.8888888888888888,\"#fdca26\"],[1.0,\"#f0f921\"]],\"type\":\"heatmapgl\"}],\"heatmap\":[{\"colorbar\":{\"outlinewidth\":0,\"ticks\":\"\"},\"colorscale\":[[0.0,\"#0d0887\"],[0.1111111111111111,\"#46039f\"],[0.2222222222222222,\"#7201a8\"],[0.3333333333333333,\"#9c179e\"],[0.4444444444444444,\"#bd3786\"],[0.5555555555555556,\"#d8576b\"],[0.6666666666666666,\"#ed7953\"],[0.7777777777777778,\"#fb9f3a\"],[0.8888888888888888,\"#fdca26\"],[1.0,\"#f0f921\"]],\"type\":\"heatmap\"}],\"histogram2dcontour\":[{\"colorbar\":{\"outlinewidth\":0,\"ticks\":\"\"},\"colorscale\":[[0.0,\"#0d0887\"],[0.1111111111111111,\"#46039f\"],[0.2222222222222222,\"#7201a8\"],[0.3333333333333333,\"#9c179e\"],[0.4444444444444444,\"#bd3786\"],[0.5555555555555556,\"#d8576b\"],[0.6666666666666666,\"#ed7953\"],[0.7777777777777778,\"#fb9f3a\"],[0.8888888888888888,\"#fdca26\"],[1.0,\"#f0f921\"]],\"type\":\"histogram2dcontour\"}],\"histogram2d\":[{\"colorbar\":{\"outlinewidth\":0,\"ticks\":\"\"},\"colorscale\":[[0.0,\"#0d0887\"],[0.1111111111111111,\"#46039f\"],[0.2222222222222222,\"#7201a8\"],[0.3333333333333333,\"#9c179e\"],[0.4444444444444444,\"#bd3786\"],[0.5555555555555556,\"#d8576b\"],[0.6666666666666666,\"#ed7953\"],[0.7777777777777778,\"#fb9f3a\"],[0.8888888888888888,\"#fdca26\"],[1.0,\"#f0f921\"]],\"type\":\"histogram2d\"}],\"histogram\":[{\"marker\":{\"pattern\":{\"fillmode\":\"overlay\",\"size\":10,\"solidity\":0.2}},\"type\":\"histogram\"}],\"mesh3d\":[{\"colorbar\":{\"outlinewidth\":0,\"ticks\":\"\"},\"type\":\"mesh3d\"}],\"parcoords\":[{\"line\":{\"colorbar\":{\"outlinewidth\":0,\"ticks\":\"\"}},\"type\":\"parcoords\"}],\"pie\":[{\"automargin\":true,\"type\":\"pie\"}],\"scatter3d\":[{\"line\":{\"colorbar\":{\"outlinewidth\":0,\"ticks\":\"\"}},\"marker\":{\"colorbar\":{\"outlinewidth\":0,\"ticks\":\"\"}},\"type\":\"scatter3d\"}],\"scattercarpet\":[{\"marker\":{\"colorbar\":{\"outlinewidth\":0,\"ticks\":\"\"}},\"type\":\"scattercarpet\"}],\"scattergeo\":[{\"marker\":{\"colorbar\":{\"outlinewidth\":0,\"ticks\":\"\"}},\"type\":\"scattergeo\"}],\"scattergl\":[{\"marker\":{\"colorbar\":{\"outlinewidth\":0,\"ticks\":\"\"}},\"type\":\"scattergl\"}],\"scattermapbox\":[{\"marker\":{\"colorbar\":{\"outlinewidth\":0,\"ticks\":\"\"}},\"type\":\"scattermapbox\"}],\"scatterpolargl\":[{\"marker\":{\"colorbar\":{\"outlinewidth\":0,\"ticks\":\"\"}},\"type\":\"scatterpolargl\"}],\"scatterpolar\":[{\"marker\":{\"colorbar\":{\"outlinewidth\":0,\"ticks\":\"\"}},\"type\":\"scatterpolar\"}],\"scatter\":[{\"fillpattern\":{\"fillmode\":\"overlay\",\"size\":10,\"solidity\":0.2},\"type\":\"scatter\"}],\"scatterternary\":[{\"marker\":{\"colorbar\":{\"outlinewidth\":0,\"ticks\":\"\"}},\"type\":\"scatterternary\"}],\"surface\":[{\"colorbar\":{\"outlinewidth\":0,\"ticks\":\"\"},\"colorscale\":[[0.0,\"#0d0887\"],[0.1111111111111111,\"#46039f\"],[0.2222222222222222,\"#7201a8\"],[0.3333333333333333,\"#9c179e\"],[0.4444444444444444,\"#bd3786\"],[0.5555555555555556,\"#d8576b\"],[0.6666666666666666,\"#ed7953\"],[0.7777777777777778,\"#fb9f3a\"],[0.8888888888888888,\"#fdca26\"],[1.0,\"#f0f921\"]],\"type\":\"surface\"}],\"table\":[{\"cells\":{\"fill\":{\"color\":\"#EBF0F8\"},\"line\":{\"color\":\"white\"}},\"header\":{\"fill\":{\"color\":\"#C8D4E3\"},\"line\":{\"color\":\"white\"}},\"type\":\"table\"}]},\"layout\":{\"annotationdefaults\":{\"arrowcolor\":\"#2a3f5f\",\"arrowhead\":0,\"arrowwidth\":1},\"autotypenumbers\":\"strict\",\"coloraxis\":{\"colorbar\":{\"outlinewidth\":0,\"ticks\":\"\"}},\"colorscale\":{\"diverging\":[[0,\"#8e0152\"],[0.1,\"#c51b7d\"],[0.2,\"#de77ae\"],[0.3,\"#f1b6da\"],[0.4,\"#fde0ef\"],[0.5,\"#f7f7f7\"],[0.6,\"#e6f5d0\"],[0.7,\"#b8e186\"],[0.8,\"#7fbc41\"],[0.9,\"#4d9221\"],[1,\"#276419\"]],\"sequential\":[[0.0,\"#0d0887\"],[0.1111111111111111,\"#46039f\"],[0.2222222222222222,\"#7201a8\"],[0.3333333333333333,\"#9c179e\"],[0.4444444444444444,\"#bd3786\"],[0.5555555555555556,\"#d8576b\"],[0.6666666666666666,\"#ed7953\"],[0.7777777777777778,\"#fb9f3a\"],[0.8888888888888888,\"#fdca26\"],[1.0,\"#f0f921\"]],\"sequentialminus\":[[0.0,\"#0d0887\"],[0.1111111111111111,\"#46039f\"],[0.2222222222222222,\"#7201a8\"],[0.3333333333333333,\"#9c179e\"],[0.4444444444444444,\"#bd3786\"],[0.5555555555555556,\"#d8576b\"],[0.6666666666666666,\"#ed7953\"],[0.7777777777777778,\"#fb9f3a\"],[0.8888888888888888,\"#fdca26\"],[1.0,\"#f0f921\"]]},\"colorway\":[\"#636efa\",\"#EF553B\",\"#00cc96\",\"#ab63fa\",\"#FFA15A\",\"#19d3f3\",\"#FF6692\",\"#B6E880\",\"#FF97FF\",\"#FECB52\"],\"font\":{\"color\":\"#2a3f5f\"},\"geo\":{\"bgcolor\":\"white\",\"lakecolor\":\"white\",\"landcolor\":\"#E5ECF6\",\"showlakes\":true,\"showland\":true,\"subunitcolor\":\"white\"},\"hoverlabel\":{\"align\":\"left\"},\"hovermode\":\"closest\",\"mapbox\":{\"style\":\"light\"},\"paper_bgcolor\":\"white\",\"plot_bgcolor\":\"#E5ECF6\",\"polar\":{\"angularaxis\":{\"gridcolor\":\"white\",\"linecolor\":\"white\",\"ticks\":\"\"},\"bgcolor\":\"#E5ECF6\",\"radialaxis\":{\"gridcolor\":\"white\",\"linecolor\":\"white\",\"ticks\":\"\"}},\"scene\":{\"xaxis\":{\"backgroundcolor\":\"#E5ECF6\",\"gridcolor\":\"white\",\"gridwidth\":2,\"linecolor\":\"white\",\"showbackground\":true,\"ticks\":\"\",\"zerolinecolor\":\"white\"},\"yaxis\":{\"backgroundcolor\":\"#E5ECF6\",\"gridcolor\":\"white\",\"gridwidth\":2,\"linecolor\":\"white\",\"showbackground\":true,\"ticks\":\"\",\"zerolinecolor\":\"white\"},\"zaxis\":{\"backgroundcolor\":\"#E5ECF6\",\"gridcolor\":\"white\",\"gridwidth\":2,\"linecolor\":\"white\",\"showbackground\":true,\"ticks\":\"\",\"zerolinecolor\":\"white\"}},\"shapedefaults\":{\"line\":{\"color\":\"#2a3f5f\"}},\"ternary\":{\"aaxis\":{\"gridcolor\":\"white\",\"linecolor\":\"white\",\"ticks\":\"\"},\"baxis\":{\"gridcolor\":\"white\",\"linecolor\":\"white\",\"ticks\":\"\"},\"bgcolor\":\"#E5ECF6\",\"caxis\":{\"gridcolor\":\"white\",\"linecolor\":\"white\",\"ticks\":\"\"}},\"title\":{\"x\":0.05},\"xaxis\":{\"automargin\":true,\"gridcolor\":\"white\",\"linecolor\":\"white\",\"ticks\":\"\",\"title\":{\"standoff\":15},\"zerolinecolor\":\"white\",\"zerolinewidth\":2},\"yaxis\":{\"automargin\":true,\"gridcolor\":\"white\",\"linecolor\":\"white\",\"ticks\":\"\",\"title\":{\"standoff\":15},\"zerolinecolor\":\"white\",\"zerolinewidth\":2}}},\"title\":{\"text\":\"Citation vs world rank of top 100 universities with 2014, 2015 and 2016 years\"},\"xaxis\":{\"ticklen\":5,\"title\":{\"text\":\"World Rank\"},\"zeroline\":false},\"yaxis\":{\"ticklen\":5,\"title\":{\"text\":\"Citation\"},\"zeroline\":false}},                        {\"responsive\": true}                    ).then(function(){\n",
       "                            \n",
       "var gd = document.getElementById('1e6f550b-1b23-4bf1-864b-371ba107a195');\n",
       "var x = new MutationObserver(function (mutations, observer) {{\n",
       "        var display = window.getComputedStyle(gd).display;\n",
       "        if (!display || display === 'none') {{\n",
       "            console.log([gd, 'removed!']);\n",
       "            Plotly.purge(gd);\n",
       "            observer.disconnect();\n",
       "        }}\n",
       "}});\n",
       "\n",
       "// Listen for the removal of the full notebook cells\n",
       "var notebookContainer = gd.closest('#notebook-container');\n",
       "if (notebookContainer) {{\n",
       "    x.observe(notebookContainer, {childList: true});\n",
       "}}\n",
       "\n",
       "// Listen for the clearing of the current output cell\n",
       "var outputEl = gd.closest('.output');\n",
       "if (outputEl) {{\n",
       "    x.observe(outputEl, {childList: true});\n",
       "}}\n",
       "\n",
       "                        })                };                });            </script>        </div>"
      ]
     },
     "metadata": {},
     "output_type": "display_data"
    }
   ],
   "source": [
    "# prepare data frames\n",
    "df2014 = timesData[timesData.year==2014].iloc[:100,:]\n",
    "df2015= timesData[timesData.year== 2015].iloc[:100,:]\n",
    "df2016 = timesData[timesData.year== 2016].iloc[:100,:]\n",
    "\n",
    "# import graph objects as go\n",
    "import plotly.graph_objs as go\n",
    "\n",
    "trace1= go.Scatter(\n",
    "                x=df2014.world_rank,\n",
    "                y= df2014.citations,\n",
    "                mode=\"markers\",\n",
    "                name=\"2014\",\n",
    "                marker= dict(color='rgba(255,128,255,0.8)'),\n",
    "                text= df2014.university_name)\n",
    "\n",
    "trace2= go.Scatter(\n",
    "                x=df2015.world_rank,\n",
    "                y=df2015.citations,\n",
    "                mode=\"markers\",\n",
    "                name=\"2015\",\n",
    "                marker= dict(color='rgba(255,128,2,0.8)'),\n",
    "                text=df2015.university_name)\n",
    "\n",
    "trace3=go.Scatter(\n",
    "                x= df2016.world_rank,\n",
    "                y= df2016.citations,\n",
    "                mode=\"markers\",\n",
    "                name=\"2016\",\n",
    "                marker= dict(color='rgba(0,255,200,0.8)'),\n",
    "                text=df2016.university_name)\n",
    "data=[trace1, trace2, trace3]\n",
    "layout= dict(title='Citation vs world rank of top 100 universities with 2014, 2015 and 2016 years',\n",
    "             xaxis=dict(title='World Rank', ticklen=5, zeroline=False),\n",
    "             yaxis=dict(title='Citation', ticklen=5, zeroline=False))\n",
    "fig= dict(data=data, layout=layout)\n",
    "iplot(fig)"
   ]
  },
  {
   "cell_type": "markdown",
   "id": "a4326605",
   "metadata": {
    "papermill": {
     "duration": 0.022834,
     "end_time": "2022-08-02T12:20:52.332611",
     "exception": false,
     "start_time": "2022-08-02T12:20:52.309777",
     "status": "completed"
    },
    "tags": []
   },
   "source": [
    "Üniversitlerin 2014-2015-2016 yıllarında aldıkları sıralamayı göstermektedir.\n",
    "<br> Aynı hizadaki farklı renkte üç nokta bir yılı ve o yıl sıralamada olan bir üniversiteyi temsil etmektedir."
   ]
  },
  {
   "cell_type": "markdown",
   "id": "bf187d45",
   "metadata": {
    "papermill": {
     "duration": 0.022204,
     "end_time": "2022-08-02T12:20:52.377526",
     "exception": false,
     "start_time": "2022-08-02T12:20:52.355322",
     "status": "completed"
    },
    "tags": []
   },
   "source": [
    "## Bar Charts"
   ]
  },
  {
   "cell_type": "code",
   "execution_count": 6,
   "id": "49a95920",
   "metadata": {
    "execution": {
     "iopub.execute_input": "2022-08-02T12:20:52.424952Z",
     "iopub.status.busy": "2022-08-02T12:20:52.424565Z",
     "iopub.status.idle": "2022-08-02T12:20:52.445011Z",
     "shell.execute_reply": "2022-08-02T12:20:52.444132Z"
    },
    "papermill": {
     "duration": 0.046685,
     "end_time": "2022-08-02T12:20:52.447291",
     "exception": false,
     "start_time": "2022-08-02T12:20:52.400606",
     "status": "completed"
    },
    "tags": []
   },
   "outputs": [
    {
     "data": {
      "text/html": [
       "<div>\n",
       "<style scoped>\n",
       "    .dataframe tbody tr th:only-of-type {\n",
       "        vertical-align: middle;\n",
       "    }\n",
       "\n",
       "    .dataframe tbody tr th {\n",
       "        vertical-align: top;\n",
       "    }\n",
       "\n",
       "    .dataframe thead th {\n",
       "        text-align: right;\n",
       "    }\n",
       "</style>\n",
       "<table border=\"1\" class=\"dataframe\">\n",
       "  <thead>\n",
       "    <tr style=\"text-align: right;\">\n",
       "      <th></th>\n",
       "      <th>world_rank</th>\n",
       "      <th>university_name</th>\n",
       "      <th>country</th>\n",
       "      <th>teaching</th>\n",
       "      <th>international</th>\n",
       "      <th>research</th>\n",
       "      <th>citations</th>\n",
       "      <th>income</th>\n",
       "      <th>total_score</th>\n",
       "      <th>num_students</th>\n",
       "      <th>student_staff_ratio</th>\n",
       "      <th>international_students</th>\n",
       "      <th>female_male_ratio</th>\n",
       "      <th>year</th>\n",
       "    </tr>\n",
       "  </thead>\n",
       "  <tbody>\n",
       "    <tr>\n",
       "      <th>1002</th>\n",
       "      <td>1</td>\n",
       "      <td>California Institute of Technology</td>\n",
       "      <td>United States of America</td>\n",
       "      <td>94.4</td>\n",
       "      <td>65.8</td>\n",
       "      <td>98.2</td>\n",
       "      <td>99.8</td>\n",
       "      <td>91.2</td>\n",
       "      <td>94.9</td>\n",
       "      <td>2,243</td>\n",
       "      <td>6.9</td>\n",
       "      <td>27%</td>\n",
       "      <td>33 : 67</td>\n",
       "      <td>2014</td>\n",
       "    </tr>\n",
       "    <tr>\n",
       "      <th>1003</th>\n",
       "      <td>2</td>\n",
       "      <td>Harvard University</td>\n",
       "      <td>United States of America</td>\n",
       "      <td>95.3</td>\n",
       "      <td>66.2</td>\n",
       "      <td>98.5</td>\n",
       "      <td>99.1</td>\n",
       "      <td>40.6</td>\n",
       "      <td>93.9</td>\n",
       "      <td>20,152</td>\n",
       "      <td>8.9</td>\n",
       "      <td>25%</td>\n",
       "      <td>NaN</td>\n",
       "      <td>2014</td>\n",
       "    </tr>\n",
       "    <tr>\n",
       "      <th>1004</th>\n",
       "      <td>2</td>\n",
       "      <td>University of Oxford</td>\n",
       "      <td>United Kingdom</td>\n",
       "      <td>89.0</td>\n",
       "      <td>90.2</td>\n",
       "      <td>98.5</td>\n",
       "      <td>95.4</td>\n",
       "      <td>90.3</td>\n",
       "      <td>93.9</td>\n",
       "      <td>19,919</td>\n",
       "      <td>11.6</td>\n",
       "      <td>34%</td>\n",
       "      <td>46 : 54</td>\n",
       "      <td>2014</td>\n",
       "    </tr>\n",
       "  </tbody>\n",
       "</table>\n",
       "</div>"
      ],
      "text/plain": [
       "     world_rank                     university_name                   country  \\\n",
       "1002          1  California Institute of Technology  United States of America   \n",
       "1003          2                  Harvard University  United States of America   \n",
       "1004          2                University of Oxford            United Kingdom   \n",
       "\n",
       "      teaching international  research  citations income total_score  \\\n",
       "1002      94.4          65.8      98.2       99.8   91.2        94.9   \n",
       "1003      95.3          66.2      98.5       99.1   40.6        93.9   \n",
       "1004      89.0          90.2      98.5       95.4   90.3        93.9   \n",
       "\n",
       "     num_students  student_staff_ratio international_students  \\\n",
       "1002        2,243                  6.9                    27%   \n",
       "1003       20,152                  8.9                    25%   \n",
       "1004       19,919                 11.6                    34%   \n",
       "\n",
       "     female_male_ratio  year  \n",
       "1002           33 : 67  2014  \n",
       "1003               NaN  2014  \n",
       "1004           46 : 54  2014  "
      ]
     },
     "execution_count": 6,
     "metadata": {},
     "output_type": "execute_result"
    }
   ],
   "source": [
    "df2014=timesData[timesData.year==2014].iloc[:3, :]   #2014 yılındaki ilk3 satırı al df2014 olarak ata\n",
    "df2014"
   ]
  },
  {
   "cell_type": "code",
   "execution_count": 7,
   "id": "c6e87a3b",
   "metadata": {
    "execution": {
     "iopub.execute_input": "2022-08-02T12:20:52.494730Z",
     "iopub.status.busy": "2022-08-02T12:20:52.494268Z",
     "iopub.status.idle": "2022-08-02T12:20:52.541807Z",
     "shell.execute_reply": "2022-08-02T12:20:52.540744Z"
    },
    "papermill": {
     "duration": 0.074285,
     "end_time": "2022-08-02T12:20:52.544426",
     "exception": false,
     "start_time": "2022-08-02T12:20:52.470141",
     "status": "completed"
    },
    "tags": []
   },
   "outputs": [
    {
     "data": {
      "application/vnd.plotly.v1+json": {
       "config": {
        "linkText": "Export to plot.ly",
        "plotlyServerURL": "https://plot.ly",
        "showLink": false
       },
       "data": [
        {
         "marker": {
          "color": "rgba(255,174,255,0.5)",
          "line": {
           "color": "rgb(0,0,0)",
           "width": 1.5
          }
         },
         "name": "citations",
         "text": [
          "United States of America",
          "United States of America",
          "United Kingdom"
         ],
         "type": "bar",
         "x": [
          "California Institute of Technology",
          "Harvard University",
          "University of Oxford"
         ],
         "y": [
          99.8,
          99.1,
          95.4
         ]
        },
        {
         "marker": {
          "color": "rgba(255,255,128,0.5)",
          "line": {
           "color": "rgb(0,0,0)",
           "width": 1.5
          }
         },
         "name": "teaching",
         "text": [
          "United States of America",
          "United States of America",
          "United Kingdom"
         ],
         "type": "bar",
         "x": [
          "California Institute of Technology",
          "Harvard University",
          "University of Oxford"
         ],
         "y": [
          94.4,
          95.3,
          89.0
         ]
        }
       ],
       "layout": {
        "barmode": "group",
        "template": {
         "data": {
          "bar": [
           {
            "error_x": {
             "color": "#2a3f5f"
            },
            "error_y": {
             "color": "#2a3f5f"
            },
            "marker": {
             "line": {
              "color": "#E5ECF6",
              "width": 0.5
             },
             "pattern": {
              "fillmode": "overlay",
              "size": 10,
              "solidity": 0.2
             }
            },
            "type": "bar"
           }
          ],
          "barpolar": [
           {
            "marker": {
             "line": {
              "color": "#E5ECF6",
              "width": 0.5
             },
             "pattern": {
              "fillmode": "overlay",
              "size": 10,
              "solidity": 0.2
             }
            },
            "type": "barpolar"
           }
          ],
          "carpet": [
           {
            "aaxis": {
             "endlinecolor": "#2a3f5f",
             "gridcolor": "white",
             "linecolor": "white",
             "minorgridcolor": "white",
             "startlinecolor": "#2a3f5f"
            },
            "baxis": {
             "endlinecolor": "#2a3f5f",
             "gridcolor": "white",
             "linecolor": "white",
             "minorgridcolor": "white",
             "startlinecolor": "#2a3f5f"
            },
            "type": "carpet"
           }
          ],
          "choropleth": [
           {
            "colorbar": {
             "outlinewidth": 0,
             "ticks": ""
            },
            "type": "choropleth"
           }
          ],
          "contour": [
           {
            "colorbar": {
             "outlinewidth": 0,
             "ticks": ""
            },
            "colorscale": [
             [
              0.0,
              "#0d0887"
             ],
             [
              0.1111111111111111,
              "#46039f"
             ],
             [
              0.2222222222222222,
              "#7201a8"
             ],
             [
              0.3333333333333333,
              "#9c179e"
             ],
             [
              0.4444444444444444,
              "#bd3786"
             ],
             [
              0.5555555555555556,
              "#d8576b"
             ],
             [
              0.6666666666666666,
              "#ed7953"
             ],
             [
              0.7777777777777778,
              "#fb9f3a"
             ],
             [
              0.8888888888888888,
              "#fdca26"
             ],
             [
              1.0,
              "#f0f921"
             ]
            ],
            "type": "contour"
           }
          ],
          "contourcarpet": [
           {
            "colorbar": {
             "outlinewidth": 0,
             "ticks": ""
            },
            "type": "contourcarpet"
           }
          ],
          "heatmap": [
           {
            "colorbar": {
             "outlinewidth": 0,
             "ticks": ""
            },
            "colorscale": [
             [
              0.0,
              "#0d0887"
             ],
             [
              0.1111111111111111,
              "#46039f"
             ],
             [
              0.2222222222222222,
              "#7201a8"
             ],
             [
              0.3333333333333333,
              "#9c179e"
             ],
             [
              0.4444444444444444,
              "#bd3786"
             ],
             [
              0.5555555555555556,
              "#d8576b"
             ],
             [
              0.6666666666666666,
              "#ed7953"
             ],
             [
              0.7777777777777778,
              "#fb9f3a"
             ],
             [
              0.8888888888888888,
              "#fdca26"
             ],
             [
              1.0,
              "#f0f921"
             ]
            ],
            "type": "heatmap"
           }
          ],
          "heatmapgl": [
           {
            "colorbar": {
             "outlinewidth": 0,
             "ticks": ""
            },
            "colorscale": [
             [
              0.0,
              "#0d0887"
             ],
             [
              0.1111111111111111,
              "#46039f"
             ],
             [
              0.2222222222222222,
              "#7201a8"
             ],
             [
              0.3333333333333333,
              "#9c179e"
             ],
             [
              0.4444444444444444,
              "#bd3786"
             ],
             [
              0.5555555555555556,
              "#d8576b"
             ],
             [
              0.6666666666666666,
              "#ed7953"
             ],
             [
              0.7777777777777778,
              "#fb9f3a"
             ],
             [
              0.8888888888888888,
              "#fdca26"
             ],
             [
              1.0,
              "#f0f921"
             ]
            ],
            "type": "heatmapgl"
           }
          ],
          "histogram": [
           {
            "marker": {
             "pattern": {
              "fillmode": "overlay",
              "size": 10,
              "solidity": 0.2
             }
            },
            "type": "histogram"
           }
          ],
          "histogram2d": [
           {
            "colorbar": {
             "outlinewidth": 0,
             "ticks": ""
            },
            "colorscale": [
             [
              0.0,
              "#0d0887"
             ],
             [
              0.1111111111111111,
              "#46039f"
             ],
             [
              0.2222222222222222,
              "#7201a8"
             ],
             [
              0.3333333333333333,
              "#9c179e"
             ],
             [
              0.4444444444444444,
              "#bd3786"
             ],
             [
              0.5555555555555556,
              "#d8576b"
             ],
             [
              0.6666666666666666,
              "#ed7953"
             ],
             [
              0.7777777777777778,
              "#fb9f3a"
             ],
             [
              0.8888888888888888,
              "#fdca26"
             ],
             [
              1.0,
              "#f0f921"
             ]
            ],
            "type": "histogram2d"
           }
          ],
          "histogram2dcontour": [
           {
            "colorbar": {
             "outlinewidth": 0,
             "ticks": ""
            },
            "colorscale": [
             [
              0.0,
              "#0d0887"
             ],
             [
              0.1111111111111111,
              "#46039f"
             ],
             [
              0.2222222222222222,
              "#7201a8"
             ],
             [
              0.3333333333333333,
              "#9c179e"
             ],
             [
              0.4444444444444444,
              "#bd3786"
             ],
             [
              0.5555555555555556,
              "#d8576b"
             ],
             [
              0.6666666666666666,
              "#ed7953"
             ],
             [
              0.7777777777777778,
              "#fb9f3a"
             ],
             [
              0.8888888888888888,
              "#fdca26"
             ],
             [
              1.0,
              "#f0f921"
             ]
            ],
            "type": "histogram2dcontour"
           }
          ],
          "mesh3d": [
           {
            "colorbar": {
             "outlinewidth": 0,
             "ticks": ""
            },
            "type": "mesh3d"
           }
          ],
          "parcoords": [
           {
            "line": {
             "colorbar": {
              "outlinewidth": 0,
              "ticks": ""
             }
            },
            "type": "parcoords"
           }
          ],
          "pie": [
           {
            "automargin": true,
            "type": "pie"
           }
          ],
          "scatter": [
           {
            "fillpattern": {
             "fillmode": "overlay",
             "size": 10,
             "solidity": 0.2
            },
            "type": "scatter"
           }
          ],
          "scatter3d": [
           {
            "line": {
             "colorbar": {
              "outlinewidth": 0,
              "ticks": ""
             }
            },
            "marker": {
             "colorbar": {
              "outlinewidth": 0,
              "ticks": ""
             }
            },
            "type": "scatter3d"
           }
          ],
          "scattercarpet": [
           {
            "marker": {
             "colorbar": {
              "outlinewidth": 0,
              "ticks": ""
             }
            },
            "type": "scattercarpet"
           }
          ],
          "scattergeo": [
           {
            "marker": {
             "colorbar": {
              "outlinewidth": 0,
              "ticks": ""
             }
            },
            "type": "scattergeo"
           }
          ],
          "scattergl": [
           {
            "marker": {
             "colorbar": {
              "outlinewidth": 0,
              "ticks": ""
             }
            },
            "type": "scattergl"
           }
          ],
          "scattermapbox": [
           {
            "marker": {
             "colorbar": {
              "outlinewidth": 0,
              "ticks": ""
             }
            },
            "type": "scattermapbox"
           }
          ],
          "scatterpolar": [
           {
            "marker": {
             "colorbar": {
              "outlinewidth": 0,
              "ticks": ""
             }
            },
            "type": "scatterpolar"
           }
          ],
          "scatterpolargl": [
           {
            "marker": {
             "colorbar": {
              "outlinewidth": 0,
              "ticks": ""
             }
            },
            "type": "scatterpolargl"
           }
          ],
          "scatterternary": [
           {
            "marker": {
             "colorbar": {
              "outlinewidth": 0,
              "ticks": ""
             }
            },
            "type": "scatterternary"
           }
          ],
          "surface": [
           {
            "colorbar": {
             "outlinewidth": 0,
             "ticks": ""
            },
            "colorscale": [
             [
              0.0,
              "#0d0887"
             ],
             [
              0.1111111111111111,
              "#46039f"
             ],
             [
              0.2222222222222222,
              "#7201a8"
             ],
             [
              0.3333333333333333,
              "#9c179e"
             ],
             [
              0.4444444444444444,
              "#bd3786"
             ],
             [
              0.5555555555555556,
              "#d8576b"
             ],
             [
              0.6666666666666666,
              "#ed7953"
             ],
             [
              0.7777777777777778,
              "#fb9f3a"
             ],
             [
              0.8888888888888888,
              "#fdca26"
             ],
             [
              1.0,
              "#f0f921"
             ]
            ],
            "type": "surface"
           }
          ],
          "table": [
           {
            "cells": {
             "fill": {
              "color": "#EBF0F8"
             },
             "line": {
              "color": "white"
             }
            },
            "header": {
             "fill": {
              "color": "#C8D4E3"
             },
             "line": {
              "color": "white"
             }
            },
            "type": "table"
           }
          ]
         },
         "layout": {
          "annotationdefaults": {
           "arrowcolor": "#2a3f5f",
           "arrowhead": 0,
           "arrowwidth": 1
          },
          "autotypenumbers": "strict",
          "coloraxis": {
           "colorbar": {
            "outlinewidth": 0,
            "ticks": ""
           }
          },
          "colorscale": {
           "diverging": [
            [
             0,
             "#8e0152"
            ],
            [
             0.1,
             "#c51b7d"
            ],
            [
             0.2,
             "#de77ae"
            ],
            [
             0.3,
             "#f1b6da"
            ],
            [
             0.4,
             "#fde0ef"
            ],
            [
             0.5,
             "#f7f7f7"
            ],
            [
             0.6,
             "#e6f5d0"
            ],
            [
             0.7,
             "#b8e186"
            ],
            [
             0.8,
             "#7fbc41"
            ],
            [
             0.9,
             "#4d9221"
            ],
            [
             1,
             "#276419"
            ]
           ],
           "sequential": [
            [
             0.0,
             "#0d0887"
            ],
            [
             0.1111111111111111,
             "#46039f"
            ],
            [
             0.2222222222222222,
             "#7201a8"
            ],
            [
             0.3333333333333333,
             "#9c179e"
            ],
            [
             0.4444444444444444,
             "#bd3786"
            ],
            [
             0.5555555555555556,
             "#d8576b"
            ],
            [
             0.6666666666666666,
             "#ed7953"
            ],
            [
             0.7777777777777778,
             "#fb9f3a"
            ],
            [
             0.8888888888888888,
             "#fdca26"
            ],
            [
             1.0,
             "#f0f921"
            ]
           ],
           "sequentialminus": [
            [
             0.0,
             "#0d0887"
            ],
            [
             0.1111111111111111,
             "#46039f"
            ],
            [
             0.2222222222222222,
             "#7201a8"
            ],
            [
             0.3333333333333333,
             "#9c179e"
            ],
            [
             0.4444444444444444,
             "#bd3786"
            ],
            [
             0.5555555555555556,
             "#d8576b"
            ],
            [
             0.6666666666666666,
             "#ed7953"
            ],
            [
             0.7777777777777778,
             "#fb9f3a"
            ],
            [
             0.8888888888888888,
             "#fdca26"
            ],
            [
             1.0,
             "#f0f921"
            ]
           ]
          },
          "colorway": [
           "#636efa",
           "#EF553B",
           "#00cc96",
           "#ab63fa",
           "#FFA15A",
           "#19d3f3",
           "#FF6692",
           "#B6E880",
           "#FF97FF",
           "#FECB52"
          ],
          "font": {
           "color": "#2a3f5f"
          },
          "geo": {
           "bgcolor": "white",
           "lakecolor": "white",
           "landcolor": "#E5ECF6",
           "showlakes": true,
           "showland": true,
           "subunitcolor": "white"
          },
          "hoverlabel": {
           "align": "left"
          },
          "hovermode": "closest",
          "mapbox": {
           "style": "light"
          },
          "paper_bgcolor": "white",
          "plot_bgcolor": "#E5ECF6",
          "polar": {
           "angularaxis": {
            "gridcolor": "white",
            "linecolor": "white",
            "ticks": ""
           },
           "bgcolor": "#E5ECF6",
           "radialaxis": {
            "gridcolor": "white",
            "linecolor": "white",
            "ticks": ""
           }
          },
          "scene": {
           "xaxis": {
            "backgroundcolor": "#E5ECF6",
            "gridcolor": "white",
            "gridwidth": 2,
            "linecolor": "white",
            "showbackground": true,
            "ticks": "",
            "zerolinecolor": "white"
           },
           "yaxis": {
            "backgroundcolor": "#E5ECF6",
            "gridcolor": "white",
            "gridwidth": 2,
            "linecolor": "white",
            "showbackground": true,
            "ticks": "",
            "zerolinecolor": "white"
           },
           "zaxis": {
            "backgroundcolor": "#E5ECF6",
            "gridcolor": "white",
            "gridwidth": 2,
            "linecolor": "white",
            "showbackground": true,
            "ticks": "",
            "zerolinecolor": "white"
           }
          },
          "shapedefaults": {
           "line": {
            "color": "#2a3f5f"
           }
          },
          "ternary": {
           "aaxis": {
            "gridcolor": "white",
            "linecolor": "white",
            "ticks": ""
           },
           "baxis": {
            "gridcolor": "white",
            "linecolor": "white",
            "ticks": ""
           },
           "bgcolor": "#E5ECF6",
           "caxis": {
            "gridcolor": "white",
            "linecolor": "white",
            "ticks": ""
           }
          },
          "title": {
           "x": 0.05
          },
          "xaxis": {
           "automargin": true,
           "gridcolor": "white",
           "linecolor": "white",
           "ticks": "",
           "title": {
            "standoff": 15
           },
           "zerolinecolor": "white",
           "zerolinewidth": 2
          },
          "yaxis": {
           "automargin": true,
           "gridcolor": "white",
           "linecolor": "white",
           "ticks": "",
           "title": {
            "standoff": 15
           },
           "zerolinecolor": "white",
           "zerolinewidth": 2
          }
         }
        }
       }
      },
      "text/html": [
       "<div>                            <div id=\"69cc951c-e913-4d9e-a371-a2d2ab42ce15\" class=\"plotly-graph-div\" style=\"height:525px; width:100%;\"></div>            <script type=\"text/javascript\">                require([\"plotly\"], function(Plotly) {                    window.PLOTLYENV=window.PLOTLYENV || {};                                    if (document.getElementById(\"69cc951c-e913-4d9e-a371-a2d2ab42ce15\")) {                    Plotly.newPlot(                        \"69cc951c-e913-4d9e-a371-a2d2ab42ce15\",                        [{\"marker\":{\"color\":\"rgba(255,174,255,0.5)\",\"line\":{\"color\":\"rgb(0,0,0)\",\"width\":1.5}},\"name\":\"citations\",\"text\":[\"United States of America\",\"United States of America\",\"United Kingdom\"],\"x\":[\"California Institute of Technology\",\"Harvard University\",\"University of Oxford\"],\"y\":[99.8,99.1,95.4],\"type\":\"bar\"},{\"marker\":{\"color\":\"rgba(255,255,128,0.5)\",\"line\":{\"color\":\"rgb(0,0,0)\",\"width\":1.5}},\"name\":\"teaching\",\"text\":[\"United States of America\",\"United States of America\",\"United Kingdom\"],\"x\":[\"California Institute of Technology\",\"Harvard University\",\"University of Oxford\"],\"y\":[94.4,95.3,89.0],\"type\":\"bar\"}],                        {\"barmode\":\"group\",\"template\":{\"data\":{\"barpolar\":[{\"marker\":{\"line\":{\"color\":\"#E5ECF6\",\"width\":0.5},\"pattern\":{\"fillmode\":\"overlay\",\"size\":10,\"solidity\":0.2}},\"type\":\"barpolar\"}],\"bar\":[{\"error_x\":{\"color\":\"#2a3f5f\"},\"error_y\":{\"color\":\"#2a3f5f\"},\"marker\":{\"line\":{\"color\":\"#E5ECF6\",\"width\":0.5},\"pattern\":{\"fillmode\":\"overlay\",\"size\":10,\"solidity\":0.2}},\"type\":\"bar\"}],\"carpet\":[{\"aaxis\":{\"endlinecolor\":\"#2a3f5f\",\"gridcolor\":\"white\",\"linecolor\":\"white\",\"minorgridcolor\":\"white\",\"startlinecolor\":\"#2a3f5f\"},\"baxis\":{\"endlinecolor\":\"#2a3f5f\",\"gridcolor\":\"white\",\"linecolor\":\"white\",\"minorgridcolor\":\"white\",\"startlinecolor\":\"#2a3f5f\"},\"type\":\"carpet\"}],\"choropleth\":[{\"colorbar\":{\"outlinewidth\":0,\"ticks\":\"\"},\"type\":\"choropleth\"}],\"contourcarpet\":[{\"colorbar\":{\"outlinewidth\":0,\"ticks\":\"\"},\"type\":\"contourcarpet\"}],\"contour\":[{\"colorbar\":{\"outlinewidth\":0,\"ticks\":\"\"},\"colorscale\":[[0.0,\"#0d0887\"],[0.1111111111111111,\"#46039f\"],[0.2222222222222222,\"#7201a8\"],[0.3333333333333333,\"#9c179e\"],[0.4444444444444444,\"#bd3786\"],[0.5555555555555556,\"#d8576b\"],[0.6666666666666666,\"#ed7953\"],[0.7777777777777778,\"#fb9f3a\"],[0.8888888888888888,\"#fdca26\"],[1.0,\"#f0f921\"]],\"type\":\"contour\"}],\"heatmapgl\":[{\"colorbar\":{\"outlinewidth\":0,\"ticks\":\"\"},\"colorscale\":[[0.0,\"#0d0887\"],[0.1111111111111111,\"#46039f\"],[0.2222222222222222,\"#7201a8\"],[0.3333333333333333,\"#9c179e\"],[0.4444444444444444,\"#bd3786\"],[0.5555555555555556,\"#d8576b\"],[0.6666666666666666,\"#ed7953\"],[0.7777777777777778,\"#fb9f3a\"],[0.8888888888888888,\"#fdca26\"],[1.0,\"#f0f921\"]],\"type\":\"heatmapgl\"}],\"heatmap\":[{\"colorbar\":{\"outlinewidth\":0,\"ticks\":\"\"},\"colorscale\":[[0.0,\"#0d0887\"],[0.1111111111111111,\"#46039f\"],[0.2222222222222222,\"#7201a8\"],[0.3333333333333333,\"#9c179e\"],[0.4444444444444444,\"#bd3786\"],[0.5555555555555556,\"#d8576b\"],[0.6666666666666666,\"#ed7953\"],[0.7777777777777778,\"#fb9f3a\"],[0.8888888888888888,\"#fdca26\"],[1.0,\"#f0f921\"]],\"type\":\"heatmap\"}],\"histogram2dcontour\":[{\"colorbar\":{\"outlinewidth\":0,\"ticks\":\"\"},\"colorscale\":[[0.0,\"#0d0887\"],[0.1111111111111111,\"#46039f\"],[0.2222222222222222,\"#7201a8\"],[0.3333333333333333,\"#9c179e\"],[0.4444444444444444,\"#bd3786\"],[0.5555555555555556,\"#d8576b\"],[0.6666666666666666,\"#ed7953\"],[0.7777777777777778,\"#fb9f3a\"],[0.8888888888888888,\"#fdca26\"],[1.0,\"#f0f921\"]],\"type\":\"histogram2dcontour\"}],\"histogram2d\":[{\"colorbar\":{\"outlinewidth\":0,\"ticks\":\"\"},\"colorscale\":[[0.0,\"#0d0887\"],[0.1111111111111111,\"#46039f\"],[0.2222222222222222,\"#7201a8\"],[0.3333333333333333,\"#9c179e\"],[0.4444444444444444,\"#bd3786\"],[0.5555555555555556,\"#d8576b\"],[0.6666666666666666,\"#ed7953\"],[0.7777777777777778,\"#fb9f3a\"],[0.8888888888888888,\"#fdca26\"],[1.0,\"#f0f921\"]],\"type\":\"histogram2d\"}],\"histogram\":[{\"marker\":{\"pattern\":{\"fillmode\":\"overlay\",\"size\":10,\"solidity\":0.2}},\"type\":\"histogram\"}],\"mesh3d\":[{\"colorbar\":{\"outlinewidth\":0,\"ticks\":\"\"},\"type\":\"mesh3d\"}],\"parcoords\":[{\"line\":{\"colorbar\":{\"outlinewidth\":0,\"ticks\":\"\"}},\"type\":\"parcoords\"}],\"pie\":[{\"automargin\":true,\"type\":\"pie\"}],\"scatter3d\":[{\"line\":{\"colorbar\":{\"outlinewidth\":0,\"ticks\":\"\"}},\"marker\":{\"colorbar\":{\"outlinewidth\":0,\"ticks\":\"\"}},\"type\":\"scatter3d\"}],\"scattercarpet\":[{\"marker\":{\"colorbar\":{\"outlinewidth\":0,\"ticks\":\"\"}},\"type\":\"scattercarpet\"}],\"scattergeo\":[{\"marker\":{\"colorbar\":{\"outlinewidth\":0,\"ticks\":\"\"}},\"type\":\"scattergeo\"}],\"scattergl\":[{\"marker\":{\"colorbar\":{\"outlinewidth\":0,\"ticks\":\"\"}},\"type\":\"scattergl\"}],\"scattermapbox\":[{\"marker\":{\"colorbar\":{\"outlinewidth\":0,\"ticks\":\"\"}},\"type\":\"scattermapbox\"}],\"scatterpolargl\":[{\"marker\":{\"colorbar\":{\"outlinewidth\":0,\"ticks\":\"\"}},\"type\":\"scatterpolargl\"}],\"scatterpolar\":[{\"marker\":{\"colorbar\":{\"outlinewidth\":0,\"ticks\":\"\"}},\"type\":\"scatterpolar\"}],\"scatter\":[{\"fillpattern\":{\"fillmode\":\"overlay\",\"size\":10,\"solidity\":0.2},\"type\":\"scatter\"}],\"scatterternary\":[{\"marker\":{\"colorbar\":{\"outlinewidth\":0,\"ticks\":\"\"}},\"type\":\"scatterternary\"}],\"surface\":[{\"colorbar\":{\"outlinewidth\":0,\"ticks\":\"\"},\"colorscale\":[[0.0,\"#0d0887\"],[0.1111111111111111,\"#46039f\"],[0.2222222222222222,\"#7201a8\"],[0.3333333333333333,\"#9c179e\"],[0.4444444444444444,\"#bd3786\"],[0.5555555555555556,\"#d8576b\"],[0.6666666666666666,\"#ed7953\"],[0.7777777777777778,\"#fb9f3a\"],[0.8888888888888888,\"#fdca26\"],[1.0,\"#f0f921\"]],\"type\":\"surface\"}],\"table\":[{\"cells\":{\"fill\":{\"color\":\"#EBF0F8\"},\"line\":{\"color\":\"white\"}},\"header\":{\"fill\":{\"color\":\"#C8D4E3\"},\"line\":{\"color\":\"white\"}},\"type\":\"table\"}]},\"layout\":{\"annotationdefaults\":{\"arrowcolor\":\"#2a3f5f\",\"arrowhead\":0,\"arrowwidth\":1},\"autotypenumbers\":\"strict\",\"coloraxis\":{\"colorbar\":{\"outlinewidth\":0,\"ticks\":\"\"}},\"colorscale\":{\"diverging\":[[0,\"#8e0152\"],[0.1,\"#c51b7d\"],[0.2,\"#de77ae\"],[0.3,\"#f1b6da\"],[0.4,\"#fde0ef\"],[0.5,\"#f7f7f7\"],[0.6,\"#e6f5d0\"],[0.7,\"#b8e186\"],[0.8,\"#7fbc41\"],[0.9,\"#4d9221\"],[1,\"#276419\"]],\"sequential\":[[0.0,\"#0d0887\"],[0.1111111111111111,\"#46039f\"],[0.2222222222222222,\"#7201a8\"],[0.3333333333333333,\"#9c179e\"],[0.4444444444444444,\"#bd3786\"],[0.5555555555555556,\"#d8576b\"],[0.6666666666666666,\"#ed7953\"],[0.7777777777777778,\"#fb9f3a\"],[0.8888888888888888,\"#fdca26\"],[1.0,\"#f0f921\"]],\"sequentialminus\":[[0.0,\"#0d0887\"],[0.1111111111111111,\"#46039f\"],[0.2222222222222222,\"#7201a8\"],[0.3333333333333333,\"#9c179e\"],[0.4444444444444444,\"#bd3786\"],[0.5555555555555556,\"#d8576b\"],[0.6666666666666666,\"#ed7953\"],[0.7777777777777778,\"#fb9f3a\"],[0.8888888888888888,\"#fdca26\"],[1.0,\"#f0f921\"]]},\"colorway\":[\"#636efa\",\"#EF553B\",\"#00cc96\",\"#ab63fa\",\"#FFA15A\",\"#19d3f3\",\"#FF6692\",\"#B6E880\",\"#FF97FF\",\"#FECB52\"],\"font\":{\"color\":\"#2a3f5f\"},\"geo\":{\"bgcolor\":\"white\",\"lakecolor\":\"white\",\"landcolor\":\"#E5ECF6\",\"showlakes\":true,\"showland\":true,\"subunitcolor\":\"white\"},\"hoverlabel\":{\"align\":\"left\"},\"hovermode\":\"closest\",\"mapbox\":{\"style\":\"light\"},\"paper_bgcolor\":\"white\",\"plot_bgcolor\":\"#E5ECF6\",\"polar\":{\"angularaxis\":{\"gridcolor\":\"white\",\"linecolor\":\"white\",\"ticks\":\"\"},\"bgcolor\":\"#E5ECF6\",\"radialaxis\":{\"gridcolor\":\"white\",\"linecolor\":\"white\",\"ticks\":\"\"}},\"scene\":{\"xaxis\":{\"backgroundcolor\":\"#E5ECF6\",\"gridcolor\":\"white\",\"gridwidth\":2,\"linecolor\":\"white\",\"showbackground\":true,\"ticks\":\"\",\"zerolinecolor\":\"white\"},\"yaxis\":{\"backgroundcolor\":\"#E5ECF6\",\"gridcolor\":\"white\",\"gridwidth\":2,\"linecolor\":\"white\",\"showbackground\":true,\"ticks\":\"\",\"zerolinecolor\":\"white\"},\"zaxis\":{\"backgroundcolor\":\"#E5ECF6\",\"gridcolor\":\"white\",\"gridwidth\":2,\"linecolor\":\"white\",\"showbackground\":true,\"ticks\":\"\",\"zerolinecolor\":\"white\"}},\"shapedefaults\":{\"line\":{\"color\":\"#2a3f5f\"}},\"ternary\":{\"aaxis\":{\"gridcolor\":\"white\",\"linecolor\":\"white\",\"ticks\":\"\"},\"baxis\":{\"gridcolor\":\"white\",\"linecolor\":\"white\",\"ticks\":\"\"},\"bgcolor\":\"#E5ECF6\",\"caxis\":{\"gridcolor\":\"white\",\"linecolor\":\"white\",\"ticks\":\"\"}},\"title\":{\"x\":0.05},\"xaxis\":{\"automargin\":true,\"gridcolor\":\"white\",\"linecolor\":\"white\",\"ticks\":\"\",\"title\":{\"standoff\":15},\"zerolinecolor\":\"white\",\"zerolinewidth\":2},\"yaxis\":{\"automargin\":true,\"gridcolor\":\"white\",\"linecolor\":\"white\",\"ticks\":\"\",\"title\":{\"standoff\":15},\"zerolinecolor\":\"white\",\"zerolinewidth\":2}}}},                        {\"responsive\": true}                    ).then(function(){\n",
       "                            \n",
       "var gd = document.getElementById('69cc951c-e913-4d9e-a371-a2d2ab42ce15');\n",
       "var x = new MutationObserver(function (mutations, observer) {{\n",
       "        var display = window.getComputedStyle(gd).display;\n",
       "        if (!display || display === 'none') {{\n",
       "            console.log([gd, 'removed!']);\n",
       "            Plotly.purge(gd);\n",
       "            observer.disconnect();\n",
       "        }}\n",
       "}});\n",
       "\n",
       "// Listen for the removal of the full notebook cells\n",
       "var notebookContainer = gd.closest('#notebook-container');\n",
       "if (notebookContainer) {{\n",
       "    x.observe(notebookContainer, {childList: true});\n",
       "}}\n",
       "\n",
       "// Listen for the clearing of the current output cell\n",
       "var outputEl = gd.closest('.output');\n",
       "if (outputEl) {{\n",
       "    x.observe(outputEl, {childList: true});\n",
       "}}\n",
       "\n",
       "                        })                };                });            </script>        </div>"
      ]
     },
     "metadata": {},
     "output_type": "display_data"
    }
   ],
   "source": [
    "import plotly.graph_objs as go\n",
    "\n",
    "trace1=go.Bar(\n",
    "    x=df2014.university_name,\n",
    "    y=df2014.citations,\n",
    "    name=\"citations\",\n",
    "    marker= dict(color='rgba(255,174,255,0.5)', line=dict(color='rgb(0,0,0)',width=1.5)),\n",
    "    text=df2014.country)\n",
    "\n",
    "trace2=go.Bar(\n",
    "    x=df2014.university_name,\n",
    "    y=df2014.teaching,\n",
    "    name=\"teaching\",\n",
    "    marker= dict(color='rgba(255,255,128,0.5)', line= dict(color='rgb(0,0,0)',width=1.5)),\n",
    "    text=df2014.country)\n",
    "\n",
    "data=[trace1, trace2]\n",
    "layout= go.Layout(barmode=\"group\")   # barları grupla anlamına gelmektedir.\n",
    "fig= go.Figure(data=data, layout=layout)\n",
    "iplot(fig)"
   ]
  },
  {
   "cell_type": "code",
   "execution_count": 8,
   "id": "7e16bf11",
   "metadata": {
    "execution": {
     "iopub.execute_input": "2022-08-02T12:20:52.602335Z",
     "iopub.status.busy": "2022-08-02T12:20:52.601921Z",
     "iopub.status.idle": "2022-08-02T12:20:52.641009Z",
     "shell.execute_reply": "2022-08-02T12:20:52.639829Z"
    },
    "papermill": {
     "duration": 0.070834,
     "end_time": "2022-08-02T12:20:52.643562",
     "exception": false,
     "start_time": "2022-08-02T12:20:52.572728",
     "status": "completed"
    },
    "tags": []
   },
   "outputs": [
    {
     "data": {
      "application/vnd.plotly.v1+json": {
       "config": {
        "linkText": "Export to plot.ly",
        "plotlyServerURL": "https://plot.ly",
        "showLink": false
       },
       "data": [
        {
         "name": "citation",
         "type": "bar",
         "x": [
          "California Institute of Technology",
          "Harvard University",
          "University of Oxford"
         ],
         "y": [
          99.8,
          99.1,
          95.4
         ]
        },
        {
         "name": "teaching",
         "type": "bar",
         "x": [
          "California Institute of Technology",
          "Harvard University",
          "University of Oxford"
         ],
         "y": [
          94.4,
          95.3,
          89.0
         ]
        }
       ],
       "layout": {
        "barmode": "relative",
        "template": {
         "data": {
          "bar": [
           {
            "error_x": {
             "color": "#2a3f5f"
            },
            "error_y": {
             "color": "#2a3f5f"
            },
            "marker": {
             "line": {
              "color": "#E5ECF6",
              "width": 0.5
             },
             "pattern": {
              "fillmode": "overlay",
              "size": 10,
              "solidity": 0.2
             }
            },
            "type": "bar"
           }
          ],
          "barpolar": [
           {
            "marker": {
             "line": {
              "color": "#E5ECF6",
              "width": 0.5
             },
             "pattern": {
              "fillmode": "overlay",
              "size": 10,
              "solidity": 0.2
             }
            },
            "type": "barpolar"
           }
          ],
          "carpet": [
           {
            "aaxis": {
             "endlinecolor": "#2a3f5f",
             "gridcolor": "white",
             "linecolor": "white",
             "minorgridcolor": "white",
             "startlinecolor": "#2a3f5f"
            },
            "baxis": {
             "endlinecolor": "#2a3f5f",
             "gridcolor": "white",
             "linecolor": "white",
             "minorgridcolor": "white",
             "startlinecolor": "#2a3f5f"
            },
            "type": "carpet"
           }
          ],
          "choropleth": [
           {
            "colorbar": {
             "outlinewidth": 0,
             "ticks": ""
            },
            "type": "choropleth"
           }
          ],
          "contour": [
           {
            "colorbar": {
             "outlinewidth": 0,
             "ticks": ""
            },
            "colorscale": [
             [
              0.0,
              "#0d0887"
             ],
             [
              0.1111111111111111,
              "#46039f"
             ],
             [
              0.2222222222222222,
              "#7201a8"
             ],
             [
              0.3333333333333333,
              "#9c179e"
             ],
             [
              0.4444444444444444,
              "#bd3786"
             ],
             [
              0.5555555555555556,
              "#d8576b"
             ],
             [
              0.6666666666666666,
              "#ed7953"
             ],
             [
              0.7777777777777778,
              "#fb9f3a"
             ],
             [
              0.8888888888888888,
              "#fdca26"
             ],
             [
              1.0,
              "#f0f921"
             ]
            ],
            "type": "contour"
           }
          ],
          "contourcarpet": [
           {
            "colorbar": {
             "outlinewidth": 0,
             "ticks": ""
            },
            "type": "contourcarpet"
           }
          ],
          "heatmap": [
           {
            "colorbar": {
             "outlinewidth": 0,
             "ticks": ""
            },
            "colorscale": [
             [
              0.0,
              "#0d0887"
             ],
             [
              0.1111111111111111,
              "#46039f"
             ],
             [
              0.2222222222222222,
              "#7201a8"
             ],
             [
              0.3333333333333333,
              "#9c179e"
             ],
             [
              0.4444444444444444,
              "#bd3786"
             ],
             [
              0.5555555555555556,
              "#d8576b"
             ],
             [
              0.6666666666666666,
              "#ed7953"
             ],
             [
              0.7777777777777778,
              "#fb9f3a"
             ],
             [
              0.8888888888888888,
              "#fdca26"
             ],
             [
              1.0,
              "#f0f921"
             ]
            ],
            "type": "heatmap"
           }
          ],
          "heatmapgl": [
           {
            "colorbar": {
             "outlinewidth": 0,
             "ticks": ""
            },
            "colorscale": [
             [
              0.0,
              "#0d0887"
             ],
             [
              0.1111111111111111,
              "#46039f"
             ],
             [
              0.2222222222222222,
              "#7201a8"
             ],
             [
              0.3333333333333333,
              "#9c179e"
             ],
             [
              0.4444444444444444,
              "#bd3786"
             ],
             [
              0.5555555555555556,
              "#d8576b"
             ],
             [
              0.6666666666666666,
              "#ed7953"
             ],
             [
              0.7777777777777778,
              "#fb9f3a"
             ],
             [
              0.8888888888888888,
              "#fdca26"
             ],
             [
              1.0,
              "#f0f921"
             ]
            ],
            "type": "heatmapgl"
           }
          ],
          "histogram": [
           {
            "marker": {
             "pattern": {
              "fillmode": "overlay",
              "size": 10,
              "solidity": 0.2
             }
            },
            "type": "histogram"
           }
          ],
          "histogram2d": [
           {
            "colorbar": {
             "outlinewidth": 0,
             "ticks": ""
            },
            "colorscale": [
             [
              0.0,
              "#0d0887"
             ],
             [
              0.1111111111111111,
              "#46039f"
             ],
             [
              0.2222222222222222,
              "#7201a8"
             ],
             [
              0.3333333333333333,
              "#9c179e"
             ],
             [
              0.4444444444444444,
              "#bd3786"
             ],
             [
              0.5555555555555556,
              "#d8576b"
             ],
             [
              0.6666666666666666,
              "#ed7953"
             ],
             [
              0.7777777777777778,
              "#fb9f3a"
             ],
             [
              0.8888888888888888,
              "#fdca26"
             ],
             [
              1.0,
              "#f0f921"
             ]
            ],
            "type": "histogram2d"
           }
          ],
          "histogram2dcontour": [
           {
            "colorbar": {
             "outlinewidth": 0,
             "ticks": ""
            },
            "colorscale": [
             [
              0.0,
              "#0d0887"
             ],
             [
              0.1111111111111111,
              "#46039f"
             ],
             [
              0.2222222222222222,
              "#7201a8"
             ],
             [
              0.3333333333333333,
              "#9c179e"
             ],
             [
              0.4444444444444444,
              "#bd3786"
             ],
             [
              0.5555555555555556,
              "#d8576b"
             ],
             [
              0.6666666666666666,
              "#ed7953"
             ],
             [
              0.7777777777777778,
              "#fb9f3a"
             ],
             [
              0.8888888888888888,
              "#fdca26"
             ],
             [
              1.0,
              "#f0f921"
             ]
            ],
            "type": "histogram2dcontour"
           }
          ],
          "mesh3d": [
           {
            "colorbar": {
             "outlinewidth": 0,
             "ticks": ""
            },
            "type": "mesh3d"
           }
          ],
          "parcoords": [
           {
            "line": {
             "colorbar": {
              "outlinewidth": 0,
              "ticks": ""
             }
            },
            "type": "parcoords"
           }
          ],
          "pie": [
           {
            "automargin": true,
            "type": "pie"
           }
          ],
          "scatter": [
           {
            "fillpattern": {
             "fillmode": "overlay",
             "size": 10,
             "solidity": 0.2
            },
            "type": "scatter"
           }
          ],
          "scatter3d": [
           {
            "line": {
             "colorbar": {
              "outlinewidth": 0,
              "ticks": ""
             }
            },
            "marker": {
             "colorbar": {
              "outlinewidth": 0,
              "ticks": ""
             }
            },
            "type": "scatter3d"
           }
          ],
          "scattercarpet": [
           {
            "marker": {
             "colorbar": {
              "outlinewidth": 0,
              "ticks": ""
             }
            },
            "type": "scattercarpet"
           }
          ],
          "scattergeo": [
           {
            "marker": {
             "colorbar": {
              "outlinewidth": 0,
              "ticks": ""
             }
            },
            "type": "scattergeo"
           }
          ],
          "scattergl": [
           {
            "marker": {
             "colorbar": {
              "outlinewidth": 0,
              "ticks": ""
             }
            },
            "type": "scattergl"
           }
          ],
          "scattermapbox": [
           {
            "marker": {
             "colorbar": {
              "outlinewidth": 0,
              "ticks": ""
             }
            },
            "type": "scattermapbox"
           }
          ],
          "scatterpolar": [
           {
            "marker": {
             "colorbar": {
              "outlinewidth": 0,
              "ticks": ""
             }
            },
            "type": "scatterpolar"
           }
          ],
          "scatterpolargl": [
           {
            "marker": {
             "colorbar": {
              "outlinewidth": 0,
              "ticks": ""
             }
            },
            "type": "scatterpolargl"
           }
          ],
          "scatterternary": [
           {
            "marker": {
             "colorbar": {
              "outlinewidth": 0,
              "ticks": ""
             }
            },
            "type": "scatterternary"
           }
          ],
          "surface": [
           {
            "colorbar": {
             "outlinewidth": 0,
             "ticks": ""
            },
            "colorscale": [
             [
              0.0,
              "#0d0887"
             ],
             [
              0.1111111111111111,
              "#46039f"
             ],
             [
              0.2222222222222222,
              "#7201a8"
             ],
             [
              0.3333333333333333,
              "#9c179e"
             ],
             [
              0.4444444444444444,
              "#bd3786"
             ],
             [
              0.5555555555555556,
              "#d8576b"
             ],
             [
              0.6666666666666666,
              "#ed7953"
             ],
             [
              0.7777777777777778,
              "#fb9f3a"
             ],
             [
              0.8888888888888888,
              "#fdca26"
             ],
             [
              1.0,
              "#f0f921"
             ]
            ],
            "type": "surface"
           }
          ],
          "table": [
           {
            "cells": {
             "fill": {
              "color": "#EBF0F8"
             },
             "line": {
              "color": "white"
             }
            },
            "header": {
             "fill": {
              "color": "#C8D4E3"
             },
             "line": {
              "color": "white"
             }
            },
            "type": "table"
           }
          ]
         },
         "layout": {
          "annotationdefaults": {
           "arrowcolor": "#2a3f5f",
           "arrowhead": 0,
           "arrowwidth": 1
          },
          "autotypenumbers": "strict",
          "coloraxis": {
           "colorbar": {
            "outlinewidth": 0,
            "ticks": ""
           }
          },
          "colorscale": {
           "diverging": [
            [
             0,
             "#8e0152"
            ],
            [
             0.1,
             "#c51b7d"
            ],
            [
             0.2,
             "#de77ae"
            ],
            [
             0.3,
             "#f1b6da"
            ],
            [
             0.4,
             "#fde0ef"
            ],
            [
             0.5,
             "#f7f7f7"
            ],
            [
             0.6,
             "#e6f5d0"
            ],
            [
             0.7,
             "#b8e186"
            ],
            [
             0.8,
             "#7fbc41"
            ],
            [
             0.9,
             "#4d9221"
            ],
            [
             1,
             "#276419"
            ]
           ],
           "sequential": [
            [
             0.0,
             "#0d0887"
            ],
            [
             0.1111111111111111,
             "#46039f"
            ],
            [
             0.2222222222222222,
             "#7201a8"
            ],
            [
             0.3333333333333333,
             "#9c179e"
            ],
            [
             0.4444444444444444,
             "#bd3786"
            ],
            [
             0.5555555555555556,
             "#d8576b"
            ],
            [
             0.6666666666666666,
             "#ed7953"
            ],
            [
             0.7777777777777778,
             "#fb9f3a"
            ],
            [
             0.8888888888888888,
             "#fdca26"
            ],
            [
             1.0,
             "#f0f921"
            ]
           ],
           "sequentialminus": [
            [
             0.0,
             "#0d0887"
            ],
            [
             0.1111111111111111,
             "#46039f"
            ],
            [
             0.2222222222222222,
             "#7201a8"
            ],
            [
             0.3333333333333333,
             "#9c179e"
            ],
            [
             0.4444444444444444,
             "#bd3786"
            ],
            [
             0.5555555555555556,
             "#d8576b"
            ],
            [
             0.6666666666666666,
             "#ed7953"
            ],
            [
             0.7777777777777778,
             "#fb9f3a"
            ],
            [
             0.8888888888888888,
             "#fdca26"
            ],
            [
             1.0,
             "#f0f921"
            ]
           ]
          },
          "colorway": [
           "#636efa",
           "#EF553B",
           "#00cc96",
           "#ab63fa",
           "#FFA15A",
           "#19d3f3",
           "#FF6692",
           "#B6E880",
           "#FF97FF",
           "#FECB52"
          ],
          "font": {
           "color": "#2a3f5f"
          },
          "geo": {
           "bgcolor": "white",
           "lakecolor": "white",
           "landcolor": "#E5ECF6",
           "showlakes": true,
           "showland": true,
           "subunitcolor": "white"
          },
          "hoverlabel": {
           "align": "left"
          },
          "hovermode": "closest",
          "mapbox": {
           "style": "light"
          },
          "paper_bgcolor": "white",
          "plot_bgcolor": "#E5ECF6",
          "polar": {
           "angularaxis": {
            "gridcolor": "white",
            "linecolor": "white",
            "ticks": ""
           },
           "bgcolor": "#E5ECF6",
           "radialaxis": {
            "gridcolor": "white",
            "linecolor": "white",
            "ticks": ""
           }
          },
          "scene": {
           "xaxis": {
            "backgroundcolor": "#E5ECF6",
            "gridcolor": "white",
            "gridwidth": 2,
            "linecolor": "white",
            "showbackground": true,
            "ticks": "",
            "zerolinecolor": "white"
           },
           "yaxis": {
            "backgroundcolor": "#E5ECF6",
            "gridcolor": "white",
            "gridwidth": 2,
            "linecolor": "white",
            "showbackground": true,
            "ticks": "",
            "zerolinecolor": "white"
           },
           "zaxis": {
            "backgroundcolor": "#E5ECF6",
            "gridcolor": "white",
            "gridwidth": 2,
            "linecolor": "white",
            "showbackground": true,
            "ticks": "",
            "zerolinecolor": "white"
           }
          },
          "shapedefaults": {
           "line": {
            "color": "#2a3f5f"
           }
          },
          "ternary": {
           "aaxis": {
            "gridcolor": "white",
            "linecolor": "white",
            "ticks": ""
           },
           "baxis": {
            "gridcolor": "white",
            "linecolor": "white",
            "ticks": ""
           },
           "bgcolor": "#E5ECF6",
           "caxis": {
            "gridcolor": "white",
            "linecolor": "white",
            "ticks": ""
           }
          },
          "title": {
           "x": 0.05
          },
          "xaxis": {
           "automargin": true,
           "gridcolor": "white",
           "linecolor": "white",
           "ticks": "",
           "title": {
            "standoff": 15
           },
           "zerolinecolor": "white",
           "zerolinewidth": 2
          },
          "yaxis": {
           "automargin": true,
           "gridcolor": "white",
           "linecolor": "white",
           "ticks": "",
           "title": {
            "standoff": 15
           },
           "zerolinecolor": "white",
           "zerolinewidth": 2
          }
         }
        },
        "title": {
         "text": "citations and teaching of top 3 universities in 2014"
        },
        "xaxis": {
         "title": {
          "text": "Top 3 universities"
         }
        }
       }
      },
      "text/html": [
       "<div>                            <div id=\"417435a1-c2d7-41b3-b494-92c80772ecdf\" class=\"plotly-graph-div\" style=\"height:525px; width:100%;\"></div>            <script type=\"text/javascript\">                require([\"plotly\"], function(Plotly) {                    window.PLOTLYENV=window.PLOTLYENV || {};                                    if (document.getElementById(\"417435a1-c2d7-41b3-b494-92c80772ecdf\")) {                    Plotly.newPlot(                        \"417435a1-c2d7-41b3-b494-92c80772ecdf\",                        [{\"name\":\"citation\",\"x\":[\"California Institute of Technology\",\"Harvard University\",\"University of Oxford\"],\"y\":[99.8,99.1,95.4],\"type\":\"bar\"},{\"name\":\"teaching\",\"x\":[\"California Institute of Technology\",\"Harvard University\",\"University of Oxford\"],\"y\":[94.4,95.3,89.0],\"type\":\"bar\"}],                        {\"barmode\":\"relative\",\"template\":{\"data\":{\"barpolar\":[{\"marker\":{\"line\":{\"color\":\"#E5ECF6\",\"width\":0.5},\"pattern\":{\"fillmode\":\"overlay\",\"size\":10,\"solidity\":0.2}},\"type\":\"barpolar\"}],\"bar\":[{\"error_x\":{\"color\":\"#2a3f5f\"},\"error_y\":{\"color\":\"#2a3f5f\"},\"marker\":{\"line\":{\"color\":\"#E5ECF6\",\"width\":0.5},\"pattern\":{\"fillmode\":\"overlay\",\"size\":10,\"solidity\":0.2}},\"type\":\"bar\"}],\"carpet\":[{\"aaxis\":{\"endlinecolor\":\"#2a3f5f\",\"gridcolor\":\"white\",\"linecolor\":\"white\",\"minorgridcolor\":\"white\",\"startlinecolor\":\"#2a3f5f\"},\"baxis\":{\"endlinecolor\":\"#2a3f5f\",\"gridcolor\":\"white\",\"linecolor\":\"white\",\"minorgridcolor\":\"white\",\"startlinecolor\":\"#2a3f5f\"},\"type\":\"carpet\"}],\"choropleth\":[{\"colorbar\":{\"outlinewidth\":0,\"ticks\":\"\"},\"type\":\"choropleth\"}],\"contourcarpet\":[{\"colorbar\":{\"outlinewidth\":0,\"ticks\":\"\"},\"type\":\"contourcarpet\"}],\"contour\":[{\"colorbar\":{\"outlinewidth\":0,\"ticks\":\"\"},\"colorscale\":[[0.0,\"#0d0887\"],[0.1111111111111111,\"#46039f\"],[0.2222222222222222,\"#7201a8\"],[0.3333333333333333,\"#9c179e\"],[0.4444444444444444,\"#bd3786\"],[0.5555555555555556,\"#d8576b\"],[0.6666666666666666,\"#ed7953\"],[0.7777777777777778,\"#fb9f3a\"],[0.8888888888888888,\"#fdca26\"],[1.0,\"#f0f921\"]],\"type\":\"contour\"}],\"heatmapgl\":[{\"colorbar\":{\"outlinewidth\":0,\"ticks\":\"\"},\"colorscale\":[[0.0,\"#0d0887\"],[0.1111111111111111,\"#46039f\"],[0.2222222222222222,\"#7201a8\"],[0.3333333333333333,\"#9c179e\"],[0.4444444444444444,\"#bd3786\"],[0.5555555555555556,\"#d8576b\"],[0.6666666666666666,\"#ed7953\"],[0.7777777777777778,\"#fb9f3a\"],[0.8888888888888888,\"#fdca26\"],[1.0,\"#f0f921\"]],\"type\":\"heatmapgl\"}],\"heatmap\":[{\"colorbar\":{\"outlinewidth\":0,\"ticks\":\"\"},\"colorscale\":[[0.0,\"#0d0887\"],[0.1111111111111111,\"#46039f\"],[0.2222222222222222,\"#7201a8\"],[0.3333333333333333,\"#9c179e\"],[0.4444444444444444,\"#bd3786\"],[0.5555555555555556,\"#d8576b\"],[0.6666666666666666,\"#ed7953\"],[0.7777777777777778,\"#fb9f3a\"],[0.8888888888888888,\"#fdca26\"],[1.0,\"#f0f921\"]],\"type\":\"heatmap\"}],\"histogram2dcontour\":[{\"colorbar\":{\"outlinewidth\":0,\"ticks\":\"\"},\"colorscale\":[[0.0,\"#0d0887\"],[0.1111111111111111,\"#46039f\"],[0.2222222222222222,\"#7201a8\"],[0.3333333333333333,\"#9c179e\"],[0.4444444444444444,\"#bd3786\"],[0.5555555555555556,\"#d8576b\"],[0.6666666666666666,\"#ed7953\"],[0.7777777777777778,\"#fb9f3a\"],[0.8888888888888888,\"#fdca26\"],[1.0,\"#f0f921\"]],\"type\":\"histogram2dcontour\"}],\"histogram2d\":[{\"colorbar\":{\"outlinewidth\":0,\"ticks\":\"\"},\"colorscale\":[[0.0,\"#0d0887\"],[0.1111111111111111,\"#46039f\"],[0.2222222222222222,\"#7201a8\"],[0.3333333333333333,\"#9c179e\"],[0.4444444444444444,\"#bd3786\"],[0.5555555555555556,\"#d8576b\"],[0.6666666666666666,\"#ed7953\"],[0.7777777777777778,\"#fb9f3a\"],[0.8888888888888888,\"#fdca26\"],[1.0,\"#f0f921\"]],\"type\":\"histogram2d\"}],\"histogram\":[{\"marker\":{\"pattern\":{\"fillmode\":\"overlay\",\"size\":10,\"solidity\":0.2}},\"type\":\"histogram\"}],\"mesh3d\":[{\"colorbar\":{\"outlinewidth\":0,\"ticks\":\"\"},\"type\":\"mesh3d\"}],\"parcoords\":[{\"line\":{\"colorbar\":{\"outlinewidth\":0,\"ticks\":\"\"}},\"type\":\"parcoords\"}],\"pie\":[{\"automargin\":true,\"type\":\"pie\"}],\"scatter3d\":[{\"line\":{\"colorbar\":{\"outlinewidth\":0,\"ticks\":\"\"}},\"marker\":{\"colorbar\":{\"outlinewidth\":0,\"ticks\":\"\"}},\"type\":\"scatter3d\"}],\"scattercarpet\":[{\"marker\":{\"colorbar\":{\"outlinewidth\":0,\"ticks\":\"\"}},\"type\":\"scattercarpet\"}],\"scattergeo\":[{\"marker\":{\"colorbar\":{\"outlinewidth\":0,\"ticks\":\"\"}},\"type\":\"scattergeo\"}],\"scattergl\":[{\"marker\":{\"colorbar\":{\"outlinewidth\":0,\"ticks\":\"\"}},\"type\":\"scattergl\"}],\"scattermapbox\":[{\"marker\":{\"colorbar\":{\"outlinewidth\":0,\"ticks\":\"\"}},\"type\":\"scattermapbox\"}],\"scatterpolargl\":[{\"marker\":{\"colorbar\":{\"outlinewidth\":0,\"ticks\":\"\"}},\"type\":\"scatterpolargl\"}],\"scatterpolar\":[{\"marker\":{\"colorbar\":{\"outlinewidth\":0,\"ticks\":\"\"}},\"type\":\"scatterpolar\"}],\"scatter\":[{\"fillpattern\":{\"fillmode\":\"overlay\",\"size\":10,\"solidity\":0.2},\"type\":\"scatter\"}],\"scatterternary\":[{\"marker\":{\"colorbar\":{\"outlinewidth\":0,\"ticks\":\"\"}},\"type\":\"scatterternary\"}],\"surface\":[{\"colorbar\":{\"outlinewidth\":0,\"ticks\":\"\"},\"colorscale\":[[0.0,\"#0d0887\"],[0.1111111111111111,\"#46039f\"],[0.2222222222222222,\"#7201a8\"],[0.3333333333333333,\"#9c179e\"],[0.4444444444444444,\"#bd3786\"],[0.5555555555555556,\"#d8576b\"],[0.6666666666666666,\"#ed7953\"],[0.7777777777777778,\"#fb9f3a\"],[0.8888888888888888,\"#fdca26\"],[1.0,\"#f0f921\"]],\"type\":\"surface\"}],\"table\":[{\"cells\":{\"fill\":{\"color\":\"#EBF0F8\"},\"line\":{\"color\":\"white\"}},\"header\":{\"fill\":{\"color\":\"#C8D4E3\"},\"line\":{\"color\":\"white\"}},\"type\":\"table\"}]},\"layout\":{\"annotationdefaults\":{\"arrowcolor\":\"#2a3f5f\",\"arrowhead\":0,\"arrowwidth\":1},\"autotypenumbers\":\"strict\",\"coloraxis\":{\"colorbar\":{\"outlinewidth\":0,\"ticks\":\"\"}},\"colorscale\":{\"diverging\":[[0,\"#8e0152\"],[0.1,\"#c51b7d\"],[0.2,\"#de77ae\"],[0.3,\"#f1b6da\"],[0.4,\"#fde0ef\"],[0.5,\"#f7f7f7\"],[0.6,\"#e6f5d0\"],[0.7,\"#b8e186\"],[0.8,\"#7fbc41\"],[0.9,\"#4d9221\"],[1,\"#276419\"]],\"sequential\":[[0.0,\"#0d0887\"],[0.1111111111111111,\"#46039f\"],[0.2222222222222222,\"#7201a8\"],[0.3333333333333333,\"#9c179e\"],[0.4444444444444444,\"#bd3786\"],[0.5555555555555556,\"#d8576b\"],[0.6666666666666666,\"#ed7953\"],[0.7777777777777778,\"#fb9f3a\"],[0.8888888888888888,\"#fdca26\"],[1.0,\"#f0f921\"]],\"sequentialminus\":[[0.0,\"#0d0887\"],[0.1111111111111111,\"#46039f\"],[0.2222222222222222,\"#7201a8\"],[0.3333333333333333,\"#9c179e\"],[0.4444444444444444,\"#bd3786\"],[0.5555555555555556,\"#d8576b\"],[0.6666666666666666,\"#ed7953\"],[0.7777777777777778,\"#fb9f3a\"],[0.8888888888888888,\"#fdca26\"],[1.0,\"#f0f921\"]]},\"colorway\":[\"#636efa\",\"#EF553B\",\"#00cc96\",\"#ab63fa\",\"#FFA15A\",\"#19d3f3\",\"#FF6692\",\"#B6E880\",\"#FF97FF\",\"#FECB52\"],\"font\":{\"color\":\"#2a3f5f\"},\"geo\":{\"bgcolor\":\"white\",\"lakecolor\":\"white\",\"landcolor\":\"#E5ECF6\",\"showlakes\":true,\"showland\":true,\"subunitcolor\":\"white\"},\"hoverlabel\":{\"align\":\"left\"},\"hovermode\":\"closest\",\"mapbox\":{\"style\":\"light\"},\"paper_bgcolor\":\"white\",\"plot_bgcolor\":\"#E5ECF6\",\"polar\":{\"angularaxis\":{\"gridcolor\":\"white\",\"linecolor\":\"white\",\"ticks\":\"\"},\"bgcolor\":\"#E5ECF6\",\"radialaxis\":{\"gridcolor\":\"white\",\"linecolor\":\"white\",\"ticks\":\"\"}},\"scene\":{\"xaxis\":{\"backgroundcolor\":\"#E5ECF6\",\"gridcolor\":\"white\",\"gridwidth\":2,\"linecolor\":\"white\",\"showbackground\":true,\"ticks\":\"\",\"zerolinecolor\":\"white\"},\"yaxis\":{\"backgroundcolor\":\"#E5ECF6\",\"gridcolor\":\"white\",\"gridwidth\":2,\"linecolor\":\"white\",\"showbackground\":true,\"ticks\":\"\",\"zerolinecolor\":\"white\"},\"zaxis\":{\"backgroundcolor\":\"#E5ECF6\",\"gridcolor\":\"white\",\"gridwidth\":2,\"linecolor\":\"white\",\"showbackground\":true,\"ticks\":\"\",\"zerolinecolor\":\"white\"}},\"shapedefaults\":{\"line\":{\"color\":\"#2a3f5f\"}},\"ternary\":{\"aaxis\":{\"gridcolor\":\"white\",\"linecolor\":\"white\",\"ticks\":\"\"},\"baxis\":{\"gridcolor\":\"white\",\"linecolor\":\"white\",\"ticks\":\"\"},\"bgcolor\":\"#E5ECF6\",\"caxis\":{\"gridcolor\":\"white\",\"linecolor\":\"white\",\"ticks\":\"\"}},\"title\":{\"x\":0.05},\"xaxis\":{\"automargin\":true,\"gridcolor\":\"white\",\"linecolor\":\"white\",\"ticks\":\"\",\"title\":{\"standoff\":15},\"zerolinecolor\":\"white\",\"zerolinewidth\":2},\"yaxis\":{\"automargin\":true,\"gridcolor\":\"white\",\"linecolor\":\"white\",\"ticks\":\"\",\"title\":{\"standoff\":15},\"zerolinecolor\":\"white\",\"zerolinewidth\":2}}},\"title\":{\"text\":\"citations and teaching of top 3 universities in 2014\"},\"xaxis\":{\"title\":{\"text\":\"Top 3 universities\"}}},                        {\"responsive\": true}                    ).then(function(){\n",
       "                            \n",
       "var gd = document.getElementById('417435a1-c2d7-41b3-b494-92c80772ecdf');\n",
       "var x = new MutationObserver(function (mutations, observer) {{\n",
       "        var display = window.getComputedStyle(gd).display;\n",
       "        if (!display || display === 'none') {{\n",
       "            console.log([gd, 'removed!']);\n",
       "            Plotly.purge(gd);\n",
       "            observer.disconnect();\n",
       "        }}\n",
       "}});\n",
       "\n",
       "// Listen for the removal of the full notebook cells\n",
       "var notebookContainer = gd.closest('#notebook-container');\n",
       "if (notebookContainer) {{\n",
       "    x.observe(notebookContainer, {childList: true});\n",
       "}}\n",
       "\n",
       "// Listen for the clearing of the current output cell\n",
       "var outputEl = gd.closest('.output');\n",
       "if (outputEl) {{\n",
       "    x.observe(outputEl, {childList: true});\n",
       "}}\n",
       "\n",
       "                        })                };                });            </script>        </div>"
      ]
     },
     "metadata": {},
     "output_type": "display_data"
    }
   ],
   "source": [
    "df2014=timesData[timesData.year==2014].iloc[:3,:]\n",
    "import plotly.graph_objs as go\n",
    "\n",
    "x= df2014.university_name\n",
    "\n",
    "trace1={\n",
    "    'x':x,\n",
    "    'y':df2014.citations,\n",
    "    'name':'citation',\n",
    "    'type':'bar'\n",
    "};\n",
    "trace2={\n",
    "    'x':x,\n",
    "    'y':df2014.teaching,\n",
    "    'name': 'teaching',\n",
    "    'type':'bar'\n",
    "};\n",
    "data=[trace1, trace2];\n",
    "layout={\n",
    "    'xaxis':{'title':'Top 3 universities'},\n",
    "    'barmode': 'relative',   # relative olması bu barları altlı üstlü şekilde koyması anlamına geliyor    \n",
    "    'title': 'citations and teaching of top 3 universities in 2014'\n",
    "};\n",
    "fig=go.Figure(data=data, layout= layout)\n",
    "iplot(fig)"
   ]
  },
  {
   "cell_type": "markdown",
   "id": "a04d3a37",
   "metadata": {
    "papermill": {
     "duration": 0.033238,
     "end_time": "2022-08-02T12:20:52.710011",
     "exception": false,
     "start_time": "2022-08-02T12:20:52.676773",
     "status": "completed"
    },
    "tags": []
   },
   "source": [
    "## Pie Chart"
   ]
  },
  {
   "cell_type": "code",
   "execution_count": 9,
   "id": "d2bbe26c",
   "metadata": {
    "execution": {
     "iopub.execute_input": "2022-08-02T12:20:52.782961Z",
     "iopub.status.busy": "2022-08-02T12:20:52.782224Z",
     "iopub.status.idle": "2022-08-02T12:20:52.803522Z",
     "shell.execute_reply": "2022-08-02T12:20:52.802728Z"
    },
    "papermill": {
     "duration": 0.059201,
     "end_time": "2022-08-02T12:20:52.805778",
     "exception": false,
     "start_time": "2022-08-02T12:20:52.746577",
     "status": "completed"
    },
    "tags": []
   },
   "outputs": [
    {
     "data": {
      "text/html": [
       "<div>\n",
       "<style scoped>\n",
       "    .dataframe tbody tr th:only-of-type {\n",
       "        vertical-align: middle;\n",
       "    }\n",
       "\n",
       "    .dataframe tbody tr th {\n",
       "        vertical-align: top;\n",
       "    }\n",
       "\n",
       "    .dataframe thead th {\n",
       "        text-align: right;\n",
       "    }\n",
       "</style>\n",
       "<table border=\"1\" class=\"dataframe\">\n",
       "  <thead>\n",
       "    <tr style=\"text-align: right;\">\n",
       "      <th></th>\n",
       "      <th>world_rank</th>\n",
       "      <th>university_name</th>\n",
       "      <th>country</th>\n",
       "      <th>teaching</th>\n",
       "      <th>international</th>\n",
       "      <th>research</th>\n",
       "      <th>citations</th>\n",
       "      <th>income</th>\n",
       "      <th>total_score</th>\n",
       "      <th>num_students</th>\n",
       "      <th>student_staff_ratio</th>\n",
       "      <th>international_students</th>\n",
       "      <th>female_male_ratio</th>\n",
       "      <th>year</th>\n",
       "    </tr>\n",
       "  </thead>\n",
       "  <tbody>\n",
       "    <tr>\n",
       "      <th>1803</th>\n",
       "      <td>1</td>\n",
       "      <td>California Institute of Technology</td>\n",
       "      <td>United States of America</td>\n",
       "      <td>95.6</td>\n",
       "      <td>64.0</td>\n",
       "      <td>97.6</td>\n",
       "      <td>99.8</td>\n",
       "      <td>97.8</td>\n",
       "      <td>95.2</td>\n",
       "      <td>2,243</td>\n",
       "      <td>6.9</td>\n",
       "      <td>27%</td>\n",
       "      <td>33 : 67</td>\n",
       "      <td>2016</td>\n",
       "    </tr>\n",
       "    <tr>\n",
       "      <th>1804</th>\n",
       "      <td>2</td>\n",
       "      <td>University of Oxford</td>\n",
       "      <td>United Kingdom</td>\n",
       "      <td>86.5</td>\n",
       "      <td>94.4</td>\n",
       "      <td>98.9</td>\n",
       "      <td>98.8</td>\n",
       "      <td>73.1</td>\n",
       "      <td>94.2</td>\n",
       "      <td>19,919</td>\n",
       "      <td>11.6</td>\n",
       "      <td>34%</td>\n",
       "      <td>46 : 54</td>\n",
       "      <td>2016</td>\n",
       "    </tr>\n",
       "    <tr>\n",
       "      <th>1805</th>\n",
       "      <td>3</td>\n",
       "      <td>Stanford University</td>\n",
       "      <td>United States of America</td>\n",
       "      <td>92.5</td>\n",
       "      <td>76.3</td>\n",
       "      <td>96.2</td>\n",
       "      <td>99.9</td>\n",
       "      <td>63.3</td>\n",
       "      <td>93.9</td>\n",
       "      <td>15,596</td>\n",
       "      <td>7.8</td>\n",
       "      <td>22%</td>\n",
       "      <td>42 : 58</td>\n",
       "      <td>2016</td>\n",
       "    </tr>\n",
       "    <tr>\n",
       "      <th>1806</th>\n",
       "      <td>4</td>\n",
       "      <td>University of Cambridge</td>\n",
       "      <td>United Kingdom</td>\n",
       "      <td>88.2</td>\n",
       "      <td>91.5</td>\n",
       "      <td>96.7</td>\n",
       "      <td>97.0</td>\n",
       "      <td>55.0</td>\n",
       "      <td>92.8</td>\n",
       "      <td>18,812</td>\n",
       "      <td>11.8</td>\n",
       "      <td>34%</td>\n",
       "      <td>46 : 54</td>\n",
       "      <td>2016</td>\n",
       "    </tr>\n",
       "    <tr>\n",
       "      <th>1807</th>\n",
       "      <td>5</td>\n",
       "      <td>Massachusetts Institute of Technology</td>\n",
       "      <td>United States of America</td>\n",
       "      <td>89.4</td>\n",
       "      <td>84.0</td>\n",
       "      <td>88.6</td>\n",
       "      <td>99.7</td>\n",
       "      <td>95.4</td>\n",
       "      <td>92.0</td>\n",
       "      <td>11,074</td>\n",
       "      <td>9.0</td>\n",
       "      <td>33%</td>\n",
       "      <td>37 : 63</td>\n",
       "      <td>2016</td>\n",
       "    </tr>\n",
       "  </tbody>\n",
       "</table>\n",
       "</div>"
      ],
      "text/plain": [
       "     world_rank                        university_name  \\\n",
       "1803          1     California Institute of Technology   \n",
       "1804          2                   University of Oxford   \n",
       "1805          3                    Stanford University   \n",
       "1806          4                University of Cambridge   \n",
       "1807          5  Massachusetts Institute of Technology   \n",
       "\n",
       "                       country  teaching international  research  citations  \\\n",
       "1803  United States of America      95.6          64.0      97.6       99.8   \n",
       "1804            United Kingdom      86.5          94.4      98.9       98.8   \n",
       "1805  United States of America      92.5          76.3      96.2       99.9   \n",
       "1806            United Kingdom      88.2          91.5      96.7       97.0   \n",
       "1807  United States of America      89.4          84.0      88.6       99.7   \n",
       "\n",
       "     income total_score num_students  student_staff_ratio  \\\n",
       "1803   97.8        95.2        2,243                  6.9   \n",
       "1804   73.1        94.2       19,919                 11.6   \n",
       "1805   63.3        93.9       15,596                  7.8   \n",
       "1806   55.0        92.8       18,812                 11.8   \n",
       "1807   95.4        92.0       11,074                  9.0   \n",
       "\n",
       "     international_students female_male_ratio  year  \n",
       "1803                    27%           33 : 67  2016  \n",
       "1804                    34%           46 : 54  2016  \n",
       "1805                    22%           42 : 58  2016  \n",
       "1806                    34%           46 : 54  2016  \n",
       "1807                    33%           37 : 63  2016  "
      ]
     },
     "execution_count": 9,
     "metadata": {},
     "output_type": "execute_result"
    }
   ],
   "source": [
    "df2016.head()"
   ]
  },
  {
   "cell_type": "code",
   "execution_count": 10,
   "id": "3a0a0e0a",
   "metadata": {
    "execution": {
     "iopub.execute_input": "2022-08-02T12:20:52.877722Z",
     "iopub.status.busy": "2022-08-02T12:20:52.876893Z",
     "iopub.status.idle": "2022-08-02T12:20:52.946991Z",
     "shell.execute_reply": "2022-08-02T12:20:52.945854Z"
    },
    "papermill": {
     "duration": 0.109936,
     "end_time": "2022-08-02T12:20:52.950212",
     "exception": false,
     "start_time": "2022-08-02T12:20:52.840276",
     "status": "completed"
    },
    "tags": []
   },
   "outputs": [
    {
     "data": {
      "application/vnd.plotly.v1+json": {
       "config": {
        "linkText": "Export to plot.ly",
        "plotlyServerURL": "https://plot.ly",
        "showLink": false
       },
       "data": [
        {
         "domain": {
          "x": [
           0,
           0.5
          ]
         },
         "hole": 0.3,
         "hoverinfo": "label+percent+name",
         "labels": [
          "California Institute of Technology",
          "University of Oxford",
          "Stanford University",
          "University of Cambridge",
          "Massachusetts Institute of Technology",
          "Harvard University",
          "Princeton University"
         ],
         "name": "Number Of Students Rates",
         "type": "pie",
         "values": [
          2.243,
          19.919,
          15.596,
          18.812,
          11.074,
          20.152,
          7.929
         ]
        }
       ],
       "layout": {
        "annotations": [
         {
          "font": {
           "size": 20
          },
          "showarrow": false,
          "text": "Number of Students",
          "x": 0.2,
          "y": 1
         }
        ],
        "template": {
         "data": {
          "bar": [
           {
            "error_x": {
             "color": "#2a3f5f"
            },
            "error_y": {
             "color": "#2a3f5f"
            },
            "marker": {
             "line": {
              "color": "#E5ECF6",
              "width": 0.5
             },
             "pattern": {
              "fillmode": "overlay",
              "size": 10,
              "solidity": 0.2
             }
            },
            "type": "bar"
           }
          ],
          "barpolar": [
           {
            "marker": {
             "line": {
              "color": "#E5ECF6",
              "width": 0.5
             },
             "pattern": {
              "fillmode": "overlay",
              "size": 10,
              "solidity": 0.2
             }
            },
            "type": "barpolar"
           }
          ],
          "carpet": [
           {
            "aaxis": {
             "endlinecolor": "#2a3f5f",
             "gridcolor": "white",
             "linecolor": "white",
             "minorgridcolor": "white",
             "startlinecolor": "#2a3f5f"
            },
            "baxis": {
             "endlinecolor": "#2a3f5f",
             "gridcolor": "white",
             "linecolor": "white",
             "minorgridcolor": "white",
             "startlinecolor": "#2a3f5f"
            },
            "type": "carpet"
           }
          ],
          "choropleth": [
           {
            "colorbar": {
             "outlinewidth": 0,
             "ticks": ""
            },
            "type": "choropleth"
           }
          ],
          "contour": [
           {
            "colorbar": {
             "outlinewidth": 0,
             "ticks": ""
            },
            "colorscale": [
             [
              0.0,
              "#0d0887"
             ],
             [
              0.1111111111111111,
              "#46039f"
             ],
             [
              0.2222222222222222,
              "#7201a8"
             ],
             [
              0.3333333333333333,
              "#9c179e"
             ],
             [
              0.4444444444444444,
              "#bd3786"
             ],
             [
              0.5555555555555556,
              "#d8576b"
             ],
             [
              0.6666666666666666,
              "#ed7953"
             ],
             [
              0.7777777777777778,
              "#fb9f3a"
             ],
             [
              0.8888888888888888,
              "#fdca26"
             ],
             [
              1.0,
              "#f0f921"
             ]
            ],
            "type": "contour"
           }
          ],
          "contourcarpet": [
           {
            "colorbar": {
             "outlinewidth": 0,
             "ticks": ""
            },
            "type": "contourcarpet"
           }
          ],
          "heatmap": [
           {
            "colorbar": {
             "outlinewidth": 0,
             "ticks": ""
            },
            "colorscale": [
             [
              0.0,
              "#0d0887"
             ],
             [
              0.1111111111111111,
              "#46039f"
             ],
             [
              0.2222222222222222,
              "#7201a8"
             ],
             [
              0.3333333333333333,
              "#9c179e"
             ],
             [
              0.4444444444444444,
              "#bd3786"
             ],
             [
              0.5555555555555556,
              "#d8576b"
             ],
             [
              0.6666666666666666,
              "#ed7953"
             ],
             [
              0.7777777777777778,
              "#fb9f3a"
             ],
             [
              0.8888888888888888,
              "#fdca26"
             ],
             [
              1.0,
              "#f0f921"
             ]
            ],
            "type": "heatmap"
           }
          ],
          "heatmapgl": [
           {
            "colorbar": {
             "outlinewidth": 0,
             "ticks": ""
            },
            "colorscale": [
             [
              0.0,
              "#0d0887"
             ],
             [
              0.1111111111111111,
              "#46039f"
             ],
             [
              0.2222222222222222,
              "#7201a8"
             ],
             [
              0.3333333333333333,
              "#9c179e"
             ],
             [
              0.4444444444444444,
              "#bd3786"
             ],
             [
              0.5555555555555556,
              "#d8576b"
             ],
             [
              0.6666666666666666,
              "#ed7953"
             ],
             [
              0.7777777777777778,
              "#fb9f3a"
             ],
             [
              0.8888888888888888,
              "#fdca26"
             ],
             [
              1.0,
              "#f0f921"
             ]
            ],
            "type": "heatmapgl"
           }
          ],
          "histogram": [
           {
            "marker": {
             "pattern": {
              "fillmode": "overlay",
              "size": 10,
              "solidity": 0.2
             }
            },
            "type": "histogram"
           }
          ],
          "histogram2d": [
           {
            "colorbar": {
             "outlinewidth": 0,
             "ticks": ""
            },
            "colorscale": [
             [
              0.0,
              "#0d0887"
             ],
             [
              0.1111111111111111,
              "#46039f"
             ],
             [
              0.2222222222222222,
              "#7201a8"
             ],
             [
              0.3333333333333333,
              "#9c179e"
             ],
             [
              0.4444444444444444,
              "#bd3786"
             ],
             [
              0.5555555555555556,
              "#d8576b"
             ],
             [
              0.6666666666666666,
              "#ed7953"
             ],
             [
              0.7777777777777778,
              "#fb9f3a"
             ],
             [
              0.8888888888888888,
              "#fdca26"
             ],
             [
              1.0,
              "#f0f921"
             ]
            ],
            "type": "histogram2d"
           }
          ],
          "histogram2dcontour": [
           {
            "colorbar": {
             "outlinewidth": 0,
             "ticks": ""
            },
            "colorscale": [
             [
              0.0,
              "#0d0887"
             ],
             [
              0.1111111111111111,
              "#46039f"
             ],
             [
              0.2222222222222222,
              "#7201a8"
             ],
             [
              0.3333333333333333,
              "#9c179e"
             ],
             [
              0.4444444444444444,
              "#bd3786"
             ],
             [
              0.5555555555555556,
              "#d8576b"
             ],
             [
              0.6666666666666666,
              "#ed7953"
             ],
             [
              0.7777777777777778,
              "#fb9f3a"
             ],
             [
              0.8888888888888888,
              "#fdca26"
             ],
             [
              1.0,
              "#f0f921"
             ]
            ],
            "type": "histogram2dcontour"
           }
          ],
          "mesh3d": [
           {
            "colorbar": {
             "outlinewidth": 0,
             "ticks": ""
            },
            "type": "mesh3d"
           }
          ],
          "parcoords": [
           {
            "line": {
             "colorbar": {
              "outlinewidth": 0,
              "ticks": ""
             }
            },
            "type": "parcoords"
           }
          ],
          "pie": [
           {
            "automargin": true,
            "type": "pie"
           }
          ],
          "scatter": [
           {
            "fillpattern": {
             "fillmode": "overlay",
             "size": 10,
             "solidity": 0.2
            },
            "type": "scatter"
           }
          ],
          "scatter3d": [
           {
            "line": {
             "colorbar": {
              "outlinewidth": 0,
              "ticks": ""
             }
            },
            "marker": {
             "colorbar": {
              "outlinewidth": 0,
              "ticks": ""
             }
            },
            "type": "scatter3d"
           }
          ],
          "scattercarpet": [
           {
            "marker": {
             "colorbar": {
              "outlinewidth": 0,
              "ticks": ""
             }
            },
            "type": "scattercarpet"
           }
          ],
          "scattergeo": [
           {
            "marker": {
             "colorbar": {
              "outlinewidth": 0,
              "ticks": ""
             }
            },
            "type": "scattergeo"
           }
          ],
          "scattergl": [
           {
            "marker": {
             "colorbar": {
              "outlinewidth": 0,
              "ticks": ""
             }
            },
            "type": "scattergl"
           }
          ],
          "scattermapbox": [
           {
            "marker": {
             "colorbar": {
              "outlinewidth": 0,
              "ticks": ""
             }
            },
            "type": "scattermapbox"
           }
          ],
          "scatterpolar": [
           {
            "marker": {
             "colorbar": {
              "outlinewidth": 0,
              "ticks": ""
             }
            },
            "type": "scatterpolar"
           }
          ],
          "scatterpolargl": [
           {
            "marker": {
             "colorbar": {
              "outlinewidth": 0,
              "ticks": ""
             }
            },
            "type": "scatterpolargl"
           }
          ],
          "scatterternary": [
           {
            "marker": {
             "colorbar": {
              "outlinewidth": 0,
              "ticks": ""
             }
            },
            "type": "scatterternary"
           }
          ],
          "surface": [
           {
            "colorbar": {
             "outlinewidth": 0,
             "ticks": ""
            },
            "colorscale": [
             [
              0.0,
              "#0d0887"
             ],
             [
              0.1111111111111111,
              "#46039f"
             ],
             [
              0.2222222222222222,
              "#7201a8"
             ],
             [
              0.3333333333333333,
              "#9c179e"
             ],
             [
              0.4444444444444444,
              "#bd3786"
             ],
             [
              0.5555555555555556,
              "#d8576b"
             ],
             [
              0.6666666666666666,
              "#ed7953"
             ],
             [
              0.7777777777777778,
              "#fb9f3a"
             ],
             [
              0.8888888888888888,
              "#fdca26"
             ],
             [
              1.0,
              "#f0f921"
             ]
            ],
            "type": "surface"
           }
          ],
          "table": [
           {
            "cells": {
             "fill": {
              "color": "#EBF0F8"
             },
             "line": {
              "color": "white"
             }
            },
            "header": {
             "fill": {
              "color": "#C8D4E3"
             },
             "line": {
              "color": "white"
             }
            },
            "type": "table"
           }
          ]
         },
         "layout": {
          "annotationdefaults": {
           "arrowcolor": "#2a3f5f",
           "arrowhead": 0,
           "arrowwidth": 1
          },
          "autotypenumbers": "strict",
          "coloraxis": {
           "colorbar": {
            "outlinewidth": 0,
            "ticks": ""
           }
          },
          "colorscale": {
           "diverging": [
            [
             0,
             "#8e0152"
            ],
            [
             0.1,
             "#c51b7d"
            ],
            [
             0.2,
             "#de77ae"
            ],
            [
             0.3,
             "#f1b6da"
            ],
            [
             0.4,
             "#fde0ef"
            ],
            [
             0.5,
             "#f7f7f7"
            ],
            [
             0.6,
             "#e6f5d0"
            ],
            [
             0.7,
             "#b8e186"
            ],
            [
             0.8,
             "#7fbc41"
            ],
            [
             0.9,
             "#4d9221"
            ],
            [
             1,
             "#276419"
            ]
           ],
           "sequential": [
            [
             0.0,
             "#0d0887"
            ],
            [
             0.1111111111111111,
             "#46039f"
            ],
            [
             0.2222222222222222,
             "#7201a8"
            ],
            [
             0.3333333333333333,
             "#9c179e"
            ],
            [
             0.4444444444444444,
             "#bd3786"
            ],
            [
             0.5555555555555556,
             "#d8576b"
            ],
            [
             0.6666666666666666,
             "#ed7953"
            ],
            [
             0.7777777777777778,
             "#fb9f3a"
            ],
            [
             0.8888888888888888,
             "#fdca26"
            ],
            [
             1.0,
             "#f0f921"
            ]
           ],
           "sequentialminus": [
            [
             0.0,
             "#0d0887"
            ],
            [
             0.1111111111111111,
             "#46039f"
            ],
            [
             0.2222222222222222,
             "#7201a8"
            ],
            [
             0.3333333333333333,
             "#9c179e"
            ],
            [
             0.4444444444444444,
             "#bd3786"
            ],
            [
             0.5555555555555556,
             "#d8576b"
            ],
            [
             0.6666666666666666,
             "#ed7953"
            ],
            [
             0.7777777777777778,
             "#fb9f3a"
            ],
            [
             0.8888888888888888,
             "#fdca26"
            ],
            [
             1.0,
             "#f0f921"
            ]
           ]
          },
          "colorway": [
           "#636efa",
           "#EF553B",
           "#00cc96",
           "#ab63fa",
           "#FFA15A",
           "#19d3f3",
           "#FF6692",
           "#B6E880",
           "#FF97FF",
           "#FECB52"
          ],
          "font": {
           "color": "#2a3f5f"
          },
          "geo": {
           "bgcolor": "white",
           "lakecolor": "white",
           "landcolor": "#E5ECF6",
           "showlakes": true,
           "showland": true,
           "subunitcolor": "white"
          },
          "hoverlabel": {
           "align": "left"
          },
          "hovermode": "closest",
          "mapbox": {
           "style": "light"
          },
          "paper_bgcolor": "white",
          "plot_bgcolor": "#E5ECF6",
          "polar": {
           "angularaxis": {
            "gridcolor": "white",
            "linecolor": "white",
            "ticks": ""
           },
           "bgcolor": "#E5ECF6",
           "radialaxis": {
            "gridcolor": "white",
            "linecolor": "white",
            "ticks": ""
           }
          },
          "scene": {
           "xaxis": {
            "backgroundcolor": "#E5ECF6",
            "gridcolor": "white",
            "gridwidth": 2,
            "linecolor": "white",
            "showbackground": true,
            "ticks": "",
            "zerolinecolor": "white"
           },
           "yaxis": {
            "backgroundcolor": "#E5ECF6",
            "gridcolor": "white",
            "gridwidth": 2,
            "linecolor": "white",
            "showbackground": true,
            "ticks": "",
            "zerolinecolor": "white"
           },
           "zaxis": {
            "backgroundcolor": "#E5ECF6",
            "gridcolor": "white",
            "gridwidth": 2,
            "linecolor": "white",
            "showbackground": true,
            "ticks": "",
            "zerolinecolor": "white"
           }
          },
          "shapedefaults": {
           "line": {
            "color": "#2a3f5f"
           }
          },
          "ternary": {
           "aaxis": {
            "gridcolor": "white",
            "linecolor": "white",
            "ticks": ""
           },
           "baxis": {
            "gridcolor": "white",
            "linecolor": "white",
            "ticks": ""
           },
           "bgcolor": "#E5ECF6",
           "caxis": {
            "gridcolor": "white",
            "linecolor": "white",
            "ticks": ""
           }
          },
          "title": {
           "x": 0.05
          },
          "xaxis": {
           "automargin": true,
           "gridcolor": "white",
           "linecolor": "white",
           "ticks": "",
           "title": {
            "standoff": 15
           },
           "zerolinecolor": "white",
           "zerolinewidth": 2
          },
          "yaxis": {
           "automargin": true,
           "gridcolor": "white",
           "linecolor": "white",
           "ticks": "",
           "title": {
            "standoff": 15
           },
           "zerolinecolor": "white",
           "zerolinewidth": 2
          }
         }
        },
        "title": {
         "text": "Universities Number of Students rates"
        }
       }
      },
      "text/html": [
       "<div>                            <div id=\"c5e10ba4-d7b4-4f46-8f6b-db443de3a6a2\" class=\"plotly-graph-div\" style=\"height:525px; width:100%;\"></div>            <script type=\"text/javascript\">                require([\"plotly\"], function(Plotly) {                    window.PLOTLYENV=window.PLOTLYENV || {};                                    if (document.getElementById(\"c5e10ba4-d7b4-4f46-8f6b-db443de3a6a2\")) {                    Plotly.newPlot(                        \"c5e10ba4-d7b4-4f46-8f6b-db443de3a6a2\",                        [{\"domain\":{\"x\":[0,0.5]},\"hole\":0.3,\"hoverinfo\":\"label+percent+name\",\"labels\":[\"California Institute of Technology\",\"University of Oxford\",\"Stanford University\",\"University of Cambridge\",\"Massachusetts Institute of Technology\",\"Harvard University\",\"Princeton University\"],\"name\":\"Number Of Students Rates\",\"values\":[2.243,19.919,15.596,18.812,11.074,20.152,7.929],\"type\":\"pie\"}],                        {\"annotations\":[{\"font\":{\"size\":20},\"showarrow\":false,\"text\":\"Number of Students\",\"x\":0.2,\"y\":1}],\"template\":{\"data\":{\"barpolar\":[{\"marker\":{\"line\":{\"color\":\"#E5ECF6\",\"width\":0.5},\"pattern\":{\"fillmode\":\"overlay\",\"size\":10,\"solidity\":0.2}},\"type\":\"barpolar\"}],\"bar\":[{\"error_x\":{\"color\":\"#2a3f5f\"},\"error_y\":{\"color\":\"#2a3f5f\"},\"marker\":{\"line\":{\"color\":\"#E5ECF6\",\"width\":0.5},\"pattern\":{\"fillmode\":\"overlay\",\"size\":10,\"solidity\":0.2}},\"type\":\"bar\"}],\"carpet\":[{\"aaxis\":{\"endlinecolor\":\"#2a3f5f\",\"gridcolor\":\"white\",\"linecolor\":\"white\",\"minorgridcolor\":\"white\",\"startlinecolor\":\"#2a3f5f\"},\"baxis\":{\"endlinecolor\":\"#2a3f5f\",\"gridcolor\":\"white\",\"linecolor\":\"white\",\"minorgridcolor\":\"white\",\"startlinecolor\":\"#2a3f5f\"},\"type\":\"carpet\"}],\"choropleth\":[{\"colorbar\":{\"outlinewidth\":0,\"ticks\":\"\"},\"type\":\"choropleth\"}],\"contourcarpet\":[{\"colorbar\":{\"outlinewidth\":0,\"ticks\":\"\"},\"type\":\"contourcarpet\"}],\"contour\":[{\"colorbar\":{\"outlinewidth\":0,\"ticks\":\"\"},\"colorscale\":[[0.0,\"#0d0887\"],[0.1111111111111111,\"#46039f\"],[0.2222222222222222,\"#7201a8\"],[0.3333333333333333,\"#9c179e\"],[0.4444444444444444,\"#bd3786\"],[0.5555555555555556,\"#d8576b\"],[0.6666666666666666,\"#ed7953\"],[0.7777777777777778,\"#fb9f3a\"],[0.8888888888888888,\"#fdca26\"],[1.0,\"#f0f921\"]],\"type\":\"contour\"}],\"heatmapgl\":[{\"colorbar\":{\"outlinewidth\":0,\"ticks\":\"\"},\"colorscale\":[[0.0,\"#0d0887\"],[0.1111111111111111,\"#46039f\"],[0.2222222222222222,\"#7201a8\"],[0.3333333333333333,\"#9c179e\"],[0.4444444444444444,\"#bd3786\"],[0.5555555555555556,\"#d8576b\"],[0.6666666666666666,\"#ed7953\"],[0.7777777777777778,\"#fb9f3a\"],[0.8888888888888888,\"#fdca26\"],[1.0,\"#f0f921\"]],\"type\":\"heatmapgl\"}],\"heatmap\":[{\"colorbar\":{\"outlinewidth\":0,\"ticks\":\"\"},\"colorscale\":[[0.0,\"#0d0887\"],[0.1111111111111111,\"#46039f\"],[0.2222222222222222,\"#7201a8\"],[0.3333333333333333,\"#9c179e\"],[0.4444444444444444,\"#bd3786\"],[0.5555555555555556,\"#d8576b\"],[0.6666666666666666,\"#ed7953\"],[0.7777777777777778,\"#fb9f3a\"],[0.8888888888888888,\"#fdca26\"],[1.0,\"#f0f921\"]],\"type\":\"heatmap\"}],\"histogram2dcontour\":[{\"colorbar\":{\"outlinewidth\":0,\"ticks\":\"\"},\"colorscale\":[[0.0,\"#0d0887\"],[0.1111111111111111,\"#46039f\"],[0.2222222222222222,\"#7201a8\"],[0.3333333333333333,\"#9c179e\"],[0.4444444444444444,\"#bd3786\"],[0.5555555555555556,\"#d8576b\"],[0.6666666666666666,\"#ed7953\"],[0.7777777777777778,\"#fb9f3a\"],[0.8888888888888888,\"#fdca26\"],[1.0,\"#f0f921\"]],\"type\":\"histogram2dcontour\"}],\"histogram2d\":[{\"colorbar\":{\"outlinewidth\":0,\"ticks\":\"\"},\"colorscale\":[[0.0,\"#0d0887\"],[0.1111111111111111,\"#46039f\"],[0.2222222222222222,\"#7201a8\"],[0.3333333333333333,\"#9c179e\"],[0.4444444444444444,\"#bd3786\"],[0.5555555555555556,\"#d8576b\"],[0.6666666666666666,\"#ed7953\"],[0.7777777777777778,\"#fb9f3a\"],[0.8888888888888888,\"#fdca26\"],[1.0,\"#f0f921\"]],\"type\":\"histogram2d\"}],\"histogram\":[{\"marker\":{\"pattern\":{\"fillmode\":\"overlay\",\"size\":10,\"solidity\":0.2}},\"type\":\"histogram\"}],\"mesh3d\":[{\"colorbar\":{\"outlinewidth\":0,\"ticks\":\"\"},\"type\":\"mesh3d\"}],\"parcoords\":[{\"line\":{\"colorbar\":{\"outlinewidth\":0,\"ticks\":\"\"}},\"type\":\"parcoords\"}],\"pie\":[{\"automargin\":true,\"type\":\"pie\"}],\"scatter3d\":[{\"line\":{\"colorbar\":{\"outlinewidth\":0,\"ticks\":\"\"}},\"marker\":{\"colorbar\":{\"outlinewidth\":0,\"ticks\":\"\"}},\"type\":\"scatter3d\"}],\"scattercarpet\":[{\"marker\":{\"colorbar\":{\"outlinewidth\":0,\"ticks\":\"\"}},\"type\":\"scattercarpet\"}],\"scattergeo\":[{\"marker\":{\"colorbar\":{\"outlinewidth\":0,\"ticks\":\"\"}},\"type\":\"scattergeo\"}],\"scattergl\":[{\"marker\":{\"colorbar\":{\"outlinewidth\":0,\"ticks\":\"\"}},\"type\":\"scattergl\"}],\"scattermapbox\":[{\"marker\":{\"colorbar\":{\"outlinewidth\":0,\"ticks\":\"\"}},\"type\":\"scattermapbox\"}],\"scatterpolargl\":[{\"marker\":{\"colorbar\":{\"outlinewidth\":0,\"ticks\":\"\"}},\"type\":\"scatterpolargl\"}],\"scatterpolar\":[{\"marker\":{\"colorbar\":{\"outlinewidth\":0,\"ticks\":\"\"}},\"type\":\"scatterpolar\"}],\"scatter\":[{\"fillpattern\":{\"fillmode\":\"overlay\",\"size\":10,\"solidity\":0.2},\"type\":\"scatter\"}],\"scatterternary\":[{\"marker\":{\"colorbar\":{\"outlinewidth\":0,\"ticks\":\"\"}},\"type\":\"scatterternary\"}],\"surface\":[{\"colorbar\":{\"outlinewidth\":0,\"ticks\":\"\"},\"colorscale\":[[0.0,\"#0d0887\"],[0.1111111111111111,\"#46039f\"],[0.2222222222222222,\"#7201a8\"],[0.3333333333333333,\"#9c179e\"],[0.4444444444444444,\"#bd3786\"],[0.5555555555555556,\"#d8576b\"],[0.6666666666666666,\"#ed7953\"],[0.7777777777777778,\"#fb9f3a\"],[0.8888888888888888,\"#fdca26\"],[1.0,\"#f0f921\"]],\"type\":\"surface\"}],\"table\":[{\"cells\":{\"fill\":{\"color\":\"#EBF0F8\"},\"line\":{\"color\":\"white\"}},\"header\":{\"fill\":{\"color\":\"#C8D4E3\"},\"line\":{\"color\":\"white\"}},\"type\":\"table\"}]},\"layout\":{\"annotationdefaults\":{\"arrowcolor\":\"#2a3f5f\",\"arrowhead\":0,\"arrowwidth\":1},\"autotypenumbers\":\"strict\",\"coloraxis\":{\"colorbar\":{\"outlinewidth\":0,\"ticks\":\"\"}},\"colorscale\":{\"diverging\":[[0,\"#8e0152\"],[0.1,\"#c51b7d\"],[0.2,\"#de77ae\"],[0.3,\"#f1b6da\"],[0.4,\"#fde0ef\"],[0.5,\"#f7f7f7\"],[0.6,\"#e6f5d0\"],[0.7,\"#b8e186\"],[0.8,\"#7fbc41\"],[0.9,\"#4d9221\"],[1,\"#276419\"]],\"sequential\":[[0.0,\"#0d0887\"],[0.1111111111111111,\"#46039f\"],[0.2222222222222222,\"#7201a8\"],[0.3333333333333333,\"#9c179e\"],[0.4444444444444444,\"#bd3786\"],[0.5555555555555556,\"#d8576b\"],[0.6666666666666666,\"#ed7953\"],[0.7777777777777778,\"#fb9f3a\"],[0.8888888888888888,\"#fdca26\"],[1.0,\"#f0f921\"]],\"sequentialminus\":[[0.0,\"#0d0887\"],[0.1111111111111111,\"#46039f\"],[0.2222222222222222,\"#7201a8\"],[0.3333333333333333,\"#9c179e\"],[0.4444444444444444,\"#bd3786\"],[0.5555555555555556,\"#d8576b\"],[0.6666666666666666,\"#ed7953\"],[0.7777777777777778,\"#fb9f3a\"],[0.8888888888888888,\"#fdca26\"],[1.0,\"#f0f921\"]]},\"colorway\":[\"#636efa\",\"#EF553B\",\"#00cc96\",\"#ab63fa\",\"#FFA15A\",\"#19d3f3\",\"#FF6692\",\"#B6E880\",\"#FF97FF\",\"#FECB52\"],\"font\":{\"color\":\"#2a3f5f\"},\"geo\":{\"bgcolor\":\"white\",\"lakecolor\":\"white\",\"landcolor\":\"#E5ECF6\",\"showlakes\":true,\"showland\":true,\"subunitcolor\":\"white\"},\"hoverlabel\":{\"align\":\"left\"},\"hovermode\":\"closest\",\"mapbox\":{\"style\":\"light\"},\"paper_bgcolor\":\"white\",\"plot_bgcolor\":\"#E5ECF6\",\"polar\":{\"angularaxis\":{\"gridcolor\":\"white\",\"linecolor\":\"white\",\"ticks\":\"\"},\"bgcolor\":\"#E5ECF6\",\"radialaxis\":{\"gridcolor\":\"white\",\"linecolor\":\"white\",\"ticks\":\"\"}},\"scene\":{\"xaxis\":{\"backgroundcolor\":\"#E5ECF6\",\"gridcolor\":\"white\",\"gridwidth\":2,\"linecolor\":\"white\",\"showbackground\":true,\"ticks\":\"\",\"zerolinecolor\":\"white\"},\"yaxis\":{\"backgroundcolor\":\"#E5ECF6\",\"gridcolor\":\"white\",\"gridwidth\":2,\"linecolor\":\"white\",\"showbackground\":true,\"ticks\":\"\",\"zerolinecolor\":\"white\"},\"zaxis\":{\"backgroundcolor\":\"#E5ECF6\",\"gridcolor\":\"white\",\"gridwidth\":2,\"linecolor\":\"white\",\"showbackground\":true,\"ticks\":\"\",\"zerolinecolor\":\"white\"}},\"shapedefaults\":{\"line\":{\"color\":\"#2a3f5f\"}},\"ternary\":{\"aaxis\":{\"gridcolor\":\"white\",\"linecolor\":\"white\",\"ticks\":\"\"},\"baxis\":{\"gridcolor\":\"white\",\"linecolor\":\"white\",\"ticks\":\"\"},\"bgcolor\":\"#E5ECF6\",\"caxis\":{\"gridcolor\":\"white\",\"linecolor\":\"white\",\"ticks\":\"\"}},\"title\":{\"x\":0.05},\"xaxis\":{\"automargin\":true,\"gridcolor\":\"white\",\"linecolor\":\"white\",\"ticks\":\"\",\"title\":{\"standoff\":15},\"zerolinecolor\":\"white\",\"zerolinewidth\":2},\"yaxis\":{\"automargin\":true,\"gridcolor\":\"white\",\"linecolor\":\"white\",\"ticks\":\"\",\"title\":{\"standoff\":15},\"zerolinecolor\":\"white\",\"zerolinewidth\":2}}},\"title\":{\"text\":\"Universities Number of Students rates\"}},                        {\"responsive\": true}                    ).then(function(){\n",
       "                            \n",
       "var gd = document.getElementById('c5e10ba4-d7b4-4f46-8f6b-db443de3a6a2');\n",
       "var x = new MutationObserver(function (mutations, observer) {{\n",
       "        var display = window.getComputedStyle(gd).display;\n",
       "        if (!display || display === 'none') {{\n",
       "            console.log([gd, 'removed!']);\n",
       "            Plotly.purge(gd);\n",
       "            observer.disconnect();\n",
       "        }}\n",
       "}});\n",
       "\n",
       "// Listen for the removal of the full notebook cells\n",
       "var notebookContainer = gd.closest('#notebook-container');\n",
       "if (notebookContainer) {{\n",
       "    x.observe(notebookContainer, {childList: true});\n",
       "}}\n",
       "\n",
       "// Listen for the clearing of the current output cell\n",
       "var outputEl = gd.closest('.output');\n",
       "if (outputEl) {{\n",
       "    x.observe(outputEl, {childList: true});\n",
       "}}\n",
       "\n",
       "                        })                };                });            </script>        </div>"
      ]
     },
     "metadata": {},
     "output_type": "display_data"
    }
   ],
   "source": [
    "df2016= timesData[timesData.year==2016].iloc[:7,:]\n",
    "pie1 = df2016.num_students\n",
    "pie1_list=[float(each.replace(',', '.')) for each in df2016.num_students] #float sayılar nokta ile yazıldığından dolayı num_students değerlerindeki virgül, noktaya çevrilmeli ve daha sonra bu sayılar veride string olduğundan dolayı floata'a çevriliyor.\n",
    "labels=df2016.university_name\n",
    "\n",
    "fig={\n",
    "    \"data\":[      # trace bu şekilde de oluşturulabiliyor.\n",
    "        {\n",
    "            \"values\": pie1_list,\n",
    "            \"labels\": labels,\n",
    "            \"domain\": {\"x\": [0, .5]},\n",
    "            \"name\": \"Number Of Students Rates\",\n",
    "            \"hoverinfo\": \"label+percent+name\",\n",
    "            \"hole\": .3,\n",
    "            \"type\":\"pie\"\n",
    "        },\n",
    "    ],     # trace'den sonra layout yarattık.\n",
    "    \"layout\":{\n",
    "        \"title\": \"Universities Number of Students rates\",\n",
    "        \"annotations\":[\n",
    "            {\n",
    "                \"font\":{\"size\":20},\n",
    "                \"showarrow\": False,\n",
    "                \"text\": \"Number of Students\",\n",
    "                \"x\": 0.20,\n",
    "                \"y\": 1\n",
    "            },\n",
    "        ]\n",
    "    }\n",
    "}\n",
    "iplot(fig)"
   ]
  },
  {
   "cell_type": "markdown",
   "id": "c23753d1",
   "metadata": {
    "papermill": {
     "duration": 0.039237,
     "end_time": "2022-08-02T12:20:53.028604",
     "exception": false,
     "start_time": "2022-08-02T12:20:52.989367",
     "status": "completed"
    },
    "tags": []
   },
   "source": [
    "Pie plot'a sayı vermemiz yeterli oluyor oranlama hesabını kendisi yapıyor."
   ]
  },
  {
   "cell_type": "markdown",
   "id": "548b038f",
   "metadata": {
    "papermill": {
     "duration": 0.038445,
     "end_time": "2022-08-02T12:20:53.105768",
     "exception": false,
     "start_time": "2022-08-02T12:20:53.067323",
     "status": "completed"
    },
    "tags": []
   },
   "source": [
    "## Bubble Charts\n"
   ]
  },
  {
   "cell_type": "code",
   "execution_count": 11,
   "id": "acff1719",
   "metadata": {
    "execution": {
     "iopub.execute_input": "2022-08-02T12:20:53.186453Z",
     "iopub.status.busy": "2022-08-02T12:20:53.185495Z",
     "iopub.status.idle": "2022-08-02T12:20:53.206797Z",
     "shell.execute_reply": "2022-08-02T12:20:53.205485Z"
    },
    "papermill": {
     "duration": 0.063843,
     "end_time": "2022-08-02T12:20:53.209359",
     "exception": false,
     "start_time": "2022-08-02T12:20:53.145516",
     "status": "completed"
    },
    "tags": []
   },
   "outputs": [
    {
     "data": {
      "text/html": [
       "<div>\n",
       "<style scoped>\n",
       "    .dataframe tbody tr th:only-of-type {\n",
       "        vertical-align: middle;\n",
       "    }\n",
       "\n",
       "    .dataframe tbody tr th {\n",
       "        vertical-align: top;\n",
       "    }\n",
       "\n",
       "    .dataframe thead th {\n",
       "        text-align: right;\n",
       "    }\n",
       "</style>\n",
       "<table border=\"1\" class=\"dataframe\">\n",
       "  <thead>\n",
       "    <tr style=\"text-align: right;\">\n",
       "      <th></th>\n",
       "      <th>world_rank</th>\n",
       "      <th>university_name</th>\n",
       "      <th>country</th>\n",
       "      <th>teaching</th>\n",
       "      <th>international</th>\n",
       "      <th>research</th>\n",
       "      <th>citations</th>\n",
       "      <th>income</th>\n",
       "      <th>total_score</th>\n",
       "      <th>num_students</th>\n",
       "      <th>student_staff_ratio</th>\n",
       "      <th>international_students</th>\n",
       "      <th>female_male_ratio</th>\n",
       "      <th>year</th>\n",
       "    </tr>\n",
       "  </thead>\n",
       "  <tbody>\n",
       "    <tr>\n",
       "      <th>1803</th>\n",
       "      <td>1</td>\n",
       "      <td>California Institute of Technology</td>\n",
       "      <td>United States of America</td>\n",
       "      <td>95.6</td>\n",
       "      <td>64.0</td>\n",
       "      <td>97.6</td>\n",
       "      <td>99.8</td>\n",
       "      <td>97.8</td>\n",
       "      <td>95.2</td>\n",
       "      <td>2,243</td>\n",
       "      <td>6.9</td>\n",
       "      <td>27%</td>\n",
       "      <td>33 : 67</td>\n",
       "      <td>2016</td>\n",
       "    </tr>\n",
       "    <tr>\n",
       "      <th>1804</th>\n",
       "      <td>2</td>\n",
       "      <td>University of Oxford</td>\n",
       "      <td>United Kingdom</td>\n",
       "      <td>86.5</td>\n",
       "      <td>94.4</td>\n",
       "      <td>98.9</td>\n",
       "      <td>98.8</td>\n",
       "      <td>73.1</td>\n",
       "      <td>94.2</td>\n",
       "      <td>19,919</td>\n",
       "      <td>11.6</td>\n",
       "      <td>34%</td>\n",
       "      <td>46 : 54</td>\n",
       "      <td>2016</td>\n",
       "    </tr>\n",
       "    <tr>\n",
       "      <th>1805</th>\n",
       "      <td>3</td>\n",
       "      <td>Stanford University</td>\n",
       "      <td>United States of America</td>\n",
       "      <td>92.5</td>\n",
       "      <td>76.3</td>\n",
       "      <td>96.2</td>\n",
       "      <td>99.9</td>\n",
       "      <td>63.3</td>\n",
       "      <td>93.9</td>\n",
       "      <td>15,596</td>\n",
       "      <td>7.8</td>\n",
       "      <td>22%</td>\n",
       "      <td>42 : 58</td>\n",
       "      <td>2016</td>\n",
       "    </tr>\n",
       "    <tr>\n",
       "      <th>1806</th>\n",
       "      <td>4</td>\n",
       "      <td>University of Cambridge</td>\n",
       "      <td>United Kingdom</td>\n",
       "      <td>88.2</td>\n",
       "      <td>91.5</td>\n",
       "      <td>96.7</td>\n",
       "      <td>97.0</td>\n",
       "      <td>55.0</td>\n",
       "      <td>92.8</td>\n",
       "      <td>18,812</td>\n",
       "      <td>11.8</td>\n",
       "      <td>34%</td>\n",
       "      <td>46 : 54</td>\n",
       "      <td>2016</td>\n",
       "    </tr>\n",
       "    <tr>\n",
       "      <th>1807</th>\n",
       "      <td>5</td>\n",
       "      <td>Massachusetts Institute of Technology</td>\n",
       "      <td>United States of America</td>\n",
       "      <td>89.4</td>\n",
       "      <td>84.0</td>\n",
       "      <td>88.6</td>\n",
       "      <td>99.7</td>\n",
       "      <td>95.4</td>\n",
       "      <td>92.0</td>\n",
       "      <td>11,074</td>\n",
       "      <td>9.0</td>\n",
       "      <td>33%</td>\n",
       "      <td>37 : 63</td>\n",
       "      <td>2016</td>\n",
       "    </tr>\n",
       "  </tbody>\n",
       "</table>\n",
       "</div>"
      ],
      "text/plain": [
       "     world_rank                        university_name  \\\n",
       "1803          1     California Institute of Technology   \n",
       "1804          2                   University of Oxford   \n",
       "1805          3                    Stanford University   \n",
       "1806          4                University of Cambridge   \n",
       "1807          5  Massachusetts Institute of Technology   \n",
       "\n",
       "                       country  teaching international  research  citations  \\\n",
       "1803  United States of America      95.6          64.0      97.6       99.8   \n",
       "1804            United Kingdom      86.5          94.4      98.9       98.8   \n",
       "1805  United States of America      92.5          76.3      96.2       99.9   \n",
       "1806            United Kingdom      88.2          91.5      96.7       97.0   \n",
       "1807  United States of America      89.4          84.0      88.6       99.7   \n",
       "\n",
       "     income total_score num_students  student_staff_ratio  \\\n",
       "1803   97.8        95.2        2,243                  6.9   \n",
       "1804   73.1        94.2       19,919                 11.6   \n",
       "1805   63.3        93.9       15,596                  7.8   \n",
       "1806   55.0        92.8       18,812                 11.8   \n",
       "1807   95.4        92.0       11,074                  9.0   \n",
       "\n",
       "     international_students female_male_ratio  year  \n",
       "1803                    27%           33 : 67  2016  \n",
       "1804                    34%           46 : 54  2016  \n",
       "1805                    22%           42 : 58  2016  \n",
       "1806                    34%           46 : 54  2016  \n",
       "1807                    33%           37 : 63  2016  "
      ]
     },
     "execution_count": 11,
     "metadata": {},
     "output_type": "execute_result"
    }
   ],
   "source": [
    "df2016.head()"
   ]
  },
  {
   "cell_type": "code",
   "execution_count": 12,
   "id": "4f1063e3",
   "metadata": {
    "execution": {
     "iopub.execute_input": "2022-08-02T12:20:53.290020Z",
     "iopub.status.busy": "2022-08-02T12:20:53.289201Z",
     "iopub.status.idle": "2022-08-02T12:20:53.329564Z",
     "shell.execute_reply": "2022-08-02T12:20:53.328429Z"
    },
    "papermill": {
     "duration": 0.083951,
     "end_time": "2022-08-02T12:20:53.332724",
     "exception": false,
     "start_time": "2022-08-02T12:20:53.248773",
     "status": "completed"
    },
    "tags": []
   },
   "outputs": [
    {
     "data": {
      "application/vnd.plotly.v1+json": {
       "config": {
        "linkText": "Export to plot.ly",
        "plotlyServerURL": "https://plot.ly",
        "showLink": false
       },
       "data": [
        {
         "marker": {
          "color": [
           64.0,
           94.4,
           76.3,
           91.5,
           84.0,
           77.2,
           78.5,
           96.0,
           97.9,
           65.0,
           70.0,
           64.3,
           61.9,
           94.4,
           73.5,
           56.4,
           49.5,
           63.9,
           77.8,
           56.5
          ],
          "showscale": true,
          "size": [
           2.243,
           19.919,
           15.596,
           18.812,
           11.074,
           20.152,
           7.929,
           15.06,
           18.178,
           14.221,
           15.128,
           11.751,
           36.186,
           26.607,
           25.055,
           38.206,
           20.376,
           21.424,
           66.198,
           15.172
          ]
         },
         "mode": "markers",
         "text": [
          "California Institute of Technology",
          "University of Oxford",
          "Stanford University",
          "University of Cambridge",
          "Massachusetts Institute of Technology",
          "Harvard University",
          "Princeton University",
          "Imperial College London",
          "ETH Zurich – Swiss Federal Institute of Technology Zurich",
          "University of Chicago",
          "Johns Hopkins University",
          "Yale University",
          "University of California, Berkeley",
          "University College London",
          "Columbia University",
          "University of California, Los Angeles",
          "University of Pennsylvania",
          "Cornell University",
          "University of Toronto",
          "Duke University"
         ],
         "type": "scatter",
         "x": [
          "1",
          "2",
          "3",
          "4",
          "5",
          "6",
          "7",
          "8",
          "9",
          "10",
          "11",
          "12",
          "13",
          "14",
          "15",
          "16",
          "17",
          "18",
          "19",
          "20"
         ],
         "y": [
          95.6,
          86.5,
          92.5,
          88.2,
          89.4,
          83.6,
          85.1,
          83.3,
          77.0,
          85.7,
          77.6,
          86.5,
          80.4,
          78.1,
          85.9,
          80.8,
          82.0,
          77.9,
          75.9,
          76.0
         ]
        }
       ],
       "layout": {
        "template": {
         "data": {
          "bar": [
           {
            "error_x": {
             "color": "#2a3f5f"
            },
            "error_y": {
             "color": "#2a3f5f"
            },
            "marker": {
             "line": {
              "color": "#E5ECF6",
              "width": 0.5
             },
             "pattern": {
              "fillmode": "overlay",
              "size": 10,
              "solidity": 0.2
             }
            },
            "type": "bar"
           }
          ],
          "barpolar": [
           {
            "marker": {
             "line": {
              "color": "#E5ECF6",
              "width": 0.5
             },
             "pattern": {
              "fillmode": "overlay",
              "size": 10,
              "solidity": 0.2
             }
            },
            "type": "barpolar"
           }
          ],
          "carpet": [
           {
            "aaxis": {
             "endlinecolor": "#2a3f5f",
             "gridcolor": "white",
             "linecolor": "white",
             "minorgridcolor": "white",
             "startlinecolor": "#2a3f5f"
            },
            "baxis": {
             "endlinecolor": "#2a3f5f",
             "gridcolor": "white",
             "linecolor": "white",
             "minorgridcolor": "white",
             "startlinecolor": "#2a3f5f"
            },
            "type": "carpet"
           }
          ],
          "choropleth": [
           {
            "colorbar": {
             "outlinewidth": 0,
             "ticks": ""
            },
            "type": "choropleth"
           }
          ],
          "contour": [
           {
            "colorbar": {
             "outlinewidth": 0,
             "ticks": ""
            },
            "colorscale": [
             [
              0.0,
              "#0d0887"
             ],
             [
              0.1111111111111111,
              "#46039f"
             ],
             [
              0.2222222222222222,
              "#7201a8"
             ],
             [
              0.3333333333333333,
              "#9c179e"
             ],
             [
              0.4444444444444444,
              "#bd3786"
             ],
             [
              0.5555555555555556,
              "#d8576b"
             ],
             [
              0.6666666666666666,
              "#ed7953"
             ],
             [
              0.7777777777777778,
              "#fb9f3a"
             ],
             [
              0.8888888888888888,
              "#fdca26"
             ],
             [
              1.0,
              "#f0f921"
             ]
            ],
            "type": "contour"
           }
          ],
          "contourcarpet": [
           {
            "colorbar": {
             "outlinewidth": 0,
             "ticks": ""
            },
            "type": "contourcarpet"
           }
          ],
          "heatmap": [
           {
            "colorbar": {
             "outlinewidth": 0,
             "ticks": ""
            },
            "colorscale": [
             [
              0.0,
              "#0d0887"
             ],
             [
              0.1111111111111111,
              "#46039f"
             ],
             [
              0.2222222222222222,
              "#7201a8"
             ],
             [
              0.3333333333333333,
              "#9c179e"
             ],
             [
              0.4444444444444444,
              "#bd3786"
             ],
             [
              0.5555555555555556,
              "#d8576b"
             ],
             [
              0.6666666666666666,
              "#ed7953"
             ],
             [
              0.7777777777777778,
              "#fb9f3a"
             ],
             [
              0.8888888888888888,
              "#fdca26"
             ],
             [
              1.0,
              "#f0f921"
             ]
            ],
            "type": "heatmap"
           }
          ],
          "heatmapgl": [
           {
            "colorbar": {
             "outlinewidth": 0,
             "ticks": ""
            },
            "colorscale": [
             [
              0.0,
              "#0d0887"
             ],
             [
              0.1111111111111111,
              "#46039f"
             ],
             [
              0.2222222222222222,
              "#7201a8"
             ],
             [
              0.3333333333333333,
              "#9c179e"
             ],
             [
              0.4444444444444444,
              "#bd3786"
             ],
             [
              0.5555555555555556,
              "#d8576b"
             ],
             [
              0.6666666666666666,
              "#ed7953"
             ],
             [
              0.7777777777777778,
              "#fb9f3a"
             ],
             [
              0.8888888888888888,
              "#fdca26"
             ],
             [
              1.0,
              "#f0f921"
             ]
            ],
            "type": "heatmapgl"
           }
          ],
          "histogram": [
           {
            "marker": {
             "pattern": {
              "fillmode": "overlay",
              "size": 10,
              "solidity": 0.2
             }
            },
            "type": "histogram"
           }
          ],
          "histogram2d": [
           {
            "colorbar": {
             "outlinewidth": 0,
             "ticks": ""
            },
            "colorscale": [
             [
              0.0,
              "#0d0887"
             ],
             [
              0.1111111111111111,
              "#46039f"
             ],
             [
              0.2222222222222222,
              "#7201a8"
             ],
             [
              0.3333333333333333,
              "#9c179e"
             ],
             [
              0.4444444444444444,
              "#bd3786"
             ],
             [
              0.5555555555555556,
              "#d8576b"
             ],
             [
              0.6666666666666666,
              "#ed7953"
             ],
             [
              0.7777777777777778,
              "#fb9f3a"
             ],
             [
              0.8888888888888888,
              "#fdca26"
             ],
             [
              1.0,
              "#f0f921"
             ]
            ],
            "type": "histogram2d"
           }
          ],
          "histogram2dcontour": [
           {
            "colorbar": {
             "outlinewidth": 0,
             "ticks": ""
            },
            "colorscale": [
             [
              0.0,
              "#0d0887"
             ],
             [
              0.1111111111111111,
              "#46039f"
             ],
             [
              0.2222222222222222,
              "#7201a8"
             ],
             [
              0.3333333333333333,
              "#9c179e"
             ],
             [
              0.4444444444444444,
              "#bd3786"
             ],
             [
              0.5555555555555556,
              "#d8576b"
             ],
             [
              0.6666666666666666,
              "#ed7953"
             ],
             [
              0.7777777777777778,
              "#fb9f3a"
             ],
             [
              0.8888888888888888,
              "#fdca26"
             ],
             [
              1.0,
              "#f0f921"
             ]
            ],
            "type": "histogram2dcontour"
           }
          ],
          "mesh3d": [
           {
            "colorbar": {
             "outlinewidth": 0,
             "ticks": ""
            },
            "type": "mesh3d"
           }
          ],
          "parcoords": [
           {
            "line": {
             "colorbar": {
              "outlinewidth": 0,
              "ticks": ""
             }
            },
            "type": "parcoords"
           }
          ],
          "pie": [
           {
            "automargin": true,
            "type": "pie"
           }
          ],
          "scatter": [
           {
            "fillpattern": {
             "fillmode": "overlay",
             "size": 10,
             "solidity": 0.2
            },
            "type": "scatter"
           }
          ],
          "scatter3d": [
           {
            "line": {
             "colorbar": {
              "outlinewidth": 0,
              "ticks": ""
             }
            },
            "marker": {
             "colorbar": {
              "outlinewidth": 0,
              "ticks": ""
             }
            },
            "type": "scatter3d"
           }
          ],
          "scattercarpet": [
           {
            "marker": {
             "colorbar": {
              "outlinewidth": 0,
              "ticks": ""
             }
            },
            "type": "scattercarpet"
           }
          ],
          "scattergeo": [
           {
            "marker": {
             "colorbar": {
              "outlinewidth": 0,
              "ticks": ""
             }
            },
            "type": "scattergeo"
           }
          ],
          "scattergl": [
           {
            "marker": {
             "colorbar": {
              "outlinewidth": 0,
              "ticks": ""
             }
            },
            "type": "scattergl"
           }
          ],
          "scattermapbox": [
           {
            "marker": {
             "colorbar": {
              "outlinewidth": 0,
              "ticks": ""
             }
            },
            "type": "scattermapbox"
           }
          ],
          "scatterpolar": [
           {
            "marker": {
             "colorbar": {
              "outlinewidth": 0,
              "ticks": ""
             }
            },
            "type": "scatterpolar"
           }
          ],
          "scatterpolargl": [
           {
            "marker": {
             "colorbar": {
              "outlinewidth": 0,
              "ticks": ""
             }
            },
            "type": "scatterpolargl"
           }
          ],
          "scatterternary": [
           {
            "marker": {
             "colorbar": {
              "outlinewidth": 0,
              "ticks": ""
             }
            },
            "type": "scatterternary"
           }
          ],
          "surface": [
           {
            "colorbar": {
             "outlinewidth": 0,
             "ticks": ""
            },
            "colorscale": [
             [
              0.0,
              "#0d0887"
             ],
             [
              0.1111111111111111,
              "#46039f"
             ],
             [
              0.2222222222222222,
              "#7201a8"
             ],
             [
              0.3333333333333333,
              "#9c179e"
             ],
             [
              0.4444444444444444,
              "#bd3786"
             ],
             [
              0.5555555555555556,
              "#d8576b"
             ],
             [
              0.6666666666666666,
              "#ed7953"
             ],
             [
              0.7777777777777778,
              "#fb9f3a"
             ],
             [
              0.8888888888888888,
              "#fdca26"
             ],
             [
              1.0,
              "#f0f921"
             ]
            ],
            "type": "surface"
           }
          ],
          "table": [
           {
            "cells": {
             "fill": {
              "color": "#EBF0F8"
             },
             "line": {
              "color": "white"
             }
            },
            "header": {
             "fill": {
              "color": "#C8D4E3"
             },
             "line": {
              "color": "white"
             }
            },
            "type": "table"
           }
          ]
         },
         "layout": {
          "annotationdefaults": {
           "arrowcolor": "#2a3f5f",
           "arrowhead": 0,
           "arrowwidth": 1
          },
          "autotypenumbers": "strict",
          "coloraxis": {
           "colorbar": {
            "outlinewidth": 0,
            "ticks": ""
           }
          },
          "colorscale": {
           "diverging": [
            [
             0,
             "#8e0152"
            ],
            [
             0.1,
             "#c51b7d"
            ],
            [
             0.2,
             "#de77ae"
            ],
            [
             0.3,
             "#f1b6da"
            ],
            [
             0.4,
             "#fde0ef"
            ],
            [
             0.5,
             "#f7f7f7"
            ],
            [
             0.6,
             "#e6f5d0"
            ],
            [
             0.7,
             "#b8e186"
            ],
            [
             0.8,
             "#7fbc41"
            ],
            [
             0.9,
             "#4d9221"
            ],
            [
             1,
             "#276419"
            ]
           ],
           "sequential": [
            [
             0.0,
             "#0d0887"
            ],
            [
             0.1111111111111111,
             "#46039f"
            ],
            [
             0.2222222222222222,
             "#7201a8"
            ],
            [
             0.3333333333333333,
             "#9c179e"
            ],
            [
             0.4444444444444444,
             "#bd3786"
            ],
            [
             0.5555555555555556,
             "#d8576b"
            ],
            [
             0.6666666666666666,
             "#ed7953"
            ],
            [
             0.7777777777777778,
             "#fb9f3a"
            ],
            [
             0.8888888888888888,
             "#fdca26"
            ],
            [
             1.0,
             "#f0f921"
            ]
           ],
           "sequentialminus": [
            [
             0.0,
             "#0d0887"
            ],
            [
             0.1111111111111111,
             "#46039f"
            ],
            [
             0.2222222222222222,
             "#7201a8"
            ],
            [
             0.3333333333333333,
             "#9c179e"
            ],
            [
             0.4444444444444444,
             "#bd3786"
            ],
            [
             0.5555555555555556,
             "#d8576b"
            ],
            [
             0.6666666666666666,
             "#ed7953"
            ],
            [
             0.7777777777777778,
             "#fb9f3a"
            ],
            [
             0.8888888888888888,
             "#fdca26"
            ],
            [
             1.0,
             "#f0f921"
            ]
           ]
          },
          "colorway": [
           "#636efa",
           "#EF553B",
           "#00cc96",
           "#ab63fa",
           "#FFA15A",
           "#19d3f3",
           "#FF6692",
           "#B6E880",
           "#FF97FF",
           "#FECB52"
          ],
          "font": {
           "color": "#2a3f5f"
          },
          "geo": {
           "bgcolor": "white",
           "lakecolor": "white",
           "landcolor": "#E5ECF6",
           "showlakes": true,
           "showland": true,
           "subunitcolor": "white"
          },
          "hoverlabel": {
           "align": "left"
          },
          "hovermode": "closest",
          "mapbox": {
           "style": "light"
          },
          "paper_bgcolor": "white",
          "plot_bgcolor": "#E5ECF6",
          "polar": {
           "angularaxis": {
            "gridcolor": "white",
            "linecolor": "white",
            "ticks": ""
           },
           "bgcolor": "#E5ECF6",
           "radialaxis": {
            "gridcolor": "white",
            "linecolor": "white",
            "ticks": ""
           }
          },
          "scene": {
           "xaxis": {
            "backgroundcolor": "#E5ECF6",
            "gridcolor": "white",
            "gridwidth": 2,
            "linecolor": "white",
            "showbackground": true,
            "ticks": "",
            "zerolinecolor": "white"
           },
           "yaxis": {
            "backgroundcolor": "#E5ECF6",
            "gridcolor": "white",
            "gridwidth": 2,
            "linecolor": "white",
            "showbackground": true,
            "ticks": "",
            "zerolinecolor": "white"
           },
           "zaxis": {
            "backgroundcolor": "#E5ECF6",
            "gridcolor": "white",
            "gridwidth": 2,
            "linecolor": "white",
            "showbackground": true,
            "ticks": "",
            "zerolinecolor": "white"
           }
          },
          "shapedefaults": {
           "line": {
            "color": "#2a3f5f"
           }
          },
          "ternary": {
           "aaxis": {
            "gridcolor": "white",
            "linecolor": "white",
            "ticks": ""
           },
           "baxis": {
            "gridcolor": "white",
            "linecolor": "white",
            "ticks": ""
           },
           "bgcolor": "#E5ECF6",
           "caxis": {
            "gridcolor": "white",
            "linecolor": "white",
            "ticks": ""
           }
          },
          "title": {
           "x": 0.05
          },
          "xaxis": {
           "automargin": true,
           "gridcolor": "white",
           "linecolor": "white",
           "ticks": "",
           "title": {
            "standoff": 15
           },
           "zerolinecolor": "white",
           "zerolinewidth": 2
          },
          "yaxis": {
           "automargin": true,
           "gridcolor": "white",
           "linecolor": "white",
           "ticks": "",
           "title": {
            "standoff": 15
           },
           "zerolinecolor": "white",
           "zerolinewidth": 2
          }
         }
        }
       }
      },
      "text/html": [
       "<div>                            <div id=\"532030ab-c525-4de2-aedf-8d85555894be\" class=\"plotly-graph-div\" style=\"height:525px; width:100%;\"></div>            <script type=\"text/javascript\">                require([\"plotly\"], function(Plotly) {                    window.PLOTLYENV=window.PLOTLYENV || {};                                    if (document.getElementById(\"532030ab-c525-4de2-aedf-8d85555894be\")) {                    Plotly.newPlot(                        \"532030ab-c525-4de2-aedf-8d85555894be\",                        [{\"marker\":{\"color\":[64.0,94.4,76.3,91.5,84.0,77.2,78.5,96.0,97.9,65.0,70.0,64.3,61.9,94.4,73.5,56.4,49.5,63.9,77.8,56.5],\"showscale\":true,\"size\":[2.243,19.919,15.596,18.812,11.074,20.152,7.929,15.06,18.178,14.221,15.128,11.751,36.186,26.607,25.055,38.206,20.376,21.424,66.198,15.172]},\"mode\":\"markers\",\"text\":[\"California Institute of Technology\",\"University of Oxford\",\"Stanford University\",\"University of Cambridge\",\"Massachusetts Institute of Technology\",\"Harvard University\",\"Princeton University\",\"Imperial College London\",\"ETH Zurich – Swiss Federal Institute of Technology Zurich\",\"University of Chicago\",\"Johns Hopkins University\",\"Yale University\",\"University of California, Berkeley\",\"University College London\",\"Columbia University\",\"University of California, Los Angeles\",\"University of Pennsylvania\",\"Cornell University\",\"University of Toronto\",\"Duke University\"],\"x\":[\"1\",\"2\",\"3\",\"4\",\"5\",\"6\",\"7\",\"8\",\"9\",\"10\",\"11\",\"12\",\"13\",\"14\",\"15\",\"16\",\"17\",\"18\",\"19\",\"20\"],\"y\":[95.6,86.5,92.5,88.2,89.4,83.6,85.1,83.3,77.0,85.7,77.6,86.5,80.4,78.1,85.9,80.8,82.0,77.9,75.9,76.0],\"type\":\"scatter\"}],                        {\"template\":{\"data\":{\"barpolar\":[{\"marker\":{\"line\":{\"color\":\"#E5ECF6\",\"width\":0.5},\"pattern\":{\"fillmode\":\"overlay\",\"size\":10,\"solidity\":0.2}},\"type\":\"barpolar\"}],\"bar\":[{\"error_x\":{\"color\":\"#2a3f5f\"},\"error_y\":{\"color\":\"#2a3f5f\"},\"marker\":{\"line\":{\"color\":\"#E5ECF6\",\"width\":0.5},\"pattern\":{\"fillmode\":\"overlay\",\"size\":10,\"solidity\":0.2}},\"type\":\"bar\"}],\"carpet\":[{\"aaxis\":{\"endlinecolor\":\"#2a3f5f\",\"gridcolor\":\"white\",\"linecolor\":\"white\",\"minorgridcolor\":\"white\",\"startlinecolor\":\"#2a3f5f\"},\"baxis\":{\"endlinecolor\":\"#2a3f5f\",\"gridcolor\":\"white\",\"linecolor\":\"white\",\"minorgridcolor\":\"white\",\"startlinecolor\":\"#2a3f5f\"},\"type\":\"carpet\"}],\"choropleth\":[{\"colorbar\":{\"outlinewidth\":0,\"ticks\":\"\"},\"type\":\"choropleth\"}],\"contourcarpet\":[{\"colorbar\":{\"outlinewidth\":0,\"ticks\":\"\"},\"type\":\"contourcarpet\"}],\"contour\":[{\"colorbar\":{\"outlinewidth\":0,\"ticks\":\"\"},\"colorscale\":[[0.0,\"#0d0887\"],[0.1111111111111111,\"#46039f\"],[0.2222222222222222,\"#7201a8\"],[0.3333333333333333,\"#9c179e\"],[0.4444444444444444,\"#bd3786\"],[0.5555555555555556,\"#d8576b\"],[0.6666666666666666,\"#ed7953\"],[0.7777777777777778,\"#fb9f3a\"],[0.8888888888888888,\"#fdca26\"],[1.0,\"#f0f921\"]],\"type\":\"contour\"}],\"heatmapgl\":[{\"colorbar\":{\"outlinewidth\":0,\"ticks\":\"\"},\"colorscale\":[[0.0,\"#0d0887\"],[0.1111111111111111,\"#46039f\"],[0.2222222222222222,\"#7201a8\"],[0.3333333333333333,\"#9c179e\"],[0.4444444444444444,\"#bd3786\"],[0.5555555555555556,\"#d8576b\"],[0.6666666666666666,\"#ed7953\"],[0.7777777777777778,\"#fb9f3a\"],[0.8888888888888888,\"#fdca26\"],[1.0,\"#f0f921\"]],\"type\":\"heatmapgl\"}],\"heatmap\":[{\"colorbar\":{\"outlinewidth\":0,\"ticks\":\"\"},\"colorscale\":[[0.0,\"#0d0887\"],[0.1111111111111111,\"#46039f\"],[0.2222222222222222,\"#7201a8\"],[0.3333333333333333,\"#9c179e\"],[0.4444444444444444,\"#bd3786\"],[0.5555555555555556,\"#d8576b\"],[0.6666666666666666,\"#ed7953\"],[0.7777777777777778,\"#fb9f3a\"],[0.8888888888888888,\"#fdca26\"],[1.0,\"#f0f921\"]],\"type\":\"heatmap\"}],\"histogram2dcontour\":[{\"colorbar\":{\"outlinewidth\":0,\"ticks\":\"\"},\"colorscale\":[[0.0,\"#0d0887\"],[0.1111111111111111,\"#46039f\"],[0.2222222222222222,\"#7201a8\"],[0.3333333333333333,\"#9c179e\"],[0.4444444444444444,\"#bd3786\"],[0.5555555555555556,\"#d8576b\"],[0.6666666666666666,\"#ed7953\"],[0.7777777777777778,\"#fb9f3a\"],[0.8888888888888888,\"#fdca26\"],[1.0,\"#f0f921\"]],\"type\":\"histogram2dcontour\"}],\"histogram2d\":[{\"colorbar\":{\"outlinewidth\":0,\"ticks\":\"\"},\"colorscale\":[[0.0,\"#0d0887\"],[0.1111111111111111,\"#46039f\"],[0.2222222222222222,\"#7201a8\"],[0.3333333333333333,\"#9c179e\"],[0.4444444444444444,\"#bd3786\"],[0.5555555555555556,\"#d8576b\"],[0.6666666666666666,\"#ed7953\"],[0.7777777777777778,\"#fb9f3a\"],[0.8888888888888888,\"#fdca26\"],[1.0,\"#f0f921\"]],\"type\":\"histogram2d\"}],\"histogram\":[{\"marker\":{\"pattern\":{\"fillmode\":\"overlay\",\"size\":10,\"solidity\":0.2}},\"type\":\"histogram\"}],\"mesh3d\":[{\"colorbar\":{\"outlinewidth\":0,\"ticks\":\"\"},\"type\":\"mesh3d\"}],\"parcoords\":[{\"line\":{\"colorbar\":{\"outlinewidth\":0,\"ticks\":\"\"}},\"type\":\"parcoords\"}],\"pie\":[{\"automargin\":true,\"type\":\"pie\"}],\"scatter3d\":[{\"line\":{\"colorbar\":{\"outlinewidth\":0,\"ticks\":\"\"}},\"marker\":{\"colorbar\":{\"outlinewidth\":0,\"ticks\":\"\"}},\"type\":\"scatter3d\"}],\"scattercarpet\":[{\"marker\":{\"colorbar\":{\"outlinewidth\":0,\"ticks\":\"\"}},\"type\":\"scattercarpet\"}],\"scattergeo\":[{\"marker\":{\"colorbar\":{\"outlinewidth\":0,\"ticks\":\"\"}},\"type\":\"scattergeo\"}],\"scattergl\":[{\"marker\":{\"colorbar\":{\"outlinewidth\":0,\"ticks\":\"\"}},\"type\":\"scattergl\"}],\"scattermapbox\":[{\"marker\":{\"colorbar\":{\"outlinewidth\":0,\"ticks\":\"\"}},\"type\":\"scattermapbox\"}],\"scatterpolargl\":[{\"marker\":{\"colorbar\":{\"outlinewidth\":0,\"ticks\":\"\"}},\"type\":\"scatterpolargl\"}],\"scatterpolar\":[{\"marker\":{\"colorbar\":{\"outlinewidth\":0,\"ticks\":\"\"}},\"type\":\"scatterpolar\"}],\"scatter\":[{\"fillpattern\":{\"fillmode\":\"overlay\",\"size\":10,\"solidity\":0.2},\"type\":\"scatter\"}],\"scatterternary\":[{\"marker\":{\"colorbar\":{\"outlinewidth\":0,\"ticks\":\"\"}},\"type\":\"scatterternary\"}],\"surface\":[{\"colorbar\":{\"outlinewidth\":0,\"ticks\":\"\"},\"colorscale\":[[0.0,\"#0d0887\"],[0.1111111111111111,\"#46039f\"],[0.2222222222222222,\"#7201a8\"],[0.3333333333333333,\"#9c179e\"],[0.4444444444444444,\"#bd3786\"],[0.5555555555555556,\"#d8576b\"],[0.6666666666666666,\"#ed7953\"],[0.7777777777777778,\"#fb9f3a\"],[0.8888888888888888,\"#fdca26\"],[1.0,\"#f0f921\"]],\"type\":\"surface\"}],\"table\":[{\"cells\":{\"fill\":{\"color\":\"#EBF0F8\"},\"line\":{\"color\":\"white\"}},\"header\":{\"fill\":{\"color\":\"#C8D4E3\"},\"line\":{\"color\":\"white\"}},\"type\":\"table\"}]},\"layout\":{\"annotationdefaults\":{\"arrowcolor\":\"#2a3f5f\",\"arrowhead\":0,\"arrowwidth\":1},\"autotypenumbers\":\"strict\",\"coloraxis\":{\"colorbar\":{\"outlinewidth\":0,\"ticks\":\"\"}},\"colorscale\":{\"diverging\":[[0,\"#8e0152\"],[0.1,\"#c51b7d\"],[0.2,\"#de77ae\"],[0.3,\"#f1b6da\"],[0.4,\"#fde0ef\"],[0.5,\"#f7f7f7\"],[0.6,\"#e6f5d0\"],[0.7,\"#b8e186\"],[0.8,\"#7fbc41\"],[0.9,\"#4d9221\"],[1,\"#276419\"]],\"sequential\":[[0.0,\"#0d0887\"],[0.1111111111111111,\"#46039f\"],[0.2222222222222222,\"#7201a8\"],[0.3333333333333333,\"#9c179e\"],[0.4444444444444444,\"#bd3786\"],[0.5555555555555556,\"#d8576b\"],[0.6666666666666666,\"#ed7953\"],[0.7777777777777778,\"#fb9f3a\"],[0.8888888888888888,\"#fdca26\"],[1.0,\"#f0f921\"]],\"sequentialminus\":[[0.0,\"#0d0887\"],[0.1111111111111111,\"#46039f\"],[0.2222222222222222,\"#7201a8\"],[0.3333333333333333,\"#9c179e\"],[0.4444444444444444,\"#bd3786\"],[0.5555555555555556,\"#d8576b\"],[0.6666666666666666,\"#ed7953\"],[0.7777777777777778,\"#fb9f3a\"],[0.8888888888888888,\"#fdca26\"],[1.0,\"#f0f921\"]]},\"colorway\":[\"#636efa\",\"#EF553B\",\"#00cc96\",\"#ab63fa\",\"#FFA15A\",\"#19d3f3\",\"#FF6692\",\"#B6E880\",\"#FF97FF\",\"#FECB52\"],\"font\":{\"color\":\"#2a3f5f\"},\"geo\":{\"bgcolor\":\"white\",\"lakecolor\":\"white\",\"landcolor\":\"#E5ECF6\",\"showlakes\":true,\"showland\":true,\"subunitcolor\":\"white\"},\"hoverlabel\":{\"align\":\"left\"},\"hovermode\":\"closest\",\"mapbox\":{\"style\":\"light\"},\"paper_bgcolor\":\"white\",\"plot_bgcolor\":\"#E5ECF6\",\"polar\":{\"angularaxis\":{\"gridcolor\":\"white\",\"linecolor\":\"white\",\"ticks\":\"\"},\"bgcolor\":\"#E5ECF6\",\"radialaxis\":{\"gridcolor\":\"white\",\"linecolor\":\"white\",\"ticks\":\"\"}},\"scene\":{\"xaxis\":{\"backgroundcolor\":\"#E5ECF6\",\"gridcolor\":\"white\",\"gridwidth\":2,\"linecolor\":\"white\",\"showbackground\":true,\"ticks\":\"\",\"zerolinecolor\":\"white\"},\"yaxis\":{\"backgroundcolor\":\"#E5ECF6\",\"gridcolor\":\"white\",\"gridwidth\":2,\"linecolor\":\"white\",\"showbackground\":true,\"ticks\":\"\",\"zerolinecolor\":\"white\"},\"zaxis\":{\"backgroundcolor\":\"#E5ECF6\",\"gridcolor\":\"white\",\"gridwidth\":2,\"linecolor\":\"white\",\"showbackground\":true,\"ticks\":\"\",\"zerolinecolor\":\"white\"}},\"shapedefaults\":{\"line\":{\"color\":\"#2a3f5f\"}},\"ternary\":{\"aaxis\":{\"gridcolor\":\"white\",\"linecolor\":\"white\",\"ticks\":\"\"},\"baxis\":{\"gridcolor\":\"white\",\"linecolor\":\"white\",\"ticks\":\"\"},\"bgcolor\":\"#E5ECF6\",\"caxis\":{\"gridcolor\":\"white\",\"linecolor\":\"white\",\"ticks\":\"\"}},\"title\":{\"x\":0.05},\"xaxis\":{\"automargin\":true,\"gridcolor\":\"white\",\"linecolor\":\"white\",\"ticks\":\"\",\"title\":{\"standoff\":15},\"zerolinecolor\":\"white\",\"zerolinewidth\":2},\"yaxis\":{\"automargin\":true,\"gridcolor\":\"white\",\"linecolor\":\"white\",\"ticks\":\"\",\"title\":{\"standoff\":15},\"zerolinecolor\":\"white\",\"zerolinewidth\":2}}}},                        {\"responsive\": true}                    ).then(function(){\n",
       "                            \n",
       "var gd = document.getElementById('532030ab-c525-4de2-aedf-8d85555894be');\n",
       "var x = new MutationObserver(function (mutations, observer) {{\n",
       "        var display = window.getComputedStyle(gd).display;\n",
       "        if (!display || display === 'none') {{\n",
       "            console.log([gd, 'removed!']);\n",
       "            Plotly.purge(gd);\n",
       "            observer.disconnect();\n",
       "        }}\n",
       "}});\n",
       "\n",
       "// Listen for the removal of the full notebook cells\n",
       "var notebookContainer = gd.closest('#notebook-container');\n",
       "if (notebookContainer) {{\n",
       "    x.observe(notebookContainer, {childList: true});\n",
       "}}\n",
       "\n",
       "// Listen for the clearing of the current output cell\n",
       "var outputEl = gd.closest('.output');\n",
       "if (outputEl) {{\n",
       "    x.observe(outputEl, {childList: true});\n",
       "}}\n",
       "\n",
       "                        })                };                });            </script>        </div>"
      ]
     },
     "metadata": {},
     "output_type": "display_data"
    }
   ],
   "source": [
    "df2016= timesData[timesData.year==2016].iloc[:20,:]\n",
    "num_students_size=[float(each.replace(',','.')) for each in df2016.num_students]\n",
    "international_color=[float(each) for each in df2016.international]\n",
    "\n",
    "data=[     # data yaratıp içerisine trace koyduk\n",
    "    {\n",
    "        \n",
    "        'y': df2016.teaching,\n",
    "        'x': df2016.world_rank,\n",
    "        'mode':'markers',\n",
    "        'marker':{    \n",
    "            'color': international_color,\n",
    "            'size': num_students_size,\n",
    "            'showscale': True\n",
    "        },\n",
    "        \"text\": df2016.university_name\n",
    "    }\n",
    "]\n",
    "iplot(data)\n",
    "\n",
    "# bubble plotta color ve size'ı anlamlı hâle getiririz.\n",
    "# layout yaratmadığım için fig oluşturmamıza gerek yok."
   ]
  },
  {
   "cell_type": "markdown",
   "id": "622b6c08",
   "metadata": {
    "papermill": {
     "duration": 0.043772,
     "end_time": "2022-08-02T12:20:53.420680",
     "exception": false,
     "start_time": "2022-08-02T12:20:53.376908",
     "status": "completed"
    },
    "tags": []
   },
   "source": [
    "* Sarı olanlar international skoru en yüksek olanlardır.\n",
    "* x ekseni world rank, y ekseni teaching, renkler international, size'lar ise num_student_size değerlerini vermektedir.\n",
    "* buna göre 4 boyutlu bir grafik elde etmiş olduk."
   ]
  },
  {
   "cell_type": "markdown",
   "id": "2a3c344a",
   "metadata": {
    "papermill": {
     "duration": 0.044348,
     "end_time": "2022-08-02T12:20:53.509222",
     "exception": false,
     "start_time": "2022-08-02T12:20:53.464874",
     "status": "completed"
    },
    "tags": []
   },
   "source": [
    "## Histogram"
   ]
  },
  {
   "cell_type": "code",
   "execution_count": 13,
   "id": "c1a7da3f",
   "metadata": {
    "execution": {
     "iopub.execute_input": "2022-08-02T12:20:53.602031Z",
     "iopub.status.busy": "2022-08-02T12:20:53.601191Z",
     "iopub.status.idle": "2022-08-02T12:20:53.645834Z",
     "shell.execute_reply": "2022-08-02T12:20:53.644861Z"
    },
    "papermill": {
     "duration": 0.093445,
     "end_time": "2022-08-02T12:20:53.648659",
     "exception": false,
     "start_time": "2022-08-02T12:20:53.555214",
     "status": "completed"
    },
    "tags": []
   },
   "outputs": [
    {
     "data": {
      "application/vnd.plotly.v1+json": {
       "config": {
        "linkText": "Export to plot.ly",
        "plotlyServerURL": "https://plot.ly",
        "showLink": false
       },
       "data": [
        {
         "marker": {
          "color": "rgba(171,50,96,0.6)"
         },
         "name": "2011",
         "opacity": 0.75,
         "type": "histogram",
         "x": [
          8.9,
          6.9,
          9.0,
          7.8,
          8.4,
          11.8,
          11.6,
          16.4,
          11.7,
          4.4,
          10.3,
          6.9,
          3.6,
          10.2,
          14.7,
          9.0,
          19.5,
          5.9,
          6.5,
          13.1,
          17.6,
          10.7,
          11.8,
          4.8,
          13.8,
          5.7,
          20.1,
          10.1,
          27.3,
          17.6,
          7.3,
          6.5,
          18.7,
          15.5,
          13.7,
          23.7,
          8.3,
          5.7,
          4.8,
          14.1,
          23.8,
          7.9,
          19.2,
          11.5,
          25.6,
          null,
          9.0,
          10.5,
          16.1,
          7.9,
          3.6,
          18.0,
          10.0,
          13.9,
          10.1,
          13.0,
          5.6,
          13.7,
          8.6,
          6.8,
          4.5,
          15.5,
          13.8,
          5.8,
          6.4,
          13.4,
          16.1,
          14.0,
          22.7,
          5.5,
          20.2,
          10.2,
          30.1,
          12.9,
          11.8,
          18.0,
          11.4,
          10.9,
          10.0,
          17.4,
          32.7,
          null,
          24.5,
          16.9,
          15.7,
          null,
          15.3,
          15.9,
          11.5,
          13.5,
          6.5,
          4.6,
          19.3,
          24.5,
          12.0,
          12.7,
          17.3,
          8.4,
          6.6,
          8.0,
          31.5,
          15.1,
          12.7,
          15.0,
          17.3,
          18.1,
          13.5,
          12.1,
          12.4,
          13.9,
          11.0,
          null,
          7.3,
          16.0,
          11.9,
          null,
          22.0,
          15.0,
          41.9,
          13.3,
          14.0,
          15.7,
          5.0,
          34.1,
          14.9,
          17.1,
          21.6,
          16.0,
          23.7,
          7.8,
          21.5,
          5.0,
          31.2,
          11.6,
          11.1,
          13.1,
          15.5,
          20.3,
          16.3,
          8.7,
          15.3,
          12.2,
          15.4,
          17.0,
          18.9,
          16.4,
          23.3,
          18.2,
          25.9,
          15.8,
          19.4,
          17.2,
          15.2,
          25.9,
          18.3,
          13.6,
          17.4,
          null,
          18.9,
          15.9,
          29.9,
          17.4,
          19.6,
          8.5,
          14.4,
          13.6,
          13.6,
          14.7,
          38.4,
          25.6,
          16.6,
          9.3,
          67.8,
          16.2,
          14.7,
          15.0,
          4.1,
          52.5,
          40.5,
          70.4,
          16.6,
          27.6,
          22.2,
          18.8,
          12.0,
          59.1,
          24.6,
          16.9,
          38.9,
          10.8,
          15.7,
          11.6,
          14.4,
          14.6,
          20.5,
          19.0,
          9.2,
          15.9,
          28.3,
          4.6
         ]
        },
        {
         "marker": {
          "color": "rgba(12,50,196,0.6)"
         },
         "name": "2012",
         "opacity": 0.75,
         "type": "histogram",
         "x": [
          6.9,
          8.9,
          7.8,
          11.6,
          8.4,
          11.8,
          9.0,
          11.7,
          6.9,
          16.4,
          4.4,
          5.9,
          10.3,
          3.6,
          14.7,
          6.5,
          10.7,
          9.0,
          19.5,
          10.2,
          13.1,
          4.8,
          17.6,
          20.1,
          11.8,
          13.8,
          10.8,
          13.7,
          17.4,
          5.7,
          18.7,
          11.5,
          6.5,
          17.6,
          27.3,
          14.1,
          23.7,
          19.2,
          13.9,
          15.5,
          5.7,
          18.0,
          7.3,
          6.8,
          15.5,
          10.5,
          null,
          15.3,
          10.1,
          8.3,
          12.4,
          5.6,
          10.1,
          8.6,
          12.9,
          11.4,
          13.4,
          20.2,
          5.8,
          7.9,
          6.5,
          23.8,
          4.8,
          13.0,
          19.3,
          14.0,
          41.9,
          15.4,
          25.6,
          3.6,
          13.7,
          9.0,
          24.5,
          32.7,
          4.5,
          17.0,
          10.0,
          16.1,
          17.1,
          11.5,
          17.3,
          4.5,
          15.7,
          8.7,
          12.7,
          16.1,
          18.2,
          31.5,
          13.8,
          6.6,
          15.1,
          14.4,
          6.4,
          10.0,
          8.4,
          15.7,
          12.7,
          18.1,
          17.4,
          21.6,
          15.5,
          16.0,
          12.1,
          19.4,
          20.3,
          34.1,
          15.9,
          7.3,
          52.5,
          22.7,
          17.3,
          22.5,
          16.9,
          10.9,
          16.0,
          13.1,
          40.5,
          18.0,
          7.8,
          5.0,
          10.7,
          null,
          13.6,
          13.9,
          13.6,
          18.7,
          29.9,
          14.0,
          13.5,
          15.0,
          14.9,
          23.7,
          14.7,
          25.6,
          12.0,
          4.1,
          10.2,
          8.5,
          20.5,
          15.0,
          11.6,
          8.0,
          22.0,
          15.0,
          14.7,
          15.2,
          11.8,
          16.4,
          17.2,
          12.6,
          10.2,
          39.3,
          15.8,
          11.9,
          5.5,
          18.8,
          18.9,
          16.6,
          13.0,
          24.5,
          16.3,
          null,
          4.6,
          21.4,
          14.8,
          24.4,
          9.2,
          27.6,
          16.2,
          14.8,
          42.0,
          5.7,
          22.1,
          18.9,
          25.9,
          15.3,
          21.5,
          5.0,
          14.6,
          15.9,
          9.3,
          13.6,
          18.8,
          17.4,
          26.3,
          18.3,
          14.6,
          38.9,
          31.2,
          20.7,
          11.1,
          7.9,
          7.1,
          59.1,
          17.4,
          24.6,
          null,
          18.9,
          13.4,
          12.0,
          12.3,
          null,
          13.1,
          18.2,
          7.9,
          13.5,
          15.1,
          19.4,
          8.4,
          11.2,
          11.9,
          19.0,
          30.1,
          12.2,
          15.7,
          19.8,
          19.9,
          16.4,
          16.9,
          null,
          20.3,
          16.3,
          17.8,
          24.2,
          20.7,
          38.4,
          26.1,
          29.8,
          11.6,
          19.0,
          8.3,
          14.4,
          10.8,
          12.2,
          15.8,
          20.0,
          16.6,
          28.3,
          18.5,
          4.6,
          9.9,
          22.9,
          16.5,
          null,
          24.3,
          72.5,
          14.1,
          18.3,
          25.8,
          11.6,
          19.5,
          67.8,
          17.6,
          25.9,
          29.1,
          6.7,
          13.3,
          19.6,
          13.9,
          17.9,
          46.3,
          23.0,
          22.4,
          37.4,
          18.8,
          26.8,
          null,
          23.8,
          12.7,
          22.8,
          18.6,
          12.6,
          25.4,
          21.1,
          18.6,
          10.7,
          19.2,
          13.0,
          8.2,
          11.0,
          16.0,
          7.7,
          22.2,
          18.4,
          35.8,
          15.3,
          16.6,
          53.6,
          3.3,
          12.2,
          30.3,
          26.9,
          28.3,
          25.9,
          null,
          null,
          46.1,
          21.9,
          26.9,
          43.2,
          39.4,
          15.9,
          24.2,
          23.3,
          16.0,
          23.3,
          25.0,
          25.4,
          13.0,
          17.0,
          14.9,
          11.5,
          15.7,
          11.9,
          19.0,
          11.3,
          7.7,
          17.4,
          25.9,
          22.2,
          32.3,
          12.8,
          18.7,
          20.3,
          22.3,
          17.8,
          16.5,
          17.3,
          30.2,
          19.4,
          43.7,
          18.7,
          25.9,
          27.8,
          18.1,
          25.3,
          null,
          18.0,
          18.8,
          21.5,
          15.9,
          16.6,
          9.5,
          23.8,
          15.4,
          17.0,
          14.1,
          52.0,
          17.1,
          18.3,
          15.9,
          null,
          17.6,
          17.1,
          17.1,
          30.4,
          22.6,
          20.4,
          22.0,
          10.8,
          17.8,
          8.2,
          15.1,
          8.4,
          17.4,
          29.0,
          62.7,
          19.8,
          15.9,
          7.5,
          16.8,
          null,
          9.8,
          20.9,
          26.8,
          28.0,
          26.2,
          17.9,
          null,
          11.7,
          19.6,
          13.6,
          15.3,
          5.2,
          17.1,
          36.5,
          14.4,
          65.1,
          19.0,
          21.5,
          14.4,
          23.4,
          58.4,
          26.2,
          20.2,
          13.0,
          14.6,
          null,
          11.8,
          16.9,
          14.4,
          20.6
         ]
        }
       ],
       "layout": {
        "barmode": "overlay",
        "template": {
         "data": {
          "bar": [
           {
            "error_x": {
             "color": "#2a3f5f"
            },
            "error_y": {
             "color": "#2a3f5f"
            },
            "marker": {
             "line": {
              "color": "#E5ECF6",
              "width": 0.5
             },
             "pattern": {
              "fillmode": "overlay",
              "size": 10,
              "solidity": 0.2
             }
            },
            "type": "bar"
           }
          ],
          "barpolar": [
           {
            "marker": {
             "line": {
              "color": "#E5ECF6",
              "width": 0.5
             },
             "pattern": {
              "fillmode": "overlay",
              "size": 10,
              "solidity": 0.2
             }
            },
            "type": "barpolar"
           }
          ],
          "carpet": [
           {
            "aaxis": {
             "endlinecolor": "#2a3f5f",
             "gridcolor": "white",
             "linecolor": "white",
             "minorgridcolor": "white",
             "startlinecolor": "#2a3f5f"
            },
            "baxis": {
             "endlinecolor": "#2a3f5f",
             "gridcolor": "white",
             "linecolor": "white",
             "minorgridcolor": "white",
             "startlinecolor": "#2a3f5f"
            },
            "type": "carpet"
           }
          ],
          "choropleth": [
           {
            "colorbar": {
             "outlinewidth": 0,
             "ticks": ""
            },
            "type": "choropleth"
           }
          ],
          "contour": [
           {
            "colorbar": {
             "outlinewidth": 0,
             "ticks": ""
            },
            "colorscale": [
             [
              0.0,
              "#0d0887"
             ],
             [
              0.1111111111111111,
              "#46039f"
             ],
             [
              0.2222222222222222,
              "#7201a8"
             ],
             [
              0.3333333333333333,
              "#9c179e"
             ],
             [
              0.4444444444444444,
              "#bd3786"
             ],
             [
              0.5555555555555556,
              "#d8576b"
             ],
             [
              0.6666666666666666,
              "#ed7953"
             ],
             [
              0.7777777777777778,
              "#fb9f3a"
             ],
             [
              0.8888888888888888,
              "#fdca26"
             ],
             [
              1.0,
              "#f0f921"
             ]
            ],
            "type": "contour"
           }
          ],
          "contourcarpet": [
           {
            "colorbar": {
             "outlinewidth": 0,
             "ticks": ""
            },
            "type": "contourcarpet"
           }
          ],
          "heatmap": [
           {
            "colorbar": {
             "outlinewidth": 0,
             "ticks": ""
            },
            "colorscale": [
             [
              0.0,
              "#0d0887"
             ],
             [
              0.1111111111111111,
              "#46039f"
             ],
             [
              0.2222222222222222,
              "#7201a8"
             ],
             [
              0.3333333333333333,
              "#9c179e"
             ],
             [
              0.4444444444444444,
              "#bd3786"
             ],
             [
              0.5555555555555556,
              "#d8576b"
             ],
             [
              0.6666666666666666,
              "#ed7953"
             ],
             [
              0.7777777777777778,
              "#fb9f3a"
             ],
             [
              0.8888888888888888,
              "#fdca26"
             ],
             [
              1.0,
              "#f0f921"
             ]
            ],
            "type": "heatmap"
           }
          ],
          "heatmapgl": [
           {
            "colorbar": {
             "outlinewidth": 0,
             "ticks": ""
            },
            "colorscale": [
             [
              0.0,
              "#0d0887"
             ],
             [
              0.1111111111111111,
              "#46039f"
             ],
             [
              0.2222222222222222,
              "#7201a8"
             ],
             [
              0.3333333333333333,
              "#9c179e"
             ],
             [
              0.4444444444444444,
              "#bd3786"
             ],
             [
              0.5555555555555556,
              "#d8576b"
             ],
             [
              0.6666666666666666,
              "#ed7953"
             ],
             [
              0.7777777777777778,
              "#fb9f3a"
             ],
             [
              0.8888888888888888,
              "#fdca26"
             ],
             [
              1.0,
              "#f0f921"
             ]
            ],
            "type": "heatmapgl"
           }
          ],
          "histogram": [
           {
            "marker": {
             "pattern": {
              "fillmode": "overlay",
              "size": 10,
              "solidity": 0.2
             }
            },
            "type": "histogram"
           }
          ],
          "histogram2d": [
           {
            "colorbar": {
             "outlinewidth": 0,
             "ticks": ""
            },
            "colorscale": [
             [
              0.0,
              "#0d0887"
             ],
             [
              0.1111111111111111,
              "#46039f"
             ],
             [
              0.2222222222222222,
              "#7201a8"
             ],
             [
              0.3333333333333333,
              "#9c179e"
             ],
             [
              0.4444444444444444,
              "#bd3786"
             ],
             [
              0.5555555555555556,
              "#d8576b"
             ],
             [
              0.6666666666666666,
              "#ed7953"
             ],
             [
              0.7777777777777778,
              "#fb9f3a"
             ],
             [
              0.8888888888888888,
              "#fdca26"
             ],
             [
              1.0,
              "#f0f921"
             ]
            ],
            "type": "histogram2d"
           }
          ],
          "histogram2dcontour": [
           {
            "colorbar": {
             "outlinewidth": 0,
             "ticks": ""
            },
            "colorscale": [
             [
              0.0,
              "#0d0887"
             ],
             [
              0.1111111111111111,
              "#46039f"
             ],
             [
              0.2222222222222222,
              "#7201a8"
             ],
             [
              0.3333333333333333,
              "#9c179e"
             ],
             [
              0.4444444444444444,
              "#bd3786"
             ],
             [
              0.5555555555555556,
              "#d8576b"
             ],
             [
              0.6666666666666666,
              "#ed7953"
             ],
             [
              0.7777777777777778,
              "#fb9f3a"
             ],
             [
              0.8888888888888888,
              "#fdca26"
             ],
             [
              1.0,
              "#f0f921"
             ]
            ],
            "type": "histogram2dcontour"
           }
          ],
          "mesh3d": [
           {
            "colorbar": {
             "outlinewidth": 0,
             "ticks": ""
            },
            "type": "mesh3d"
           }
          ],
          "parcoords": [
           {
            "line": {
             "colorbar": {
              "outlinewidth": 0,
              "ticks": ""
             }
            },
            "type": "parcoords"
           }
          ],
          "pie": [
           {
            "automargin": true,
            "type": "pie"
           }
          ],
          "scatter": [
           {
            "fillpattern": {
             "fillmode": "overlay",
             "size": 10,
             "solidity": 0.2
            },
            "type": "scatter"
           }
          ],
          "scatter3d": [
           {
            "line": {
             "colorbar": {
              "outlinewidth": 0,
              "ticks": ""
             }
            },
            "marker": {
             "colorbar": {
              "outlinewidth": 0,
              "ticks": ""
             }
            },
            "type": "scatter3d"
           }
          ],
          "scattercarpet": [
           {
            "marker": {
             "colorbar": {
              "outlinewidth": 0,
              "ticks": ""
             }
            },
            "type": "scattercarpet"
           }
          ],
          "scattergeo": [
           {
            "marker": {
             "colorbar": {
              "outlinewidth": 0,
              "ticks": ""
             }
            },
            "type": "scattergeo"
           }
          ],
          "scattergl": [
           {
            "marker": {
             "colorbar": {
              "outlinewidth": 0,
              "ticks": ""
             }
            },
            "type": "scattergl"
           }
          ],
          "scattermapbox": [
           {
            "marker": {
             "colorbar": {
              "outlinewidth": 0,
              "ticks": ""
             }
            },
            "type": "scattermapbox"
           }
          ],
          "scatterpolar": [
           {
            "marker": {
             "colorbar": {
              "outlinewidth": 0,
              "ticks": ""
             }
            },
            "type": "scatterpolar"
           }
          ],
          "scatterpolargl": [
           {
            "marker": {
             "colorbar": {
              "outlinewidth": 0,
              "ticks": ""
             }
            },
            "type": "scatterpolargl"
           }
          ],
          "scatterternary": [
           {
            "marker": {
             "colorbar": {
              "outlinewidth": 0,
              "ticks": ""
             }
            },
            "type": "scatterternary"
           }
          ],
          "surface": [
           {
            "colorbar": {
             "outlinewidth": 0,
             "ticks": ""
            },
            "colorscale": [
             [
              0.0,
              "#0d0887"
             ],
             [
              0.1111111111111111,
              "#46039f"
             ],
             [
              0.2222222222222222,
              "#7201a8"
             ],
             [
              0.3333333333333333,
              "#9c179e"
             ],
             [
              0.4444444444444444,
              "#bd3786"
             ],
             [
              0.5555555555555556,
              "#d8576b"
             ],
             [
              0.6666666666666666,
              "#ed7953"
             ],
             [
              0.7777777777777778,
              "#fb9f3a"
             ],
             [
              0.8888888888888888,
              "#fdca26"
             ],
             [
              1.0,
              "#f0f921"
             ]
            ],
            "type": "surface"
           }
          ],
          "table": [
           {
            "cells": {
             "fill": {
              "color": "#EBF0F8"
             },
             "line": {
              "color": "white"
             }
            },
            "header": {
             "fill": {
              "color": "#C8D4E3"
             },
             "line": {
              "color": "white"
             }
            },
            "type": "table"
           }
          ]
         },
         "layout": {
          "annotationdefaults": {
           "arrowcolor": "#2a3f5f",
           "arrowhead": 0,
           "arrowwidth": 1
          },
          "autotypenumbers": "strict",
          "coloraxis": {
           "colorbar": {
            "outlinewidth": 0,
            "ticks": ""
           }
          },
          "colorscale": {
           "diverging": [
            [
             0,
             "#8e0152"
            ],
            [
             0.1,
             "#c51b7d"
            ],
            [
             0.2,
             "#de77ae"
            ],
            [
             0.3,
             "#f1b6da"
            ],
            [
             0.4,
             "#fde0ef"
            ],
            [
             0.5,
             "#f7f7f7"
            ],
            [
             0.6,
             "#e6f5d0"
            ],
            [
             0.7,
             "#b8e186"
            ],
            [
             0.8,
             "#7fbc41"
            ],
            [
             0.9,
             "#4d9221"
            ],
            [
             1,
             "#276419"
            ]
           ],
           "sequential": [
            [
             0.0,
             "#0d0887"
            ],
            [
             0.1111111111111111,
             "#46039f"
            ],
            [
             0.2222222222222222,
             "#7201a8"
            ],
            [
             0.3333333333333333,
             "#9c179e"
            ],
            [
             0.4444444444444444,
             "#bd3786"
            ],
            [
             0.5555555555555556,
             "#d8576b"
            ],
            [
             0.6666666666666666,
             "#ed7953"
            ],
            [
             0.7777777777777778,
             "#fb9f3a"
            ],
            [
             0.8888888888888888,
             "#fdca26"
            ],
            [
             1.0,
             "#f0f921"
            ]
           ],
           "sequentialminus": [
            [
             0.0,
             "#0d0887"
            ],
            [
             0.1111111111111111,
             "#46039f"
            ],
            [
             0.2222222222222222,
             "#7201a8"
            ],
            [
             0.3333333333333333,
             "#9c179e"
            ],
            [
             0.4444444444444444,
             "#bd3786"
            ],
            [
             0.5555555555555556,
             "#d8576b"
            ],
            [
             0.6666666666666666,
             "#ed7953"
            ],
            [
             0.7777777777777778,
             "#fb9f3a"
            ],
            [
             0.8888888888888888,
             "#fdca26"
            ],
            [
             1.0,
             "#f0f921"
            ]
           ]
          },
          "colorway": [
           "#636efa",
           "#EF553B",
           "#00cc96",
           "#ab63fa",
           "#FFA15A",
           "#19d3f3",
           "#FF6692",
           "#B6E880",
           "#FF97FF",
           "#FECB52"
          ],
          "font": {
           "color": "#2a3f5f"
          },
          "geo": {
           "bgcolor": "white",
           "lakecolor": "white",
           "landcolor": "#E5ECF6",
           "showlakes": true,
           "showland": true,
           "subunitcolor": "white"
          },
          "hoverlabel": {
           "align": "left"
          },
          "hovermode": "closest",
          "mapbox": {
           "style": "light"
          },
          "paper_bgcolor": "white",
          "plot_bgcolor": "#E5ECF6",
          "polar": {
           "angularaxis": {
            "gridcolor": "white",
            "linecolor": "white",
            "ticks": ""
           },
           "bgcolor": "#E5ECF6",
           "radialaxis": {
            "gridcolor": "white",
            "linecolor": "white",
            "ticks": ""
           }
          },
          "scene": {
           "xaxis": {
            "backgroundcolor": "#E5ECF6",
            "gridcolor": "white",
            "gridwidth": 2,
            "linecolor": "white",
            "showbackground": true,
            "ticks": "",
            "zerolinecolor": "white"
           },
           "yaxis": {
            "backgroundcolor": "#E5ECF6",
            "gridcolor": "white",
            "gridwidth": 2,
            "linecolor": "white",
            "showbackground": true,
            "ticks": "",
            "zerolinecolor": "white"
           },
           "zaxis": {
            "backgroundcolor": "#E5ECF6",
            "gridcolor": "white",
            "gridwidth": 2,
            "linecolor": "white",
            "showbackground": true,
            "ticks": "",
            "zerolinecolor": "white"
           }
          },
          "shapedefaults": {
           "line": {
            "color": "#2a3f5f"
           }
          },
          "ternary": {
           "aaxis": {
            "gridcolor": "white",
            "linecolor": "white",
            "ticks": ""
           },
           "baxis": {
            "gridcolor": "white",
            "linecolor": "white",
            "ticks": ""
           },
           "bgcolor": "#E5ECF6",
           "caxis": {
            "gridcolor": "white",
            "linecolor": "white",
            "ticks": ""
           }
          },
          "title": {
           "x": 0.05
          },
          "xaxis": {
           "automargin": true,
           "gridcolor": "white",
           "linecolor": "white",
           "ticks": "",
           "title": {
            "standoff": 15
           },
           "zerolinecolor": "white",
           "zerolinewidth": 2
          },
          "yaxis": {
           "automargin": true,
           "gridcolor": "white",
           "linecolor": "white",
           "ticks": "",
           "title": {
            "standoff": 15
           },
           "zerolinecolor": "white",
           "zerolinewidth": 2
          }
         }
        },
        "title": {
         "text": "students-staff ratio in 2011 and 2012"
        },
        "xaxis": {
         "title": {
          "text": "students-staff ratio"
         }
        },
        "yaxis": {
         "title": {
          "text": "Count"
         }
        }
       }
      },
      "text/html": [
       "<div>                            <div id=\"05878e58-aa16-46fa-afe9-5cf3121e2e08\" class=\"plotly-graph-div\" style=\"height:525px; width:100%;\"></div>            <script type=\"text/javascript\">                require([\"plotly\"], function(Plotly) {                    window.PLOTLYENV=window.PLOTLYENV || {};                                    if (document.getElementById(\"05878e58-aa16-46fa-afe9-5cf3121e2e08\")) {                    Plotly.newPlot(                        \"05878e58-aa16-46fa-afe9-5cf3121e2e08\",                        [{\"marker\":{\"color\":\"rgba(171,50,96,0.6)\"},\"name\":\"2011\",\"opacity\":0.75,\"x\":[8.9,6.9,9.0,7.8,8.4,11.8,11.6,16.4,11.7,4.4,10.3,6.9,3.6,10.2,14.7,9.0,19.5,5.9,6.5,13.1,17.6,10.7,11.8,4.8,13.8,5.7,20.1,10.1,27.3,17.6,7.3,6.5,18.7,15.5,13.7,23.7,8.3,5.7,4.8,14.1,23.8,7.9,19.2,11.5,25.6,null,9.0,10.5,16.1,7.9,3.6,18.0,10.0,13.9,10.1,13.0,5.6,13.7,8.6,6.8,4.5,15.5,13.8,5.8,6.4,13.4,16.1,14.0,22.7,5.5,20.2,10.2,30.1,12.9,11.8,18.0,11.4,10.9,10.0,17.4,32.7,null,24.5,16.9,15.7,null,15.3,15.9,11.5,13.5,6.5,4.6,19.3,24.5,12.0,12.7,17.3,8.4,6.6,8.0,31.5,15.1,12.7,15.0,17.3,18.1,13.5,12.1,12.4,13.9,11.0,null,7.3,16.0,11.9,null,22.0,15.0,41.9,13.3,14.0,15.7,5.0,34.1,14.9,17.1,21.6,16.0,23.7,7.8,21.5,5.0,31.2,11.6,11.1,13.1,15.5,20.3,16.3,8.7,15.3,12.2,15.4,17.0,18.9,16.4,23.3,18.2,25.9,15.8,19.4,17.2,15.2,25.9,18.3,13.6,17.4,null,18.9,15.9,29.9,17.4,19.6,8.5,14.4,13.6,13.6,14.7,38.4,25.6,16.6,9.3,67.8,16.2,14.7,15.0,4.1,52.5,40.5,70.4,16.6,27.6,22.2,18.8,12.0,59.1,24.6,16.9,38.9,10.8,15.7,11.6,14.4,14.6,20.5,19.0,9.2,15.9,28.3,4.6],\"type\":\"histogram\"},{\"marker\":{\"color\":\"rgba(12,50,196,0.6)\"},\"name\":\"2012\",\"opacity\":0.75,\"x\":[6.9,8.9,7.8,11.6,8.4,11.8,9.0,11.7,6.9,16.4,4.4,5.9,10.3,3.6,14.7,6.5,10.7,9.0,19.5,10.2,13.1,4.8,17.6,20.1,11.8,13.8,10.8,13.7,17.4,5.7,18.7,11.5,6.5,17.6,27.3,14.1,23.7,19.2,13.9,15.5,5.7,18.0,7.3,6.8,15.5,10.5,null,15.3,10.1,8.3,12.4,5.6,10.1,8.6,12.9,11.4,13.4,20.2,5.8,7.9,6.5,23.8,4.8,13.0,19.3,14.0,41.9,15.4,25.6,3.6,13.7,9.0,24.5,32.7,4.5,17.0,10.0,16.1,17.1,11.5,17.3,4.5,15.7,8.7,12.7,16.1,18.2,31.5,13.8,6.6,15.1,14.4,6.4,10.0,8.4,15.7,12.7,18.1,17.4,21.6,15.5,16.0,12.1,19.4,20.3,34.1,15.9,7.3,52.5,22.7,17.3,22.5,16.9,10.9,16.0,13.1,40.5,18.0,7.8,5.0,10.7,null,13.6,13.9,13.6,18.7,29.9,14.0,13.5,15.0,14.9,23.7,14.7,25.6,12.0,4.1,10.2,8.5,20.5,15.0,11.6,8.0,22.0,15.0,14.7,15.2,11.8,16.4,17.2,12.6,10.2,39.3,15.8,11.9,5.5,18.8,18.9,16.6,13.0,24.5,16.3,null,4.6,21.4,14.8,24.4,9.2,27.6,16.2,14.8,42.0,5.7,22.1,18.9,25.9,15.3,21.5,5.0,14.6,15.9,9.3,13.6,18.8,17.4,26.3,18.3,14.6,38.9,31.2,20.7,11.1,7.9,7.1,59.1,17.4,24.6,null,18.9,13.4,12.0,12.3,null,13.1,18.2,7.9,13.5,15.1,19.4,8.4,11.2,11.9,19.0,30.1,12.2,15.7,19.8,19.9,16.4,16.9,null,20.3,16.3,17.8,24.2,20.7,38.4,26.1,29.8,11.6,19.0,8.3,14.4,10.8,12.2,15.8,20.0,16.6,28.3,18.5,4.6,9.9,22.9,16.5,null,24.3,72.5,14.1,18.3,25.8,11.6,19.5,67.8,17.6,25.9,29.1,6.7,13.3,19.6,13.9,17.9,46.3,23.0,22.4,37.4,18.8,26.8,null,23.8,12.7,22.8,18.6,12.6,25.4,21.1,18.6,10.7,19.2,13.0,8.2,11.0,16.0,7.7,22.2,18.4,35.8,15.3,16.6,53.6,3.3,12.2,30.3,26.9,28.3,25.9,null,null,46.1,21.9,26.9,43.2,39.4,15.9,24.2,23.3,16.0,23.3,25.0,25.4,13.0,17.0,14.9,11.5,15.7,11.9,19.0,11.3,7.7,17.4,25.9,22.2,32.3,12.8,18.7,20.3,22.3,17.8,16.5,17.3,30.2,19.4,43.7,18.7,25.9,27.8,18.1,25.3,null,18.0,18.8,21.5,15.9,16.6,9.5,23.8,15.4,17.0,14.1,52.0,17.1,18.3,15.9,null,17.6,17.1,17.1,30.4,22.6,20.4,22.0,10.8,17.8,8.2,15.1,8.4,17.4,29.0,62.7,19.8,15.9,7.5,16.8,null,9.8,20.9,26.8,28.0,26.2,17.9,null,11.7,19.6,13.6,15.3,5.2,17.1,36.5,14.4,65.1,19.0,21.5,14.4,23.4,58.4,26.2,20.2,13.0,14.6,null,11.8,16.9,14.4,20.6],\"type\":\"histogram\"}],                        {\"barmode\":\"overlay\",\"template\":{\"data\":{\"barpolar\":[{\"marker\":{\"line\":{\"color\":\"#E5ECF6\",\"width\":0.5},\"pattern\":{\"fillmode\":\"overlay\",\"size\":10,\"solidity\":0.2}},\"type\":\"barpolar\"}],\"bar\":[{\"error_x\":{\"color\":\"#2a3f5f\"},\"error_y\":{\"color\":\"#2a3f5f\"},\"marker\":{\"line\":{\"color\":\"#E5ECF6\",\"width\":0.5},\"pattern\":{\"fillmode\":\"overlay\",\"size\":10,\"solidity\":0.2}},\"type\":\"bar\"}],\"carpet\":[{\"aaxis\":{\"endlinecolor\":\"#2a3f5f\",\"gridcolor\":\"white\",\"linecolor\":\"white\",\"minorgridcolor\":\"white\",\"startlinecolor\":\"#2a3f5f\"},\"baxis\":{\"endlinecolor\":\"#2a3f5f\",\"gridcolor\":\"white\",\"linecolor\":\"white\",\"minorgridcolor\":\"white\",\"startlinecolor\":\"#2a3f5f\"},\"type\":\"carpet\"}],\"choropleth\":[{\"colorbar\":{\"outlinewidth\":0,\"ticks\":\"\"},\"type\":\"choropleth\"}],\"contourcarpet\":[{\"colorbar\":{\"outlinewidth\":0,\"ticks\":\"\"},\"type\":\"contourcarpet\"}],\"contour\":[{\"colorbar\":{\"outlinewidth\":0,\"ticks\":\"\"},\"colorscale\":[[0.0,\"#0d0887\"],[0.1111111111111111,\"#46039f\"],[0.2222222222222222,\"#7201a8\"],[0.3333333333333333,\"#9c179e\"],[0.4444444444444444,\"#bd3786\"],[0.5555555555555556,\"#d8576b\"],[0.6666666666666666,\"#ed7953\"],[0.7777777777777778,\"#fb9f3a\"],[0.8888888888888888,\"#fdca26\"],[1.0,\"#f0f921\"]],\"type\":\"contour\"}],\"heatmapgl\":[{\"colorbar\":{\"outlinewidth\":0,\"ticks\":\"\"},\"colorscale\":[[0.0,\"#0d0887\"],[0.1111111111111111,\"#46039f\"],[0.2222222222222222,\"#7201a8\"],[0.3333333333333333,\"#9c179e\"],[0.4444444444444444,\"#bd3786\"],[0.5555555555555556,\"#d8576b\"],[0.6666666666666666,\"#ed7953\"],[0.7777777777777778,\"#fb9f3a\"],[0.8888888888888888,\"#fdca26\"],[1.0,\"#f0f921\"]],\"type\":\"heatmapgl\"}],\"heatmap\":[{\"colorbar\":{\"outlinewidth\":0,\"ticks\":\"\"},\"colorscale\":[[0.0,\"#0d0887\"],[0.1111111111111111,\"#46039f\"],[0.2222222222222222,\"#7201a8\"],[0.3333333333333333,\"#9c179e\"],[0.4444444444444444,\"#bd3786\"],[0.5555555555555556,\"#d8576b\"],[0.6666666666666666,\"#ed7953\"],[0.7777777777777778,\"#fb9f3a\"],[0.8888888888888888,\"#fdca26\"],[1.0,\"#f0f921\"]],\"type\":\"heatmap\"}],\"histogram2dcontour\":[{\"colorbar\":{\"outlinewidth\":0,\"ticks\":\"\"},\"colorscale\":[[0.0,\"#0d0887\"],[0.1111111111111111,\"#46039f\"],[0.2222222222222222,\"#7201a8\"],[0.3333333333333333,\"#9c179e\"],[0.4444444444444444,\"#bd3786\"],[0.5555555555555556,\"#d8576b\"],[0.6666666666666666,\"#ed7953\"],[0.7777777777777778,\"#fb9f3a\"],[0.8888888888888888,\"#fdca26\"],[1.0,\"#f0f921\"]],\"type\":\"histogram2dcontour\"}],\"histogram2d\":[{\"colorbar\":{\"outlinewidth\":0,\"ticks\":\"\"},\"colorscale\":[[0.0,\"#0d0887\"],[0.1111111111111111,\"#46039f\"],[0.2222222222222222,\"#7201a8\"],[0.3333333333333333,\"#9c179e\"],[0.4444444444444444,\"#bd3786\"],[0.5555555555555556,\"#d8576b\"],[0.6666666666666666,\"#ed7953\"],[0.7777777777777778,\"#fb9f3a\"],[0.8888888888888888,\"#fdca26\"],[1.0,\"#f0f921\"]],\"type\":\"histogram2d\"}],\"histogram\":[{\"marker\":{\"pattern\":{\"fillmode\":\"overlay\",\"size\":10,\"solidity\":0.2}},\"type\":\"histogram\"}],\"mesh3d\":[{\"colorbar\":{\"outlinewidth\":0,\"ticks\":\"\"},\"type\":\"mesh3d\"}],\"parcoords\":[{\"line\":{\"colorbar\":{\"outlinewidth\":0,\"ticks\":\"\"}},\"type\":\"parcoords\"}],\"pie\":[{\"automargin\":true,\"type\":\"pie\"}],\"scatter3d\":[{\"line\":{\"colorbar\":{\"outlinewidth\":0,\"ticks\":\"\"}},\"marker\":{\"colorbar\":{\"outlinewidth\":0,\"ticks\":\"\"}},\"type\":\"scatter3d\"}],\"scattercarpet\":[{\"marker\":{\"colorbar\":{\"outlinewidth\":0,\"ticks\":\"\"}},\"type\":\"scattercarpet\"}],\"scattergeo\":[{\"marker\":{\"colorbar\":{\"outlinewidth\":0,\"ticks\":\"\"}},\"type\":\"scattergeo\"}],\"scattergl\":[{\"marker\":{\"colorbar\":{\"outlinewidth\":0,\"ticks\":\"\"}},\"type\":\"scattergl\"}],\"scattermapbox\":[{\"marker\":{\"colorbar\":{\"outlinewidth\":0,\"ticks\":\"\"}},\"type\":\"scattermapbox\"}],\"scatterpolargl\":[{\"marker\":{\"colorbar\":{\"outlinewidth\":0,\"ticks\":\"\"}},\"type\":\"scatterpolargl\"}],\"scatterpolar\":[{\"marker\":{\"colorbar\":{\"outlinewidth\":0,\"ticks\":\"\"}},\"type\":\"scatterpolar\"}],\"scatter\":[{\"fillpattern\":{\"fillmode\":\"overlay\",\"size\":10,\"solidity\":0.2},\"type\":\"scatter\"}],\"scatterternary\":[{\"marker\":{\"colorbar\":{\"outlinewidth\":0,\"ticks\":\"\"}},\"type\":\"scatterternary\"}],\"surface\":[{\"colorbar\":{\"outlinewidth\":0,\"ticks\":\"\"},\"colorscale\":[[0.0,\"#0d0887\"],[0.1111111111111111,\"#46039f\"],[0.2222222222222222,\"#7201a8\"],[0.3333333333333333,\"#9c179e\"],[0.4444444444444444,\"#bd3786\"],[0.5555555555555556,\"#d8576b\"],[0.6666666666666666,\"#ed7953\"],[0.7777777777777778,\"#fb9f3a\"],[0.8888888888888888,\"#fdca26\"],[1.0,\"#f0f921\"]],\"type\":\"surface\"}],\"table\":[{\"cells\":{\"fill\":{\"color\":\"#EBF0F8\"},\"line\":{\"color\":\"white\"}},\"header\":{\"fill\":{\"color\":\"#C8D4E3\"},\"line\":{\"color\":\"white\"}},\"type\":\"table\"}]},\"layout\":{\"annotationdefaults\":{\"arrowcolor\":\"#2a3f5f\",\"arrowhead\":0,\"arrowwidth\":1},\"autotypenumbers\":\"strict\",\"coloraxis\":{\"colorbar\":{\"outlinewidth\":0,\"ticks\":\"\"}},\"colorscale\":{\"diverging\":[[0,\"#8e0152\"],[0.1,\"#c51b7d\"],[0.2,\"#de77ae\"],[0.3,\"#f1b6da\"],[0.4,\"#fde0ef\"],[0.5,\"#f7f7f7\"],[0.6,\"#e6f5d0\"],[0.7,\"#b8e186\"],[0.8,\"#7fbc41\"],[0.9,\"#4d9221\"],[1,\"#276419\"]],\"sequential\":[[0.0,\"#0d0887\"],[0.1111111111111111,\"#46039f\"],[0.2222222222222222,\"#7201a8\"],[0.3333333333333333,\"#9c179e\"],[0.4444444444444444,\"#bd3786\"],[0.5555555555555556,\"#d8576b\"],[0.6666666666666666,\"#ed7953\"],[0.7777777777777778,\"#fb9f3a\"],[0.8888888888888888,\"#fdca26\"],[1.0,\"#f0f921\"]],\"sequentialminus\":[[0.0,\"#0d0887\"],[0.1111111111111111,\"#46039f\"],[0.2222222222222222,\"#7201a8\"],[0.3333333333333333,\"#9c179e\"],[0.4444444444444444,\"#bd3786\"],[0.5555555555555556,\"#d8576b\"],[0.6666666666666666,\"#ed7953\"],[0.7777777777777778,\"#fb9f3a\"],[0.8888888888888888,\"#fdca26\"],[1.0,\"#f0f921\"]]},\"colorway\":[\"#636efa\",\"#EF553B\",\"#00cc96\",\"#ab63fa\",\"#FFA15A\",\"#19d3f3\",\"#FF6692\",\"#B6E880\",\"#FF97FF\",\"#FECB52\"],\"font\":{\"color\":\"#2a3f5f\"},\"geo\":{\"bgcolor\":\"white\",\"lakecolor\":\"white\",\"landcolor\":\"#E5ECF6\",\"showlakes\":true,\"showland\":true,\"subunitcolor\":\"white\"},\"hoverlabel\":{\"align\":\"left\"},\"hovermode\":\"closest\",\"mapbox\":{\"style\":\"light\"},\"paper_bgcolor\":\"white\",\"plot_bgcolor\":\"#E5ECF6\",\"polar\":{\"angularaxis\":{\"gridcolor\":\"white\",\"linecolor\":\"white\",\"ticks\":\"\"},\"bgcolor\":\"#E5ECF6\",\"radialaxis\":{\"gridcolor\":\"white\",\"linecolor\":\"white\",\"ticks\":\"\"}},\"scene\":{\"xaxis\":{\"backgroundcolor\":\"#E5ECF6\",\"gridcolor\":\"white\",\"gridwidth\":2,\"linecolor\":\"white\",\"showbackground\":true,\"ticks\":\"\",\"zerolinecolor\":\"white\"},\"yaxis\":{\"backgroundcolor\":\"#E5ECF6\",\"gridcolor\":\"white\",\"gridwidth\":2,\"linecolor\":\"white\",\"showbackground\":true,\"ticks\":\"\",\"zerolinecolor\":\"white\"},\"zaxis\":{\"backgroundcolor\":\"#E5ECF6\",\"gridcolor\":\"white\",\"gridwidth\":2,\"linecolor\":\"white\",\"showbackground\":true,\"ticks\":\"\",\"zerolinecolor\":\"white\"}},\"shapedefaults\":{\"line\":{\"color\":\"#2a3f5f\"}},\"ternary\":{\"aaxis\":{\"gridcolor\":\"white\",\"linecolor\":\"white\",\"ticks\":\"\"},\"baxis\":{\"gridcolor\":\"white\",\"linecolor\":\"white\",\"ticks\":\"\"},\"bgcolor\":\"#E5ECF6\",\"caxis\":{\"gridcolor\":\"white\",\"linecolor\":\"white\",\"ticks\":\"\"}},\"title\":{\"x\":0.05},\"xaxis\":{\"automargin\":true,\"gridcolor\":\"white\",\"linecolor\":\"white\",\"ticks\":\"\",\"title\":{\"standoff\":15},\"zerolinecolor\":\"white\",\"zerolinewidth\":2},\"yaxis\":{\"automargin\":true,\"gridcolor\":\"white\",\"linecolor\":\"white\",\"ticks\":\"\",\"title\":{\"standoff\":15},\"zerolinecolor\":\"white\",\"zerolinewidth\":2}}},\"title\":{\"text\":\"students-staff ratio in 2011 and 2012\"},\"xaxis\":{\"title\":{\"text\":\"students-staff ratio\"}},\"yaxis\":{\"title\":{\"text\":\"Count\"}}},                        {\"responsive\": true}                    ).then(function(){\n",
       "                            \n",
       "var gd = document.getElementById('05878e58-aa16-46fa-afe9-5cf3121e2e08');\n",
       "var x = new MutationObserver(function (mutations, observer) {{\n",
       "        var display = window.getComputedStyle(gd).display;\n",
       "        if (!display || display === 'none') {{\n",
       "            console.log([gd, 'removed!']);\n",
       "            Plotly.purge(gd);\n",
       "            observer.disconnect();\n",
       "        }}\n",
       "}});\n",
       "\n",
       "// Listen for the removal of the full notebook cells\n",
       "var notebookContainer = gd.closest('#notebook-container');\n",
       "if (notebookContainer) {{\n",
       "    x.observe(notebookContainer, {childList: true});\n",
       "}}\n",
       "\n",
       "// Listen for the clearing of the current output cell\n",
       "var outputEl = gd.closest('.output');\n",
       "if (outputEl) {{\n",
       "    x.observe(outputEl, {childList: true});\n",
       "}}\n",
       "\n",
       "                        })                };                });            </script>        </div>"
      ]
     },
     "metadata": {},
     "output_type": "display_data"
    }
   ],
   "source": [
    "x2011= timesData.student_staff_ratio[timesData.year==2011]\n",
    "x2012= timesData.student_staff_ratio[timesData.year==2012]\n",
    "\n",
    "trace1= go.Histogram(\n",
    "    x= x2011, \n",
    "    opacity=0.75,\n",
    "    name=\"2011\",\n",
    "    marker=dict(color='rgba(171,50,96,0.6)'))\n",
    "\n",
    "trace2 = go.Histogram(\n",
    "    x=x2012, \n",
    "    opacity=0.75,\n",
    "    name=\"2012\",\n",
    "    marker=dict(color='rgba(12,50,196,0.6)'))\n",
    "\n",
    "data=[trace1, trace2]\n",
    "layout = go.Layout(barmode='overlay',\n",
    "                  title='students-staff ratio in 2011 and 2012',\n",
    "                  xaxis= dict(title='students-staff ratio'),\n",
    "                  yaxis= dict(title='Count'),)\n",
    "fig= go.Figure(data=data, layout=layout)\n",
    "iplot(fig)"
   ]
  },
  {
   "cell_type": "markdown",
   "id": "4786a709",
   "metadata": {
    "papermill": {
     "duration": 0.052683,
     "end_time": "2022-08-02T12:20:53.753444",
     "exception": false,
     "start_time": "2022-08-02T12:20:53.700761",
     "status": "completed"
    },
    "tags": []
   },
   "source": [
    "## Word Cloud\n",
    "Bir pyplot değil ama görselleştirmede kullanıldığı için öğrenilmesi iyi olacaktır."
   ]
  },
  {
   "cell_type": "code",
   "execution_count": 14,
   "id": "fffb5b9b",
   "metadata": {
    "execution": {
     "iopub.execute_input": "2022-08-02T12:20:53.858616Z",
     "iopub.status.busy": "2022-08-02T12:20:53.857865Z",
     "iopub.status.idle": "2022-08-02T12:20:54.255293Z",
     "shell.execute_reply": "2022-08-02T12:20:54.254071Z"
    },
    "papermill": {
     "duration": 0.45297,
     "end_time": "2022-08-02T12:20:54.258624",
     "exception": false,
     "start_time": "2022-08-02T12:20:53.805654",
     "status": "completed"
    },
    "tags": []
   },
   "outputs": [
    {
     "data": {
      "image/png": "[encoded data removed]",
      "text/plain": [
       "<Figure size 576x576 with 1 Axes>"
      ]
     },
     "metadata": {
      "needs_background": "light"
     },
     "output_type": "display_data"
    }
   ],
   "source": [
    "x2011= timesData.country[timesData.year==2011]\n",
    "plt.subplots(figsize=(8,8))\n",
    "wordcloud= WordCloud(\n",
    "    background_color='white',\n",
    "    width=512,\n",
    "    height=384).generate(\" \".join(x2011))  # generate, datada en çok kullanılan country'leri ayır ve büyük bir şekilde yazdır anlamına geliyor.\n",
    "plt.imshow(wordcloud)   # image show \n",
    "plt.axis('off')\n",
    "plt.savefig('graph.png')\n",
    "\n",
    "plt.show()"
   ]
  },
  {
   "cell_type": "markdown",
   "id": "641640b4",
   "metadata": {
    "papermill": {
     "duration": 0.051776,
     "end_time": "2022-08-02T12:20:54.362853",
     "exception": false,
     "start_time": "2022-08-02T12:20:54.311077",
     "status": "completed"
    },
    "tags": []
   },
   "source": [
    "## Box Plot"
   ]
  },
  {
   "cell_type": "code",
   "execution_count": 15,
   "id": "ac3abac9",
   "metadata": {
    "execution": {
     "iopub.execute_input": "2022-08-02T12:20:54.471305Z",
     "iopub.status.busy": "2022-08-02T12:20:54.470655Z",
     "iopub.status.idle": "2022-08-02T12:20:54.536589Z",
     "shell.execute_reply": "2022-08-02T12:20:54.535438Z"
    },
    "papermill": {
     "duration": 0.122599,
     "end_time": "2022-08-02T12:20:54.539851",
     "exception": false,
     "start_time": "2022-08-02T12:20:54.417252",
     "status": "completed"
    },
    "tags": []
   },
   "outputs": [
    {
     "data": {
      "application/vnd.plotly.v1+json": {
       "config": {
        "linkText": "Export to plot.ly",
        "plotlyServerURL": "https://plot.ly",
        "showLink": false
       },
       "data": [
        {
         "marker": {
          "color": "rgb(12,12,140)"
         },
         "name": "total score of universities in 2015",
         "type": "box",
         "y": [
          "94.3",
          "93.3",
          "93.2",
          "92.9",
          "92.0",
          "91.9",
          "90.9",
          "89.5",
          "87.5",
          "87.5",
          "87.1",
          "85.5",
          "84.6",
          "84.4",
          "83.0",
          "81.0",
          "80.9",
          "79.9",
          "79.4",
          "79.3",
          "79.2",
          "78.7",
          "76.1",
          "74.3",
          "73.3",
          "73.2",
          "72.8",
          "72.3",
          "71.9",
          "71.9",
          "71.9",
          "71.8",
          "71.2",
          "70.9",
          "70.9",
          "70.4",
          "70.0",
          "69.9",
          "69.6",
          "69.4",
          "68.6",
          "67.8",
          "67.5",
          "66.8",
          "66.5",
          "65.9",
          "65.9",
          "65.2",
          "65.1",
          "64.8",
          "64.7",
          "64.5",
          "64.5",
          "64.1",
          "63.7",
          "63.7",
          "63.6",
          "62.9",
          "62.8",
          "62.7",
          "62.2",
          "62.2",
          "61.9",
          "61.3",
          "61.2",
          "61.1",
          "61.0",
          "60.7",
          "59.8",
          "59.6",
          "59.2",
          "59.1",
          "59.0",
          "58.9",
          "58.4",
          "58.4",
          "58.2",
          "58.1",
          "58.0",
          "57.9",
          "57.6",
          "57.3",
          "56.9",
          "56.9",
          "56.6",
          "56.5",
          "56.5",
          "56.4",
          "56.4",
          "56.2",
          "56.1",
          "56.1",
          "55.5",
          "55.3",
          "55.3",
          "55.2",
          "55.1",
          "54.6",
          "54.6",
          "54.6",
          "54.3",
          "54.0",
          "53.9",
          "53.9",
          "53.9",
          "53.9",
          "53.8",
          "53.8",
          "53.7",
          "53.7",
          "53.6",
          "53.6",
          "53.4",
          "53.4",
          "53.4",
          "53.2",
          "53.1",
          "53.0",
          "52.9",
          "52.8",
          "52.7",
          "52.7",
          "52.7",
          "52.6",
          "52.6",
          "52.5",
          "52.5",
          "52.5",
          "52.4",
          "52.1",
          "52.0",
          "51.9",
          "51.9",
          "51.9",
          "51.6",
          "51.4",
          "51.4",
          "51.2",
          "51.1",
          "51.0",
          "50.9",
          "50.9",
          "50.9",
          "50.5",
          "50.5",
          "50.4",
          "50.3",
          "50.2",
          "50.2",
          "50.1",
          "50.1",
          "50.0",
          "49.9",
          "49.7",
          "49.3",
          "49.2",
          "49.1",
          "49.1",
          "49.1",
          "49.0",
          "49.0",
          "48.6",
          "48.3",
          "48.2",
          "48.1",
          "48.1",
          "48.1",
          "48.1",
          "48.0",
          "47.9",
          "47.8",
          "47.8",
          "47.7",
          "47.7",
          "47.5",
          "47.5",
          "47.3",
          "47.1",
          "47.1",
          "47.0",
          "47.0",
          "46.9",
          "46.9",
          "46.9",
          "46.8",
          "46.7",
          "46.7",
          "46.6",
          "46.6",
          "46.6",
          "46.5",
          "46.3",
          "46.2",
          "46.2",
          "46.1",
          "46.0",
          "46.0",
          "45.9",
          "45.7",
          "45.6",
          "45.6",
          "-",
          "-",
          "-",
          "-",
          "-",
          "-",
          "-",
          "-",
          "-",
          "-",
          "-",
          "-",
          "-",
          "-",
          "-",
          "-",
          "-",
          "-",
          "-",
          "-",
          "-",
          "-",
          "-",
          "-",
          "-",
          "-",
          "-",
          "-",
          "-",
          "-",
          "-",
          "-",
          "-",
          "-",
          "-",
          "-",
          "-",
          "-",
          "-",
          "-",
          "-",
          "-",
          "-",
          "-",
          "-",
          "-",
          "-",
          "-",
          "-",
          "-",
          "-",
          "-",
          "-",
          "-",
          "-",
          "-",
          "-",
          "-",
          "-",
          "-",
          "-",
          "-",
          "-",
          "-",
          "-",
          "-",
          "-",
          "-",
          "-",
          "-",
          "-",
          "-",
          "-",
          "-",
          "-",
          "-",
          "-",
          "-",
          "-",
          "-",
          "-",
          "-",
          "-",
          "-",
          "-",
          "-",
          "-",
          "-",
          "-",
          "-",
          "-",
          "-",
          "-",
          "-",
          "-",
          "-",
          "-",
          "-",
          "-",
          "-",
          "-",
          "-",
          "-",
          "-",
          "-",
          "-",
          "-",
          "-",
          "-",
          "-",
          "-",
          "-",
          "-",
          "-",
          "-",
          "-",
          "-",
          "-",
          "-",
          "-",
          "-",
          "-",
          "-",
          "-",
          "-",
          "-",
          "-",
          "-",
          "-",
          "-",
          "-",
          "-",
          "-",
          "-",
          "-",
          "-",
          "-",
          "-",
          "-",
          "-",
          "-",
          "-",
          "-",
          "-",
          "-",
          "-",
          "-",
          "-",
          "-",
          "-",
          "-",
          "-",
          "-",
          "-",
          "-",
          "-",
          "-",
          "-",
          "-",
          "-",
          "-",
          "-",
          "-",
          "-",
          "-",
          "-",
          "-",
          "-",
          "-",
          "-",
          "-",
          "-",
          "-",
          "-",
          "-",
          "-",
          "-",
          "-",
          "-",
          "-",
          "-",
          "-",
          "-",
          "-",
          "-",
          "-",
          "-",
          "-",
          "-",
          "-",
          "-",
          "-",
          "-",
          "-",
          "-",
          "-",
          "-",
          "-",
          "-",
          "-"
         ]
        },
        {
         "marker": {
          "color": "rgb(12,128,128)"
         },
         "name": "research of universities in 2015",
         "type": "box",
         "y": [
          98.1,
          98.6,
          97.7,
          96.7,
          95.6,
          88.2,
          94.7,
          96.7,
          88.3,
          90.8,
          89.9,
          90.5,
          90.2,
          79.4,
          84.2,
          82.0,
          86.5,
          75.2,
          83.8,
          85.1,
          78.9,
          80.4,
          85.1,
          74.9,
          78.1,
          68.9,
          71.2,
          72.0,
          69.1,
          79.0,
          71.3,
          69.0,
          70.9,
          74.2,
          56.9,
          62.9,
          61.4,
          62.4,
          69.9,
          62.3,
          66.6,
          55.2,
          72.6,
          68.0,
          70.9,
          64.7,
          58.6,
          61.9,
          68.3,
          77.1,
          66.8,
          63.2,
          58.7,
          54.2,
          63.6,
          59.7,
          46.7,
          64.8,
          68.4,
          60.8,
          55.9,
          47.1,
          46.0,
          58.2,
          58.4,
          49.3,
          48.0,
          51.1,
          37.1,
          45.4,
          71.4,
          53.7,
          46.8,
          44.7,
          41.1,
          44.6,
          55.4,
          36.2,
          54.8,
          52.6,
          58.0,
          49.4,
          40.7,
          54.4,
          36.9,
          51.4,
          38.5,
          33.9,
          41.7,
          51.6,
          49.1,
          46.3,
          32.4,
          43.2,
          40.5,
          38.2,
          38.3,
          45.0,
          37.4,
          53.0,
          48.1,
          50.5,
          30.0,
          48.1,
          45.8,
          33.1,
          32.9,
          37.2,
          31.9,
          51.9,
          35.9,
          30.4,
          44.4,
          44.7,
          33.8,
          37.4,
          50.8,
          22.4,
          48.5,
          33.1,
          28.2,
          29.2,
          39.1,
          47.1,
          35.3,
          29.1,
          44.8,
          52.1,
          53.5,
          35.9,
          36.1,
          36.9,
          39.1,
          34.1,
          42.0,
          39.9,
          43.2,
          30.3,
          27.6,
          46.7,
          26.7,
          51.9,
          52.9,
          47.1,
          45.3,
          39.1,
          29.1,
          50.2,
          39.8,
          35.1,
          27.5,
          35.4,
          47.5,
          32.7,
          57.3,
          29.9,
          48.0,
          33.2,
          38.1,
          34.4,
          33.8,
          36.5,
          28.1,
          40.4,
          36.9,
          34.9,
          28.3,
          47.3,
          27.2,
          33.6,
          35.8,
          34.9,
          28.2,
          30.6,
          33.4,
          33.5,
          24.4,
          29.3,
          30.2,
          19.7,
          36.3,
          37.5,
          27.1,
          39.7,
          21.9,
          35.2,
          23.9,
          24.4,
          51.1,
          34.7,
          39.8,
          32.9,
          34.0,
          30.9,
          22.2,
          42.1,
          27.3,
          22.6,
          31.6,
          13.1,
          25.1,
          27.7,
          30.4,
          22.4,
          36.3,
          36.5,
          44.3,
          29.6,
          37.5,
          22.0,
          28.8,
          27.9,
          22.5,
          34.1,
          17.1,
          34.0,
          27.3,
          23.4,
          51.6,
          28.2,
          16.0,
          45.3,
          36.2,
          23.5,
          19.9,
          45.8,
          29.2,
          29.3,
          21.4,
          24.5,
          30.0,
          29.9,
          23.2,
          31.8,
          26.2,
          29.3,
          35.0,
          32.3,
          9.8,
          28.1,
          30.5,
          38.2,
          24.3,
          33.4,
          23.0,
          32.5,
          35.7,
          17.3,
          32.4,
          35.3,
          31.3,
          10.1,
          17.0,
          23.3,
          40.3,
          24.8,
          33.4,
          25.1,
          25.2,
          33.7,
          27.6,
          30.7,
          24.7,
          18.1,
          23.4,
          29.9,
          27.7,
          19.2,
          25.6,
          37.9,
          12.1,
          21.7,
          20.3,
          20.3,
          40.4,
          32.8,
          31.3,
          39.5,
          25.5,
          22.5,
          40.7,
          29.6,
          10.5,
          18.1,
          36.0,
          37.9,
          31.2,
          45.1,
          22.9,
          22.2,
          23.2,
          22.4,
          15.3,
          19.7,
          28.9,
          20.3,
          22.9,
          24.4,
          24.0,
          27.5,
          27.8,
          28.5,
          40.0,
          19.3,
          23.0,
          17.8,
          24.3,
          10.4,
          20.6,
          14.3,
          13.2,
          17.3,
          16.5,
          24.4,
          24.8,
          17.2,
          21.1,
          26.6,
          14.7,
          24.8,
          28.1,
          34.7,
          38.8,
          25.2,
          20.7,
          25.1,
          23.4,
          18.4,
          27.1,
          16.8,
          13.7,
          29.0,
          25.8,
          24.0,
          20.1,
          29.4,
          6.5,
          13.7,
          16.5,
          15.7,
          18.2,
          18.8,
          20.5,
          25.1,
          17.3,
          22.2,
          21.6,
          12.0,
          13.6,
          15.2,
          33.1,
          28.5,
          20.6,
          21.6,
          12.9,
          19.1,
          17.2,
          17.1,
          18.0,
          20.3,
          32.3,
          27.5,
          24.6,
          14.3,
          27.3,
          10.0,
          28.5,
          16.6,
          27.6,
          17.8,
          40.1,
          32.9,
          42.6,
          18.9,
          22.5,
          16.3,
          16.9,
          25.7,
          18.1,
          21.6,
          15.2,
          17.3,
          17.3,
          10.9,
          22.8,
          18.4,
          16.2,
          22.0,
          22.3,
          10.6,
          11.8,
          20.2,
          21.8,
          19.4,
          17.0,
          17.9,
          16.3,
          27.5,
          22.4,
          17.4,
          8.0
         ]
        }
       ],
       "layout": {
        "template": {
         "data": {
          "bar": [
           {
            "error_x": {
             "color": "#2a3f5f"
            },
            "error_y": {
             "color": "#2a3f5f"
            },
            "marker": {
             "line": {
              "color": "#E5ECF6",
              "width": 0.5
             },
             "pattern": {
              "fillmode": "overlay",
              "size": 10,
              "solidity": 0.2
             }
            },
            "type": "bar"
           }
          ],
          "barpolar": [
           {
            "marker": {
             "line": {
              "color": "#E5ECF6",
              "width": 0.5
             },
             "pattern": {
              "fillmode": "overlay",
              "size": 10,
              "solidity": 0.2
             }
            },
            "type": "barpolar"
           }
          ],
          "carpet": [
           {
            "aaxis": {
             "endlinecolor": "#2a3f5f",
             "gridcolor": "white",
             "linecolor": "white",
             "minorgridcolor": "white",
             "startlinecolor": "#2a3f5f"
            },
            "baxis": {
             "endlinecolor": "#2a3f5f",
             "gridcolor": "white",
             "linecolor": "white",
             "minorgridcolor": "white",
             "startlinecolor": "#2a3f5f"
            },
            "type": "carpet"
           }
          ],
          "choropleth": [
           {
            "colorbar": {
             "outlinewidth": 0,
             "ticks": ""
            },
            "type": "choropleth"
           }
          ],
          "contour": [
           {
            "colorbar": {
             "outlinewidth": 0,
             "ticks": ""
            },
            "colorscale": [
             [
              0.0,
              "#0d0887"
             ],
             [
              0.1111111111111111,
              "#46039f"
             ],
             [
              0.2222222222222222,
              "#7201a8"
             ],
             [
              0.3333333333333333,
              "#9c179e"
             ],
             [
              0.4444444444444444,
              "#bd3786"
             ],
             [
              0.5555555555555556,
              "#d8576b"
             ],
             [
              0.6666666666666666,
              "#ed7953"
             ],
             [
              0.7777777777777778,
              "#fb9f3a"
             ],
             [
              0.8888888888888888,
              "#fdca26"
             ],
             [
              1.0,
              "#f0f921"
             ]
            ],
            "type": "contour"
           }
          ],
          "contourcarpet": [
           {
            "colorbar": {
             "outlinewidth": 0,
             "ticks": ""
            },
            "type": "contourcarpet"
           }
          ],
          "heatmap": [
           {
            "colorbar": {
             "outlinewidth": 0,
             "ticks": ""
            },
            "colorscale": [
             [
              0.0,
              "#0d0887"
             ],
             [
              0.1111111111111111,
              "#46039f"
             ],
             [
              0.2222222222222222,
              "#7201a8"
             ],
             [
              0.3333333333333333,
              "#9c179e"
             ],
             [
              0.4444444444444444,
              "#bd3786"
             ],
             [
              0.5555555555555556,
              "#d8576b"
             ],
             [
              0.6666666666666666,
              "#ed7953"
             ],
             [
              0.7777777777777778,
              "#fb9f3a"
             ],
             [
              0.8888888888888888,
              "#fdca26"
             ],
             [
              1.0,
              "#f0f921"
             ]
            ],
            "type": "heatmap"
           }
          ],
          "heatmapgl": [
           {
            "colorbar": {
             "outlinewidth": 0,
             "ticks": ""
            },
            "colorscale": [
             [
              0.0,
              "#0d0887"
             ],
             [
              0.1111111111111111,
              "#46039f"
             ],
             [
              0.2222222222222222,
              "#7201a8"
             ],
             [
              0.3333333333333333,
              "#9c179e"
             ],
             [
              0.4444444444444444,
              "#bd3786"
             ],
             [
              0.5555555555555556,
              "#d8576b"
             ],
             [
              0.6666666666666666,
              "#ed7953"
             ],
             [
              0.7777777777777778,
              "#fb9f3a"
             ],
             [
              0.8888888888888888,
              "#fdca26"
             ],
             [
              1.0,
              "#f0f921"
             ]
            ],
            "type": "heatmapgl"
           }
          ],
          "histogram": [
           {
            "marker": {
             "pattern": {
              "fillmode": "overlay",
              "size": 10,
              "solidity": 0.2
             }
            },
            "type": "histogram"
           }
          ],
          "histogram2d": [
           {
            "colorbar": {
             "outlinewidth": 0,
             "ticks": ""
            },
            "colorscale": [
             [
              0.0,
              "#0d0887"
             ],
             [
              0.1111111111111111,
              "#46039f"
             ],
             [
              0.2222222222222222,
              "#7201a8"
             ],
             [
              0.3333333333333333,
              "#9c179e"
             ],
             [
              0.4444444444444444,
              "#bd3786"
             ],
             [
              0.5555555555555556,
              "#d8576b"
             ],
             [
              0.6666666666666666,
              "#ed7953"
             ],
             [
              0.7777777777777778,
              "#fb9f3a"
             ],
             [
              0.8888888888888888,
              "#fdca26"
             ],
             [
              1.0,
              "#f0f921"
             ]
            ],
            "type": "histogram2d"
           }
          ],
          "histogram2dcontour": [
           {
            "colorbar": {
             "outlinewidth": 0,
             "ticks": ""
            },
            "colorscale": [
             [
              0.0,
              "#0d0887"
             ],
             [
              0.1111111111111111,
              "#46039f"
             ],
             [
              0.2222222222222222,
              "#7201a8"
             ],
             [
              0.3333333333333333,
              "#9c179e"
             ],
             [
              0.4444444444444444,
              "#bd3786"
             ],
             [
              0.5555555555555556,
              "#d8576b"
             ],
             [
              0.6666666666666666,
              "#ed7953"
             ],
             [
              0.7777777777777778,
              "#fb9f3a"
             ],
             [
              0.8888888888888888,
              "#fdca26"
             ],
             [
              1.0,
              "#f0f921"
             ]
            ],
            "type": "histogram2dcontour"
           }
          ],
          "mesh3d": [
           {
            "colorbar": {
             "outlinewidth": 0,
             "ticks": ""
            },
            "type": "mesh3d"
           }
          ],
          "parcoords": [
           {
            "line": {
             "colorbar": {
              "outlinewidth": 0,
              "ticks": ""
             }
            },
            "type": "parcoords"
           }
          ],
          "pie": [
           {
            "automargin": true,
            "type": "pie"
           }
          ],
          "scatter": [
           {
            "fillpattern": {
             "fillmode": "overlay",
             "size": 10,
             "solidity": 0.2
            },
            "type": "scatter"
           }
          ],
          "scatter3d": [
           {
            "line": {
             "colorbar": {
              "outlinewidth": 0,
              "ticks": ""
             }
            },
            "marker": {
             "colorbar": {
              "outlinewidth": 0,
              "ticks": ""
             }
            },
            "type": "scatter3d"
           }
          ],
          "scattercarpet": [
           {
            "marker": {
             "colorbar": {
              "outlinewidth": 0,
              "ticks": ""
             }
            },
            "type": "scattercarpet"
           }
          ],
          "scattergeo": [
           {
            "marker": {
             "colorbar": {
              "outlinewidth": 0,
              "ticks": ""
             }
            },
            "type": "scattergeo"
           }
          ],
          "scattergl": [
           {
            "marker": {
             "colorbar": {
              "outlinewidth": 0,
              "ticks": ""
             }
            },
            "type": "scattergl"
           }
          ],
          "scattermapbox": [
           {
            "marker": {
             "colorbar": {
              "outlinewidth": 0,
              "ticks": ""
             }
            },
            "type": "scattermapbox"
           }
          ],
          "scatterpolar": [
           {
            "marker": {
             "colorbar": {
              "outlinewidth": 0,
              "ticks": ""
             }
            },
            "type": "scatterpolar"
           }
          ],
          "scatterpolargl": [
           {
            "marker": {
             "colorbar": {
              "outlinewidth": 0,
              "ticks": ""
             }
            },
            "type": "scatterpolargl"
           }
          ],
          "scatterternary": [
           {
            "marker": {
             "colorbar": {
              "outlinewidth": 0,
              "ticks": ""
             }
            },
            "type": "scatterternary"
           }
          ],
          "surface": [
           {
            "colorbar": {
             "outlinewidth": 0,
             "ticks": ""
            },
            "colorscale": [
             [
              0.0,
              "#0d0887"
             ],
             [
              0.1111111111111111,
              "#46039f"
             ],
             [
              0.2222222222222222,
              "#7201a8"
             ],
             [
              0.3333333333333333,
              "#9c179e"
             ],
             [
              0.4444444444444444,
              "#bd3786"
             ],
             [
              0.5555555555555556,
              "#d8576b"
             ],
             [
              0.6666666666666666,
              "#ed7953"
             ],
             [
              0.7777777777777778,
              "#fb9f3a"
             ],
             [
              0.8888888888888888,
              "#fdca26"
             ],
             [
              1.0,
              "#f0f921"
             ]
            ],
            "type": "surface"
           }
          ],
          "table": [
           {
            "cells": {
             "fill": {
              "color": "#EBF0F8"
             },
             "line": {
              "color": "white"
             }
            },
            "header": {
             "fill": {
              "color": "#C8D4E3"
             },
             "line": {
              "color": "white"
             }
            },
            "type": "table"
           }
          ]
         },
         "layout": {
          "annotationdefaults": {
           "arrowcolor": "#2a3f5f",
           "arrowhead": 0,
           "arrowwidth": 1
          },
          "autotypenumbers": "strict",
          "coloraxis": {
           "colorbar": {
            "outlinewidth": 0,
            "ticks": ""
           }
          },
          "colorscale": {
           "diverging": [
            [
             0,
             "#8e0152"
            ],
            [
             0.1,
             "#c51b7d"
            ],
            [
             0.2,
             "#de77ae"
            ],
            [
             0.3,
             "#f1b6da"
            ],
            [
             0.4,
             "#fde0ef"
            ],
            [
             0.5,
             "#f7f7f7"
            ],
            [
             0.6,
             "#e6f5d0"
            ],
            [
             0.7,
             "#b8e186"
            ],
            [
             0.8,
             "#7fbc41"
            ],
            [
             0.9,
             "#4d9221"
            ],
            [
             1,
             "#276419"
            ]
           ],
           "sequential": [
            [
             0.0,
             "#0d0887"
            ],
            [
             0.1111111111111111,
             "#46039f"
            ],
            [
             0.2222222222222222,
             "#7201a8"
            ],
            [
             0.3333333333333333,
             "#9c179e"
            ],
            [
             0.4444444444444444,
             "#bd3786"
            ],
            [
             0.5555555555555556,
             "#d8576b"
            ],
            [
             0.6666666666666666,
             "#ed7953"
            ],
            [
             0.7777777777777778,
             "#fb9f3a"
            ],
            [
             0.8888888888888888,
             "#fdca26"
            ],
            [
             1.0,
             "#f0f921"
            ]
           ],
           "sequentialminus": [
            [
             0.0,
             "#0d0887"
            ],
            [
             0.1111111111111111,
             "#46039f"
            ],
            [
             0.2222222222222222,
             "#7201a8"
            ],
            [
             0.3333333333333333,
             "#9c179e"
            ],
            [
             0.4444444444444444,
             "#bd3786"
            ],
            [
             0.5555555555555556,
             "#d8576b"
            ],
            [
             0.6666666666666666,
             "#ed7953"
            ],
            [
             0.7777777777777778,
             "#fb9f3a"
            ],
            [
             0.8888888888888888,
             "#fdca26"
            ],
            [
             1.0,
             "#f0f921"
            ]
           ]
          },
          "colorway": [
           "#636efa",
           "#EF553B",
           "#00cc96",
           "#ab63fa",
           "#FFA15A",
           "#19d3f3",
           "#FF6692",
           "#B6E880",
           "#FF97FF",
           "#FECB52"
          ],
          "font": {
           "color": "#2a3f5f"
          },
          "geo": {
           "bgcolor": "white",
           "lakecolor": "white",
           "landcolor": "#E5ECF6",
           "showlakes": true,
           "showland": true,
           "subunitcolor": "white"
          },
          "hoverlabel": {
           "align": "left"
          },
          "hovermode": "closest",
          "mapbox": {
           "style": "light"
          },
          "paper_bgcolor": "white",
          "plot_bgcolor": "#E5ECF6",
          "polar": {
           "angularaxis": {
            "gridcolor": "white",
            "linecolor": "white",
            "ticks": ""
           },
           "bgcolor": "#E5ECF6",
           "radialaxis": {
            "gridcolor": "white",
            "linecolor": "white",
            "ticks": ""
           }
          },
          "scene": {
           "xaxis": {
            "backgroundcolor": "#E5ECF6",
            "gridcolor": "white",
            "gridwidth": 2,
            "linecolor": "white",
            "showbackground": true,
            "ticks": "",
            "zerolinecolor": "white"
           },
           "yaxis": {
            "backgroundcolor": "#E5ECF6",
            "gridcolor": "white",
            "gridwidth": 2,
            "linecolor": "white",
            "showbackground": true,
            "ticks": "",
            "zerolinecolor": "white"
           },
           "zaxis": {
            "backgroundcolor": "#E5ECF6",
            "gridcolor": "white",
            "gridwidth": 2,
            "linecolor": "white",
            "showbackground": true,
            "ticks": "",
            "zerolinecolor": "white"
           }
          },
          "shapedefaults": {
           "line": {
            "color": "#2a3f5f"
           }
          },
          "ternary": {
           "aaxis": {
            "gridcolor": "white",
            "linecolor": "white",
            "ticks": ""
           },
           "baxis": {
            "gridcolor": "white",
            "linecolor": "white",
            "ticks": ""
           },
           "bgcolor": "#E5ECF6",
           "caxis": {
            "gridcolor": "white",
            "linecolor": "white",
            "ticks": ""
           }
          },
          "title": {
           "x": 0.05
          },
          "xaxis": {
           "automargin": true,
           "gridcolor": "white",
           "linecolor": "white",
           "ticks": "",
           "title": {
            "standoff": 15
           },
           "zerolinecolor": "white",
           "zerolinewidth": 2
          },
          "yaxis": {
           "automargin": true,
           "gridcolor": "white",
           "linecolor": "white",
           "ticks": "",
           "title": {
            "standoff": 15
           },
           "zerolinecolor": "white",
           "zerolinewidth": 2
          }
         }
        }
       }
      },
      "text/html": [
       "<div>                            <div id=\"94133889-a796-4674-a005-d4d4aa71f01a\" class=\"plotly-graph-div\" style=\"height:525px; width:100%;\"></div>            <script type=\"text/javascript\">                require([\"plotly\"], function(Plotly) {                    window.PLOTLYENV=window.PLOTLYENV || {};                                    if (document.getElementById(\"94133889-a796-4674-a005-d4d4aa71f01a\")) {                    Plotly.newPlot(                        \"94133889-a796-4674-a005-d4d4aa71f01a\",                        [{\"marker\":{\"color\":\"rgb(12,12,140)\"},\"name\":\"total score of universities in 2015\",\"y\":[\"94.3\",\"93.3\",\"93.2\",\"92.9\",\"92.0\",\"91.9\",\"90.9\",\"89.5\",\"87.5\",\"87.5\",\"87.1\",\"85.5\",\"84.6\",\"84.4\",\"83.0\",\"81.0\",\"80.9\",\"79.9\",\"79.4\",\"79.3\",\"79.2\",\"78.7\",\"76.1\",\"74.3\",\"73.3\",\"73.2\",\"72.8\",\"72.3\",\"71.9\",\"71.9\",\"71.9\",\"71.8\",\"71.2\",\"70.9\",\"70.9\",\"70.4\",\"70.0\",\"69.9\",\"69.6\",\"69.4\",\"68.6\",\"67.8\",\"67.5\",\"66.8\",\"66.5\",\"65.9\",\"65.9\",\"65.2\",\"65.1\",\"64.8\",\"64.7\",\"64.5\",\"64.5\",\"64.1\",\"63.7\",\"63.7\",\"63.6\",\"62.9\",\"62.8\",\"62.7\",\"62.2\",\"62.2\",\"61.9\",\"61.3\",\"61.2\",\"61.1\",\"61.0\",\"60.7\",\"59.8\",\"59.6\",\"59.2\",\"59.1\",\"59.0\",\"58.9\",\"58.4\",\"58.4\",\"58.2\",\"58.1\",\"58.0\",\"57.9\",\"57.6\",\"57.3\",\"56.9\",\"56.9\",\"56.6\",\"56.5\",\"56.5\",\"56.4\",\"56.4\",\"56.2\",\"56.1\",\"56.1\",\"55.5\",\"55.3\",\"55.3\",\"55.2\",\"55.1\",\"54.6\",\"54.6\",\"54.6\",\"54.3\",\"54.0\",\"53.9\",\"53.9\",\"53.9\",\"53.9\",\"53.8\",\"53.8\",\"53.7\",\"53.7\",\"53.6\",\"53.6\",\"53.4\",\"53.4\",\"53.4\",\"53.2\",\"53.1\",\"53.0\",\"52.9\",\"52.8\",\"52.7\",\"52.7\",\"52.7\",\"52.6\",\"52.6\",\"52.5\",\"52.5\",\"52.5\",\"52.4\",\"52.1\",\"52.0\",\"51.9\",\"51.9\",\"51.9\",\"51.6\",\"51.4\",\"51.4\",\"51.2\",\"51.1\",\"51.0\",\"50.9\",\"50.9\",\"50.9\",\"50.5\",\"50.5\",\"50.4\",\"50.3\",\"50.2\",\"50.2\",\"50.1\",\"50.1\",\"50.0\",\"49.9\",\"49.7\",\"49.3\",\"49.2\",\"49.1\",\"49.1\",\"49.1\",\"49.0\",\"49.0\",\"48.6\",\"48.3\",\"48.2\",\"48.1\",\"48.1\",\"48.1\",\"48.1\",\"48.0\",\"47.9\",\"47.8\",\"47.8\",\"47.7\",\"47.7\",\"47.5\",\"47.5\",\"47.3\",\"47.1\",\"47.1\",\"47.0\",\"47.0\",\"46.9\",\"46.9\",\"46.9\",\"46.8\",\"46.7\",\"46.7\",\"46.6\",\"46.6\",\"46.6\",\"46.5\",\"46.3\",\"46.2\",\"46.2\",\"46.1\",\"46.0\",\"46.0\",\"45.9\",\"45.7\",\"45.6\",\"45.6\",\"-\",\"-\",\"-\",\"-\",\"-\",\"-\",\"-\",\"-\",\"-\",\"-\",\"-\",\"-\",\"-\",\"-\",\"-\",\"-\",\"-\",\"-\",\"-\",\"-\",\"-\",\"-\",\"-\",\"-\",\"-\",\"-\",\"-\",\"-\",\"-\",\"-\",\"-\",\"-\",\"-\",\"-\",\"-\",\"-\",\"-\",\"-\",\"-\",\"-\",\"-\",\"-\",\"-\",\"-\",\"-\",\"-\",\"-\",\"-\",\"-\",\"-\",\"-\",\"-\",\"-\",\"-\",\"-\",\"-\",\"-\",\"-\",\"-\",\"-\",\"-\",\"-\",\"-\",\"-\",\"-\",\"-\",\"-\",\"-\",\"-\",\"-\",\"-\",\"-\",\"-\",\"-\",\"-\",\"-\",\"-\",\"-\",\"-\",\"-\",\"-\",\"-\",\"-\",\"-\",\"-\",\"-\",\"-\",\"-\",\"-\",\"-\",\"-\",\"-\",\"-\",\"-\",\"-\",\"-\",\"-\",\"-\",\"-\",\"-\",\"-\",\"-\",\"-\",\"-\",\"-\",\"-\",\"-\",\"-\",\"-\",\"-\",\"-\",\"-\",\"-\",\"-\",\"-\",\"-\",\"-\",\"-\",\"-\",\"-\",\"-\",\"-\",\"-\",\"-\",\"-\",\"-\",\"-\",\"-\",\"-\",\"-\",\"-\",\"-\",\"-\",\"-\",\"-\",\"-\",\"-\",\"-\",\"-\",\"-\",\"-\",\"-\",\"-\",\"-\",\"-\",\"-\",\"-\",\"-\",\"-\",\"-\",\"-\",\"-\",\"-\",\"-\",\"-\",\"-\",\"-\",\"-\",\"-\",\"-\",\"-\",\"-\",\"-\",\"-\",\"-\",\"-\",\"-\",\"-\",\"-\",\"-\",\"-\",\"-\",\"-\",\"-\",\"-\",\"-\",\"-\",\"-\",\"-\",\"-\",\"-\",\"-\",\"-\",\"-\",\"-\",\"-\",\"-\",\"-\",\"-\",\"-\",\"-\",\"-\",\"-\",\"-\",\"-\",\"-\",\"-\",\"-\",\"-\",\"-\"],\"type\":\"box\"},{\"marker\":{\"color\":\"rgb(12,128,128)\"},\"name\":\"research of universities in 2015\",\"y\":[98.1,98.6,97.7,96.7,95.6,88.2,94.7,96.7,88.3,90.8,89.9,90.5,90.2,79.4,84.2,82.0,86.5,75.2,83.8,85.1,78.9,80.4,85.1,74.9,78.1,68.9,71.2,72.0,69.1,79.0,71.3,69.0,70.9,74.2,56.9,62.9,61.4,62.4,69.9,62.3,66.6,55.2,72.6,68.0,70.9,64.7,58.6,61.9,68.3,77.1,66.8,63.2,58.7,54.2,63.6,59.7,46.7,64.8,68.4,60.8,55.9,47.1,46.0,58.2,58.4,49.3,48.0,51.1,37.1,45.4,71.4,53.7,46.8,44.7,41.1,44.6,55.4,36.2,54.8,52.6,58.0,49.4,40.7,54.4,36.9,51.4,38.5,33.9,41.7,51.6,49.1,46.3,32.4,43.2,40.5,38.2,38.3,45.0,37.4,53.0,48.1,50.5,30.0,48.1,45.8,33.1,32.9,37.2,31.9,51.9,35.9,30.4,44.4,44.7,33.8,37.4,50.8,22.4,48.5,33.1,28.2,29.2,39.1,47.1,35.3,29.1,44.8,52.1,53.5,35.9,36.1,36.9,39.1,34.1,42.0,39.9,43.2,30.3,27.6,46.7,26.7,51.9,52.9,47.1,45.3,39.1,29.1,50.2,39.8,35.1,27.5,35.4,47.5,32.7,57.3,29.9,48.0,33.2,38.1,34.4,33.8,36.5,28.1,40.4,36.9,34.9,28.3,47.3,27.2,33.6,35.8,34.9,28.2,30.6,33.4,33.5,24.4,29.3,30.2,19.7,36.3,37.5,27.1,39.7,21.9,35.2,23.9,24.4,51.1,34.7,39.8,32.9,34.0,30.9,22.2,42.1,27.3,22.6,31.6,13.1,25.1,27.7,30.4,22.4,36.3,36.5,44.3,29.6,37.5,22.0,28.8,27.9,22.5,34.1,17.1,34.0,27.3,23.4,51.6,28.2,16.0,45.3,36.2,23.5,19.9,45.8,29.2,29.3,21.4,24.5,30.0,29.9,23.2,31.8,26.2,29.3,35.0,32.3,9.8,28.1,30.5,38.2,24.3,33.4,23.0,32.5,35.7,17.3,32.4,35.3,31.3,10.1,17.0,23.3,40.3,24.8,33.4,25.1,25.2,33.7,27.6,30.7,24.7,18.1,23.4,29.9,27.7,19.2,25.6,37.9,12.1,21.7,20.3,20.3,40.4,32.8,31.3,39.5,25.5,22.5,40.7,29.6,10.5,18.1,36.0,37.9,31.2,45.1,22.9,22.2,23.2,22.4,15.3,19.7,28.9,20.3,22.9,24.4,24.0,27.5,27.8,28.5,40.0,19.3,23.0,17.8,24.3,10.4,20.6,14.3,13.2,17.3,16.5,24.4,24.8,17.2,21.1,26.6,14.7,24.8,28.1,34.7,38.8,25.2,20.7,25.1,23.4,18.4,27.1,16.8,13.7,29.0,25.8,24.0,20.1,29.4,6.5,13.7,16.5,15.7,18.2,18.8,20.5,25.1,17.3,22.2,21.6,12.0,13.6,15.2,33.1,28.5,20.6,21.6,12.9,19.1,17.2,17.1,18.0,20.3,32.3,27.5,24.6,14.3,27.3,10.0,28.5,16.6,27.6,17.8,40.1,32.9,42.6,18.9,22.5,16.3,16.9,25.7,18.1,21.6,15.2,17.3,17.3,10.9,22.8,18.4,16.2,22.0,22.3,10.6,11.8,20.2,21.8,19.4,17.0,17.9,16.3,27.5,22.4,17.4,8.0],\"type\":\"box\"}],                        {\"template\":{\"data\":{\"barpolar\":[{\"marker\":{\"line\":{\"color\":\"#E5ECF6\",\"width\":0.5},\"pattern\":{\"fillmode\":\"overlay\",\"size\":10,\"solidity\":0.2}},\"type\":\"barpolar\"}],\"bar\":[{\"error_x\":{\"color\":\"#2a3f5f\"},\"error_y\":{\"color\":\"#2a3f5f\"},\"marker\":{\"line\":{\"color\":\"#E5ECF6\",\"width\":0.5},\"pattern\":{\"fillmode\":\"overlay\",\"size\":10,\"solidity\":0.2}},\"type\":\"bar\"}],\"carpet\":[{\"aaxis\":{\"endlinecolor\":\"#2a3f5f\",\"gridcolor\":\"white\",\"linecolor\":\"white\",\"minorgridcolor\":\"white\",\"startlinecolor\":\"#2a3f5f\"},\"baxis\":{\"endlinecolor\":\"#2a3f5f\",\"gridcolor\":\"white\",\"linecolor\":\"white\",\"minorgridcolor\":\"white\",\"startlinecolor\":\"#2a3f5f\"},\"type\":\"carpet\"}],\"choropleth\":[{\"colorbar\":{\"outlinewidth\":0,\"ticks\":\"\"},\"type\":\"choropleth\"}],\"contourcarpet\":[{\"colorbar\":{\"outlinewidth\":0,\"ticks\":\"\"},\"type\":\"contourcarpet\"}],\"contour\":[{\"colorbar\":{\"outlinewidth\":0,\"ticks\":\"\"},\"colorscale\":[[0.0,\"#0d0887\"],[0.1111111111111111,\"#46039f\"],[0.2222222222222222,\"#7201a8\"],[0.3333333333333333,\"#9c179e\"],[0.4444444444444444,\"#bd3786\"],[0.5555555555555556,\"#d8576b\"],[0.6666666666666666,\"#ed7953\"],[0.7777777777777778,\"#fb9f3a\"],[0.8888888888888888,\"#fdca26\"],[1.0,\"#f0f921\"]],\"type\":\"contour\"}],\"heatmapgl\":[{\"colorbar\":{\"outlinewidth\":0,\"ticks\":\"\"},\"colorscale\":[[0.0,\"#0d0887\"],[0.1111111111111111,\"#46039f\"],[0.2222222222222222,\"#7201a8\"],[0.3333333333333333,\"#9c179e\"],[0.4444444444444444,\"#bd3786\"],[0.5555555555555556,\"#d8576b\"],[0.6666666666666666,\"#ed7953\"],[0.7777777777777778,\"#fb9f3a\"],[0.8888888888888888,\"#fdca26\"],[1.0,\"#f0f921\"]],\"type\":\"heatmapgl\"}],\"heatmap\":[{\"colorbar\":{\"outlinewidth\":0,\"ticks\":\"\"},\"colorscale\":[[0.0,\"#0d0887\"],[0.1111111111111111,\"#46039f\"],[0.2222222222222222,\"#7201a8\"],[0.3333333333333333,\"#9c179e\"],[0.4444444444444444,\"#bd3786\"],[0.5555555555555556,\"#d8576b\"],[0.6666666666666666,\"#ed7953\"],[0.7777777777777778,\"#fb9f3a\"],[0.8888888888888888,\"#fdca26\"],[1.0,\"#f0f921\"]],\"type\":\"heatmap\"}],\"histogram2dcontour\":[{\"colorbar\":{\"outlinewidth\":0,\"ticks\":\"\"},\"colorscale\":[[0.0,\"#0d0887\"],[0.1111111111111111,\"#46039f\"],[0.2222222222222222,\"#7201a8\"],[0.3333333333333333,\"#9c179e\"],[0.4444444444444444,\"#bd3786\"],[0.5555555555555556,\"#d8576b\"],[0.6666666666666666,\"#ed7953\"],[0.7777777777777778,\"#fb9f3a\"],[0.8888888888888888,\"#fdca26\"],[1.0,\"#f0f921\"]],\"type\":\"histogram2dcontour\"}],\"histogram2d\":[{\"colorbar\":{\"outlinewidth\":0,\"ticks\":\"\"},\"colorscale\":[[0.0,\"#0d0887\"],[0.1111111111111111,\"#46039f\"],[0.2222222222222222,\"#7201a8\"],[0.3333333333333333,\"#9c179e\"],[0.4444444444444444,\"#bd3786\"],[0.5555555555555556,\"#d8576b\"],[0.6666666666666666,\"#ed7953\"],[0.7777777777777778,\"#fb9f3a\"],[0.8888888888888888,\"#fdca26\"],[1.0,\"#f0f921\"]],\"type\":\"histogram2d\"}],\"histogram\":[{\"marker\":{\"pattern\":{\"fillmode\":\"overlay\",\"size\":10,\"solidity\":0.2}},\"type\":\"histogram\"}],\"mesh3d\":[{\"colorbar\":{\"outlinewidth\":0,\"ticks\":\"\"},\"type\":\"mesh3d\"}],\"parcoords\":[{\"line\":{\"colorbar\":{\"outlinewidth\":0,\"ticks\":\"\"}},\"type\":\"parcoords\"}],\"pie\":[{\"automargin\":true,\"type\":\"pie\"}],\"scatter3d\":[{\"line\":{\"colorbar\":{\"outlinewidth\":0,\"ticks\":\"\"}},\"marker\":{\"colorbar\":{\"outlinewidth\":0,\"ticks\":\"\"}},\"type\":\"scatter3d\"}],\"scattercarpet\":[{\"marker\":{\"colorbar\":{\"outlinewidth\":0,\"ticks\":\"\"}},\"type\":\"scattercarpet\"}],\"scattergeo\":[{\"marker\":{\"colorbar\":{\"outlinewidth\":0,\"ticks\":\"\"}},\"type\":\"scattergeo\"}],\"scattergl\":[{\"marker\":{\"colorbar\":{\"outlinewidth\":0,\"ticks\":\"\"}},\"type\":\"scattergl\"}],\"scattermapbox\":[{\"marker\":{\"colorbar\":{\"outlinewidth\":0,\"ticks\":\"\"}},\"type\":\"scattermapbox\"}],\"scatterpolargl\":[{\"marker\":{\"colorbar\":{\"outlinewidth\":0,\"ticks\":\"\"}},\"type\":\"scatterpolargl\"}],\"scatterpolar\":[{\"marker\":{\"colorbar\":{\"outlinewidth\":0,\"ticks\":\"\"}},\"type\":\"scatterpolar\"}],\"scatter\":[{\"fillpattern\":{\"fillmode\":\"overlay\",\"size\":10,\"solidity\":0.2},\"type\":\"scatter\"}],\"scatterternary\":[{\"marker\":{\"colorbar\":{\"outlinewidth\":0,\"ticks\":\"\"}},\"type\":\"scatterternary\"}],\"surface\":[{\"colorbar\":{\"outlinewidth\":0,\"ticks\":\"\"},\"colorscale\":[[0.0,\"#0d0887\"],[0.1111111111111111,\"#46039f\"],[0.2222222222222222,\"#7201a8\"],[0.3333333333333333,\"#9c179e\"],[0.4444444444444444,\"#bd3786\"],[0.5555555555555556,\"#d8576b\"],[0.6666666666666666,\"#ed7953\"],[0.7777777777777778,\"#fb9f3a\"],[0.8888888888888888,\"#fdca26\"],[1.0,\"#f0f921\"]],\"type\":\"surface\"}],\"table\":[{\"cells\":{\"fill\":{\"color\":\"#EBF0F8\"},\"line\":{\"color\":\"white\"}},\"header\":{\"fill\":{\"color\":\"#C8D4E3\"},\"line\":{\"color\":\"white\"}},\"type\":\"table\"}]},\"layout\":{\"annotationdefaults\":{\"arrowcolor\":\"#2a3f5f\",\"arrowhead\":0,\"arrowwidth\":1},\"autotypenumbers\":\"strict\",\"coloraxis\":{\"colorbar\":{\"outlinewidth\":0,\"ticks\":\"\"}},\"colorscale\":{\"diverging\":[[0,\"#8e0152\"],[0.1,\"#c51b7d\"],[0.2,\"#de77ae\"],[0.3,\"#f1b6da\"],[0.4,\"#fde0ef\"],[0.5,\"#f7f7f7\"],[0.6,\"#e6f5d0\"],[0.7,\"#b8e186\"],[0.8,\"#7fbc41\"],[0.9,\"#4d9221\"],[1,\"#276419\"]],\"sequential\":[[0.0,\"#0d0887\"],[0.1111111111111111,\"#46039f\"],[0.2222222222222222,\"#7201a8\"],[0.3333333333333333,\"#9c179e\"],[0.4444444444444444,\"#bd3786\"],[0.5555555555555556,\"#d8576b\"],[0.6666666666666666,\"#ed7953\"],[0.7777777777777778,\"#fb9f3a\"],[0.8888888888888888,\"#fdca26\"],[1.0,\"#f0f921\"]],\"sequentialminus\":[[0.0,\"#0d0887\"],[0.1111111111111111,\"#46039f\"],[0.2222222222222222,\"#7201a8\"],[0.3333333333333333,\"#9c179e\"],[0.4444444444444444,\"#bd3786\"],[0.5555555555555556,\"#d8576b\"],[0.6666666666666666,\"#ed7953\"],[0.7777777777777778,\"#fb9f3a\"],[0.8888888888888888,\"#fdca26\"],[1.0,\"#f0f921\"]]},\"colorway\":[\"#636efa\",\"#EF553B\",\"#00cc96\",\"#ab63fa\",\"#FFA15A\",\"#19d3f3\",\"#FF6692\",\"#B6E880\",\"#FF97FF\",\"#FECB52\"],\"font\":{\"color\":\"#2a3f5f\"},\"geo\":{\"bgcolor\":\"white\",\"lakecolor\":\"white\",\"landcolor\":\"#E5ECF6\",\"showlakes\":true,\"showland\":true,\"subunitcolor\":\"white\"},\"hoverlabel\":{\"align\":\"left\"},\"hovermode\":\"closest\",\"mapbox\":{\"style\":\"light\"},\"paper_bgcolor\":\"white\",\"plot_bgcolor\":\"#E5ECF6\",\"polar\":{\"angularaxis\":{\"gridcolor\":\"white\",\"linecolor\":\"white\",\"ticks\":\"\"},\"bgcolor\":\"#E5ECF6\",\"radialaxis\":{\"gridcolor\":\"white\",\"linecolor\":\"white\",\"ticks\":\"\"}},\"scene\":{\"xaxis\":{\"backgroundcolor\":\"#E5ECF6\",\"gridcolor\":\"white\",\"gridwidth\":2,\"linecolor\":\"white\",\"showbackground\":true,\"ticks\":\"\",\"zerolinecolor\":\"white\"},\"yaxis\":{\"backgroundcolor\":\"#E5ECF6\",\"gridcolor\":\"white\",\"gridwidth\":2,\"linecolor\":\"white\",\"showbackground\":true,\"ticks\":\"\",\"zerolinecolor\":\"white\"},\"zaxis\":{\"backgroundcolor\":\"#E5ECF6\",\"gridcolor\":\"white\",\"gridwidth\":2,\"linecolor\":\"white\",\"showbackground\":true,\"ticks\":\"\",\"zerolinecolor\":\"white\"}},\"shapedefaults\":{\"line\":{\"color\":\"#2a3f5f\"}},\"ternary\":{\"aaxis\":{\"gridcolor\":\"white\",\"linecolor\":\"white\",\"ticks\":\"\"},\"baxis\":{\"gridcolor\":\"white\",\"linecolor\":\"white\",\"ticks\":\"\"},\"bgcolor\":\"#E5ECF6\",\"caxis\":{\"gridcolor\":\"white\",\"linecolor\":\"white\",\"ticks\":\"\"}},\"title\":{\"x\":0.05},\"xaxis\":{\"automargin\":true,\"gridcolor\":\"white\",\"linecolor\":\"white\",\"ticks\":\"\",\"title\":{\"standoff\":15},\"zerolinecolor\":\"white\",\"zerolinewidth\":2},\"yaxis\":{\"automargin\":true,\"gridcolor\":\"white\",\"linecolor\":\"white\",\"ticks\":\"\",\"title\":{\"standoff\":15},\"zerolinecolor\":\"white\",\"zerolinewidth\":2}}}},                        {\"responsive\": true}                    ).then(function(){\n",
       "                            \n",
       "var gd = document.getElementById('94133889-a796-4674-a005-d4d4aa71f01a');\n",
       "var x = new MutationObserver(function (mutations, observer) {{\n",
       "        var display = window.getComputedStyle(gd).display;\n",
       "        if (!display || display === 'none') {{\n",
       "            console.log([gd, 'removed!']);\n",
       "            Plotly.purge(gd);\n",
       "            observer.disconnect();\n",
       "        }}\n",
       "}});\n",
       "\n",
       "// Listen for the removal of the full notebook cells\n",
       "var notebookContainer = gd.closest('#notebook-container');\n",
       "if (notebookContainer) {{\n",
       "    x.observe(notebookContainer, {childList: true});\n",
       "}}\n",
       "\n",
       "// Listen for the clearing of the current output cell\n",
       "var outputEl = gd.closest('.output');\n",
       "if (outputEl) {{\n",
       "    x.observe(outputEl, {childList: true});\n",
       "}}\n",
       "\n",
       "                        })                };                });            </script>        </div>"
      ]
     },
     "metadata": {},
     "output_type": "display_data"
    }
   ],
   "source": [
    "x2015=timesData[timesData.year==2015]\n",
    "\n",
    "trace0= go.Box(\n",
    "    y= x2015.total_score,\n",
    "    name= 'total score of universities in 2015',\n",
    "    marker= dict(\n",
    "        color='rgb(12,12,140)',))\n",
    "\n",
    "trace1=go.Box(\n",
    "    y= x2015.research,\n",
    "    name= 'research of universities in 2015',\n",
    "    marker= dict(\n",
    "        color='rgb(12,128,128)',))\n",
    "\n",
    "data=[trace0, trace1]\n",
    "iplot(data)"
   ]
  },
  {
   "cell_type": "markdown",
   "id": "e07c2988",
   "metadata": {
    "papermill": {
     "duration": 0.059139,
     "end_time": "2022-08-02T12:20:54.658575",
     "exception": false,
     "start_time": "2022-08-02T12:20:54.599436",
     "status": "completed"
    },
    "tags": []
   },
   "source": [
    "eğer birden fazla column alınıp karşılaştırma yapılmak isteniyorsa df'yi alırken bütün df'yi alıyoruz ve daha sonra trace'ler içerisinde karşılatırmak istediğimiz column'ları y ekseninde alacağız."
   ]
  },
  {
   "cell_type": "markdown",
   "id": "9b6a95b6",
   "metadata": {
    "papermill": {
     "duration": 0.058639,
     "end_time": "2022-08-02T12:20:54.776404",
     "exception": false,
     "start_time": "2022-08-02T12:20:54.717765",
     "status": "completed"
    },
    "tags": []
   },
   "source": [
    "## Scatter Matrix Plots"
   ]
  },
  {
   "cell_type": "code",
   "execution_count": 16,
   "id": "b1311a09",
   "metadata": {
    "execution": {
     "iopub.execute_input": "2022-08-02T12:20:54.897690Z",
     "iopub.status.busy": "2022-08-02T12:20:54.897277Z",
     "iopub.status.idle": "2022-08-02T12:20:58.977281Z",
     "shell.execute_reply": "2022-08-02T12:20:58.976021Z"
    },
    "papermill": {
     "duration": 4.149994,
     "end_time": "2022-08-02T12:20:58.986894",
     "exception": false,
     "start_time": "2022-08-02T12:20:54.836900",
     "status": "completed"
    },
    "tags": []
   },
   "outputs": [
    {
     "name": "stderr",
     "output_type": "stream",
     "text": [
      "/opt/conda/lib/python3.7/site-packages/geopandas/_compat.py:115: UserWarning:\n",
      "\n",
      "The Shapely GEOS version (3.9.1-CAPI-1.14.2) is incompatible with the GEOS version PyGEOS was compiled with (3.10.1-CAPI-1.16.0). Conversions between both will be slow.\n",
      "\n"
     ]
    },
    {
     "data": {
      "application/vnd.plotly.v1+json": {
       "config": {
        "linkText": "Export to plot.ly",
        "plotlyServerURL": "https://plot.ly",
        "showLink": false
       },
       "data": [
        {
         "marker": {
          "color": "rgb(12, 51, 131)"
         },
         "showlegend": false,
         "type": "box",
         "xaxis": "x",
         "y": [
          98.1,
          98.6,
          97.7,
          96.7,
          95.6,
          88.2,
          94.7,
          96.7,
          88.3,
          90.8,
          89.9,
          90.5,
          90.2,
          79.4,
          84.2,
          82.0,
          86.5,
          75.2,
          83.8,
          85.1,
          78.9,
          80.4,
          85.1,
          74.9,
          78.1,
          68.9,
          71.2,
          72.0,
          69.1,
          79.0,
          71.3,
          69.0,
          70.9,
          74.2,
          56.9,
          62.9,
          61.4,
          62.4,
          69.9,
          62.3,
          66.6,
          55.2,
          72.6,
          68.0,
          70.9,
          64.7,
          58.6,
          61.9,
          68.3,
          77.1,
          66.8,
          63.2,
          58.7,
          54.2,
          63.6,
          59.7,
          46.7,
          64.8,
          68.4,
          60.8,
          55.9,
          47.1,
          46.0,
          58.2,
          58.4,
          49.3,
          48.0,
          51.1,
          37.1,
          45.4,
          71.4,
          53.7,
          46.8,
          44.7,
          41.1,
          44.6,
          55.4,
          36.2,
          54.8,
          52.6,
          58.0,
          49.4,
          40.7,
          54.4,
          36.9,
          51.4,
          38.5,
          33.9,
          41.7,
          51.6,
          49.1,
          46.3,
          32.4,
          43.2,
          40.5,
          38.2,
          38.3,
          45.0,
          37.4,
          53.0,
          48.1,
          50.5,
          30.0,
          48.1,
          45.8,
          33.1,
          32.9,
          37.2,
          31.9,
          51.9,
          35.9,
          30.4,
          44.4,
          44.7,
          33.8,
          37.4,
          50.8,
          22.4,
          48.5,
          33.1,
          28.2,
          29.2,
          39.1,
          47.1,
          35.3,
          29.1,
          44.8,
          52.1,
          53.5,
          35.9,
          36.1,
          36.9,
          39.1,
          34.1,
          42.0,
          39.9,
          43.2,
          30.3,
          27.6,
          46.7,
          26.7,
          51.9,
          52.9,
          47.1,
          45.3,
          39.1,
          29.1,
          50.2,
          39.8,
          35.1,
          27.5,
          35.4,
          47.5,
          32.7,
          57.3,
          29.9,
          48.0,
          33.2,
          38.1,
          34.4,
          33.8,
          36.5,
          28.1,
          40.4,
          36.9,
          34.9,
          28.3,
          47.3,
          27.2,
          33.6,
          35.8,
          34.9,
          28.2,
          30.6,
          33.4,
          33.5,
          24.4,
          29.3,
          30.2,
          19.7,
          36.3,
          37.5,
          27.1,
          39.7,
          21.9,
          35.2,
          23.9,
          24.4,
          51.1,
          34.7,
          39.8,
          32.9,
          34.0,
          30.9,
          22.2,
          42.1,
          27.3,
          22.6,
          31.6,
          13.1,
          25.1,
          27.7,
          30.4,
          22.4,
          36.3,
          36.5,
          44.3,
          29.6,
          37.5,
          22.0,
          28.8,
          27.9,
          22.5,
          34.1,
          17.1,
          34.0,
          27.3,
          23.4,
          51.6,
          28.2,
          16.0,
          45.3,
          36.2,
          23.5,
          19.9,
          45.8,
          29.2,
          29.3,
          21.4,
          24.5,
          30.0,
          29.9,
          23.2,
          31.8,
          26.2,
          29.3,
          35.0,
          32.3,
          9.8,
          28.1,
          30.5,
          38.2,
          24.3,
          33.4,
          23.0,
          32.5,
          35.7,
          17.3,
          32.4,
          35.3,
          31.3,
          10.1,
          17.0,
          23.3,
          40.3,
          24.8,
          33.4,
          25.1,
          25.2,
          33.7,
          27.6,
          30.7,
          24.7,
          18.1,
          23.4,
          29.9,
          27.7,
          19.2,
          25.6,
          37.9,
          12.1,
          21.7,
          20.3,
          20.3,
          40.4,
          32.8,
          31.3,
          39.5,
          25.5,
          22.5,
          40.7,
          29.6,
          10.5,
          18.1,
          36.0,
          37.9,
          31.2,
          45.1,
          22.9,
          22.2,
          23.2,
          22.4,
          15.3,
          19.7,
          28.9,
          20.3,
          22.9,
          24.4,
          24.0,
          27.5,
          27.8,
          28.5,
          40.0,
          19.3,
          23.0,
          17.8,
          24.3,
          10.4,
          20.6,
          14.3,
          13.2,
          17.3,
          16.5,
          24.4,
          24.8,
          17.2,
          21.1,
          26.6,
          14.7,
          24.8,
          28.1,
          34.7,
          38.8,
          25.2,
          20.7,
          25.1,
          23.4,
          18.4,
          27.1,
          16.8,
          13.7,
          29.0,
          25.8,
          24.0,
          20.1,
          29.4,
          6.5,
          13.7,
          16.5,
          15.7,
          18.2,
          18.8,
          20.5,
          25.1,
          17.3,
          22.2,
          21.6,
          12.0,
          13.6,
          15.2,
          33.1,
          28.5,
          20.6,
          21.6,
          12.9,
          19.1,
          17.2,
          17.1,
          18.0,
          20.3,
          32.3,
          27.5,
          24.6,
          14.3,
          27.3,
          10.0,
          28.5,
          16.6,
          27.6,
          17.8,
          40.1,
          32.9,
          42.6,
          18.9,
          22.5,
          16.3,
          16.9,
          25.7,
          18.1,
          21.6,
          15.2,
          17.3,
          17.3,
          10.9,
          22.8,
          18.4,
          16.2,
          22.0,
          22.3,
          10.6,
          11.8,
          20.2,
          21.8,
          19.4,
          17.0,
          17.9,
          16.3,
          27.5,
          22.4,
          17.4,
          8.0
         ],
         "yaxis": "y"
        },
        {
         "marker": {
          "color": [
           1,
           2,
           3,
           4,
           5,
           6,
           7,
           8,
           9,
           10,
           11,
           12,
           13,
           14,
           15,
           16,
           17,
           18,
           19,
           20,
           21,
           22,
           23,
           24,
           25,
           26,
           27,
           28,
           29,
           30,
           31,
           32,
           33,
           34,
           35,
           36,
           37,
           38,
           39,
           40,
           41,
           42,
           43,
           44,
           45,
           46,
           47,
           48,
           49,
           50,
           51,
           52,
           53,
           54,
           55,
           56,
           57,
           58,
           59,
           60,
           61,
           62,
           63,
           64,
           65,
           66,
           67,
           68,
           69,
           70,
           71,
           72,
           73,
           74,
           75,
           76,
           77,
           78,
           79,
           80,
           81,
           82,
           83,
           84,
           85,
           86,
           87,
           88,
           89,
           90,
           91,
           92,
           93,
           94,
           95,
           96,
           97,
           98,
           99,
           100,
           101,
           102,
           103,
           104,
           105,
           106,
           107,
           108,
           109,
           110,
           111,
           112,
           113,
           114,
           115,
           116,
           117,
           118,
           119,
           120,
           121,
           122,
           123,
           124,
           125,
           126,
           127,
           128,
           129,
           130,
           131,
           132,
           133,
           134,
           135,
           136,
           137,
           138,
           139,
           140,
           141,
           142,
           143,
           144,
           145,
           146,
           147,
           148,
           149,
           150,
           151,
           152,
           153,
           154,
           155,
           156,
           157,
           158,
           159,
           160,
           161,
           162,
           163,
           164,
           165,
           166,
           167,
           168,
           169,
           170,
           171,
           172,
           173,
           174,
           175,
           176,
           177,
           178,
           179,
           180,
           181,
           182,
           183,
           184,
           185,
           186,
           187,
           188,
           189,
           190,
           191,
           192,
           193,
           194,
           195,
           196,
           197,
           198,
           199,
           200,
           201,
           202,
           203,
           204,
           205,
           206,
           207,
           208,
           209,
           210,
           211,
           212,
           213,
           214,
           215,
           216,
           217,
           218,
           219,
           220,
           221,
           222,
           223,
           224,
           225,
           226,
           227,
           228,
           229,
           230,
           231,
           232,
           233,
           234,
           235,
           236,
           237,
           238,
           239,
           240,
           241,
           242,
           243,
           244,
           245,
           246,
           247,
           248,
           249,
           250,
           251,
           252,
           253,
           254,
           255,
           256,
           257,
           258,
           259,
           260,
           261,
           262,
           263,
           264,
           265,
           266,
           267,
           268,
           269,
           270,
           271,
           272,
           273,
           274,
           275,
           276,
           277,
           278,
           279,
           280,
           281,
           282,
           283,
           284,
           285,
           286,
           287,
           288,
           289,
           290,
           291,
           292,
           293,
           294,
           295,
           296,
           297,
           298,
           299,
           300,
           301,
           302,
           303,
           304,
           305,
           306,
           307,
           308,
           309,
           310,
           311,
           312,
           313,
           314,
           315,
           316,
           317,
           318,
           319,
           320,
           321,
           322,
           323,
           324,
           325,
           326,
           327,
           328,
           329,
           330,
           331,
           332,
           333,
           334,
           335,
           336,
           337,
           338,
           339,
           340,
           341,
           342,
           343,
           344,
           345,
           346,
           347,
           348,
           349,
           350,
           351,
           352,
           353,
           354,
           355,
           356,
           357,
           358,
           359,
           360,
           361,
           362,
           363,
           364,
           365,
           366,
           367,
           368,
           369,
           370,
           371,
           372,
           373,
           374,
           375,
           376,
           377,
           378,
           379,
           380,
           381,
           382,
           383,
           384,
           385,
           386,
           387,
           388,
           389,
           390,
           391,
           392,
           393,
           394,
           395,
           396,
           397,
           398,
           399,
           400,
           401
          ],
          "colorscale": [
           [
            0.0,
            "rgb(12, 51, 131)"
           ],
           [
            1.0,
            "rgb(217, 30, 30)"
           ]
          ],
          "showscale": true,
          "size": 6
         },
         "mode": "markers",
         "showlegend": false,
         "type": "scatter",
         "x": [
          "67.0",
          "67.6",
          "90.7",
          "69.0",
          "87.8",
          "84.3",
          "61.2",
          "58.5",
          "92.7",
          "59.8",
          "65.2",
          "49.2",
          "96.6",
          "68.3",
          "59.7",
          "43.8",
          "49.8",
          "50.5",
          "59.0",
          "71.2",
          "36.7",
          "90.6",
          "32.4",
          "59.3",
          "94.9",
          "47.9",
          "68.9",
          "33.1",
          "56.4",
          "43.9",
          "33.6",
          "84.8",
          "81.3",
          "87.4",
          "98.8",
          "84.3",
          "64.3",
          "41.2",
          "79.0",
          "87.0",
          "37.0",
          "46.5",
          "81.9",
          "60.6",
          "91.3",
          "33.8",
          "35.3",
          "53.7",
          "44.6",
          "30.3",
          "77.8",
          "34.9",
          "82.0",
          "37.0",
          "62.3",
          "52.9",
          "47.8",
          "37.4",
          "29.0",
          "83.6",
          "92.5",
          "94.5",
          "50.1",
          "59.5",
          "80.4",
          "36.0",
          "53.9",
          "51.5",
          "70.8",
          "63.1",
          "77.9",
          "66.2",
          "78.7",
          "76.6",
          "91.2",
          "42.7",
          "60.5",
          "81.9",
          "52.9",
          "55.7",
          "56.6",
          "55.0",
          "80.4",
          "79.6",
          "38.7",
          "38.8",
          "51.4",
          "51.1",
          "56.1",
          "49.1",
          "40.3",
          "32.2",
          "42.9",
          "69.4",
          "78.8",
          "28.3",
          "39.1",
          "53.2",
          "64.0",
          "57.5",
          "89.7",
          "64.3",
          "64.7",
          "49.7",
          "85.7",
          "86.9",
          "88.6",
          "96.8",
          "54.6",
          "83.5",
          "90.5",
          "83.6",
          "76.7",
          "53.0",
          "75.0",
          "34.4",
          "56.1",
          "94.4",
          "70.1",
          "62.7",
          "79.7",
          "55.5",
          "74.8",
          "73.4",
          "76.7",
          "54.6",
          "84.0",
          "32.2",
          "64.0",
          "31.8",
          "84.7",
          "80.7",
          "44.8",
          "82.4",
          "44.7",
          "85.1",
          "50.6",
          "83.9",
          "54.1",
          "61.6",
          "52.6",
          "49.1",
          "37.0",
          "69.0",
          "34.3",
          "67.6",
          "54.7",
          "35.8",
          "75.8",
          "37.1",
          "61.6",
          "33.1",
          "66.3",
          "79.8",
          "27.5",
          "56.8",
          "29.1",
          "79.5",
          "87.3",
          "71.8",
          "64.4",
          "27.5",
          "56.7",
          "79.3",
          "37.3",
          "60.1",
          "63.2",
          "29.7",
          "56.7",
          "61.0",
          "70.6",
          "59.7",
          "43.3",
          "70.1",
          "87.3",
          "31.7",
          "41.2",
          "57.3",
          "84.1",
          "67.4",
          "40.6",
          "29.5",
          "44.6",
          "91.0",
          "54.7",
          "60.3",
          "27.6",
          "60.5",
          "46.1",
          "63.2",
          "57.0",
          "71.3",
          "37.4",
          "40.6",
          "54.8",
          "60.4",
          "55.8",
          "76.5",
          "83.9",
          "63.0",
          "39.9",
          "44.6",
          "69.3",
          "55.6",
          "53.3",
          "69.9",
          "35.9",
          "73.8",
          "60.6",
          "54.1",
          "47.8",
          "65.3",
          "64.5",
          "53.4",
          "93.4",
          "75.0",
          "26.3",
          "69.5",
          "25.3",
          "55.4",
          "50.7",
          "67.2",
          "79.4",
          "26.0",
          "26.5",
          "35.7",
          "46.4",
          "84.4",
          "88.8",
          "61.1",
          "71.6",
          "55.7",
          "58.7",
          "31.8",
          "42.8",
          "61.4",
          "39.6",
          "70.4",
          "39.5",
          "79.4",
          "63.1",
          "46.8",
          "44.2",
          "57.0",
          "40.6",
          "86.9",
          "63.7",
          "50.2",
          "75.9",
          "59.7",
          "59.4",
          "48.7",
          "73.1",
          "50.2",
          "24.8",
          "71.7",
          "55.4",
          "88.6",
          "49.6",
          "59.6",
          "53.0",
          "59.4",
          "59.1",
          "48.2",
          "32.2",
          "70.6",
          "81.5",
          "43.5",
          "40.3",
          "41.0",
          "54.6",
          "66.3",
          "57.3",
          "39.3",
          "63.1",
          "62.5",
          "30.4",
          "18.2",
          "59.1",
          "56.6",
          "30.7",
          "54.7",
          "29.2",
          "51.3",
          "69.8",
          "23.9",
          "47.8",
          "62.2",
          "21.8",
          "70.8",
          "43.1",
          "26.0",
          "49.0",
          "84.4",
          "35.3",
          "73.3",
          "37.4",
          "47.8",
          "80.8",
          "37.3",
          "80.4",
          "84.2",
          "28.9",
          "48.8",
          "73.1",
          "45.5",
          "53.9",
          "29.1",
          "71.8",
          "42.2",
          "62.3",
          "59.4",
          "41.5",
          "49.8",
          "89.2",
          "43.8",
          "36.7",
          "42.9",
          "44.4",
          "26.9",
          "37.5",
          "19.4",
          "20.7",
          "37.0",
          "29.7",
          "76.1",
          "88.2",
          "52.1",
          "38.8",
          "47.0",
          "49.2",
          "86.7",
          "33.1",
          "47.2",
          "32.2",
          "43.4",
          "45.1",
          "20.7",
          "34.8",
          "30.0",
          "40.4",
          "36.7",
          "67.1",
          "66.9",
          "59.3",
          "45.6",
          "36.1",
          "43.7",
          "41.6",
          "30.7",
          "21.5",
          "65.8",
          "66.5",
          "79.7",
          "53.9",
          "48.6",
          "52.1",
          "91.3",
          "36.0",
          "35.8",
          "48.4",
          "25.2",
          "19.5",
          "16.6",
          "20.0",
          "22.5",
          "26.1",
          "34.5",
          "50.9",
          "85.3",
          "26.7",
          "24.2",
          "26.7",
          "82.6",
          "53.6",
          "86.9",
          "60.0",
          "50.3",
          "38.1",
          "44.1",
          "42.1",
          "37.4",
          "64.8",
          "74.9",
          "46.8",
          "69.1",
          "49.7",
          "29.6",
          "46.2",
          "73.3",
          "48.0",
          "34.3",
          "46.3",
          "21.0",
          "80.3",
          "54.5",
          "43.1",
          "36.0",
          "50.1",
          "33.1",
          "21.4"
         ],
         "xaxis": "x2",
         "y": [
          98.1,
          98.6,
          97.7,
          96.7,
          95.6,
          88.2,
          94.7,
          96.7,
          88.3,
          90.8,
          89.9,
          90.5,
          90.2,
          79.4,
          84.2,
          82.0,
          86.5,
          75.2,
          83.8,
          85.1,
          78.9,
          80.4,
          85.1,
          74.9,
          78.1,
          68.9,
          71.2,
          72.0,
          69.1,
          79.0,
          71.3,
          69.0,
          70.9,
          74.2,
          56.9,
          62.9,
          61.4,
          62.4,
          69.9,
          62.3,
          66.6,
          55.2,
          72.6,
          68.0,
          70.9,
          64.7,
          58.6,
          61.9,
          68.3,
          77.1,
          66.8,
          63.2,
          58.7,
          54.2,
          63.6,
          59.7,
          46.7,
          64.8,
          68.4,
          60.8,
          55.9,
          47.1,
          46.0,
          58.2,
          58.4,
          49.3,
          48.0,
          51.1,
          37.1,
          45.4,
          71.4,
          53.7,
          46.8,
          44.7,
          41.1,
          44.6,
          55.4,
          36.2,
          54.8,
          52.6,
          58.0,
          49.4,
          40.7,
          54.4,
          36.9,
          51.4,
          38.5,
          33.9,
          41.7,
          51.6,
          49.1,
          46.3,
          32.4,
          43.2,
          40.5,
          38.2,
          38.3,
          45.0,
          37.4,
          53.0,
          48.1,
          50.5,
          30.0,
          48.1,
          45.8,
          33.1,
          32.9,
          37.2,
          31.9,
          51.9,
          35.9,
          30.4,
          44.4,
          44.7,
          33.8,
          37.4,
          50.8,
          22.4,
          48.5,
          33.1,
          28.2,
          29.2,
          39.1,
          47.1,
          35.3,
          29.1,
          44.8,
          52.1,
          53.5,
          35.9,
          36.1,
          36.9,
          39.1,
          34.1,
          42.0,
          39.9,
          43.2,
          30.3,
          27.6,
          46.7,
          26.7,
          51.9,
          52.9,
          47.1,
          45.3,
          39.1,
          29.1,
          50.2,
          39.8,
          35.1,
          27.5,
          35.4,
          47.5,
          32.7,
          57.3,
          29.9,
          48.0,
          33.2,
          38.1,
          34.4,
          33.8,
          36.5,
          28.1,
          40.4,
          36.9,
          34.9,
          28.3,
          47.3,
          27.2,
          33.6,
          35.8,
          34.9,
          28.2,
          30.6,
          33.4,
          33.5,
          24.4,
          29.3,
          30.2,
          19.7,
          36.3,
          37.5,
          27.1,
          39.7,
          21.9,
          35.2,
          23.9,
          24.4,
          51.1,
          34.7,
          39.8,
          32.9,
          34.0,
          30.9,
          22.2,
          42.1,
          27.3,
          22.6,
          31.6,
          13.1,
          25.1,
          27.7,
          30.4,
          22.4,
          36.3,
          36.5,
          44.3,
          29.6,
          37.5,
          22.0,
          28.8,
          27.9,
          22.5,
          34.1,
          17.1,
          34.0,
          27.3,
          23.4,
          51.6,
          28.2,
          16.0,
          45.3,
          36.2,
          23.5,
          19.9,
          45.8,
          29.2,
          29.3,
          21.4,
          24.5,
          30.0,
          29.9,
          23.2,
          31.8,
          26.2,
          29.3,
          35.0,
          32.3,
          9.8,
          28.1,
          30.5,
          38.2,
          24.3,
          33.4,
          23.0,
          32.5,
          35.7,
          17.3,
          32.4,
          35.3,
          31.3,
          10.1,
          17.0,
          23.3,
          40.3,
          24.8,
          33.4,
          25.1,
          25.2,
          33.7,
          27.6,
          30.7,
          24.7,
          18.1,
          23.4,
          29.9,
          27.7,
          19.2,
          25.6,
          37.9,
          12.1,
          21.7,
          20.3,
          20.3,
          40.4,
          32.8,
          31.3,
          39.5,
          25.5,
          22.5,
          40.7,
          29.6,
          10.5,
          18.1,
          36.0,
          37.9,
          31.2,
          45.1,
          22.9,
          22.2,
          23.2,
          22.4,
          15.3,
          19.7,
          28.9,
          20.3,
          22.9,
          24.4,
          24.0,
          27.5,
          27.8,
          28.5,
          40.0,
          19.3,
          23.0,
          17.8,
          24.3,
          10.4,
          20.6,
          14.3,
          13.2,
          17.3,
          16.5,
          24.4,
          24.8,
          17.2,
          21.1,
          26.6,
          14.7,
          24.8,
          28.1,
          34.7,
          38.8,
          25.2,
          20.7,
          25.1,
          23.4,
          18.4,
          27.1,
          16.8,
          13.7,
          29.0,
          25.8,
          24.0,
          20.1,
          29.4,
          6.5,
          13.7,
          16.5,
          15.7,
          18.2,
          18.8,
          20.5,
          25.1,
          17.3,
          22.2,
          21.6,
          12.0,
          13.6,
          15.2,
          33.1,
          28.5,
          20.6,
          21.6,
          12.9,
          19.1,
          17.2,
          17.1,
          18.0,
          20.3,
          32.3,
          27.5,
          24.6,
          14.3,
          27.3,
          10.0,
          28.5,
          16.6,
          27.6,
          17.8,
          40.1,
          32.9,
          42.6,
          18.9,
          22.5,
          16.3,
          16.9,
          25.7,
          18.1,
          21.6,
          15.2,
          17.3,
          17.3,
          10.9,
          22.8,
          18.4,
          16.2,
          22.0,
          22.3,
          10.6,
          11.8,
          20.2,
          21.8,
          19.4,
          17.0,
          17.9,
          16.3,
          27.5,
          22.4,
          17.4,
          8.0
         ],
         "yaxis": "y2"
        },
        {
         "marker": {
          "color": [
           1,
           2,
           3,
           4,
           5,
           6,
           7,
           8,
           9,
           10,
           11,
           12,
           13,
           14,
           15,
           16,
           17,
           18,
           19,
           20,
           21,
           22,
           23,
           24,
           25,
           26,
           27,
           28,
           29,
           30,
           31,
           32,
           33,
           34,
           35,
           36,
           37,
           38,
           39,
           40,
           41,
           42,
           43,
           44,
           45,
           46,
           47,
           48,
           49,
           50,
           51,
           52,
           53,
           54,
           55,
           56,
           57,
           58,
           59,
           60,
           61,
           62,
           63,
           64,
           65,
           66,
           67,
           68,
           69,
           70,
           71,
           72,
           73,
           74,
           75,
           76,
           77,
           78,
           79,
           80,
           81,
           82,
           83,
           84,
           85,
           86,
           87,
           88,
           89,
           90,
           91,
           92,
           93,
           94,
           95,
           96,
           97,
           98,
           99,
           100,
           101,
           102,
           103,
           104,
           105,
           106,
           107,
           108,
           109,
           110,
           111,
           112,
           113,
           114,
           115,
           116,
           117,
           118,
           119,
           120,
           121,
           122,
           123,
           124,
           125,
           126,
           127,
           128,
           129,
           130,
           131,
           132,
           133,
           134,
           135,
           136,
           137,
           138,
           139,
           140,
           141,
           142,
           143,
           144,
           145,
           146,
           147,
           148,
           149,
           150,
           151,
           152,
           153,
           154,
           155,
           156,
           157,
           158,
           159,
           160,
           161,
           162,
           163,
           164,
           165,
           166,
           167,
           168,
           169,
           170,
           171,
           172,
           173,
           174,
           175,
           176,
           177,
           178,
           179,
           180,
           181,
           182,
           183,
           184,
           185,
           186,
           187,
           188,
           189,
           190,
           191,
           192,
           193,
           194,
           195,
           196,
           197,
           198,
           199,
           200,
           201,
           202,
           203,
           204,
           205,
           206,
           207,
           208,
           209,
           210,
           211,
           212,
           213,
           214,
           215,
           216,
           217,
           218,
           219,
           220,
           221,
           222,
           223,
           224,
           225,
           226,
           227,
           228,
           229,
           230,
           231,
           232,
           233,
           234,
           235,
           236,
           237,
           238,
           239,
           240,
           241,
           242,
           243,
           244,
           245,
           246,
           247,
           248,
           249,
           250,
           251,
           252,
           253,
           254,
           255,
           256,
           257,
           258,
           259,
           260,
           261,
           262,
           263,
           264,
           265,
           266,
           267,
           268,
           269,
           270,
           271,
           272,
           273,
           274,
           275,
           276,
           277,
           278,
           279,
           280,
           281,
           282,
           283,
           284,
           285,
           286,
           287,
           288,
           289,
           290,
           291,
           292,
           293,
           294,
           295,
           296,
           297,
           298,
           299,
           300,
           301,
           302,
           303,
           304,
           305,
           306,
           307,
           308,
           309,
           310,
           311,
           312,
           313,
           314,
           315,
           316,
           317,
           318,
           319,
           320,
           321,
           322,
           323,
           324,
           325,
           326,
           327,
           328,
           329,
           330,
           331,
           332,
           333,
           334,
           335,
           336,
           337,
           338,
           339,
           340,
           341,
           342,
           343,
           344,
           345,
           346,
           347,
           348,
           349,
           350,
           351,
           352,
           353,
           354,
           355,
           356,
           357,
           358,
           359,
           360,
           361,
           362,
           363,
           364,
           365,
           366,
           367,
           368,
           369,
           370,
           371,
           372,
           373,
           374,
           375,
           376,
           377,
           378,
           379,
           380,
           381,
           382,
           383,
           384,
           385,
           386,
           387,
           388,
           389,
           390,
           391,
           392,
           393,
           394,
           395,
           396,
           397,
           398,
           399,
           400,
           401
          ],
          "colorscale": [
           [
            0.0,
            "rgb(12, 51, 131)"
           ],
           [
            1.0,
            "rgb(217, 30, 30)"
           ]
          ],
          "showscale": false,
          "size": 6
         },
         "mode": "markers",
         "showlegend": false,
         "type": "scatter",
         "x": [
          "94.3",
          "93.3",
          "93.2",
          "92.9",
          "92.0",
          "91.9",
          "90.9",
          "89.5",
          "87.5",
          "87.5",
          "87.1",
          "85.5",
          "84.6",
          "84.4",
          "83.0",
          "81.0",
          "80.9",
          "79.9",
          "79.4",
          "79.3",
          "79.2",
          "78.7",
          "76.1",
          "74.3",
          "73.3",
          "73.2",
          "72.8",
          "72.3",
          "71.9",
          "71.9",
          "71.9",
          "71.8",
          "71.2",
          "70.9",
          "70.9",
          "70.4",
          "70.0",
          "69.9",
          "69.6",
          "69.4",
          "68.6",
          "67.8",
          "67.5",
          "66.8",
          "66.5",
          "65.9",
          "65.9",
          "65.2",
          "65.1",
          "64.8",
          "64.7",
          "64.5",
          "64.5",
          "64.1",
          "63.7",
          "63.7",
          "63.6",
          "62.9",
          "62.8",
          "62.7",
          "62.2",
          "62.2",
          "61.9",
          "61.3",
          "61.2",
          "61.1",
          "61.0",
          "60.7",
          "59.8",
          "59.6",
          "59.2",
          "59.1",
          "59.0",
          "58.9",
          "58.4",
          "58.4",
          "58.2",
          "58.1",
          "58.0",
          "57.9",
          "57.6",
          "57.3",
          "56.9",
          "56.9",
          "56.6",
          "56.5",
          "56.5",
          "56.4",
          "56.4",
          "56.2",
          "56.1",
          "56.1",
          "55.5",
          "55.3",
          "55.3",
          "55.2",
          "55.1",
          "54.6",
          "54.6",
          "54.6",
          "54.3",
          "54.0",
          "53.9",
          "53.9",
          "53.9",
          "53.9",
          "53.8",
          "53.8",
          "53.7",
          "53.7",
          "53.6",
          "53.6",
          "53.4",
          "53.4",
          "53.4",
          "53.2",
          "53.1",
          "53.0",
          "52.9",
          "52.8",
          "52.7",
          "52.7",
          "52.7",
          "52.6",
          "52.6",
          "52.5",
          "52.5",
          "52.5",
          "52.4",
          "52.1",
          "52.0",
          "51.9",
          "51.9",
          "51.9",
          "51.6",
          "51.4",
          "51.4",
          "51.2",
          "51.1",
          "51.0",
          "50.9",
          "50.9",
          "50.9",
          "50.5",
          "50.5",
          "50.4",
          "50.3",
          "50.2",
          "50.2",
          "50.1",
          "50.1",
          "50.0",
          "49.9",
          "49.7",
          "49.3",
          "49.2",
          "49.1",
          "49.1",
          "49.1",
          "49.0",
          "49.0",
          "48.6",
          "48.3",
          "48.2",
          "48.1",
          "48.1",
          "48.1",
          "48.1",
          "48.0",
          "47.9",
          "47.8",
          "47.8",
          "47.7",
          "47.7",
          "47.5",
          "47.5",
          "47.3",
          "47.1",
          "47.1",
          "47.0",
          "47.0",
          "46.9",
          "46.9",
          "46.9",
          "46.8",
          "46.7",
          "46.7",
          "46.6",
          "46.6",
          "46.6",
          "46.5",
          "46.3",
          "46.2",
          "46.2",
          "46.1",
          "46.0",
          "46.0",
          "45.9",
          "45.7",
          "45.6",
          "45.6",
          "-",
          "-",
          "-",
          "-",
          "-",
          "-",
          "-",
          "-",
          "-",
          "-",
          "-",
          "-",
          "-",
          "-",
          "-",
          "-",
          "-",
          "-",
          "-",
          "-",
          "-",
          "-",
          "-",
          "-",
          "-",
          "-",
          "-",
          "-",
          "-",
          "-",
          "-",
          "-",
          "-",
          "-",
          "-",
          "-",
          "-",
          "-",
          "-",
          "-",
          "-",
          "-",
          "-",
          "-",
          "-",
          "-",
          "-",
          "-",
          "-",
          "-",
          "-",
          "-",
          "-",
          "-",
          "-",
          "-",
          "-",
          "-",
          "-",
          "-",
          "-",
          "-",
          "-",
          "-",
          "-",
          "-",
          "-",
          "-",
          "-",
          "-",
          "-",
          "-",
          "-",
          "-",
          "-",
          "-",
          "-",
          "-",
          "-",
          "-",
          "-",
          "-",
          "-",
          "-",
          "-",
          "-",
          "-",
          "-",
          "-",
          "-",
          "-",
          "-",
          "-",
          "-",
          "-",
          "-",
          "-",
          "-",
          "-",
          "-",
          "-",
          "-",
          "-",
          "-",
          "-",
          "-",
          "-",
          "-",
          "-",
          "-",
          "-",
          "-",
          "-",
          "-",
          "-",
          "-",
          "-",
          "-",
          "-",
          "-",
          "-",
          "-",
          "-",
          "-",
          "-",
          "-",
          "-",
          "-",
          "-",
          "-",
          "-",
          "-",
          "-",
          "-",
          "-",
          "-",
          "-",
          "-",
          "-",
          "-",
          "-",
          "-",
          "-",
          "-",
          "-",
          "-",
          "-",
          "-",
          "-",
          "-",
          "-",
          "-",
          "-",
          "-",
          "-",
          "-",
          "-",
          "-",
          "-",
          "-",
          "-",
          "-",
          "-",
          "-",
          "-",
          "-",
          "-",
          "-",
          "-",
          "-",
          "-",
          "-",
          "-",
          "-",
          "-",
          "-",
          "-",
          "-",
          "-",
          "-",
          "-",
          "-",
          "-",
          "-",
          "-",
          "-",
          "-",
          "-",
          "-",
          "-",
          "-",
          "-",
          "-",
          "-",
          "-",
          "-",
          "-",
          "-",
          "-",
          "-"
         ],
         "xaxis": "x3",
         "y": [
          98.1,
          98.6,
          97.7,
          96.7,
          95.6,
          88.2,
          94.7,
          96.7,
          88.3,
          90.8,
          89.9,
          90.5,
          90.2,
          79.4,
          84.2,
          82.0,
          86.5,
          75.2,
          83.8,
          85.1,
          78.9,
          80.4,
          85.1,
          74.9,
          78.1,
          68.9,
          71.2,
          72.0,
          69.1,
          79.0,
          71.3,
          69.0,
          70.9,
          74.2,
          56.9,
          62.9,
          61.4,
          62.4,
          69.9,
          62.3,
          66.6,
          55.2,
          72.6,
          68.0,
          70.9,
          64.7,
          58.6,
          61.9,
          68.3,
          77.1,
          66.8,
          63.2,
          58.7,
          54.2,
          63.6,
          59.7,
          46.7,
          64.8,
          68.4,
          60.8,
          55.9,
          47.1,
          46.0,
          58.2,
          58.4,
          49.3,
          48.0,
          51.1,
          37.1,
          45.4,
          71.4,
          53.7,
          46.8,
          44.7,
          41.1,
          44.6,
          55.4,
          36.2,
          54.8,
          52.6,
          58.0,
          49.4,
          40.7,
          54.4,
          36.9,
          51.4,
          38.5,
          33.9,
          41.7,
          51.6,
          49.1,
          46.3,
          32.4,
          43.2,
          40.5,
          38.2,
          38.3,
          45.0,
          37.4,
          53.0,
          48.1,
          50.5,
          30.0,
          48.1,
          45.8,
          33.1,
          32.9,
          37.2,
          31.9,
          51.9,
          35.9,
          30.4,
          44.4,
          44.7,
          33.8,
          37.4,
          50.8,
          22.4,
          48.5,
          33.1,
          28.2,
          29.2,
          39.1,
          47.1,
          35.3,
          29.1,
          44.8,
          52.1,
          53.5,
          35.9,
          36.1,
          36.9,
          39.1,
          34.1,
          42.0,
          39.9,
          43.2,
          30.3,
          27.6,
          46.7,
          26.7,
          51.9,
          52.9,
          47.1,
          45.3,
          39.1,
          29.1,
          50.2,
          39.8,
          35.1,
          27.5,
          35.4,
          47.5,
          32.7,
          57.3,
          29.9,
          48.0,
          33.2,
          38.1,
          34.4,
          33.8,
          36.5,
          28.1,
          40.4,
          36.9,
          34.9,
          28.3,
          47.3,
          27.2,
          33.6,
          35.8,
          34.9,
          28.2,
          30.6,
          33.4,
          33.5,
          24.4,
          29.3,
          30.2,
          19.7,
          36.3,
          37.5,
          27.1,
          39.7,
          21.9,
          35.2,
          23.9,
          24.4,
          51.1,
          34.7,
          39.8,
          32.9,
          34.0,
          30.9,
          22.2,
          42.1,
          27.3,
          22.6,
          31.6,
          13.1,
          25.1,
          27.7,
          30.4,
          22.4,
          36.3,
          36.5,
          44.3,
          29.6,
          37.5,
          22.0,
          28.8,
          27.9,
          22.5,
          34.1,
          17.1,
          34.0,
          27.3,
          23.4,
          51.6,
          28.2,
          16.0,
          45.3,
          36.2,
          23.5,
          19.9,
          45.8,
          29.2,
          29.3,
          21.4,
          24.5,
          30.0,
          29.9,
          23.2,
          31.8,
          26.2,
          29.3,
          35.0,
          32.3,
          9.8,
          28.1,
          30.5,
          38.2,
          24.3,
          33.4,
          23.0,
          32.5,
          35.7,
          17.3,
          32.4,
          35.3,
          31.3,
          10.1,
          17.0,
          23.3,
          40.3,
          24.8,
          33.4,
          25.1,
          25.2,
          33.7,
          27.6,
          30.7,
          24.7,
          18.1,
          23.4,
          29.9,
          27.7,
          19.2,
          25.6,
          37.9,
          12.1,
          21.7,
          20.3,
          20.3,
          40.4,
          32.8,
          31.3,
          39.5,
          25.5,
          22.5,
          40.7,
          29.6,
          10.5,
          18.1,
          36.0,
          37.9,
          31.2,
          45.1,
          22.9,
          22.2,
          23.2,
          22.4,
          15.3,
          19.7,
          28.9,
          20.3,
          22.9,
          24.4,
          24.0,
          27.5,
          27.8,
          28.5,
          40.0,
          19.3,
          23.0,
          17.8,
          24.3,
          10.4,
          20.6,
          14.3,
          13.2,
          17.3,
          16.5,
          24.4,
          24.8,
          17.2,
          21.1,
          26.6,
          14.7,
          24.8,
          28.1,
          34.7,
          38.8,
          25.2,
          20.7,
          25.1,
          23.4,
          18.4,
          27.1,
          16.8,
          13.7,
          29.0,
          25.8,
          24.0,
          20.1,
          29.4,
          6.5,
          13.7,
          16.5,
          15.7,
          18.2,
          18.8,
          20.5,
          25.1,
          17.3,
          22.2,
          21.6,
          12.0,
          13.6,
          15.2,
          33.1,
          28.5,
          20.6,
          21.6,
          12.9,
          19.1,
          17.2,
          17.1,
          18.0,
          20.3,
          32.3,
          27.5,
          24.6,
          14.3,
          27.3,
          10.0,
          28.5,
          16.6,
          27.6,
          17.8,
          40.1,
          32.9,
          42.6,
          18.9,
          22.5,
          16.3,
          16.9,
          25.7,
          18.1,
          21.6,
          15.2,
          17.3,
          17.3,
          10.9,
          22.8,
          18.4,
          16.2,
          22.0,
          22.3,
          10.6,
          11.8,
          20.2,
          21.8,
          19.4,
          17.0,
          17.9,
          16.3,
          27.5,
          22.4,
          17.4,
          8.0
         ],
         "yaxis": "y3"
        },
        {
         "marker": {
          "color": [
           1,
           2,
           3,
           4,
           5,
           6,
           7,
           8,
           9,
           10,
           11,
           12,
           13,
           14,
           15,
           16,
           17,
           18,
           19,
           20,
           21,
           22,
           23,
           24,
           25,
           26,
           27,
           28,
           29,
           30,
           31,
           32,
           33,
           34,
           35,
           36,
           37,
           38,
           39,
           40,
           41,
           42,
           43,
           44,
           45,
           46,
           47,
           48,
           49,
           50,
           51,
           52,
           53,
           54,
           55,
           56,
           57,
           58,
           59,
           60,
           61,
           62,
           63,
           64,
           65,
           66,
           67,
           68,
           69,
           70,
           71,
           72,
           73,
           74,
           75,
           76,
           77,
           78,
           79,
           80,
           81,
           82,
           83,
           84,
           85,
           86,
           87,
           88,
           89,
           90,
           91,
           92,
           93,
           94,
           95,
           96,
           97,
           98,
           99,
           100,
           101,
           102,
           103,
           104,
           105,
           106,
           107,
           108,
           109,
           110,
           111,
           112,
           113,
           114,
           115,
           116,
           117,
           118,
           119,
           120,
           121,
           122,
           123,
           124,
           125,
           126,
           127,
           128,
           129,
           130,
           131,
           132,
           133,
           134,
           135,
           136,
           137,
           138,
           139,
           140,
           141,
           142,
           143,
           144,
           145,
           146,
           147,
           148,
           149,
           150,
           151,
           152,
           153,
           154,
           155,
           156,
           157,
           158,
           159,
           160,
           161,
           162,
           163,
           164,
           165,
           166,
           167,
           168,
           169,
           170,
           171,
           172,
           173,
           174,
           175,
           176,
           177,
           178,
           179,
           180,
           181,
           182,
           183,
           184,
           185,
           186,
           187,
           188,
           189,
           190,
           191,
           192,
           193,
           194,
           195,
           196,
           197,
           198,
           199,
           200,
           201,
           202,
           203,
           204,
           205,
           206,
           207,
           208,
           209,
           210,
           211,
           212,
           213,
           214,
           215,
           216,
           217,
           218,
           219,
           220,
           221,
           222,
           223,
           224,
           225,
           226,
           227,
           228,
           229,
           230,
           231,
           232,
           233,
           234,
           235,
           236,
           237,
           238,
           239,
           240,
           241,
           242,
           243,
           244,
           245,
           246,
           247,
           248,
           249,
           250,
           251,
           252,
           253,
           254,
           255,
           256,
           257,
           258,
           259,
           260,
           261,
           262,
           263,
           264,
           265,
           266,
           267,
           268,
           269,
           270,
           271,
           272,
           273,
           274,
           275,
           276,
           277,
           278,
           279,
           280,
           281,
           282,
           283,
           284,
           285,
           286,
           287,
           288,
           289,
           290,
           291,
           292,
           293,
           294,
           295,
           296,
           297,
           298,
           299,
           300,
           301,
           302,
           303,
           304,
           305,
           306,
           307,
           308,
           309,
           310,
           311,
           312,
           313,
           314,
           315,
           316,
           317,
           318,
           319,
           320,
           321,
           322,
           323,
           324,
           325,
           326,
           327,
           328,
           329,
           330,
           331,
           332,
           333,
           334,
           335,
           336,
           337,
           338,
           339,
           340,
           341,
           342,
           343,
           344,
           345,
           346,
           347,
           348,
           349,
           350,
           351,
           352,
           353,
           354,
           355,
           356,
           357,
           358,
           359,
           360,
           361,
           362,
           363,
           364,
           365,
           366,
           367,
           368,
           369,
           370,
           371,
           372,
           373,
           374,
           375,
           376,
           377,
           378,
           379,
           380,
           381,
           382,
           383,
           384,
           385,
           386,
           387,
           388,
           389,
           390,
           391,
           392,
           393,
           394,
           395,
           396,
           397,
           398,
           399,
           400,
           401
          ],
          "colorscale": [
           [
            0.0,
            "rgb(12, 51, 131)"
           ],
           [
            1.0,
            "rgb(217, 30, 30)"
           ]
          ],
          "showscale": false,
          "size": 6
         },
         "mode": "markers",
         "showlegend": false,
         "type": "scatter",
         "x": [
          98.1,
          98.6,
          97.7,
          96.7,
          95.6,
          88.2,
          94.7,
          96.7,
          88.3,
          90.8,
          89.9,
          90.5,
          90.2,
          79.4,
          84.2,
          82.0,
          86.5,
          75.2,
          83.8,
          85.1,
          78.9,
          80.4,
          85.1,
          74.9,
          78.1,
          68.9,
          71.2,
          72.0,
          69.1,
          79.0,
          71.3,
          69.0,
          70.9,
          74.2,
          56.9,
          62.9,
          61.4,
          62.4,
          69.9,
          62.3,
          66.6,
          55.2,
          72.6,
          68.0,
          70.9,
          64.7,
          58.6,
          61.9,
          68.3,
          77.1,
          66.8,
          63.2,
          58.7,
          54.2,
          63.6,
          59.7,
          46.7,
          64.8,
          68.4,
          60.8,
          55.9,
          47.1,
          46.0,
          58.2,
          58.4,
          49.3,
          48.0,
          51.1,
          37.1,
          45.4,
          71.4,
          53.7,
          46.8,
          44.7,
          41.1,
          44.6,
          55.4,
          36.2,
          54.8,
          52.6,
          58.0,
          49.4,
          40.7,
          54.4,
          36.9,
          51.4,
          38.5,
          33.9,
          41.7,
          51.6,
          49.1,
          46.3,
          32.4,
          43.2,
          40.5,
          38.2,
          38.3,
          45.0,
          37.4,
          53.0,
          48.1,
          50.5,
          30.0,
          48.1,
          45.8,
          33.1,
          32.9,
          37.2,
          31.9,
          51.9,
          35.9,
          30.4,
          44.4,
          44.7,
          33.8,
          37.4,
          50.8,
          22.4,
          48.5,
          33.1,
          28.2,
          29.2,
          39.1,
          47.1,
          35.3,
          29.1,
          44.8,
          52.1,
          53.5,
          35.9,
          36.1,
          36.9,
          39.1,
          34.1,
          42.0,
          39.9,
          43.2,
          30.3,
          27.6,
          46.7,
          26.7,
          51.9,
          52.9,
          47.1,
          45.3,
          39.1,
          29.1,
          50.2,
          39.8,
          35.1,
          27.5,
          35.4,
          47.5,
          32.7,
          57.3,
          29.9,
          48.0,
          33.2,
          38.1,
          34.4,
          33.8,
          36.5,
          28.1,
          40.4,
          36.9,
          34.9,
          28.3,
          47.3,
          27.2,
          33.6,
          35.8,
          34.9,
          28.2,
          30.6,
          33.4,
          33.5,
          24.4,
          29.3,
          30.2,
          19.7,
          36.3,
          37.5,
          27.1,
          39.7,
          21.9,
          35.2,
          23.9,
          24.4,
          51.1,
          34.7,
          39.8,
          32.9,
          34.0,
          30.9,
          22.2,
          42.1,
          27.3,
          22.6,
          31.6,
          13.1,
          25.1,
          27.7,
          30.4,
          22.4,
          36.3,
          36.5,
          44.3,
          29.6,
          37.5,
          22.0,
          28.8,
          27.9,
          22.5,
          34.1,
          17.1,
          34.0,
          27.3,
          23.4,
          51.6,
          28.2,
          16.0,
          45.3,
          36.2,
          23.5,
          19.9,
          45.8,
          29.2,
          29.3,
          21.4,
          24.5,
          30.0,
          29.9,
          23.2,
          31.8,
          26.2,
          29.3,
          35.0,
          32.3,
          9.8,
          28.1,
          30.5,
          38.2,
          24.3,
          33.4,
          23.0,
          32.5,
          35.7,
          17.3,
          32.4,
          35.3,
          31.3,
          10.1,
          17.0,
          23.3,
          40.3,
          24.8,
          33.4,
          25.1,
          25.2,
          33.7,
          27.6,
          30.7,
          24.7,
          18.1,
          23.4,
          29.9,
          27.7,
          19.2,
          25.6,
          37.9,
          12.1,
          21.7,
          20.3,
          20.3,
          40.4,
          32.8,
          31.3,
          39.5,
          25.5,
          22.5,
          40.7,
          29.6,
          10.5,
          18.1,
          36.0,
          37.9,
          31.2,
          45.1,
          22.9,
          22.2,
          23.2,
          22.4,
          15.3,
          19.7,
          28.9,
          20.3,
          22.9,
          24.4,
          24.0,
          27.5,
          27.8,
          28.5,
          40.0,
          19.3,
          23.0,
          17.8,
          24.3,
          10.4,
          20.6,
          14.3,
          13.2,
          17.3,
          16.5,
          24.4,
          24.8,
          17.2,
          21.1,
          26.6,
          14.7,
          24.8,
          28.1,
          34.7,
          38.8,
          25.2,
          20.7,
          25.1,
          23.4,
          18.4,
          27.1,
          16.8,
          13.7,
          29.0,
          25.8,
          24.0,
          20.1,
          29.4,
          6.5,
          13.7,
          16.5,
          15.7,
          18.2,
          18.8,
          20.5,
          25.1,
          17.3,
          22.2,
          21.6,
          12.0,
          13.6,
          15.2,
          33.1,
          28.5,
          20.6,
          21.6,
          12.9,
          19.1,
          17.2,
          17.1,
          18.0,
          20.3,
          32.3,
          27.5,
          24.6,
          14.3,
          27.3,
          10.0,
          28.5,
          16.6,
          27.6,
          17.8,
          40.1,
          32.9,
          42.6,
          18.9,
          22.5,
          16.3,
          16.9,
          25.7,
          18.1,
          21.6,
          15.2,
          17.3,
          17.3,
          10.9,
          22.8,
          18.4,
          16.2,
          22.0,
          22.3,
          10.6,
          11.8,
          20.2,
          21.8,
          19.4,
          17.0,
          17.9,
          16.3,
          27.5,
          22.4,
          17.4,
          8.0
         ],
         "xaxis": "x4",
         "y": [
          "67.0",
          "67.6",
          "90.7",
          "69.0",
          "87.8",
          "84.3",
          "61.2",
          "58.5",
          "92.7",
          "59.8",
          "65.2",
          "49.2",
          "96.6",
          "68.3",
          "59.7",
          "43.8",
          "49.8",
          "50.5",
          "59.0",
          "71.2",
          "36.7",
          "90.6",
          "32.4",
          "59.3",
          "94.9",
          "47.9",
          "68.9",
          "33.1",
          "56.4",
          "43.9",
          "33.6",
          "84.8",
          "81.3",
          "87.4",
          "98.8",
          "84.3",
          "64.3",
          "41.2",
          "79.0",
          "87.0",
          "37.0",
          "46.5",
          "81.9",
          "60.6",
          "91.3",
          "33.8",
          "35.3",
          "53.7",
          "44.6",
          "30.3",
          "77.8",
          "34.9",
          "82.0",
          "37.0",
          "62.3",
          "52.9",
          "47.8",
          "37.4",
          "29.0",
          "83.6",
          "92.5",
          "94.5",
          "50.1",
          "59.5",
          "80.4",
          "36.0",
          "53.9",
          "51.5",
          "70.8",
          "63.1",
          "77.9",
          "66.2",
          "78.7",
          "76.6",
          "91.2",
          "42.7",
          "60.5",
          "81.9",
          "52.9",
          "55.7",
          "56.6",
          "55.0",
          "80.4",
          "79.6",
          "38.7",
          "38.8",
          "51.4",
          "51.1",
          "56.1",
          "49.1",
          "40.3",
          "32.2",
          "42.9",
          "69.4",
          "78.8",
          "28.3",
          "39.1",
          "53.2",
          "64.0",
          "57.5",
          "89.7",
          "64.3",
          "64.7",
          "49.7",
          "85.7",
          "86.9",
          "88.6",
          "96.8",
          "54.6",
          "83.5",
          "90.5",
          "83.6",
          "76.7",
          "53.0",
          "75.0",
          "34.4",
          "56.1",
          "94.4",
          "70.1",
          "62.7",
          "79.7",
          "55.5",
          "74.8",
          "73.4",
          "76.7",
          "54.6",
          "84.0",
          "32.2",
          "64.0",
          "31.8",
          "84.7",
          "80.7",
          "44.8",
          "82.4",
          "44.7",
          "85.1",
          "50.6",
          "83.9",
          "54.1",
          "61.6",
          "52.6",
          "49.1",
          "37.0",
          "69.0",
          "34.3",
          "67.6",
          "54.7",
          "35.8",
          "75.8",
          "37.1",
          "61.6",
          "33.1",
          "66.3",
          "79.8",
          "27.5",
          "56.8",
          "29.1",
          "79.5",
          "87.3",
          "71.8",
          "64.4",
          "27.5",
          "56.7",
          "79.3",
          "37.3",
          "60.1",
          "63.2",
          "29.7",
          "56.7",
          "61.0",
          "70.6",
          "59.7",
          "43.3",
          "70.1",
          "87.3",
          "31.7",
          "41.2",
          "57.3",
          "84.1",
          "67.4",
          "40.6",
          "29.5",
          "44.6",
          "91.0",
          "54.7",
          "60.3",
          "27.6",
          "60.5",
          "46.1",
          "63.2",
          "57.0",
          "71.3",
          "37.4",
          "40.6",
          "54.8",
          "60.4",
          "55.8",
          "76.5",
          "83.9",
          "63.0",
          "39.9",
          "44.6",
          "69.3",
          "55.6",
          "53.3",
          "69.9",
          "35.9",
          "73.8",
          "60.6",
          "54.1",
          "47.8",
          "65.3",
          "64.5",
          "53.4",
          "93.4",
          "75.0",
          "26.3",
          "69.5",
          "25.3",
          "55.4",
          "50.7",
          "67.2",
          "79.4",
          "26.0",
          "26.5",
          "35.7",
          "46.4",
          "84.4",
          "88.8",
          "61.1",
          "71.6",
          "55.7",
          "58.7",
          "31.8",
          "42.8",
          "61.4",
          "39.6",
          "70.4",
          "39.5",
          "79.4",
          "63.1",
          "46.8",
          "44.2",
          "57.0",
          "40.6",
          "86.9",
          "63.7",
          "50.2",
          "75.9",
          "59.7",
          "59.4",
          "48.7",
          "73.1",
          "50.2",
          "24.8",
          "71.7",
          "55.4",
          "88.6",
          "49.6",
          "59.6",
          "53.0",
          "59.4",
          "59.1",
          "48.2",
          "32.2",
          "70.6",
          "81.5",
          "43.5",
          "40.3",
          "41.0",
          "54.6",
          "66.3",
          "57.3",
          "39.3",
          "63.1",
          "62.5",
          "30.4",
          "18.2",
          "59.1",
          "56.6",
          "30.7",
          "54.7",
          "29.2",
          "51.3",
          "69.8",
          "23.9",
          "47.8",
          "62.2",
          "21.8",
          "70.8",
          "43.1",
          "26.0",
          "49.0",
          "84.4",
          "35.3",
          "73.3",
          "37.4",
          "47.8",
          "80.8",
          "37.3",
          "80.4",
          "84.2",
          "28.9",
          "48.8",
          "73.1",
          "45.5",
          "53.9",
          "29.1",
          "71.8",
          "42.2",
          "62.3",
          "59.4",
          "41.5",
          "49.8",
          "89.2",
          "43.8",
          "36.7",
          "42.9",
          "44.4",
          "26.9",
          "37.5",
          "19.4",
          "20.7",
          "37.0",
          "29.7",
          "76.1",
          "88.2",
          "52.1",
          "38.8",
          "47.0",
          "49.2",
          "86.7",
          "33.1",
          "47.2",
          "32.2",
          "43.4",
          "45.1",
          "20.7",
          "34.8",
          "30.0",
          "40.4",
          "36.7",
          "67.1",
          "66.9",
          "59.3",
          "45.6",
          "36.1",
          "43.7",
          "41.6",
          "30.7",
          "21.5",
          "65.8",
          "66.5",
          "79.7",
          "53.9",
          "48.6",
          "52.1",
          "91.3",
          "36.0",
          "35.8",
          "48.4",
          "25.2",
          "19.5",
          "16.6",
          "20.0",
          "22.5",
          "26.1",
          "34.5",
          "50.9",
          "85.3",
          "26.7",
          "24.2",
          "26.7",
          "82.6",
          "53.6",
          "86.9",
          "60.0",
          "50.3",
          "38.1",
          "44.1",
          "42.1",
          "37.4",
          "64.8",
          "74.9",
          "46.8",
          "69.1",
          "49.7",
          "29.6",
          "46.2",
          "73.3",
          "48.0",
          "34.3",
          "46.3",
          "21.0",
          "80.3",
          "54.5",
          "43.1",
          "36.0",
          "50.1",
          "33.1",
          "21.4"
         ],
         "yaxis": "y4"
        },
        {
         "marker": {
          "color": "rgb(12, 51, 131)"
         },
         "showlegend": false,
         "type": "box",
         "xaxis": "x5",
         "y": [
          "67.0",
          "67.6",
          "90.7",
          "69.0",
          "87.8",
          "84.3",
          "61.2",
          "58.5",
          "92.7",
          "59.8",
          "65.2",
          "49.2",
          "96.6",
          "68.3",
          "59.7",
          "43.8",
          "49.8",
          "50.5",
          "59.0",
          "71.2",
          "36.7",
          "90.6",
          "32.4",
          "59.3",
          "94.9",
          "47.9",
          "68.9",
          "33.1",
          "56.4",
          "43.9",
          "33.6",
          "84.8",
          "81.3",
          "87.4",
          "98.8",
          "84.3",
          "64.3",
          "41.2",
          "79.0",
          "87.0",
          "37.0",
          "46.5",
          "81.9",
          "60.6",
          "91.3",
          "33.8",
          "35.3",
          "53.7",
          "44.6",
          "30.3",
          "77.8",
          "34.9",
          "82.0",
          "37.0",
          "62.3",
          "52.9",
          "47.8",
          "37.4",
          "29.0",
          "83.6",
          "92.5",
          "94.5",
          "50.1",
          "59.5",
          "80.4",
          "36.0",
          "53.9",
          "51.5",
          "70.8",
          "63.1",
          "77.9",
          "66.2",
          "78.7",
          "76.6",
          "91.2",
          "42.7",
          "60.5",
          "81.9",
          "52.9",
          "55.7",
          "56.6",
          "55.0",
          "80.4",
          "79.6",
          "38.7",
          "38.8",
          "51.4",
          "51.1",
          "56.1",
          "49.1",
          "40.3",
          "32.2",
          "42.9",
          "69.4",
          "78.8",
          "28.3",
          "39.1",
          "53.2",
          "64.0",
          "57.5",
          "89.7",
          "64.3",
          "64.7",
          "49.7",
          "85.7",
          "86.9",
          "88.6",
          "96.8",
          "54.6",
          "83.5",
          "90.5",
          "83.6",
          "76.7",
          "53.0",
          "75.0",
          "34.4",
          "56.1",
          "94.4",
          "70.1",
          "62.7",
          "79.7",
          "55.5",
          "74.8",
          "73.4",
          "76.7",
          "54.6",
          "84.0",
          "32.2",
          "64.0",
          "31.8",
          "84.7",
          "80.7",
          "44.8",
          "82.4",
          "44.7",
          "85.1",
          "50.6",
          "83.9",
          "54.1",
          "61.6",
          "52.6",
          "49.1",
          "37.0",
          "69.0",
          "34.3",
          "67.6",
          "54.7",
          "35.8",
          "75.8",
          "37.1",
          "61.6",
          "33.1",
          "66.3",
          "79.8",
          "27.5",
          "56.8",
          "29.1",
          "79.5",
          "87.3",
          "71.8",
          "64.4",
          "27.5",
          "56.7",
          "79.3",
          "37.3",
          "60.1",
          "63.2",
          "29.7",
          "56.7",
          "61.0",
          "70.6",
          "59.7",
          "43.3",
          "70.1",
          "87.3",
          "31.7",
          "41.2",
          "57.3",
          "84.1",
          "67.4",
          "40.6",
          "29.5",
          "44.6",
          "91.0",
          "54.7",
          "60.3",
          "27.6",
          "60.5",
          "46.1",
          "63.2",
          "57.0",
          "71.3",
          "37.4",
          "40.6",
          "54.8",
          "60.4",
          "55.8",
          "76.5",
          "83.9",
          "63.0",
          "39.9",
          "44.6",
          "69.3",
          "55.6",
          "53.3",
          "69.9",
          "35.9",
          "73.8",
          "60.6",
          "54.1",
          "47.8",
          "65.3",
          "64.5",
          "53.4",
          "93.4",
          "75.0",
          "26.3",
          "69.5",
          "25.3",
          "55.4",
          "50.7",
          "67.2",
          "79.4",
          "26.0",
          "26.5",
          "35.7",
          "46.4",
          "84.4",
          "88.8",
          "61.1",
          "71.6",
          "55.7",
          "58.7",
          "31.8",
          "42.8",
          "61.4",
          "39.6",
          "70.4",
          "39.5",
          "79.4",
          "63.1",
          "46.8",
          "44.2",
          "57.0",
          "40.6",
          "86.9",
          "63.7",
          "50.2",
          "75.9",
          "59.7",
          "59.4",
          "48.7",
          "73.1",
          "50.2",
          "24.8",
          "71.7",
          "55.4",
          "88.6",
          "49.6",
          "59.6",
          "53.0",
          "59.4",
          "59.1",
          "48.2",
          "32.2",
          "70.6",
          "81.5",
          "43.5",
          "40.3",
          "41.0",
          "54.6",
          "66.3",
          "57.3",
          "39.3",
          "63.1",
          "62.5",
          "30.4",
          "18.2",
          "59.1",
          "56.6",
          "30.7",
          "54.7",
          "29.2",
          "51.3",
          "69.8",
          "23.9",
          "47.8",
          "62.2",
          "21.8",
          "70.8",
          "43.1",
          "26.0",
          "49.0",
          "84.4",
          "35.3",
          "73.3",
          "37.4",
          "47.8",
          "80.8",
          "37.3",
          "80.4",
          "84.2",
          "28.9",
          "48.8",
          "73.1",
          "45.5",
          "53.9",
          "29.1",
          "71.8",
          "42.2",
          "62.3",
          "59.4",
          "41.5",
          "49.8",
          "89.2",
          "43.8",
          "36.7",
          "42.9",
          "44.4",
          "26.9",
          "37.5",
          "19.4",
          "20.7",
          "37.0",
          "29.7",
          "76.1",
          "88.2",
          "52.1",
          "38.8",
          "47.0",
          "49.2",
          "86.7",
          "33.1",
          "47.2",
          "32.2",
          "43.4",
          "45.1",
          "20.7",
          "34.8",
          "30.0",
          "40.4",
          "36.7",
          "67.1",
          "66.9",
          "59.3",
          "45.6",
          "36.1",
          "43.7",
          "41.6",
          "30.7",
          "21.5",
          "65.8",
          "66.5",
          "79.7",
          "53.9",
          "48.6",
          "52.1",
          "91.3",
          "36.0",
          "35.8",
          "48.4",
          "25.2",
          "19.5",
          "16.6",
          "20.0",
          "22.5",
          "26.1",
          "34.5",
          "50.9",
          "85.3",
          "26.7",
          "24.2",
          "26.7",
          "82.6",
          "53.6",
          "86.9",
          "60.0",
          "50.3",
          "38.1",
          "44.1",
          "42.1",
          "37.4",
          "64.8",
          "74.9",
          "46.8",
          "69.1",
          "49.7",
          "29.6",
          "46.2",
          "73.3",
          "48.0",
          "34.3",
          "46.3",
          "21.0",
          "80.3",
          "54.5",
          "43.1",
          "36.0",
          "50.1",
          "33.1",
          "21.4"
         ],
         "yaxis": "y5"
        },
        {
         "marker": {
          "color": [
           1,
           2,
           3,
           4,
           5,
           6,
           7,
           8,
           9,
           10,
           11,
           12,
           13,
           14,
           15,
           16,
           17,
           18,
           19,
           20,
           21,
           22,
           23,
           24,
           25,
           26,
           27,
           28,
           29,
           30,
           31,
           32,
           33,
           34,
           35,
           36,
           37,
           38,
           39,
           40,
           41,
           42,
           43,
           44,
           45,
           46,
           47,
           48,
           49,
           50,
           51,
           52,
           53,
           54,
           55,
           56,
           57,
           58,
           59,
           60,
           61,
           62,
           63,
           64,
           65,
           66,
           67,
           68,
           69,
           70,
           71,
           72,
           73,
           74,
           75,
           76,
           77,
           78,
           79,
           80,
           81,
           82,
           83,
           84,
           85,
           86,
           87,
           88,
           89,
           90,
           91,
           92,
           93,
           94,
           95,
           96,
           97,
           98,
           99,
           100,
           101,
           102,
           103,
           104,
           105,
           106,
           107,
           108,
           109,
           110,
           111,
           112,
           113,
           114,
           115,
           116,
           117,
           118,
           119,
           120,
           121,
           122,
           123,
           124,
           125,
           126,
           127,
           128,
           129,
           130,
           131,
           132,
           133,
           134,
           135,
           136,
           137,
           138,
           139,
           140,
           141,
           142,
           143,
           144,
           145,
           146,
           147,
           148,
           149,
           150,
           151,
           152,
           153,
           154,
           155,
           156,
           157,
           158,
           159,
           160,
           161,
           162,
           163,
           164,
           165,
           166,
           167,
           168,
           169,
           170,
           171,
           172,
           173,
           174,
           175,
           176,
           177,
           178,
           179,
           180,
           181,
           182,
           183,
           184,
           185,
           186,
           187,
           188,
           189,
           190,
           191,
           192,
           193,
           194,
           195,
           196,
           197,
           198,
           199,
           200,
           201,
           202,
           203,
           204,
           205,
           206,
           207,
           208,
           209,
           210,
           211,
           212,
           213,
           214,
           215,
           216,
           217,
           218,
           219,
           220,
           221,
           222,
           223,
           224,
           225,
           226,
           227,
           228,
           229,
           230,
           231,
           232,
           233,
           234,
           235,
           236,
           237,
           238,
           239,
           240,
           241,
           242,
           243,
           244,
           245,
           246,
           247,
           248,
           249,
           250,
           251,
           252,
           253,
           254,
           255,
           256,
           257,
           258,
           259,
           260,
           261,
           262,
           263,
           264,
           265,
           266,
           267,
           268,
           269,
           270,
           271,
           272,
           273,
           274,
           275,
           276,
           277,
           278,
           279,
           280,
           281,
           282,
           283,
           284,
           285,
           286,
           287,
           288,
           289,
           290,
           291,
           292,
           293,
           294,
           295,
           296,
           297,
           298,
           299,
           300,
           301,
           302,
           303,
           304,
           305,
           306,
           307,
           308,
           309,
           310,
           311,
           312,
           313,
           314,
           315,
           316,
           317,
           318,
           319,
           320,
           321,
           322,
           323,
           324,
           325,
           326,
           327,
           328,
           329,
           330,
           331,
           332,
           333,
           334,
           335,
           336,
           337,
           338,
           339,
           340,
           341,
           342,
           343,
           344,
           345,
           346,
           347,
           348,
           349,
           350,
           351,
           352,
           353,
           354,
           355,
           356,
           357,
           358,
           359,
           360,
           361,
           362,
           363,
           364,
           365,
           366,
           367,
           368,
           369,
           370,
           371,
           372,
           373,
           374,
           375,
           376,
           377,
           378,
           379,
           380,
           381,
           382,
           383,
           384,
           385,
           386,
           387,
           388,
           389,
           390,
           391,
           392,
           393,
           394,
           395,
           396,
           397,
           398,
           399,
           400,
           401
          ],
          "colorscale": [
           [
            0.0,
            "rgb(12, 51, 131)"
           ],
           [
            1.0,
            "rgb(217, 30, 30)"
           ]
          ],
          "showscale": false,
          "size": 6
         },
         "mode": "markers",
         "showlegend": false,
         "type": "scatter",
         "x": [
          "94.3",
          "93.3",
          "93.2",
          "92.9",
          "92.0",
          "91.9",
          "90.9",
          "89.5",
          "87.5",
          "87.5",
          "87.1",
          "85.5",
          "84.6",
          "84.4",
          "83.0",
          "81.0",
          "80.9",
          "79.9",
          "79.4",
          "79.3",
          "79.2",
          "78.7",
          "76.1",
          "74.3",
          "73.3",
          "73.2",
          "72.8",
          "72.3",
          "71.9",
          "71.9",
          "71.9",
          "71.8",
          "71.2",
          "70.9",
          "70.9",
          "70.4",
          "70.0",
          "69.9",
          "69.6",
          "69.4",
          "68.6",
          "67.8",
          "67.5",
          "66.8",
          "66.5",
          "65.9",
          "65.9",
          "65.2",
          "65.1",
          "64.8",
          "64.7",
          "64.5",
          "64.5",
          "64.1",
          "63.7",
          "63.7",
          "63.6",
          "62.9",
          "62.8",
          "62.7",
          "62.2",
          "62.2",
          "61.9",
          "61.3",
          "61.2",
          "61.1",
          "61.0",
          "60.7",
          "59.8",
          "59.6",
          "59.2",
          "59.1",
          "59.0",
          "58.9",
          "58.4",
          "58.4",
          "58.2",
          "58.1",
          "58.0",
          "57.9",
          "57.6",
          "57.3",
          "56.9",
          "56.9",
          "56.6",
          "56.5",
          "56.5",
          "56.4",
          "56.4",
          "56.2",
          "56.1",
          "56.1",
          "55.5",
          "55.3",
          "55.3",
          "55.2",
          "55.1",
          "54.6",
          "54.6",
          "54.6",
          "54.3",
          "54.0",
          "53.9",
          "53.9",
          "53.9",
          "53.9",
          "53.8",
          "53.8",
          "53.7",
          "53.7",
          "53.6",
          "53.6",
          "53.4",
          "53.4",
          "53.4",
          "53.2",
          "53.1",
          "53.0",
          "52.9",
          "52.8",
          "52.7",
          "52.7",
          "52.7",
          "52.6",
          "52.6",
          "52.5",
          "52.5",
          "52.5",
          "52.4",
          "52.1",
          "52.0",
          "51.9",
          "51.9",
          "51.9",
          "51.6",
          "51.4",
          "51.4",
          "51.2",
          "51.1",
          "51.0",
          "50.9",
          "50.9",
          "50.9",
          "50.5",
          "50.5",
          "50.4",
          "50.3",
          "50.2",
          "50.2",
          "50.1",
          "50.1",
          "50.0",
          "49.9",
          "49.7",
          "49.3",
          "49.2",
          "49.1",
          "49.1",
          "49.1",
          "49.0",
          "49.0",
          "48.6",
          "48.3",
          "48.2",
          "48.1",
          "48.1",
          "48.1",
          "48.1",
          "48.0",
          "47.9",
          "47.8",
          "47.8",
          "47.7",
          "47.7",
          "47.5",
          "47.5",
          "47.3",
          "47.1",
          "47.1",
          "47.0",
          "47.0",
          "46.9",
          "46.9",
          "46.9",
          "46.8",
          "46.7",
          "46.7",
          "46.6",
          "46.6",
          "46.6",
          "46.5",
          "46.3",
          "46.2",
          "46.2",
          "46.1",
          "46.0",
          "46.0",
          "45.9",
          "45.7",
          "45.6",
          "45.6",
          "-",
          "-",
          "-",
          "-",
          "-",
          "-",
          "-",
          "-",
          "-",
          "-",
          "-",
          "-",
          "-",
          "-",
          "-",
          "-",
          "-",
          "-",
          "-",
          "-",
          "-",
          "-",
          "-",
          "-",
          "-",
          "-",
          "-",
          "-",
          "-",
          "-",
          "-",
          "-",
          "-",
          "-",
          "-",
          "-",
          "-",
          "-",
          "-",
          "-",
          "-",
          "-",
          "-",
          "-",
          "-",
          "-",
          "-",
          "-",
          "-",
          "-",
          "-",
          "-",
          "-",
          "-",
          "-",
          "-",
          "-",
          "-",
          "-",
          "-",
          "-",
          "-",
          "-",
          "-",
          "-",
          "-",
          "-",
          "-",
          "-",
          "-",
          "-",
          "-",
          "-",
          "-",
          "-",
          "-",
          "-",
          "-",
          "-",
          "-",
          "-",
          "-",
          "-",
          "-",
          "-",
          "-",
          "-",
          "-",
          "-",
          "-",
          "-",
          "-",
          "-",
          "-",
          "-",
          "-",
          "-",
          "-",
          "-",
          "-",
          "-",
          "-",
          "-",
          "-",
          "-",
          "-",
          "-",
          "-",
          "-",
          "-",
          "-",
          "-",
          "-",
          "-",
          "-",
          "-",
          "-",
          "-",
          "-",
          "-",
          "-",
          "-",
          "-",
          "-",
          "-",
          "-",
          "-",
          "-",
          "-",
          "-",
          "-",
          "-",
          "-",
          "-",
          "-",
          "-",
          "-",
          "-",
          "-",
          "-",
          "-",
          "-",
          "-",
          "-",
          "-",
          "-",
          "-",
          "-",
          "-",
          "-",
          "-",
          "-",
          "-",
          "-",
          "-",
          "-",
          "-",
          "-",
          "-",
          "-",
          "-",
          "-",
          "-",
          "-",
          "-",
          "-",
          "-",
          "-",
          "-",
          "-",
          "-",
          "-",
          "-",
          "-",
          "-",
          "-",
          "-",
          "-",
          "-",
          "-",
          "-",
          "-",
          "-",
          "-",
          "-",
          "-",
          "-",
          "-",
          "-",
          "-",
          "-",
          "-",
          "-",
          "-",
          "-",
          "-",
          "-",
          "-",
          "-",
          "-"
         ],
         "xaxis": "x6",
         "y": [
          "67.0",
          "67.6",
          "90.7",
          "69.0",
          "87.8",
          "84.3",
          "61.2",
          "58.5",
          "92.7",
          "59.8",
          "65.2",
          "49.2",
          "96.6",
          "68.3",
          "59.7",
          "43.8",
          "49.8",
          "50.5",
          "59.0",
          "71.2",
          "36.7",
          "90.6",
          "32.4",
          "59.3",
          "94.9",
          "47.9",
          "68.9",
          "33.1",
          "56.4",
          "43.9",
          "33.6",
          "84.8",
          "81.3",
          "87.4",
          "98.8",
          "84.3",
          "64.3",
          "41.2",
          "79.0",
          "87.0",
          "37.0",
          "46.5",
          "81.9",
          "60.6",
          "91.3",
          "33.8",
          "35.3",
          "53.7",
          "44.6",
          "30.3",
          "77.8",
          "34.9",
          "82.0",
          "37.0",
          "62.3",
          "52.9",
          "47.8",
          "37.4",
          "29.0",
          "83.6",
          "92.5",
          "94.5",
          "50.1",
          "59.5",
          "80.4",
          "36.0",
          "53.9",
          "51.5",
          "70.8",
          "63.1",
          "77.9",
          "66.2",
          "78.7",
          "76.6",
          "91.2",
          "42.7",
          "60.5",
          "81.9",
          "52.9",
          "55.7",
          "56.6",
          "55.0",
          "80.4",
          "79.6",
          "38.7",
          "38.8",
          "51.4",
          "51.1",
          "56.1",
          "49.1",
          "40.3",
          "32.2",
          "42.9",
          "69.4",
          "78.8",
          "28.3",
          "39.1",
          "53.2",
          "64.0",
          "57.5",
          "89.7",
          "64.3",
          "64.7",
          "49.7",
          "85.7",
          "86.9",
          "88.6",
          "96.8",
          "54.6",
          "83.5",
          "90.5",
          "83.6",
          "76.7",
          "53.0",
          "75.0",
          "34.4",
          "56.1",
          "94.4",
          "70.1",
          "62.7",
          "79.7",
          "55.5",
          "74.8",
          "73.4",
          "76.7",
          "54.6",
          "84.0",
          "32.2",
          "64.0",
          "31.8",
          "84.7",
          "80.7",
          "44.8",
          "82.4",
          "44.7",
          "85.1",
          "50.6",
          "83.9",
          "54.1",
          "61.6",
          "52.6",
          "49.1",
          "37.0",
          "69.0",
          "34.3",
          "67.6",
          "54.7",
          "35.8",
          "75.8",
          "37.1",
          "61.6",
          "33.1",
          "66.3",
          "79.8",
          "27.5",
          "56.8",
          "29.1",
          "79.5",
          "87.3",
          "71.8",
          "64.4",
          "27.5",
          "56.7",
          "79.3",
          "37.3",
          "60.1",
          "63.2",
          "29.7",
          "56.7",
          "61.0",
          "70.6",
          "59.7",
          "43.3",
          "70.1",
          "87.3",
          "31.7",
          "41.2",
          "57.3",
          "84.1",
          "67.4",
          "40.6",
          "29.5",
          "44.6",
          "91.0",
          "54.7",
          "60.3",
          "27.6",
          "60.5",
          "46.1",
          "63.2",
          "57.0",
          "71.3",
          "37.4",
          "40.6",
          "54.8",
          "60.4",
          "55.8",
          "76.5",
          "83.9",
          "63.0",
          "39.9",
          "44.6",
          "69.3",
          "55.6",
          "53.3",
          "69.9",
          "35.9",
          "73.8",
          "60.6",
          "54.1",
          "47.8",
          "65.3",
          "64.5",
          "53.4",
          "93.4",
          "75.0",
          "26.3",
          "69.5",
          "25.3",
          "55.4",
          "50.7",
          "67.2",
          "79.4",
          "26.0",
          "26.5",
          "35.7",
          "46.4",
          "84.4",
          "88.8",
          "61.1",
          "71.6",
          "55.7",
          "58.7",
          "31.8",
          "42.8",
          "61.4",
          "39.6",
          "70.4",
          "39.5",
          "79.4",
          "63.1",
          "46.8",
          "44.2",
          "57.0",
          "40.6",
          "86.9",
          "63.7",
          "50.2",
          "75.9",
          "59.7",
          "59.4",
          "48.7",
          "73.1",
          "50.2",
          "24.8",
          "71.7",
          "55.4",
          "88.6",
          "49.6",
          "59.6",
          "53.0",
          "59.4",
          "59.1",
          "48.2",
          "32.2",
          "70.6",
          "81.5",
          "43.5",
          "40.3",
          "41.0",
          "54.6",
          "66.3",
          "57.3",
          "39.3",
          "63.1",
          "62.5",
          "30.4",
          "18.2",
          "59.1",
          "56.6",
          "30.7",
          "54.7",
          "29.2",
          "51.3",
          "69.8",
          "23.9",
          "47.8",
          "62.2",
          "21.8",
          "70.8",
          "43.1",
          "26.0",
          "49.0",
          "84.4",
          "35.3",
          "73.3",
          "37.4",
          "47.8",
          "80.8",
          "37.3",
          "80.4",
          "84.2",
          "28.9",
          "48.8",
          "73.1",
          "45.5",
          "53.9",
          "29.1",
          "71.8",
          "42.2",
          "62.3",
          "59.4",
          "41.5",
          "49.8",
          "89.2",
          "43.8",
          "36.7",
          "42.9",
          "44.4",
          "26.9",
          "37.5",
          "19.4",
          "20.7",
          "37.0",
          "29.7",
          "76.1",
          "88.2",
          "52.1",
          "38.8",
          "47.0",
          "49.2",
          "86.7",
          "33.1",
          "47.2",
          "32.2",
          "43.4",
          "45.1",
          "20.7",
          "34.8",
          "30.0",
          "40.4",
          "36.7",
          "67.1",
          "66.9",
          "59.3",
          "45.6",
          "36.1",
          "43.7",
          "41.6",
          "30.7",
          "21.5",
          "65.8",
          "66.5",
          "79.7",
          "53.9",
          "48.6",
          "52.1",
          "91.3",
          "36.0",
          "35.8",
          "48.4",
          "25.2",
          "19.5",
          "16.6",
          "20.0",
          "22.5",
          "26.1",
          "34.5",
          "50.9",
          "85.3",
          "26.7",
          "24.2",
          "26.7",
          "82.6",
          "53.6",
          "86.9",
          "60.0",
          "50.3",
          "38.1",
          "44.1",
          "42.1",
          "37.4",
          "64.8",
          "74.9",
          "46.8",
          "69.1",
          "49.7",
          "29.6",
          "46.2",
          "73.3",
          "48.0",
          "34.3",
          "46.3",
          "21.0",
          "80.3",
          "54.5",
          "43.1",
          "36.0",
          "50.1",
          "33.1",
          "21.4"
         ],
         "yaxis": "y6"
        },
        {
         "marker": {
          "color": [
           1,
           2,
           3,
           4,
           5,
           6,
           7,
           8,
           9,
           10,
           11,
           12,
           13,
           14,
           15,
           16,
           17,
           18,
           19,
           20,
           21,
           22,
           23,
           24,
           25,
           26,
           27,
           28,
           29,
           30,
           31,
           32,
           33,
           34,
           35,
           36,
           37,
           38,
           39,
           40,
           41,
           42,
           43,
           44,
           45,
           46,
           47,
           48,
           49,
           50,
           51,
           52,
           53,
           54,
           55,
           56,
           57,
           58,
           59,
           60,
           61,
           62,
           63,
           64,
           65,
           66,
           67,
           68,
           69,
           70,
           71,
           72,
           73,
           74,
           75,
           76,
           77,
           78,
           79,
           80,
           81,
           82,
           83,
           84,
           85,
           86,
           87,
           88,
           89,
           90,
           91,
           92,
           93,
           94,
           95,
           96,
           97,
           98,
           99,
           100,
           101,
           102,
           103,
           104,
           105,
           106,
           107,
           108,
           109,
           110,
           111,
           112,
           113,
           114,
           115,
           116,
           117,
           118,
           119,
           120,
           121,
           122,
           123,
           124,
           125,
           126,
           127,
           128,
           129,
           130,
           131,
           132,
           133,
           134,
           135,
           136,
           137,
           138,
           139,
           140,
           141,
           142,
           143,
           144,
           145,
           146,
           147,
           148,
           149,
           150,
           151,
           152,
           153,
           154,
           155,
           156,
           157,
           158,
           159,
           160,
           161,
           162,
           163,
           164,
           165,
           166,
           167,
           168,
           169,
           170,
           171,
           172,
           173,
           174,
           175,
           176,
           177,
           178,
           179,
           180,
           181,
           182,
           183,
           184,
           185,
           186,
           187,
           188,
           189,
           190,
           191,
           192,
           193,
           194,
           195,
           196,
           197,
           198,
           199,
           200,
           201,
           202,
           203,
           204,
           205,
           206,
           207,
           208,
           209,
           210,
           211,
           212,
           213,
           214,
           215,
           216,
           217,
           218,
           219,
           220,
           221,
           222,
           223,
           224,
           225,
           226,
           227,
           228,
           229,
           230,
           231,
           232,
           233,
           234,
           235,
           236,
           237,
           238,
           239,
           240,
           241,
           242,
           243,
           244,
           245,
           246,
           247,
           248,
           249,
           250,
           251,
           252,
           253,
           254,
           255,
           256,
           257,
           258,
           259,
           260,
           261,
           262,
           263,
           264,
           265,
           266,
           267,
           268,
           269,
           270,
           271,
           272,
           273,
           274,
           275,
           276,
           277,
           278,
           279,
           280,
           281,
           282,
           283,
           284,
           285,
           286,
           287,
           288,
           289,
           290,
           291,
           292,
           293,
           294,
           295,
           296,
           297,
           298,
           299,
           300,
           301,
           302,
           303,
           304,
           305,
           306,
           307,
           308,
           309,
           310,
           311,
           312,
           313,
           314,
           315,
           316,
           317,
           318,
           319,
           320,
           321,
           322,
           323,
           324,
           325,
           326,
           327,
           328,
           329,
           330,
           331,
           332,
           333,
           334,
           335,
           336,
           337,
           338,
           339,
           340,
           341,
           342,
           343,
           344,
           345,
           346,
           347,
           348,
           349,
           350,
           351,
           352,
           353,
           354,
           355,
           356,
           357,
           358,
           359,
           360,
           361,
           362,
           363,
           364,
           365,
           366,
           367,
           368,
           369,
           370,
           371,
           372,
           373,
           374,
           375,
           376,
           377,
           378,
           379,
           380,
           381,
           382,
           383,
           384,
           385,
           386,
           387,
           388,
           389,
           390,
           391,
           392,
           393,
           394,
           395,
           396,
           397,
           398,
           399,
           400,
           401
          ],
          "colorscale": [
           [
            0.0,
            "rgb(12, 51, 131)"
           ],
           [
            1.0,
            "rgb(217, 30, 30)"
           ]
          ],
          "showscale": false,
          "size": 6
         },
         "mode": "markers",
         "showlegend": false,
         "type": "scatter",
         "x": [
          98.1,
          98.6,
          97.7,
          96.7,
          95.6,
          88.2,
          94.7,
          96.7,
          88.3,
          90.8,
          89.9,
          90.5,
          90.2,
          79.4,
          84.2,
          82.0,
          86.5,
          75.2,
          83.8,
          85.1,
          78.9,
          80.4,
          85.1,
          74.9,
          78.1,
          68.9,
          71.2,
          72.0,
          69.1,
          79.0,
          71.3,
          69.0,
          70.9,
          74.2,
          56.9,
          62.9,
          61.4,
          62.4,
          69.9,
          62.3,
          66.6,
          55.2,
          72.6,
          68.0,
          70.9,
          64.7,
          58.6,
          61.9,
          68.3,
          77.1,
          66.8,
          63.2,
          58.7,
          54.2,
          63.6,
          59.7,
          46.7,
          64.8,
          68.4,
          60.8,
          55.9,
          47.1,
          46.0,
          58.2,
          58.4,
          49.3,
          48.0,
          51.1,
          37.1,
          45.4,
          71.4,
          53.7,
          46.8,
          44.7,
          41.1,
          44.6,
          55.4,
          36.2,
          54.8,
          52.6,
          58.0,
          49.4,
          40.7,
          54.4,
          36.9,
          51.4,
          38.5,
          33.9,
          41.7,
          51.6,
          49.1,
          46.3,
          32.4,
          43.2,
          40.5,
          38.2,
          38.3,
          45.0,
          37.4,
          53.0,
          48.1,
          50.5,
          30.0,
          48.1,
          45.8,
          33.1,
          32.9,
          37.2,
          31.9,
          51.9,
          35.9,
          30.4,
          44.4,
          44.7,
          33.8,
          37.4,
          50.8,
          22.4,
          48.5,
          33.1,
          28.2,
          29.2,
          39.1,
          47.1,
          35.3,
          29.1,
          44.8,
          52.1,
          53.5,
          35.9,
          36.1,
          36.9,
          39.1,
          34.1,
          42.0,
          39.9,
          43.2,
          30.3,
          27.6,
          46.7,
          26.7,
          51.9,
          52.9,
          47.1,
          45.3,
          39.1,
          29.1,
          50.2,
          39.8,
          35.1,
          27.5,
          35.4,
          47.5,
          32.7,
          57.3,
          29.9,
          48.0,
          33.2,
          38.1,
          34.4,
          33.8,
          36.5,
          28.1,
          40.4,
          36.9,
          34.9,
          28.3,
          47.3,
          27.2,
          33.6,
          35.8,
          34.9,
          28.2,
          30.6,
          33.4,
          33.5,
          24.4,
          29.3,
          30.2,
          19.7,
          36.3,
          37.5,
          27.1,
          39.7,
          21.9,
          35.2,
          23.9,
          24.4,
          51.1,
          34.7,
          39.8,
          32.9,
          34.0,
          30.9,
          22.2,
          42.1,
          27.3,
          22.6,
          31.6,
          13.1,
          25.1,
          27.7,
          30.4,
          22.4,
          36.3,
          36.5,
          44.3,
          29.6,
          37.5,
          22.0,
          28.8,
          27.9,
          22.5,
          34.1,
          17.1,
          34.0,
          27.3,
          23.4,
          51.6,
          28.2,
          16.0,
          45.3,
          36.2,
          23.5,
          19.9,
          45.8,
          29.2,
          29.3,
          21.4,
          24.5,
          30.0,
          29.9,
          23.2,
          31.8,
          26.2,
          29.3,
          35.0,
          32.3,
          9.8,
          28.1,
          30.5,
          38.2,
          24.3,
          33.4,
          23.0,
          32.5,
          35.7,
          17.3,
          32.4,
          35.3,
          31.3,
          10.1,
          17.0,
          23.3,
          40.3,
          24.8,
          33.4,
          25.1,
          25.2,
          33.7,
          27.6,
          30.7,
          24.7,
          18.1,
          23.4,
          29.9,
          27.7,
          19.2,
          25.6,
          37.9,
          12.1,
          21.7,
          20.3,
          20.3,
          40.4,
          32.8,
          31.3,
          39.5,
          25.5,
          22.5,
          40.7,
          29.6,
          10.5,
          18.1,
          36.0,
          37.9,
          31.2,
          45.1,
          22.9,
          22.2,
          23.2,
          22.4,
          15.3,
          19.7,
          28.9,
          20.3,
          22.9,
          24.4,
          24.0,
          27.5,
          27.8,
          28.5,
          40.0,
          19.3,
          23.0,
          17.8,
          24.3,
          10.4,
          20.6,
          14.3,
          13.2,
          17.3,
          16.5,
          24.4,
          24.8,
          17.2,
          21.1,
          26.6,
          14.7,
          24.8,
          28.1,
          34.7,
          38.8,
          25.2,
          20.7,
          25.1,
          23.4,
          18.4,
          27.1,
          16.8,
          13.7,
          29.0,
          25.8,
          24.0,
          20.1,
          29.4,
          6.5,
          13.7,
          16.5,
          15.7,
          18.2,
          18.8,
          20.5,
          25.1,
          17.3,
          22.2,
          21.6,
          12.0,
          13.6,
          15.2,
          33.1,
          28.5,
          20.6,
          21.6,
          12.9,
          19.1,
          17.2,
          17.1,
          18.0,
          20.3,
          32.3,
          27.5,
          24.6,
          14.3,
          27.3,
          10.0,
          28.5,
          16.6,
          27.6,
          17.8,
          40.1,
          32.9,
          42.6,
          18.9,
          22.5,
          16.3,
          16.9,
          25.7,
          18.1,
          21.6,
          15.2,
          17.3,
          17.3,
          10.9,
          22.8,
          18.4,
          16.2,
          22.0,
          22.3,
          10.6,
          11.8,
          20.2,
          21.8,
          19.4,
          17.0,
          17.9,
          16.3,
          27.5,
          22.4,
          17.4,
          8.0
         ],
         "xaxis": "x7",
         "y": [
          "94.3",
          "93.3",
          "93.2",
          "92.9",
          "92.0",
          "91.9",
          "90.9",
          "89.5",
          "87.5",
          "87.5",
          "87.1",
          "85.5",
          "84.6",
          "84.4",
          "83.0",
          "81.0",
          "80.9",
          "79.9",
          "79.4",
          "79.3",
          "79.2",
          "78.7",
          "76.1",
          "74.3",
          "73.3",
          "73.2",
          "72.8",
          "72.3",
          "71.9",
          "71.9",
          "71.9",
          "71.8",
          "71.2",
          "70.9",
          "70.9",
          "70.4",
          "70.0",
          "69.9",
          "69.6",
          "69.4",
          "68.6",
          "67.8",
          "67.5",
          "66.8",
          "66.5",
          "65.9",
          "65.9",
          "65.2",
          "65.1",
          "64.8",
          "64.7",
          "64.5",
          "64.5",
          "64.1",
          "63.7",
          "63.7",
          "63.6",
          "62.9",
          "62.8",
          "62.7",
          "62.2",
          "62.2",
          "61.9",
          "61.3",
          "61.2",
          "61.1",
          "61.0",
          "60.7",
          "59.8",
          "59.6",
          "59.2",
          "59.1",
          "59.0",
          "58.9",
          "58.4",
          "58.4",
          "58.2",
          "58.1",
          "58.0",
          "57.9",
          "57.6",
          "57.3",
          "56.9",
          "56.9",
          "56.6",
          "56.5",
          "56.5",
          "56.4",
          "56.4",
          "56.2",
          "56.1",
          "56.1",
          "55.5",
          "55.3",
          "55.3",
          "55.2",
          "55.1",
          "54.6",
          "54.6",
          "54.6",
          "54.3",
          "54.0",
          "53.9",
          "53.9",
          "53.9",
          "53.9",
          "53.8",
          "53.8",
          "53.7",
          "53.7",
          "53.6",
          "53.6",
          "53.4",
          "53.4",
          "53.4",
          "53.2",
          "53.1",
          "53.0",
          "52.9",
          "52.8",
          "52.7",
          "52.7",
          "52.7",
          "52.6",
          "52.6",
          "52.5",
          "52.5",
          "52.5",
          "52.4",
          "52.1",
          "52.0",
          "51.9",
          "51.9",
          "51.9",
          "51.6",
          "51.4",
          "51.4",
          "51.2",
          "51.1",
          "51.0",
          "50.9",
          "50.9",
          "50.9",
          "50.5",
          "50.5",
          "50.4",
          "50.3",
          "50.2",
          "50.2",
          "50.1",
          "50.1",
          "50.0",
          "49.9",
          "49.7",
          "49.3",
          "49.2",
          "49.1",
          "49.1",
          "49.1",
          "49.0",
          "49.0",
          "48.6",
          "48.3",
          "48.2",
          "48.1",
          "48.1",
          "48.1",
          "48.1",
          "48.0",
          "47.9",
          "47.8",
          "47.8",
          "47.7",
          "47.7",
          "47.5",
          "47.5",
          "47.3",
          "47.1",
          "47.1",
          "47.0",
          "47.0",
          "46.9",
          "46.9",
          "46.9",
          "46.8",
          "46.7",
          "46.7",
          "46.6",
          "46.6",
          "46.6",
          "46.5",
          "46.3",
          "46.2",
          "46.2",
          "46.1",
          "46.0",
          "46.0",
          "45.9",
          "45.7",
          "45.6",
          "45.6",
          "-",
          "-",
          "-",
          "-",
          "-",
          "-",
          "-",
          "-",
          "-",
          "-",
          "-",
          "-",
          "-",
          "-",
          "-",
          "-",
          "-",
          "-",
          "-",
          "-",
          "-",
          "-",
          "-",
          "-",
          "-",
          "-",
          "-",
          "-",
          "-",
          "-",
          "-",
          "-",
          "-",
          "-",
          "-",
          "-",
          "-",
          "-",
          "-",
          "-",
          "-",
          "-",
          "-",
          "-",
          "-",
          "-",
          "-",
          "-",
          "-",
          "-",
          "-",
          "-",
          "-",
          "-",
          "-",
          "-",
          "-",
          "-",
          "-",
          "-",
          "-",
          "-",
          "-",
          "-",
          "-",
          "-",
          "-",
          "-",
          "-",
          "-",
          "-",
          "-",
          "-",
          "-",
          "-",
          "-",
          "-",
          "-",
          "-",
          "-",
          "-",
          "-",
          "-",
          "-",
          "-",
          "-",
          "-",
          "-",
          "-",
          "-",
          "-",
          "-",
          "-",
          "-",
          "-",
          "-",
          "-",
          "-",
          "-",
          "-",
          "-",
          "-",
          "-",
          "-",
          "-",
          "-",
          "-",
          "-",
          "-",
          "-",
          "-",
          "-",
          "-",
          "-",
          "-",
          "-",
          "-",
          "-",
          "-",
          "-",
          "-",
          "-",
          "-",
          "-",
          "-",
          "-",
          "-",
          "-",
          "-",
          "-",
          "-",
          "-",
          "-",
          "-",
          "-",
          "-",
          "-",
          "-",
          "-",
          "-",
          "-",
          "-",
          "-",
          "-",
          "-",
          "-",
          "-",
          "-",
          "-",
          "-",
          "-",
          "-",
          "-",
          "-",
          "-",
          "-",
          "-",
          "-",
          "-",
          "-",
          "-",
          "-",
          "-",
          "-",
          "-",
          "-",
          "-",
          "-",
          "-",
          "-",
          "-",
          "-",
          "-",
          "-",
          "-",
          "-",
          "-",
          "-",
          "-",
          "-",
          "-",
          "-",
          "-",
          "-",
          "-",
          "-",
          "-",
          "-",
          "-",
          "-",
          "-",
          "-",
          "-",
          "-",
          "-",
          "-",
          "-",
          "-",
          "-",
          "-"
         ],
         "yaxis": "y7"
        },
        {
         "marker": {
          "color": [
           1,
           2,
           3,
           4,
           5,
           6,
           7,
           8,
           9,
           10,
           11,
           12,
           13,
           14,
           15,
           16,
           17,
           18,
           19,
           20,
           21,
           22,
           23,
           24,
           25,
           26,
           27,
           28,
           29,
           30,
           31,
           32,
           33,
           34,
           35,
           36,
           37,
           38,
           39,
           40,
           41,
           42,
           43,
           44,
           45,
           46,
           47,
           48,
           49,
           50,
           51,
           52,
           53,
           54,
           55,
           56,
           57,
           58,
           59,
           60,
           61,
           62,
           63,
           64,
           65,
           66,
           67,
           68,
           69,
           70,
           71,
           72,
           73,
           74,
           75,
           76,
           77,
           78,
           79,
           80,
           81,
           82,
           83,
           84,
           85,
           86,
           87,
           88,
           89,
           90,
           91,
           92,
           93,
           94,
           95,
           96,
           97,
           98,
           99,
           100,
           101,
           102,
           103,
           104,
           105,
           106,
           107,
           108,
           109,
           110,
           111,
           112,
           113,
           114,
           115,
           116,
           117,
           118,
           119,
           120,
           121,
           122,
           123,
           124,
           125,
           126,
           127,
           128,
           129,
           130,
           131,
           132,
           133,
           134,
           135,
           136,
           137,
           138,
           139,
           140,
           141,
           142,
           143,
           144,
           145,
           146,
           147,
           148,
           149,
           150,
           151,
           152,
           153,
           154,
           155,
           156,
           157,
           158,
           159,
           160,
           161,
           162,
           163,
           164,
           165,
           166,
           167,
           168,
           169,
           170,
           171,
           172,
           173,
           174,
           175,
           176,
           177,
           178,
           179,
           180,
           181,
           182,
           183,
           184,
           185,
           186,
           187,
           188,
           189,
           190,
           191,
           192,
           193,
           194,
           195,
           196,
           197,
           198,
           199,
           200,
           201,
           202,
           203,
           204,
           205,
           206,
           207,
           208,
           209,
           210,
           211,
           212,
           213,
           214,
           215,
           216,
           217,
           218,
           219,
           220,
           221,
           222,
           223,
           224,
           225,
           226,
           227,
           228,
           229,
           230,
           231,
           232,
           233,
           234,
           235,
           236,
           237,
           238,
           239,
           240,
           241,
           242,
           243,
           244,
           245,
           246,
           247,
           248,
           249,
           250,
           251,
           252,
           253,
           254,
           255,
           256,
           257,
           258,
           259,
           260,
           261,
           262,
           263,
           264,
           265,
           266,
           267,
           268,
           269,
           270,
           271,
           272,
           273,
           274,
           275,
           276,
           277,
           278,
           279,
           280,
           281,
           282,
           283,
           284,
           285,
           286,
           287,
           288,
           289,
           290,
           291,
           292,
           293,
           294,
           295,
           296,
           297,
           298,
           299,
           300,
           301,
           302,
           303,
           304,
           305,
           306,
           307,
           308,
           309,
           310,
           311,
           312,
           313,
           314,
           315,
           316,
           317,
           318,
           319,
           320,
           321,
           322,
           323,
           324,
           325,
           326,
           327,
           328,
           329,
           330,
           331,
           332,
           333,
           334,
           335,
           336,
           337,
           338,
           339,
           340,
           341,
           342,
           343,
           344,
           345,
           346,
           347,
           348,
           349,
           350,
           351,
           352,
           353,
           354,
           355,
           356,
           357,
           358,
           359,
           360,
           361,
           362,
           363,
           364,
           365,
           366,
           367,
           368,
           369,
           370,
           371,
           372,
           373,
           374,
           375,
           376,
           377,
           378,
           379,
           380,
           381,
           382,
           383,
           384,
           385,
           386,
           387,
           388,
           389,
           390,
           391,
           392,
           393,
           394,
           395,
           396,
           397,
           398,
           399,
           400,
           401
          ],
          "colorscale": [
           [
            0.0,
            "rgb(12, 51, 131)"
           ],
           [
            1.0,
            "rgb(217, 30, 30)"
           ]
          ],
          "showscale": false,
          "size": 6
         },
         "mode": "markers",
         "showlegend": false,
         "type": "scatter",
         "x": [
          "67.0",
          "67.6",
          "90.7",
          "69.0",
          "87.8",
          "84.3",
          "61.2",
          "58.5",
          "92.7",
          "59.8",
          "65.2",
          "49.2",
          "96.6",
          "68.3",
          "59.7",
          "43.8",
          "49.8",
          "50.5",
          "59.0",
          "71.2",
          "36.7",
          "90.6",
          "32.4",
          "59.3",
          "94.9",
          "47.9",
          "68.9",
          "33.1",
          "56.4",
          "43.9",
          "33.6",
          "84.8",
          "81.3",
          "87.4",
          "98.8",
          "84.3",
          "64.3",
          "41.2",
          "79.0",
          "87.0",
          "37.0",
          "46.5",
          "81.9",
          "60.6",
          "91.3",
          "33.8",
          "35.3",
          "53.7",
          "44.6",
          "30.3",
          "77.8",
          "34.9",
          "82.0",
          "37.0",
          "62.3",
          "52.9",
          "47.8",
          "37.4",
          "29.0",
          "83.6",
          "92.5",
          "94.5",
          "50.1",
          "59.5",
          "80.4",
          "36.0",
          "53.9",
          "51.5",
          "70.8",
          "63.1",
          "77.9",
          "66.2",
          "78.7",
          "76.6",
          "91.2",
          "42.7",
          "60.5",
          "81.9",
          "52.9",
          "55.7",
          "56.6",
          "55.0",
          "80.4",
          "79.6",
          "38.7",
          "38.8",
          "51.4",
          "51.1",
          "56.1",
          "49.1",
          "40.3",
          "32.2",
          "42.9",
          "69.4",
          "78.8",
          "28.3",
          "39.1",
          "53.2",
          "64.0",
          "57.5",
          "89.7",
          "64.3",
          "64.7",
          "49.7",
          "85.7",
          "86.9",
          "88.6",
          "96.8",
          "54.6",
          "83.5",
          "90.5",
          "83.6",
          "76.7",
          "53.0",
          "75.0",
          "34.4",
          "56.1",
          "94.4",
          "70.1",
          "62.7",
          "79.7",
          "55.5",
          "74.8",
          "73.4",
          "76.7",
          "54.6",
          "84.0",
          "32.2",
          "64.0",
          "31.8",
          "84.7",
          "80.7",
          "44.8",
          "82.4",
          "44.7",
          "85.1",
          "50.6",
          "83.9",
          "54.1",
          "61.6",
          "52.6",
          "49.1",
          "37.0",
          "69.0",
          "34.3",
          "67.6",
          "54.7",
          "35.8",
          "75.8",
          "37.1",
          "61.6",
          "33.1",
          "66.3",
          "79.8",
          "27.5",
          "56.8",
          "29.1",
          "79.5",
          "87.3",
          "71.8",
          "64.4",
          "27.5",
          "56.7",
          "79.3",
          "37.3",
          "60.1",
          "63.2",
          "29.7",
          "56.7",
          "61.0",
          "70.6",
          "59.7",
          "43.3",
          "70.1",
          "87.3",
          "31.7",
          "41.2",
          "57.3",
          "84.1",
          "67.4",
          "40.6",
          "29.5",
          "44.6",
          "91.0",
          "54.7",
          "60.3",
          "27.6",
          "60.5",
          "46.1",
          "63.2",
          "57.0",
          "71.3",
          "37.4",
          "40.6",
          "54.8",
          "60.4",
          "55.8",
          "76.5",
          "83.9",
          "63.0",
          "39.9",
          "44.6",
          "69.3",
          "55.6",
          "53.3",
          "69.9",
          "35.9",
          "73.8",
          "60.6",
          "54.1",
          "47.8",
          "65.3",
          "64.5",
          "53.4",
          "93.4",
          "75.0",
          "26.3",
          "69.5",
          "25.3",
          "55.4",
          "50.7",
          "67.2",
          "79.4",
          "26.0",
          "26.5",
          "35.7",
          "46.4",
          "84.4",
          "88.8",
          "61.1",
          "71.6",
          "55.7",
          "58.7",
          "31.8",
          "42.8",
          "61.4",
          "39.6",
          "70.4",
          "39.5",
          "79.4",
          "63.1",
          "46.8",
          "44.2",
          "57.0",
          "40.6",
          "86.9",
          "63.7",
          "50.2",
          "75.9",
          "59.7",
          "59.4",
          "48.7",
          "73.1",
          "50.2",
          "24.8",
          "71.7",
          "55.4",
          "88.6",
          "49.6",
          "59.6",
          "53.0",
          "59.4",
          "59.1",
          "48.2",
          "32.2",
          "70.6",
          "81.5",
          "43.5",
          "40.3",
          "41.0",
          "54.6",
          "66.3",
          "57.3",
          "39.3",
          "63.1",
          "62.5",
          "30.4",
          "18.2",
          "59.1",
          "56.6",
          "30.7",
          "54.7",
          "29.2",
          "51.3",
          "69.8",
          "23.9",
          "47.8",
          "62.2",
          "21.8",
          "70.8",
          "43.1",
          "26.0",
          "49.0",
          "84.4",
          "35.3",
          "73.3",
          "37.4",
          "47.8",
          "80.8",
          "37.3",
          "80.4",
          "84.2",
          "28.9",
          "48.8",
          "73.1",
          "45.5",
          "53.9",
          "29.1",
          "71.8",
          "42.2",
          "62.3",
          "59.4",
          "41.5",
          "49.8",
          "89.2",
          "43.8",
          "36.7",
          "42.9",
          "44.4",
          "26.9",
          "37.5",
          "19.4",
          "20.7",
          "37.0",
          "29.7",
          "76.1",
          "88.2",
          "52.1",
          "38.8",
          "47.0",
          "49.2",
          "86.7",
          "33.1",
          "47.2",
          "32.2",
          "43.4",
          "45.1",
          "20.7",
          "34.8",
          "30.0",
          "40.4",
          "36.7",
          "67.1",
          "66.9",
          "59.3",
          "45.6",
          "36.1",
          "43.7",
          "41.6",
          "30.7",
          "21.5",
          "65.8",
          "66.5",
          "79.7",
          "53.9",
          "48.6",
          "52.1",
          "91.3",
          "36.0",
          "35.8",
          "48.4",
          "25.2",
          "19.5",
          "16.6",
          "20.0",
          "22.5",
          "26.1",
          "34.5",
          "50.9",
          "85.3",
          "26.7",
          "24.2",
          "26.7",
          "82.6",
          "53.6",
          "86.9",
          "60.0",
          "50.3",
          "38.1",
          "44.1",
          "42.1",
          "37.4",
          "64.8",
          "74.9",
          "46.8",
          "69.1",
          "49.7",
          "29.6",
          "46.2",
          "73.3",
          "48.0",
          "34.3",
          "46.3",
          "21.0",
          "80.3",
          "54.5",
          "43.1",
          "36.0",
          "50.1",
          "33.1",
          "21.4"
         ],
         "xaxis": "x8",
         "y": [
          "94.3",
          "93.3",
          "93.2",
          "92.9",
          "92.0",
          "91.9",
          "90.9",
          "89.5",
          "87.5",
          "87.5",
          "87.1",
          "85.5",
          "84.6",
          "84.4",
          "83.0",
          "81.0",
          "80.9",
          "79.9",
          "79.4",
          "79.3",
          "79.2",
          "78.7",
          "76.1",
          "74.3",
          "73.3",
          "73.2",
          "72.8",
          "72.3",
          "71.9",
          "71.9",
          "71.9",
          "71.8",
          "71.2",
          "70.9",
          "70.9",
          "70.4",
          "70.0",
          "69.9",
          "69.6",
          "69.4",
          "68.6",
          "67.8",
          "67.5",
          "66.8",
          "66.5",
          "65.9",
          "65.9",
          "65.2",
          "65.1",
          "64.8",
          "64.7",
          "64.5",
          "64.5",
          "64.1",
          "63.7",
          "63.7",
          "63.6",
          "62.9",
          "62.8",
          "62.7",
          "62.2",
          "62.2",
          "61.9",
          "61.3",
          "61.2",
          "61.1",
          "61.0",
          "60.7",
          "59.8",
          "59.6",
          "59.2",
          "59.1",
          "59.0",
          "58.9",
          "58.4",
          "58.4",
          "58.2",
          "58.1",
          "58.0",
          "57.9",
          "57.6",
          "57.3",
          "56.9",
          "56.9",
          "56.6",
          "56.5",
          "56.5",
          "56.4",
          "56.4",
          "56.2",
          "56.1",
          "56.1",
          "55.5",
          "55.3",
          "55.3",
          "55.2",
          "55.1",
          "54.6",
          "54.6",
          "54.6",
          "54.3",
          "54.0",
          "53.9",
          "53.9",
          "53.9",
          "53.9",
          "53.8",
          "53.8",
          "53.7",
          "53.7",
          "53.6",
          "53.6",
          "53.4",
          "53.4",
          "53.4",
          "53.2",
          "53.1",
          "53.0",
          "52.9",
          "52.8",
          "52.7",
          "52.7",
          "52.7",
          "52.6",
          "52.6",
          "52.5",
          "52.5",
          "52.5",
          "52.4",
          "52.1",
          "52.0",
          "51.9",
          "51.9",
          "51.9",
          "51.6",
          "51.4",
          "51.4",
          "51.2",
          "51.1",
          "51.0",
          "50.9",
          "50.9",
          "50.9",
          "50.5",
          "50.5",
          "50.4",
          "50.3",
          "50.2",
          "50.2",
          "50.1",
          "50.1",
          "50.0",
          "49.9",
          "49.7",
          "49.3",
          "49.2",
          "49.1",
          "49.1",
          "49.1",
          "49.0",
          "49.0",
          "48.6",
          "48.3",
          "48.2",
          "48.1",
          "48.1",
          "48.1",
          "48.1",
          "48.0",
          "47.9",
          "47.8",
          "47.8",
          "47.7",
          "47.7",
          "47.5",
          "47.5",
          "47.3",
          "47.1",
          "47.1",
          "47.0",
          "47.0",
          "46.9",
          "46.9",
          "46.9",
          "46.8",
          "46.7",
          "46.7",
          "46.6",
          "46.6",
          "46.6",
          "46.5",
          "46.3",
          "46.2",
          "46.2",
          "46.1",
          "46.0",
          "46.0",
          "45.9",
          "45.7",
          "45.6",
          "45.6",
          "-",
          "-",
          "-",
          "-",
          "-",
          "-",
          "-",
          "-",
          "-",
          "-",
          "-",
          "-",
          "-",
          "-",
          "-",
          "-",
          "-",
          "-",
          "-",
          "-",
          "-",
          "-",
          "-",
          "-",
          "-",
          "-",
          "-",
          "-",
          "-",
          "-",
          "-",
          "-",
          "-",
          "-",
          "-",
          "-",
          "-",
          "-",
          "-",
          "-",
          "-",
          "-",
          "-",
          "-",
          "-",
          "-",
          "-",
          "-",
          "-",
          "-",
          "-",
          "-",
          "-",
          "-",
          "-",
          "-",
          "-",
          "-",
          "-",
          "-",
          "-",
          "-",
          "-",
          "-",
          "-",
          "-",
          "-",
          "-",
          "-",
          "-",
          "-",
          "-",
          "-",
          "-",
          "-",
          "-",
          "-",
          "-",
          "-",
          "-",
          "-",
          "-",
          "-",
          "-",
          "-",
          "-",
          "-",
          "-",
          "-",
          "-",
          "-",
          "-",
          "-",
          "-",
          "-",
          "-",
          "-",
          "-",
          "-",
          "-",
          "-",
          "-",
          "-",
          "-",
          "-",
          "-",
          "-",
          "-",
          "-",
          "-",
          "-",
          "-",
          "-",
          "-",
          "-",
          "-",
          "-",
          "-",
          "-",
          "-",
          "-",
          "-",
          "-",
          "-",
          "-",
          "-",
          "-",
          "-",
          "-",
          "-",
          "-",
          "-",
          "-",
          "-",
          "-",
          "-",
          "-",
          "-",
          "-",
          "-",
          "-",
          "-",
          "-",
          "-",
          "-",
          "-",
          "-",
          "-",
          "-",
          "-",
          "-",
          "-",
          "-",
          "-",
          "-",
          "-",
          "-",
          "-",
          "-",
          "-",
          "-",
          "-",
          "-",
          "-",
          "-",
          "-",
          "-",
          "-",
          "-",
          "-",
          "-",
          "-",
          "-",
          "-",
          "-",
          "-",
          "-",
          "-",
          "-",
          "-",
          "-",
          "-",
          "-",
          "-",
          "-",
          "-",
          "-",
          "-",
          "-",
          "-",
          "-",
          "-",
          "-",
          "-",
          "-",
          "-",
          "-",
          "-",
          "-",
          "-"
         ],
         "yaxis": "y8"
        },
        {
         "marker": {
          "color": "rgb(12, 51, 131)"
         },
         "showlegend": false,
         "type": "box",
         "xaxis": "x9",
         "y": [
          "94.3",
          "93.3",
          "93.2",
          "92.9",
          "92.0",
          "91.9",
          "90.9",
          "89.5",
          "87.5",
          "87.5",
          "87.1",
          "85.5",
          "84.6",
          "84.4",
          "83.0",
          "81.0",
          "80.9",
          "79.9",
          "79.4",
          "79.3",
          "79.2",
          "78.7",
          "76.1",
          "74.3",
          "73.3",
          "73.2",
          "72.8",
          "72.3",
          "71.9",
          "71.9",
          "71.9",
          "71.8",
          "71.2",
          "70.9",
          "70.9",
          "70.4",
          "70.0",
          "69.9",
          "69.6",
          "69.4",
          "68.6",
          "67.8",
          "67.5",
          "66.8",
          "66.5",
          "65.9",
          "65.9",
          "65.2",
          "65.1",
          "64.8",
          "64.7",
          "64.5",
          "64.5",
          "64.1",
          "63.7",
          "63.7",
          "63.6",
          "62.9",
          "62.8",
          "62.7",
          "62.2",
          "62.2",
          "61.9",
          "61.3",
          "61.2",
          "61.1",
          "61.0",
          "60.7",
          "59.8",
          "59.6",
          "59.2",
          "59.1",
          "59.0",
          "58.9",
          "58.4",
          "58.4",
          "58.2",
          "58.1",
          "58.0",
          "57.9",
          "57.6",
          "57.3",
          "56.9",
          "56.9",
          "56.6",
          "56.5",
          "56.5",
          "56.4",
          "56.4",
          "56.2",
          "56.1",
          "56.1",
          "55.5",
          "55.3",
          "55.3",
          "55.2",
          "55.1",
          "54.6",
          "54.6",
          "54.6",
          "54.3",
          "54.0",
          "53.9",
          "53.9",
          "53.9",
          "53.9",
          "53.8",
          "53.8",
          "53.7",
          "53.7",
          "53.6",
          "53.6",
          "53.4",
          "53.4",
          "53.4",
          "53.2",
          "53.1",
          "53.0",
          "52.9",
          "52.8",
          "52.7",
          "52.7",
          "52.7",
          "52.6",
          "52.6",
          "52.5",
          "52.5",
          "52.5",
          "52.4",
          "52.1",
          "52.0",
          "51.9",
          "51.9",
          "51.9",
          "51.6",
          "51.4",
          "51.4",
          "51.2",
          "51.1",
          "51.0",
          "50.9",
          "50.9",
          "50.9",
          "50.5",
          "50.5",
          "50.4",
          "50.3",
          "50.2",
          "50.2",
          "50.1",
          "50.1",
          "50.0",
          "49.9",
          "49.7",
          "49.3",
          "49.2",
          "49.1",
          "49.1",
          "49.1",
          "49.0",
          "49.0",
          "48.6",
          "48.3",
          "48.2",
          "48.1",
          "48.1",
          "48.1",
          "48.1",
          "48.0",
          "47.9",
          "47.8",
          "47.8",
          "47.7",
          "47.7",
          "47.5",
          "47.5",
          "47.3",
          "47.1",
          "47.1",
          "47.0",
          "47.0",
          "46.9",
          "46.9",
          "46.9",
          "46.8",
          "46.7",
          "46.7",
          "46.6",
          "46.6",
          "46.6",
          "46.5",
          "46.3",
          "46.2",
          "46.2",
          "46.1",
          "46.0",
          "46.0",
          "45.9",
          "45.7",
          "45.6",
          "45.6",
          "-",
          "-",
          "-",
          "-",
          "-",
          "-",
          "-",
          "-",
          "-",
          "-",
          "-",
          "-",
          "-",
          "-",
          "-",
          "-",
          "-",
          "-",
          "-",
          "-",
          "-",
          "-",
          "-",
          "-",
          "-",
          "-",
          "-",
          "-",
          "-",
          "-",
          "-",
          "-",
          "-",
          "-",
          "-",
          "-",
          "-",
          "-",
          "-",
          "-",
          "-",
          "-",
          "-",
          "-",
          "-",
          "-",
          "-",
          "-",
          "-",
          "-",
          "-",
          "-",
          "-",
          "-",
          "-",
          "-",
          "-",
          "-",
          "-",
          "-",
          "-",
          "-",
          "-",
          "-",
          "-",
          "-",
          "-",
          "-",
          "-",
          "-",
          "-",
          "-",
          "-",
          "-",
          "-",
          "-",
          "-",
          "-",
          "-",
          "-",
          "-",
          "-",
          "-",
          "-",
          "-",
          "-",
          "-",
          "-",
          "-",
          "-",
          "-",
          "-",
          "-",
          "-",
          "-",
          "-",
          "-",
          "-",
          "-",
          "-",
          "-",
          "-",
          "-",
          "-",
          "-",
          "-",
          "-",
          "-",
          "-",
          "-",
          "-",
          "-",
          "-",
          "-",
          "-",
          "-",
          "-",
          "-",
          "-",
          "-",
          "-",
          "-",
          "-",
          "-",
          "-",
          "-",
          "-",
          "-",
          "-",
          "-",
          "-",
          "-",
          "-",
          "-",
          "-",
          "-",
          "-",
          "-",
          "-",
          "-",
          "-",
          "-",
          "-",
          "-",
          "-",
          "-",
          "-",
          "-",
          "-",
          "-",
          "-",
          "-",
          "-",
          "-",
          "-",
          "-",
          "-",
          "-",
          "-",
          "-",
          "-",
          "-",
          "-",
          "-",
          "-",
          "-",
          "-",
          "-",
          "-",
          "-",
          "-",
          "-",
          "-",
          "-",
          "-",
          "-",
          "-",
          "-",
          "-",
          "-",
          "-",
          "-",
          "-",
          "-",
          "-",
          "-",
          "-",
          "-",
          "-",
          "-",
          "-",
          "-",
          "-",
          "-",
          "-",
          "-",
          "-",
          "-",
          "-",
          "-"
         ],
         "yaxis": "y9"
        }
       ],
       "layout": {
        "height": 700,
        "showlegend": true,
        "template": {
         "data": {
          "bar": [
           {
            "error_x": {
             "color": "#2a3f5f"
            },
            "error_y": {
             "color": "#2a3f5f"
            },
            "marker": {
             "line": {
              "color": "#E5ECF6",
              "width": 0.5
             },
             "pattern": {
              "fillmode": "overlay",
              "size": 10,
              "solidity": 0.2
             }
            },
            "type": "bar"
           }
          ],
          "barpolar": [
           {
            "marker": {
             "line": {
              "color": "#E5ECF6",
              "width": 0.5
             },
             "pattern": {
              "fillmode": "overlay",
              "size": 10,
              "solidity": 0.2
             }
            },
            "type": "barpolar"
           }
          ],
          "carpet": [
           {
            "aaxis": {
             "endlinecolor": "#2a3f5f",
             "gridcolor": "white",
             "linecolor": "white",
             "minorgridcolor": "white",
             "startlinecolor": "#2a3f5f"
            },
            "baxis": {
             "endlinecolor": "#2a3f5f",
             "gridcolor": "white",
             "linecolor": "white",
             "minorgridcolor": "white",
             "startlinecolor": "#2a3f5f"
            },
            "type": "carpet"
           }
          ],
          "choropleth": [
           {
            "colorbar": {
             "outlinewidth": 0,
             "ticks": ""
            },
            "type": "choropleth"
           }
          ],
          "contour": [
           {
            "colorbar": {
             "outlinewidth": 0,
             "ticks": ""
            },
            "colorscale": [
             [
              0.0,
              "#0d0887"
             ],
             [
              0.1111111111111111,
              "#46039f"
             ],
             [
              0.2222222222222222,
              "#7201a8"
             ],
             [
              0.3333333333333333,
              "#9c179e"
             ],
             [
              0.4444444444444444,
              "#bd3786"
             ],
             [
              0.5555555555555556,
              "#d8576b"
             ],
             [
              0.6666666666666666,
              "#ed7953"
             ],
             [
              0.7777777777777778,
              "#fb9f3a"
             ],
             [
              0.8888888888888888,
              "#fdca26"
             ],
             [
              1.0,
              "#f0f921"
             ]
            ],
            "type": "contour"
           }
          ],
          "contourcarpet": [
           {
            "colorbar": {
             "outlinewidth": 0,
             "ticks": ""
            },
            "type": "contourcarpet"
           }
          ],
          "heatmap": [
           {
            "colorbar": {
             "outlinewidth": 0,
             "ticks": ""
            },
            "colorscale": [
             [
              0.0,
              "#0d0887"
             ],
             [
              0.1111111111111111,
              "#46039f"
             ],
             [
              0.2222222222222222,
              "#7201a8"
             ],
             [
              0.3333333333333333,
              "#9c179e"
             ],
             [
              0.4444444444444444,
              "#bd3786"
             ],
             [
              0.5555555555555556,
              "#d8576b"
             ],
             [
              0.6666666666666666,
              "#ed7953"
             ],
             [
              0.7777777777777778,
              "#fb9f3a"
             ],
             [
              0.8888888888888888,
              "#fdca26"
             ],
             [
              1.0,
              "#f0f921"
             ]
            ],
            "type": "heatmap"
           }
          ],
          "heatmapgl": [
           {
            "colorbar": {
             "outlinewidth": 0,
             "ticks": ""
            },
            "colorscale": [
             [
              0.0,
              "#0d0887"
             ],
             [
              0.1111111111111111,
              "#46039f"
             ],
             [
              0.2222222222222222,
              "#7201a8"
             ],
             [
              0.3333333333333333,
              "#9c179e"
             ],
             [
              0.4444444444444444,
              "#bd3786"
             ],
             [
              0.5555555555555556,
              "#d8576b"
             ],
             [
              0.6666666666666666,
              "#ed7953"
             ],
             [
              0.7777777777777778,
              "#fb9f3a"
             ],
             [
              0.8888888888888888,
              "#fdca26"
             ],
             [
              1.0,
              "#f0f921"
             ]
            ],
            "type": "heatmapgl"
           }
          ],
          "histogram": [
           {
            "marker": {
             "pattern": {
              "fillmode": "overlay",
              "size": 10,
              "solidity": 0.2
             }
            },
            "type": "histogram"
           }
          ],
          "histogram2d": [
           {
            "colorbar": {
             "outlinewidth": 0,
             "ticks": ""
            },
            "colorscale": [
             [
              0.0,
              "#0d0887"
             ],
             [
              0.1111111111111111,
              "#46039f"
             ],
             [
              0.2222222222222222,
              "#7201a8"
             ],
             [
              0.3333333333333333,
              "#9c179e"
             ],
             [
              0.4444444444444444,
              "#bd3786"
             ],
             [
              0.5555555555555556,
              "#d8576b"
             ],
             [
              0.6666666666666666,
              "#ed7953"
             ],
             [
              0.7777777777777778,
              "#fb9f3a"
             ],
             [
              0.8888888888888888,
              "#fdca26"
             ],
             [
              1.0,
              "#f0f921"
             ]
            ],
            "type": "histogram2d"
           }
          ],
          "histogram2dcontour": [
           {
            "colorbar": {
             "outlinewidth": 0,
             "ticks": ""
            },
            "colorscale": [
             [
              0.0,
              "#0d0887"
             ],
             [
              0.1111111111111111,
              "#46039f"
             ],
             [
              0.2222222222222222,
              "#7201a8"
             ],
             [
              0.3333333333333333,
              "#9c179e"
             ],
             [
              0.4444444444444444,
              "#bd3786"
             ],
             [
              0.5555555555555556,
              "#d8576b"
             ],
             [
              0.6666666666666666,
              "#ed7953"
             ],
             [
              0.7777777777777778,
              "#fb9f3a"
             ],
             [
              0.8888888888888888,
              "#fdca26"
             ],
             [
              1.0,
              "#f0f921"
             ]
            ],
            "type": "histogram2dcontour"
           }
          ],
          "mesh3d": [
           {
            "colorbar": {
             "outlinewidth": 0,
             "ticks": ""
            },
            "type": "mesh3d"
           }
          ],
          "parcoords": [
           {
            "line": {
             "colorbar": {
              "outlinewidth": 0,
              "ticks": ""
             }
            },
            "type": "parcoords"
           }
          ],
          "pie": [
           {
            "automargin": true,
            "type": "pie"
           }
          ],
          "scatter": [
           {
            "fillpattern": {
             "fillmode": "overlay",
             "size": 10,
             "solidity": 0.2
            },
            "type": "scatter"
           }
          ],
          "scatter3d": [
           {
            "line": {
             "colorbar": {
              "outlinewidth": 0,
              "ticks": ""
             }
            },
            "marker": {
             "colorbar": {
              "outlinewidth": 0,
              "ticks": ""
             }
            },
            "type": "scatter3d"
           }
          ],
          "scattercarpet": [
           {
            "marker": {
             "colorbar": {
              "outlinewidth": 0,
              "ticks": ""
             }
            },
            "type": "scattercarpet"
           }
          ],
          "scattergeo": [
           {
            "marker": {
             "colorbar": {
              "outlinewidth": 0,
              "ticks": ""
             }
            },
            "type": "scattergeo"
           }
          ],
          "scattergl": [
           {
            "marker": {
             "colorbar": {
              "outlinewidth": 0,
              "ticks": ""
             }
            },
            "type": "scattergl"
           }
          ],
          "scattermapbox": [
           {
            "marker": {
             "colorbar": {
              "outlinewidth": 0,
              "ticks": ""
             }
            },
            "type": "scattermapbox"
           }
          ],
          "scatterpolar": [
           {
            "marker": {
             "colorbar": {
              "outlinewidth": 0,
              "ticks": ""
             }
            },
            "type": "scatterpolar"
           }
          ],
          "scatterpolargl": [
           {
            "marker": {
             "colorbar": {
              "outlinewidth": 0,
              "ticks": ""
             }
            },
            "type": "scatterpolargl"
           }
          ],
          "scatterternary": [
           {
            "marker": {
             "colorbar": {
              "outlinewidth": 0,
              "ticks": ""
             }
            },
            "type": "scatterternary"
           }
          ],
          "surface": [
           {
            "colorbar": {
             "outlinewidth": 0,
             "ticks": ""
            },
            "colorscale": [
             [
              0.0,
              "#0d0887"
             ],
             [
              0.1111111111111111,
              "#46039f"
             ],
             [
              0.2222222222222222,
              "#7201a8"
             ],
             [
              0.3333333333333333,
              "#9c179e"
             ],
             [
              0.4444444444444444,
              "#bd3786"
             ],
             [
              0.5555555555555556,
              "#d8576b"
             ],
             [
              0.6666666666666666,
              "#ed7953"
             ],
             [
              0.7777777777777778,
              "#fb9f3a"
             ],
             [
              0.8888888888888888,
              "#fdca26"
             ],
             [
              1.0,
              "#f0f921"
             ]
            ],
            "type": "surface"
           }
          ],
          "table": [
           {
            "cells": {
             "fill": {
              "color": "#EBF0F8"
             },
             "line": {
              "color": "white"
             }
            },
            "header": {
             "fill": {
              "color": "#C8D4E3"
             },
             "line": {
              "color": "white"
             }
            },
            "type": "table"
           }
          ]
         },
         "layout": {
          "annotationdefaults": {
           "arrowcolor": "#2a3f5f",
           "arrowhead": 0,
           "arrowwidth": 1
          },
          "autotypenumbers": "strict",
          "coloraxis": {
           "colorbar": {
            "outlinewidth": 0,
            "ticks": ""
           }
          },
          "colorscale": {
           "diverging": [
            [
             0,
             "#8e0152"
            ],
            [
             0.1,
             "#c51b7d"
            ],
            [
             0.2,
             "#de77ae"
            ],
            [
             0.3,
             "#f1b6da"
            ],
            [
             0.4,
             "#fde0ef"
            ],
            [
             0.5,
             "#f7f7f7"
            ],
            [
             0.6,
             "#e6f5d0"
            ],
            [
             0.7,
             "#b8e186"
            ],
            [
             0.8,
             "#7fbc41"
            ],
            [
             0.9,
             "#4d9221"
            ],
            [
             1,
             "#276419"
            ]
           ],
           "sequential": [
            [
             0.0,
             "#0d0887"
            ],
            [
             0.1111111111111111,
             "#46039f"
            ],
            [
             0.2222222222222222,
             "#7201a8"
            ],
            [
             0.3333333333333333,
             "#9c179e"
            ],
            [
             0.4444444444444444,
             "#bd3786"
            ],
            [
             0.5555555555555556,
             "#d8576b"
            ],
            [
             0.6666666666666666,
             "#ed7953"
            ],
            [
             0.7777777777777778,
             "#fb9f3a"
            ],
            [
             0.8888888888888888,
             "#fdca26"
            ],
            [
             1.0,
             "#f0f921"
            ]
           ],
           "sequentialminus": [
            [
             0.0,
             "#0d0887"
            ],
            [
             0.1111111111111111,
             "#46039f"
            ],
            [
             0.2222222222222222,
             "#7201a8"
            ],
            [
             0.3333333333333333,
             "#9c179e"
            ],
            [
             0.4444444444444444,
             "#bd3786"
            ],
            [
             0.5555555555555556,
             "#d8576b"
            ],
            [
             0.6666666666666666,
             "#ed7953"
            ],
            [
             0.7777777777777778,
             "#fb9f3a"
            ],
            [
             0.8888888888888888,
             "#fdca26"
            ],
            [
             1.0,
             "#f0f921"
            ]
           ]
          },
          "colorway": [
           "#636efa",
           "#EF553B",
           "#00cc96",
           "#ab63fa",
           "#FFA15A",
           "#19d3f3",
           "#FF6692",
           "#B6E880",
           "#FF97FF",
           "#FECB52"
          ],
          "font": {
           "color": "#2a3f5f"
          },
          "geo": {
           "bgcolor": "white",
           "lakecolor": "white",
           "landcolor": "#E5ECF6",
           "showlakes": true,
           "showland": true,
           "subunitcolor": "white"
          },
          "hoverlabel": {
           "align": "left"
          },
          "hovermode": "closest",
          "mapbox": {
           "style": "light"
          },
          "paper_bgcolor": "white",
          "plot_bgcolor": "#E5ECF6",
          "polar": {
           "angularaxis": {
            "gridcolor": "white",
            "linecolor": "white",
            "ticks": ""
           },
           "bgcolor": "#E5ECF6",
           "radialaxis": {
            "gridcolor": "white",
            "linecolor": "white",
            "ticks": ""
           }
          },
          "scene": {
           "xaxis": {
            "backgroundcolor": "#E5ECF6",
            "gridcolor": "white",
            "gridwidth": 2,
            "linecolor": "white",
            "showbackground": true,
            "ticks": "",
            "zerolinecolor": "white"
           },
           "yaxis": {
            "backgroundcolor": "#E5ECF6",
            "gridcolor": "white",
            "gridwidth": 2,
            "linecolor": "white",
            "showbackground": true,
            "ticks": "",
            "zerolinecolor": "white"
           },
           "zaxis": {
            "backgroundcolor": "#E5ECF6",
            "gridcolor": "white",
            "gridwidth": 2,
            "linecolor": "white",
            "showbackground": true,
            "ticks": "",
            "zerolinecolor": "white"
           }
          },
          "shapedefaults": {
           "line": {
            "color": "#2a3f5f"
           }
          },
          "ternary": {
           "aaxis": {
            "gridcolor": "white",
            "linecolor": "white",
            "ticks": ""
           },
           "baxis": {
            "gridcolor": "white",
            "linecolor": "white",
            "ticks": ""
           },
           "bgcolor": "#E5ECF6",
           "caxis": {
            "gridcolor": "white",
            "linecolor": "white",
            "ticks": ""
           }
          },
          "title": {
           "x": 0.05
          },
          "xaxis": {
           "automargin": true,
           "gridcolor": "white",
           "linecolor": "white",
           "ticks": "",
           "title": {
            "standoff": 15
           },
           "zerolinecolor": "white",
           "zerolinewidth": 2
          },
          "yaxis": {
           "automargin": true,
           "gridcolor": "white",
           "linecolor": "white",
           "ticks": "",
           "title": {
            "standoff": 15
           },
           "zerolinecolor": "white",
           "zerolinewidth": 2
          }
         }
        },
        "title": {
         "text": "Scatterplot Matrix"
        },
        "width": 700,
        "xaxis": {
         "anchor": "y",
         "domain": [
          0.0,
          0.2888888888888889
         ],
         "showticklabels": false
        },
        "xaxis2": {
         "anchor": "y2",
         "domain": [
          0.35555555555555557,
          0.6444444444444445
         ]
        },
        "xaxis3": {
         "anchor": "y3",
         "domain": [
          0.7111111111111111,
          1.0
         ]
        },
        "xaxis4": {
         "anchor": "y4",
         "domain": [
          0.0,
          0.2888888888888889
         ]
        },
        "xaxis5": {
         "anchor": "y5",
         "domain": [
          0.35555555555555557,
          0.6444444444444445
         ],
         "showticklabels": false
        },
        "xaxis6": {
         "anchor": "y6",
         "domain": [
          0.7111111111111111,
          1.0
         ]
        },
        "xaxis7": {
         "anchor": "y7",
         "domain": [
          0.0,
          0.2888888888888889
         ],
         "title": {
          "text": "research"
         }
        },
        "xaxis8": {
         "anchor": "y8",
         "domain": [
          0.35555555555555557,
          0.6444444444444445
         ],
         "title": {
          "text": "international"
         }
        },
        "xaxis9": {
         "anchor": "y9",
         "domain": [
          0.7111111111111111,
          1.0
         ],
         "showticklabels": false,
         "title": {
          "text": "total_score"
         }
        },
        "yaxis": {
         "anchor": "x",
         "domain": [
          0.7333333333333333,
          1.0
         ],
         "title": {
          "text": "research"
         }
        },
        "yaxis2": {
         "anchor": "x2",
         "domain": [
          0.7333333333333333,
          1.0
         ]
        },
        "yaxis3": {
         "anchor": "x3",
         "domain": [
          0.7333333333333333,
          1.0
         ]
        },
        "yaxis4": {
         "anchor": "x4",
         "domain": [
          0.36666666666666664,
          0.6333333333333333
         ],
         "title": {
          "text": "international"
         }
        },
        "yaxis5": {
         "anchor": "x5",
         "domain": [
          0.36666666666666664,
          0.6333333333333333
         ]
        },
        "yaxis6": {
         "anchor": "x6",
         "domain": [
          0.36666666666666664,
          0.6333333333333333
         ]
        },
        "yaxis7": {
         "anchor": "x7",
         "domain": [
          0.0,
          0.26666666666666666
         ],
         "title": {
          "text": "total_score"
         }
        },
        "yaxis8": {
         "anchor": "x8",
         "domain": [
          0.0,
          0.26666666666666666
         ]
        },
        "yaxis9": {
         "anchor": "x9",
         "domain": [
          0.0,
          0.26666666666666666
         ]
        }
       }
      },
      "text/html": [
       "<div>                            <div id=\"a2c42c90-f03e-4252-b8ee-665eb9cf0dd0\" class=\"plotly-graph-div\" style=\"height:700px; width:700px;\"></div>            <script type=\"text/javascript\">                require([\"plotly\"], function(Plotly) {                    window.PLOTLYENV=window.PLOTLYENV || {};                                    if (document.getElementById(\"a2c42c90-f03e-4252-b8ee-665eb9cf0dd0\")) {                    Plotly.newPlot(                        \"a2c42c90-f03e-4252-b8ee-665eb9cf0dd0\",                        [{\"marker\":{\"color\":\"rgb(12, 51, 131)\"},\"showlegend\":false,\"xaxis\":\"x\",\"y\":[98.1,98.6,97.7,96.7,95.6,88.2,94.7,96.7,88.3,90.8,89.9,90.5,90.2,79.4,84.2,82.0,86.5,75.2,83.8,85.1,78.9,80.4,85.1,74.9,78.1,68.9,71.2,72.0,69.1,79.0,71.3,69.0,70.9,74.2,56.9,62.9,61.4,62.4,69.9,62.3,66.6,55.2,72.6,68.0,70.9,64.7,58.6,61.9,68.3,77.1,66.8,63.2,58.7,54.2,63.6,59.7,46.7,64.8,68.4,60.8,55.9,47.1,46.0,58.2,58.4,49.3,48.0,51.1,37.1,45.4,71.4,53.7,46.8,44.7,41.1,44.6,55.4,36.2,54.8,52.6,58.0,49.4,40.7,54.4,36.9,51.4,38.5,33.9,41.7,51.6,49.1,46.3,32.4,43.2,40.5,38.2,38.3,45.0,37.4,53.0,48.1,50.5,30.0,48.1,45.8,33.1,32.9,37.2,31.9,51.9,35.9,30.4,44.4,44.7,33.8,37.4,50.8,22.4,48.5,33.1,28.2,29.2,39.1,47.1,35.3,29.1,44.8,52.1,53.5,35.9,36.1,36.9,39.1,34.1,42.0,39.9,43.2,30.3,27.6,46.7,26.7,51.9,52.9,47.1,45.3,39.1,29.1,50.2,39.8,35.1,27.5,35.4,47.5,32.7,57.3,29.9,48.0,33.2,38.1,34.4,33.8,36.5,28.1,40.4,36.9,34.9,28.3,47.3,27.2,33.6,35.8,34.9,28.2,30.6,33.4,33.5,24.4,29.3,30.2,19.7,36.3,37.5,27.1,39.7,21.9,35.2,23.9,24.4,51.1,34.7,39.8,32.9,34.0,30.9,22.2,42.1,27.3,22.6,31.6,13.1,25.1,27.7,30.4,22.4,36.3,36.5,44.3,29.6,37.5,22.0,28.8,27.9,22.5,34.1,17.1,34.0,27.3,23.4,51.6,28.2,16.0,45.3,36.2,23.5,19.9,45.8,29.2,29.3,21.4,24.5,30.0,29.9,23.2,31.8,26.2,29.3,35.0,32.3,9.8,28.1,30.5,38.2,24.3,33.4,23.0,32.5,35.7,17.3,32.4,35.3,31.3,10.1,17.0,23.3,40.3,24.8,33.4,25.1,25.2,33.7,27.6,30.7,24.7,18.1,23.4,29.9,27.7,19.2,25.6,37.9,12.1,21.7,20.3,20.3,40.4,32.8,31.3,39.5,25.5,22.5,40.7,29.6,10.5,18.1,36.0,37.9,31.2,45.1,22.9,22.2,23.2,22.4,15.3,19.7,28.9,20.3,22.9,24.4,24.0,27.5,27.8,28.5,40.0,19.3,23.0,17.8,24.3,10.4,20.6,14.3,13.2,17.3,16.5,24.4,24.8,17.2,21.1,26.6,14.7,24.8,28.1,34.7,38.8,25.2,20.7,25.1,23.4,18.4,27.1,16.8,13.7,29.0,25.8,24.0,20.1,29.4,6.5,13.7,16.5,15.7,18.2,18.8,20.5,25.1,17.3,22.2,21.6,12.0,13.6,15.2,33.1,28.5,20.6,21.6,12.9,19.1,17.2,17.1,18.0,20.3,32.3,27.5,24.6,14.3,27.3,10.0,28.5,16.6,27.6,17.8,40.1,32.9,42.6,18.9,22.5,16.3,16.9,25.7,18.1,21.6,15.2,17.3,17.3,10.9,22.8,18.4,16.2,22.0,22.3,10.6,11.8,20.2,21.8,19.4,17.0,17.9,16.3,27.5,22.4,17.4,8.0],\"yaxis\":\"y\",\"type\":\"box\"},{\"marker\":{\"color\":[1,2,3,4,5,6,7,8,9,10,11,12,13,14,15,16,17,18,19,20,21,22,23,24,25,26,27,28,29,30,31,32,33,34,35,36,37,38,39,40,41,42,43,44,45,46,47,48,49,50,51,52,53,54,55,56,57,58,59,60,61,62,63,64,65,66,67,68,69,70,71,72,73,74,75,76,77,78,79,80,81,82,83,84,85,86,87,88,89,90,91,92,93,94,95,96,97,98,99,100,101,102,103,104,105,106,107,108,109,110,111,112,113,114,115,116,117,118,119,120,121,122,123,124,125,126,127,128,129,130,131,132,133,134,135,136,137,138,139,140,141,142,143,144,145,146,147,148,149,150,151,152,153,154,155,156,157,158,159,160,161,162,163,164,165,166,167,168,169,170,171,172,173,174,175,176,177,178,179,180,181,182,183,184,185,186,187,188,189,190,191,192,193,194,195,196,197,198,199,200,201,202,203,204,205,206,207,208,209,210,211,212,213,214,215,216,217,218,219,220,221,222,223,224,225,226,227,228,229,230,231,232,233,234,235,236,237,238,239,240,241,242,243,244,245,246,247,248,249,250,251,252,253,254,255,256,257,258,259,260,261,262,263,264,265,266,267,268,269,270,271,272,273,274,275,276,277,278,279,280,281,282,283,284,285,286,287,288,289,290,291,292,293,294,295,296,297,298,299,300,301,302,303,304,305,306,307,308,309,310,311,312,313,314,315,316,317,318,319,320,321,322,323,324,325,326,327,328,329,330,331,332,333,334,335,336,337,338,339,340,341,342,343,344,345,346,347,348,349,350,351,352,353,354,355,356,357,358,359,360,361,362,363,364,365,366,367,368,369,370,371,372,373,374,375,376,377,378,379,380,381,382,383,384,385,386,387,388,389,390,391,392,393,394,395,396,397,398,399,400,401],\"colorscale\":[[0.0,\"rgb(12, 51, 131)\"],[1.0,\"rgb(217, 30, 30)\"]],\"showscale\":true,\"size\":6},\"mode\":\"markers\",\"showlegend\":false,\"x\":[\"67.0\",\"67.6\",\"90.7\",\"69.0\",\"87.8\",\"84.3\",\"61.2\",\"58.5\",\"92.7\",\"59.8\",\"65.2\",\"49.2\",\"96.6\",\"68.3\",\"59.7\",\"43.8\",\"49.8\",\"50.5\",\"59.0\",\"71.2\",\"36.7\",\"90.6\",\"32.4\",\"59.3\",\"94.9\",\"47.9\",\"68.9\",\"33.1\",\"56.4\",\"43.9\",\"33.6\",\"84.8\",\"81.3\",\"87.4\",\"98.8\",\"84.3\",\"64.3\",\"41.2\",\"79.0\",\"87.0\",\"37.0\",\"46.5\",\"81.9\",\"60.6\",\"91.3\",\"33.8\",\"35.3\",\"53.7\",\"44.6\",\"30.3\",\"77.8\",\"34.9\",\"82.0\",\"37.0\",\"62.3\",\"52.9\",\"47.8\",\"37.4\",\"29.0\",\"83.6\",\"92.5\",\"94.5\",\"50.1\",\"59.5\",\"80.4\",\"36.0\",\"53.9\",\"51.5\",\"70.8\",\"63.1\",\"77.9\",\"66.2\",\"78.7\",\"76.6\",\"91.2\",\"42.7\",\"60.5\",\"81.9\",\"52.9\",\"55.7\",\"56.6\",\"55.0\",\"80.4\",\"79.6\",\"38.7\",\"38.8\",\"51.4\",\"51.1\",\"56.1\",\"49.1\",\"40.3\",\"32.2\",\"42.9\",\"69.4\",\"78.8\",\"28.3\",\"39.1\",\"53.2\",\"64.0\",\"57.5\",\"89.7\",\"64.3\",\"64.7\",\"49.7\",\"85.7\",\"86.9\",\"88.6\",\"96.8\",\"54.6\",\"83.5\",\"90.5\",\"83.6\",\"76.7\",\"53.0\",\"75.0\",\"34.4\",\"56.1\",\"94.4\",\"70.1\",\"62.7\",\"79.7\",\"55.5\",\"74.8\",\"73.4\",\"76.7\",\"54.6\",\"84.0\",\"32.2\",\"64.0\",\"31.8\",\"84.7\",\"80.7\",\"44.8\",\"82.4\",\"44.7\",\"85.1\",\"50.6\",\"83.9\",\"54.1\",\"61.6\",\"52.6\",\"49.1\",\"37.0\",\"69.0\",\"34.3\",\"67.6\",\"54.7\",\"35.8\",\"75.8\",\"37.1\",\"61.6\",\"33.1\",\"66.3\",\"79.8\",\"27.5\",\"56.8\",\"29.1\",\"79.5\",\"87.3\",\"71.8\",\"64.4\",\"27.5\",\"56.7\",\"79.3\",\"37.3\",\"60.1\",\"63.2\",\"29.7\",\"56.7\",\"61.0\",\"70.6\",\"59.7\",\"43.3\",\"70.1\",\"87.3\",\"31.7\",\"41.2\",\"57.3\",\"84.1\",\"67.4\",\"40.6\",\"29.5\",\"44.6\",\"91.0\",\"54.7\",\"60.3\",\"27.6\",\"60.5\",\"46.1\",\"63.2\",\"57.0\",\"71.3\",\"37.4\",\"40.6\",\"54.8\",\"60.4\",\"55.8\",\"76.5\",\"83.9\",\"63.0\",\"39.9\",\"44.6\",\"69.3\",\"55.6\",\"53.3\",\"69.9\",\"35.9\",\"73.8\",\"60.6\",\"54.1\",\"47.8\",\"65.3\",\"64.5\",\"53.4\",\"93.4\",\"75.0\",\"26.3\",\"69.5\",\"25.3\",\"55.4\",\"50.7\",\"67.2\",\"79.4\",\"26.0\",\"26.5\",\"35.7\",\"46.4\",\"84.4\",\"88.8\",\"61.1\",\"71.6\",\"55.7\",\"58.7\",\"31.8\",\"42.8\",\"61.4\",\"39.6\",\"70.4\",\"39.5\",\"79.4\",\"63.1\",\"46.8\",\"44.2\",\"57.0\",\"40.6\",\"86.9\",\"63.7\",\"50.2\",\"75.9\",\"59.7\",\"59.4\",\"48.7\",\"73.1\",\"50.2\",\"24.8\",\"71.7\",\"55.4\",\"88.6\",\"49.6\",\"59.6\",\"53.0\",\"59.4\",\"59.1\",\"48.2\",\"32.2\",\"70.6\",\"81.5\",\"43.5\",\"40.3\",\"41.0\",\"54.6\",\"66.3\",\"57.3\",\"39.3\",\"63.1\",\"62.5\",\"30.4\",\"18.2\",\"59.1\",\"56.6\",\"30.7\",\"54.7\",\"29.2\",\"51.3\",\"69.8\",\"23.9\",\"47.8\",\"62.2\",\"21.8\",\"70.8\",\"43.1\",\"26.0\",\"49.0\",\"84.4\",\"35.3\",\"73.3\",\"37.4\",\"47.8\",\"80.8\",\"37.3\",\"80.4\",\"84.2\",\"28.9\",\"48.8\",\"73.1\",\"45.5\",\"53.9\",\"29.1\",\"71.8\",\"42.2\",\"62.3\",\"59.4\",\"41.5\",\"49.8\",\"89.2\",\"43.8\",\"36.7\",\"42.9\",\"44.4\",\"26.9\",\"37.5\",\"19.4\",\"20.7\",\"37.0\",\"29.7\",\"76.1\",\"88.2\",\"52.1\",\"38.8\",\"47.0\",\"49.2\",\"86.7\",\"33.1\",\"47.2\",\"32.2\",\"43.4\",\"45.1\",\"20.7\",\"34.8\",\"30.0\",\"40.4\",\"36.7\",\"67.1\",\"66.9\",\"59.3\",\"45.6\",\"36.1\",\"43.7\",\"41.6\",\"30.7\",\"21.5\",\"65.8\",\"66.5\",\"79.7\",\"53.9\",\"48.6\",\"52.1\",\"91.3\",\"36.0\",\"35.8\",\"48.4\",\"25.2\",\"19.5\",\"16.6\",\"20.0\",\"22.5\",\"26.1\",\"34.5\",\"50.9\",\"85.3\",\"26.7\",\"24.2\",\"26.7\",\"82.6\",\"53.6\",\"86.9\",\"60.0\",\"50.3\",\"38.1\",\"44.1\",\"42.1\",\"37.4\",\"64.8\",\"74.9\",\"46.8\",\"69.1\",\"49.7\",\"29.6\",\"46.2\",\"73.3\",\"48.0\",\"34.3\",\"46.3\",\"21.0\",\"80.3\",\"54.5\",\"43.1\",\"36.0\",\"50.1\",\"33.1\",\"21.4\"],\"xaxis\":\"x2\",\"y\":[98.1,98.6,97.7,96.7,95.6,88.2,94.7,96.7,88.3,90.8,89.9,90.5,90.2,79.4,84.2,82.0,86.5,75.2,83.8,85.1,78.9,80.4,85.1,74.9,78.1,68.9,71.2,72.0,69.1,79.0,71.3,69.0,70.9,74.2,56.9,62.9,61.4,62.4,69.9,62.3,66.6,55.2,72.6,68.0,70.9,64.7,58.6,61.9,68.3,77.1,66.8,63.2,58.7,54.2,63.6,59.7,46.7,64.8,68.4,60.8,55.9,47.1,46.0,58.2,58.4,49.3,48.0,51.1,37.1,45.4,71.4,53.7,46.8,44.7,41.1,44.6,55.4,36.2,54.8,52.6,58.0,49.4,40.7,54.4,36.9,51.4,38.5,33.9,41.7,51.6,49.1,46.3,32.4,43.2,40.5,38.2,38.3,45.0,37.4,53.0,48.1,50.5,30.0,48.1,45.8,33.1,32.9,37.2,31.9,51.9,35.9,30.4,44.4,44.7,33.8,37.4,50.8,22.4,48.5,33.1,28.2,29.2,39.1,47.1,35.3,29.1,44.8,52.1,53.5,35.9,36.1,36.9,39.1,34.1,42.0,39.9,43.2,30.3,27.6,46.7,26.7,51.9,52.9,47.1,45.3,39.1,29.1,50.2,39.8,35.1,27.5,35.4,47.5,32.7,57.3,29.9,48.0,33.2,38.1,34.4,33.8,36.5,28.1,40.4,36.9,34.9,28.3,47.3,27.2,33.6,35.8,34.9,28.2,30.6,33.4,33.5,24.4,29.3,30.2,19.7,36.3,37.5,27.1,39.7,21.9,35.2,23.9,24.4,51.1,34.7,39.8,32.9,34.0,30.9,22.2,42.1,27.3,22.6,31.6,13.1,25.1,27.7,30.4,22.4,36.3,36.5,44.3,29.6,37.5,22.0,28.8,27.9,22.5,34.1,17.1,34.0,27.3,23.4,51.6,28.2,16.0,45.3,36.2,23.5,19.9,45.8,29.2,29.3,21.4,24.5,30.0,29.9,23.2,31.8,26.2,29.3,35.0,32.3,9.8,28.1,30.5,38.2,24.3,33.4,23.0,32.5,35.7,17.3,32.4,35.3,31.3,10.1,17.0,23.3,40.3,24.8,33.4,25.1,25.2,33.7,27.6,30.7,24.7,18.1,23.4,29.9,27.7,19.2,25.6,37.9,12.1,21.7,20.3,20.3,40.4,32.8,31.3,39.5,25.5,22.5,40.7,29.6,10.5,18.1,36.0,37.9,31.2,45.1,22.9,22.2,23.2,22.4,15.3,19.7,28.9,20.3,22.9,24.4,24.0,27.5,27.8,28.5,40.0,19.3,23.0,17.8,24.3,10.4,20.6,14.3,13.2,17.3,16.5,24.4,24.8,17.2,21.1,26.6,14.7,24.8,28.1,34.7,38.8,25.2,20.7,25.1,23.4,18.4,27.1,16.8,13.7,29.0,25.8,24.0,20.1,29.4,6.5,13.7,16.5,15.7,18.2,18.8,20.5,25.1,17.3,22.2,21.6,12.0,13.6,15.2,33.1,28.5,20.6,21.6,12.9,19.1,17.2,17.1,18.0,20.3,32.3,27.5,24.6,14.3,27.3,10.0,28.5,16.6,27.6,17.8,40.1,32.9,42.6,18.9,22.5,16.3,16.9,25.7,18.1,21.6,15.2,17.3,17.3,10.9,22.8,18.4,16.2,22.0,22.3,10.6,11.8,20.2,21.8,19.4,17.0,17.9,16.3,27.5,22.4,17.4,8.0],\"yaxis\":\"y2\",\"type\":\"scatter\"},{\"marker\":{\"color\":[1,2,3,4,5,6,7,8,9,10,11,12,13,14,15,16,17,18,19,20,21,22,23,24,25,26,27,28,29,30,31,32,33,34,35,36,37,38,39,40,41,42,43,44,45,46,47,48,49,50,51,52,53,54,55,56,57,58,59,60,61,62,63,64,65,66,67,68,69,70,71,72,73,74,75,76,77,78,79,80,81,82,83,84,85,86,87,88,89,90,91,92,93,94,95,96,97,98,99,100,101,102,103,104,105,106,107,108,109,110,111,112,113,114,115,116,117,118,119,120,121,122,123,124,125,126,127,128,129,130,131,132,133,134,135,136,137,138,139,140,141,142,143,144,145,146,147,148,149,150,151,152,153,154,155,156,157,158,159,160,161,162,163,164,165,166,167,168,169,170,171,172,173,174,175,176,177,178,179,180,181,182,183,184,185,186,187,188,189,190,191,192,193,194,195,196,197,198,199,200,201,202,203,204,205,206,207,208,209,210,211,212,213,214,215,216,217,218,219,220,221,222,223,224,225,226,227,228,229,230,231,232,233,234,235,236,237,238,239,240,241,242,243,244,245,246,247,248,249,250,251,252,253,254,255,256,257,258,259,260,261,262,263,264,265,266,267,268,269,270,271,272,273,274,275,276,277,278,279,280,281,282,283,284,285,286,287,288,289,290,291,292,293,294,295,296,297,298,299,300,301,302,303,304,305,306,307,308,309,310,311,312,313,314,315,316,317,318,319,320,321,322,323,324,325,326,327,328,329,330,331,332,333,334,335,336,337,338,339,340,341,342,343,344,345,346,347,348,349,350,351,352,353,354,355,356,357,358,359,360,361,362,363,364,365,366,367,368,369,370,371,372,373,374,375,376,377,378,379,380,381,382,383,384,385,386,387,388,389,390,391,392,393,394,395,396,397,398,399,400,401],\"colorscale\":[[0.0,\"rgb(12, 51, 131)\"],[1.0,\"rgb(217, 30, 30)\"]],\"showscale\":false,\"size\":6},\"mode\":\"markers\",\"showlegend\":false,\"x\":[\"94.3\",\"93.3\",\"93.2\",\"92.9\",\"92.0\",\"91.9\",\"90.9\",\"89.5\",\"87.5\",\"87.5\",\"87.1\",\"85.5\",\"84.6\",\"84.4\",\"83.0\",\"81.0\",\"80.9\",\"79.9\",\"79.4\",\"79.3\",\"79.2\",\"78.7\",\"76.1\",\"74.3\",\"73.3\",\"73.2\",\"72.8\",\"72.3\",\"71.9\",\"71.9\",\"71.9\",\"71.8\",\"71.2\",\"70.9\",\"70.9\",\"70.4\",\"70.0\",\"69.9\",\"69.6\",\"69.4\",\"68.6\",\"67.8\",\"67.5\",\"66.8\",\"66.5\",\"65.9\",\"65.9\",\"65.2\",\"65.1\",\"64.8\",\"64.7\",\"64.5\",\"64.5\",\"64.1\",\"63.7\",\"63.7\",\"63.6\",\"62.9\",\"62.8\",\"62.7\",\"62.2\",\"62.2\",\"61.9\",\"61.3\",\"61.2\",\"61.1\",\"61.0\",\"60.7\",\"59.8\",\"59.6\",\"59.2\",\"59.1\",\"59.0\",\"58.9\",\"58.4\",\"58.4\",\"58.2\",\"58.1\",\"58.0\",\"57.9\",\"57.6\",\"57.3\",\"56.9\",\"56.9\",\"56.6\",\"56.5\",\"56.5\",\"56.4\",\"56.4\",\"56.2\",\"56.1\",\"56.1\",\"55.5\",\"55.3\",\"55.3\",\"55.2\",\"55.1\",\"54.6\",\"54.6\",\"54.6\",\"54.3\",\"54.0\",\"53.9\",\"53.9\",\"53.9\",\"53.9\",\"53.8\",\"53.8\",\"53.7\",\"53.7\",\"53.6\",\"53.6\",\"53.4\",\"53.4\",\"53.4\",\"53.2\",\"53.1\",\"53.0\",\"52.9\",\"52.8\",\"52.7\",\"52.7\",\"52.7\",\"52.6\",\"52.6\",\"52.5\",\"52.5\",\"52.5\",\"52.4\",\"52.1\",\"52.0\",\"51.9\",\"51.9\",\"51.9\",\"51.6\",\"51.4\",\"51.4\",\"51.2\",\"51.1\",\"51.0\",\"50.9\",\"50.9\",\"50.9\",\"50.5\",\"50.5\",\"50.4\",\"50.3\",\"50.2\",\"50.2\",\"50.1\",\"50.1\",\"50.0\",\"49.9\",\"49.7\",\"49.3\",\"49.2\",\"49.1\",\"49.1\",\"49.1\",\"49.0\",\"49.0\",\"48.6\",\"48.3\",\"48.2\",\"48.1\",\"48.1\",\"48.1\",\"48.1\",\"48.0\",\"47.9\",\"47.8\",\"47.8\",\"47.7\",\"47.7\",\"47.5\",\"47.5\",\"47.3\",\"47.1\",\"47.1\",\"47.0\",\"47.0\",\"46.9\",\"46.9\",\"46.9\",\"46.8\",\"46.7\",\"46.7\",\"46.6\",\"46.6\",\"46.6\",\"46.5\",\"46.3\",\"46.2\",\"46.2\",\"46.1\",\"46.0\",\"46.0\",\"45.9\",\"45.7\",\"45.6\",\"45.6\",\"-\",\"-\",\"-\",\"-\",\"-\",\"-\",\"-\",\"-\",\"-\",\"-\",\"-\",\"-\",\"-\",\"-\",\"-\",\"-\",\"-\",\"-\",\"-\",\"-\",\"-\",\"-\",\"-\",\"-\",\"-\",\"-\",\"-\",\"-\",\"-\",\"-\",\"-\",\"-\",\"-\",\"-\",\"-\",\"-\",\"-\",\"-\",\"-\",\"-\",\"-\",\"-\",\"-\",\"-\",\"-\",\"-\",\"-\",\"-\",\"-\",\"-\",\"-\",\"-\",\"-\",\"-\",\"-\",\"-\",\"-\",\"-\",\"-\",\"-\",\"-\",\"-\",\"-\",\"-\",\"-\",\"-\",\"-\",\"-\",\"-\",\"-\",\"-\",\"-\",\"-\",\"-\",\"-\",\"-\",\"-\",\"-\",\"-\",\"-\",\"-\",\"-\",\"-\",\"-\",\"-\",\"-\",\"-\",\"-\",\"-\",\"-\",\"-\",\"-\",\"-\",\"-\",\"-\",\"-\",\"-\",\"-\",\"-\",\"-\",\"-\",\"-\",\"-\",\"-\",\"-\",\"-\",\"-\",\"-\",\"-\",\"-\",\"-\",\"-\",\"-\",\"-\",\"-\",\"-\",\"-\",\"-\",\"-\",\"-\",\"-\",\"-\",\"-\",\"-\",\"-\",\"-\",\"-\",\"-\",\"-\",\"-\",\"-\",\"-\",\"-\",\"-\",\"-\",\"-\",\"-\",\"-\",\"-\",\"-\",\"-\",\"-\",\"-\",\"-\",\"-\",\"-\",\"-\",\"-\",\"-\",\"-\",\"-\",\"-\",\"-\",\"-\",\"-\",\"-\",\"-\",\"-\",\"-\",\"-\",\"-\",\"-\",\"-\",\"-\",\"-\",\"-\",\"-\",\"-\",\"-\",\"-\",\"-\",\"-\",\"-\",\"-\",\"-\",\"-\",\"-\",\"-\",\"-\",\"-\",\"-\",\"-\",\"-\",\"-\",\"-\",\"-\",\"-\",\"-\",\"-\",\"-\",\"-\",\"-\",\"-\",\"-\",\"-\",\"-\",\"-\",\"-\",\"-\",\"-\"],\"xaxis\":\"x3\",\"y\":[98.1,98.6,97.7,96.7,95.6,88.2,94.7,96.7,88.3,90.8,89.9,90.5,90.2,79.4,84.2,82.0,86.5,75.2,83.8,85.1,78.9,80.4,85.1,74.9,78.1,68.9,71.2,72.0,69.1,79.0,71.3,69.0,70.9,74.2,56.9,62.9,61.4,62.4,69.9,62.3,66.6,55.2,72.6,68.0,70.9,64.7,58.6,61.9,68.3,77.1,66.8,63.2,58.7,54.2,63.6,59.7,46.7,64.8,68.4,60.8,55.9,47.1,46.0,58.2,58.4,49.3,48.0,51.1,37.1,45.4,71.4,53.7,46.8,44.7,41.1,44.6,55.4,36.2,54.8,52.6,58.0,49.4,40.7,54.4,36.9,51.4,38.5,33.9,41.7,51.6,49.1,46.3,32.4,43.2,40.5,38.2,38.3,45.0,37.4,53.0,48.1,50.5,30.0,48.1,45.8,33.1,32.9,37.2,31.9,51.9,35.9,30.4,44.4,44.7,33.8,37.4,50.8,22.4,48.5,33.1,28.2,29.2,39.1,47.1,35.3,29.1,44.8,52.1,53.5,35.9,36.1,36.9,39.1,34.1,42.0,39.9,43.2,30.3,27.6,46.7,26.7,51.9,52.9,47.1,45.3,39.1,29.1,50.2,39.8,35.1,27.5,35.4,47.5,32.7,57.3,29.9,48.0,33.2,38.1,34.4,33.8,36.5,28.1,40.4,36.9,34.9,28.3,47.3,27.2,33.6,35.8,34.9,28.2,30.6,33.4,33.5,24.4,29.3,30.2,19.7,36.3,37.5,27.1,39.7,21.9,35.2,23.9,24.4,51.1,34.7,39.8,32.9,34.0,30.9,22.2,42.1,27.3,22.6,31.6,13.1,25.1,27.7,30.4,22.4,36.3,36.5,44.3,29.6,37.5,22.0,28.8,27.9,22.5,34.1,17.1,34.0,27.3,23.4,51.6,28.2,16.0,45.3,36.2,23.5,19.9,45.8,29.2,29.3,21.4,24.5,30.0,29.9,23.2,31.8,26.2,29.3,35.0,32.3,9.8,28.1,30.5,38.2,24.3,33.4,23.0,32.5,35.7,17.3,32.4,35.3,31.3,10.1,17.0,23.3,40.3,24.8,33.4,25.1,25.2,33.7,27.6,30.7,24.7,18.1,23.4,29.9,27.7,19.2,25.6,37.9,12.1,21.7,20.3,20.3,40.4,32.8,31.3,39.5,25.5,22.5,40.7,29.6,10.5,18.1,36.0,37.9,31.2,45.1,22.9,22.2,23.2,22.4,15.3,19.7,28.9,20.3,22.9,24.4,24.0,27.5,27.8,28.5,40.0,19.3,23.0,17.8,24.3,10.4,20.6,14.3,13.2,17.3,16.5,24.4,24.8,17.2,21.1,26.6,14.7,24.8,28.1,34.7,38.8,25.2,20.7,25.1,23.4,18.4,27.1,16.8,13.7,29.0,25.8,24.0,20.1,29.4,6.5,13.7,16.5,15.7,18.2,18.8,20.5,25.1,17.3,22.2,21.6,12.0,13.6,15.2,33.1,28.5,20.6,21.6,12.9,19.1,17.2,17.1,18.0,20.3,32.3,27.5,24.6,14.3,27.3,10.0,28.5,16.6,27.6,17.8,40.1,32.9,42.6,18.9,22.5,16.3,16.9,25.7,18.1,21.6,15.2,17.3,17.3,10.9,22.8,18.4,16.2,22.0,22.3,10.6,11.8,20.2,21.8,19.4,17.0,17.9,16.3,27.5,22.4,17.4,8.0],\"yaxis\":\"y3\",\"type\":\"scatter\"},{\"marker\":{\"color\":[1,2,3,4,5,6,7,8,9,10,11,12,13,14,15,16,17,18,19,20,21,22,23,24,25,26,27,28,29,30,31,32,33,34,35,36,37,38,39,40,41,42,43,44,45,46,47,48,49,50,51,52,53,54,55,56,57,58,59,60,61,62,63,64,65,66,67,68,69,70,71,72,73,74,75,76,77,78,79,80,81,82,83,84,85,86,87,88,89,90,91,92,93,94,95,96,97,98,99,100,101,102,103,104,105,106,107,108,109,110,111,112,113,114,115,116,117,118,119,120,121,122,123,124,125,126,127,128,129,130,131,132,133,134,135,136,137,138,139,140,141,142,143,144,145,146,147,148,149,150,151,152,153,154,155,156,157,158,159,160,161,162,163,164,165,166,167,168,169,170,171,172,173,174,175,176,177,178,179,180,181,182,183,184,185,186,187,188,189,190,191,192,193,194,195,196,197,198,199,200,201,202,203,204,205,206,207,208,209,210,211,212,213,214,215,216,217,218,219,220,221,222,223,224,225,226,227,228,229,230,231,232,233,234,235,236,237,238,239,240,241,242,243,244,245,246,247,248,249,250,251,252,253,254,255,256,257,258,259,260,261,262,263,264,265,266,267,268,269,270,271,272,273,274,275,276,277,278,279,280,281,282,283,284,285,286,287,288,289,290,291,292,293,294,295,296,297,298,299,300,301,302,303,304,305,306,307,308,309,310,311,312,313,314,315,316,317,318,319,320,321,322,323,324,325,326,327,328,329,330,331,332,333,334,335,336,337,338,339,340,341,342,343,344,345,346,347,348,349,350,351,352,353,354,355,356,357,358,359,360,361,362,363,364,365,366,367,368,369,370,371,372,373,374,375,376,377,378,379,380,381,382,383,384,385,386,387,388,389,390,391,392,393,394,395,396,397,398,399,400,401],\"colorscale\":[[0.0,\"rgb(12, 51, 131)\"],[1.0,\"rgb(217, 30, 30)\"]],\"showscale\":false,\"size\":6},\"mode\":\"markers\",\"showlegend\":false,\"x\":[98.1,98.6,97.7,96.7,95.6,88.2,94.7,96.7,88.3,90.8,89.9,90.5,90.2,79.4,84.2,82.0,86.5,75.2,83.8,85.1,78.9,80.4,85.1,74.9,78.1,68.9,71.2,72.0,69.1,79.0,71.3,69.0,70.9,74.2,56.9,62.9,61.4,62.4,69.9,62.3,66.6,55.2,72.6,68.0,70.9,64.7,58.6,61.9,68.3,77.1,66.8,63.2,58.7,54.2,63.6,59.7,46.7,64.8,68.4,60.8,55.9,47.1,46.0,58.2,58.4,49.3,48.0,51.1,37.1,45.4,71.4,53.7,46.8,44.7,41.1,44.6,55.4,36.2,54.8,52.6,58.0,49.4,40.7,54.4,36.9,51.4,38.5,33.9,41.7,51.6,49.1,46.3,32.4,43.2,40.5,38.2,38.3,45.0,37.4,53.0,48.1,50.5,30.0,48.1,45.8,33.1,32.9,37.2,31.9,51.9,35.9,30.4,44.4,44.7,33.8,37.4,50.8,22.4,48.5,33.1,28.2,29.2,39.1,47.1,35.3,29.1,44.8,52.1,53.5,35.9,36.1,36.9,39.1,34.1,42.0,39.9,43.2,30.3,27.6,46.7,26.7,51.9,52.9,47.1,45.3,39.1,29.1,50.2,39.8,35.1,27.5,35.4,47.5,32.7,57.3,29.9,48.0,33.2,38.1,34.4,33.8,36.5,28.1,40.4,36.9,34.9,28.3,47.3,27.2,33.6,35.8,34.9,28.2,30.6,33.4,33.5,24.4,29.3,30.2,19.7,36.3,37.5,27.1,39.7,21.9,35.2,23.9,24.4,51.1,34.7,39.8,32.9,34.0,30.9,22.2,42.1,27.3,22.6,31.6,13.1,25.1,27.7,30.4,22.4,36.3,36.5,44.3,29.6,37.5,22.0,28.8,27.9,22.5,34.1,17.1,34.0,27.3,23.4,51.6,28.2,16.0,45.3,36.2,23.5,19.9,45.8,29.2,29.3,21.4,24.5,30.0,29.9,23.2,31.8,26.2,29.3,35.0,32.3,9.8,28.1,30.5,38.2,24.3,33.4,23.0,32.5,35.7,17.3,32.4,35.3,31.3,10.1,17.0,23.3,40.3,24.8,33.4,25.1,25.2,33.7,27.6,30.7,24.7,18.1,23.4,29.9,27.7,19.2,25.6,37.9,12.1,21.7,20.3,20.3,40.4,32.8,31.3,39.5,25.5,22.5,40.7,29.6,10.5,18.1,36.0,37.9,31.2,45.1,22.9,22.2,23.2,22.4,15.3,19.7,28.9,20.3,22.9,24.4,24.0,27.5,27.8,28.5,40.0,19.3,23.0,17.8,24.3,10.4,20.6,14.3,13.2,17.3,16.5,24.4,24.8,17.2,21.1,26.6,14.7,24.8,28.1,34.7,38.8,25.2,20.7,25.1,23.4,18.4,27.1,16.8,13.7,29.0,25.8,24.0,20.1,29.4,6.5,13.7,16.5,15.7,18.2,18.8,20.5,25.1,17.3,22.2,21.6,12.0,13.6,15.2,33.1,28.5,20.6,21.6,12.9,19.1,17.2,17.1,18.0,20.3,32.3,27.5,24.6,14.3,27.3,10.0,28.5,16.6,27.6,17.8,40.1,32.9,42.6,18.9,22.5,16.3,16.9,25.7,18.1,21.6,15.2,17.3,17.3,10.9,22.8,18.4,16.2,22.0,22.3,10.6,11.8,20.2,21.8,19.4,17.0,17.9,16.3,27.5,22.4,17.4,8.0],\"xaxis\":\"x4\",\"y\":[\"67.0\",\"67.6\",\"90.7\",\"69.0\",\"87.8\",\"84.3\",\"61.2\",\"58.5\",\"92.7\",\"59.8\",\"65.2\",\"49.2\",\"96.6\",\"68.3\",\"59.7\",\"43.8\",\"49.8\",\"50.5\",\"59.0\",\"71.2\",\"36.7\",\"90.6\",\"32.4\",\"59.3\",\"94.9\",\"47.9\",\"68.9\",\"33.1\",\"56.4\",\"43.9\",\"33.6\",\"84.8\",\"81.3\",\"87.4\",\"98.8\",\"84.3\",\"64.3\",\"41.2\",\"79.0\",\"87.0\",\"37.0\",\"46.5\",\"81.9\",\"60.6\",\"91.3\",\"33.8\",\"35.3\",\"53.7\",\"44.6\",\"30.3\",\"77.8\",\"34.9\",\"82.0\",\"37.0\",\"62.3\",\"52.9\",\"47.8\",\"37.4\",\"29.0\",\"83.6\",\"92.5\",\"94.5\",\"50.1\",\"59.5\",\"80.4\",\"36.0\",\"53.9\",\"51.5\",\"70.8\",\"63.1\",\"77.9\",\"66.2\",\"78.7\",\"76.6\",\"91.2\",\"42.7\",\"60.5\",\"81.9\",\"52.9\",\"55.7\",\"56.6\",\"55.0\",\"80.4\",\"79.6\",\"38.7\",\"38.8\",\"51.4\",\"51.1\",\"56.1\",\"49.1\",\"40.3\",\"32.2\",\"42.9\",\"69.4\",\"78.8\",\"28.3\",\"39.1\",\"53.2\",\"64.0\",\"57.5\",\"89.7\",\"64.3\",\"64.7\",\"49.7\",\"85.7\",\"86.9\",\"88.6\",\"96.8\",\"54.6\",\"83.5\",\"90.5\",\"83.6\",\"76.7\",\"53.0\",\"75.0\",\"34.4\",\"56.1\",\"94.4\",\"70.1\",\"62.7\",\"79.7\",\"55.5\",\"74.8\",\"73.4\",\"76.7\",\"54.6\",\"84.0\",\"32.2\",\"64.0\",\"31.8\",\"84.7\",\"80.7\",\"44.8\",\"82.4\",\"44.7\",\"85.1\",\"50.6\",\"83.9\",\"54.1\",\"61.6\",\"52.6\",\"49.1\",\"37.0\",\"69.0\",\"34.3\",\"67.6\",\"54.7\",\"35.8\",\"75.8\",\"37.1\",\"61.6\",\"33.1\",\"66.3\",\"79.8\",\"27.5\",\"56.8\",\"29.1\",\"79.5\",\"87.3\",\"71.8\",\"64.4\",\"27.5\",\"56.7\",\"79.3\",\"37.3\",\"60.1\",\"63.2\",\"29.7\",\"56.7\",\"61.0\",\"70.6\",\"59.7\",\"43.3\",\"70.1\",\"87.3\",\"31.7\",\"41.2\",\"57.3\",\"84.1\",\"67.4\",\"40.6\",\"29.5\",\"44.6\",\"91.0\",\"54.7\",\"60.3\",\"27.6\",\"60.5\",\"46.1\",\"63.2\",\"57.0\",\"71.3\",\"37.4\",\"40.6\",\"54.8\",\"60.4\",\"55.8\",\"76.5\",\"83.9\",\"63.0\",\"39.9\",\"44.6\",\"69.3\",\"55.6\",\"53.3\",\"69.9\",\"35.9\",\"73.8\",\"60.6\",\"54.1\",\"47.8\",\"65.3\",\"64.5\",\"53.4\",\"93.4\",\"75.0\",\"26.3\",\"69.5\",\"25.3\",\"55.4\",\"50.7\",\"67.2\",\"79.4\",\"26.0\",\"26.5\",\"35.7\",\"46.4\",\"84.4\",\"88.8\",\"61.1\",\"71.6\",\"55.7\",\"58.7\",\"31.8\",\"42.8\",\"61.4\",\"39.6\",\"70.4\",\"39.5\",\"79.4\",\"63.1\",\"46.8\",\"44.2\",\"57.0\",\"40.6\",\"86.9\",\"63.7\",\"50.2\",\"75.9\",\"59.7\",\"59.4\",\"48.7\",\"73.1\",\"50.2\",\"24.8\",\"71.7\",\"55.4\",\"88.6\",\"49.6\",\"59.6\",\"53.0\",\"59.4\",\"59.1\",\"48.2\",\"32.2\",\"70.6\",\"81.5\",\"43.5\",\"40.3\",\"41.0\",\"54.6\",\"66.3\",\"57.3\",\"39.3\",\"63.1\",\"62.5\",\"30.4\",\"18.2\",\"59.1\",\"56.6\",\"30.7\",\"54.7\",\"29.2\",\"51.3\",\"69.8\",\"23.9\",\"47.8\",\"62.2\",\"21.8\",\"70.8\",\"43.1\",\"26.0\",\"49.0\",\"84.4\",\"35.3\",\"73.3\",\"37.4\",\"47.8\",\"80.8\",\"37.3\",\"80.4\",\"84.2\",\"28.9\",\"48.8\",\"73.1\",\"45.5\",\"53.9\",\"29.1\",\"71.8\",\"42.2\",\"62.3\",\"59.4\",\"41.5\",\"49.8\",\"89.2\",\"43.8\",\"36.7\",\"42.9\",\"44.4\",\"26.9\",\"37.5\",\"19.4\",\"20.7\",\"37.0\",\"29.7\",\"76.1\",\"88.2\",\"52.1\",\"38.8\",\"47.0\",\"49.2\",\"86.7\",\"33.1\",\"47.2\",\"32.2\",\"43.4\",\"45.1\",\"20.7\",\"34.8\",\"30.0\",\"40.4\",\"36.7\",\"67.1\",\"66.9\",\"59.3\",\"45.6\",\"36.1\",\"43.7\",\"41.6\",\"30.7\",\"21.5\",\"65.8\",\"66.5\",\"79.7\",\"53.9\",\"48.6\",\"52.1\",\"91.3\",\"36.0\",\"35.8\",\"48.4\",\"25.2\",\"19.5\",\"16.6\",\"20.0\",\"22.5\",\"26.1\",\"34.5\",\"50.9\",\"85.3\",\"26.7\",\"24.2\",\"26.7\",\"82.6\",\"53.6\",\"86.9\",\"60.0\",\"50.3\",\"38.1\",\"44.1\",\"42.1\",\"37.4\",\"64.8\",\"74.9\",\"46.8\",\"69.1\",\"49.7\",\"29.6\",\"46.2\",\"73.3\",\"48.0\",\"34.3\",\"46.3\",\"21.0\",\"80.3\",\"54.5\",\"43.1\",\"36.0\",\"50.1\",\"33.1\",\"21.4\"],\"yaxis\":\"y4\",\"type\":\"scatter\"},{\"marker\":{\"color\":\"rgb(12, 51, 131)\"},\"showlegend\":false,\"xaxis\":\"x5\",\"y\":[\"67.0\",\"67.6\",\"90.7\",\"69.0\",\"87.8\",\"84.3\",\"61.2\",\"58.5\",\"92.7\",\"59.8\",\"65.2\",\"49.2\",\"96.6\",\"68.3\",\"59.7\",\"43.8\",\"49.8\",\"50.5\",\"59.0\",\"71.2\",\"36.7\",\"90.6\",\"32.4\",\"59.3\",\"94.9\",\"47.9\",\"68.9\",\"33.1\",\"56.4\",\"43.9\",\"33.6\",\"84.8\",\"81.3\",\"87.4\",\"98.8\",\"84.3\",\"64.3\",\"41.2\",\"79.0\",\"87.0\",\"37.0\",\"46.5\",\"81.9\",\"60.6\",\"91.3\",\"33.8\",\"35.3\",\"53.7\",\"44.6\",\"30.3\",\"77.8\",\"34.9\",\"82.0\",\"37.0\",\"62.3\",\"52.9\",\"47.8\",\"37.4\",\"29.0\",\"83.6\",\"92.5\",\"94.5\",\"50.1\",\"59.5\",\"80.4\",\"36.0\",\"53.9\",\"51.5\",\"70.8\",\"63.1\",\"77.9\",\"66.2\",\"78.7\",\"76.6\",\"91.2\",\"42.7\",\"60.5\",\"81.9\",\"52.9\",\"55.7\",\"56.6\",\"55.0\",\"80.4\",\"79.6\",\"38.7\",\"38.8\",\"51.4\",\"51.1\",\"56.1\",\"49.1\",\"40.3\",\"32.2\",\"42.9\",\"69.4\",\"78.8\",\"28.3\",\"39.1\",\"53.2\",\"64.0\",\"57.5\",\"89.7\",\"64.3\",\"64.7\",\"49.7\",\"85.7\",\"86.9\",\"88.6\",\"96.8\",\"54.6\",\"83.5\",\"90.5\",\"83.6\",\"76.7\",\"53.0\",\"75.0\",\"34.4\",\"56.1\",\"94.4\",\"70.1\",\"62.7\",\"79.7\",\"55.5\",\"74.8\",\"73.4\",\"76.7\",\"54.6\",\"84.0\",\"32.2\",\"64.0\",\"31.8\",\"84.7\",\"80.7\",\"44.8\",\"82.4\",\"44.7\",\"85.1\",\"50.6\",\"83.9\",\"54.1\",\"61.6\",\"52.6\",\"49.1\",\"37.0\",\"69.0\",\"34.3\",\"67.6\",\"54.7\",\"35.8\",\"75.8\",\"37.1\",\"61.6\",\"33.1\",\"66.3\",\"79.8\",\"27.5\",\"56.8\",\"29.1\",\"79.5\",\"87.3\",\"71.8\",\"64.4\",\"27.5\",\"56.7\",\"79.3\",\"37.3\",\"60.1\",\"63.2\",\"29.7\",\"56.7\",\"61.0\",\"70.6\",\"59.7\",\"43.3\",\"70.1\",\"87.3\",\"31.7\",\"41.2\",\"57.3\",\"84.1\",\"67.4\",\"40.6\",\"29.5\",\"44.6\",\"91.0\",\"54.7\",\"60.3\",\"27.6\",\"60.5\",\"46.1\",\"63.2\",\"57.0\",\"71.3\",\"37.4\",\"40.6\",\"54.8\",\"60.4\",\"55.8\",\"76.5\",\"83.9\",\"63.0\",\"39.9\",\"44.6\",\"69.3\",\"55.6\",\"53.3\",\"69.9\",\"35.9\",\"73.8\",\"60.6\",\"54.1\",\"47.8\",\"65.3\",\"64.5\",\"53.4\",\"93.4\",\"75.0\",\"26.3\",\"69.5\",\"25.3\",\"55.4\",\"50.7\",\"67.2\",\"79.4\",\"26.0\",\"26.5\",\"35.7\",\"46.4\",\"84.4\",\"88.8\",\"61.1\",\"71.6\",\"55.7\",\"58.7\",\"31.8\",\"42.8\",\"61.4\",\"39.6\",\"70.4\",\"39.5\",\"79.4\",\"63.1\",\"46.8\",\"44.2\",\"57.0\",\"40.6\",\"86.9\",\"63.7\",\"50.2\",\"75.9\",\"59.7\",\"59.4\",\"48.7\",\"73.1\",\"50.2\",\"24.8\",\"71.7\",\"55.4\",\"88.6\",\"49.6\",\"59.6\",\"53.0\",\"59.4\",\"59.1\",\"48.2\",\"32.2\",\"70.6\",\"81.5\",\"43.5\",\"40.3\",\"41.0\",\"54.6\",\"66.3\",\"57.3\",\"39.3\",\"63.1\",\"62.5\",\"30.4\",\"18.2\",\"59.1\",\"56.6\",\"30.7\",\"54.7\",\"29.2\",\"51.3\",\"69.8\",\"23.9\",\"47.8\",\"62.2\",\"21.8\",\"70.8\",\"43.1\",\"26.0\",\"49.0\",\"84.4\",\"35.3\",\"73.3\",\"37.4\",\"47.8\",\"80.8\",\"37.3\",\"80.4\",\"84.2\",\"28.9\",\"48.8\",\"73.1\",\"45.5\",\"53.9\",\"29.1\",\"71.8\",\"42.2\",\"62.3\",\"59.4\",\"41.5\",\"49.8\",\"89.2\",\"43.8\",\"36.7\",\"42.9\",\"44.4\",\"26.9\",\"37.5\",\"19.4\",\"20.7\",\"37.0\",\"29.7\",\"76.1\",\"88.2\",\"52.1\",\"38.8\",\"47.0\",\"49.2\",\"86.7\",\"33.1\",\"47.2\",\"32.2\",\"43.4\",\"45.1\",\"20.7\",\"34.8\",\"30.0\",\"40.4\",\"36.7\",\"67.1\",\"66.9\",\"59.3\",\"45.6\",\"36.1\",\"43.7\",\"41.6\",\"30.7\",\"21.5\",\"65.8\",\"66.5\",\"79.7\",\"53.9\",\"48.6\",\"52.1\",\"91.3\",\"36.0\",\"35.8\",\"48.4\",\"25.2\",\"19.5\",\"16.6\",\"20.0\",\"22.5\",\"26.1\",\"34.5\",\"50.9\",\"85.3\",\"26.7\",\"24.2\",\"26.7\",\"82.6\",\"53.6\",\"86.9\",\"60.0\",\"50.3\",\"38.1\",\"44.1\",\"42.1\",\"37.4\",\"64.8\",\"74.9\",\"46.8\",\"69.1\",\"49.7\",\"29.6\",\"46.2\",\"73.3\",\"48.0\",\"34.3\",\"46.3\",\"21.0\",\"80.3\",\"54.5\",\"43.1\",\"36.0\",\"50.1\",\"33.1\",\"21.4\"],\"yaxis\":\"y5\",\"type\":\"box\"},{\"marker\":{\"color\":[1,2,3,4,5,6,7,8,9,10,11,12,13,14,15,16,17,18,19,20,21,22,23,24,25,26,27,28,29,30,31,32,33,34,35,36,37,38,39,40,41,42,43,44,45,46,47,48,49,50,51,52,53,54,55,56,57,58,59,60,61,62,63,64,65,66,67,68,69,70,71,72,73,74,75,76,77,78,79,80,81,82,83,84,85,86,87,88,89,90,91,92,93,94,95,96,97,98,99,100,101,102,103,104,105,106,107,108,109,110,111,112,113,114,115,116,117,118,119,120,121,122,123,124,125,126,127,128,129,130,131,132,133,134,135,136,137,138,139,140,141,142,143,144,145,146,147,148,149,150,151,152,153,154,155,156,157,158,159,160,161,162,163,164,165,166,167,168,169,170,171,172,173,174,175,176,177,178,179,180,181,182,183,184,185,186,187,188,189,190,191,192,193,194,195,196,197,198,199,200,201,202,203,204,205,206,207,208,209,210,211,212,213,214,215,216,217,218,219,220,221,222,223,224,225,226,227,228,229,230,231,232,233,234,235,236,237,238,239,240,241,242,243,244,245,246,247,248,249,250,251,252,253,254,255,256,257,258,259,260,261,262,263,264,265,266,267,268,269,270,271,272,273,274,275,276,277,278,279,280,281,282,283,284,285,286,287,288,289,290,291,292,293,294,295,296,297,298,299,300,301,302,303,304,305,306,307,308,309,310,311,312,313,314,315,316,317,318,319,320,321,322,323,324,325,326,327,328,329,330,331,332,333,334,335,336,337,338,339,340,341,342,343,344,345,346,347,348,349,350,351,352,353,354,355,356,357,358,359,360,361,362,363,364,365,366,367,368,369,370,371,372,373,374,375,376,377,378,379,380,381,382,383,384,385,386,387,388,389,390,391,392,393,394,395,396,397,398,399,400,401],\"colorscale\":[[0.0,\"rgb(12, 51, 131)\"],[1.0,\"rgb(217, 30, 30)\"]],\"showscale\":false,\"size\":6},\"mode\":\"markers\",\"showlegend\":false,\"x\":[\"94.3\",\"93.3\",\"93.2\",\"92.9\",\"92.0\",\"91.9\",\"90.9\",\"89.5\",\"87.5\",\"87.5\",\"87.1\",\"85.5\",\"84.6\",\"84.4\",\"83.0\",\"81.0\",\"80.9\",\"79.9\",\"79.4\",\"79.3\",\"79.2\",\"78.7\",\"76.1\",\"74.3\",\"73.3\",\"73.2\",\"72.8\",\"72.3\",\"71.9\",\"71.9\",\"71.9\",\"71.8\",\"71.2\",\"70.9\",\"70.9\",\"70.4\",\"70.0\",\"69.9\",\"69.6\",\"69.4\",\"68.6\",\"67.8\",\"67.5\",\"66.8\",\"66.5\",\"65.9\",\"65.9\",\"65.2\",\"65.1\",\"64.8\",\"64.7\",\"64.5\",\"64.5\",\"64.1\",\"63.7\",\"63.7\",\"63.6\",\"62.9\",\"62.8\",\"62.7\",\"62.2\",\"62.2\",\"61.9\",\"61.3\",\"61.2\",\"61.1\",\"61.0\",\"60.7\",\"59.8\",\"59.6\",\"59.2\",\"59.1\",\"59.0\",\"58.9\",\"58.4\",\"58.4\",\"58.2\",\"58.1\",\"58.0\",\"57.9\",\"57.6\",\"57.3\",\"56.9\",\"56.9\",\"56.6\",\"56.5\",\"56.5\",\"56.4\",\"56.4\",\"56.2\",\"56.1\",\"56.1\",\"55.5\",\"55.3\",\"55.3\",\"55.2\",\"55.1\",\"54.6\",\"54.6\",\"54.6\",\"54.3\",\"54.0\",\"53.9\",\"53.9\",\"53.9\",\"53.9\",\"53.8\",\"53.8\",\"53.7\",\"53.7\",\"53.6\",\"53.6\",\"53.4\",\"53.4\",\"53.4\",\"53.2\",\"53.1\",\"53.0\",\"52.9\",\"52.8\",\"52.7\",\"52.7\",\"52.7\",\"52.6\",\"52.6\",\"52.5\",\"52.5\",\"52.5\",\"52.4\",\"52.1\",\"52.0\",\"51.9\",\"51.9\",\"51.9\",\"51.6\",\"51.4\",\"51.4\",\"51.2\",\"51.1\",\"51.0\",\"50.9\",\"50.9\",\"50.9\",\"50.5\",\"50.5\",\"50.4\",\"50.3\",\"50.2\",\"50.2\",\"50.1\",\"50.1\",\"50.0\",\"49.9\",\"49.7\",\"49.3\",\"49.2\",\"49.1\",\"49.1\",\"49.1\",\"49.0\",\"49.0\",\"48.6\",\"48.3\",\"48.2\",\"48.1\",\"48.1\",\"48.1\",\"48.1\",\"48.0\",\"47.9\",\"47.8\",\"47.8\",\"47.7\",\"47.7\",\"47.5\",\"47.5\",\"47.3\",\"47.1\",\"47.1\",\"47.0\",\"47.0\",\"46.9\",\"46.9\",\"46.9\",\"46.8\",\"46.7\",\"46.7\",\"46.6\",\"46.6\",\"46.6\",\"46.5\",\"46.3\",\"46.2\",\"46.2\",\"46.1\",\"46.0\",\"46.0\",\"45.9\",\"45.7\",\"45.6\",\"45.6\",\"-\",\"-\",\"-\",\"-\",\"-\",\"-\",\"-\",\"-\",\"-\",\"-\",\"-\",\"-\",\"-\",\"-\",\"-\",\"-\",\"-\",\"-\",\"-\",\"-\",\"-\",\"-\",\"-\",\"-\",\"-\",\"-\",\"-\",\"-\",\"-\",\"-\",\"-\",\"-\",\"-\",\"-\",\"-\",\"-\",\"-\",\"-\",\"-\",\"-\",\"-\",\"-\",\"-\",\"-\",\"-\",\"-\",\"-\",\"-\",\"-\",\"-\",\"-\",\"-\",\"-\",\"-\",\"-\",\"-\",\"-\",\"-\",\"-\",\"-\",\"-\",\"-\",\"-\",\"-\",\"-\",\"-\",\"-\",\"-\",\"-\",\"-\",\"-\",\"-\",\"-\",\"-\",\"-\",\"-\",\"-\",\"-\",\"-\",\"-\",\"-\",\"-\",\"-\",\"-\",\"-\",\"-\",\"-\",\"-\",\"-\",\"-\",\"-\",\"-\",\"-\",\"-\",\"-\",\"-\",\"-\",\"-\",\"-\",\"-\",\"-\",\"-\",\"-\",\"-\",\"-\",\"-\",\"-\",\"-\",\"-\",\"-\",\"-\",\"-\",\"-\",\"-\",\"-\",\"-\",\"-\",\"-\",\"-\",\"-\",\"-\",\"-\",\"-\",\"-\",\"-\",\"-\",\"-\",\"-\",\"-\",\"-\",\"-\",\"-\",\"-\",\"-\",\"-\",\"-\",\"-\",\"-\",\"-\",\"-\",\"-\",\"-\",\"-\",\"-\",\"-\",\"-\",\"-\",\"-\",\"-\",\"-\",\"-\",\"-\",\"-\",\"-\",\"-\",\"-\",\"-\",\"-\",\"-\",\"-\",\"-\",\"-\",\"-\",\"-\",\"-\",\"-\",\"-\",\"-\",\"-\",\"-\",\"-\",\"-\",\"-\",\"-\",\"-\",\"-\",\"-\",\"-\",\"-\",\"-\",\"-\",\"-\",\"-\",\"-\",\"-\",\"-\",\"-\",\"-\",\"-\",\"-\",\"-\",\"-\",\"-\",\"-\",\"-\",\"-\",\"-\",\"-\",\"-\",\"-\"],\"xaxis\":\"x6\",\"y\":[\"67.0\",\"67.6\",\"90.7\",\"69.0\",\"87.8\",\"84.3\",\"61.2\",\"58.5\",\"92.7\",\"59.8\",\"65.2\",\"49.2\",\"96.6\",\"68.3\",\"59.7\",\"43.8\",\"49.8\",\"50.5\",\"59.0\",\"71.2\",\"36.7\",\"90.6\",\"32.4\",\"59.3\",\"94.9\",\"47.9\",\"68.9\",\"33.1\",\"56.4\",\"43.9\",\"33.6\",\"84.8\",\"81.3\",\"87.4\",\"98.8\",\"84.3\",\"64.3\",\"41.2\",\"79.0\",\"87.0\",\"37.0\",\"46.5\",\"81.9\",\"60.6\",\"91.3\",\"33.8\",\"35.3\",\"53.7\",\"44.6\",\"30.3\",\"77.8\",\"34.9\",\"82.0\",\"37.0\",\"62.3\",\"52.9\",\"47.8\",\"37.4\",\"29.0\",\"83.6\",\"92.5\",\"94.5\",\"50.1\",\"59.5\",\"80.4\",\"36.0\",\"53.9\",\"51.5\",\"70.8\",\"63.1\",\"77.9\",\"66.2\",\"78.7\",\"76.6\",\"91.2\",\"42.7\",\"60.5\",\"81.9\",\"52.9\",\"55.7\",\"56.6\",\"55.0\",\"80.4\",\"79.6\",\"38.7\",\"38.8\",\"51.4\",\"51.1\",\"56.1\",\"49.1\",\"40.3\",\"32.2\",\"42.9\",\"69.4\",\"78.8\",\"28.3\",\"39.1\",\"53.2\",\"64.0\",\"57.5\",\"89.7\",\"64.3\",\"64.7\",\"49.7\",\"85.7\",\"86.9\",\"88.6\",\"96.8\",\"54.6\",\"83.5\",\"90.5\",\"83.6\",\"76.7\",\"53.0\",\"75.0\",\"34.4\",\"56.1\",\"94.4\",\"70.1\",\"62.7\",\"79.7\",\"55.5\",\"74.8\",\"73.4\",\"76.7\",\"54.6\",\"84.0\",\"32.2\",\"64.0\",\"31.8\",\"84.7\",\"80.7\",\"44.8\",\"82.4\",\"44.7\",\"85.1\",\"50.6\",\"83.9\",\"54.1\",\"61.6\",\"52.6\",\"49.1\",\"37.0\",\"69.0\",\"34.3\",\"67.6\",\"54.7\",\"35.8\",\"75.8\",\"37.1\",\"61.6\",\"33.1\",\"66.3\",\"79.8\",\"27.5\",\"56.8\",\"29.1\",\"79.5\",\"87.3\",\"71.8\",\"64.4\",\"27.5\",\"56.7\",\"79.3\",\"37.3\",\"60.1\",\"63.2\",\"29.7\",\"56.7\",\"61.0\",\"70.6\",\"59.7\",\"43.3\",\"70.1\",\"87.3\",\"31.7\",\"41.2\",\"57.3\",\"84.1\",\"67.4\",\"40.6\",\"29.5\",\"44.6\",\"91.0\",\"54.7\",\"60.3\",\"27.6\",\"60.5\",\"46.1\",\"63.2\",\"57.0\",\"71.3\",\"37.4\",\"40.6\",\"54.8\",\"60.4\",\"55.8\",\"76.5\",\"83.9\",\"63.0\",\"39.9\",\"44.6\",\"69.3\",\"55.6\",\"53.3\",\"69.9\",\"35.9\",\"73.8\",\"60.6\",\"54.1\",\"47.8\",\"65.3\",\"64.5\",\"53.4\",\"93.4\",\"75.0\",\"26.3\",\"69.5\",\"25.3\",\"55.4\",\"50.7\",\"67.2\",\"79.4\",\"26.0\",\"26.5\",\"35.7\",\"46.4\",\"84.4\",\"88.8\",\"61.1\",\"71.6\",\"55.7\",\"58.7\",\"31.8\",\"42.8\",\"61.4\",\"39.6\",\"70.4\",\"39.5\",\"79.4\",\"63.1\",\"46.8\",\"44.2\",\"57.0\",\"40.6\",\"86.9\",\"63.7\",\"50.2\",\"75.9\",\"59.7\",\"59.4\",\"48.7\",\"73.1\",\"50.2\",\"24.8\",\"71.7\",\"55.4\",\"88.6\",\"49.6\",\"59.6\",\"53.0\",\"59.4\",\"59.1\",\"48.2\",\"32.2\",\"70.6\",\"81.5\",\"43.5\",\"40.3\",\"41.0\",\"54.6\",\"66.3\",\"57.3\",\"39.3\",\"63.1\",\"62.5\",\"30.4\",\"18.2\",\"59.1\",\"56.6\",\"30.7\",\"54.7\",\"29.2\",\"51.3\",\"69.8\",\"23.9\",\"47.8\",\"62.2\",\"21.8\",\"70.8\",\"43.1\",\"26.0\",\"49.0\",\"84.4\",\"35.3\",\"73.3\",\"37.4\",\"47.8\",\"80.8\",\"37.3\",\"80.4\",\"84.2\",\"28.9\",\"48.8\",\"73.1\",\"45.5\",\"53.9\",\"29.1\",\"71.8\",\"42.2\",\"62.3\",\"59.4\",\"41.5\",\"49.8\",\"89.2\",\"43.8\",\"36.7\",\"42.9\",\"44.4\",\"26.9\",\"37.5\",\"19.4\",\"20.7\",\"37.0\",\"29.7\",\"76.1\",\"88.2\",\"52.1\",\"38.8\",\"47.0\",\"49.2\",\"86.7\",\"33.1\",\"47.2\",\"32.2\",\"43.4\",\"45.1\",\"20.7\",\"34.8\",\"30.0\",\"40.4\",\"36.7\",\"67.1\",\"66.9\",\"59.3\",\"45.6\",\"36.1\",\"43.7\",\"41.6\",\"30.7\",\"21.5\",\"65.8\",\"66.5\",\"79.7\",\"53.9\",\"48.6\",\"52.1\",\"91.3\",\"36.0\",\"35.8\",\"48.4\",\"25.2\",\"19.5\",\"16.6\",\"20.0\",\"22.5\",\"26.1\",\"34.5\",\"50.9\",\"85.3\",\"26.7\",\"24.2\",\"26.7\",\"82.6\",\"53.6\",\"86.9\",\"60.0\",\"50.3\",\"38.1\",\"44.1\",\"42.1\",\"37.4\",\"64.8\",\"74.9\",\"46.8\",\"69.1\",\"49.7\",\"29.6\",\"46.2\",\"73.3\",\"48.0\",\"34.3\",\"46.3\",\"21.0\",\"80.3\",\"54.5\",\"43.1\",\"36.0\",\"50.1\",\"33.1\",\"21.4\"],\"yaxis\":\"y6\",\"type\":\"scatter\"},{\"marker\":{\"color\":[1,2,3,4,5,6,7,8,9,10,11,12,13,14,15,16,17,18,19,20,21,22,23,24,25,26,27,28,29,30,31,32,33,34,35,36,37,38,39,40,41,42,43,44,45,46,47,48,49,50,51,52,53,54,55,56,57,58,59,60,61,62,63,64,65,66,67,68,69,70,71,72,73,74,75,76,77,78,79,80,81,82,83,84,85,86,87,88,89,90,91,92,93,94,95,96,97,98,99,100,101,102,103,104,105,106,107,108,109,110,111,112,113,114,115,116,117,118,119,120,121,122,123,124,125,126,127,128,129,130,131,132,133,134,135,136,137,138,139,140,141,142,143,144,145,146,147,148,149,150,151,152,153,154,155,156,157,158,159,160,161,162,163,164,165,166,167,168,169,170,171,172,173,174,175,176,177,178,179,180,181,182,183,184,185,186,187,188,189,190,191,192,193,194,195,196,197,198,199,200,201,202,203,204,205,206,207,208,209,210,211,212,213,214,215,216,217,218,219,220,221,222,223,224,225,226,227,228,229,230,231,232,233,234,235,236,237,238,239,240,241,242,243,244,245,246,247,248,249,250,251,252,253,254,255,256,257,258,259,260,261,262,263,264,265,266,267,268,269,270,271,272,273,274,275,276,277,278,279,280,281,282,283,284,285,286,287,288,289,290,291,292,293,294,295,296,297,298,299,300,301,302,303,304,305,306,307,308,309,310,311,312,313,314,315,316,317,318,319,320,321,322,323,324,325,326,327,328,329,330,331,332,333,334,335,336,337,338,339,340,341,342,343,344,345,346,347,348,349,350,351,352,353,354,355,356,357,358,359,360,361,362,363,364,365,366,367,368,369,370,371,372,373,374,375,376,377,378,379,380,381,382,383,384,385,386,387,388,389,390,391,392,393,394,395,396,397,398,399,400,401],\"colorscale\":[[0.0,\"rgb(12, 51, 131)\"],[1.0,\"rgb(217, 30, 30)\"]],\"showscale\":false,\"size\":6},\"mode\":\"markers\",\"showlegend\":false,\"x\":[98.1,98.6,97.7,96.7,95.6,88.2,94.7,96.7,88.3,90.8,89.9,90.5,90.2,79.4,84.2,82.0,86.5,75.2,83.8,85.1,78.9,80.4,85.1,74.9,78.1,68.9,71.2,72.0,69.1,79.0,71.3,69.0,70.9,74.2,56.9,62.9,61.4,62.4,69.9,62.3,66.6,55.2,72.6,68.0,70.9,64.7,58.6,61.9,68.3,77.1,66.8,63.2,58.7,54.2,63.6,59.7,46.7,64.8,68.4,60.8,55.9,47.1,46.0,58.2,58.4,49.3,48.0,51.1,37.1,45.4,71.4,53.7,46.8,44.7,41.1,44.6,55.4,36.2,54.8,52.6,58.0,49.4,40.7,54.4,36.9,51.4,38.5,33.9,41.7,51.6,49.1,46.3,32.4,43.2,40.5,38.2,38.3,45.0,37.4,53.0,48.1,50.5,30.0,48.1,45.8,33.1,32.9,37.2,31.9,51.9,35.9,30.4,44.4,44.7,33.8,37.4,50.8,22.4,48.5,33.1,28.2,29.2,39.1,47.1,35.3,29.1,44.8,52.1,53.5,35.9,36.1,36.9,39.1,34.1,42.0,39.9,43.2,30.3,27.6,46.7,26.7,51.9,52.9,47.1,45.3,39.1,29.1,50.2,39.8,35.1,27.5,35.4,47.5,32.7,57.3,29.9,48.0,33.2,38.1,34.4,33.8,36.5,28.1,40.4,36.9,34.9,28.3,47.3,27.2,33.6,35.8,34.9,28.2,30.6,33.4,33.5,24.4,29.3,30.2,19.7,36.3,37.5,27.1,39.7,21.9,35.2,23.9,24.4,51.1,34.7,39.8,32.9,34.0,30.9,22.2,42.1,27.3,22.6,31.6,13.1,25.1,27.7,30.4,22.4,36.3,36.5,44.3,29.6,37.5,22.0,28.8,27.9,22.5,34.1,17.1,34.0,27.3,23.4,51.6,28.2,16.0,45.3,36.2,23.5,19.9,45.8,29.2,29.3,21.4,24.5,30.0,29.9,23.2,31.8,26.2,29.3,35.0,32.3,9.8,28.1,30.5,38.2,24.3,33.4,23.0,32.5,35.7,17.3,32.4,35.3,31.3,10.1,17.0,23.3,40.3,24.8,33.4,25.1,25.2,33.7,27.6,30.7,24.7,18.1,23.4,29.9,27.7,19.2,25.6,37.9,12.1,21.7,20.3,20.3,40.4,32.8,31.3,39.5,25.5,22.5,40.7,29.6,10.5,18.1,36.0,37.9,31.2,45.1,22.9,22.2,23.2,22.4,15.3,19.7,28.9,20.3,22.9,24.4,24.0,27.5,27.8,28.5,40.0,19.3,23.0,17.8,24.3,10.4,20.6,14.3,13.2,17.3,16.5,24.4,24.8,17.2,21.1,26.6,14.7,24.8,28.1,34.7,38.8,25.2,20.7,25.1,23.4,18.4,27.1,16.8,13.7,29.0,25.8,24.0,20.1,29.4,6.5,13.7,16.5,15.7,18.2,18.8,20.5,25.1,17.3,22.2,21.6,12.0,13.6,15.2,33.1,28.5,20.6,21.6,12.9,19.1,17.2,17.1,18.0,20.3,32.3,27.5,24.6,14.3,27.3,10.0,28.5,16.6,27.6,17.8,40.1,32.9,42.6,18.9,22.5,16.3,16.9,25.7,18.1,21.6,15.2,17.3,17.3,10.9,22.8,18.4,16.2,22.0,22.3,10.6,11.8,20.2,21.8,19.4,17.0,17.9,16.3,27.5,22.4,17.4,8.0],\"xaxis\":\"x7\",\"y\":[\"94.3\",\"93.3\",\"93.2\",\"92.9\",\"92.0\",\"91.9\",\"90.9\",\"89.5\",\"87.5\",\"87.5\",\"87.1\",\"85.5\",\"84.6\",\"84.4\",\"83.0\",\"81.0\",\"80.9\",\"79.9\",\"79.4\",\"79.3\",\"79.2\",\"78.7\",\"76.1\",\"74.3\",\"73.3\",\"73.2\",\"72.8\",\"72.3\",\"71.9\",\"71.9\",\"71.9\",\"71.8\",\"71.2\",\"70.9\",\"70.9\",\"70.4\",\"70.0\",\"69.9\",\"69.6\",\"69.4\",\"68.6\",\"67.8\",\"67.5\",\"66.8\",\"66.5\",\"65.9\",\"65.9\",\"65.2\",\"65.1\",\"64.8\",\"64.7\",\"64.5\",\"64.5\",\"64.1\",\"63.7\",\"63.7\",\"63.6\",\"62.9\",\"62.8\",\"62.7\",\"62.2\",\"62.2\",\"61.9\",\"61.3\",\"61.2\",\"61.1\",\"61.0\",\"60.7\",\"59.8\",\"59.6\",\"59.2\",\"59.1\",\"59.0\",\"58.9\",\"58.4\",\"58.4\",\"58.2\",\"58.1\",\"58.0\",\"57.9\",\"57.6\",\"57.3\",\"56.9\",\"56.9\",\"56.6\",\"56.5\",\"56.5\",\"56.4\",\"56.4\",\"56.2\",\"56.1\",\"56.1\",\"55.5\",\"55.3\",\"55.3\",\"55.2\",\"55.1\",\"54.6\",\"54.6\",\"54.6\",\"54.3\",\"54.0\",\"53.9\",\"53.9\",\"53.9\",\"53.9\",\"53.8\",\"53.8\",\"53.7\",\"53.7\",\"53.6\",\"53.6\",\"53.4\",\"53.4\",\"53.4\",\"53.2\",\"53.1\",\"53.0\",\"52.9\",\"52.8\",\"52.7\",\"52.7\",\"52.7\",\"52.6\",\"52.6\",\"52.5\",\"52.5\",\"52.5\",\"52.4\",\"52.1\",\"52.0\",\"51.9\",\"51.9\",\"51.9\",\"51.6\",\"51.4\",\"51.4\",\"51.2\",\"51.1\",\"51.0\",\"50.9\",\"50.9\",\"50.9\",\"50.5\",\"50.5\",\"50.4\",\"50.3\",\"50.2\",\"50.2\",\"50.1\",\"50.1\",\"50.0\",\"49.9\",\"49.7\",\"49.3\",\"49.2\",\"49.1\",\"49.1\",\"49.1\",\"49.0\",\"49.0\",\"48.6\",\"48.3\",\"48.2\",\"48.1\",\"48.1\",\"48.1\",\"48.1\",\"48.0\",\"47.9\",\"47.8\",\"47.8\",\"47.7\",\"47.7\",\"47.5\",\"47.5\",\"47.3\",\"47.1\",\"47.1\",\"47.0\",\"47.0\",\"46.9\",\"46.9\",\"46.9\",\"46.8\",\"46.7\",\"46.7\",\"46.6\",\"46.6\",\"46.6\",\"46.5\",\"46.3\",\"46.2\",\"46.2\",\"46.1\",\"46.0\",\"46.0\",\"45.9\",\"45.7\",\"45.6\",\"45.6\",\"-\",\"-\",\"-\",\"-\",\"-\",\"-\",\"-\",\"-\",\"-\",\"-\",\"-\",\"-\",\"-\",\"-\",\"-\",\"-\",\"-\",\"-\",\"-\",\"-\",\"-\",\"-\",\"-\",\"-\",\"-\",\"-\",\"-\",\"-\",\"-\",\"-\",\"-\",\"-\",\"-\",\"-\",\"-\",\"-\",\"-\",\"-\",\"-\",\"-\",\"-\",\"-\",\"-\",\"-\",\"-\",\"-\",\"-\",\"-\",\"-\",\"-\",\"-\",\"-\",\"-\",\"-\",\"-\",\"-\",\"-\",\"-\",\"-\",\"-\",\"-\",\"-\",\"-\",\"-\",\"-\",\"-\",\"-\",\"-\",\"-\",\"-\",\"-\",\"-\",\"-\",\"-\",\"-\",\"-\",\"-\",\"-\",\"-\",\"-\",\"-\",\"-\",\"-\",\"-\",\"-\",\"-\",\"-\",\"-\",\"-\",\"-\",\"-\",\"-\",\"-\",\"-\",\"-\",\"-\",\"-\",\"-\",\"-\",\"-\",\"-\",\"-\",\"-\",\"-\",\"-\",\"-\",\"-\",\"-\",\"-\",\"-\",\"-\",\"-\",\"-\",\"-\",\"-\",\"-\",\"-\",\"-\",\"-\",\"-\",\"-\",\"-\",\"-\",\"-\",\"-\",\"-\",\"-\",\"-\",\"-\",\"-\",\"-\",\"-\",\"-\",\"-\",\"-\",\"-\",\"-\",\"-\",\"-\",\"-\",\"-\",\"-\",\"-\",\"-\",\"-\",\"-\",\"-\",\"-\",\"-\",\"-\",\"-\",\"-\",\"-\",\"-\",\"-\",\"-\",\"-\",\"-\",\"-\",\"-\",\"-\",\"-\",\"-\",\"-\",\"-\",\"-\",\"-\",\"-\",\"-\",\"-\",\"-\",\"-\",\"-\",\"-\",\"-\",\"-\",\"-\",\"-\",\"-\",\"-\",\"-\",\"-\",\"-\",\"-\",\"-\",\"-\",\"-\",\"-\",\"-\",\"-\",\"-\",\"-\",\"-\",\"-\",\"-\",\"-\",\"-\",\"-\",\"-\",\"-\"],\"yaxis\":\"y7\",\"type\":\"scatter\"},{\"marker\":{\"color\":[1,2,3,4,5,6,7,8,9,10,11,12,13,14,15,16,17,18,19,20,21,22,23,24,25,26,27,28,29,30,31,32,33,34,35,36,37,38,39,40,41,42,43,44,45,46,47,48,49,50,51,52,53,54,55,56,57,58,59,60,61,62,63,64,65,66,67,68,69,70,71,72,73,74,75,76,77,78,79,80,81,82,83,84,85,86,87,88,89,90,91,92,93,94,95,96,97,98,99,100,101,102,103,104,105,106,107,108,109,110,111,112,113,114,115,116,117,118,119,120,121,122,123,124,125,126,127,128,129,130,131,132,133,134,135,136,137,138,139,140,141,142,143,144,145,146,147,148,149,150,151,152,153,154,155,156,157,158,159,160,161,162,163,164,165,166,167,168,169,170,171,172,173,174,175,176,177,178,179,180,181,182,183,184,185,186,187,188,189,190,191,192,193,194,195,196,197,198,199,200,201,202,203,204,205,206,207,208,209,210,211,212,213,214,215,216,217,218,219,220,221,222,223,224,225,226,227,228,229,230,231,232,233,234,235,236,237,238,239,240,241,242,243,244,245,246,247,248,249,250,251,252,253,254,255,256,257,258,259,260,261,262,263,264,265,266,267,268,269,270,271,272,273,274,275,276,277,278,279,280,281,282,283,284,285,286,287,288,289,290,291,292,293,294,295,296,297,298,299,300,301,302,303,304,305,306,307,308,309,310,311,312,313,314,315,316,317,318,319,320,321,322,323,324,325,326,327,328,329,330,331,332,333,334,335,336,337,338,339,340,341,342,343,344,345,346,347,348,349,350,351,352,353,354,355,356,357,358,359,360,361,362,363,364,365,366,367,368,369,370,371,372,373,374,375,376,377,378,379,380,381,382,383,384,385,386,387,388,389,390,391,392,393,394,395,396,397,398,399,400,401],\"colorscale\":[[0.0,\"rgb(12, 51, 131)\"],[1.0,\"rgb(217, 30, 30)\"]],\"showscale\":false,\"size\":6},\"mode\":\"markers\",\"showlegend\":false,\"x\":[\"67.0\",\"67.6\",\"90.7\",\"69.0\",\"87.8\",\"84.3\",\"61.2\",\"58.5\",\"92.7\",\"59.8\",\"65.2\",\"49.2\",\"96.6\",\"68.3\",\"59.7\",\"43.8\",\"49.8\",\"50.5\",\"59.0\",\"71.2\",\"36.7\",\"90.6\",\"32.4\",\"59.3\",\"94.9\",\"47.9\",\"68.9\",\"33.1\",\"56.4\",\"43.9\",\"33.6\",\"84.8\",\"81.3\",\"87.4\",\"98.8\",\"84.3\",\"64.3\",\"41.2\",\"79.0\",\"87.0\",\"37.0\",\"46.5\",\"81.9\",\"60.6\",\"91.3\",\"33.8\",\"35.3\",\"53.7\",\"44.6\",\"30.3\",\"77.8\",\"34.9\",\"82.0\",\"37.0\",\"62.3\",\"52.9\",\"47.8\",\"37.4\",\"29.0\",\"83.6\",\"92.5\",\"94.5\",\"50.1\",\"59.5\",\"80.4\",\"36.0\",\"53.9\",\"51.5\",\"70.8\",\"63.1\",\"77.9\",\"66.2\",\"78.7\",\"76.6\",\"91.2\",\"42.7\",\"60.5\",\"81.9\",\"52.9\",\"55.7\",\"56.6\",\"55.0\",\"80.4\",\"79.6\",\"38.7\",\"38.8\",\"51.4\",\"51.1\",\"56.1\",\"49.1\",\"40.3\",\"32.2\",\"42.9\",\"69.4\",\"78.8\",\"28.3\",\"39.1\",\"53.2\",\"64.0\",\"57.5\",\"89.7\",\"64.3\",\"64.7\",\"49.7\",\"85.7\",\"86.9\",\"88.6\",\"96.8\",\"54.6\",\"83.5\",\"90.5\",\"83.6\",\"76.7\",\"53.0\",\"75.0\",\"34.4\",\"56.1\",\"94.4\",\"70.1\",\"62.7\",\"79.7\",\"55.5\",\"74.8\",\"73.4\",\"76.7\",\"54.6\",\"84.0\",\"32.2\",\"64.0\",\"31.8\",\"84.7\",\"80.7\",\"44.8\",\"82.4\",\"44.7\",\"85.1\",\"50.6\",\"83.9\",\"54.1\",\"61.6\",\"52.6\",\"49.1\",\"37.0\",\"69.0\",\"34.3\",\"67.6\",\"54.7\",\"35.8\",\"75.8\",\"37.1\",\"61.6\",\"33.1\",\"66.3\",\"79.8\",\"27.5\",\"56.8\",\"29.1\",\"79.5\",\"87.3\",\"71.8\",\"64.4\",\"27.5\",\"56.7\",\"79.3\",\"37.3\",\"60.1\",\"63.2\",\"29.7\",\"56.7\",\"61.0\",\"70.6\",\"59.7\",\"43.3\",\"70.1\",\"87.3\",\"31.7\",\"41.2\",\"57.3\",\"84.1\",\"67.4\",\"40.6\",\"29.5\",\"44.6\",\"91.0\",\"54.7\",\"60.3\",\"27.6\",\"60.5\",\"46.1\",\"63.2\",\"57.0\",\"71.3\",\"37.4\",\"40.6\",\"54.8\",\"60.4\",\"55.8\",\"76.5\",\"83.9\",\"63.0\",\"39.9\",\"44.6\",\"69.3\",\"55.6\",\"53.3\",\"69.9\",\"35.9\",\"73.8\",\"60.6\",\"54.1\",\"47.8\",\"65.3\",\"64.5\",\"53.4\",\"93.4\",\"75.0\",\"26.3\",\"69.5\",\"25.3\",\"55.4\",\"50.7\",\"67.2\",\"79.4\",\"26.0\",\"26.5\",\"35.7\",\"46.4\",\"84.4\",\"88.8\",\"61.1\",\"71.6\",\"55.7\",\"58.7\",\"31.8\",\"42.8\",\"61.4\",\"39.6\",\"70.4\",\"39.5\",\"79.4\",\"63.1\",\"46.8\",\"44.2\",\"57.0\",\"40.6\",\"86.9\",\"63.7\",\"50.2\",\"75.9\",\"59.7\",\"59.4\",\"48.7\",\"73.1\",\"50.2\",\"24.8\",\"71.7\",\"55.4\",\"88.6\",\"49.6\",\"59.6\",\"53.0\",\"59.4\",\"59.1\",\"48.2\",\"32.2\",\"70.6\",\"81.5\",\"43.5\",\"40.3\",\"41.0\",\"54.6\",\"66.3\",\"57.3\",\"39.3\",\"63.1\",\"62.5\",\"30.4\",\"18.2\",\"59.1\",\"56.6\",\"30.7\",\"54.7\",\"29.2\",\"51.3\",\"69.8\",\"23.9\",\"47.8\",\"62.2\",\"21.8\",\"70.8\",\"43.1\",\"26.0\",\"49.0\",\"84.4\",\"35.3\",\"73.3\",\"37.4\",\"47.8\",\"80.8\",\"37.3\",\"80.4\",\"84.2\",\"28.9\",\"48.8\",\"73.1\",\"45.5\",\"53.9\",\"29.1\",\"71.8\",\"42.2\",\"62.3\",\"59.4\",\"41.5\",\"49.8\",\"89.2\",\"43.8\",\"36.7\",\"42.9\",\"44.4\",\"26.9\",\"37.5\",\"19.4\",\"20.7\",\"37.0\",\"29.7\",\"76.1\",\"88.2\",\"52.1\",\"38.8\",\"47.0\",\"49.2\",\"86.7\",\"33.1\",\"47.2\",\"32.2\",\"43.4\",\"45.1\",\"20.7\",\"34.8\",\"30.0\",\"40.4\",\"36.7\",\"67.1\",\"66.9\",\"59.3\",\"45.6\",\"36.1\",\"43.7\",\"41.6\",\"30.7\",\"21.5\",\"65.8\",\"66.5\",\"79.7\",\"53.9\",\"48.6\",\"52.1\",\"91.3\",\"36.0\",\"35.8\",\"48.4\",\"25.2\",\"19.5\",\"16.6\",\"20.0\",\"22.5\",\"26.1\",\"34.5\",\"50.9\",\"85.3\",\"26.7\",\"24.2\",\"26.7\",\"82.6\",\"53.6\",\"86.9\",\"60.0\",\"50.3\",\"38.1\",\"44.1\",\"42.1\",\"37.4\",\"64.8\",\"74.9\",\"46.8\",\"69.1\",\"49.7\",\"29.6\",\"46.2\",\"73.3\",\"48.0\",\"34.3\",\"46.3\",\"21.0\",\"80.3\",\"54.5\",\"43.1\",\"36.0\",\"50.1\",\"33.1\",\"21.4\"],\"xaxis\":\"x8\",\"y\":[\"94.3\",\"93.3\",\"93.2\",\"92.9\",\"92.0\",\"91.9\",\"90.9\",\"89.5\",\"87.5\",\"87.5\",\"87.1\",\"85.5\",\"84.6\",\"84.4\",\"83.0\",\"81.0\",\"80.9\",\"79.9\",\"79.4\",\"79.3\",\"79.2\",\"78.7\",\"76.1\",\"74.3\",\"73.3\",\"73.2\",\"72.8\",\"72.3\",\"71.9\",\"71.9\",\"71.9\",\"71.8\",\"71.2\",\"70.9\",\"70.9\",\"70.4\",\"70.0\",\"69.9\",\"69.6\",\"69.4\",\"68.6\",\"67.8\",\"67.5\",\"66.8\",\"66.5\",\"65.9\",\"65.9\",\"65.2\",\"65.1\",\"64.8\",\"64.7\",\"64.5\",\"64.5\",\"64.1\",\"63.7\",\"63.7\",\"63.6\",\"62.9\",\"62.8\",\"62.7\",\"62.2\",\"62.2\",\"61.9\",\"61.3\",\"61.2\",\"61.1\",\"61.0\",\"60.7\",\"59.8\",\"59.6\",\"59.2\",\"59.1\",\"59.0\",\"58.9\",\"58.4\",\"58.4\",\"58.2\",\"58.1\",\"58.0\",\"57.9\",\"57.6\",\"57.3\",\"56.9\",\"56.9\",\"56.6\",\"56.5\",\"56.5\",\"56.4\",\"56.4\",\"56.2\",\"56.1\",\"56.1\",\"55.5\",\"55.3\",\"55.3\",\"55.2\",\"55.1\",\"54.6\",\"54.6\",\"54.6\",\"54.3\",\"54.0\",\"53.9\",\"53.9\",\"53.9\",\"53.9\",\"53.8\",\"53.8\",\"53.7\",\"53.7\",\"53.6\",\"53.6\",\"53.4\",\"53.4\",\"53.4\",\"53.2\",\"53.1\",\"53.0\",\"52.9\",\"52.8\",\"52.7\",\"52.7\",\"52.7\",\"52.6\",\"52.6\",\"52.5\",\"52.5\",\"52.5\",\"52.4\",\"52.1\",\"52.0\",\"51.9\",\"51.9\",\"51.9\",\"51.6\",\"51.4\",\"51.4\",\"51.2\",\"51.1\",\"51.0\",\"50.9\",\"50.9\",\"50.9\",\"50.5\",\"50.5\",\"50.4\",\"50.3\",\"50.2\",\"50.2\",\"50.1\",\"50.1\",\"50.0\",\"49.9\",\"49.7\",\"49.3\",\"49.2\",\"49.1\",\"49.1\",\"49.1\",\"49.0\",\"49.0\",\"48.6\",\"48.3\",\"48.2\",\"48.1\",\"48.1\",\"48.1\",\"48.1\",\"48.0\",\"47.9\",\"47.8\",\"47.8\",\"47.7\",\"47.7\",\"47.5\",\"47.5\",\"47.3\",\"47.1\",\"47.1\",\"47.0\",\"47.0\",\"46.9\",\"46.9\",\"46.9\",\"46.8\",\"46.7\",\"46.7\",\"46.6\",\"46.6\",\"46.6\",\"46.5\",\"46.3\",\"46.2\",\"46.2\",\"46.1\",\"46.0\",\"46.0\",\"45.9\",\"45.7\",\"45.6\",\"45.6\",\"-\",\"-\",\"-\",\"-\",\"-\",\"-\",\"-\",\"-\",\"-\",\"-\",\"-\",\"-\",\"-\",\"-\",\"-\",\"-\",\"-\",\"-\",\"-\",\"-\",\"-\",\"-\",\"-\",\"-\",\"-\",\"-\",\"-\",\"-\",\"-\",\"-\",\"-\",\"-\",\"-\",\"-\",\"-\",\"-\",\"-\",\"-\",\"-\",\"-\",\"-\",\"-\",\"-\",\"-\",\"-\",\"-\",\"-\",\"-\",\"-\",\"-\",\"-\",\"-\",\"-\",\"-\",\"-\",\"-\",\"-\",\"-\",\"-\",\"-\",\"-\",\"-\",\"-\",\"-\",\"-\",\"-\",\"-\",\"-\",\"-\",\"-\",\"-\",\"-\",\"-\",\"-\",\"-\",\"-\",\"-\",\"-\",\"-\",\"-\",\"-\",\"-\",\"-\",\"-\",\"-\",\"-\",\"-\",\"-\",\"-\",\"-\",\"-\",\"-\",\"-\",\"-\",\"-\",\"-\",\"-\",\"-\",\"-\",\"-\",\"-\",\"-\",\"-\",\"-\",\"-\",\"-\",\"-\",\"-\",\"-\",\"-\",\"-\",\"-\",\"-\",\"-\",\"-\",\"-\",\"-\",\"-\",\"-\",\"-\",\"-\",\"-\",\"-\",\"-\",\"-\",\"-\",\"-\",\"-\",\"-\",\"-\",\"-\",\"-\",\"-\",\"-\",\"-\",\"-\",\"-\",\"-\",\"-\",\"-\",\"-\",\"-\",\"-\",\"-\",\"-\",\"-\",\"-\",\"-\",\"-\",\"-\",\"-\",\"-\",\"-\",\"-\",\"-\",\"-\",\"-\",\"-\",\"-\",\"-\",\"-\",\"-\",\"-\",\"-\",\"-\",\"-\",\"-\",\"-\",\"-\",\"-\",\"-\",\"-\",\"-\",\"-\",\"-\",\"-\",\"-\",\"-\",\"-\",\"-\",\"-\",\"-\",\"-\",\"-\",\"-\",\"-\",\"-\",\"-\",\"-\",\"-\",\"-\",\"-\",\"-\",\"-\",\"-\",\"-\",\"-\",\"-\",\"-\",\"-\"],\"yaxis\":\"y8\",\"type\":\"scatter\"},{\"marker\":{\"color\":\"rgb(12, 51, 131)\"},\"showlegend\":false,\"xaxis\":\"x9\",\"y\":[\"94.3\",\"93.3\",\"93.2\",\"92.9\",\"92.0\",\"91.9\",\"90.9\",\"89.5\",\"87.5\",\"87.5\",\"87.1\",\"85.5\",\"84.6\",\"84.4\",\"83.0\",\"81.0\",\"80.9\",\"79.9\",\"79.4\",\"79.3\",\"79.2\",\"78.7\",\"76.1\",\"74.3\",\"73.3\",\"73.2\",\"72.8\",\"72.3\",\"71.9\",\"71.9\",\"71.9\",\"71.8\",\"71.2\",\"70.9\",\"70.9\",\"70.4\",\"70.0\",\"69.9\",\"69.6\",\"69.4\",\"68.6\",\"67.8\",\"67.5\",\"66.8\",\"66.5\",\"65.9\",\"65.9\",\"65.2\",\"65.1\",\"64.8\",\"64.7\",\"64.5\",\"64.5\",\"64.1\",\"63.7\",\"63.7\",\"63.6\",\"62.9\",\"62.8\",\"62.7\",\"62.2\",\"62.2\",\"61.9\",\"61.3\",\"61.2\",\"61.1\",\"61.0\",\"60.7\",\"59.8\",\"59.6\",\"59.2\",\"59.1\",\"59.0\",\"58.9\",\"58.4\",\"58.4\",\"58.2\",\"58.1\",\"58.0\",\"57.9\",\"57.6\",\"57.3\",\"56.9\",\"56.9\",\"56.6\",\"56.5\",\"56.5\",\"56.4\",\"56.4\",\"56.2\",\"56.1\",\"56.1\",\"55.5\",\"55.3\",\"55.3\",\"55.2\",\"55.1\",\"54.6\",\"54.6\",\"54.6\",\"54.3\",\"54.0\",\"53.9\",\"53.9\",\"53.9\",\"53.9\",\"53.8\",\"53.8\",\"53.7\",\"53.7\",\"53.6\",\"53.6\",\"53.4\",\"53.4\",\"53.4\",\"53.2\",\"53.1\",\"53.0\",\"52.9\",\"52.8\",\"52.7\",\"52.7\",\"52.7\",\"52.6\",\"52.6\",\"52.5\",\"52.5\",\"52.5\",\"52.4\",\"52.1\",\"52.0\",\"51.9\",\"51.9\",\"51.9\",\"51.6\",\"51.4\",\"51.4\",\"51.2\",\"51.1\",\"51.0\",\"50.9\",\"50.9\",\"50.9\",\"50.5\",\"50.5\",\"50.4\",\"50.3\",\"50.2\",\"50.2\",\"50.1\",\"50.1\",\"50.0\",\"49.9\",\"49.7\",\"49.3\",\"49.2\",\"49.1\",\"49.1\",\"49.1\",\"49.0\",\"49.0\",\"48.6\",\"48.3\",\"48.2\",\"48.1\",\"48.1\",\"48.1\",\"48.1\",\"48.0\",\"47.9\",\"47.8\",\"47.8\",\"47.7\",\"47.7\",\"47.5\",\"47.5\",\"47.3\",\"47.1\",\"47.1\",\"47.0\",\"47.0\",\"46.9\",\"46.9\",\"46.9\",\"46.8\",\"46.7\",\"46.7\",\"46.6\",\"46.6\",\"46.6\",\"46.5\",\"46.3\",\"46.2\",\"46.2\",\"46.1\",\"46.0\",\"46.0\",\"45.9\",\"45.7\",\"45.6\",\"45.6\",\"-\",\"-\",\"-\",\"-\",\"-\",\"-\",\"-\",\"-\",\"-\",\"-\",\"-\",\"-\",\"-\",\"-\",\"-\",\"-\",\"-\",\"-\",\"-\",\"-\",\"-\",\"-\",\"-\",\"-\",\"-\",\"-\",\"-\",\"-\",\"-\",\"-\",\"-\",\"-\",\"-\",\"-\",\"-\",\"-\",\"-\",\"-\",\"-\",\"-\",\"-\",\"-\",\"-\",\"-\",\"-\",\"-\",\"-\",\"-\",\"-\",\"-\",\"-\",\"-\",\"-\",\"-\",\"-\",\"-\",\"-\",\"-\",\"-\",\"-\",\"-\",\"-\",\"-\",\"-\",\"-\",\"-\",\"-\",\"-\",\"-\",\"-\",\"-\",\"-\",\"-\",\"-\",\"-\",\"-\",\"-\",\"-\",\"-\",\"-\",\"-\",\"-\",\"-\",\"-\",\"-\",\"-\",\"-\",\"-\",\"-\",\"-\",\"-\",\"-\",\"-\",\"-\",\"-\",\"-\",\"-\",\"-\",\"-\",\"-\",\"-\",\"-\",\"-\",\"-\",\"-\",\"-\",\"-\",\"-\",\"-\",\"-\",\"-\",\"-\",\"-\",\"-\",\"-\",\"-\",\"-\",\"-\",\"-\",\"-\",\"-\",\"-\",\"-\",\"-\",\"-\",\"-\",\"-\",\"-\",\"-\",\"-\",\"-\",\"-\",\"-\",\"-\",\"-\",\"-\",\"-\",\"-\",\"-\",\"-\",\"-\",\"-\",\"-\",\"-\",\"-\",\"-\",\"-\",\"-\",\"-\",\"-\",\"-\",\"-\",\"-\",\"-\",\"-\",\"-\",\"-\",\"-\",\"-\",\"-\",\"-\",\"-\",\"-\",\"-\",\"-\",\"-\",\"-\",\"-\",\"-\",\"-\",\"-\",\"-\",\"-\",\"-\",\"-\",\"-\",\"-\",\"-\",\"-\",\"-\",\"-\",\"-\",\"-\",\"-\",\"-\",\"-\",\"-\",\"-\",\"-\",\"-\",\"-\",\"-\",\"-\",\"-\",\"-\",\"-\",\"-\",\"-\",\"-\",\"-\"],\"yaxis\":\"y9\",\"type\":\"box\"}],                        {\"height\":700,\"showlegend\":true,\"template\":{\"data\":{\"barpolar\":[{\"marker\":{\"line\":{\"color\":\"#E5ECF6\",\"width\":0.5},\"pattern\":{\"fillmode\":\"overlay\",\"size\":10,\"solidity\":0.2}},\"type\":\"barpolar\"}],\"bar\":[{\"error_x\":{\"color\":\"#2a3f5f\"},\"error_y\":{\"color\":\"#2a3f5f\"},\"marker\":{\"line\":{\"color\":\"#E5ECF6\",\"width\":0.5},\"pattern\":{\"fillmode\":\"overlay\",\"size\":10,\"solidity\":0.2}},\"type\":\"bar\"}],\"carpet\":[{\"aaxis\":{\"endlinecolor\":\"#2a3f5f\",\"gridcolor\":\"white\",\"linecolor\":\"white\",\"minorgridcolor\":\"white\",\"startlinecolor\":\"#2a3f5f\"},\"baxis\":{\"endlinecolor\":\"#2a3f5f\",\"gridcolor\":\"white\",\"linecolor\":\"white\",\"minorgridcolor\":\"white\",\"startlinecolor\":\"#2a3f5f\"},\"type\":\"carpet\"}],\"choropleth\":[{\"colorbar\":{\"outlinewidth\":0,\"ticks\":\"\"},\"type\":\"choropleth\"}],\"contourcarpet\":[{\"colorbar\":{\"outlinewidth\":0,\"ticks\":\"\"},\"type\":\"contourcarpet\"}],\"contour\":[{\"colorbar\":{\"outlinewidth\":0,\"ticks\":\"\"},\"colorscale\":[[0.0,\"#0d0887\"],[0.1111111111111111,\"#46039f\"],[0.2222222222222222,\"#7201a8\"],[0.3333333333333333,\"#9c179e\"],[0.4444444444444444,\"#bd3786\"],[0.5555555555555556,\"#d8576b\"],[0.6666666666666666,\"#ed7953\"],[0.7777777777777778,\"#fb9f3a\"],[0.8888888888888888,\"#fdca26\"],[1.0,\"#f0f921\"]],\"type\":\"contour\"}],\"heatmapgl\":[{\"colorbar\":{\"outlinewidth\":0,\"ticks\":\"\"},\"colorscale\":[[0.0,\"#0d0887\"],[0.1111111111111111,\"#46039f\"],[0.2222222222222222,\"#7201a8\"],[0.3333333333333333,\"#9c179e\"],[0.4444444444444444,\"#bd3786\"],[0.5555555555555556,\"#d8576b\"],[0.6666666666666666,\"#ed7953\"],[0.7777777777777778,\"#fb9f3a\"],[0.8888888888888888,\"#fdca26\"],[1.0,\"#f0f921\"]],\"type\":\"heatmapgl\"}],\"heatmap\":[{\"colorbar\":{\"outlinewidth\":0,\"ticks\":\"\"},\"colorscale\":[[0.0,\"#0d0887\"],[0.1111111111111111,\"#46039f\"],[0.2222222222222222,\"#7201a8\"],[0.3333333333333333,\"#9c179e\"],[0.4444444444444444,\"#bd3786\"],[0.5555555555555556,\"#d8576b\"],[0.6666666666666666,\"#ed7953\"],[0.7777777777777778,\"#fb9f3a\"],[0.8888888888888888,\"#fdca26\"],[1.0,\"#f0f921\"]],\"type\":\"heatmap\"}],\"histogram2dcontour\":[{\"colorbar\":{\"outlinewidth\":0,\"ticks\":\"\"},\"colorscale\":[[0.0,\"#0d0887\"],[0.1111111111111111,\"#46039f\"],[0.2222222222222222,\"#7201a8\"],[0.3333333333333333,\"#9c179e\"],[0.4444444444444444,\"#bd3786\"],[0.5555555555555556,\"#d8576b\"],[0.6666666666666666,\"#ed7953\"],[0.7777777777777778,\"#fb9f3a\"],[0.8888888888888888,\"#fdca26\"],[1.0,\"#f0f921\"]],\"type\":\"histogram2dcontour\"}],\"histogram2d\":[{\"colorbar\":{\"outlinewidth\":0,\"ticks\":\"\"},\"colorscale\":[[0.0,\"#0d0887\"],[0.1111111111111111,\"#46039f\"],[0.2222222222222222,\"#7201a8\"],[0.3333333333333333,\"#9c179e\"],[0.4444444444444444,\"#bd3786\"],[0.5555555555555556,\"#d8576b\"],[0.6666666666666666,\"#ed7953\"],[0.7777777777777778,\"#fb9f3a\"],[0.8888888888888888,\"#fdca26\"],[1.0,\"#f0f921\"]],\"type\":\"histogram2d\"}],\"histogram\":[{\"marker\":{\"pattern\":{\"fillmode\":\"overlay\",\"size\":10,\"solidity\":0.2}},\"type\":\"histogram\"}],\"mesh3d\":[{\"colorbar\":{\"outlinewidth\":0,\"ticks\":\"\"},\"type\":\"mesh3d\"}],\"parcoords\":[{\"line\":{\"colorbar\":{\"outlinewidth\":0,\"ticks\":\"\"}},\"type\":\"parcoords\"}],\"pie\":[{\"automargin\":true,\"type\":\"pie\"}],\"scatter3d\":[{\"line\":{\"colorbar\":{\"outlinewidth\":0,\"ticks\":\"\"}},\"marker\":{\"colorbar\":{\"outlinewidth\":0,\"ticks\":\"\"}},\"type\":\"scatter3d\"}],\"scattercarpet\":[{\"marker\":{\"colorbar\":{\"outlinewidth\":0,\"ticks\":\"\"}},\"type\":\"scattercarpet\"}],\"scattergeo\":[{\"marker\":{\"colorbar\":{\"outlinewidth\":0,\"ticks\":\"\"}},\"type\":\"scattergeo\"}],\"scattergl\":[{\"marker\":{\"colorbar\":{\"outlinewidth\":0,\"ticks\":\"\"}},\"type\":\"scattergl\"}],\"scattermapbox\":[{\"marker\":{\"colorbar\":{\"outlinewidth\":0,\"ticks\":\"\"}},\"type\":\"scattermapbox\"}],\"scatterpolargl\":[{\"marker\":{\"colorbar\":{\"outlinewidth\":0,\"ticks\":\"\"}},\"type\":\"scatterpolargl\"}],\"scatterpolar\":[{\"marker\":{\"colorbar\":{\"outlinewidth\":0,\"ticks\":\"\"}},\"type\":\"scatterpolar\"}],\"scatter\":[{\"fillpattern\":{\"fillmode\":\"overlay\",\"size\":10,\"solidity\":0.2},\"type\":\"scatter\"}],\"scatterternary\":[{\"marker\":{\"colorbar\":{\"outlinewidth\":0,\"ticks\":\"\"}},\"type\":\"scatterternary\"}],\"surface\":[{\"colorbar\":{\"outlinewidth\":0,\"ticks\":\"\"},\"colorscale\":[[0.0,\"#0d0887\"],[0.1111111111111111,\"#46039f\"],[0.2222222222222222,\"#7201a8\"],[0.3333333333333333,\"#9c179e\"],[0.4444444444444444,\"#bd3786\"],[0.5555555555555556,\"#d8576b\"],[0.6666666666666666,\"#ed7953\"],[0.7777777777777778,\"#fb9f3a\"],[0.8888888888888888,\"#fdca26\"],[1.0,\"#f0f921\"]],\"type\":\"surface\"}],\"table\":[{\"cells\":{\"fill\":{\"color\":\"#EBF0F8\"},\"line\":{\"color\":\"white\"}},\"header\":{\"fill\":{\"color\":\"#C8D4E3\"},\"line\":{\"color\":\"white\"}},\"type\":\"table\"}]},\"layout\":{\"annotationdefaults\":{\"arrowcolor\":\"#2a3f5f\",\"arrowhead\":0,\"arrowwidth\":1},\"autotypenumbers\":\"strict\",\"coloraxis\":{\"colorbar\":{\"outlinewidth\":0,\"ticks\":\"\"}},\"colorscale\":{\"diverging\":[[0,\"#8e0152\"],[0.1,\"#c51b7d\"],[0.2,\"#de77ae\"],[0.3,\"#f1b6da\"],[0.4,\"#fde0ef\"],[0.5,\"#f7f7f7\"],[0.6,\"#e6f5d0\"],[0.7,\"#b8e186\"],[0.8,\"#7fbc41\"],[0.9,\"#4d9221\"],[1,\"#276419\"]],\"sequential\":[[0.0,\"#0d0887\"],[0.1111111111111111,\"#46039f\"],[0.2222222222222222,\"#7201a8\"],[0.3333333333333333,\"#9c179e\"],[0.4444444444444444,\"#bd3786\"],[0.5555555555555556,\"#d8576b\"],[0.6666666666666666,\"#ed7953\"],[0.7777777777777778,\"#fb9f3a\"],[0.8888888888888888,\"#fdca26\"],[1.0,\"#f0f921\"]],\"sequentialminus\":[[0.0,\"#0d0887\"],[0.1111111111111111,\"#46039f\"],[0.2222222222222222,\"#7201a8\"],[0.3333333333333333,\"#9c179e\"],[0.4444444444444444,\"#bd3786\"],[0.5555555555555556,\"#d8576b\"],[0.6666666666666666,\"#ed7953\"],[0.7777777777777778,\"#fb9f3a\"],[0.8888888888888888,\"#fdca26\"],[1.0,\"#f0f921\"]]},\"colorway\":[\"#636efa\",\"#EF553B\",\"#00cc96\",\"#ab63fa\",\"#FFA15A\",\"#19d3f3\",\"#FF6692\",\"#B6E880\",\"#FF97FF\",\"#FECB52\"],\"font\":{\"color\":\"#2a3f5f\"},\"geo\":{\"bgcolor\":\"white\",\"lakecolor\":\"white\",\"landcolor\":\"#E5ECF6\",\"showlakes\":true,\"showland\":true,\"subunitcolor\":\"white\"},\"hoverlabel\":{\"align\":\"left\"},\"hovermode\":\"closest\",\"mapbox\":{\"style\":\"light\"},\"paper_bgcolor\":\"white\",\"plot_bgcolor\":\"#E5ECF6\",\"polar\":{\"angularaxis\":{\"gridcolor\":\"white\",\"linecolor\":\"white\",\"ticks\":\"\"},\"bgcolor\":\"#E5ECF6\",\"radialaxis\":{\"gridcolor\":\"white\",\"linecolor\":\"white\",\"ticks\":\"\"}},\"scene\":{\"xaxis\":{\"backgroundcolor\":\"#E5ECF6\",\"gridcolor\":\"white\",\"gridwidth\":2,\"linecolor\":\"white\",\"showbackground\":true,\"ticks\":\"\",\"zerolinecolor\":\"white\"},\"yaxis\":{\"backgroundcolor\":\"#E5ECF6\",\"gridcolor\":\"white\",\"gridwidth\":2,\"linecolor\":\"white\",\"showbackground\":true,\"ticks\":\"\",\"zerolinecolor\":\"white\"},\"zaxis\":{\"backgroundcolor\":\"#E5ECF6\",\"gridcolor\":\"white\",\"gridwidth\":2,\"linecolor\":\"white\",\"showbackground\":true,\"ticks\":\"\",\"zerolinecolor\":\"white\"}},\"shapedefaults\":{\"line\":{\"color\":\"#2a3f5f\"}},\"ternary\":{\"aaxis\":{\"gridcolor\":\"white\",\"linecolor\":\"white\",\"ticks\":\"\"},\"baxis\":{\"gridcolor\":\"white\",\"linecolor\":\"white\",\"ticks\":\"\"},\"bgcolor\":\"#E5ECF6\",\"caxis\":{\"gridcolor\":\"white\",\"linecolor\":\"white\",\"ticks\":\"\"}},\"title\":{\"x\":0.05},\"xaxis\":{\"automargin\":true,\"gridcolor\":\"white\",\"linecolor\":\"white\",\"ticks\":\"\",\"title\":{\"standoff\":15},\"zerolinecolor\":\"white\",\"zerolinewidth\":2},\"yaxis\":{\"automargin\":true,\"gridcolor\":\"white\",\"linecolor\":\"white\",\"ticks\":\"\",\"title\":{\"standoff\":15},\"zerolinecolor\":\"white\",\"zerolinewidth\":2}}},\"title\":{\"text\":\"Scatterplot Matrix\"},\"width\":700,\"xaxis\":{\"anchor\":\"y\",\"domain\":[0.0,0.2888888888888889],\"showticklabels\":false},\"yaxis\":{\"anchor\":\"x\",\"domain\":[0.7333333333333333,1.0],\"title\":{\"text\":\"research\"}},\"xaxis2\":{\"anchor\":\"y2\",\"domain\":[0.35555555555555557,0.6444444444444445]},\"yaxis2\":{\"anchor\":\"x2\",\"domain\":[0.7333333333333333,1.0]},\"xaxis3\":{\"anchor\":\"y3\",\"domain\":[0.7111111111111111,1.0]},\"yaxis3\":{\"anchor\":\"x3\",\"domain\":[0.7333333333333333,1.0]},\"xaxis4\":{\"anchor\":\"y4\",\"domain\":[0.0,0.2888888888888889]},\"yaxis4\":{\"anchor\":\"x4\",\"domain\":[0.36666666666666664,0.6333333333333333],\"title\":{\"text\":\"international\"}},\"xaxis5\":{\"anchor\":\"y5\",\"domain\":[0.35555555555555557,0.6444444444444445],\"showticklabels\":false},\"yaxis5\":{\"anchor\":\"x5\",\"domain\":[0.36666666666666664,0.6333333333333333]},\"xaxis6\":{\"anchor\":\"y6\",\"domain\":[0.7111111111111111,1.0]},\"yaxis6\":{\"anchor\":\"x6\",\"domain\":[0.36666666666666664,0.6333333333333333]},\"xaxis7\":{\"anchor\":\"y7\",\"domain\":[0.0,0.2888888888888889],\"title\":{\"text\":\"research\"}},\"yaxis7\":{\"anchor\":\"x7\",\"domain\":[0.0,0.26666666666666666],\"title\":{\"text\":\"total_score\"}},\"xaxis8\":{\"anchor\":\"y8\",\"domain\":[0.35555555555555557,0.6444444444444445],\"title\":{\"text\":\"international\"}},\"yaxis8\":{\"anchor\":\"x8\",\"domain\":[0.0,0.26666666666666666]},\"xaxis9\":{\"anchor\":\"y9\",\"domain\":[0.7111111111111111,1.0],\"showticklabels\":false,\"title\":{\"text\":\"total_score\"}},\"yaxis9\":{\"anchor\":\"x9\",\"domain\":[0.0,0.26666666666666666]}},                        {\"responsive\": true}                    ).then(function(){\n",
       "                            \n",
       "var gd = document.getElementById('a2c42c90-f03e-4252-b8ee-665eb9cf0dd0');\n",
       "var x = new MutationObserver(function (mutations, observer) {{\n",
       "        var display = window.getComputedStyle(gd).display;\n",
       "        if (!display || display === 'none') {{\n",
       "            console.log([gd, 'removed!']);\n",
       "            Plotly.purge(gd);\n",
       "            observer.disconnect();\n",
       "        }}\n",
       "}});\n",
       "\n",
       "// Listen for the removal of the full notebook cells\n",
       "var notebookContainer = gd.closest('#notebook-container');\n",
       "if (notebookContainer) {{\n",
       "    x.observe(notebookContainer, {childList: true});\n",
       "}}\n",
       "\n",
       "// Listen for the clearing of the current output cell\n",
       "var outputEl = gd.closest('.output');\n",
       "if (outputEl) {{\n",
       "    x.observe(outputEl, {childList: true});\n",
       "}}\n",
       "\n",
       "                        })                };                });            </script>        </div>"
      ]
     },
     "metadata": {},
     "output_type": "display_data"
    }
   ],
   "source": [
    "import plotly.figure_factory as ff  #plotly'ın figure_factory package'ından yararlanıyoruz\n",
    "\n",
    "dataframe = timesData[timesData.year==2015]\n",
    "data2015= dataframe.loc[:,[\"research\", \"international\", \"total_score\"]]\n",
    "data2015[\"index\"]= np.arange(1, len(data2015)+1)\n",
    "fig=ff.create_scatterplotmatrix(data2015, diag='box', index='index', colormap='Portland', colormap_type='cat', height=700, width=700)\n",
    "iplot(fig)\n",
    "\n",
    "# bu package creat_scatterplotmatrix metodunu içeriyor.\n",
    "# diag = diagonal  - boxplot olsun\n",
    "# index'i data index'ine eşitliyoruz\n",
    "# portland map'i sağda görünen lacivertten kırmızıya olan map\n",
    "# colormap_type cat\n"
   ]
  },
  {
   "cell_type": "markdown",
   "id": "2cfc0d06",
   "metadata": {
    "papermill": {
     "duration": 0.083819,
     "end_time": "2022-08-02T12:20:59.155699",
     "exception": false,
     "start_time": "2022-08-02T12:20:59.071880",
     "status": "completed"
    },
    "tags": []
   },
   "source": [
    "## Inset Plot"
   ]
  },
  {
   "cell_type": "code",
   "execution_count": 17,
   "id": "cb62d94e",
   "metadata": {
    "execution": {
     "iopub.execute_input": "2022-08-02T12:20:59.327524Z",
     "iopub.status.busy": "2022-08-02T12:20:59.327058Z",
     "iopub.status.idle": "2022-08-02T12:20:59.374426Z",
     "shell.execute_reply": "2022-08-02T12:20:59.373596Z"
    },
    "papermill": {
     "duration": 0.137285,
     "end_time": "2022-08-02T12:20:59.378223",
     "exception": false,
     "start_time": "2022-08-02T12:20:59.240938",
     "status": "completed"
    },
    "tags": []
   },
   "outputs": [
    {
     "data": {
      "application/vnd.plotly.v1+json": {
       "config": {
        "linkText": "Export to plot.ly",
        "plotlyServerURL": "https://plot.ly",
        "showLink": false
       },
       "data": [
        {
         "marker": {
          "color": "rgba(16, 112,2,0.8)"
         },
         "name": "teaching",
         "type": "scatter",
         "x": [
          "1",
          "2",
          "3",
          "4",
          "5",
          "6",
          "7",
          "8",
          "9",
          "9",
          "11",
          "12",
          "13",
          "14",
          "15",
          "16",
          "17",
          "18",
          "19",
          "20",
          "21",
          "22",
          "23",
          "24",
          "25",
          "26",
          "27",
          "28",
          "29",
          "29",
          "29",
          "32",
          "33",
          "34",
          "34",
          "36",
          "37",
          "38",
          "39",
          "40",
          "41",
          "42",
          "43",
          "44",
          "45",
          "46",
          "46",
          "48",
          "49",
          "50",
          "51",
          "52",
          "52",
          "54",
          "55",
          "55",
          "57",
          "58",
          "59",
          "60",
          "61",
          "61",
          "63",
          "64",
          "65",
          "66",
          "67",
          "68",
          "69",
          "70",
          "71",
          "72",
          "73",
          "74",
          "75",
          "75",
          "77",
          "78",
          "79",
          "80",
          "81",
          "82",
          "83",
          "83",
          "85",
          "86",
          "86",
          "88",
          "88",
          "90",
          "91",
          "91",
          "93",
          "94",
          "94",
          "96",
          "97",
          "98",
          "98",
          "98",
          "101",
          "102",
          "103",
          "103",
          "103",
          "103",
          "107",
          "107",
          "109",
          "109",
          "111",
          "111",
          "113",
          "113",
          "113",
          "116",
          "117",
          "118",
          "119",
          "120",
          "121",
          "121",
          "121",
          "124",
          "124",
          "126",
          "126",
          "126",
          "129",
          "130",
          "131",
          "132",
          "132",
          "132",
          "135",
          "136",
          "136",
          "138",
          "139",
          "140",
          "141",
          "141",
          "141",
          "144",
          "144",
          "146",
          "147",
          "148",
          "148",
          "150",
          "150",
          "152",
          "153",
          "154",
          "155",
          "156",
          "157",
          "157",
          "157",
          "160",
          "160",
          "162",
          "163",
          "164",
          "165",
          "165",
          "165",
          "165",
          "169",
          "170",
          "171",
          "171",
          "173",
          "173",
          "175",
          "175",
          "177",
          "178",
          "178",
          "180",
          "180",
          "182",
          "182",
          "182",
          "185",
          "186",
          "186",
          "188",
          "188",
          "188",
          "191",
          "192",
          "193",
          "193",
          "195",
          "196",
          "196",
          "198",
          "199",
          "200",
          "200",
          "201-225",
          "201-225",
          "201-225",
          "201-225",
          "201-225",
          "201-225",
          "201-225",
          "201-225",
          "201-225",
          "201-225",
          "201-225",
          "201-225",
          "201-225",
          "201-225",
          "201-225",
          "201-225",
          "201-225",
          "201-225",
          "201-225",
          "201-225",
          "201-225",
          "201-225",
          "201-225",
          "201-225",
          "201-225",
          "226-250",
          "226-250",
          "226-250",
          "226-250",
          "226-250",
          "226-250",
          "226-250",
          "226-250",
          "226-250",
          "226-250",
          "226-250",
          "226-250",
          "226-250",
          "226-250",
          "226-250",
          "226-250",
          "226-250",
          "226-250",
          "226-250",
          "226-250",
          "226-250",
          "226-250",
          "226-250",
          "226-250",
          "251-275",
          "251-275",
          "251-275",
          "251-275",
          "251-275",
          "251-275",
          "251-275",
          "251-275",
          "251-275",
          "251-275",
          "251-275",
          "251-275",
          "251-275",
          "251-275",
          "251-275",
          "251-275",
          "251-275",
          "251-275",
          "251-275",
          "251-275",
          "251-275",
          "251-275",
          "251-275",
          "251-275",
          "251-275",
          "276-300",
          "276-300",
          "276-300",
          "276-300",
          "276-300",
          "276-300",
          "276-300",
          "276-300",
          "276-300",
          "276-300",
          "276-300",
          "276-300",
          "276-300",
          "276-300",
          "276-300",
          "276-300",
          "276-300",
          "276-300",
          "276-300",
          "276-300",
          "276-300",
          "276-300",
          "276-300",
          "276-300",
          "276-300",
          "276-300",
          "276-300",
          "276-300",
          "301-350",
          "301-350",
          "301-350",
          "301-350",
          "301-350",
          "301-350",
          "301-350",
          "301-350",
          "301-350",
          "301-350",
          "301-350",
          "301-350",
          "301-350",
          "301-350",
          "301-350",
          "301-350",
          "301-350",
          "301-350",
          "301-350",
          "301-350",
          "301-350",
          "301-350",
          "301-350",
          "301-350",
          "301-350",
          "301-350",
          "301-350",
          "301-350",
          "301-350",
          "301-350",
          "301-350",
          "301-350",
          "301-350",
          "301-350",
          "301-350",
          "301-350",
          "301-350",
          "301-350",
          "301-350",
          "301-350",
          "301-350",
          "301-350",
          "301-350",
          "301-350",
          "301-350",
          "301-350",
          "301-350",
          "301-350",
          "351-400",
          "351-400",
          "351-400",
          "351-400",
          "351-400",
          "351-400",
          "351-400",
          "351-400",
          "351-400",
          "351-400",
          "351-400",
          "351-400",
          "351-400",
          "351-400",
          "351-400",
          "351-400",
          "351-400",
          "351-400",
          "351-400",
          "351-400",
          "351-400",
          "351-400",
          "351-400",
          "351-400",
          "351-400",
          "351-400",
          "351-400",
          "351-400",
          "351-400",
          "351-400",
          "351-400",
          "351-400",
          "351-400",
          "351-400",
          "351-400",
          "351-400",
          "351-400",
          "351-400",
          "351-400",
          "351-400",
          "351-400",
          "351-400",
          "351-400",
          "351-400",
          "351-400",
          "351-400",
          "351-400",
          "351-400",
          "351-400",
          "351-400"
         ],
         "y": [
          92.2,
          92.9,
          88.6,
          91.5,
          89.7,
          89.1,
          86.6,
          84.2,
          84.6,
          88.5,
          83.9,
          82.4,
          78.2,
          83.9,
          75.6,
          79.0,
          77.0,
          73.5,
          71.6,
          74.4,
          72.7,
          70.4,
          81.4,
          61.6,
          72.0,
          64.5,
          62.5,
          64.3,
          65.1,
          67.7,
          67.7,
          60.5,
          60.4,
          65.4,
          54.7,
          58.9,
          49.4,
          68.3,
          63.3,
          55.6,
          52.0,
          57.6,
          62.1,
          57.1,
          53.7,
          59.9,
          57.9,
          70.0,
          64.1,
          75.5,
          51.8,
          63.5,
          58.1,
          55.5,
          53.0,
          54.4,
          56.4,
          54.6,
          70.4,
          52.8,
          43.9,
          50.5,
          48.2,
          45.0,
          45.8,
          52.7,
          46.9,
          54.0,
          41.7,
          52.6,
          55.5,
          39.8,
          44.3,
          43.7,
          41.2,
          55.2,
          42.0,
          48.7,
          38.2,
          51.9,
          49.4,
          51.1,
          37.2,
          43.7,
          45.5,
          44.9,
          43.3,
          43.6,
          39.5,
          42.5,
          44.8,
          45.2,
          49.0,
          38.1,
          37.0,
          46.0,
          35.0,
          30.1,
          45.6,
          40.2,
          32.4,
          47.8,
          47.3,
          37.5,
          41.1,
          40.2,
          32.4,
          34.5,
          30.6,
          41.1,
          35.7,
          31.9,
          43.8,
          41.5,
          32.2,
          46.5,
          36.9,
          29.1,
          32.6,
          37.3,
          39.9,
          41.9,
          40.0,
          43.8,
          26.8,
          32.4,
          45.7,
          49.8,
          43.9,
          48.7,
          35.4,
          42.0,
          36.5,
          35.2,
          39.8,
          29.4,
          35.5,
          39.4,
          28.5,
          30.5,
          26.1,
          46.2,
          53.5,
          38.3,
          40.5,
          39.4,
          25.8,
          48.1,
          42.8,
          46.5,
          29.4,
          38.3,
          30.9,
          32.0,
          48.8,
          39.0,
          51.3,
          31.3,
          36.3,
          34.0,
          38.1,
          38.8,
          38.0,
          33.8,
          30.2,
          40.5,
          25.1,
          49.7,
          42.7,
          34.6,
          39.9,
          37.9,
          51.1,
          21.6,
          28.6,
          41.9,
          32.4,
          38.0,
          28.0,
          25.6,
          29.0,
          35.7,
          26.0,
          35.2,
          36.4,
          36.1,
          45.2,
          32.8,
          43.5,
          37.9,
          40.1,
          31.0,
          45.6,
          36.4,
          32.2,
          55.9,
          23.1,
          25.2,
          29.8,
          19.7,
          44.6,
          28.0,
          30.5,
          28.1,
          41.5,
          33.7,
          48.9,
          30.3,
          36.9,
          35.0,
          28.4,
          29.5,
          24.4,
          43.0,
          23.9,
          32.8,
          36.9,
          28.6,
          51.6,
          26.0,
          28.7,
          32.3,
          26.7,
          33.3,
          36.8,
          44.5,
          30.4,
          28.3,
          22.1,
          24.3,
          33.6,
          35.8,
          39.6,
          37.5,
          30.9,
          24.6,
          25.7,
          42.2,
          19.6,
          31.7,
          34.4,
          24.1,
          31.1,
          30.5,
          27.1,
          27.8,
          38.3,
          28.6,
          43.3,
          27.5,
          31.8,
          13.0,
          28.6,
          34.6,
          39.4,
          26.7,
          37.3,
          30.1,
          27.9,
          36.9,
          33.9,
          35.1,
          14.9,
          30.6,
          29.6,
          26.5,
          27.1,
          26.3,
          32.3,
          27.7,
          17.3,
          22.3,
          26.8,
          29.4,
          30.9,
          35.7,
          27.6,
          32.6,
          25.2,
          23.7,
          35.0,
          33.5,
          23.7,
          18.4,
          29.9,
          37.9,
          30.0,
          33.0,
          42.7,
          26.7,
          31.0,
          32.0,
          28.4,
          29.2,
          39.7,
          17.1,
          25.3,
          31.0,
          25.7,
          34.5,
          25.2,
          21.6,
          40.1,
          28.6,
          22.4,
          20.3,
          31.5,
          40.7,
          20.1,
          31.8,
          21.2,
          40.2,
          27.0,
          21.6,
          24.0,
          24.6,
          27.8,
          27.6,
          34.9,
          19.7,
          32.3,
          28.7,
          43.4,
          32.5,
          40.7,
          29.2,
          21.1,
          25.6,
          37.6,
          19.0,
          21.9,
          31.6,
          39.3,
          27.6,
          30.6,
          31.6,
          16.3,
          29.1,
          36.4,
          32.6,
          20.7,
          22.4,
          19.5,
          21.5,
          30.6,
          22.9,
          33.4,
          17.9,
          20.8,
          32.0,
          36.0,
          23.8,
          20.7,
          19.4,
          21.3,
          27.5,
          19.1,
          20.1,
          23.5,
          26.3,
          31.5,
          38.4,
          34.2,
          25.2,
          20.7,
          16.7,
          36.5,
          25.4,
          20.2,
          21.2,
          31.8,
          26.4,
          27.7,
          24.7,
          31.5,
          20.2,
          20.7,
          21.2,
          29.1,
          24.3,
          19.5,
          18.1,
          23.7,
          16.2,
          30.1,
          25.9,
          20.2,
          31.7,
          29.5,
          16.1,
          19.3,
          21.0,
          24.3,
          26.8,
          18.6,
          31.2,
          25.5,
          28.5,
          17.8,
          34.1,
          16.2
         ]
        },
        {
         "marker": {
          "color": "rgba(160, 112,20,0.8)"
         },
         "name": "income",
         "type": "scatter",
         "x": [
          "1",
          "2",
          "3",
          "4",
          "5",
          "6",
          "7",
          "8",
          "9",
          "9",
          "11",
          "12",
          "13",
          "14",
          "15",
          "16",
          "17",
          "18",
          "19",
          "20",
          "21",
          "22",
          "23",
          "24",
          "25",
          "26",
          "27",
          "28",
          "29",
          "29",
          "29",
          "32",
          "33",
          "34",
          "34",
          "36",
          "37",
          "38",
          "39",
          "40",
          "41",
          "42",
          "43",
          "44",
          "45",
          "46",
          "46",
          "48",
          "49",
          "50",
          "51",
          "52",
          "52",
          "54",
          "55",
          "55",
          "57",
          "58",
          "59",
          "60",
          "61",
          "61",
          "63",
          "64",
          "65",
          "66",
          "67",
          "68",
          "69",
          "70",
          "71",
          "72",
          "73",
          "74",
          "75",
          "75",
          "77",
          "78",
          "79",
          "80",
          "81",
          "82",
          "83",
          "83",
          "85",
          "86",
          "86",
          "88",
          "88",
          "90",
          "91",
          "91",
          "93",
          "94",
          "94",
          "96",
          "97",
          "98",
          "98",
          "98",
          "101",
          "102",
          "103",
          "103",
          "103",
          "103",
          "107",
          "107",
          "109",
          "109",
          "111",
          "111",
          "113",
          "113",
          "113",
          "116",
          "117",
          "118",
          "119",
          "120",
          "121",
          "121",
          "121",
          "124",
          "124",
          "126",
          "126",
          "126",
          "129",
          "130",
          "131",
          "132",
          "132",
          "132",
          "135",
          "136",
          "136",
          "138",
          "139",
          "140",
          "141",
          "141",
          "141",
          "144",
          "144",
          "146",
          "147",
          "148",
          "148",
          "150",
          "150",
          "152",
          "153",
          "154",
          "155",
          "156",
          "157",
          "157",
          "157",
          "160",
          "160",
          "162",
          "163",
          "164",
          "165",
          "165",
          "165",
          "165",
          "169",
          "170",
          "171",
          "171",
          "173",
          "173",
          "175",
          "175",
          "177",
          "178",
          "178",
          "180",
          "180",
          "182",
          "182",
          "182",
          "185",
          "186",
          "186",
          "188",
          "188",
          "188",
          "191",
          "192",
          "193",
          "193",
          "195",
          "196",
          "196",
          "198",
          "199",
          "200",
          "200",
          "201-225",
          "201-225",
          "201-225",
          "201-225",
          "201-225",
          "201-225",
          "201-225",
          "201-225",
          "201-225",
          "201-225",
          "201-225",
          "201-225",
          "201-225",
          "201-225",
          "201-225",
          "201-225",
          "201-225",
          "201-225",
          "201-225",
          "201-225",
          "201-225",
          "201-225",
          "201-225",
          "201-225",
          "201-225",
          "226-250",
          "226-250",
          "226-250",
          "226-250",
          "226-250",
          "226-250",
          "226-250",
          "226-250",
          "226-250",
          "226-250",
          "226-250",
          "226-250",
          "226-250",
          "226-250",
          "226-250",
          "226-250",
          "226-250",
          "226-250",
          "226-250",
          "226-250",
          "226-250",
          "226-250",
          "226-250",
          "226-250",
          "251-275",
          "251-275",
          "251-275",
          "251-275",
          "251-275",
          "251-275",
          "251-275",
          "251-275",
          "251-275",
          "251-275",
          "251-275",
          "251-275",
          "251-275",
          "251-275",
          "251-275",
          "251-275",
          "251-275",
          "251-275",
          "251-275",
          "251-275",
          "251-275",
          "251-275",
          "251-275",
          "251-275",
          "251-275",
          "276-300",
          "276-300",
          "276-300",
          "276-300",
          "276-300",
          "276-300",
          "276-300",
          "276-300",
          "276-300",
          "276-300",
          "276-300",
          "276-300",
          "276-300",
          "276-300",
          "276-300",
          "276-300",
          "276-300",
          "276-300",
          "276-300",
          "276-300",
          "276-300",
          "276-300",
          "276-300",
          "276-300",
          "276-300",
          "276-300",
          "276-300",
          "276-300",
          "301-350",
          "301-350",
          "301-350",
          "301-350",
          "301-350",
          "301-350",
          "301-350",
          "301-350",
          "301-350",
          "301-350",
          "301-350",
          "301-350",
          "301-350",
          "301-350",
          "301-350",
          "301-350",
          "301-350",
          "301-350",
          "301-350",
          "301-350",
          "301-350",
          "301-350",
          "301-350",
          "301-350",
          "301-350",
          "301-350",
          "301-350",
          "301-350",
          "301-350",
          "301-350",
          "301-350",
          "301-350",
          "301-350",
          "301-350",
          "301-350",
          "301-350",
          "301-350",
          "301-350",
          "301-350",
          "301-350",
          "301-350",
          "301-350",
          "301-350",
          "301-350",
          "301-350",
          "301-350",
          "301-350",
          "301-350",
          "351-400",
          "351-400",
          "351-400",
          "351-400",
          "351-400",
          "351-400",
          "351-400",
          "351-400",
          "351-400",
          "351-400",
          "351-400",
          "351-400",
          "351-400",
          "351-400",
          "351-400",
          "351-400",
          "351-400",
          "351-400",
          "351-400",
          "351-400",
          "351-400",
          "351-400",
          "351-400",
          "351-400",
          "351-400",
          "351-400",
          "351-400",
          "351-400",
          "351-400",
          "351-400",
          "351-400",
          "351-400",
          "351-400",
          "351-400",
          "351-400",
          "351-400",
          "351-400",
          "351-400",
          "351-400",
          "351-400",
          "351-400",
          "351-400",
          "351-400",
          "351-400",
          "351-400",
          "351-400",
          "351-400",
          "351-400",
          "351-400",
          "351-400"
         ],
         "xaxis": "x2",
         "y": [
          "89.1",
          "44.0",
          "72.9",
          "63.1",
          "51.1",
          "95.7",
          "82.7",
          "44.8",
          "72.7",
          "42.0",
          "36.8",
          "-",
          "73.2",
          "-",
          "100.0",
          "43.0",
          "55.7",
          "100.0",
          "33.7",
          "46.1",
          "77.0",
          "46.2",
          "51.2",
          "53.0",
          "53.4",
          "44.7",
          "72.3",
          "58.1",
          "100.0",
          "51.7",
          "53.3",
          "40.1",
          "61.2",
          "40.6",
          "61.9",
          "41.2",
          "87.1",
          "30.2",
          "38.6",
          "39.0",
          "54.2",
          "-",
          "56.0",
          "65.5",
          "38.9",
          "-",
          "40.5",
          "100.0",
          "99.7",
          "86.3",
          "57.6",
          "100.0",
          "39.4",
          "32.7",
          "99.9",
          "55.4",
          "30.3",
          "60.4",
          "73.3",
          "67.3",
          "100.0",
          "76.8",
          "40.1",
          "47.3",
          "66.2",
          "100.0",
          "32.8",
          "46.8",
          "34.6",
          "41.6",
          "100.0",
          "54.4",
          "100.0",
          "42.1",
          "97.7",
          "34.4",
          "56.7",
          "39.4",
          "84.1",
          "31.9",
          "33.5",
          "31.7",
          "34.8",
          "73.4",
          "55.2",
          "99.6",
          "-",
          "58.7",
          "40.0",
          "85.3",
          "52.8",
          "38.5",
          "42.3",
          "85.0",
          "39.9",
          "59.4",
          "-",
          "32.4",
          "49.0",
          "39.6",
          "96.1",
          "-",
          "33.4",
          "31.5",
          "35.6",
          "40.1",
          "37.1",
          "65.1",
          "33.8",
          "47.8",
          "39.8",
          "31.2",
          "91.8",
          "54.7",
          "32.2",
          "-",
          "88.9",
          "32.8",
          "32.6",
          "28.9",
          "98.6",
          "36.4",
          "43.8",
          "51.8",
          "88.0",
          "46.5",
          "100.0",
          "-",
          "42.8",
          "49.8",
          "34.1",
          "47.4",
          "33.2",
          "38.9",
          "99.5",
          "50.9",
          "60.0",
          "30.6",
          "47.7",
          "42.8",
          "79.4",
          "49.6",
          "69.4",
          "99.9",
          "35.2",
          "39.4",
          "43.9",
          "98.5",
          "36.0",
          "-",
          "39.5",
          "49.1",
          "59.8",
          "35.8",
          "43.8",
          "69.8",
          "73.6",
          "40.0",
          "63.3",
          "44.4",
          "29.3",
          "58.1",
          "81.4",
          "65.3",
          "51.1",
          "82.7",
          "35.9",
          "76.8",
          "-",
          "100.0",
          "39.6",
          "46.1",
          "80.0",
          "31.6",
          "74.2",
          "49.3",
          "40.6",
          "31.3",
          "42.1",
          "29.1",
          "99.3",
          "32.6",
          "42.9",
          "29.4",
          "34.0",
          "36.6",
          "-",
          "31.3",
          "42.6",
          "45.9",
          "39.6",
          "49.8",
          "49.4",
          "54.4",
          "-",
          "78.5",
          "32.4",
          "29.2",
          "34.8",
          "53.7",
          "29.3",
          "46.4",
          "34.8",
          "38.8",
          "31.5",
          "42.6",
          "98.5",
          "35.0",
          "36.5",
          "56.7",
          "31.0",
          "34.2",
          "47.7",
          "40.7",
          "42.0",
          "34.9",
          "71.6",
          "32.0",
          "40.1",
          "41.6",
          "33.3",
          "89.2",
          "50.7",
          "38.2",
          "30.0",
          "69.7",
          "34.6",
          "28.7",
          "31.9",
          "30.7",
          "68.9",
          "62.7",
          "99.0",
          "86.3",
          "49.9",
          "41.8",
          "-",
          "63.4",
          "31.0",
          "33.8",
          "41.5",
          "37.0",
          "42.0",
          "52.5",
          "45.0",
          "40.1",
          "50.7",
          "30.0",
          "64.1",
          "34.1",
          "64.5",
          "28.1",
          "33.7",
          "51.7",
          "49.4",
          "43.1",
          "59.0",
          "43.7",
          "99.8",
          "88.9",
          "46.3",
          "38.3",
          "64.0",
          "38.2",
          "44.5",
          "75.6",
          "31.9",
          "64.4",
          "38.4",
          "99.8",
          "36.5",
          "94.8",
          "46.0",
          "40.8",
          "41.7",
          "75.8",
          "38.8",
          "37.9",
          "73.8",
          "33.6",
          "98.2",
          "45.0",
          "28.3",
          "28.8",
          "71.9",
          "88.4",
          "94.7",
          "55.1",
          "56.9",
          "45.9",
          "34.9",
          "35.6",
          "46.8",
          "48.2",
          "31.1",
          "33.6",
          "40.1",
          "35.0",
          "83.9",
          "31.8",
          "44.7",
          "49.7",
          "42.6",
          "32.2",
          "31.1",
          "32.7",
          "29.4",
          "32.4",
          "30.6",
          "34.6",
          "29.1",
          "-",
          "39.2",
          "50.6",
          "36.2",
          "33.4",
          "32.0",
          "67.8",
          "42.8",
          "29.2",
          "34.2",
          "86.2",
          "44.5",
          "58.9",
          "-",
          "36.7",
          "49.5",
          "28.8",
          "31.1",
          "36.0",
          "44.2",
          "29.1",
          "43.2",
          "-",
          "36.2",
          "43.5",
          "28.6",
          "34.4",
          "34.5",
          "34.5",
          "32.9",
          "37.7",
          "72.6",
          "30.7",
          "48.2",
          "42.5",
          "36.9",
          "30.8",
          "28.5",
          "-",
          "88.6",
          "43.9",
          "33.0",
          "35.7",
          "34.8",
          "37.4",
          "33.6",
          "36.1",
          "61.3",
          "28.7",
          "88.7",
          "43.4",
          "49.7",
          "69.0",
          "84.1",
          "56.5",
          "68.7",
          "39.2",
          "-",
          "40.5",
          "100.0",
          "47.0",
          "82.0",
          "28.4",
          "47.4",
          "38.8",
          "38.8",
          "31.3",
          "35.2",
          "32.8",
          "40.4",
          "35.4",
          "30.2",
          "29.6",
          "33.9",
          "70.4",
          "44.5",
          "31.2",
          "90.2",
          "29.2",
          "37.7",
          "29.1",
          "32.1",
          "-",
          "50.0",
          "44.8",
          "32.6",
          "54.5",
          "30.4",
          "85.9",
          "57.8"
         ],
         "yaxis": "y2"
        }
       ],
       "layout": {
        "template": {
         "data": {
          "bar": [
           {
            "error_x": {
             "color": "#2a3f5f"
            },
            "error_y": {
             "color": "#2a3f5f"
            },
            "marker": {
             "line": {
              "color": "#E5ECF6",
              "width": 0.5
             },
             "pattern": {
              "fillmode": "overlay",
              "size": 10,
              "solidity": 0.2
             }
            },
            "type": "bar"
           }
          ],
          "barpolar": [
           {
            "marker": {
             "line": {
              "color": "#E5ECF6",
              "width": 0.5
             },
             "pattern": {
              "fillmode": "overlay",
              "size": 10,
              "solidity": 0.2
             }
            },
            "type": "barpolar"
           }
          ],
          "carpet": [
           {
            "aaxis": {
             "endlinecolor": "#2a3f5f",
             "gridcolor": "white",
             "linecolor": "white",
             "minorgridcolor": "white",
             "startlinecolor": "#2a3f5f"
            },
            "baxis": {
             "endlinecolor": "#2a3f5f",
             "gridcolor": "white",
             "linecolor": "white",
             "minorgridcolor": "white",
             "startlinecolor": "#2a3f5f"
            },
            "type": "carpet"
           }
          ],
          "choropleth": [
           {
            "colorbar": {
             "outlinewidth": 0,
             "ticks": ""
            },
            "type": "choropleth"
           }
          ],
          "contour": [
           {
            "colorbar": {
             "outlinewidth": 0,
             "ticks": ""
            },
            "colorscale": [
             [
              0.0,
              "#0d0887"
             ],
             [
              0.1111111111111111,
              "#46039f"
             ],
             [
              0.2222222222222222,
              "#7201a8"
             ],
             [
              0.3333333333333333,
              "#9c179e"
             ],
             [
              0.4444444444444444,
              "#bd3786"
             ],
             [
              0.5555555555555556,
              "#d8576b"
             ],
             [
              0.6666666666666666,
              "#ed7953"
             ],
             [
              0.7777777777777778,
              "#fb9f3a"
             ],
             [
              0.8888888888888888,
              "#fdca26"
             ],
             [
              1.0,
              "#f0f921"
             ]
            ],
            "type": "contour"
           }
          ],
          "contourcarpet": [
           {
            "colorbar": {
             "outlinewidth": 0,
             "ticks": ""
            },
            "type": "contourcarpet"
           }
          ],
          "heatmap": [
           {
            "colorbar": {
             "outlinewidth": 0,
             "ticks": ""
            },
            "colorscale": [
             [
              0.0,
              "#0d0887"
             ],
             [
              0.1111111111111111,
              "#46039f"
             ],
             [
              0.2222222222222222,
              "#7201a8"
             ],
             [
              0.3333333333333333,
              "#9c179e"
             ],
             [
              0.4444444444444444,
              "#bd3786"
             ],
             [
              0.5555555555555556,
              "#d8576b"
             ],
             [
              0.6666666666666666,
              "#ed7953"
             ],
             [
              0.7777777777777778,
              "#fb9f3a"
             ],
             [
              0.8888888888888888,
              "#fdca26"
             ],
             [
              1.0,
              "#f0f921"
             ]
            ],
            "type": "heatmap"
           }
          ],
          "heatmapgl": [
           {
            "colorbar": {
             "outlinewidth": 0,
             "ticks": ""
            },
            "colorscale": [
             [
              0.0,
              "#0d0887"
             ],
             [
              0.1111111111111111,
              "#46039f"
             ],
             [
              0.2222222222222222,
              "#7201a8"
             ],
             [
              0.3333333333333333,
              "#9c179e"
             ],
             [
              0.4444444444444444,
              "#bd3786"
             ],
             [
              0.5555555555555556,
              "#d8576b"
             ],
             [
              0.6666666666666666,
              "#ed7953"
             ],
             [
              0.7777777777777778,
              "#fb9f3a"
             ],
             [
              0.8888888888888888,
              "#fdca26"
             ],
             [
              1.0,
              "#f0f921"
             ]
            ],
            "type": "heatmapgl"
           }
          ],
          "histogram": [
           {
            "marker": {
             "pattern": {
              "fillmode": "overlay",
              "size": 10,
              "solidity": 0.2
             }
            },
            "type": "histogram"
           }
          ],
          "histogram2d": [
           {
            "colorbar": {
             "outlinewidth": 0,
             "ticks": ""
            },
            "colorscale": [
             [
              0.0,
              "#0d0887"
             ],
             [
              0.1111111111111111,
              "#46039f"
             ],
             [
              0.2222222222222222,
              "#7201a8"
             ],
             [
              0.3333333333333333,
              "#9c179e"
             ],
             [
              0.4444444444444444,
              "#bd3786"
             ],
             [
              0.5555555555555556,
              "#d8576b"
             ],
             [
              0.6666666666666666,
              "#ed7953"
             ],
             [
              0.7777777777777778,
              "#fb9f3a"
             ],
             [
              0.8888888888888888,
              "#fdca26"
             ],
             [
              1.0,
              "#f0f921"
             ]
            ],
            "type": "histogram2d"
           }
          ],
          "histogram2dcontour": [
           {
            "colorbar": {
             "outlinewidth": 0,
             "ticks": ""
            },
            "colorscale": [
             [
              0.0,
              "#0d0887"
             ],
             [
              0.1111111111111111,
              "#46039f"
             ],
             [
              0.2222222222222222,
              "#7201a8"
             ],
             [
              0.3333333333333333,
              "#9c179e"
             ],
             [
              0.4444444444444444,
              "#bd3786"
             ],
             [
              0.5555555555555556,
              "#d8576b"
             ],
             [
              0.6666666666666666,
              "#ed7953"
             ],
             [
              0.7777777777777778,
              "#fb9f3a"
             ],
             [
              0.8888888888888888,
              "#fdca26"
             ],
             [
              1.0,
              "#f0f921"
             ]
            ],
            "type": "histogram2dcontour"
           }
          ],
          "mesh3d": [
           {
            "colorbar": {
             "outlinewidth": 0,
             "ticks": ""
            },
            "type": "mesh3d"
           }
          ],
          "parcoords": [
           {
            "line": {
             "colorbar": {
              "outlinewidth": 0,
              "ticks": ""
             }
            },
            "type": "parcoords"
           }
          ],
          "pie": [
           {
            "automargin": true,
            "type": "pie"
           }
          ],
          "scatter": [
           {
            "fillpattern": {
             "fillmode": "overlay",
             "size": 10,
             "solidity": 0.2
            },
            "type": "scatter"
           }
          ],
          "scatter3d": [
           {
            "line": {
             "colorbar": {
              "outlinewidth": 0,
              "ticks": ""
             }
            },
            "marker": {
             "colorbar": {
              "outlinewidth": 0,
              "ticks": ""
             }
            },
            "type": "scatter3d"
           }
          ],
          "scattercarpet": [
           {
            "marker": {
             "colorbar": {
              "outlinewidth": 0,
              "ticks": ""
             }
            },
            "type": "scattercarpet"
           }
          ],
          "scattergeo": [
           {
            "marker": {
             "colorbar": {
              "outlinewidth": 0,
              "ticks": ""
             }
            },
            "type": "scattergeo"
           }
          ],
          "scattergl": [
           {
            "marker": {
             "colorbar": {
              "outlinewidth": 0,
              "ticks": ""
             }
            },
            "type": "scattergl"
           }
          ],
          "scattermapbox": [
           {
            "marker": {
             "colorbar": {
              "outlinewidth": 0,
              "ticks": ""
             }
            },
            "type": "scattermapbox"
           }
          ],
          "scatterpolar": [
           {
            "marker": {
             "colorbar": {
              "outlinewidth": 0,
              "ticks": ""
             }
            },
            "type": "scatterpolar"
           }
          ],
          "scatterpolargl": [
           {
            "marker": {
             "colorbar": {
              "outlinewidth": 0,
              "ticks": ""
             }
            },
            "type": "scatterpolargl"
           }
          ],
          "scatterternary": [
           {
            "marker": {
             "colorbar": {
              "outlinewidth": 0,
              "ticks": ""
             }
            },
            "type": "scatterternary"
           }
          ],
          "surface": [
           {
            "colorbar": {
             "outlinewidth": 0,
             "ticks": ""
            },
            "colorscale": [
             [
              0.0,
              "#0d0887"
             ],
             [
              0.1111111111111111,
              "#46039f"
             ],
             [
              0.2222222222222222,
              "#7201a8"
             ],
             [
              0.3333333333333333,
              "#9c179e"
             ],
             [
              0.4444444444444444,
              "#bd3786"
             ],
             [
              0.5555555555555556,
              "#d8576b"
             ],
             [
              0.6666666666666666,
              "#ed7953"
             ],
             [
              0.7777777777777778,
              "#fb9f3a"
             ],
             [
              0.8888888888888888,
              "#fdca26"
             ],
             [
              1.0,
              "#f0f921"
             ]
            ],
            "type": "surface"
           }
          ],
          "table": [
           {
            "cells": {
             "fill": {
              "color": "#EBF0F8"
             },
             "line": {
              "color": "white"
             }
            },
            "header": {
             "fill": {
              "color": "#C8D4E3"
             },
             "line": {
              "color": "white"
             }
            },
            "type": "table"
           }
          ]
         },
         "layout": {
          "annotationdefaults": {
           "arrowcolor": "#2a3f5f",
           "arrowhead": 0,
           "arrowwidth": 1
          },
          "autotypenumbers": "strict",
          "coloraxis": {
           "colorbar": {
            "outlinewidth": 0,
            "ticks": ""
           }
          },
          "colorscale": {
           "diverging": [
            [
             0,
             "#8e0152"
            ],
            [
             0.1,
             "#c51b7d"
            ],
            [
             0.2,
             "#de77ae"
            ],
            [
             0.3,
             "#f1b6da"
            ],
            [
             0.4,
             "#fde0ef"
            ],
            [
             0.5,
             "#f7f7f7"
            ],
            [
             0.6,
             "#e6f5d0"
            ],
            [
             0.7,
             "#b8e186"
            ],
            [
             0.8,
             "#7fbc41"
            ],
            [
             0.9,
             "#4d9221"
            ],
            [
             1,
             "#276419"
            ]
           ],
           "sequential": [
            [
             0.0,
             "#0d0887"
            ],
            [
             0.1111111111111111,
             "#46039f"
            ],
            [
             0.2222222222222222,
             "#7201a8"
            ],
            [
             0.3333333333333333,
             "#9c179e"
            ],
            [
             0.4444444444444444,
             "#bd3786"
            ],
            [
             0.5555555555555556,
             "#d8576b"
            ],
            [
             0.6666666666666666,
             "#ed7953"
            ],
            [
             0.7777777777777778,
             "#fb9f3a"
            ],
            [
             0.8888888888888888,
             "#fdca26"
            ],
            [
             1.0,
             "#f0f921"
            ]
           ],
           "sequentialminus": [
            [
             0.0,
             "#0d0887"
            ],
            [
             0.1111111111111111,
             "#46039f"
            ],
            [
             0.2222222222222222,
             "#7201a8"
            ],
            [
             0.3333333333333333,
             "#9c179e"
            ],
            [
             0.4444444444444444,
             "#bd3786"
            ],
            [
             0.5555555555555556,
             "#d8576b"
            ],
            [
             0.6666666666666666,
             "#ed7953"
            ],
            [
             0.7777777777777778,
             "#fb9f3a"
            ],
            [
             0.8888888888888888,
             "#fdca26"
            ],
            [
             1.0,
             "#f0f921"
            ]
           ]
          },
          "colorway": [
           "#636efa",
           "#EF553B",
           "#00cc96",
           "#ab63fa",
           "#FFA15A",
           "#19d3f3",
           "#FF6692",
           "#B6E880",
           "#FF97FF",
           "#FECB52"
          ],
          "font": {
           "color": "#2a3f5f"
          },
          "geo": {
           "bgcolor": "white",
           "lakecolor": "white",
           "landcolor": "#E5ECF6",
           "showlakes": true,
           "showland": true,
           "subunitcolor": "white"
          },
          "hoverlabel": {
           "align": "left"
          },
          "hovermode": "closest",
          "mapbox": {
           "style": "light"
          },
          "paper_bgcolor": "white",
          "plot_bgcolor": "#E5ECF6",
          "polar": {
           "angularaxis": {
            "gridcolor": "white",
            "linecolor": "white",
            "ticks": ""
           },
           "bgcolor": "#E5ECF6",
           "radialaxis": {
            "gridcolor": "white",
            "linecolor": "white",
            "ticks": ""
           }
          },
          "scene": {
           "xaxis": {
            "backgroundcolor": "#E5ECF6",
            "gridcolor": "white",
            "gridwidth": 2,
            "linecolor": "white",
            "showbackground": true,
            "ticks": "",
            "zerolinecolor": "white"
           },
           "yaxis": {
            "backgroundcolor": "#E5ECF6",
            "gridcolor": "white",
            "gridwidth": 2,
            "linecolor": "white",
            "showbackground": true,
            "ticks": "",
            "zerolinecolor": "white"
           },
           "zaxis": {
            "backgroundcolor": "#E5ECF6",
            "gridcolor": "white",
            "gridwidth": 2,
            "linecolor": "white",
            "showbackground": true,
            "ticks": "",
            "zerolinecolor": "white"
           }
          },
          "shapedefaults": {
           "line": {
            "color": "#2a3f5f"
           }
          },
          "ternary": {
           "aaxis": {
            "gridcolor": "white",
            "linecolor": "white",
            "ticks": ""
           },
           "baxis": {
            "gridcolor": "white",
            "linecolor": "white",
            "ticks": ""
           },
           "bgcolor": "#E5ECF6",
           "caxis": {
            "gridcolor": "white",
            "linecolor": "white",
            "ticks": ""
           }
          },
          "title": {
           "x": 0.05
          },
          "xaxis": {
           "automargin": true,
           "gridcolor": "white",
           "linecolor": "white",
           "ticks": "",
           "title": {
            "standoff": 15
           },
           "zerolinecolor": "white",
           "zerolinewidth": 2
          },
          "yaxis": {
           "automargin": true,
           "gridcolor": "white",
           "linecolor": "white",
           "ticks": "",
           "title": {
            "standoff": 15
           },
           "zerolinecolor": "white",
           "zerolinewidth": 2
          }
         }
        },
        "title": {
         "text": "Income and Teaching vs World Rank of Universities"
        },
        "xaxis2": {
         "anchor": "y2",
         "domain": [
          0.6,
          0.95
         ]
        },
        "yaxis2": {
         "anchor": "x2",
         "domain": [
          0.6,
          0.95
         ]
        }
       }
      },
      "text/html": [
       "<div>                            <div id=\"a10b1481-28aa-4626-b659-c716f1f05077\" class=\"plotly-graph-div\" style=\"height:525px; width:100%;\"></div>            <script type=\"text/javascript\">                require([\"plotly\"], function(Plotly) {                    window.PLOTLYENV=window.PLOTLYENV || {};                                    if (document.getElementById(\"a10b1481-28aa-4626-b659-c716f1f05077\")) {                    Plotly.newPlot(                        \"a10b1481-28aa-4626-b659-c716f1f05077\",                        [{\"marker\":{\"color\":\"rgba(16, 112,2,0.8)\"},\"name\":\"teaching\",\"x\":[\"1\",\"2\",\"3\",\"4\",\"5\",\"6\",\"7\",\"8\",\"9\",\"9\",\"11\",\"12\",\"13\",\"14\",\"15\",\"16\",\"17\",\"18\",\"19\",\"20\",\"21\",\"22\",\"23\",\"24\",\"25\",\"26\",\"27\",\"28\",\"29\",\"29\",\"29\",\"32\",\"33\",\"34\",\"34\",\"36\",\"37\",\"38\",\"39\",\"40\",\"41\",\"42\",\"43\",\"44\",\"45\",\"46\",\"46\",\"48\",\"49\",\"50\",\"51\",\"52\",\"52\",\"54\",\"55\",\"55\",\"57\",\"58\",\"59\",\"60\",\"61\",\"61\",\"63\",\"64\",\"65\",\"66\",\"67\",\"68\",\"69\",\"70\",\"71\",\"72\",\"73\",\"74\",\"75\",\"75\",\"77\",\"78\",\"79\",\"80\",\"81\",\"82\",\"83\",\"83\",\"85\",\"86\",\"86\",\"88\",\"88\",\"90\",\"91\",\"91\",\"93\",\"94\",\"94\",\"96\",\"97\",\"98\",\"98\",\"98\",\"101\",\"102\",\"103\",\"103\",\"103\",\"103\",\"107\",\"107\",\"109\",\"109\",\"111\",\"111\",\"113\",\"113\",\"113\",\"116\",\"117\",\"118\",\"119\",\"120\",\"121\",\"121\",\"121\",\"124\",\"124\",\"126\",\"126\",\"126\",\"129\",\"130\",\"131\",\"132\",\"132\",\"132\",\"135\",\"136\",\"136\",\"138\",\"139\",\"140\",\"141\",\"141\",\"141\",\"144\",\"144\",\"146\",\"147\",\"148\",\"148\",\"150\",\"150\",\"152\",\"153\",\"154\",\"155\",\"156\",\"157\",\"157\",\"157\",\"160\",\"160\",\"162\",\"163\",\"164\",\"165\",\"165\",\"165\",\"165\",\"169\",\"170\",\"171\",\"171\",\"173\",\"173\",\"175\",\"175\",\"177\",\"178\",\"178\",\"180\",\"180\",\"182\",\"182\",\"182\",\"185\",\"186\",\"186\",\"188\",\"188\",\"188\",\"191\",\"192\",\"193\",\"193\",\"195\",\"196\",\"196\",\"198\",\"199\",\"200\",\"200\",\"201-225\",\"201-225\",\"201-225\",\"201-225\",\"201-225\",\"201-225\",\"201-225\",\"201-225\",\"201-225\",\"201-225\",\"201-225\",\"201-225\",\"201-225\",\"201-225\",\"201-225\",\"201-225\",\"201-225\",\"201-225\",\"201-225\",\"201-225\",\"201-225\",\"201-225\",\"201-225\",\"201-225\",\"201-225\",\"226-250\",\"226-250\",\"226-250\",\"226-250\",\"226-250\",\"226-250\",\"226-250\",\"226-250\",\"226-250\",\"226-250\",\"226-250\",\"226-250\",\"226-250\",\"226-250\",\"226-250\",\"226-250\",\"226-250\",\"226-250\",\"226-250\",\"226-250\",\"226-250\",\"226-250\",\"226-250\",\"226-250\",\"251-275\",\"251-275\",\"251-275\",\"251-275\",\"251-275\",\"251-275\",\"251-275\",\"251-275\",\"251-275\",\"251-275\",\"251-275\",\"251-275\",\"251-275\",\"251-275\",\"251-275\",\"251-275\",\"251-275\",\"251-275\",\"251-275\",\"251-275\",\"251-275\",\"251-275\",\"251-275\",\"251-275\",\"251-275\",\"276-300\",\"276-300\",\"276-300\",\"276-300\",\"276-300\",\"276-300\",\"276-300\",\"276-300\",\"276-300\",\"276-300\",\"276-300\",\"276-300\",\"276-300\",\"276-300\",\"276-300\",\"276-300\",\"276-300\",\"276-300\",\"276-300\",\"276-300\",\"276-300\",\"276-300\",\"276-300\",\"276-300\",\"276-300\",\"276-300\",\"276-300\",\"276-300\",\"301-350\",\"301-350\",\"301-350\",\"301-350\",\"301-350\",\"301-350\",\"301-350\",\"301-350\",\"301-350\",\"301-350\",\"301-350\",\"301-350\",\"301-350\",\"301-350\",\"301-350\",\"301-350\",\"301-350\",\"301-350\",\"301-350\",\"301-350\",\"301-350\",\"301-350\",\"301-350\",\"301-350\",\"301-350\",\"301-350\",\"301-350\",\"301-350\",\"301-350\",\"301-350\",\"301-350\",\"301-350\",\"301-350\",\"301-350\",\"301-350\",\"301-350\",\"301-350\",\"301-350\",\"301-350\",\"301-350\",\"301-350\",\"301-350\",\"301-350\",\"301-350\",\"301-350\",\"301-350\",\"301-350\",\"301-350\",\"351-400\",\"351-400\",\"351-400\",\"351-400\",\"351-400\",\"351-400\",\"351-400\",\"351-400\",\"351-400\",\"351-400\",\"351-400\",\"351-400\",\"351-400\",\"351-400\",\"351-400\",\"351-400\",\"351-400\",\"351-400\",\"351-400\",\"351-400\",\"351-400\",\"351-400\",\"351-400\",\"351-400\",\"351-400\",\"351-400\",\"351-400\",\"351-400\",\"351-400\",\"351-400\",\"351-400\",\"351-400\",\"351-400\",\"351-400\",\"351-400\",\"351-400\",\"351-400\",\"351-400\",\"351-400\",\"351-400\",\"351-400\",\"351-400\",\"351-400\",\"351-400\",\"351-400\",\"351-400\",\"351-400\",\"351-400\",\"351-400\",\"351-400\"],\"y\":[92.2,92.9,88.6,91.5,89.7,89.1,86.6,84.2,84.6,88.5,83.9,82.4,78.2,83.9,75.6,79.0,77.0,73.5,71.6,74.4,72.7,70.4,81.4,61.6,72.0,64.5,62.5,64.3,65.1,67.7,67.7,60.5,60.4,65.4,54.7,58.9,49.4,68.3,63.3,55.6,52.0,57.6,62.1,57.1,53.7,59.9,57.9,70.0,64.1,75.5,51.8,63.5,58.1,55.5,53.0,54.4,56.4,54.6,70.4,52.8,43.9,50.5,48.2,45.0,45.8,52.7,46.9,54.0,41.7,52.6,55.5,39.8,44.3,43.7,41.2,55.2,42.0,48.7,38.2,51.9,49.4,51.1,37.2,43.7,45.5,44.9,43.3,43.6,39.5,42.5,44.8,45.2,49.0,38.1,37.0,46.0,35.0,30.1,45.6,40.2,32.4,47.8,47.3,37.5,41.1,40.2,32.4,34.5,30.6,41.1,35.7,31.9,43.8,41.5,32.2,46.5,36.9,29.1,32.6,37.3,39.9,41.9,40.0,43.8,26.8,32.4,45.7,49.8,43.9,48.7,35.4,42.0,36.5,35.2,39.8,29.4,35.5,39.4,28.5,30.5,26.1,46.2,53.5,38.3,40.5,39.4,25.8,48.1,42.8,46.5,29.4,38.3,30.9,32.0,48.8,39.0,51.3,31.3,36.3,34.0,38.1,38.8,38.0,33.8,30.2,40.5,25.1,49.7,42.7,34.6,39.9,37.9,51.1,21.6,28.6,41.9,32.4,38.0,28.0,25.6,29.0,35.7,26.0,35.2,36.4,36.1,45.2,32.8,43.5,37.9,40.1,31.0,45.6,36.4,32.2,55.9,23.1,25.2,29.8,19.7,44.6,28.0,30.5,28.1,41.5,33.7,48.9,30.3,36.9,35.0,28.4,29.5,24.4,43.0,23.9,32.8,36.9,28.6,51.6,26.0,28.7,32.3,26.7,33.3,36.8,44.5,30.4,28.3,22.1,24.3,33.6,35.8,39.6,37.5,30.9,24.6,25.7,42.2,19.6,31.7,34.4,24.1,31.1,30.5,27.1,27.8,38.3,28.6,43.3,27.5,31.8,13.0,28.6,34.6,39.4,26.7,37.3,30.1,27.9,36.9,33.9,35.1,14.9,30.6,29.6,26.5,27.1,26.3,32.3,27.7,17.3,22.3,26.8,29.4,30.9,35.7,27.6,32.6,25.2,23.7,35.0,33.5,23.7,18.4,29.9,37.9,30.0,33.0,42.7,26.7,31.0,32.0,28.4,29.2,39.7,17.1,25.3,31.0,25.7,34.5,25.2,21.6,40.1,28.6,22.4,20.3,31.5,40.7,20.1,31.8,21.2,40.2,27.0,21.6,24.0,24.6,27.8,27.6,34.9,19.7,32.3,28.7,43.4,32.5,40.7,29.2,21.1,25.6,37.6,19.0,21.9,31.6,39.3,27.6,30.6,31.6,16.3,29.1,36.4,32.6,20.7,22.4,19.5,21.5,30.6,22.9,33.4,17.9,20.8,32.0,36.0,23.8,20.7,19.4,21.3,27.5,19.1,20.1,23.5,26.3,31.5,38.4,34.2,25.2,20.7,16.7,36.5,25.4,20.2,21.2,31.8,26.4,27.7,24.7,31.5,20.2,20.7,21.2,29.1,24.3,19.5,18.1,23.7,16.2,30.1,25.9,20.2,31.7,29.5,16.1,19.3,21.0,24.3,26.8,18.6,31.2,25.5,28.5,17.8,34.1,16.2],\"type\":\"scatter\"},{\"marker\":{\"color\":\"rgba(160, 112,20,0.8)\"},\"name\":\"income\",\"x\":[\"1\",\"2\",\"3\",\"4\",\"5\",\"6\",\"7\",\"8\",\"9\",\"9\",\"11\",\"12\",\"13\",\"14\",\"15\",\"16\",\"17\",\"18\",\"19\",\"20\",\"21\",\"22\",\"23\",\"24\",\"25\",\"26\",\"27\",\"28\",\"29\",\"29\",\"29\",\"32\",\"33\",\"34\",\"34\",\"36\",\"37\",\"38\",\"39\",\"40\",\"41\",\"42\",\"43\",\"44\",\"45\",\"46\",\"46\",\"48\",\"49\",\"50\",\"51\",\"52\",\"52\",\"54\",\"55\",\"55\",\"57\",\"58\",\"59\",\"60\",\"61\",\"61\",\"63\",\"64\",\"65\",\"66\",\"67\",\"68\",\"69\",\"70\",\"71\",\"72\",\"73\",\"74\",\"75\",\"75\",\"77\",\"78\",\"79\",\"80\",\"81\",\"82\",\"83\",\"83\",\"85\",\"86\",\"86\",\"88\",\"88\",\"90\",\"91\",\"91\",\"93\",\"94\",\"94\",\"96\",\"97\",\"98\",\"98\",\"98\",\"101\",\"102\",\"103\",\"103\",\"103\",\"103\",\"107\",\"107\",\"109\",\"109\",\"111\",\"111\",\"113\",\"113\",\"113\",\"116\",\"117\",\"118\",\"119\",\"120\",\"121\",\"121\",\"121\",\"124\",\"124\",\"126\",\"126\",\"126\",\"129\",\"130\",\"131\",\"132\",\"132\",\"132\",\"135\",\"136\",\"136\",\"138\",\"139\",\"140\",\"141\",\"141\",\"141\",\"144\",\"144\",\"146\",\"147\",\"148\",\"148\",\"150\",\"150\",\"152\",\"153\",\"154\",\"155\",\"156\",\"157\",\"157\",\"157\",\"160\",\"160\",\"162\",\"163\",\"164\",\"165\",\"165\",\"165\",\"165\",\"169\",\"170\",\"171\",\"171\",\"173\",\"173\",\"175\",\"175\",\"177\",\"178\",\"178\",\"180\",\"180\",\"182\",\"182\",\"182\",\"185\",\"186\",\"186\",\"188\",\"188\",\"188\",\"191\",\"192\",\"193\",\"193\",\"195\",\"196\",\"196\",\"198\",\"199\",\"200\",\"200\",\"201-225\",\"201-225\",\"201-225\",\"201-225\",\"201-225\",\"201-225\",\"201-225\",\"201-225\",\"201-225\",\"201-225\",\"201-225\",\"201-225\",\"201-225\",\"201-225\",\"201-225\",\"201-225\",\"201-225\",\"201-225\",\"201-225\",\"201-225\",\"201-225\",\"201-225\",\"201-225\",\"201-225\",\"201-225\",\"226-250\",\"226-250\",\"226-250\",\"226-250\",\"226-250\",\"226-250\",\"226-250\",\"226-250\",\"226-250\",\"226-250\",\"226-250\",\"226-250\",\"226-250\",\"226-250\",\"226-250\",\"226-250\",\"226-250\",\"226-250\",\"226-250\",\"226-250\",\"226-250\",\"226-250\",\"226-250\",\"226-250\",\"251-275\",\"251-275\",\"251-275\",\"251-275\",\"251-275\",\"251-275\",\"251-275\",\"251-275\",\"251-275\",\"251-275\",\"251-275\",\"251-275\",\"251-275\",\"251-275\",\"251-275\",\"251-275\",\"251-275\",\"251-275\",\"251-275\",\"251-275\",\"251-275\",\"251-275\",\"251-275\",\"251-275\",\"251-275\",\"276-300\",\"276-300\",\"276-300\",\"276-300\",\"276-300\",\"276-300\",\"276-300\",\"276-300\",\"276-300\",\"276-300\",\"276-300\",\"276-300\",\"276-300\",\"276-300\",\"276-300\",\"276-300\",\"276-300\",\"276-300\",\"276-300\",\"276-300\",\"276-300\",\"276-300\",\"276-300\",\"276-300\",\"276-300\",\"276-300\",\"276-300\",\"276-300\",\"301-350\",\"301-350\",\"301-350\",\"301-350\",\"301-350\",\"301-350\",\"301-350\",\"301-350\",\"301-350\",\"301-350\",\"301-350\",\"301-350\",\"301-350\",\"301-350\",\"301-350\",\"301-350\",\"301-350\",\"301-350\",\"301-350\",\"301-350\",\"301-350\",\"301-350\",\"301-350\",\"301-350\",\"301-350\",\"301-350\",\"301-350\",\"301-350\",\"301-350\",\"301-350\",\"301-350\",\"301-350\",\"301-350\",\"301-350\",\"301-350\",\"301-350\",\"301-350\",\"301-350\",\"301-350\",\"301-350\",\"301-350\",\"301-350\",\"301-350\",\"301-350\",\"301-350\",\"301-350\",\"301-350\",\"301-350\",\"351-400\",\"351-400\",\"351-400\",\"351-400\",\"351-400\",\"351-400\",\"351-400\",\"351-400\",\"351-400\",\"351-400\",\"351-400\",\"351-400\",\"351-400\",\"351-400\",\"351-400\",\"351-400\",\"351-400\",\"351-400\",\"351-400\",\"351-400\",\"351-400\",\"351-400\",\"351-400\",\"351-400\",\"351-400\",\"351-400\",\"351-400\",\"351-400\",\"351-400\",\"351-400\",\"351-400\",\"351-400\",\"351-400\",\"351-400\",\"351-400\",\"351-400\",\"351-400\",\"351-400\",\"351-400\",\"351-400\",\"351-400\",\"351-400\",\"351-400\",\"351-400\",\"351-400\",\"351-400\",\"351-400\",\"351-400\",\"351-400\",\"351-400\"],\"xaxis\":\"x2\",\"y\":[\"89.1\",\"44.0\",\"72.9\",\"63.1\",\"51.1\",\"95.7\",\"82.7\",\"44.8\",\"72.7\",\"42.0\",\"36.8\",\"-\",\"73.2\",\"-\",\"100.0\",\"43.0\",\"55.7\",\"100.0\",\"33.7\",\"46.1\",\"77.0\",\"46.2\",\"51.2\",\"53.0\",\"53.4\",\"44.7\",\"72.3\",\"58.1\",\"100.0\",\"51.7\",\"53.3\",\"40.1\",\"61.2\",\"40.6\",\"61.9\",\"41.2\",\"87.1\",\"30.2\",\"38.6\",\"39.0\",\"54.2\",\"-\",\"56.0\",\"65.5\",\"38.9\",\"-\",\"40.5\",\"100.0\",\"99.7\",\"86.3\",\"57.6\",\"100.0\",\"39.4\",\"32.7\",\"99.9\",\"55.4\",\"30.3\",\"60.4\",\"73.3\",\"67.3\",\"100.0\",\"76.8\",\"40.1\",\"47.3\",\"66.2\",\"100.0\",\"32.8\",\"46.8\",\"34.6\",\"41.6\",\"100.0\",\"54.4\",\"100.0\",\"42.1\",\"97.7\",\"34.4\",\"56.7\",\"39.4\",\"84.1\",\"31.9\",\"33.5\",\"31.7\",\"34.8\",\"73.4\",\"55.2\",\"99.6\",\"-\",\"58.7\",\"40.0\",\"85.3\",\"52.8\",\"38.5\",\"42.3\",\"85.0\",\"39.9\",\"59.4\",\"-\",\"32.4\",\"49.0\",\"39.6\",\"96.1\",\"-\",\"33.4\",\"31.5\",\"35.6\",\"40.1\",\"37.1\",\"65.1\",\"33.8\",\"47.8\",\"39.8\",\"31.2\",\"91.8\",\"54.7\",\"32.2\",\"-\",\"88.9\",\"32.8\",\"32.6\",\"28.9\",\"98.6\",\"36.4\",\"43.8\",\"51.8\",\"88.0\",\"46.5\",\"100.0\",\"-\",\"42.8\",\"49.8\",\"34.1\",\"47.4\",\"33.2\",\"38.9\",\"99.5\",\"50.9\",\"60.0\",\"30.6\",\"47.7\",\"42.8\",\"79.4\",\"49.6\",\"69.4\",\"99.9\",\"35.2\",\"39.4\",\"43.9\",\"98.5\",\"36.0\",\"-\",\"39.5\",\"49.1\",\"59.8\",\"35.8\",\"43.8\",\"69.8\",\"73.6\",\"40.0\",\"63.3\",\"44.4\",\"29.3\",\"58.1\",\"81.4\",\"65.3\",\"51.1\",\"82.7\",\"35.9\",\"76.8\",\"-\",\"100.0\",\"39.6\",\"46.1\",\"80.0\",\"31.6\",\"74.2\",\"49.3\",\"40.6\",\"31.3\",\"42.1\",\"29.1\",\"99.3\",\"32.6\",\"42.9\",\"29.4\",\"34.0\",\"36.6\",\"-\",\"31.3\",\"42.6\",\"45.9\",\"39.6\",\"49.8\",\"49.4\",\"54.4\",\"-\",\"78.5\",\"32.4\",\"29.2\",\"34.8\",\"53.7\",\"29.3\",\"46.4\",\"34.8\",\"38.8\",\"31.5\",\"42.6\",\"98.5\",\"35.0\",\"36.5\",\"56.7\",\"31.0\",\"34.2\",\"47.7\",\"40.7\",\"42.0\",\"34.9\",\"71.6\",\"32.0\",\"40.1\",\"41.6\",\"33.3\",\"89.2\",\"50.7\",\"38.2\",\"30.0\",\"69.7\",\"34.6\",\"28.7\",\"31.9\",\"30.7\",\"68.9\",\"62.7\",\"99.0\",\"86.3\",\"49.9\",\"41.8\",\"-\",\"63.4\",\"31.0\",\"33.8\",\"41.5\",\"37.0\",\"42.0\",\"52.5\",\"45.0\",\"40.1\",\"50.7\",\"30.0\",\"64.1\",\"34.1\",\"64.5\",\"28.1\",\"33.7\",\"51.7\",\"49.4\",\"43.1\",\"59.0\",\"43.7\",\"99.8\",\"88.9\",\"46.3\",\"38.3\",\"64.0\",\"38.2\",\"44.5\",\"75.6\",\"31.9\",\"64.4\",\"38.4\",\"99.8\",\"36.5\",\"94.8\",\"46.0\",\"40.8\",\"41.7\",\"75.8\",\"38.8\",\"37.9\",\"73.8\",\"33.6\",\"98.2\",\"45.0\",\"28.3\",\"28.8\",\"71.9\",\"88.4\",\"94.7\",\"55.1\",\"56.9\",\"45.9\",\"34.9\",\"35.6\",\"46.8\",\"48.2\",\"31.1\",\"33.6\",\"40.1\",\"35.0\",\"83.9\",\"31.8\",\"44.7\",\"49.7\",\"42.6\",\"32.2\",\"31.1\",\"32.7\",\"29.4\",\"32.4\",\"30.6\",\"34.6\",\"29.1\",\"-\",\"39.2\",\"50.6\",\"36.2\",\"33.4\",\"32.0\",\"67.8\",\"42.8\",\"29.2\",\"34.2\",\"86.2\",\"44.5\",\"58.9\",\"-\",\"36.7\",\"49.5\",\"28.8\",\"31.1\",\"36.0\",\"44.2\",\"29.1\",\"43.2\",\"-\",\"36.2\",\"43.5\",\"28.6\",\"34.4\",\"34.5\",\"34.5\",\"32.9\",\"37.7\",\"72.6\",\"30.7\",\"48.2\",\"42.5\",\"36.9\",\"30.8\",\"28.5\",\"-\",\"88.6\",\"43.9\",\"33.0\",\"35.7\",\"34.8\",\"37.4\",\"33.6\",\"36.1\",\"61.3\",\"28.7\",\"88.7\",\"43.4\",\"49.7\",\"69.0\",\"84.1\",\"56.5\",\"68.7\",\"39.2\",\"-\",\"40.5\",\"100.0\",\"47.0\",\"82.0\",\"28.4\",\"47.4\",\"38.8\",\"38.8\",\"31.3\",\"35.2\",\"32.8\",\"40.4\",\"35.4\",\"30.2\",\"29.6\",\"33.9\",\"70.4\",\"44.5\",\"31.2\",\"90.2\",\"29.2\",\"37.7\",\"29.1\",\"32.1\",\"-\",\"50.0\",\"44.8\",\"32.6\",\"54.5\",\"30.4\",\"85.9\",\"57.8\"],\"yaxis\":\"y2\",\"type\":\"scatter\"}],                        {\"template\":{\"data\":{\"barpolar\":[{\"marker\":{\"line\":{\"color\":\"#E5ECF6\",\"width\":0.5},\"pattern\":{\"fillmode\":\"overlay\",\"size\":10,\"solidity\":0.2}},\"type\":\"barpolar\"}],\"bar\":[{\"error_x\":{\"color\":\"#2a3f5f\"},\"error_y\":{\"color\":\"#2a3f5f\"},\"marker\":{\"line\":{\"color\":\"#E5ECF6\",\"width\":0.5},\"pattern\":{\"fillmode\":\"overlay\",\"size\":10,\"solidity\":0.2}},\"type\":\"bar\"}],\"carpet\":[{\"aaxis\":{\"endlinecolor\":\"#2a3f5f\",\"gridcolor\":\"white\",\"linecolor\":\"white\",\"minorgridcolor\":\"white\",\"startlinecolor\":\"#2a3f5f\"},\"baxis\":{\"endlinecolor\":\"#2a3f5f\",\"gridcolor\":\"white\",\"linecolor\":\"white\",\"minorgridcolor\":\"white\",\"startlinecolor\":\"#2a3f5f\"},\"type\":\"carpet\"}],\"choropleth\":[{\"colorbar\":{\"outlinewidth\":0,\"ticks\":\"\"},\"type\":\"choropleth\"}],\"contourcarpet\":[{\"colorbar\":{\"outlinewidth\":0,\"ticks\":\"\"},\"type\":\"contourcarpet\"}],\"contour\":[{\"colorbar\":{\"outlinewidth\":0,\"ticks\":\"\"},\"colorscale\":[[0.0,\"#0d0887\"],[0.1111111111111111,\"#46039f\"],[0.2222222222222222,\"#7201a8\"],[0.3333333333333333,\"#9c179e\"],[0.4444444444444444,\"#bd3786\"],[0.5555555555555556,\"#d8576b\"],[0.6666666666666666,\"#ed7953\"],[0.7777777777777778,\"#fb9f3a\"],[0.8888888888888888,\"#fdca26\"],[1.0,\"#f0f921\"]],\"type\":\"contour\"}],\"heatmapgl\":[{\"colorbar\":{\"outlinewidth\":0,\"ticks\":\"\"},\"colorscale\":[[0.0,\"#0d0887\"],[0.1111111111111111,\"#46039f\"],[0.2222222222222222,\"#7201a8\"],[0.3333333333333333,\"#9c179e\"],[0.4444444444444444,\"#bd3786\"],[0.5555555555555556,\"#d8576b\"],[0.6666666666666666,\"#ed7953\"],[0.7777777777777778,\"#fb9f3a\"],[0.8888888888888888,\"#fdca26\"],[1.0,\"#f0f921\"]],\"type\":\"heatmapgl\"}],\"heatmap\":[{\"colorbar\":{\"outlinewidth\":0,\"ticks\":\"\"},\"colorscale\":[[0.0,\"#0d0887\"],[0.1111111111111111,\"#46039f\"],[0.2222222222222222,\"#7201a8\"],[0.3333333333333333,\"#9c179e\"],[0.4444444444444444,\"#bd3786\"],[0.5555555555555556,\"#d8576b\"],[0.6666666666666666,\"#ed7953\"],[0.7777777777777778,\"#fb9f3a\"],[0.8888888888888888,\"#fdca26\"],[1.0,\"#f0f921\"]],\"type\":\"heatmap\"}],\"histogram2dcontour\":[{\"colorbar\":{\"outlinewidth\":0,\"ticks\":\"\"},\"colorscale\":[[0.0,\"#0d0887\"],[0.1111111111111111,\"#46039f\"],[0.2222222222222222,\"#7201a8\"],[0.3333333333333333,\"#9c179e\"],[0.4444444444444444,\"#bd3786\"],[0.5555555555555556,\"#d8576b\"],[0.6666666666666666,\"#ed7953\"],[0.7777777777777778,\"#fb9f3a\"],[0.8888888888888888,\"#fdca26\"],[1.0,\"#f0f921\"]],\"type\":\"histogram2dcontour\"}],\"histogram2d\":[{\"colorbar\":{\"outlinewidth\":0,\"ticks\":\"\"},\"colorscale\":[[0.0,\"#0d0887\"],[0.1111111111111111,\"#46039f\"],[0.2222222222222222,\"#7201a8\"],[0.3333333333333333,\"#9c179e\"],[0.4444444444444444,\"#bd3786\"],[0.5555555555555556,\"#d8576b\"],[0.6666666666666666,\"#ed7953\"],[0.7777777777777778,\"#fb9f3a\"],[0.8888888888888888,\"#fdca26\"],[1.0,\"#f0f921\"]],\"type\":\"histogram2d\"}],\"histogram\":[{\"marker\":{\"pattern\":{\"fillmode\":\"overlay\",\"size\":10,\"solidity\":0.2}},\"type\":\"histogram\"}],\"mesh3d\":[{\"colorbar\":{\"outlinewidth\":0,\"ticks\":\"\"},\"type\":\"mesh3d\"}],\"parcoords\":[{\"line\":{\"colorbar\":{\"outlinewidth\":0,\"ticks\":\"\"}},\"type\":\"parcoords\"}],\"pie\":[{\"automargin\":true,\"type\":\"pie\"}],\"scatter3d\":[{\"line\":{\"colorbar\":{\"outlinewidth\":0,\"ticks\":\"\"}},\"marker\":{\"colorbar\":{\"outlinewidth\":0,\"ticks\":\"\"}},\"type\":\"scatter3d\"}],\"scattercarpet\":[{\"marker\":{\"colorbar\":{\"outlinewidth\":0,\"ticks\":\"\"}},\"type\":\"scattercarpet\"}],\"scattergeo\":[{\"marker\":{\"colorbar\":{\"outlinewidth\":0,\"ticks\":\"\"}},\"type\":\"scattergeo\"}],\"scattergl\":[{\"marker\":{\"colorbar\":{\"outlinewidth\":0,\"ticks\":\"\"}},\"type\":\"scattergl\"}],\"scattermapbox\":[{\"marker\":{\"colorbar\":{\"outlinewidth\":0,\"ticks\":\"\"}},\"type\":\"scattermapbox\"}],\"scatterpolargl\":[{\"marker\":{\"colorbar\":{\"outlinewidth\":0,\"ticks\":\"\"}},\"type\":\"scatterpolargl\"}],\"scatterpolar\":[{\"marker\":{\"colorbar\":{\"outlinewidth\":0,\"ticks\":\"\"}},\"type\":\"scatterpolar\"}],\"scatter\":[{\"fillpattern\":{\"fillmode\":\"overlay\",\"size\":10,\"solidity\":0.2},\"type\":\"scatter\"}],\"scatterternary\":[{\"marker\":{\"colorbar\":{\"outlinewidth\":0,\"ticks\":\"\"}},\"type\":\"scatterternary\"}],\"surface\":[{\"colorbar\":{\"outlinewidth\":0,\"ticks\":\"\"},\"colorscale\":[[0.0,\"#0d0887\"],[0.1111111111111111,\"#46039f\"],[0.2222222222222222,\"#7201a8\"],[0.3333333333333333,\"#9c179e\"],[0.4444444444444444,\"#bd3786\"],[0.5555555555555556,\"#d8576b\"],[0.6666666666666666,\"#ed7953\"],[0.7777777777777778,\"#fb9f3a\"],[0.8888888888888888,\"#fdca26\"],[1.0,\"#f0f921\"]],\"type\":\"surface\"}],\"table\":[{\"cells\":{\"fill\":{\"color\":\"#EBF0F8\"},\"line\":{\"color\":\"white\"}},\"header\":{\"fill\":{\"color\":\"#C8D4E3\"},\"line\":{\"color\":\"white\"}},\"type\":\"table\"}]},\"layout\":{\"annotationdefaults\":{\"arrowcolor\":\"#2a3f5f\",\"arrowhead\":0,\"arrowwidth\":1},\"autotypenumbers\":\"strict\",\"coloraxis\":{\"colorbar\":{\"outlinewidth\":0,\"ticks\":\"\"}},\"colorscale\":{\"diverging\":[[0,\"#8e0152\"],[0.1,\"#c51b7d\"],[0.2,\"#de77ae\"],[0.3,\"#f1b6da\"],[0.4,\"#fde0ef\"],[0.5,\"#f7f7f7\"],[0.6,\"#e6f5d0\"],[0.7,\"#b8e186\"],[0.8,\"#7fbc41\"],[0.9,\"#4d9221\"],[1,\"#276419\"]],\"sequential\":[[0.0,\"#0d0887\"],[0.1111111111111111,\"#46039f\"],[0.2222222222222222,\"#7201a8\"],[0.3333333333333333,\"#9c179e\"],[0.4444444444444444,\"#bd3786\"],[0.5555555555555556,\"#d8576b\"],[0.6666666666666666,\"#ed7953\"],[0.7777777777777778,\"#fb9f3a\"],[0.8888888888888888,\"#fdca26\"],[1.0,\"#f0f921\"]],\"sequentialminus\":[[0.0,\"#0d0887\"],[0.1111111111111111,\"#46039f\"],[0.2222222222222222,\"#7201a8\"],[0.3333333333333333,\"#9c179e\"],[0.4444444444444444,\"#bd3786\"],[0.5555555555555556,\"#d8576b\"],[0.6666666666666666,\"#ed7953\"],[0.7777777777777778,\"#fb9f3a\"],[0.8888888888888888,\"#fdca26\"],[1.0,\"#f0f921\"]]},\"colorway\":[\"#636efa\",\"#EF553B\",\"#00cc96\",\"#ab63fa\",\"#FFA15A\",\"#19d3f3\",\"#FF6692\",\"#B6E880\",\"#FF97FF\",\"#FECB52\"],\"font\":{\"color\":\"#2a3f5f\"},\"geo\":{\"bgcolor\":\"white\",\"lakecolor\":\"white\",\"landcolor\":\"#E5ECF6\",\"showlakes\":true,\"showland\":true,\"subunitcolor\":\"white\"},\"hoverlabel\":{\"align\":\"left\"},\"hovermode\":\"closest\",\"mapbox\":{\"style\":\"light\"},\"paper_bgcolor\":\"white\",\"plot_bgcolor\":\"#E5ECF6\",\"polar\":{\"angularaxis\":{\"gridcolor\":\"white\",\"linecolor\":\"white\",\"ticks\":\"\"},\"bgcolor\":\"#E5ECF6\",\"radialaxis\":{\"gridcolor\":\"white\",\"linecolor\":\"white\",\"ticks\":\"\"}},\"scene\":{\"xaxis\":{\"backgroundcolor\":\"#E5ECF6\",\"gridcolor\":\"white\",\"gridwidth\":2,\"linecolor\":\"white\",\"showbackground\":true,\"ticks\":\"\",\"zerolinecolor\":\"white\"},\"yaxis\":{\"backgroundcolor\":\"#E5ECF6\",\"gridcolor\":\"white\",\"gridwidth\":2,\"linecolor\":\"white\",\"showbackground\":true,\"ticks\":\"\",\"zerolinecolor\":\"white\"},\"zaxis\":{\"backgroundcolor\":\"#E5ECF6\",\"gridcolor\":\"white\",\"gridwidth\":2,\"linecolor\":\"white\",\"showbackground\":true,\"ticks\":\"\",\"zerolinecolor\":\"white\"}},\"shapedefaults\":{\"line\":{\"color\":\"#2a3f5f\"}},\"ternary\":{\"aaxis\":{\"gridcolor\":\"white\",\"linecolor\":\"white\",\"ticks\":\"\"},\"baxis\":{\"gridcolor\":\"white\",\"linecolor\":\"white\",\"ticks\":\"\"},\"bgcolor\":\"#E5ECF6\",\"caxis\":{\"gridcolor\":\"white\",\"linecolor\":\"white\",\"ticks\":\"\"}},\"title\":{\"x\":0.05},\"xaxis\":{\"automargin\":true,\"gridcolor\":\"white\",\"linecolor\":\"white\",\"ticks\":\"\",\"title\":{\"standoff\":15},\"zerolinecolor\":\"white\",\"zerolinewidth\":2},\"yaxis\":{\"automargin\":true,\"gridcolor\":\"white\",\"linecolor\":\"white\",\"ticks\":\"\",\"title\":{\"standoff\":15},\"zerolinecolor\":\"white\",\"zerolinewidth\":2}}},\"title\":{\"text\":\"Income and Teaching vs World Rank of Universities\"},\"xaxis2\":{\"anchor\":\"y2\",\"domain\":[0.6,0.95]},\"yaxis2\":{\"anchor\":\"x2\",\"domain\":[0.6,0.95]}},                        {\"responsive\": true}                    ).then(function(){\n",
       "                            \n",
       "var gd = document.getElementById('a10b1481-28aa-4626-b659-c716f1f05077');\n",
       "var x = new MutationObserver(function (mutations, observer) {{\n",
       "        var display = window.getComputedStyle(gd).display;\n",
       "        if (!display || display === 'none') {{\n",
       "            console.log([gd, 'removed!']);\n",
       "            Plotly.purge(gd);\n",
       "            observer.disconnect();\n",
       "        }}\n",
       "}});\n",
       "\n",
       "// Listen for the removal of the full notebook cells\n",
       "var notebookContainer = gd.closest('#notebook-container');\n",
       "if (notebookContainer) {{\n",
       "    x.observe(notebookContainer, {childList: true});\n",
       "}}\n",
       "\n",
       "// Listen for the clearing of the current output cell\n",
       "var outputEl = gd.closest('.output');\n",
       "if (outputEl) {{\n",
       "    x.observe(outputEl, {childList: true});\n",
       "}}\n",
       "\n",
       "                        })                };                });            </script>        </div>"
      ]
     },
     "metadata": {},
     "output_type": "display_data"
    }
   ],
   "source": [
    "# the first line plot\n",
    "trace1=go.Scatter(\n",
    "x= dataframe.world_rank,\n",
    "y= dataframe.teaching,\n",
    "name=\"teaching\",\n",
    "marker= dict(color='rgba(16, 112,2,0.8)'),\n",
    ")\n",
    "\n",
    "# second line plot\n",
    "\n",
    "trace2 = go.Scatter(\n",
    "x= dataframe.world_rank,\n",
    "y= dataframe.income,\n",
    "xaxis='x2',\n",
    "yaxis='y2',\n",
    "name= \"income\",\n",
    "marker= dict(color='rgba(160, 112,20,0.8)'),\n",
    ")\n",
    "\n",
    "data=[trace1, trace2]\n",
    "layout= go.Layout(\n",
    "    xaxis2=dict(\n",
    "    domain=[0.6, 0.95],\n",
    "    anchor='y2',),\n",
    "    \n",
    "    yaxis2=dict(\n",
    "    domain=[0.6, 0.95],\n",
    "    anchor= 'x2',),\n",
    "    \n",
    "    title= 'Income and Teaching vs World Rank of Universities'\n",
    ")\n",
    "\n",
    "fig= go.Figure(data=data, layout=layout)\n",
    "iplot(fig)"
   ]
  },
  {
   "cell_type": "markdown",
   "id": "938afe36",
   "metadata": {
    "papermill": {
     "duration": 0.176801,
     "end_time": "2022-08-02T12:20:59.654213",
     "exception": false,
     "start_time": "2022-08-02T12:20:59.477412",
     "status": "completed"
    },
    "tags": []
   },
   "source": [
    "## 3D Scatter Plot with Colorscaling"
   ]
  },
  {
   "cell_type": "code",
   "execution_count": 18,
   "id": "f66aa4d7",
   "metadata": {
    "execution": {
     "iopub.execute_input": "2022-08-02T12:20:59.858646Z",
     "iopub.status.busy": "2022-08-02T12:20:59.857653Z",
     "iopub.status.idle": "2022-08-02T12:20:59.915975Z",
     "shell.execute_reply": "2022-08-02T12:20:59.914866Z"
    },
    "papermill": {
     "duration": 0.170689,
     "end_time": "2022-08-02T12:20:59.918681",
     "exception": false,
     "start_time": "2022-08-02T12:20:59.747992",
     "status": "completed"
    },
    "tags": []
   },
   "outputs": [
    {
     "data": {
      "application/vnd.plotly.v1+json": {
       "config": {
        "linkText": "Export to plot.ly",
        "plotlyServerURL": "https://plot.ly",
        "showLink": false
       },
       "data": [
        {
         "marker": {
          "color": "rgb(255,0,0)",
          "size": 10
         },
         "mode": "markers",
         "type": "scatter3d",
         "x": [
          "1",
          "2",
          "3",
          "4",
          "5",
          "6",
          "7",
          "8",
          "9",
          "9",
          "11",
          "12",
          "13",
          "14",
          "15",
          "16",
          "17",
          "18",
          "19",
          "20",
          "21",
          "22",
          "23",
          "24",
          "25",
          "26",
          "27",
          "28",
          "29",
          "29",
          "29",
          "32",
          "33",
          "34",
          "34",
          "36",
          "37",
          "38",
          "39",
          "40",
          "41",
          "42",
          "43",
          "44",
          "45",
          "46",
          "46",
          "48",
          "49",
          "50",
          "51",
          "52",
          "52",
          "54",
          "55",
          "55",
          "57",
          "58",
          "59",
          "60",
          "61",
          "61",
          "63",
          "64",
          "65",
          "66",
          "67",
          "68",
          "69",
          "70",
          "71",
          "72",
          "73",
          "74",
          "75",
          "75",
          "77",
          "78",
          "79",
          "80",
          "81",
          "82",
          "83",
          "83",
          "85",
          "86",
          "86",
          "88",
          "88",
          "90",
          "91",
          "91",
          "93",
          "94",
          "94",
          "96",
          "97",
          "98",
          "98",
          "98",
          "101",
          "102",
          "103",
          "103",
          "103",
          "103",
          "107",
          "107",
          "109",
          "109",
          "111",
          "111",
          "113",
          "113",
          "113",
          "116",
          "117",
          "118",
          "119",
          "120",
          "121",
          "121",
          "121",
          "124",
          "124",
          "126",
          "126",
          "126",
          "129",
          "130",
          "131",
          "132",
          "132",
          "132",
          "135",
          "136",
          "136",
          "138",
          "139",
          "140",
          "141",
          "141",
          "141",
          "144",
          "144",
          "146",
          "147",
          "148",
          "148",
          "150",
          "150",
          "152",
          "153",
          "154",
          "155",
          "156",
          "157",
          "157",
          "157",
          "160",
          "160",
          "162",
          "163",
          "164",
          "165",
          "165",
          "165",
          "165",
          "169",
          "170",
          "171",
          "171",
          "173",
          "173",
          "175",
          "175",
          "177",
          "178",
          "178",
          "180",
          "180",
          "182",
          "182",
          "182",
          "185",
          "186",
          "186",
          "188",
          "188",
          "188",
          "191",
          "192",
          "193",
          "193",
          "195",
          "196",
          "196",
          "198",
          "199",
          "200",
          "200",
          "201-225",
          "201-225",
          "201-225",
          "201-225",
          "201-225",
          "201-225",
          "201-225",
          "201-225",
          "201-225",
          "201-225",
          "201-225",
          "201-225",
          "201-225",
          "201-225",
          "201-225",
          "201-225",
          "201-225",
          "201-225",
          "201-225",
          "201-225",
          "201-225",
          "201-225",
          "201-225",
          "201-225",
          "201-225",
          "226-250",
          "226-250",
          "226-250",
          "226-250",
          "226-250",
          "226-250",
          "226-250",
          "226-250",
          "226-250",
          "226-250",
          "226-250",
          "226-250",
          "226-250",
          "226-250",
          "226-250",
          "226-250",
          "226-250",
          "226-250",
          "226-250",
          "226-250",
          "226-250",
          "226-250",
          "226-250",
          "226-250",
          "251-275",
          "251-275",
          "251-275",
          "251-275",
          "251-275",
          "251-275",
          "251-275",
          "251-275",
          "251-275",
          "251-275",
          "251-275",
          "251-275",
          "251-275",
          "251-275",
          "251-275",
          "251-275",
          "251-275",
          "251-275",
          "251-275",
          "251-275",
          "251-275",
          "251-275",
          "251-275",
          "251-275",
          "251-275",
          "276-300",
          "276-300",
          "276-300",
          "276-300",
          "276-300",
          "276-300",
          "276-300",
          "276-300",
          "276-300",
          "276-300",
          "276-300",
          "276-300",
          "276-300",
          "276-300",
          "276-300",
          "276-300",
          "276-300",
          "276-300",
          "276-300",
          "276-300",
          "276-300",
          "276-300",
          "276-300",
          "276-300",
          "276-300",
          "276-300",
          "276-300",
          "276-300",
          "301-350",
          "301-350",
          "301-350",
          "301-350",
          "301-350",
          "301-350",
          "301-350",
          "301-350",
          "301-350",
          "301-350",
          "301-350",
          "301-350",
          "301-350",
          "301-350",
          "301-350",
          "301-350",
          "301-350",
          "301-350",
          "301-350",
          "301-350",
          "301-350",
          "301-350",
          "301-350",
          "301-350",
          "301-350",
          "301-350",
          "301-350",
          "301-350",
          "301-350",
          "301-350",
          "301-350",
          "301-350",
          "301-350",
          "301-350",
          "301-350",
          "301-350",
          "301-350",
          "301-350",
          "301-350",
          "301-350",
          "301-350",
          "301-350",
          "301-350",
          "301-350",
          "301-350",
          "301-350",
          "301-350",
          "301-350",
          "351-400",
          "351-400",
          "351-400",
          "351-400",
          "351-400",
          "351-400",
          "351-400",
          "351-400",
          "351-400",
          "351-400",
          "351-400",
          "351-400",
          "351-400",
          "351-400",
          "351-400",
          "351-400",
          "351-400",
          "351-400",
          "351-400",
          "351-400",
          "351-400",
          "351-400",
          "351-400",
          "351-400",
          "351-400",
          "351-400",
          "351-400",
          "351-400",
          "351-400",
          "351-400",
          "351-400",
          "351-400",
          "351-400",
          "351-400",
          "351-400",
          "351-400",
          "351-400",
          "351-400",
          "351-400",
          "351-400",
          "351-400",
          "351-400",
          "351-400",
          "351-400",
          "351-400",
          "351-400",
          "351-400",
          "351-400",
          "351-400",
          "351-400"
         ],
         "y": [
          98.1,
          98.6,
          97.7,
          96.7,
          95.6,
          88.2,
          94.7,
          96.7,
          88.3,
          90.8,
          89.9,
          90.5,
          90.2,
          79.4,
          84.2,
          82.0,
          86.5,
          75.2,
          83.8,
          85.1,
          78.9,
          80.4,
          85.1,
          74.9,
          78.1,
          68.9,
          71.2,
          72.0,
          69.1,
          79.0,
          71.3,
          69.0,
          70.9,
          74.2,
          56.9,
          62.9,
          61.4,
          62.4,
          69.9,
          62.3,
          66.6,
          55.2,
          72.6,
          68.0,
          70.9,
          64.7,
          58.6,
          61.9,
          68.3,
          77.1,
          66.8,
          63.2,
          58.7,
          54.2,
          63.6,
          59.7,
          46.7,
          64.8,
          68.4,
          60.8,
          55.9,
          47.1,
          46.0,
          58.2,
          58.4,
          49.3,
          48.0,
          51.1,
          37.1,
          45.4,
          71.4,
          53.7,
          46.8,
          44.7,
          41.1,
          44.6,
          55.4,
          36.2,
          54.8,
          52.6,
          58.0,
          49.4,
          40.7,
          54.4,
          36.9,
          51.4,
          38.5,
          33.9,
          41.7,
          51.6,
          49.1,
          46.3,
          32.4,
          43.2,
          40.5,
          38.2,
          38.3,
          45.0,
          37.4,
          53.0,
          48.1,
          50.5,
          30.0,
          48.1,
          45.8,
          33.1,
          32.9,
          37.2,
          31.9,
          51.9,
          35.9,
          30.4,
          44.4,
          44.7,
          33.8,
          37.4,
          50.8,
          22.4,
          48.5,
          33.1,
          28.2,
          29.2,
          39.1,
          47.1,
          35.3,
          29.1,
          44.8,
          52.1,
          53.5,
          35.9,
          36.1,
          36.9,
          39.1,
          34.1,
          42.0,
          39.9,
          43.2,
          30.3,
          27.6,
          46.7,
          26.7,
          51.9,
          52.9,
          47.1,
          45.3,
          39.1,
          29.1,
          50.2,
          39.8,
          35.1,
          27.5,
          35.4,
          47.5,
          32.7,
          57.3,
          29.9,
          48.0,
          33.2,
          38.1,
          34.4,
          33.8,
          36.5,
          28.1,
          40.4,
          36.9,
          34.9,
          28.3,
          47.3,
          27.2,
          33.6,
          35.8,
          34.9,
          28.2,
          30.6,
          33.4,
          33.5,
          24.4,
          29.3,
          30.2,
          19.7,
          36.3,
          37.5,
          27.1,
          39.7,
          21.9,
          35.2,
          23.9,
          24.4,
          51.1,
          34.7,
          39.8,
          32.9,
          34.0,
          30.9,
          22.2,
          42.1,
          27.3,
          22.6,
          31.6,
          13.1,
          25.1,
          27.7,
          30.4,
          22.4,
          36.3,
          36.5,
          44.3,
          29.6,
          37.5,
          22.0,
          28.8,
          27.9,
          22.5,
          34.1,
          17.1,
          34.0,
          27.3,
          23.4,
          51.6,
          28.2,
          16.0,
          45.3,
          36.2,
          23.5,
          19.9,
          45.8,
          29.2,
          29.3,
          21.4,
          24.5,
          30.0,
          29.9,
          23.2,
          31.8,
          26.2,
          29.3,
          35.0,
          32.3,
          9.8,
          28.1,
          30.5,
          38.2,
          24.3,
          33.4,
          23.0,
          32.5,
          35.7,
          17.3,
          32.4,
          35.3,
          31.3,
          10.1,
          17.0,
          23.3,
          40.3,
          24.8,
          33.4,
          25.1,
          25.2,
          33.7,
          27.6,
          30.7,
          24.7,
          18.1,
          23.4,
          29.9,
          27.7,
          19.2,
          25.6,
          37.9,
          12.1,
          21.7,
          20.3,
          20.3,
          40.4,
          32.8,
          31.3,
          39.5,
          25.5,
          22.5,
          40.7,
          29.6,
          10.5,
          18.1,
          36.0,
          37.9,
          31.2,
          45.1,
          22.9,
          22.2,
          23.2,
          22.4,
          15.3,
          19.7,
          28.9,
          20.3,
          22.9,
          24.4,
          24.0,
          27.5,
          27.8,
          28.5,
          40.0,
          19.3,
          23.0,
          17.8,
          24.3,
          10.4,
          20.6,
          14.3,
          13.2,
          17.3,
          16.5,
          24.4,
          24.8,
          17.2,
          21.1,
          26.6,
          14.7,
          24.8,
          28.1,
          34.7,
          38.8,
          25.2,
          20.7,
          25.1,
          23.4,
          18.4,
          27.1,
          16.8,
          13.7,
          29.0,
          25.8,
          24.0,
          20.1,
          29.4,
          6.5,
          13.7,
          16.5,
          15.7,
          18.2,
          18.8,
          20.5,
          25.1,
          17.3,
          22.2,
          21.6,
          12.0,
          13.6,
          15.2,
          33.1,
          28.5,
          20.6,
          21.6,
          12.9,
          19.1,
          17.2,
          17.1,
          18.0,
          20.3,
          32.3,
          27.5,
          24.6,
          14.3,
          27.3,
          10.0,
          28.5,
          16.6,
          27.6,
          17.8,
          40.1,
          32.9,
          42.6,
          18.9,
          22.5,
          16.3,
          16.9,
          25.7,
          18.1,
          21.6,
          15.2,
          17.3,
          17.3,
          10.9,
          22.8,
          18.4,
          16.2,
          22.0,
          22.3,
          10.6,
          11.8,
          20.2,
          21.8,
          19.4,
          17.0,
          17.9,
          16.3,
          27.5,
          22.4,
          17.4,
          8.0
         ],
         "z": [
          99.7,
          98.9,
          95.5,
          99.1,
          95.2,
          100.0,
          99.6,
          99.1,
          89.4,
          94.0,
          97.3,
          95.3,
          83.5,
          95.3,
          93.6,
          94.4,
          88.9,
          96.6,
          91.5,
          83.0,
          96.9,
          85.1,
          74.7,
          92.0,
          66.0,
          95.0,
          85.8,
          91.5,
          83.0,
          77.8,
          87.7,
          85.3,
          80.6,
          71.3,
          95.0,
          88.3,
          99.2,
          89.5,
          76.0,
          88.3,
          96.4,
          97.1,
          65.1,
          76.8,
          71.1,
          82.9,
          91.0,
          63.7,
          65.0,
          48.7,
          72.9,
          71.4,
          74.3,
          92.0,
          71.8,
          80.4,
          94.4,
          76.0,
          57.0,
          69.0,
          75.9,
          79.9,
          96.4,
          82.3,
          74.2,
          84.4,
          92.3,
          80.4,
          99.9,
          81.4,
          42.6,
          82.3,
          77.5,
          85.1,
          81.4,
          81.3,
          76.6,
          84.8,
          80.0,
          71.9,
          67.6,
          74.0,
          88.9,
          65.7,
          92.0,
          74.0,
          90.0,
          92.9,
          89.5,
          73.8,
          78.7,
          84.4,
          89.5,
          78.8,
          83.7,
          87.7,
          97.4,
          90.9,
          78.8,
          70.9,
          70.1,
          62.2,
          83.3,
          79.0,
          68.2,
          81.4,
          88.9,
          78.2,
          100.0,
          61.1,
          81.4,
          92.8,
          62.9,
          74.0,
          90.5,
          82.9,
          68.1,
          98.9,
          74.9,
          87.7,
          79.6,
          87.7,
          74.3,
          61.8,
          86.6,
          95.9,
          55.1,
          62.2,
          57.8,
          76.9,
          78.0,
          70.1,
          83.6,
          79.7,
          70.8,
          76.5,
          74.9,
          77.6,
          96.8,
          73.9,
          97.1,
          55.1,
          48.1,
          57.3,
          71.0,
          69.3,
          95.3,
          51.7,
          62.7,
          73.1,
          91.5,
          80.4,
          66.5,
          78.0,
          47.7,
          75.0,
          51.1,
          76.2,
          62.2,
          73.5,
          73.0,
          75.0,
          74.0,
          61.1,
          79.7,
          62.9,
          88.3,
          49.6,
          73.1,
          67.7,
          62.7,
          67.7,
          62.2,
          86.7,
          68.4,
          71.0,
          87.1,
          73.0,
          74.3,
          92.2,
          73.1,
          73.1,
          88.5,
          56.3,
          81.3,
          66.3,
          77.8,
          80.4,
          45.5,
          62.9,
          57.5,
          68.6,
          61.0,
          72.0,
          83.8,
          33.8,
          86.4,
          83.7,
          67.1,
          99.2,
          70.0,
          76.0,
          69.3,
          78.8,
          57.2,
          56.5,
          39.9,
          70.3,
          52.0,
          73.0,
          79.7,
          68.5,
          84.4,
          55.1,
          77.0,
          58.1,
          73.6,
          74.0,
          32.3,
          77.8,
          88.1,
          49.4,
          64.4,
          81.3,
          78.7,
          44.3,
          67.0,
          60.4,
          75.3,
          76.9,
          54.4,
          58.1,
          55.1,
          59.9,
          67.8,
          67.6,
          68.9,
          47.0,
          100.0,
          61.7,
          59.4,
          64.4,
          70.8,
          59.4,
          76.6,
          58.7,
          47.0,
          81.4,
          41.7,
          62.9,
          50.2,
          99.7,
          71.1,
          59.6,
          49.1,
          62.8,
          48.2,
          52.2,
          59.9,
          42.0,
          55.7,
          51.5,
          74.8,
          73.0,
          73.1,
          57.5,
          57.6,
          75.6,
          64.5,
          55.1,
          89.8,
          67.3,
          70.3,
          72.5,
          47.0,
          40.8,
          59.9,
          51.6,
          59.9,
          67.4,
          40.4,
          49.6,
          84.4,
          80.5,
          42.9,
          38.9,
          45.6,
          34.9,
          51.1,
          56.9,
          64.5,
          67.8,
          68.7,
          58.6,
          46.6,
          68.1,
          66.9,
          57.5,
          52.7,
          55.1,
          55.1,
          53.8,
          40.7,
          59.7,
          55.8,
          64.5,
          50.1,
          63.3,
          57.5,
          57.5,
          70.8,
          50.3,
          61.0,
          58.5,
          50.2,
          70.5,
          63.3,
          55.8,
          59.6,
          65.6,
          50.7,
          50.4,
          28.0,
          54.1,
          53.9,
          47.5,
          53.8,
          65.3,
          45.4,
          67.0,
          64.1,
          39.3,
          44.2,
          50.2,
          62.2,
          48.2,
          83.0,
          75.0,
          51.5,
          57.5,
          68.0,
          69.2,
          61.2,
          49.9,
          56.9,
          58.7,
          51.1,
          72.7,
          70.0,
          61.0,
          40.2,
          39.9,
          52.2,
          45.1,
          61.8,
          52.0,
          62.6,
          45.3,
          57.6,
          53.9,
          29.0,
          32.2,
          43.5,
          62.6,
          48.9,
          75.0,
          33.6,
          56.3,
          51.5,
          46.5,
          28.4,
          39.0,
          30.9,
          43.5,
          42.0,
          50.2,
          53.2,
          52.7,
          52.0,
          53.8,
          64.5,
          60.8,
          55.1,
          65.0,
          44.8,
          44.6,
          60.6,
          46.6,
          41.7,
          61.6,
          62.1,
          63.3,
          47.7,
          57.5,
          50.0,
          48.1,
          55.5,
          44.2,
          58.7,
          48.5,
          75.8
         ]
        }
       ],
       "layout": {
        "margin": {
         "b": 0,
         "l": 0,
         "r": 0,
         "t": 0
        },
        "template": {
         "data": {
          "bar": [
           {
            "error_x": {
             "color": "#2a3f5f"
            },
            "error_y": {
             "color": "#2a3f5f"
            },
            "marker": {
             "line": {
              "color": "#E5ECF6",
              "width": 0.5
             },
             "pattern": {
              "fillmode": "overlay",
              "size": 10,
              "solidity": 0.2
             }
            },
            "type": "bar"
           }
          ],
          "barpolar": [
           {
            "marker": {
             "line": {
              "color": "#E5ECF6",
              "width": 0.5
             },
             "pattern": {
              "fillmode": "overlay",
              "size": 10,
              "solidity": 0.2
             }
            },
            "type": "barpolar"
           }
          ],
          "carpet": [
           {
            "aaxis": {
             "endlinecolor": "#2a3f5f",
             "gridcolor": "white",
             "linecolor": "white",
             "minorgridcolor": "white",
             "startlinecolor": "#2a3f5f"
            },
            "baxis": {
             "endlinecolor": "#2a3f5f",
             "gridcolor": "white",
             "linecolor": "white",
             "minorgridcolor": "white",
             "startlinecolor": "#2a3f5f"
            },
            "type": "carpet"
           }
          ],
          "choropleth": [
           {
            "colorbar": {
             "outlinewidth": 0,
             "ticks": ""
            },
            "type": "choropleth"
           }
          ],
          "contour": [
           {
            "colorbar": {
             "outlinewidth": 0,
             "ticks": ""
            },
            "colorscale": [
             [
              0.0,
              "#0d0887"
             ],
             [
              0.1111111111111111,
              "#46039f"
             ],
             [
              0.2222222222222222,
              "#7201a8"
             ],
             [
              0.3333333333333333,
              "#9c179e"
             ],
             [
              0.4444444444444444,
              "#bd3786"
             ],
             [
              0.5555555555555556,
              "#d8576b"
             ],
             [
              0.6666666666666666,
              "#ed7953"
             ],
             [
              0.7777777777777778,
              "#fb9f3a"
             ],
             [
              0.8888888888888888,
              "#fdca26"
             ],
             [
              1.0,
              "#f0f921"
             ]
            ],
            "type": "contour"
           }
          ],
          "contourcarpet": [
           {
            "colorbar": {
             "outlinewidth": 0,
             "ticks": ""
            },
            "type": "contourcarpet"
           }
          ],
          "heatmap": [
           {
            "colorbar": {
             "outlinewidth": 0,
             "ticks": ""
            },
            "colorscale": [
             [
              0.0,
              "#0d0887"
             ],
             [
              0.1111111111111111,
              "#46039f"
             ],
             [
              0.2222222222222222,
              "#7201a8"
             ],
             [
              0.3333333333333333,
              "#9c179e"
             ],
             [
              0.4444444444444444,
              "#bd3786"
             ],
             [
              0.5555555555555556,
              "#d8576b"
             ],
             [
              0.6666666666666666,
              "#ed7953"
             ],
             [
              0.7777777777777778,
              "#fb9f3a"
             ],
             [
              0.8888888888888888,
              "#fdca26"
             ],
             [
              1.0,
              "#f0f921"
             ]
            ],
            "type": "heatmap"
           }
          ],
          "heatmapgl": [
           {
            "colorbar": {
             "outlinewidth": 0,
             "ticks": ""
            },
            "colorscale": [
             [
              0.0,
              "#0d0887"
             ],
             [
              0.1111111111111111,
              "#46039f"
             ],
             [
              0.2222222222222222,
              "#7201a8"
             ],
             [
              0.3333333333333333,
              "#9c179e"
             ],
             [
              0.4444444444444444,
              "#bd3786"
             ],
             [
              0.5555555555555556,
              "#d8576b"
             ],
             [
              0.6666666666666666,
              "#ed7953"
             ],
             [
              0.7777777777777778,
              "#fb9f3a"
             ],
             [
              0.8888888888888888,
              "#fdca26"
             ],
             [
              1.0,
              "#f0f921"
             ]
            ],
            "type": "heatmapgl"
           }
          ],
          "histogram": [
           {
            "marker": {
             "pattern": {
              "fillmode": "overlay",
              "size": 10,
              "solidity": 0.2
             }
            },
            "type": "histogram"
           }
          ],
          "histogram2d": [
           {
            "colorbar": {
             "outlinewidth": 0,
             "ticks": ""
            },
            "colorscale": [
             [
              0.0,
              "#0d0887"
             ],
             [
              0.1111111111111111,
              "#46039f"
             ],
             [
              0.2222222222222222,
              "#7201a8"
             ],
             [
              0.3333333333333333,
              "#9c179e"
             ],
             [
              0.4444444444444444,
              "#bd3786"
             ],
             [
              0.5555555555555556,
              "#d8576b"
             ],
             [
              0.6666666666666666,
              "#ed7953"
             ],
             [
              0.7777777777777778,
              "#fb9f3a"
             ],
             [
              0.8888888888888888,
              "#fdca26"
             ],
             [
              1.0,
              "#f0f921"
             ]
            ],
            "type": "histogram2d"
           }
          ],
          "histogram2dcontour": [
           {
            "colorbar": {
             "outlinewidth": 0,
             "ticks": ""
            },
            "colorscale": [
             [
              0.0,
              "#0d0887"
             ],
             [
              0.1111111111111111,
              "#46039f"
             ],
             [
              0.2222222222222222,
              "#7201a8"
             ],
             [
              0.3333333333333333,
              "#9c179e"
             ],
             [
              0.4444444444444444,
              "#bd3786"
             ],
             [
              0.5555555555555556,
              "#d8576b"
             ],
             [
              0.6666666666666666,
              "#ed7953"
             ],
             [
              0.7777777777777778,
              "#fb9f3a"
             ],
             [
              0.8888888888888888,
              "#fdca26"
             ],
             [
              1.0,
              "#f0f921"
             ]
            ],
            "type": "histogram2dcontour"
           }
          ],
          "mesh3d": [
           {
            "colorbar": {
             "outlinewidth": 0,
             "ticks": ""
            },
            "type": "mesh3d"
           }
          ],
          "parcoords": [
           {
            "line": {
             "colorbar": {
              "outlinewidth": 0,
              "ticks": ""
             }
            },
            "type": "parcoords"
           }
          ],
          "pie": [
           {
            "automargin": true,
            "type": "pie"
           }
          ],
          "scatter": [
           {
            "fillpattern": {
             "fillmode": "overlay",
             "size": 10,
             "solidity": 0.2
            },
            "type": "scatter"
           }
          ],
          "scatter3d": [
           {
            "line": {
             "colorbar": {
              "outlinewidth": 0,
              "ticks": ""
             }
            },
            "marker": {
             "colorbar": {
              "outlinewidth": 0,
              "ticks": ""
             }
            },
            "type": "scatter3d"
           }
          ],
          "scattercarpet": [
           {
            "marker": {
             "colorbar": {
              "outlinewidth": 0,
              "ticks": ""
             }
            },
            "type": "scattercarpet"
           }
          ],
          "scattergeo": [
           {
            "marker": {
             "colorbar": {
              "outlinewidth": 0,
              "ticks": ""
             }
            },
            "type": "scattergeo"
           }
          ],
          "scattergl": [
           {
            "marker": {
             "colorbar": {
              "outlinewidth": 0,
              "ticks": ""
             }
            },
            "type": "scattergl"
           }
          ],
          "scattermapbox": [
           {
            "marker": {
             "colorbar": {
              "outlinewidth": 0,
              "ticks": ""
             }
            },
            "type": "scattermapbox"
           }
          ],
          "scatterpolar": [
           {
            "marker": {
             "colorbar": {
              "outlinewidth": 0,
              "ticks": ""
             }
            },
            "type": "scatterpolar"
           }
          ],
          "scatterpolargl": [
           {
            "marker": {
             "colorbar": {
              "outlinewidth": 0,
              "ticks": ""
             }
            },
            "type": "scatterpolargl"
           }
          ],
          "scatterternary": [
           {
            "marker": {
             "colorbar": {
              "outlinewidth": 0,
              "ticks": ""
             }
            },
            "type": "scatterternary"
           }
          ],
          "surface": [
           {
            "colorbar": {
             "outlinewidth": 0,
             "ticks": ""
            },
            "colorscale": [
             [
              0.0,
              "#0d0887"
             ],
             [
              0.1111111111111111,
              "#46039f"
             ],
             [
              0.2222222222222222,
              "#7201a8"
             ],
             [
              0.3333333333333333,
              "#9c179e"
             ],
             [
              0.4444444444444444,
              "#bd3786"
             ],
             [
              0.5555555555555556,
              "#d8576b"
             ],
             [
              0.6666666666666666,
              "#ed7953"
             ],
             [
              0.7777777777777778,
              "#fb9f3a"
             ],
             [
              0.8888888888888888,
              "#fdca26"
             ],
             [
              1.0,
              "#f0f921"
             ]
            ],
            "type": "surface"
           }
          ],
          "table": [
           {
            "cells": {
             "fill": {
              "color": "#EBF0F8"
             },
             "line": {
              "color": "white"
             }
            },
            "header": {
             "fill": {
              "color": "#C8D4E3"
             },
             "line": {
              "color": "white"
             }
            },
            "type": "table"
           }
          ]
         },
         "layout": {
          "annotationdefaults": {
           "arrowcolor": "#2a3f5f",
           "arrowhead": 0,
           "arrowwidth": 1
          },
          "autotypenumbers": "strict",
          "coloraxis": {
           "colorbar": {
            "outlinewidth": 0,
            "ticks": ""
           }
          },
          "colorscale": {
           "diverging": [
            [
             0,
             "#8e0152"
            ],
            [
             0.1,
             "#c51b7d"
            ],
            [
             0.2,
             "#de77ae"
            ],
            [
             0.3,
             "#f1b6da"
            ],
            [
             0.4,
             "#fde0ef"
            ],
            [
             0.5,
             "#f7f7f7"
            ],
            [
             0.6,
             "#e6f5d0"
            ],
            [
             0.7,
             "#b8e186"
            ],
            [
             0.8,
             "#7fbc41"
            ],
            [
             0.9,
             "#4d9221"
            ],
            [
             1,
             "#276419"
            ]
           ],
           "sequential": [
            [
             0.0,
             "#0d0887"
            ],
            [
             0.1111111111111111,
             "#46039f"
            ],
            [
             0.2222222222222222,
             "#7201a8"
            ],
            [
             0.3333333333333333,
             "#9c179e"
            ],
            [
             0.4444444444444444,
             "#bd3786"
            ],
            [
             0.5555555555555556,
             "#d8576b"
            ],
            [
             0.6666666666666666,
             "#ed7953"
            ],
            [
             0.7777777777777778,
             "#fb9f3a"
            ],
            [
             0.8888888888888888,
             "#fdca26"
            ],
            [
             1.0,
             "#f0f921"
            ]
           ],
           "sequentialminus": [
            [
             0.0,
             "#0d0887"
            ],
            [
             0.1111111111111111,
             "#46039f"
            ],
            [
             0.2222222222222222,
             "#7201a8"
            ],
            [
             0.3333333333333333,
             "#9c179e"
            ],
            [
             0.4444444444444444,
             "#bd3786"
            ],
            [
             0.5555555555555556,
             "#d8576b"
            ],
            [
             0.6666666666666666,
             "#ed7953"
            ],
            [
             0.7777777777777778,
             "#fb9f3a"
            ],
            [
             0.8888888888888888,
             "#fdca26"
            ],
            [
             1.0,
             "#f0f921"
            ]
           ]
          },
          "colorway": [
           "#636efa",
           "#EF553B",
           "#00cc96",
           "#ab63fa",
           "#FFA15A",
           "#19d3f3",
           "#FF6692",
           "#B6E880",
           "#FF97FF",
           "#FECB52"
          ],
          "font": {
           "color": "#2a3f5f"
          },
          "geo": {
           "bgcolor": "white",
           "lakecolor": "white",
           "landcolor": "#E5ECF6",
           "showlakes": true,
           "showland": true,
           "subunitcolor": "white"
          },
          "hoverlabel": {
           "align": "left"
          },
          "hovermode": "closest",
          "mapbox": {
           "style": "light"
          },
          "paper_bgcolor": "white",
          "plot_bgcolor": "#E5ECF6",
          "polar": {
           "angularaxis": {
            "gridcolor": "white",
            "linecolor": "white",
            "ticks": ""
           },
           "bgcolor": "#E5ECF6",
           "radialaxis": {
            "gridcolor": "white",
            "linecolor": "white",
            "ticks": ""
           }
          },
          "scene": {
           "xaxis": {
            "backgroundcolor": "#E5ECF6",
            "gridcolor": "white",
            "gridwidth": 2,
            "linecolor": "white",
            "showbackground": true,
            "ticks": "",
            "zerolinecolor": "white"
           },
           "yaxis": {
            "backgroundcolor": "#E5ECF6",
            "gridcolor": "white",
            "gridwidth": 2,
            "linecolor": "white",
            "showbackground": true,
            "ticks": "",
            "zerolinecolor": "white"
           },
           "zaxis": {
            "backgroundcolor": "#E5ECF6",
            "gridcolor": "white",
            "gridwidth": 2,
            "linecolor": "white",
            "showbackground": true,
            "ticks": "",
            "zerolinecolor": "white"
           }
          },
          "shapedefaults": {
           "line": {
            "color": "#2a3f5f"
           }
          },
          "ternary": {
           "aaxis": {
            "gridcolor": "white",
            "linecolor": "white",
            "ticks": ""
           },
           "baxis": {
            "gridcolor": "white",
            "linecolor": "white",
            "ticks": ""
           },
           "bgcolor": "#E5ECF6",
           "caxis": {
            "gridcolor": "white",
            "linecolor": "white",
            "ticks": ""
           }
          },
          "title": {
           "x": 0.05
          },
          "xaxis": {
           "automargin": true,
           "gridcolor": "white",
           "linecolor": "white",
           "ticks": "",
           "title": {
            "standoff": 15
           },
           "zerolinecolor": "white",
           "zerolinewidth": 2
          },
          "yaxis": {
           "automargin": true,
           "gridcolor": "white",
           "linecolor": "white",
           "ticks": "",
           "title": {
            "standoff": 15
           },
           "zerolinecolor": "white",
           "zerolinewidth": 2
          }
         }
        }
       }
      },
      "text/html": [
       "<div>                            <div id=\"0c483fbc-194f-4ae3-b97c-557886cf1f2e\" class=\"plotly-graph-div\" style=\"height:525px; width:100%;\"></div>            <script type=\"text/javascript\">                require([\"plotly\"], function(Plotly) {                    window.PLOTLYENV=window.PLOTLYENV || {};                                    if (document.getElementById(\"0c483fbc-194f-4ae3-b97c-557886cf1f2e\")) {                    Plotly.newPlot(                        \"0c483fbc-194f-4ae3-b97c-557886cf1f2e\",                        [{\"marker\":{\"color\":\"rgb(255,0,0)\",\"size\":10},\"mode\":\"markers\",\"x\":[\"1\",\"2\",\"3\",\"4\",\"5\",\"6\",\"7\",\"8\",\"9\",\"9\",\"11\",\"12\",\"13\",\"14\",\"15\",\"16\",\"17\",\"18\",\"19\",\"20\",\"21\",\"22\",\"23\",\"24\",\"25\",\"26\",\"27\",\"28\",\"29\",\"29\",\"29\",\"32\",\"33\",\"34\",\"34\",\"36\",\"37\",\"38\",\"39\",\"40\",\"41\",\"42\",\"43\",\"44\",\"45\",\"46\",\"46\",\"48\",\"49\",\"50\",\"51\",\"52\",\"52\",\"54\",\"55\",\"55\",\"57\",\"58\",\"59\",\"60\",\"61\",\"61\",\"63\",\"64\",\"65\",\"66\",\"67\",\"68\",\"69\",\"70\",\"71\",\"72\",\"73\",\"74\",\"75\",\"75\",\"77\",\"78\",\"79\",\"80\",\"81\",\"82\",\"83\",\"83\",\"85\",\"86\",\"86\",\"88\",\"88\",\"90\",\"91\",\"91\",\"93\",\"94\",\"94\",\"96\",\"97\",\"98\",\"98\",\"98\",\"101\",\"102\",\"103\",\"103\",\"103\",\"103\",\"107\",\"107\",\"109\",\"109\",\"111\",\"111\",\"113\",\"113\",\"113\",\"116\",\"117\",\"118\",\"119\",\"120\",\"121\",\"121\",\"121\",\"124\",\"124\",\"126\",\"126\",\"126\",\"129\",\"130\",\"131\",\"132\",\"132\",\"132\",\"135\",\"136\",\"136\",\"138\",\"139\",\"140\",\"141\",\"141\",\"141\",\"144\",\"144\",\"146\",\"147\",\"148\",\"148\",\"150\",\"150\",\"152\",\"153\",\"154\",\"155\",\"156\",\"157\",\"157\",\"157\",\"160\",\"160\",\"162\",\"163\",\"164\",\"165\",\"165\",\"165\",\"165\",\"169\",\"170\",\"171\",\"171\",\"173\",\"173\",\"175\",\"175\",\"177\",\"178\",\"178\",\"180\",\"180\",\"182\",\"182\",\"182\",\"185\",\"186\",\"186\",\"188\",\"188\",\"188\",\"191\",\"192\",\"193\",\"193\",\"195\",\"196\",\"196\",\"198\",\"199\",\"200\",\"200\",\"201-225\",\"201-225\",\"201-225\",\"201-225\",\"201-225\",\"201-225\",\"201-225\",\"201-225\",\"201-225\",\"201-225\",\"201-225\",\"201-225\",\"201-225\",\"201-225\",\"201-225\",\"201-225\",\"201-225\",\"201-225\",\"201-225\",\"201-225\",\"201-225\",\"201-225\",\"201-225\",\"201-225\",\"201-225\",\"226-250\",\"226-250\",\"226-250\",\"226-250\",\"226-250\",\"226-250\",\"226-250\",\"226-250\",\"226-250\",\"226-250\",\"226-250\",\"226-250\",\"226-250\",\"226-250\",\"226-250\",\"226-250\",\"226-250\",\"226-250\",\"226-250\",\"226-250\",\"226-250\",\"226-250\",\"226-250\",\"226-250\",\"251-275\",\"251-275\",\"251-275\",\"251-275\",\"251-275\",\"251-275\",\"251-275\",\"251-275\",\"251-275\",\"251-275\",\"251-275\",\"251-275\",\"251-275\",\"251-275\",\"251-275\",\"251-275\",\"251-275\",\"251-275\",\"251-275\",\"251-275\",\"251-275\",\"251-275\",\"251-275\",\"251-275\",\"251-275\",\"276-300\",\"276-300\",\"276-300\",\"276-300\",\"276-300\",\"276-300\",\"276-300\",\"276-300\",\"276-300\",\"276-300\",\"276-300\",\"276-300\",\"276-300\",\"276-300\",\"276-300\",\"276-300\",\"276-300\",\"276-300\",\"276-300\",\"276-300\",\"276-300\",\"276-300\",\"276-300\",\"276-300\",\"276-300\",\"276-300\",\"276-300\",\"276-300\",\"301-350\",\"301-350\",\"301-350\",\"301-350\",\"301-350\",\"301-350\",\"301-350\",\"301-350\",\"301-350\",\"301-350\",\"301-350\",\"301-350\",\"301-350\",\"301-350\",\"301-350\",\"301-350\",\"301-350\",\"301-350\",\"301-350\",\"301-350\",\"301-350\",\"301-350\",\"301-350\",\"301-350\",\"301-350\",\"301-350\",\"301-350\",\"301-350\",\"301-350\",\"301-350\",\"301-350\",\"301-350\",\"301-350\",\"301-350\",\"301-350\",\"301-350\",\"301-350\",\"301-350\",\"301-350\",\"301-350\",\"301-350\",\"301-350\",\"301-350\",\"301-350\",\"301-350\",\"301-350\",\"301-350\",\"301-350\",\"351-400\",\"351-400\",\"351-400\",\"351-400\",\"351-400\",\"351-400\",\"351-400\",\"351-400\",\"351-400\",\"351-400\",\"351-400\",\"351-400\",\"351-400\",\"351-400\",\"351-400\",\"351-400\",\"351-400\",\"351-400\",\"351-400\",\"351-400\",\"351-400\",\"351-400\",\"351-400\",\"351-400\",\"351-400\",\"351-400\",\"351-400\",\"351-400\",\"351-400\",\"351-400\",\"351-400\",\"351-400\",\"351-400\",\"351-400\",\"351-400\",\"351-400\",\"351-400\",\"351-400\",\"351-400\",\"351-400\",\"351-400\",\"351-400\",\"351-400\",\"351-400\",\"351-400\",\"351-400\",\"351-400\",\"351-400\",\"351-400\",\"351-400\"],\"y\":[98.1,98.6,97.7,96.7,95.6,88.2,94.7,96.7,88.3,90.8,89.9,90.5,90.2,79.4,84.2,82.0,86.5,75.2,83.8,85.1,78.9,80.4,85.1,74.9,78.1,68.9,71.2,72.0,69.1,79.0,71.3,69.0,70.9,74.2,56.9,62.9,61.4,62.4,69.9,62.3,66.6,55.2,72.6,68.0,70.9,64.7,58.6,61.9,68.3,77.1,66.8,63.2,58.7,54.2,63.6,59.7,46.7,64.8,68.4,60.8,55.9,47.1,46.0,58.2,58.4,49.3,48.0,51.1,37.1,45.4,71.4,53.7,46.8,44.7,41.1,44.6,55.4,36.2,54.8,52.6,58.0,49.4,40.7,54.4,36.9,51.4,38.5,33.9,41.7,51.6,49.1,46.3,32.4,43.2,40.5,38.2,38.3,45.0,37.4,53.0,48.1,50.5,30.0,48.1,45.8,33.1,32.9,37.2,31.9,51.9,35.9,30.4,44.4,44.7,33.8,37.4,50.8,22.4,48.5,33.1,28.2,29.2,39.1,47.1,35.3,29.1,44.8,52.1,53.5,35.9,36.1,36.9,39.1,34.1,42.0,39.9,43.2,30.3,27.6,46.7,26.7,51.9,52.9,47.1,45.3,39.1,29.1,50.2,39.8,35.1,27.5,35.4,47.5,32.7,57.3,29.9,48.0,33.2,38.1,34.4,33.8,36.5,28.1,40.4,36.9,34.9,28.3,47.3,27.2,33.6,35.8,34.9,28.2,30.6,33.4,33.5,24.4,29.3,30.2,19.7,36.3,37.5,27.1,39.7,21.9,35.2,23.9,24.4,51.1,34.7,39.8,32.9,34.0,30.9,22.2,42.1,27.3,22.6,31.6,13.1,25.1,27.7,30.4,22.4,36.3,36.5,44.3,29.6,37.5,22.0,28.8,27.9,22.5,34.1,17.1,34.0,27.3,23.4,51.6,28.2,16.0,45.3,36.2,23.5,19.9,45.8,29.2,29.3,21.4,24.5,30.0,29.9,23.2,31.8,26.2,29.3,35.0,32.3,9.8,28.1,30.5,38.2,24.3,33.4,23.0,32.5,35.7,17.3,32.4,35.3,31.3,10.1,17.0,23.3,40.3,24.8,33.4,25.1,25.2,33.7,27.6,30.7,24.7,18.1,23.4,29.9,27.7,19.2,25.6,37.9,12.1,21.7,20.3,20.3,40.4,32.8,31.3,39.5,25.5,22.5,40.7,29.6,10.5,18.1,36.0,37.9,31.2,45.1,22.9,22.2,23.2,22.4,15.3,19.7,28.9,20.3,22.9,24.4,24.0,27.5,27.8,28.5,40.0,19.3,23.0,17.8,24.3,10.4,20.6,14.3,13.2,17.3,16.5,24.4,24.8,17.2,21.1,26.6,14.7,24.8,28.1,34.7,38.8,25.2,20.7,25.1,23.4,18.4,27.1,16.8,13.7,29.0,25.8,24.0,20.1,29.4,6.5,13.7,16.5,15.7,18.2,18.8,20.5,25.1,17.3,22.2,21.6,12.0,13.6,15.2,33.1,28.5,20.6,21.6,12.9,19.1,17.2,17.1,18.0,20.3,32.3,27.5,24.6,14.3,27.3,10.0,28.5,16.6,27.6,17.8,40.1,32.9,42.6,18.9,22.5,16.3,16.9,25.7,18.1,21.6,15.2,17.3,17.3,10.9,22.8,18.4,16.2,22.0,22.3,10.6,11.8,20.2,21.8,19.4,17.0,17.9,16.3,27.5,22.4,17.4,8.0],\"z\":[99.7,98.9,95.5,99.1,95.2,100.0,99.6,99.1,89.4,94.0,97.3,95.3,83.5,95.3,93.6,94.4,88.9,96.6,91.5,83.0,96.9,85.1,74.7,92.0,66.0,95.0,85.8,91.5,83.0,77.8,87.7,85.3,80.6,71.3,95.0,88.3,99.2,89.5,76.0,88.3,96.4,97.1,65.1,76.8,71.1,82.9,91.0,63.7,65.0,48.7,72.9,71.4,74.3,92.0,71.8,80.4,94.4,76.0,57.0,69.0,75.9,79.9,96.4,82.3,74.2,84.4,92.3,80.4,99.9,81.4,42.6,82.3,77.5,85.1,81.4,81.3,76.6,84.8,80.0,71.9,67.6,74.0,88.9,65.7,92.0,74.0,90.0,92.9,89.5,73.8,78.7,84.4,89.5,78.8,83.7,87.7,97.4,90.9,78.8,70.9,70.1,62.2,83.3,79.0,68.2,81.4,88.9,78.2,100.0,61.1,81.4,92.8,62.9,74.0,90.5,82.9,68.1,98.9,74.9,87.7,79.6,87.7,74.3,61.8,86.6,95.9,55.1,62.2,57.8,76.9,78.0,70.1,83.6,79.7,70.8,76.5,74.9,77.6,96.8,73.9,97.1,55.1,48.1,57.3,71.0,69.3,95.3,51.7,62.7,73.1,91.5,80.4,66.5,78.0,47.7,75.0,51.1,76.2,62.2,73.5,73.0,75.0,74.0,61.1,79.7,62.9,88.3,49.6,73.1,67.7,62.7,67.7,62.2,86.7,68.4,71.0,87.1,73.0,74.3,92.2,73.1,73.1,88.5,56.3,81.3,66.3,77.8,80.4,45.5,62.9,57.5,68.6,61.0,72.0,83.8,33.8,86.4,83.7,67.1,99.2,70.0,76.0,69.3,78.8,57.2,56.5,39.9,70.3,52.0,73.0,79.7,68.5,84.4,55.1,77.0,58.1,73.6,74.0,32.3,77.8,88.1,49.4,64.4,81.3,78.7,44.3,67.0,60.4,75.3,76.9,54.4,58.1,55.1,59.9,67.8,67.6,68.9,47.0,100.0,61.7,59.4,64.4,70.8,59.4,76.6,58.7,47.0,81.4,41.7,62.9,50.2,99.7,71.1,59.6,49.1,62.8,48.2,52.2,59.9,42.0,55.7,51.5,74.8,73.0,73.1,57.5,57.6,75.6,64.5,55.1,89.8,67.3,70.3,72.5,47.0,40.8,59.9,51.6,59.9,67.4,40.4,49.6,84.4,80.5,42.9,38.9,45.6,34.9,51.1,56.9,64.5,67.8,68.7,58.6,46.6,68.1,66.9,57.5,52.7,55.1,55.1,53.8,40.7,59.7,55.8,64.5,50.1,63.3,57.5,57.5,70.8,50.3,61.0,58.5,50.2,70.5,63.3,55.8,59.6,65.6,50.7,50.4,28.0,54.1,53.9,47.5,53.8,65.3,45.4,67.0,64.1,39.3,44.2,50.2,62.2,48.2,83.0,75.0,51.5,57.5,68.0,69.2,61.2,49.9,56.9,58.7,51.1,72.7,70.0,61.0,40.2,39.9,52.2,45.1,61.8,52.0,62.6,45.3,57.6,53.9,29.0,32.2,43.5,62.6,48.9,75.0,33.6,56.3,51.5,46.5,28.4,39.0,30.9,43.5,42.0,50.2,53.2,52.7,52.0,53.8,64.5,60.8,55.1,65.0,44.8,44.6,60.6,46.6,41.7,61.6,62.1,63.3,47.7,57.5,50.0,48.1,55.5,44.2,58.7,48.5,75.8],\"type\":\"scatter3d\"}],                        {\"margin\":{\"b\":0,\"l\":0,\"r\":0,\"t\":0},\"template\":{\"data\":{\"barpolar\":[{\"marker\":{\"line\":{\"color\":\"#E5ECF6\",\"width\":0.5},\"pattern\":{\"fillmode\":\"overlay\",\"size\":10,\"solidity\":0.2}},\"type\":\"barpolar\"}],\"bar\":[{\"error_x\":{\"color\":\"#2a3f5f\"},\"error_y\":{\"color\":\"#2a3f5f\"},\"marker\":{\"line\":{\"color\":\"#E5ECF6\",\"width\":0.5},\"pattern\":{\"fillmode\":\"overlay\",\"size\":10,\"solidity\":0.2}},\"type\":\"bar\"}],\"carpet\":[{\"aaxis\":{\"endlinecolor\":\"#2a3f5f\",\"gridcolor\":\"white\",\"linecolor\":\"white\",\"minorgridcolor\":\"white\",\"startlinecolor\":\"#2a3f5f\"},\"baxis\":{\"endlinecolor\":\"#2a3f5f\",\"gridcolor\":\"white\",\"linecolor\":\"white\",\"minorgridcolor\":\"white\",\"startlinecolor\":\"#2a3f5f\"},\"type\":\"carpet\"}],\"choropleth\":[{\"colorbar\":{\"outlinewidth\":0,\"ticks\":\"\"},\"type\":\"choropleth\"}],\"contourcarpet\":[{\"colorbar\":{\"outlinewidth\":0,\"ticks\":\"\"},\"type\":\"contourcarpet\"}],\"contour\":[{\"colorbar\":{\"outlinewidth\":0,\"ticks\":\"\"},\"colorscale\":[[0.0,\"#0d0887\"],[0.1111111111111111,\"#46039f\"],[0.2222222222222222,\"#7201a8\"],[0.3333333333333333,\"#9c179e\"],[0.4444444444444444,\"#bd3786\"],[0.5555555555555556,\"#d8576b\"],[0.6666666666666666,\"#ed7953\"],[0.7777777777777778,\"#fb9f3a\"],[0.8888888888888888,\"#fdca26\"],[1.0,\"#f0f921\"]],\"type\":\"contour\"}],\"heatmapgl\":[{\"colorbar\":{\"outlinewidth\":0,\"ticks\":\"\"},\"colorscale\":[[0.0,\"#0d0887\"],[0.1111111111111111,\"#46039f\"],[0.2222222222222222,\"#7201a8\"],[0.3333333333333333,\"#9c179e\"],[0.4444444444444444,\"#bd3786\"],[0.5555555555555556,\"#d8576b\"],[0.6666666666666666,\"#ed7953\"],[0.7777777777777778,\"#fb9f3a\"],[0.8888888888888888,\"#fdca26\"],[1.0,\"#f0f921\"]],\"type\":\"heatmapgl\"}],\"heatmap\":[{\"colorbar\":{\"outlinewidth\":0,\"ticks\":\"\"},\"colorscale\":[[0.0,\"#0d0887\"],[0.1111111111111111,\"#46039f\"],[0.2222222222222222,\"#7201a8\"],[0.3333333333333333,\"#9c179e\"],[0.4444444444444444,\"#bd3786\"],[0.5555555555555556,\"#d8576b\"],[0.6666666666666666,\"#ed7953\"],[0.7777777777777778,\"#fb9f3a\"],[0.8888888888888888,\"#fdca26\"],[1.0,\"#f0f921\"]],\"type\":\"heatmap\"}],\"histogram2dcontour\":[{\"colorbar\":{\"outlinewidth\":0,\"ticks\":\"\"},\"colorscale\":[[0.0,\"#0d0887\"],[0.1111111111111111,\"#46039f\"],[0.2222222222222222,\"#7201a8\"],[0.3333333333333333,\"#9c179e\"],[0.4444444444444444,\"#bd3786\"],[0.5555555555555556,\"#d8576b\"],[0.6666666666666666,\"#ed7953\"],[0.7777777777777778,\"#fb9f3a\"],[0.8888888888888888,\"#fdca26\"],[1.0,\"#f0f921\"]],\"type\":\"histogram2dcontour\"}],\"histogram2d\":[{\"colorbar\":{\"outlinewidth\":0,\"ticks\":\"\"},\"colorscale\":[[0.0,\"#0d0887\"],[0.1111111111111111,\"#46039f\"],[0.2222222222222222,\"#7201a8\"],[0.3333333333333333,\"#9c179e\"],[0.4444444444444444,\"#bd3786\"],[0.5555555555555556,\"#d8576b\"],[0.6666666666666666,\"#ed7953\"],[0.7777777777777778,\"#fb9f3a\"],[0.8888888888888888,\"#fdca26\"],[1.0,\"#f0f921\"]],\"type\":\"histogram2d\"}],\"histogram\":[{\"marker\":{\"pattern\":{\"fillmode\":\"overlay\",\"size\":10,\"solidity\":0.2}},\"type\":\"histogram\"}],\"mesh3d\":[{\"colorbar\":{\"outlinewidth\":0,\"ticks\":\"\"},\"type\":\"mesh3d\"}],\"parcoords\":[{\"line\":{\"colorbar\":{\"outlinewidth\":0,\"ticks\":\"\"}},\"type\":\"parcoords\"}],\"pie\":[{\"automargin\":true,\"type\":\"pie\"}],\"scatter3d\":[{\"line\":{\"colorbar\":{\"outlinewidth\":0,\"ticks\":\"\"}},\"marker\":{\"colorbar\":{\"outlinewidth\":0,\"ticks\":\"\"}},\"type\":\"scatter3d\"}],\"scattercarpet\":[{\"marker\":{\"colorbar\":{\"outlinewidth\":0,\"ticks\":\"\"}},\"type\":\"scattercarpet\"}],\"scattergeo\":[{\"marker\":{\"colorbar\":{\"outlinewidth\":0,\"ticks\":\"\"}},\"type\":\"scattergeo\"}],\"scattergl\":[{\"marker\":{\"colorbar\":{\"outlinewidth\":0,\"ticks\":\"\"}},\"type\":\"scattergl\"}],\"scattermapbox\":[{\"marker\":{\"colorbar\":{\"outlinewidth\":0,\"ticks\":\"\"}},\"type\":\"scattermapbox\"}],\"scatterpolargl\":[{\"marker\":{\"colorbar\":{\"outlinewidth\":0,\"ticks\":\"\"}},\"type\":\"scatterpolargl\"}],\"scatterpolar\":[{\"marker\":{\"colorbar\":{\"outlinewidth\":0,\"ticks\":\"\"}},\"type\":\"scatterpolar\"}],\"scatter\":[{\"fillpattern\":{\"fillmode\":\"overlay\",\"size\":10,\"solidity\":0.2},\"type\":\"scatter\"}],\"scatterternary\":[{\"marker\":{\"colorbar\":{\"outlinewidth\":0,\"ticks\":\"\"}},\"type\":\"scatterternary\"}],\"surface\":[{\"colorbar\":{\"outlinewidth\":0,\"ticks\":\"\"},\"colorscale\":[[0.0,\"#0d0887\"],[0.1111111111111111,\"#46039f\"],[0.2222222222222222,\"#7201a8\"],[0.3333333333333333,\"#9c179e\"],[0.4444444444444444,\"#bd3786\"],[0.5555555555555556,\"#d8576b\"],[0.6666666666666666,\"#ed7953\"],[0.7777777777777778,\"#fb9f3a\"],[0.8888888888888888,\"#fdca26\"],[1.0,\"#f0f921\"]],\"type\":\"surface\"}],\"table\":[{\"cells\":{\"fill\":{\"color\":\"#EBF0F8\"},\"line\":{\"color\":\"white\"}},\"header\":{\"fill\":{\"color\":\"#C8D4E3\"},\"line\":{\"color\":\"white\"}},\"type\":\"table\"}]},\"layout\":{\"annotationdefaults\":{\"arrowcolor\":\"#2a3f5f\",\"arrowhead\":0,\"arrowwidth\":1},\"autotypenumbers\":\"strict\",\"coloraxis\":{\"colorbar\":{\"outlinewidth\":0,\"ticks\":\"\"}},\"colorscale\":{\"diverging\":[[0,\"#8e0152\"],[0.1,\"#c51b7d\"],[0.2,\"#de77ae\"],[0.3,\"#f1b6da\"],[0.4,\"#fde0ef\"],[0.5,\"#f7f7f7\"],[0.6,\"#e6f5d0\"],[0.7,\"#b8e186\"],[0.8,\"#7fbc41\"],[0.9,\"#4d9221\"],[1,\"#276419\"]],\"sequential\":[[0.0,\"#0d0887\"],[0.1111111111111111,\"#46039f\"],[0.2222222222222222,\"#7201a8\"],[0.3333333333333333,\"#9c179e\"],[0.4444444444444444,\"#bd3786\"],[0.5555555555555556,\"#d8576b\"],[0.6666666666666666,\"#ed7953\"],[0.7777777777777778,\"#fb9f3a\"],[0.8888888888888888,\"#fdca26\"],[1.0,\"#f0f921\"]],\"sequentialminus\":[[0.0,\"#0d0887\"],[0.1111111111111111,\"#46039f\"],[0.2222222222222222,\"#7201a8\"],[0.3333333333333333,\"#9c179e\"],[0.4444444444444444,\"#bd3786\"],[0.5555555555555556,\"#d8576b\"],[0.6666666666666666,\"#ed7953\"],[0.7777777777777778,\"#fb9f3a\"],[0.8888888888888888,\"#fdca26\"],[1.0,\"#f0f921\"]]},\"colorway\":[\"#636efa\",\"#EF553B\",\"#00cc96\",\"#ab63fa\",\"#FFA15A\",\"#19d3f3\",\"#FF6692\",\"#B6E880\",\"#FF97FF\",\"#FECB52\"],\"font\":{\"color\":\"#2a3f5f\"},\"geo\":{\"bgcolor\":\"white\",\"lakecolor\":\"white\",\"landcolor\":\"#E5ECF6\",\"showlakes\":true,\"showland\":true,\"subunitcolor\":\"white\"},\"hoverlabel\":{\"align\":\"left\"},\"hovermode\":\"closest\",\"mapbox\":{\"style\":\"light\"},\"paper_bgcolor\":\"white\",\"plot_bgcolor\":\"#E5ECF6\",\"polar\":{\"angularaxis\":{\"gridcolor\":\"white\",\"linecolor\":\"white\",\"ticks\":\"\"},\"bgcolor\":\"#E5ECF6\",\"radialaxis\":{\"gridcolor\":\"white\",\"linecolor\":\"white\",\"ticks\":\"\"}},\"scene\":{\"xaxis\":{\"backgroundcolor\":\"#E5ECF6\",\"gridcolor\":\"white\",\"gridwidth\":2,\"linecolor\":\"white\",\"showbackground\":true,\"ticks\":\"\",\"zerolinecolor\":\"white\"},\"yaxis\":{\"backgroundcolor\":\"#E5ECF6\",\"gridcolor\":\"white\",\"gridwidth\":2,\"linecolor\":\"white\",\"showbackground\":true,\"ticks\":\"\",\"zerolinecolor\":\"white\"},\"zaxis\":{\"backgroundcolor\":\"#E5ECF6\",\"gridcolor\":\"white\",\"gridwidth\":2,\"linecolor\":\"white\",\"showbackground\":true,\"ticks\":\"\",\"zerolinecolor\":\"white\"}},\"shapedefaults\":{\"line\":{\"color\":\"#2a3f5f\"}},\"ternary\":{\"aaxis\":{\"gridcolor\":\"white\",\"linecolor\":\"white\",\"ticks\":\"\"},\"baxis\":{\"gridcolor\":\"white\",\"linecolor\":\"white\",\"ticks\":\"\"},\"bgcolor\":\"#E5ECF6\",\"caxis\":{\"gridcolor\":\"white\",\"linecolor\":\"white\",\"ticks\":\"\"}},\"title\":{\"x\":0.05},\"xaxis\":{\"automargin\":true,\"gridcolor\":\"white\",\"linecolor\":\"white\",\"ticks\":\"\",\"title\":{\"standoff\":15},\"zerolinecolor\":\"white\",\"zerolinewidth\":2},\"yaxis\":{\"automargin\":true,\"gridcolor\":\"white\",\"linecolor\":\"white\",\"ticks\":\"\",\"title\":{\"standoff\":15},\"zerolinecolor\":\"white\",\"zerolinewidth\":2}}}},                        {\"responsive\": true}                    ).then(function(){\n",
       "                            \n",
       "var gd = document.getElementById('0c483fbc-194f-4ae3-b97c-557886cf1f2e');\n",
       "var x = new MutationObserver(function (mutations, observer) {{\n",
       "        var display = window.getComputedStyle(gd).display;\n",
       "        if (!display || display === 'none') {{\n",
       "            console.log([gd, 'removed!']);\n",
       "            Plotly.purge(gd);\n",
       "            observer.disconnect();\n",
       "        }}\n",
       "}});\n",
       "\n",
       "// Listen for the removal of the full notebook cells\n",
       "var notebookContainer = gd.closest('#notebook-container');\n",
       "if (notebookContainer) {{\n",
       "    x.observe(notebookContainer, {childList: true});\n",
       "}}\n",
       "\n",
       "// Listen for the clearing of the current output cell\n",
       "var outputEl = gd.closest('.output');\n",
       "if (outputEl) {{\n",
       "    x.observe(outputEl, {childList: true});\n",
       "}}\n",
       "\n",
       "                        })                };                });            </script>        </div>"
      ]
     },
     "metadata": {},
     "output_type": "display_data"
    }
   ],
   "source": [
    "trace1= go.Scatter3d(\n",
    "    x= dataframe.world_rank,\n",
    "    y= dataframe.research,\n",
    "    z= dataframe.citations,\n",
    "    mode='markers',\n",
    "    marker= dict(\n",
    "        size=10,\n",
    "        color='rgb(255,0,0)',))\n",
    "\n",
    "data= [trace1]\n",
    "layout= go.Layout(\n",
    "    margin= dict(\n",
    "        l=0,\n",
    "        r=0,\n",
    "        b=0,\n",
    "        t=0))\n",
    "\n",
    "fig= go.Figure(data=data, layout=layout)\n",
    "iplot(fig)"
   ]
  },
  {
   "cell_type": "markdown",
   "id": "e832c5a6",
   "metadata": {
    "papermill": {
     "duration": 0.101784,
     "end_time": "2022-08-02T12:21:00.122676",
     "exception": false,
     "start_time": "2022-08-02T12:21:00.020892",
     "status": "completed"
    },
    "tags": []
   },
   "source": [
    "## Multiple Subplots"
   ]
  },
  {
   "cell_type": "code",
   "execution_count": 19,
   "id": "705d2560",
   "metadata": {
    "execution": {
     "iopub.execute_input": "2022-08-02T12:21:00.367637Z",
     "iopub.status.busy": "2022-08-02T12:21:00.367141Z",
     "iopub.status.idle": "2022-08-02T12:21:00.435186Z",
     "shell.execute_reply": "2022-08-02T12:21:00.434060Z"
    },
    "papermill": {
     "duration": 0.218797,
     "end_time": "2022-08-02T12:21:00.441019",
     "exception": false,
     "start_time": "2022-08-02T12:21:00.222222",
     "status": "completed"
    },
    "tags": []
   },
   "outputs": [
    {
     "data": {
      "application/vnd.plotly.v1+json": {
       "config": {
        "linkText": "Export to plot.ly",
        "plotlyServerURL": "https://plot.ly",
        "showLink": false
       },
       "data": [
        {
         "name": "research",
         "type": "scatter",
         "x": [
          "1",
          "2",
          "3",
          "4",
          "5",
          "6",
          "7",
          "8",
          "9",
          "9",
          "11",
          "12",
          "13",
          "14",
          "15",
          "16",
          "17",
          "18",
          "19",
          "20",
          "21",
          "22",
          "23",
          "24",
          "25",
          "26",
          "27",
          "28",
          "29",
          "29",
          "29",
          "32",
          "33",
          "34",
          "34",
          "36",
          "37",
          "38",
          "39",
          "40",
          "41",
          "42",
          "43",
          "44",
          "45",
          "46",
          "46",
          "48",
          "49",
          "50",
          "51",
          "52",
          "52",
          "54",
          "55",
          "55",
          "57",
          "58",
          "59",
          "60",
          "61",
          "61",
          "63",
          "64",
          "65",
          "66",
          "67",
          "68",
          "69",
          "70",
          "71",
          "72",
          "73",
          "74",
          "75",
          "75",
          "77",
          "78",
          "79",
          "80",
          "81",
          "82",
          "83",
          "83",
          "85",
          "86",
          "86",
          "88",
          "88",
          "90",
          "91",
          "91",
          "93",
          "94",
          "94",
          "96",
          "97",
          "98",
          "98",
          "98",
          "101",
          "102",
          "103",
          "103",
          "103",
          "103",
          "107",
          "107",
          "109",
          "109",
          "111",
          "111",
          "113",
          "113",
          "113",
          "116",
          "117",
          "118",
          "119",
          "120",
          "121",
          "121",
          "121",
          "124",
          "124",
          "126",
          "126",
          "126",
          "129",
          "130",
          "131",
          "132",
          "132",
          "132",
          "135",
          "136",
          "136",
          "138",
          "139",
          "140",
          "141",
          "141",
          "141",
          "144",
          "144",
          "146",
          "147",
          "148",
          "148",
          "150",
          "150",
          "152",
          "153",
          "154",
          "155",
          "156",
          "157",
          "157",
          "157",
          "160",
          "160",
          "162",
          "163",
          "164",
          "165",
          "165",
          "165",
          "165",
          "169",
          "170",
          "171",
          "171",
          "173",
          "173",
          "175",
          "175",
          "177",
          "178",
          "178",
          "180",
          "180",
          "182",
          "182",
          "182",
          "185",
          "186",
          "186",
          "188",
          "188",
          "188",
          "191",
          "192",
          "193",
          "193",
          "195",
          "196",
          "196",
          "198",
          "199",
          "200",
          "200",
          "201-225",
          "201-225",
          "201-225",
          "201-225",
          "201-225",
          "201-225",
          "201-225",
          "201-225",
          "201-225",
          "201-225",
          "201-225",
          "201-225",
          "201-225",
          "201-225",
          "201-225",
          "201-225",
          "201-225",
          "201-225",
          "201-225",
          "201-225",
          "201-225",
          "201-225",
          "201-225",
          "201-225",
          "201-225",
          "226-250",
          "226-250",
          "226-250",
          "226-250",
          "226-250",
          "226-250",
          "226-250",
          "226-250",
          "226-250",
          "226-250",
          "226-250",
          "226-250",
          "226-250",
          "226-250",
          "226-250",
          "226-250",
          "226-250",
          "226-250",
          "226-250",
          "226-250",
          "226-250",
          "226-250",
          "226-250",
          "226-250",
          "251-275",
          "251-275",
          "251-275",
          "251-275",
          "251-275",
          "251-275",
          "251-275",
          "251-275",
          "251-275",
          "251-275",
          "251-275",
          "251-275",
          "251-275",
          "251-275",
          "251-275",
          "251-275",
          "251-275",
          "251-275",
          "251-275",
          "251-275",
          "251-275",
          "251-275",
          "251-275",
          "251-275",
          "251-275",
          "276-300",
          "276-300",
          "276-300",
          "276-300",
          "276-300",
          "276-300",
          "276-300",
          "276-300",
          "276-300",
          "276-300",
          "276-300",
          "276-300",
          "276-300",
          "276-300",
          "276-300",
          "276-300",
          "276-300",
          "276-300",
          "276-300",
          "276-300",
          "276-300",
          "276-300",
          "276-300",
          "276-300",
          "276-300",
          "276-300",
          "276-300",
          "276-300",
          "301-350",
          "301-350",
          "301-350",
          "301-350",
          "301-350",
          "301-350",
          "301-350",
          "301-350",
          "301-350",
          "301-350",
          "301-350",
          "301-350",
          "301-350",
          "301-350",
          "301-350",
          "301-350",
          "301-350",
          "301-350",
          "301-350",
          "301-350",
          "301-350",
          "301-350",
          "301-350",
          "301-350",
          "301-350",
          "301-350",
          "301-350",
          "301-350",
          "301-350",
          "301-350",
          "301-350",
          "301-350",
          "301-350",
          "301-350",
          "301-350",
          "301-350",
          "301-350",
          "301-350",
          "301-350",
          "301-350",
          "301-350",
          "301-350",
          "301-350",
          "301-350",
          "301-350",
          "301-350",
          "301-350",
          "301-350",
          "351-400",
          "351-400",
          "351-400",
          "351-400",
          "351-400",
          "351-400",
          "351-400",
          "351-400",
          "351-400",
          "351-400",
          "351-400",
          "351-400",
          "351-400",
          "351-400",
          "351-400",
          "351-400",
          "351-400",
          "351-400",
          "351-400",
          "351-400",
          "351-400",
          "351-400",
          "351-400",
          "351-400",
          "351-400",
          "351-400",
          "351-400",
          "351-400",
          "351-400",
          "351-400",
          "351-400",
          "351-400",
          "351-400",
          "351-400",
          "351-400",
          "351-400",
          "351-400",
          "351-400",
          "351-400",
          "351-400",
          "351-400",
          "351-400",
          "351-400",
          "351-400",
          "351-400",
          "351-400",
          "351-400",
          "351-400",
          "351-400",
          "351-400"
         ],
         "y": [
          98.1,
          98.6,
          97.7,
          96.7,
          95.6,
          88.2,
          94.7,
          96.7,
          88.3,
          90.8,
          89.9,
          90.5,
          90.2,
          79.4,
          84.2,
          82.0,
          86.5,
          75.2,
          83.8,
          85.1,
          78.9,
          80.4,
          85.1,
          74.9,
          78.1,
          68.9,
          71.2,
          72.0,
          69.1,
          79.0,
          71.3,
          69.0,
          70.9,
          74.2,
          56.9,
          62.9,
          61.4,
          62.4,
          69.9,
          62.3,
          66.6,
          55.2,
          72.6,
          68.0,
          70.9,
          64.7,
          58.6,
          61.9,
          68.3,
          77.1,
          66.8,
          63.2,
          58.7,
          54.2,
          63.6,
          59.7,
          46.7,
          64.8,
          68.4,
          60.8,
          55.9,
          47.1,
          46.0,
          58.2,
          58.4,
          49.3,
          48.0,
          51.1,
          37.1,
          45.4,
          71.4,
          53.7,
          46.8,
          44.7,
          41.1,
          44.6,
          55.4,
          36.2,
          54.8,
          52.6,
          58.0,
          49.4,
          40.7,
          54.4,
          36.9,
          51.4,
          38.5,
          33.9,
          41.7,
          51.6,
          49.1,
          46.3,
          32.4,
          43.2,
          40.5,
          38.2,
          38.3,
          45.0,
          37.4,
          53.0,
          48.1,
          50.5,
          30.0,
          48.1,
          45.8,
          33.1,
          32.9,
          37.2,
          31.9,
          51.9,
          35.9,
          30.4,
          44.4,
          44.7,
          33.8,
          37.4,
          50.8,
          22.4,
          48.5,
          33.1,
          28.2,
          29.2,
          39.1,
          47.1,
          35.3,
          29.1,
          44.8,
          52.1,
          53.5,
          35.9,
          36.1,
          36.9,
          39.1,
          34.1,
          42.0,
          39.9,
          43.2,
          30.3,
          27.6,
          46.7,
          26.7,
          51.9,
          52.9,
          47.1,
          45.3,
          39.1,
          29.1,
          50.2,
          39.8,
          35.1,
          27.5,
          35.4,
          47.5,
          32.7,
          57.3,
          29.9,
          48.0,
          33.2,
          38.1,
          34.4,
          33.8,
          36.5,
          28.1,
          40.4,
          36.9,
          34.9,
          28.3,
          47.3,
          27.2,
          33.6,
          35.8,
          34.9,
          28.2,
          30.6,
          33.4,
          33.5,
          24.4,
          29.3,
          30.2,
          19.7,
          36.3,
          37.5,
          27.1,
          39.7,
          21.9,
          35.2,
          23.9,
          24.4,
          51.1,
          34.7,
          39.8,
          32.9,
          34.0,
          30.9,
          22.2,
          42.1,
          27.3,
          22.6,
          31.6,
          13.1,
          25.1,
          27.7,
          30.4,
          22.4,
          36.3,
          36.5,
          44.3,
          29.6,
          37.5,
          22.0,
          28.8,
          27.9,
          22.5,
          34.1,
          17.1,
          34.0,
          27.3,
          23.4,
          51.6,
          28.2,
          16.0,
          45.3,
          36.2,
          23.5,
          19.9,
          45.8,
          29.2,
          29.3,
          21.4,
          24.5,
          30.0,
          29.9,
          23.2,
          31.8,
          26.2,
          29.3,
          35.0,
          32.3,
          9.8,
          28.1,
          30.5,
          38.2,
          24.3,
          33.4,
          23.0,
          32.5,
          35.7,
          17.3,
          32.4,
          35.3,
          31.3,
          10.1,
          17.0,
          23.3,
          40.3,
          24.8,
          33.4,
          25.1,
          25.2,
          33.7,
          27.6,
          30.7,
          24.7,
          18.1,
          23.4,
          29.9,
          27.7,
          19.2,
          25.6,
          37.9,
          12.1,
          21.7,
          20.3,
          20.3,
          40.4,
          32.8,
          31.3,
          39.5,
          25.5,
          22.5,
          40.7,
          29.6,
          10.5,
          18.1,
          36.0,
          37.9,
          31.2,
          45.1,
          22.9,
          22.2,
          23.2,
          22.4,
          15.3,
          19.7,
          28.9,
          20.3,
          22.9,
          24.4,
          24.0,
          27.5,
          27.8,
          28.5,
          40.0,
          19.3,
          23.0,
          17.8,
          24.3,
          10.4,
          20.6,
          14.3,
          13.2,
          17.3,
          16.5,
          24.4,
          24.8,
          17.2,
          21.1,
          26.6,
          14.7,
          24.8,
          28.1,
          34.7,
          38.8,
          25.2,
          20.7,
          25.1,
          23.4,
          18.4,
          27.1,
          16.8,
          13.7,
          29.0,
          25.8,
          24.0,
          20.1,
          29.4,
          6.5,
          13.7,
          16.5,
          15.7,
          18.2,
          18.8,
          20.5,
          25.1,
          17.3,
          22.2,
          21.6,
          12.0,
          13.6,
          15.2,
          33.1,
          28.5,
          20.6,
          21.6,
          12.9,
          19.1,
          17.2,
          17.1,
          18.0,
          20.3,
          32.3,
          27.5,
          24.6,
          14.3,
          27.3,
          10.0,
          28.5,
          16.6,
          27.6,
          17.8,
          40.1,
          32.9,
          42.6,
          18.9,
          22.5,
          16.3,
          16.9,
          25.7,
          18.1,
          21.6,
          15.2,
          17.3,
          17.3,
          10.9,
          22.8,
          18.4,
          16.2,
          22.0,
          22.3,
          10.6,
          11.8,
          20.2,
          21.8,
          19.4,
          17.0,
          17.9,
          16.3,
          27.5,
          22.4,
          17.4,
          8.0
         ]
        },
        {
         "name": "citations",
         "type": "scatter",
         "x": [
          "1",
          "2",
          "3",
          "4",
          "5",
          "6",
          "7",
          "8",
          "9",
          "9",
          "11",
          "12",
          "13",
          "14",
          "15",
          "16",
          "17",
          "18",
          "19",
          "20",
          "21",
          "22",
          "23",
          "24",
          "25",
          "26",
          "27",
          "28",
          "29",
          "29",
          "29",
          "32",
          "33",
          "34",
          "34",
          "36",
          "37",
          "38",
          "39",
          "40",
          "41",
          "42",
          "43",
          "44",
          "45",
          "46",
          "46",
          "48",
          "49",
          "50",
          "51",
          "52",
          "52",
          "54",
          "55",
          "55",
          "57",
          "58",
          "59",
          "60",
          "61",
          "61",
          "63",
          "64",
          "65",
          "66",
          "67",
          "68",
          "69",
          "70",
          "71",
          "72",
          "73",
          "74",
          "75",
          "75",
          "77",
          "78",
          "79",
          "80",
          "81",
          "82",
          "83",
          "83",
          "85",
          "86",
          "86",
          "88",
          "88",
          "90",
          "91",
          "91",
          "93",
          "94",
          "94",
          "96",
          "97",
          "98",
          "98",
          "98",
          "101",
          "102",
          "103",
          "103",
          "103",
          "103",
          "107",
          "107",
          "109",
          "109",
          "111",
          "111",
          "113",
          "113",
          "113",
          "116",
          "117",
          "118",
          "119",
          "120",
          "121",
          "121",
          "121",
          "124",
          "124",
          "126",
          "126",
          "126",
          "129",
          "130",
          "131",
          "132",
          "132",
          "132",
          "135",
          "136",
          "136",
          "138",
          "139",
          "140",
          "141",
          "141",
          "141",
          "144",
          "144",
          "146",
          "147",
          "148",
          "148",
          "150",
          "150",
          "152",
          "153",
          "154",
          "155",
          "156",
          "157",
          "157",
          "157",
          "160",
          "160",
          "162",
          "163",
          "164",
          "165",
          "165",
          "165",
          "165",
          "169",
          "170",
          "171",
          "171",
          "173",
          "173",
          "175",
          "175",
          "177",
          "178",
          "178",
          "180",
          "180",
          "182",
          "182",
          "182",
          "185",
          "186",
          "186",
          "188",
          "188",
          "188",
          "191",
          "192",
          "193",
          "193",
          "195",
          "196",
          "196",
          "198",
          "199",
          "200",
          "200",
          "201-225",
          "201-225",
          "201-225",
          "201-225",
          "201-225",
          "201-225",
          "201-225",
          "201-225",
          "201-225",
          "201-225",
          "201-225",
          "201-225",
          "201-225",
          "201-225",
          "201-225",
          "201-225",
          "201-225",
          "201-225",
          "201-225",
          "201-225",
          "201-225",
          "201-225",
          "201-225",
          "201-225",
          "201-225",
          "226-250",
          "226-250",
          "226-250",
          "226-250",
          "226-250",
          "226-250",
          "226-250",
          "226-250",
          "226-250",
          "226-250",
          "226-250",
          "226-250",
          "226-250",
          "226-250",
          "226-250",
          "226-250",
          "226-250",
          "226-250",
          "226-250",
          "226-250",
          "226-250",
          "226-250",
          "226-250",
          "226-250",
          "251-275",
          "251-275",
          "251-275",
          "251-275",
          "251-275",
          "251-275",
          "251-275",
          "251-275",
          "251-275",
          "251-275",
          "251-275",
          "251-275",
          "251-275",
          "251-275",
          "251-275",
          "251-275",
          "251-275",
          "251-275",
          "251-275",
          "251-275",
          "251-275",
          "251-275",
          "251-275",
          "251-275",
          "251-275",
          "276-300",
          "276-300",
          "276-300",
          "276-300",
          "276-300",
          "276-300",
          "276-300",
          "276-300",
          "276-300",
          "276-300",
          "276-300",
          "276-300",
          "276-300",
          "276-300",
          "276-300",
          "276-300",
          "276-300",
          "276-300",
          "276-300",
          "276-300",
          "276-300",
          "276-300",
          "276-300",
          "276-300",
          "276-300",
          "276-300",
          "276-300",
          "276-300",
          "301-350",
          "301-350",
          "301-350",
          "301-350",
          "301-350",
          "301-350",
          "301-350",
          "301-350",
          "301-350",
          "301-350",
          "301-350",
          "301-350",
          "301-350",
          "301-350",
          "301-350",
          "301-350",
          "301-350",
          "301-350",
          "301-350",
          "301-350",
          "301-350",
          "301-350",
          "301-350",
          "301-350",
          "301-350",
          "301-350",
          "301-350",
          "301-350",
          "301-350",
          "301-350",
          "301-350",
          "301-350",
          "301-350",
          "301-350",
          "301-350",
          "301-350",
          "301-350",
          "301-350",
          "301-350",
          "301-350",
          "301-350",
          "301-350",
          "301-350",
          "301-350",
          "301-350",
          "301-350",
          "301-350",
          "301-350",
          "351-400",
          "351-400",
          "351-400",
          "351-400",
          "351-400",
          "351-400",
          "351-400",
          "351-400",
          "351-400",
          "351-400",
          "351-400",
          "351-400",
          "351-400",
          "351-400",
          "351-400",
          "351-400",
          "351-400",
          "351-400",
          "351-400",
          "351-400",
          "351-400",
          "351-400",
          "351-400",
          "351-400",
          "351-400",
          "351-400",
          "351-400",
          "351-400",
          "351-400",
          "351-400",
          "351-400",
          "351-400",
          "351-400",
          "351-400",
          "351-400",
          "351-400",
          "351-400",
          "351-400",
          "351-400",
          "351-400",
          "351-400",
          "351-400",
          "351-400",
          "351-400",
          "351-400",
          "351-400",
          "351-400",
          "351-400",
          "351-400",
          "351-400"
         ],
         "xaxis": "x2",
         "y": [
          99.7,
          98.9,
          95.5,
          99.1,
          95.2,
          100.0,
          99.6,
          99.1,
          89.4,
          94.0,
          97.3,
          95.3,
          83.5,
          95.3,
          93.6,
          94.4,
          88.9,
          96.6,
          91.5,
          83.0,
          96.9,
          85.1,
          74.7,
          92.0,
          66.0,
          95.0,
          85.8,
          91.5,
          83.0,
          77.8,
          87.7,
          85.3,
          80.6,
          71.3,
          95.0,
          88.3,
          99.2,
          89.5,
          76.0,
          88.3,
          96.4,
          97.1,
          65.1,
          76.8,
          71.1,
          82.9,
          91.0,
          63.7,
          65.0,
          48.7,
          72.9,
          71.4,
          74.3,
          92.0,
          71.8,
          80.4,
          94.4,
          76.0,
          57.0,
          69.0,
          75.9,
          79.9,
          96.4,
          82.3,
          74.2,
          84.4,
          92.3,
          80.4,
          99.9,
          81.4,
          42.6,
          82.3,
          77.5,
          85.1,
          81.4,
          81.3,
          76.6,
          84.8,
          80.0,
          71.9,
          67.6,
          74.0,
          88.9,
          65.7,
          92.0,
          74.0,
          90.0,
          92.9,
          89.5,
          73.8,
          78.7,
          84.4,
          89.5,
          78.8,
          83.7,
          87.7,
          97.4,
          90.9,
          78.8,
          70.9,
          70.1,
          62.2,
          83.3,
          79.0,
          68.2,
          81.4,
          88.9,
          78.2,
          100.0,
          61.1,
          81.4,
          92.8,
          62.9,
          74.0,
          90.5,
          82.9,
          68.1,
          98.9,
          74.9,
          87.7,
          79.6,
          87.7,
          74.3,
          61.8,
          86.6,
          95.9,
          55.1,
          62.2,
          57.8,
          76.9,
          78.0,
          70.1,
          83.6,
          79.7,
          70.8,
          76.5,
          74.9,
          77.6,
          96.8,
          73.9,
          97.1,
          55.1,
          48.1,
          57.3,
          71.0,
          69.3,
          95.3,
          51.7,
          62.7,
          73.1,
          91.5,
          80.4,
          66.5,
          78.0,
          47.7,
          75.0,
          51.1,
          76.2,
          62.2,
          73.5,
          73.0,
          75.0,
          74.0,
          61.1,
          79.7,
          62.9,
          88.3,
          49.6,
          73.1,
          67.7,
          62.7,
          67.7,
          62.2,
          86.7,
          68.4,
          71.0,
          87.1,
          73.0,
          74.3,
          92.2,
          73.1,
          73.1,
          88.5,
          56.3,
          81.3,
          66.3,
          77.8,
          80.4,
          45.5,
          62.9,
          57.5,
          68.6,
          61.0,
          72.0,
          83.8,
          33.8,
          86.4,
          83.7,
          67.1,
          99.2,
          70.0,
          76.0,
          69.3,
          78.8,
          57.2,
          56.5,
          39.9,
          70.3,
          52.0,
          73.0,
          79.7,
          68.5,
          84.4,
          55.1,
          77.0,
          58.1,
          73.6,
          74.0,
          32.3,
          77.8,
          88.1,
          49.4,
          64.4,
          81.3,
          78.7,
          44.3,
          67.0,
          60.4,
          75.3,
          76.9,
          54.4,
          58.1,
          55.1,
          59.9,
          67.8,
          67.6,
          68.9,
          47.0,
          100.0,
          61.7,
          59.4,
          64.4,
          70.8,
          59.4,
          76.6,
          58.7,
          47.0,
          81.4,
          41.7,
          62.9,
          50.2,
          99.7,
          71.1,
          59.6,
          49.1,
          62.8,
          48.2,
          52.2,
          59.9,
          42.0,
          55.7,
          51.5,
          74.8,
          73.0,
          73.1,
          57.5,
          57.6,
          75.6,
          64.5,
          55.1,
          89.8,
          67.3,
          70.3,
          72.5,
          47.0,
          40.8,
          59.9,
          51.6,
          59.9,
          67.4,
          40.4,
          49.6,
          84.4,
          80.5,
          42.9,
          38.9,
          45.6,
          34.9,
          51.1,
          56.9,
          64.5,
          67.8,
          68.7,
          58.6,
          46.6,
          68.1,
          66.9,
          57.5,
          52.7,
          55.1,
          55.1,
          53.8,
          40.7,
          59.7,
          55.8,
          64.5,
          50.1,
          63.3,
          57.5,
          57.5,
          70.8,
          50.3,
          61.0,
          58.5,
          50.2,
          70.5,
          63.3,
          55.8,
          59.6,
          65.6,
          50.7,
          50.4,
          28.0,
          54.1,
          53.9,
          47.5,
          53.8,
          65.3,
          45.4,
          67.0,
          64.1,
          39.3,
          44.2,
          50.2,
          62.2,
          48.2,
          83.0,
          75.0,
          51.5,
          57.5,
          68.0,
          69.2,
          61.2,
          49.9,
          56.9,
          58.7,
          51.1,
          72.7,
          70.0,
          61.0,
          40.2,
          39.9,
          52.2,
          45.1,
          61.8,
          52.0,
          62.6,
          45.3,
          57.6,
          53.9,
          29.0,
          32.2,
          43.5,
          62.6,
          48.9,
          75.0,
          33.6,
          56.3,
          51.5,
          46.5,
          28.4,
          39.0,
          30.9,
          43.5,
          42.0,
          50.2,
          53.2,
          52.7,
          52.0,
          53.8,
          64.5,
          60.8,
          55.1,
          65.0,
          44.8,
          44.6,
          60.6,
          46.6,
          41.7,
          61.6,
          62.1,
          63.3,
          47.7,
          57.5,
          50.0,
          48.1,
          55.5,
          44.2,
          58.7,
          48.5,
          75.8
         ],
         "yaxis": "y2"
        },
        {
         "name": "income",
         "type": "scatter",
         "x": [
          "1",
          "2",
          "3",
          "4",
          "5",
          "6",
          "7",
          "8",
          "9",
          "9",
          "11",
          "12",
          "13",
          "14",
          "15",
          "16",
          "17",
          "18",
          "19",
          "20",
          "21",
          "22",
          "23",
          "24",
          "25",
          "26",
          "27",
          "28",
          "29",
          "29",
          "29",
          "32",
          "33",
          "34",
          "34",
          "36",
          "37",
          "38",
          "39",
          "40",
          "41",
          "42",
          "43",
          "44",
          "45",
          "46",
          "46",
          "48",
          "49",
          "50",
          "51",
          "52",
          "52",
          "54",
          "55",
          "55",
          "57",
          "58",
          "59",
          "60",
          "61",
          "61",
          "63",
          "64",
          "65",
          "66",
          "67",
          "68",
          "69",
          "70",
          "71",
          "72",
          "73",
          "74",
          "75",
          "75",
          "77",
          "78",
          "79",
          "80",
          "81",
          "82",
          "83",
          "83",
          "85",
          "86",
          "86",
          "88",
          "88",
          "90",
          "91",
          "91",
          "93",
          "94",
          "94",
          "96",
          "97",
          "98",
          "98",
          "98",
          "101",
          "102",
          "103",
          "103",
          "103",
          "103",
          "107",
          "107",
          "109",
          "109",
          "111",
          "111",
          "113",
          "113",
          "113",
          "116",
          "117",
          "118",
          "119",
          "120",
          "121",
          "121",
          "121",
          "124",
          "124",
          "126",
          "126",
          "126",
          "129",
          "130",
          "131",
          "132",
          "132",
          "132",
          "135",
          "136",
          "136",
          "138",
          "139",
          "140",
          "141",
          "141",
          "141",
          "144",
          "144",
          "146",
          "147",
          "148",
          "148",
          "150",
          "150",
          "152",
          "153",
          "154",
          "155",
          "156",
          "157",
          "157",
          "157",
          "160",
          "160",
          "162",
          "163",
          "164",
          "165",
          "165",
          "165",
          "165",
          "169",
          "170",
          "171",
          "171",
          "173",
          "173",
          "175",
          "175",
          "177",
          "178",
          "178",
          "180",
          "180",
          "182",
          "182",
          "182",
          "185",
          "186",
          "186",
          "188",
          "188",
          "188",
          "191",
          "192",
          "193",
          "193",
          "195",
          "196",
          "196",
          "198",
          "199",
          "200",
          "200",
          "201-225",
          "201-225",
          "201-225",
          "201-225",
          "201-225",
          "201-225",
          "201-225",
          "201-225",
          "201-225",
          "201-225",
          "201-225",
          "201-225",
          "201-225",
          "201-225",
          "201-225",
          "201-225",
          "201-225",
          "201-225",
          "201-225",
          "201-225",
          "201-225",
          "201-225",
          "201-225",
          "201-225",
          "201-225",
          "226-250",
          "226-250",
          "226-250",
          "226-250",
          "226-250",
          "226-250",
          "226-250",
          "226-250",
          "226-250",
          "226-250",
          "226-250",
          "226-250",
          "226-250",
          "226-250",
          "226-250",
          "226-250",
          "226-250",
          "226-250",
          "226-250",
          "226-250",
          "226-250",
          "226-250",
          "226-250",
          "226-250",
          "251-275",
          "251-275",
          "251-275",
          "251-275",
          "251-275",
          "251-275",
          "251-275",
          "251-275",
          "251-275",
          "251-275",
          "251-275",
          "251-275",
          "251-275",
          "251-275",
          "251-275",
          "251-275",
          "251-275",
          "251-275",
          "251-275",
          "251-275",
          "251-275",
          "251-275",
          "251-275",
          "251-275",
          "251-275",
          "276-300",
          "276-300",
          "276-300",
          "276-300",
          "276-300",
          "276-300",
          "276-300",
          "276-300",
          "276-300",
          "276-300",
          "276-300",
          "276-300",
          "276-300",
          "276-300",
          "276-300",
          "276-300",
          "276-300",
          "276-300",
          "276-300",
          "276-300",
          "276-300",
          "276-300",
          "276-300",
          "276-300",
          "276-300",
          "276-300",
          "276-300",
          "276-300",
          "301-350",
          "301-350",
          "301-350",
          "301-350",
          "301-350",
          "301-350",
          "301-350",
          "301-350",
          "301-350",
          "301-350",
          "301-350",
          "301-350",
          "301-350",
          "301-350",
          "301-350",
          "301-350",
          "301-350",
          "301-350",
          "301-350",
          "301-350",
          "301-350",
          "301-350",
          "301-350",
          "301-350",
          "301-350",
          "301-350",
          "301-350",
          "301-350",
          "301-350",
          "301-350",
          "301-350",
          "301-350",
          "301-350",
          "301-350",
          "301-350",
          "301-350",
          "301-350",
          "301-350",
          "301-350",
          "301-350",
          "301-350",
          "301-350",
          "301-350",
          "301-350",
          "301-350",
          "301-350",
          "301-350",
          "301-350",
          "351-400",
          "351-400",
          "351-400",
          "351-400",
          "351-400",
          "351-400",
          "351-400",
          "351-400",
          "351-400",
          "351-400",
          "351-400",
          "351-400",
          "351-400",
          "351-400",
          "351-400",
          "351-400",
          "351-400",
          "351-400",
          "351-400",
          "351-400",
          "351-400",
          "351-400",
          "351-400",
          "351-400",
          "351-400",
          "351-400",
          "351-400",
          "351-400",
          "351-400",
          "351-400",
          "351-400",
          "351-400",
          "351-400",
          "351-400",
          "351-400",
          "351-400",
          "351-400",
          "351-400",
          "351-400",
          "351-400",
          "351-400",
          "351-400",
          "351-400",
          "351-400",
          "351-400",
          "351-400",
          "351-400",
          "351-400",
          "351-400",
          "351-400"
         ],
         "xaxis": "x3",
         "y": [
          "89.1",
          "44.0",
          "72.9",
          "63.1",
          "51.1",
          "95.7",
          "82.7",
          "44.8",
          "72.7",
          "42.0",
          "36.8",
          "-",
          "73.2",
          "-",
          "100.0",
          "43.0",
          "55.7",
          "100.0",
          "33.7",
          "46.1",
          "77.0",
          "46.2",
          "51.2",
          "53.0",
          "53.4",
          "44.7",
          "72.3",
          "58.1",
          "100.0",
          "51.7",
          "53.3",
          "40.1",
          "61.2",
          "40.6",
          "61.9",
          "41.2",
          "87.1",
          "30.2",
          "38.6",
          "39.0",
          "54.2",
          "-",
          "56.0",
          "65.5",
          "38.9",
          "-",
          "40.5",
          "100.0",
          "99.7",
          "86.3",
          "57.6",
          "100.0",
          "39.4",
          "32.7",
          "99.9",
          "55.4",
          "30.3",
          "60.4",
          "73.3",
          "67.3",
          "100.0",
          "76.8",
          "40.1",
          "47.3",
          "66.2",
          "100.0",
          "32.8",
          "46.8",
          "34.6",
          "41.6",
          "100.0",
          "54.4",
          "100.0",
          "42.1",
          "97.7",
          "34.4",
          "56.7",
          "39.4",
          "84.1",
          "31.9",
          "33.5",
          "31.7",
          "34.8",
          "73.4",
          "55.2",
          "99.6",
          "-",
          "58.7",
          "40.0",
          "85.3",
          "52.8",
          "38.5",
          "42.3",
          "85.0",
          "39.9",
          "59.4",
          "-",
          "32.4",
          "49.0",
          "39.6",
          "96.1",
          "-",
          "33.4",
          "31.5",
          "35.6",
          "40.1",
          "37.1",
          "65.1",
          "33.8",
          "47.8",
          "39.8",
          "31.2",
          "91.8",
          "54.7",
          "32.2",
          "-",
          "88.9",
          "32.8",
          "32.6",
          "28.9",
          "98.6",
          "36.4",
          "43.8",
          "51.8",
          "88.0",
          "46.5",
          "100.0",
          "-",
          "42.8",
          "49.8",
          "34.1",
          "47.4",
          "33.2",
          "38.9",
          "99.5",
          "50.9",
          "60.0",
          "30.6",
          "47.7",
          "42.8",
          "79.4",
          "49.6",
          "69.4",
          "99.9",
          "35.2",
          "39.4",
          "43.9",
          "98.5",
          "36.0",
          "-",
          "39.5",
          "49.1",
          "59.8",
          "35.8",
          "43.8",
          "69.8",
          "73.6",
          "40.0",
          "63.3",
          "44.4",
          "29.3",
          "58.1",
          "81.4",
          "65.3",
          "51.1",
          "82.7",
          "35.9",
          "76.8",
          "-",
          "100.0",
          "39.6",
          "46.1",
          "80.0",
          "31.6",
          "74.2",
          "49.3",
          "40.6",
          "31.3",
          "42.1",
          "29.1",
          "99.3",
          "32.6",
          "42.9",
          "29.4",
          "34.0",
          "36.6",
          "-",
          "31.3",
          "42.6",
          "45.9",
          "39.6",
          "49.8",
          "49.4",
          "54.4",
          "-",
          "78.5",
          "32.4",
          "29.2",
          "34.8",
          "53.7",
          "29.3",
          "46.4",
          "34.8",
          "38.8",
          "31.5",
          "42.6",
          "98.5",
          "35.0",
          "36.5",
          "56.7",
          "31.0",
          "34.2",
          "47.7",
          "40.7",
          "42.0",
          "34.9",
          "71.6",
          "32.0",
          "40.1",
          "41.6",
          "33.3",
          "89.2",
          "50.7",
          "38.2",
          "30.0",
          "69.7",
          "34.6",
          "28.7",
          "31.9",
          "30.7",
          "68.9",
          "62.7",
          "99.0",
          "86.3",
          "49.9",
          "41.8",
          "-",
          "63.4",
          "31.0",
          "33.8",
          "41.5",
          "37.0",
          "42.0",
          "52.5",
          "45.0",
          "40.1",
          "50.7",
          "30.0",
          "64.1",
          "34.1",
          "64.5",
          "28.1",
          "33.7",
          "51.7",
          "49.4",
          "43.1",
          "59.0",
          "43.7",
          "99.8",
          "88.9",
          "46.3",
          "38.3",
          "64.0",
          "38.2",
          "44.5",
          "75.6",
          "31.9",
          "64.4",
          "38.4",
          "99.8",
          "36.5",
          "94.8",
          "46.0",
          "40.8",
          "41.7",
          "75.8",
          "38.8",
          "37.9",
          "73.8",
          "33.6",
          "98.2",
          "45.0",
          "28.3",
          "28.8",
          "71.9",
          "88.4",
          "94.7",
          "55.1",
          "56.9",
          "45.9",
          "34.9",
          "35.6",
          "46.8",
          "48.2",
          "31.1",
          "33.6",
          "40.1",
          "35.0",
          "83.9",
          "31.8",
          "44.7",
          "49.7",
          "42.6",
          "32.2",
          "31.1",
          "32.7",
          "29.4",
          "32.4",
          "30.6",
          "34.6",
          "29.1",
          "-",
          "39.2",
          "50.6",
          "36.2",
          "33.4",
          "32.0",
          "67.8",
          "42.8",
          "29.2",
          "34.2",
          "86.2",
          "44.5",
          "58.9",
          "-",
          "36.7",
          "49.5",
          "28.8",
          "31.1",
          "36.0",
          "44.2",
          "29.1",
          "43.2",
          "-",
          "36.2",
          "43.5",
          "28.6",
          "34.4",
          "34.5",
          "34.5",
          "32.9",
          "37.7",
          "72.6",
          "30.7",
          "48.2",
          "42.5",
          "36.9",
          "30.8",
          "28.5",
          "-",
          "88.6",
          "43.9",
          "33.0",
          "35.7",
          "34.8",
          "37.4",
          "33.6",
          "36.1",
          "61.3",
          "28.7",
          "88.7",
          "43.4",
          "49.7",
          "69.0",
          "84.1",
          "56.5",
          "68.7",
          "39.2",
          "-",
          "40.5",
          "100.0",
          "47.0",
          "82.0",
          "28.4",
          "47.4",
          "38.8",
          "38.8",
          "31.3",
          "35.2",
          "32.8",
          "40.4",
          "35.4",
          "30.2",
          "29.6",
          "33.9",
          "70.4",
          "44.5",
          "31.2",
          "90.2",
          "29.2",
          "37.7",
          "29.1",
          "32.1",
          "-",
          "50.0",
          "44.8",
          "32.6",
          "54.5",
          "30.4",
          "85.9",
          "57.8"
         ],
         "yaxis": "y3"
        },
        {
         "name": "total_score",
         "type": "scatter",
         "x": [
          "1",
          "2",
          "3",
          "4",
          "5",
          "6",
          "7",
          "8",
          "9",
          "9",
          "11",
          "12",
          "13",
          "14",
          "15",
          "16",
          "17",
          "18",
          "19",
          "20",
          "21",
          "22",
          "23",
          "24",
          "25",
          "26",
          "27",
          "28",
          "29",
          "29",
          "29",
          "32",
          "33",
          "34",
          "34",
          "36",
          "37",
          "38",
          "39",
          "40",
          "41",
          "42",
          "43",
          "44",
          "45",
          "46",
          "46",
          "48",
          "49",
          "50",
          "51",
          "52",
          "52",
          "54",
          "55",
          "55",
          "57",
          "58",
          "59",
          "60",
          "61",
          "61",
          "63",
          "64",
          "65",
          "66",
          "67",
          "68",
          "69",
          "70",
          "71",
          "72",
          "73",
          "74",
          "75",
          "75",
          "77",
          "78",
          "79",
          "80",
          "81",
          "82",
          "83",
          "83",
          "85",
          "86",
          "86",
          "88",
          "88",
          "90",
          "91",
          "91",
          "93",
          "94",
          "94",
          "96",
          "97",
          "98",
          "98",
          "98",
          "101",
          "102",
          "103",
          "103",
          "103",
          "103",
          "107",
          "107",
          "109",
          "109",
          "111",
          "111",
          "113",
          "113",
          "113",
          "116",
          "117",
          "118",
          "119",
          "120",
          "121",
          "121",
          "121",
          "124",
          "124",
          "126",
          "126",
          "126",
          "129",
          "130",
          "131",
          "132",
          "132",
          "132",
          "135",
          "136",
          "136",
          "138",
          "139",
          "140",
          "141",
          "141",
          "141",
          "144",
          "144",
          "146",
          "147",
          "148",
          "148",
          "150",
          "150",
          "152",
          "153",
          "154",
          "155",
          "156",
          "157",
          "157",
          "157",
          "160",
          "160",
          "162",
          "163",
          "164",
          "165",
          "165",
          "165",
          "165",
          "169",
          "170",
          "171",
          "171",
          "173",
          "173",
          "175",
          "175",
          "177",
          "178",
          "178",
          "180",
          "180",
          "182",
          "182",
          "182",
          "185",
          "186",
          "186",
          "188",
          "188",
          "188",
          "191",
          "192",
          "193",
          "193",
          "195",
          "196",
          "196",
          "198",
          "199",
          "200",
          "200",
          "201-225",
          "201-225",
          "201-225",
          "201-225",
          "201-225",
          "201-225",
          "201-225",
          "201-225",
          "201-225",
          "201-225",
          "201-225",
          "201-225",
          "201-225",
          "201-225",
          "201-225",
          "201-225",
          "201-225",
          "201-225",
          "201-225",
          "201-225",
          "201-225",
          "201-225",
          "201-225",
          "201-225",
          "201-225",
          "226-250",
          "226-250",
          "226-250",
          "226-250",
          "226-250",
          "226-250",
          "226-250",
          "226-250",
          "226-250",
          "226-250",
          "226-250",
          "226-250",
          "226-250",
          "226-250",
          "226-250",
          "226-250",
          "226-250",
          "226-250",
          "226-250",
          "226-250",
          "226-250",
          "226-250",
          "226-250",
          "226-250",
          "251-275",
          "251-275",
          "251-275",
          "251-275",
          "251-275",
          "251-275",
          "251-275",
          "251-275",
          "251-275",
          "251-275",
          "251-275",
          "251-275",
          "251-275",
          "251-275",
          "251-275",
          "251-275",
          "251-275",
          "251-275",
          "251-275",
          "251-275",
          "251-275",
          "251-275",
          "251-275",
          "251-275",
          "251-275",
          "276-300",
          "276-300",
          "276-300",
          "276-300",
          "276-300",
          "276-300",
          "276-300",
          "276-300",
          "276-300",
          "276-300",
          "276-300",
          "276-300",
          "276-300",
          "276-300",
          "276-300",
          "276-300",
          "276-300",
          "276-300",
          "276-300",
          "276-300",
          "276-300",
          "276-300",
          "276-300",
          "276-300",
          "276-300",
          "276-300",
          "276-300",
          "276-300",
          "301-350",
          "301-350",
          "301-350",
          "301-350",
          "301-350",
          "301-350",
          "301-350",
          "301-350",
          "301-350",
          "301-350",
          "301-350",
          "301-350",
          "301-350",
          "301-350",
          "301-350",
          "301-350",
          "301-350",
          "301-350",
          "301-350",
          "301-350",
          "301-350",
          "301-350",
          "301-350",
          "301-350",
          "301-350",
          "301-350",
          "301-350",
          "301-350",
          "301-350",
          "301-350",
          "301-350",
          "301-350",
          "301-350",
          "301-350",
          "301-350",
          "301-350",
          "301-350",
          "301-350",
          "301-350",
          "301-350",
          "301-350",
          "301-350",
          "301-350",
          "301-350",
          "301-350",
          "301-350",
          "301-350",
          "301-350",
          "351-400",
          "351-400",
          "351-400",
          "351-400",
          "351-400",
          "351-400",
          "351-400",
          "351-400",
          "351-400",
          "351-400",
          "351-400",
          "351-400",
          "351-400",
          "351-400",
          "351-400",
          "351-400",
          "351-400",
          "351-400",
          "351-400",
          "351-400",
          "351-400",
          "351-400",
          "351-400",
          "351-400",
          "351-400",
          "351-400",
          "351-400",
          "351-400",
          "351-400",
          "351-400",
          "351-400",
          "351-400",
          "351-400",
          "351-400",
          "351-400",
          "351-400",
          "351-400",
          "351-400",
          "351-400",
          "351-400",
          "351-400",
          "351-400",
          "351-400",
          "351-400",
          "351-400",
          "351-400",
          "351-400",
          "351-400",
          "351-400",
          "351-400"
         ],
         "xaxis": "x4",
         "y": [
          "94.3",
          "93.3",
          "93.2",
          "92.9",
          "92.0",
          "91.9",
          "90.9",
          "89.5",
          "87.5",
          "87.5",
          "87.1",
          "85.5",
          "84.6",
          "84.4",
          "83.0",
          "81.0",
          "80.9",
          "79.9",
          "79.4",
          "79.3",
          "79.2",
          "78.7",
          "76.1",
          "74.3",
          "73.3",
          "73.2",
          "72.8",
          "72.3",
          "71.9",
          "71.9",
          "71.9",
          "71.8",
          "71.2",
          "70.9",
          "70.9",
          "70.4",
          "70.0",
          "69.9",
          "69.6",
          "69.4",
          "68.6",
          "67.8",
          "67.5",
          "66.8",
          "66.5",
          "65.9",
          "65.9",
          "65.2",
          "65.1",
          "64.8",
          "64.7",
          "64.5",
          "64.5",
          "64.1",
          "63.7",
          "63.7",
          "63.6",
          "62.9",
          "62.8",
          "62.7",
          "62.2",
          "62.2",
          "61.9",
          "61.3",
          "61.2",
          "61.1",
          "61.0",
          "60.7",
          "59.8",
          "59.6",
          "59.2",
          "59.1",
          "59.0",
          "58.9",
          "58.4",
          "58.4",
          "58.2",
          "58.1",
          "58.0",
          "57.9",
          "57.6",
          "57.3",
          "56.9",
          "56.9",
          "56.6",
          "56.5",
          "56.5",
          "56.4",
          "56.4",
          "56.2",
          "56.1",
          "56.1",
          "55.5",
          "55.3",
          "55.3",
          "55.2",
          "55.1",
          "54.6",
          "54.6",
          "54.6",
          "54.3",
          "54.0",
          "53.9",
          "53.9",
          "53.9",
          "53.9",
          "53.8",
          "53.8",
          "53.7",
          "53.7",
          "53.6",
          "53.6",
          "53.4",
          "53.4",
          "53.4",
          "53.2",
          "53.1",
          "53.0",
          "52.9",
          "52.8",
          "52.7",
          "52.7",
          "52.7",
          "52.6",
          "52.6",
          "52.5",
          "52.5",
          "52.5",
          "52.4",
          "52.1",
          "52.0",
          "51.9",
          "51.9",
          "51.9",
          "51.6",
          "51.4",
          "51.4",
          "51.2",
          "51.1",
          "51.0",
          "50.9",
          "50.9",
          "50.9",
          "50.5",
          "50.5",
          "50.4",
          "50.3",
          "50.2",
          "50.2",
          "50.1",
          "50.1",
          "50.0",
          "49.9",
          "49.7",
          "49.3",
          "49.2",
          "49.1",
          "49.1",
          "49.1",
          "49.0",
          "49.0",
          "48.6",
          "48.3",
          "48.2",
          "48.1",
          "48.1",
          "48.1",
          "48.1",
          "48.0",
          "47.9",
          "47.8",
          "47.8",
          "47.7",
          "47.7",
          "47.5",
          "47.5",
          "47.3",
          "47.1",
          "47.1",
          "47.0",
          "47.0",
          "46.9",
          "46.9",
          "46.9",
          "46.8",
          "46.7",
          "46.7",
          "46.6",
          "46.6",
          "46.6",
          "46.5",
          "46.3",
          "46.2",
          "46.2",
          "46.1",
          "46.0",
          "46.0",
          "45.9",
          "45.7",
          "45.6",
          "45.6",
          "-",
          "-",
          "-",
          "-",
          "-",
          "-",
          "-",
          "-",
          "-",
          "-",
          "-",
          "-",
          "-",
          "-",
          "-",
          "-",
          "-",
          "-",
          "-",
          "-",
          "-",
          "-",
          "-",
          "-",
          "-",
          "-",
          "-",
          "-",
          "-",
          "-",
          "-",
          "-",
          "-",
          "-",
          "-",
          "-",
          "-",
          "-",
          "-",
          "-",
          "-",
          "-",
          "-",
          "-",
          "-",
          "-",
          "-",
          "-",
          "-",
          "-",
          "-",
          "-",
          "-",
          "-",
          "-",
          "-",
          "-",
          "-",
          "-",
          "-",
          "-",
          "-",
          "-",
          "-",
          "-",
          "-",
          "-",
          "-",
          "-",
          "-",
          "-",
          "-",
          "-",
          "-",
          "-",
          "-",
          "-",
          "-",
          "-",
          "-",
          "-",
          "-",
          "-",
          "-",
          "-",
          "-",
          "-",
          "-",
          "-",
          "-",
          "-",
          "-",
          "-",
          "-",
          "-",
          "-",
          "-",
          "-",
          "-",
          "-",
          "-",
          "-",
          "-",
          "-",
          "-",
          "-",
          "-",
          "-",
          "-",
          "-",
          "-",
          "-",
          "-",
          "-",
          "-",
          "-",
          "-",
          "-",
          "-",
          "-",
          "-",
          "-",
          "-",
          "-",
          "-",
          "-",
          "-",
          "-",
          "-",
          "-",
          "-",
          "-",
          "-",
          "-",
          "-",
          "-",
          "-",
          "-",
          "-",
          "-",
          "-",
          "-",
          "-",
          "-",
          "-",
          "-",
          "-",
          "-",
          "-",
          "-",
          "-",
          "-",
          "-",
          "-",
          "-",
          "-",
          "-",
          "-",
          "-",
          "-",
          "-",
          "-",
          "-",
          "-",
          "-",
          "-",
          "-",
          "-",
          "-",
          "-",
          "-",
          "-",
          "-",
          "-",
          "-",
          "-",
          "-",
          "-",
          "-",
          "-",
          "-",
          "-",
          "-",
          "-",
          "-",
          "-",
          "-",
          "-",
          "-",
          "-",
          "-",
          "-",
          "-",
          "-",
          "-",
          "-",
          "-",
          "-",
          "-",
          "-"
         ],
         "yaxis": "y4"
        }
       ],
       "layout": {
        "template": {
         "data": {
          "bar": [
           {
            "error_x": {
             "color": "#2a3f5f"
            },
            "error_y": {
             "color": "#2a3f5f"
            },
            "marker": {
             "line": {
              "color": "#E5ECF6",
              "width": 0.5
             },
             "pattern": {
              "fillmode": "overlay",
              "size": 10,
              "solidity": 0.2
             }
            },
            "type": "bar"
           }
          ],
          "barpolar": [
           {
            "marker": {
             "line": {
              "color": "#E5ECF6",
              "width": 0.5
             },
             "pattern": {
              "fillmode": "overlay",
              "size": 10,
              "solidity": 0.2
             }
            },
            "type": "barpolar"
           }
          ],
          "carpet": [
           {
            "aaxis": {
             "endlinecolor": "#2a3f5f",
             "gridcolor": "white",
             "linecolor": "white",
             "minorgridcolor": "white",
             "startlinecolor": "#2a3f5f"
            },
            "baxis": {
             "endlinecolor": "#2a3f5f",
             "gridcolor": "white",
             "linecolor": "white",
             "minorgridcolor": "white",
             "startlinecolor": "#2a3f5f"
            },
            "type": "carpet"
           }
          ],
          "choropleth": [
           {
            "colorbar": {
             "outlinewidth": 0,
             "ticks": ""
            },
            "type": "choropleth"
           }
          ],
          "contour": [
           {
            "colorbar": {
             "outlinewidth": 0,
             "ticks": ""
            },
            "colorscale": [
             [
              0.0,
              "#0d0887"
             ],
             [
              0.1111111111111111,
              "#46039f"
             ],
             [
              0.2222222222222222,
              "#7201a8"
             ],
             [
              0.3333333333333333,
              "#9c179e"
             ],
             [
              0.4444444444444444,
              "#bd3786"
             ],
             [
              0.5555555555555556,
              "#d8576b"
             ],
             [
              0.6666666666666666,
              "#ed7953"
             ],
             [
              0.7777777777777778,
              "#fb9f3a"
             ],
             [
              0.8888888888888888,
              "#fdca26"
             ],
             [
              1.0,
              "#f0f921"
             ]
            ],
            "type": "contour"
           }
          ],
          "contourcarpet": [
           {
            "colorbar": {
             "outlinewidth": 0,
             "ticks": ""
            },
            "type": "contourcarpet"
           }
          ],
          "heatmap": [
           {
            "colorbar": {
             "outlinewidth": 0,
             "ticks": ""
            },
            "colorscale": [
             [
              0.0,
              "#0d0887"
             ],
             [
              0.1111111111111111,
              "#46039f"
             ],
             [
              0.2222222222222222,
              "#7201a8"
             ],
             [
              0.3333333333333333,
              "#9c179e"
             ],
             [
              0.4444444444444444,
              "#bd3786"
             ],
             [
              0.5555555555555556,
              "#d8576b"
             ],
             [
              0.6666666666666666,
              "#ed7953"
             ],
             [
              0.7777777777777778,
              "#fb9f3a"
             ],
             [
              0.8888888888888888,
              "#fdca26"
             ],
             [
              1.0,
              "#f0f921"
             ]
            ],
            "type": "heatmap"
           }
          ],
          "heatmapgl": [
           {
            "colorbar": {
             "outlinewidth": 0,
             "ticks": ""
            },
            "colorscale": [
             [
              0.0,
              "#0d0887"
             ],
             [
              0.1111111111111111,
              "#46039f"
             ],
             [
              0.2222222222222222,
              "#7201a8"
             ],
             [
              0.3333333333333333,
              "#9c179e"
             ],
             [
              0.4444444444444444,
              "#bd3786"
             ],
             [
              0.5555555555555556,
              "#d8576b"
             ],
             [
              0.6666666666666666,
              "#ed7953"
             ],
             [
              0.7777777777777778,
              "#fb9f3a"
             ],
             [
              0.8888888888888888,
              "#fdca26"
             ],
             [
              1.0,
              "#f0f921"
             ]
            ],
            "type": "heatmapgl"
           }
          ],
          "histogram": [
           {
            "marker": {
             "pattern": {
              "fillmode": "overlay",
              "size": 10,
              "solidity": 0.2
             }
            },
            "type": "histogram"
           }
          ],
          "histogram2d": [
           {
            "colorbar": {
             "outlinewidth": 0,
             "ticks": ""
            },
            "colorscale": [
             [
              0.0,
              "#0d0887"
             ],
             [
              0.1111111111111111,
              "#46039f"
             ],
             [
              0.2222222222222222,
              "#7201a8"
             ],
             [
              0.3333333333333333,
              "#9c179e"
             ],
             [
              0.4444444444444444,
              "#bd3786"
             ],
             [
              0.5555555555555556,
              "#d8576b"
             ],
             [
              0.6666666666666666,
              "#ed7953"
             ],
             [
              0.7777777777777778,
              "#fb9f3a"
             ],
             [
              0.8888888888888888,
              "#fdca26"
             ],
             [
              1.0,
              "#f0f921"
             ]
            ],
            "type": "histogram2d"
           }
          ],
          "histogram2dcontour": [
           {
            "colorbar": {
             "outlinewidth": 0,
             "ticks": ""
            },
            "colorscale": [
             [
              0.0,
              "#0d0887"
             ],
             [
              0.1111111111111111,
              "#46039f"
             ],
             [
              0.2222222222222222,
              "#7201a8"
             ],
             [
              0.3333333333333333,
              "#9c179e"
             ],
             [
              0.4444444444444444,
              "#bd3786"
             ],
             [
              0.5555555555555556,
              "#d8576b"
             ],
             [
              0.6666666666666666,
              "#ed7953"
             ],
             [
              0.7777777777777778,
              "#fb9f3a"
             ],
             [
              0.8888888888888888,
              "#fdca26"
             ],
             [
              1.0,
              "#f0f921"
             ]
            ],
            "type": "histogram2dcontour"
           }
          ],
          "mesh3d": [
           {
            "colorbar": {
             "outlinewidth": 0,
             "ticks": ""
            },
            "type": "mesh3d"
           }
          ],
          "parcoords": [
           {
            "line": {
             "colorbar": {
              "outlinewidth": 0,
              "ticks": ""
             }
            },
            "type": "parcoords"
           }
          ],
          "pie": [
           {
            "automargin": true,
            "type": "pie"
           }
          ],
          "scatter": [
           {
            "fillpattern": {
             "fillmode": "overlay",
             "size": 10,
             "solidity": 0.2
            },
            "type": "scatter"
           }
          ],
          "scatter3d": [
           {
            "line": {
             "colorbar": {
              "outlinewidth": 0,
              "ticks": ""
             }
            },
            "marker": {
             "colorbar": {
              "outlinewidth": 0,
              "ticks": ""
             }
            },
            "type": "scatter3d"
           }
          ],
          "scattercarpet": [
           {
            "marker": {
             "colorbar": {
              "outlinewidth": 0,
              "ticks": ""
             }
            },
            "type": "scattercarpet"
           }
          ],
          "scattergeo": [
           {
            "marker": {
             "colorbar": {
              "outlinewidth": 0,
              "ticks": ""
             }
            },
            "type": "scattergeo"
           }
          ],
          "scattergl": [
           {
            "marker": {
             "colorbar": {
              "outlinewidth": 0,
              "ticks": ""
             }
            },
            "type": "scattergl"
           }
          ],
          "scattermapbox": [
           {
            "marker": {
             "colorbar": {
              "outlinewidth": 0,
              "ticks": ""
             }
            },
            "type": "scattermapbox"
           }
          ],
          "scatterpolar": [
           {
            "marker": {
             "colorbar": {
              "outlinewidth": 0,
              "ticks": ""
             }
            },
            "type": "scatterpolar"
           }
          ],
          "scatterpolargl": [
           {
            "marker": {
             "colorbar": {
              "outlinewidth": 0,
              "ticks": ""
             }
            },
            "type": "scatterpolargl"
           }
          ],
          "scatterternary": [
           {
            "marker": {
             "colorbar": {
              "outlinewidth": 0,
              "ticks": ""
             }
            },
            "type": "scatterternary"
           }
          ],
          "surface": [
           {
            "colorbar": {
             "outlinewidth": 0,
             "ticks": ""
            },
            "colorscale": [
             [
              0.0,
              "#0d0887"
             ],
             [
              0.1111111111111111,
              "#46039f"
             ],
             [
              0.2222222222222222,
              "#7201a8"
             ],
             [
              0.3333333333333333,
              "#9c179e"
             ],
             [
              0.4444444444444444,
              "#bd3786"
             ],
             [
              0.5555555555555556,
              "#d8576b"
             ],
             [
              0.6666666666666666,
              "#ed7953"
             ],
             [
              0.7777777777777778,
              "#fb9f3a"
             ],
             [
              0.8888888888888888,
              "#fdca26"
             ],
             [
              1.0,
              "#f0f921"
             ]
            ],
            "type": "surface"
           }
          ],
          "table": [
           {
            "cells": {
             "fill": {
              "color": "#EBF0F8"
             },
             "line": {
              "color": "white"
             }
            },
            "header": {
             "fill": {
              "color": "#C8D4E3"
             },
             "line": {
              "color": "white"
             }
            },
            "type": "table"
           }
          ]
         },
         "layout": {
          "annotationdefaults": {
           "arrowcolor": "#2a3f5f",
           "arrowhead": 0,
           "arrowwidth": 1
          },
          "autotypenumbers": "strict",
          "coloraxis": {
           "colorbar": {
            "outlinewidth": 0,
            "ticks": ""
           }
          },
          "colorscale": {
           "diverging": [
            [
             0,
             "#8e0152"
            ],
            [
             0.1,
             "#c51b7d"
            ],
            [
             0.2,
             "#de77ae"
            ],
            [
             0.3,
             "#f1b6da"
            ],
            [
             0.4,
             "#fde0ef"
            ],
            [
             0.5,
             "#f7f7f7"
            ],
            [
             0.6,
             "#e6f5d0"
            ],
            [
             0.7,
             "#b8e186"
            ],
            [
             0.8,
             "#7fbc41"
            ],
            [
             0.9,
             "#4d9221"
            ],
            [
             1,
             "#276419"
            ]
           ],
           "sequential": [
            [
             0.0,
             "#0d0887"
            ],
            [
             0.1111111111111111,
             "#46039f"
            ],
            [
             0.2222222222222222,
             "#7201a8"
            ],
            [
             0.3333333333333333,
             "#9c179e"
            ],
            [
             0.4444444444444444,
             "#bd3786"
            ],
            [
             0.5555555555555556,
             "#d8576b"
            ],
            [
             0.6666666666666666,
             "#ed7953"
            ],
            [
             0.7777777777777778,
             "#fb9f3a"
            ],
            [
             0.8888888888888888,
             "#fdca26"
            ],
            [
             1.0,
             "#f0f921"
            ]
           ],
           "sequentialminus": [
            [
             0.0,
             "#0d0887"
            ],
            [
             0.1111111111111111,
             "#46039f"
            ],
            [
             0.2222222222222222,
             "#7201a8"
            ],
            [
             0.3333333333333333,
             "#9c179e"
            ],
            [
             0.4444444444444444,
             "#bd3786"
            ],
            [
             0.5555555555555556,
             "#d8576b"
            ],
            [
             0.6666666666666666,
             "#ed7953"
            ],
            [
             0.7777777777777778,
             "#fb9f3a"
            ],
            [
             0.8888888888888888,
             "#fdca26"
            ],
            [
             1.0,
             "#f0f921"
            ]
           ]
          },
          "colorway": [
           "#636efa",
           "#EF553B",
           "#00cc96",
           "#ab63fa",
           "#FFA15A",
           "#19d3f3",
           "#FF6692",
           "#B6E880",
           "#FF97FF",
           "#FECB52"
          ],
          "font": {
           "color": "#2a3f5f"
          },
          "geo": {
           "bgcolor": "white",
           "lakecolor": "white",
           "landcolor": "#E5ECF6",
           "showlakes": true,
           "showland": true,
           "subunitcolor": "white"
          },
          "hoverlabel": {
           "align": "left"
          },
          "hovermode": "closest",
          "mapbox": {
           "style": "light"
          },
          "paper_bgcolor": "white",
          "plot_bgcolor": "#E5ECF6",
          "polar": {
           "angularaxis": {
            "gridcolor": "white",
            "linecolor": "white",
            "ticks": ""
           },
           "bgcolor": "#E5ECF6",
           "radialaxis": {
            "gridcolor": "white",
            "linecolor": "white",
            "ticks": ""
           }
          },
          "scene": {
           "xaxis": {
            "backgroundcolor": "#E5ECF6",
            "gridcolor": "white",
            "gridwidth": 2,
            "linecolor": "white",
            "showbackground": true,
            "ticks": "",
            "zerolinecolor": "white"
           },
           "yaxis": {
            "backgroundcolor": "#E5ECF6",
            "gridcolor": "white",
            "gridwidth": 2,
            "linecolor": "white",
            "showbackground": true,
            "ticks": "",
            "zerolinecolor": "white"
           },
           "zaxis": {
            "backgroundcolor": "#E5ECF6",
            "gridcolor": "white",
            "gridwidth": 2,
            "linecolor": "white",
            "showbackground": true,
            "ticks": "",
            "zerolinecolor": "white"
           }
          },
          "shapedefaults": {
           "line": {
            "color": "#2a3f5f"
           }
          },
          "ternary": {
           "aaxis": {
            "gridcolor": "white",
            "linecolor": "white",
            "ticks": ""
           },
           "baxis": {
            "gridcolor": "white",
            "linecolor": "white",
            "ticks": ""
           },
           "bgcolor": "#E5ECF6",
           "caxis": {
            "gridcolor": "white",
            "linecolor": "white",
            "ticks": ""
           }
          },
          "title": {
           "x": 0.05
          },
          "xaxis": {
           "automargin": true,
           "gridcolor": "white",
           "linecolor": "white",
           "ticks": "",
           "title": {
            "standoff": 15
           },
           "zerolinecolor": "white",
           "zerolinewidth": 2
          },
          "yaxis": {
           "automargin": true,
           "gridcolor": "white",
           "linecolor": "white",
           "ticks": "",
           "title": {
            "standoff": 15
           },
           "zerolinecolor": "white",
           "zerolinewidth": 2
          }
         }
        },
        "title": {
         "text": "Research, citation, income and total score VS World Rank of Universities"
        },
        "xaxis": {
         "domain": [
          0,
          0.45
         ]
        },
        "xaxis2": {
         "domain": [
          0.55,
          1
         ]
        },
        "xaxis3": {
         "anchor": "y3",
         "domain": [
          0,
          0.45
         ]
        },
        "xaxis4": {
         "anchor": "y4",
         "domain": [
          0.55,
          1
         ]
        },
        "yaxis": {
         "domain": [
          0,
          0.45
         ]
        },
        "yaxis2": {
         "anchor": "x2",
         "domain": [
          0,
          0.45
         ]
        },
        "yaxis3": {
         "domain": [
          0.55,
          1
         ]
        },
        "yaxis4": {
         "anchor": "x4",
         "domain": [
          0.55,
          1
         ]
        }
       }
      },
      "text/html": [
       "<div>                            <div id=\"6f2a7bfe-55f2-4157-9b1c-6cc844379d34\" class=\"plotly-graph-div\" style=\"height:525px; width:100%;\"></div>            <script type=\"text/javascript\">                require([\"plotly\"], function(Plotly) {                    window.PLOTLYENV=window.PLOTLYENV || {};                                    if (document.getElementById(\"6f2a7bfe-55f2-4157-9b1c-6cc844379d34\")) {                    Plotly.newPlot(                        \"6f2a7bfe-55f2-4157-9b1c-6cc844379d34\",                        [{\"name\":\"research\",\"x\":[\"1\",\"2\",\"3\",\"4\",\"5\",\"6\",\"7\",\"8\",\"9\",\"9\",\"11\",\"12\",\"13\",\"14\",\"15\",\"16\",\"17\",\"18\",\"19\",\"20\",\"21\",\"22\",\"23\",\"24\",\"25\",\"26\",\"27\",\"28\",\"29\",\"29\",\"29\",\"32\",\"33\",\"34\",\"34\",\"36\",\"37\",\"38\",\"39\",\"40\",\"41\",\"42\",\"43\",\"44\",\"45\",\"46\",\"46\",\"48\",\"49\",\"50\",\"51\",\"52\",\"52\",\"54\",\"55\",\"55\",\"57\",\"58\",\"59\",\"60\",\"61\",\"61\",\"63\",\"64\",\"65\",\"66\",\"67\",\"68\",\"69\",\"70\",\"71\",\"72\",\"73\",\"74\",\"75\",\"75\",\"77\",\"78\",\"79\",\"80\",\"81\",\"82\",\"83\",\"83\",\"85\",\"86\",\"86\",\"88\",\"88\",\"90\",\"91\",\"91\",\"93\",\"94\",\"94\",\"96\",\"97\",\"98\",\"98\",\"98\",\"101\",\"102\",\"103\",\"103\",\"103\",\"103\",\"107\",\"107\",\"109\",\"109\",\"111\",\"111\",\"113\",\"113\",\"113\",\"116\",\"117\",\"118\",\"119\",\"120\",\"121\",\"121\",\"121\",\"124\",\"124\",\"126\",\"126\",\"126\",\"129\",\"130\",\"131\",\"132\",\"132\",\"132\",\"135\",\"136\",\"136\",\"138\",\"139\",\"140\",\"141\",\"141\",\"141\",\"144\",\"144\",\"146\",\"147\",\"148\",\"148\",\"150\",\"150\",\"152\",\"153\",\"154\",\"155\",\"156\",\"157\",\"157\",\"157\",\"160\",\"160\",\"162\",\"163\",\"164\",\"165\",\"165\",\"165\",\"165\",\"169\",\"170\",\"171\",\"171\",\"173\",\"173\",\"175\",\"175\",\"177\",\"178\",\"178\",\"180\",\"180\",\"182\",\"182\",\"182\",\"185\",\"186\",\"186\",\"188\",\"188\",\"188\",\"191\",\"192\",\"193\",\"193\",\"195\",\"196\",\"196\",\"198\",\"199\",\"200\",\"200\",\"201-225\",\"201-225\",\"201-225\",\"201-225\",\"201-225\",\"201-225\",\"201-225\",\"201-225\",\"201-225\",\"201-225\",\"201-225\",\"201-225\",\"201-225\",\"201-225\",\"201-225\",\"201-225\",\"201-225\",\"201-225\",\"201-225\",\"201-225\",\"201-225\",\"201-225\",\"201-225\",\"201-225\",\"201-225\",\"226-250\",\"226-250\",\"226-250\",\"226-250\",\"226-250\",\"226-250\",\"226-250\",\"226-250\",\"226-250\",\"226-250\",\"226-250\",\"226-250\",\"226-250\",\"226-250\",\"226-250\",\"226-250\",\"226-250\",\"226-250\",\"226-250\",\"226-250\",\"226-250\",\"226-250\",\"226-250\",\"226-250\",\"251-275\",\"251-275\",\"251-275\",\"251-275\",\"251-275\",\"251-275\",\"251-275\",\"251-275\",\"251-275\",\"251-275\",\"251-275\",\"251-275\",\"251-275\",\"251-275\",\"251-275\",\"251-275\",\"251-275\",\"251-275\",\"251-275\",\"251-275\",\"251-275\",\"251-275\",\"251-275\",\"251-275\",\"251-275\",\"276-300\",\"276-300\",\"276-300\",\"276-300\",\"276-300\",\"276-300\",\"276-300\",\"276-300\",\"276-300\",\"276-300\",\"276-300\",\"276-300\",\"276-300\",\"276-300\",\"276-300\",\"276-300\",\"276-300\",\"276-300\",\"276-300\",\"276-300\",\"276-300\",\"276-300\",\"276-300\",\"276-300\",\"276-300\",\"276-300\",\"276-300\",\"276-300\",\"301-350\",\"301-350\",\"301-350\",\"301-350\",\"301-350\",\"301-350\",\"301-350\",\"301-350\",\"301-350\",\"301-350\",\"301-350\",\"301-350\",\"301-350\",\"301-350\",\"301-350\",\"301-350\",\"301-350\",\"301-350\",\"301-350\",\"301-350\",\"301-350\",\"301-350\",\"301-350\",\"301-350\",\"301-350\",\"301-350\",\"301-350\",\"301-350\",\"301-350\",\"301-350\",\"301-350\",\"301-350\",\"301-350\",\"301-350\",\"301-350\",\"301-350\",\"301-350\",\"301-350\",\"301-350\",\"301-350\",\"301-350\",\"301-350\",\"301-350\",\"301-350\",\"301-350\",\"301-350\",\"301-350\",\"301-350\",\"351-400\",\"351-400\",\"351-400\",\"351-400\",\"351-400\",\"351-400\",\"351-400\",\"351-400\",\"351-400\",\"351-400\",\"351-400\",\"351-400\",\"351-400\",\"351-400\",\"351-400\",\"351-400\",\"351-400\",\"351-400\",\"351-400\",\"351-400\",\"351-400\",\"351-400\",\"351-400\",\"351-400\",\"351-400\",\"351-400\",\"351-400\",\"351-400\",\"351-400\",\"351-400\",\"351-400\",\"351-400\",\"351-400\",\"351-400\",\"351-400\",\"351-400\",\"351-400\",\"351-400\",\"351-400\",\"351-400\",\"351-400\",\"351-400\",\"351-400\",\"351-400\",\"351-400\",\"351-400\",\"351-400\",\"351-400\",\"351-400\",\"351-400\"],\"y\":[98.1,98.6,97.7,96.7,95.6,88.2,94.7,96.7,88.3,90.8,89.9,90.5,90.2,79.4,84.2,82.0,86.5,75.2,83.8,85.1,78.9,80.4,85.1,74.9,78.1,68.9,71.2,72.0,69.1,79.0,71.3,69.0,70.9,74.2,56.9,62.9,61.4,62.4,69.9,62.3,66.6,55.2,72.6,68.0,70.9,64.7,58.6,61.9,68.3,77.1,66.8,63.2,58.7,54.2,63.6,59.7,46.7,64.8,68.4,60.8,55.9,47.1,46.0,58.2,58.4,49.3,48.0,51.1,37.1,45.4,71.4,53.7,46.8,44.7,41.1,44.6,55.4,36.2,54.8,52.6,58.0,49.4,40.7,54.4,36.9,51.4,38.5,33.9,41.7,51.6,49.1,46.3,32.4,43.2,40.5,38.2,38.3,45.0,37.4,53.0,48.1,50.5,30.0,48.1,45.8,33.1,32.9,37.2,31.9,51.9,35.9,30.4,44.4,44.7,33.8,37.4,50.8,22.4,48.5,33.1,28.2,29.2,39.1,47.1,35.3,29.1,44.8,52.1,53.5,35.9,36.1,36.9,39.1,34.1,42.0,39.9,43.2,30.3,27.6,46.7,26.7,51.9,52.9,47.1,45.3,39.1,29.1,50.2,39.8,35.1,27.5,35.4,47.5,32.7,57.3,29.9,48.0,33.2,38.1,34.4,33.8,36.5,28.1,40.4,36.9,34.9,28.3,47.3,27.2,33.6,35.8,34.9,28.2,30.6,33.4,33.5,24.4,29.3,30.2,19.7,36.3,37.5,27.1,39.7,21.9,35.2,23.9,24.4,51.1,34.7,39.8,32.9,34.0,30.9,22.2,42.1,27.3,22.6,31.6,13.1,25.1,27.7,30.4,22.4,36.3,36.5,44.3,29.6,37.5,22.0,28.8,27.9,22.5,34.1,17.1,34.0,27.3,23.4,51.6,28.2,16.0,45.3,36.2,23.5,19.9,45.8,29.2,29.3,21.4,24.5,30.0,29.9,23.2,31.8,26.2,29.3,35.0,32.3,9.8,28.1,30.5,38.2,24.3,33.4,23.0,32.5,35.7,17.3,32.4,35.3,31.3,10.1,17.0,23.3,40.3,24.8,33.4,25.1,25.2,33.7,27.6,30.7,24.7,18.1,23.4,29.9,27.7,19.2,25.6,37.9,12.1,21.7,20.3,20.3,40.4,32.8,31.3,39.5,25.5,22.5,40.7,29.6,10.5,18.1,36.0,37.9,31.2,45.1,22.9,22.2,23.2,22.4,15.3,19.7,28.9,20.3,22.9,24.4,24.0,27.5,27.8,28.5,40.0,19.3,23.0,17.8,24.3,10.4,20.6,14.3,13.2,17.3,16.5,24.4,24.8,17.2,21.1,26.6,14.7,24.8,28.1,34.7,38.8,25.2,20.7,25.1,23.4,18.4,27.1,16.8,13.7,29.0,25.8,24.0,20.1,29.4,6.5,13.7,16.5,15.7,18.2,18.8,20.5,25.1,17.3,22.2,21.6,12.0,13.6,15.2,33.1,28.5,20.6,21.6,12.9,19.1,17.2,17.1,18.0,20.3,32.3,27.5,24.6,14.3,27.3,10.0,28.5,16.6,27.6,17.8,40.1,32.9,42.6,18.9,22.5,16.3,16.9,25.7,18.1,21.6,15.2,17.3,17.3,10.9,22.8,18.4,16.2,22.0,22.3,10.6,11.8,20.2,21.8,19.4,17.0,17.9,16.3,27.5,22.4,17.4,8.0],\"type\":\"scatter\"},{\"name\":\"citations\",\"x\":[\"1\",\"2\",\"3\",\"4\",\"5\",\"6\",\"7\",\"8\",\"9\",\"9\",\"11\",\"12\",\"13\",\"14\",\"15\",\"16\",\"17\",\"18\",\"19\",\"20\",\"21\",\"22\",\"23\",\"24\",\"25\",\"26\",\"27\",\"28\",\"29\",\"29\",\"29\",\"32\",\"33\",\"34\",\"34\",\"36\",\"37\",\"38\",\"39\",\"40\",\"41\",\"42\",\"43\",\"44\",\"45\",\"46\",\"46\",\"48\",\"49\",\"50\",\"51\",\"52\",\"52\",\"54\",\"55\",\"55\",\"57\",\"58\",\"59\",\"60\",\"61\",\"61\",\"63\",\"64\",\"65\",\"66\",\"67\",\"68\",\"69\",\"70\",\"71\",\"72\",\"73\",\"74\",\"75\",\"75\",\"77\",\"78\",\"79\",\"80\",\"81\",\"82\",\"83\",\"83\",\"85\",\"86\",\"86\",\"88\",\"88\",\"90\",\"91\",\"91\",\"93\",\"94\",\"94\",\"96\",\"97\",\"98\",\"98\",\"98\",\"101\",\"102\",\"103\",\"103\",\"103\",\"103\",\"107\",\"107\",\"109\",\"109\",\"111\",\"111\",\"113\",\"113\",\"113\",\"116\",\"117\",\"118\",\"119\",\"120\",\"121\",\"121\",\"121\",\"124\",\"124\",\"126\",\"126\",\"126\",\"129\",\"130\",\"131\",\"132\",\"132\",\"132\",\"135\",\"136\",\"136\",\"138\",\"139\",\"140\",\"141\",\"141\",\"141\",\"144\",\"144\",\"146\",\"147\",\"148\",\"148\",\"150\",\"150\",\"152\",\"153\",\"154\",\"155\",\"156\",\"157\",\"157\",\"157\",\"160\",\"160\",\"162\",\"163\",\"164\",\"165\",\"165\",\"165\",\"165\",\"169\",\"170\",\"171\",\"171\",\"173\",\"173\",\"175\",\"175\",\"177\",\"178\",\"178\",\"180\",\"180\",\"182\",\"182\",\"182\",\"185\",\"186\",\"186\",\"188\",\"188\",\"188\",\"191\",\"192\",\"193\",\"193\",\"195\",\"196\",\"196\",\"198\",\"199\",\"200\",\"200\",\"201-225\",\"201-225\",\"201-225\",\"201-225\",\"201-225\",\"201-225\",\"201-225\",\"201-225\",\"201-225\",\"201-225\",\"201-225\",\"201-225\",\"201-225\",\"201-225\",\"201-225\",\"201-225\",\"201-225\",\"201-225\",\"201-225\",\"201-225\",\"201-225\",\"201-225\",\"201-225\",\"201-225\",\"201-225\",\"226-250\",\"226-250\",\"226-250\",\"226-250\",\"226-250\",\"226-250\",\"226-250\",\"226-250\",\"226-250\",\"226-250\",\"226-250\",\"226-250\",\"226-250\",\"226-250\",\"226-250\",\"226-250\",\"226-250\",\"226-250\",\"226-250\",\"226-250\",\"226-250\",\"226-250\",\"226-250\",\"226-250\",\"251-275\",\"251-275\",\"251-275\",\"251-275\",\"251-275\",\"251-275\",\"251-275\",\"251-275\",\"251-275\",\"251-275\",\"251-275\",\"251-275\",\"251-275\",\"251-275\",\"251-275\",\"251-275\",\"251-275\",\"251-275\",\"251-275\",\"251-275\",\"251-275\",\"251-275\",\"251-275\",\"251-275\",\"251-275\",\"276-300\",\"276-300\",\"276-300\",\"276-300\",\"276-300\",\"276-300\",\"276-300\",\"276-300\",\"276-300\",\"276-300\",\"276-300\",\"276-300\",\"276-300\",\"276-300\",\"276-300\",\"276-300\",\"276-300\",\"276-300\",\"276-300\",\"276-300\",\"276-300\",\"276-300\",\"276-300\",\"276-300\",\"276-300\",\"276-300\",\"276-300\",\"276-300\",\"301-350\",\"301-350\",\"301-350\",\"301-350\",\"301-350\",\"301-350\",\"301-350\",\"301-350\",\"301-350\",\"301-350\",\"301-350\",\"301-350\",\"301-350\",\"301-350\",\"301-350\",\"301-350\",\"301-350\",\"301-350\",\"301-350\",\"301-350\",\"301-350\",\"301-350\",\"301-350\",\"301-350\",\"301-350\",\"301-350\",\"301-350\",\"301-350\",\"301-350\",\"301-350\",\"301-350\",\"301-350\",\"301-350\",\"301-350\",\"301-350\",\"301-350\",\"301-350\",\"301-350\",\"301-350\",\"301-350\",\"301-350\",\"301-350\",\"301-350\",\"301-350\",\"301-350\",\"301-350\",\"301-350\",\"301-350\",\"351-400\",\"351-400\",\"351-400\",\"351-400\",\"351-400\",\"351-400\",\"351-400\",\"351-400\",\"351-400\",\"351-400\",\"351-400\",\"351-400\",\"351-400\",\"351-400\",\"351-400\",\"351-400\",\"351-400\",\"351-400\",\"351-400\",\"351-400\",\"351-400\",\"351-400\",\"351-400\",\"351-400\",\"351-400\",\"351-400\",\"351-400\",\"351-400\",\"351-400\",\"351-400\",\"351-400\",\"351-400\",\"351-400\",\"351-400\",\"351-400\",\"351-400\",\"351-400\",\"351-400\",\"351-400\",\"351-400\",\"351-400\",\"351-400\",\"351-400\",\"351-400\",\"351-400\",\"351-400\",\"351-400\",\"351-400\",\"351-400\",\"351-400\"],\"xaxis\":\"x2\",\"y\":[99.7,98.9,95.5,99.1,95.2,100.0,99.6,99.1,89.4,94.0,97.3,95.3,83.5,95.3,93.6,94.4,88.9,96.6,91.5,83.0,96.9,85.1,74.7,92.0,66.0,95.0,85.8,91.5,83.0,77.8,87.7,85.3,80.6,71.3,95.0,88.3,99.2,89.5,76.0,88.3,96.4,97.1,65.1,76.8,71.1,82.9,91.0,63.7,65.0,48.7,72.9,71.4,74.3,92.0,71.8,80.4,94.4,76.0,57.0,69.0,75.9,79.9,96.4,82.3,74.2,84.4,92.3,80.4,99.9,81.4,42.6,82.3,77.5,85.1,81.4,81.3,76.6,84.8,80.0,71.9,67.6,74.0,88.9,65.7,92.0,74.0,90.0,92.9,89.5,73.8,78.7,84.4,89.5,78.8,83.7,87.7,97.4,90.9,78.8,70.9,70.1,62.2,83.3,79.0,68.2,81.4,88.9,78.2,100.0,61.1,81.4,92.8,62.9,74.0,90.5,82.9,68.1,98.9,74.9,87.7,79.6,87.7,74.3,61.8,86.6,95.9,55.1,62.2,57.8,76.9,78.0,70.1,83.6,79.7,70.8,76.5,74.9,77.6,96.8,73.9,97.1,55.1,48.1,57.3,71.0,69.3,95.3,51.7,62.7,73.1,91.5,80.4,66.5,78.0,47.7,75.0,51.1,76.2,62.2,73.5,73.0,75.0,74.0,61.1,79.7,62.9,88.3,49.6,73.1,67.7,62.7,67.7,62.2,86.7,68.4,71.0,87.1,73.0,74.3,92.2,73.1,73.1,88.5,56.3,81.3,66.3,77.8,80.4,45.5,62.9,57.5,68.6,61.0,72.0,83.8,33.8,86.4,83.7,67.1,99.2,70.0,76.0,69.3,78.8,57.2,56.5,39.9,70.3,52.0,73.0,79.7,68.5,84.4,55.1,77.0,58.1,73.6,74.0,32.3,77.8,88.1,49.4,64.4,81.3,78.7,44.3,67.0,60.4,75.3,76.9,54.4,58.1,55.1,59.9,67.8,67.6,68.9,47.0,100.0,61.7,59.4,64.4,70.8,59.4,76.6,58.7,47.0,81.4,41.7,62.9,50.2,99.7,71.1,59.6,49.1,62.8,48.2,52.2,59.9,42.0,55.7,51.5,74.8,73.0,73.1,57.5,57.6,75.6,64.5,55.1,89.8,67.3,70.3,72.5,47.0,40.8,59.9,51.6,59.9,67.4,40.4,49.6,84.4,80.5,42.9,38.9,45.6,34.9,51.1,56.9,64.5,67.8,68.7,58.6,46.6,68.1,66.9,57.5,52.7,55.1,55.1,53.8,40.7,59.7,55.8,64.5,50.1,63.3,57.5,57.5,70.8,50.3,61.0,58.5,50.2,70.5,63.3,55.8,59.6,65.6,50.7,50.4,28.0,54.1,53.9,47.5,53.8,65.3,45.4,67.0,64.1,39.3,44.2,50.2,62.2,48.2,83.0,75.0,51.5,57.5,68.0,69.2,61.2,49.9,56.9,58.7,51.1,72.7,70.0,61.0,40.2,39.9,52.2,45.1,61.8,52.0,62.6,45.3,57.6,53.9,29.0,32.2,43.5,62.6,48.9,75.0,33.6,56.3,51.5,46.5,28.4,39.0,30.9,43.5,42.0,50.2,53.2,52.7,52.0,53.8,64.5,60.8,55.1,65.0,44.8,44.6,60.6,46.6,41.7,61.6,62.1,63.3,47.7,57.5,50.0,48.1,55.5,44.2,58.7,48.5,75.8],\"yaxis\":\"y2\",\"type\":\"scatter\"},{\"name\":\"income\",\"x\":[\"1\",\"2\",\"3\",\"4\",\"5\",\"6\",\"7\",\"8\",\"9\",\"9\",\"11\",\"12\",\"13\",\"14\",\"15\",\"16\",\"17\",\"18\",\"19\",\"20\",\"21\",\"22\",\"23\",\"24\",\"25\",\"26\",\"27\",\"28\",\"29\",\"29\",\"29\",\"32\",\"33\",\"34\",\"34\",\"36\",\"37\",\"38\",\"39\",\"40\",\"41\",\"42\",\"43\",\"44\",\"45\",\"46\",\"46\",\"48\",\"49\",\"50\",\"51\",\"52\",\"52\",\"54\",\"55\",\"55\",\"57\",\"58\",\"59\",\"60\",\"61\",\"61\",\"63\",\"64\",\"65\",\"66\",\"67\",\"68\",\"69\",\"70\",\"71\",\"72\",\"73\",\"74\",\"75\",\"75\",\"77\",\"78\",\"79\",\"80\",\"81\",\"82\",\"83\",\"83\",\"85\",\"86\",\"86\",\"88\",\"88\",\"90\",\"91\",\"91\",\"93\",\"94\",\"94\",\"96\",\"97\",\"98\",\"98\",\"98\",\"101\",\"102\",\"103\",\"103\",\"103\",\"103\",\"107\",\"107\",\"109\",\"109\",\"111\",\"111\",\"113\",\"113\",\"113\",\"116\",\"117\",\"118\",\"119\",\"120\",\"121\",\"121\",\"121\",\"124\",\"124\",\"126\",\"126\",\"126\",\"129\",\"130\",\"131\",\"132\",\"132\",\"132\",\"135\",\"136\",\"136\",\"138\",\"139\",\"140\",\"141\",\"141\",\"141\",\"144\",\"144\",\"146\",\"147\",\"148\",\"148\",\"150\",\"150\",\"152\",\"153\",\"154\",\"155\",\"156\",\"157\",\"157\",\"157\",\"160\",\"160\",\"162\",\"163\",\"164\",\"165\",\"165\",\"165\",\"165\",\"169\",\"170\",\"171\",\"171\",\"173\",\"173\",\"175\",\"175\",\"177\",\"178\",\"178\",\"180\",\"180\",\"182\",\"182\",\"182\",\"185\",\"186\",\"186\",\"188\",\"188\",\"188\",\"191\",\"192\",\"193\",\"193\",\"195\",\"196\",\"196\",\"198\",\"199\",\"200\",\"200\",\"201-225\",\"201-225\",\"201-225\",\"201-225\",\"201-225\",\"201-225\",\"201-225\",\"201-225\",\"201-225\",\"201-225\",\"201-225\",\"201-225\",\"201-225\",\"201-225\",\"201-225\",\"201-225\",\"201-225\",\"201-225\",\"201-225\",\"201-225\",\"201-225\",\"201-225\",\"201-225\",\"201-225\",\"201-225\",\"226-250\",\"226-250\",\"226-250\",\"226-250\",\"226-250\",\"226-250\",\"226-250\",\"226-250\",\"226-250\",\"226-250\",\"226-250\",\"226-250\",\"226-250\",\"226-250\",\"226-250\",\"226-250\",\"226-250\",\"226-250\",\"226-250\",\"226-250\",\"226-250\",\"226-250\",\"226-250\",\"226-250\",\"251-275\",\"251-275\",\"251-275\",\"251-275\",\"251-275\",\"251-275\",\"251-275\",\"251-275\",\"251-275\",\"251-275\",\"251-275\",\"251-275\",\"251-275\",\"251-275\",\"251-275\",\"251-275\",\"251-275\",\"251-275\",\"251-275\",\"251-275\",\"251-275\",\"251-275\",\"251-275\",\"251-275\",\"251-275\",\"276-300\",\"276-300\",\"276-300\",\"276-300\",\"276-300\",\"276-300\",\"276-300\",\"276-300\",\"276-300\",\"276-300\",\"276-300\",\"276-300\",\"276-300\",\"276-300\",\"276-300\",\"276-300\",\"276-300\",\"276-300\",\"276-300\",\"276-300\",\"276-300\",\"276-300\",\"276-300\",\"276-300\",\"276-300\",\"276-300\",\"276-300\",\"276-300\",\"301-350\",\"301-350\",\"301-350\",\"301-350\",\"301-350\",\"301-350\",\"301-350\",\"301-350\",\"301-350\",\"301-350\",\"301-350\",\"301-350\",\"301-350\",\"301-350\",\"301-350\",\"301-350\",\"301-350\",\"301-350\",\"301-350\",\"301-350\",\"301-350\",\"301-350\",\"301-350\",\"301-350\",\"301-350\",\"301-350\",\"301-350\",\"301-350\",\"301-350\",\"301-350\",\"301-350\",\"301-350\",\"301-350\",\"301-350\",\"301-350\",\"301-350\",\"301-350\",\"301-350\",\"301-350\",\"301-350\",\"301-350\",\"301-350\",\"301-350\",\"301-350\",\"301-350\",\"301-350\",\"301-350\",\"301-350\",\"351-400\",\"351-400\",\"351-400\",\"351-400\",\"351-400\",\"351-400\",\"351-400\",\"351-400\",\"351-400\",\"351-400\",\"351-400\",\"351-400\",\"351-400\",\"351-400\",\"351-400\",\"351-400\",\"351-400\",\"351-400\",\"351-400\",\"351-400\",\"351-400\",\"351-400\",\"351-400\",\"351-400\",\"351-400\",\"351-400\",\"351-400\",\"351-400\",\"351-400\",\"351-400\",\"351-400\",\"351-400\",\"351-400\",\"351-400\",\"351-400\",\"351-400\",\"351-400\",\"351-400\",\"351-400\",\"351-400\",\"351-400\",\"351-400\",\"351-400\",\"351-400\",\"351-400\",\"351-400\",\"351-400\",\"351-400\",\"351-400\",\"351-400\"],\"xaxis\":\"x3\",\"y\":[\"89.1\",\"44.0\",\"72.9\",\"63.1\",\"51.1\",\"95.7\",\"82.7\",\"44.8\",\"72.7\",\"42.0\",\"36.8\",\"-\",\"73.2\",\"-\",\"100.0\",\"43.0\",\"55.7\",\"100.0\",\"33.7\",\"46.1\",\"77.0\",\"46.2\",\"51.2\",\"53.0\",\"53.4\",\"44.7\",\"72.3\",\"58.1\",\"100.0\",\"51.7\",\"53.3\",\"40.1\",\"61.2\",\"40.6\",\"61.9\",\"41.2\",\"87.1\",\"30.2\",\"38.6\",\"39.0\",\"54.2\",\"-\",\"56.0\",\"65.5\",\"38.9\",\"-\",\"40.5\",\"100.0\",\"99.7\",\"86.3\",\"57.6\",\"100.0\",\"39.4\",\"32.7\",\"99.9\",\"55.4\",\"30.3\",\"60.4\",\"73.3\",\"67.3\",\"100.0\",\"76.8\",\"40.1\",\"47.3\",\"66.2\",\"100.0\",\"32.8\",\"46.8\",\"34.6\",\"41.6\",\"100.0\",\"54.4\",\"100.0\",\"42.1\",\"97.7\",\"34.4\",\"56.7\",\"39.4\",\"84.1\",\"31.9\",\"33.5\",\"31.7\",\"34.8\",\"73.4\",\"55.2\",\"99.6\",\"-\",\"58.7\",\"40.0\",\"85.3\",\"52.8\",\"38.5\",\"42.3\",\"85.0\",\"39.9\",\"59.4\",\"-\",\"32.4\",\"49.0\",\"39.6\",\"96.1\",\"-\",\"33.4\",\"31.5\",\"35.6\",\"40.1\",\"37.1\",\"65.1\",\"33.8\",\"47.8\",\"39.8\",\"31.2\",\"91.8\",\"54.7\",\"32.2\",\"-\",\"88.9\",\"32.8\",\"32.6\",\"28.9\",\"98.6\",\"36.4\",\"43.8\",\"51.8\",\"88.0\",\"46.5\",\"100.0\",\"-\",\"42.8\",\"49.8\",\"34.1\",\"47.4\",\"33.2\",\"38.9\",\"99.5\",\"50.9\",\"60.0\",\"30.6\",\"47.7\",\"42.8\",\"79.4\",\"49.6\",\"69.4\",\"99.9\",\"35.2\",\"39.4\",\"43.9\",\"98.5\",\"36.0\",\"-\",\"39.5\",\"49.1\",\"59.8\",\"35.8\",\"43.8\",\"69.8\",\"73.6\",\"40.0\",\"63.3\",\"44.4\",\"29.3\",\"58.1\",\"81.4\",\"65.3\",\"51.1\",\"82.7\",\"35.9\",\"76.8\",\"-\",\"100.0\",\"39.6\",\"46.1\",\"80.0\",\"31.6\",\"74.2\",\"49.3\",\"40.6\",\"31.3\",\"42.1\",\"29.1\",\"99.3\",\"32.6\",\"42.9\",\"29.4\",\"34.0\",\"36.6\",\"-\",\"31.3\",\"42.6\",\"45.9\",\"39.6\",\"49.8\",\"49.4\",\"54.4\",\"-\",\"78.5\",\"32.4\",\"29.2\",\"34.8\",\"53.7\",\"29.3\",\"46.4\",\"34.8\",\"38.8\",\"31.5\",\"42.6\",\"98.5\",\"35.0\",\"36.5\",\"56.7\",\"31.0\",\"34.2\",\"47.7\",\"40.7\",\"42.0\",\"34.9\",\"71.6\",\"32.0\",\"40.1\",\"41.6\",\"33.3\",\"89.2\",\"50.7\",\"38.2\",\"30.0\",\"69.7\",\"34.6\",\"28.7\",\"31.9\",\"30.7\",\"68.9\",\"62.7\",\"99.0\",\"86.3\",\"49.9\",\"41.8\",\"-\",\"63.4\",\"31.0\",\"33.8\",\"41.5\",\"37.0\",\"42.0\",\"52.5\",\"45.0\",\"40.1\",\"50.7\",\"30.0\",\"64.1\",\"34.1\",\"64.5\",\"28.1\",\"33.7\",\"51.7\",\"49.4\",\"43.1\",\"59.0\",\"43.7\",\"99.8\",\"88.9\",\"46.3\",\"38.3\",\"64.0\",\"38.2\",\"44.5\",\"75.6\",\"31.9\",\"64.4\",\"38.4\",\"99.8\",\"36.5\",\"94.8\",\"46.0\",\"40.8\",\"41.7\",\"75.8\",\"38.8\",\"37.9\",\"73.8\",\"33.6\",\"98.2\",\"45.0\",\"28.3\",\"28.8\",\"71.9\",\"88.4\",\"94.7\",\"55.1\",\"56.9\",\"45.9\",\"34.9\",\"35.6\",\"46.8\",\"48.2\",\"31.1\",\"33.6\",\"40.1\",\"35.0\",\"83.9\",\"31.8\",\"44.7\",\"49.7\",\"42.6\",\"32.2\",\"31.1\",\"32.7\",\"29.4\",\"32.4\",\"30.6\",\"34.6\",\"29.1\",\"-\",\"39.2\",\"50.6\",\"36.2\",\"33.4\",\"32.0\",\"67.8\",\"42.8\",\"29.2\",\"34.2\",\"86.2\",\"44.5\",\"58.9\",\"-\",\"36.7\",\"49.5\",\"28.8\",\"31.1\",\"36.0\",\"44.2\",\"29.1\",\"43.2\",\"-\",\"36.2\",\"43.5\",\"28.6\",\"34.4\",\"34.5\",\"34.5\",\"32.9\",\"37.7\",\"72.6\",\"30.7\",\"48.2\",\"42.5\",\"36.9\",\"30.8\",\"28.5\",\"-\",\"88.6\",\"43.9\",\"33.0\",\"35.7\",\"34.8\",\"37.4\",\"33.6\",\"36.1\",\"61.3\",\"28.7\",\"88.7\",\"43.4\",\"49.7\",\"69.0\",\"84.1\",\"56.5\",\"68.7\",\"39.2\",\"-\",\"40.5\",\"100.0\",\"47.0\",\"82.0\",\"28.4\",\"47.4\",\"38.8\",\"38.8\",\"31.3\",\"35.2\",\"32.8\",\"40.4\",\"35.4\",\"30.2\",\"29.6\",\"33.9\",\"70.4\",\"44.5\",\"31.2\",\"90.2\",\"29.2\",\"37.7\",\"29.1\",\"32.1\",\"-\",\"50.0\",\"44.8\",\"32.6\",\"54.5\",\"30.4\",\"85.9\",\"57.8\"],\"yaxis\":\"y3\",\"type\":\"scatter\"},{\"name\":\"total_score\",\"x\":[\"1\",\"2\",\"3\",\"4\",\"5\",\"6\",\"7\",\"8\",\"9\",\"9\",\"11\",\"12\",\"13\",\"14\",\"15\",\"16\",\"17\",\"18\",\"19\",\"20\",\"21\",\"22\",\"23\",\"24\",\"25\",\"26\",\"27\",\"28\",\"29\",\"29\",\"29\",\"32\",\"33\",\"34\",\"34\",\"36\",\"37\",\"38\",\"39\",\"40\",\"41\",\"42\",\"43\",\"44\",\"45\",\"46\",\"46\",\"48\",\"49\",\"50\",\"51\",\"52\",\"52\",\"54\",\"55\",\"55\",\"57\",\"58\",\"59\",\"60\",\"61\",\"61\",\"63\",\"64\",\"65\",\"66\",\"67\",\"68\",\"69\",\"70\",\"71\",\"72\",\"73\",\"74\",\"75\",\"75\",\"77\",\"78\",\"79\",\"80\",\"81\",\"82\",\"83\",\"83\",\"85\",\"86\",\"86\",\"88\",\"88\",\"90\",\"91\",\"91\",\"93\",\"94\",\"94\",\"96\",\"97\",\"98\",\"98\",\"98\",\"101\",\"102\",\"103\",\"103\",\"103\",\"103\",\"107\",\"107\",\"109\",\"109\",\"111\",\"111\",\"113\",\"113\",\"113\",\"116\",\"117\",\"118\",\"119\",\"120\",\"121\",\"121\",\"121\",\"124\",\"124\",\"126\",\"126\",\"126\",\"129\",\"130\",\"131\",\"132\",\"132\",\"132\",\"135\",\"136\",\"136\",\"138\",\"139\",\"140\",\"141\",\"141\",\"141\",\"144\",\"144\",\"146\",\"147\",\"148\",\"148\",\"150\",\"150\",\"152\",\"153\",\"154\",\"155\",\"156\",\"157\",\"157\",\"157\",\"160\",\"160\",\"162\",\"163\",\"164\",\"165\",\"165\",\"165\",\"165\",\"169\",\"170\",\"171\",\"171\",\"173\",\"173\",\"175\",\"175\",\"177\",\"178\",\"178\",\"180\",\"180\",\"182\",\"182\",\"182\",\"185\",\"186\",\"186\",\"188\",\"188\",\"188\",\"191\",\"192\",\"193\",\"193\",\"195\",\"196\",\"196\",\"198\",\"199\",\"200\",\"200\",\"201-225\",\"201-225\",\"201-225\",\"201-225\",\"201-225\",\"201-225\",\"201-225\",\"201-225\",\"201-225\",\"201-225\",\"201-225\",\"201-225\",\"201-225\",\"201-225\",\"201-225\",\"201-225\",\"201-225\",\"201-225\",\"201-225\",\"201-225\",\"201-225\",\"201-225\",\"201-225\",\"201-225\",\"201-225\",\"226-250\",\"226-250\",\"226-250\",\"226-250\",\"226-250\",\"226-250\",\"226-250\",\"226-250\",\"226-250\",\"226-250\",\"226-250\",\"226-250\",\"226-250\",\"226-250\",\"226-250\",\"226-250\",\"226-250\",\"226-250\",\"226-250\",\"226-250\",\"226-250\",\"226-250\",\"226-250\",\"226-250\",\"251-275\",\"251-275\",\"251-275\",\"251-275\",\"251-275\",\"251-275\",\"251-275\",\"251-275\",\"251-275\",\"251-275\",\"251-275\",\"251-275\",\"251-275\",\"251-275\",\"251-275\",\"251-275\",\"251-275\",\"251-275\",\"251-275\",\"251-275\",\"251-275\",\"251-275\",\"251-275\",\"251-275\",\"251-275\",\"276-300\",\"276-300\",\"276-300\",\"276-300\",\"276-300\",\"276-300\",\"276-300\",\"276-300\",\"276-300\",\"276-300\",\"276-300\",\"276-300\",\"276-300\",\"276-300\",\"276-300\",\"276-300\",\"276-300\",\"276-300\",\"276-300\",\"276-300\",\"276-300\",\"276-300\",\"276-300\",\"276-300\",\"276-300\",\"276-300\",\"276-300\",\"276-300\",\"301-350\",\"301-350\",\"301-350\",\"301-350\",\"301-350\",\"301-350\",\"301-350\",\"301-350\",\"301-350\",\"301-350\",\"301-350\",\"301-350\",\"301-350\",\"301-350\",\"301-350\",\"301-350\",\"301-350\",\"301-350\",\"301-350\",\"301-350\",\"301-350\",\"301-350\",\"301-350\",\"301-350\",\"301-350\",\"301-350\",\"301-350\",\"301-350\",\"301-350\",\"301-350\",\"301-350\",\"301-350\",\"301-350\",\"301-350\",\"301-350\",\"301-350\",\"301-350\",\"301-350\",\"301-350\",\"301-350\",\"301-350\",\"301-350\",\"301-350\",\"301-350\",\"301-350\",\"301-350\",\"301-350\",\"301-350\",\"351-400\",\"351-400\",\"351-400\",\"351-400\",\"351-400\",\"351-400\",\"351-400\",\"351-400\",\"351-400\",\"351-400\",\"351-400\",\"351-400\",\"351-400\",\"351-400\",\"351-400\",\"351-400\",\"351-400\",\"351-400\",\"351-400\",\"351-400\",\"351-400\",\"351-400\",\"351-400\",\"351-400\",\"351-400\",\"351-400\",\"351-400\",\"351-400\",\"351-400\",\"351-400\",\"351-400\",\"351-400\",\"351-400\",\"351-400\",\"351-400\",\"351-400\",\"351-400\",\"351-400\",\"351-400\",\"351-400\",\"351-400\",\"351-400\",\"351-400\",\"351-400\",\"351-400\",\"351-400\",\"351-400\",\"351-400\",\"351-400\",\"351-400\"],\"xaxis\":\"x4\",\"y\":[\"94.3\",\"93.3\",\"93.2\",\"92.9\",\"92.0\",\"91.9\",\"90.9\",\"89.5\",\"87.5\",\"87.5\",\"87.1\",\"85.5\",\"84.6\",\"84.4\",\"83.0\",\"81.0\",\"80.9\",\"79.9\",\"79.4\",\"79.3\",\"79.2\",\"78.7\",\"76.1\",\"74.3\",\"73.3\",\"73.2\",\"72.8\",\"72.3\",\"71.9\",\"71.9\",\"71.9\",\"71.8\",\"71.2\",\"70.9\",\"70.9\",\"70.4\",\"70.0\",\"69.9\",\"69.6\",\"69.4\",\"68.6\",\"67.8\",\"67.5\",\"66.8\",\"66.5\",\"65.9\",\"65.9\",\"65.2\",\"65.1\",\"64.8\",\"64.7\",\"64.5\",\"64.5\",\"64.1\",\"63.7\",\"63.7\",\"63.6\",\"62.9\",\"62.8\",\"62.7\",\"62.2\",\"62.2\",\"61.9\",\"61.3\",\"61.2\",\"61.1\",\"61.0\",\"60.7\",\"59.8\",\"59.6\",\"59.2\",\"59.1\",\"59.0\",\"58.9\",\"58.4\",\"58.4\",\"58.2\",\"58.1\",\"58.0\",\"57.9\",\"57.6\",\"57.3\",\"56.9\",\"56.9\",\"56.6\",\"56.5\",\"56.5\",\"56.4\",\"56.4\",\"56.2\",\"56.1\",\"56.1\",\"55.5\",\"55.3\",\"55.3\",\"55.2\",\"55.1\",\"54.6\",\"54.6\",\"54.6\",\"54.3\",\"54.0\",\"53.9\",\"53.9\",\"53.9\",\"53.9\",\"53.8\",\"53.8\",\"53.7\",\"53.7\",\"53.6\",\"53.6\",\"53.4\",\"53.4\",\"53.4\",\"53.2\",\"53.1\",\"53.0\",\"52.9\",\"52.8\",\"52.7\",\"52.7\",\"52.7\",\"52.6\",\"52.6\",\"52.5\",\"52.5\",\"52.5\",\"52.4\",\"52.1\",\"52.0\",\"51.9\",\"51.9\",\"51.9\",\"51.6\",\"51.4\",\"51.4\",\"51.2\",\"51.1\",\"51.0\",\"50.9\",\"50.9\",\"50.9\",\"50.5\",\"50.5\",\"50.4\",\"50.3\",\"50.2\",\"50.2\",\"50.1\",\"50.1\",\"50.0\",\"49.9\",\"49.7\",\"49.3\",\"49.2\",\"49.1\",\"49.1\",\"49.1\",\"49.0\",\"49.0\",\"48.6\",\"48.3\",\"48.2\",\"48.1\",\"48.1\",\"48.1\",\"48.1\",\"48.0\",\"47.9\",\"47.8\",\"47.8\",\"47.7\",\"47.7\",\"47.5\",\"47.5\",\"47.3\",\"47.1\",\"47.1\",\"47.0\",\"47.0\",\"46.9\",\"46.9\",\"46.9\",\"46.8\",\"46.7\",\"46.7\",\"46.6\",\"46.6\",\"46.6\",\"46.5\",\"46.3\",\"46.2\",\"46.2\",\"46.1\",\"46.0\",\"46.0\",\"45.9\",\"45.7\",\"45.6\",\"45.6\",\"-\",\"-\",\"-\",\"-\",\"-\",\"-\",\"-\",\"-\",\"-\",\"-\",\"-\",\"-\",\"-\",\"-\",\"-\",\"-\",\"-\",\"-\",\"-\",\"-\",\"-\",\"-\",\"-\",\"-\",\"-\",\"-\",\"-\",\"-\",\"-\",\"-\",\"-\",\"-\",\"-\",\"-\",\"-\",\"-\",\"-\",\"-\",\"-\",\"-\",\"-\",\"-\",\"-\",\"-\",\"-\",\"-\",\"-\",\"-\",\"-\",\"-\",\"-\",\"-\",\"-\",\"-\",\"-\",\"-\",\"-\",\"-\",\"-\",\"-\",\"-\",\"-\",\"-\",\"-\",\"-\",\"-\",\"-\",\"-\",\"-\",\"-\",\"-\",\"-\",\"-\",\"-\",\"-\",\"-\",\"-\",\"-\",\"-\",\"-\",\"-\",\"-\",\"-\",\"-\",\"-\",\"-\",\"-\",\"-\",\"-\",\"-\",\"-\",\"-\",\"-\",\"-\",\"-\",\"-\",\"-\",\"-\",\"-\",\"-\",\"-\",\"-\",\"-\",\"-\",\"-\",\"-\",\"-\",\"-\",\"-\",\"-\",\"-\",\"-\",\"-\",\"-\",\"-\",\"-\",\"-\",\"-\",\"-\",\"-\",\"-\",\"-\",\"-\",\"-\",\"-\",\"-\",\"-\",\"-\",\"-\",\"-\",\"-\",\"-\",\"-\",\"-\",\"-\",\"-\",\"-\",\"-\",\"-\",\"-\",\"-\",\"-\",\"-\",\"-\",\"-\",\"-\",\"-\",\"-\",\"-\",\"-\",\"-\",\"-\",\"-\",\"-\",\"-\",\"-\",\"-\",\"-\",\"-\",\"-\",\"-\",\"-\",\"-\",\"-\",\"-\",\"-\",\"-\",\"-\",\"-\",\"-\",\"-\",\"-\",\"-\",\"-\",\"-\",\"-\",\"-\",\"-\",\"-\",\"-\",\"-\",\"-\",\"-\",\"-\",\"-\",\"-\",\"-\",\"-\",\"-\",\"-\",\"-\",\"-\",\"-\",\"-\",\"-\",\"-\",\"-\",\"-\",\"-\",\"-\"],\"yaxis\":\"y4\",\"type\":\"scatter\"}],                        {\"template\":{\"data\":{\"barpolar\":[{\"marker\":{\"line\":{\"color\":\"#E5ECF6\",\"width\":0.5},\"pattern\":{\"fillmode\":\"overlay\",\"size\":10,\"solidity\":0.2}},\"type\":\"barpolar\"}],\"bar\":[{\"error_x\":{\"color\":\"#2a3f5f\"},\"error_y\":{\"color\":\"#2a3f5f\"},\"marker\":{\"line\":{\"color\":\"#E5ECF6\",\"width\":0.5},\"pattern\":{\"fillmode\":\"overlay\",\"size\":10,\"solidity\":0.2}},\"type\":\"bar\"}],\"carpet\":[{\"aaxis\":{\"endlinecolor\":\"#2a3f5f\",\"gridcolor\":\"white\",\"linecolor\":\"white\",\"minorgridcolor\":\"white\",\"startlinecolor\":\"#2a3f5f\"},\"baxis\":{\"endlinecolor\":\"#2a3f5f\",\"gridcolor\":\"white\",\"linecolor\":\"white\",\"minorgridcolor\":\"white\",\"startlinecolor\":\"#2a3f5f\"},\"type\":\"carpet\"}],\"choropleth\":[{\"colorbar\":{\"outlinewidth\":0,\"ticks\":\"\"},\"type\":\"choropleth\"}],\"contourcarpet\":[{\"colorbar\":{\"outlinewidth\":0,\"ticks\":\"\"},\"type\":\"contourcarpet\"}],\"contour\":[{\"colorbar\":{\"outlinewidth\":0,\"ticks\":\"\"},\"colorscale\":[[0.0,\"#0d0887\"],[0.1111111111111111,\"#46039f\"],[0.2222222222222222,\"#7201a8\"],[0.3333333333333333,\"#9c179e\"],[0.4444444444444444,\"#bd3786\"],[0.5555555555555556,\"#d8576b\"],[0.6666666666666666,\"#ed7953\"],[0.7777777777777778,\"#fb9f3a\"],[0.8888888888888888,\"#fdca26\"],[1.0,\"#f0f921\"]],\"type\":\"contour\"}],\"heatmapgl\":[{\"colorbar\":{\"outlinewidth\":0,\"ticks\":\"\"},\"colorscale\":[[0.0,\"#0d0887\"],[0.1111111111111111,\"#46039f\"],[0.2222222222222222,\"#7201a8\"],[0.3333333333333333,\"#9c179e\"],[0.4444444444444444,\"#bd3786\"],[0.5555555555555556,\"#d8576b\"],[0.6666666666666666,\"#ed7953\"],[0.7777777777777778,\"#fb9f3a\"],[0.8888888888888888,\"#fdca26\"],[1.0,\"#f0f921\"]],\"type\":\"heatmapgl\"}],\"heatmap\":[{\"colorbar\":{\"outlinewidth\":0,\"ticks\":\"\"},\"colorscale\":[[0.0,\"#0d0887\"],[0.1111111111111111,\"#46039f\"],[0.2222222222222222,\"#7201a8\"],[0.3333333333333333,\"#9c179e\"],[0.4444444444444444,\"#bd3786\"],[0.5555555555555556,\"#d8576b\"],[0.6666666666666666,\"#ed7953\"],[0.7777777777777778,\"#fb9f3a\"],[0.8888888888888888,\"#fdca26\"],[1.0,\"#f0f921\"]],\"type\":\"heatmap\"}],\"histogram2dcontour\":[{\"colorbar\":{\"outlinewidth\":0,\"ticks\":\"\"},\"colorscale\":[[0.0,\"#0d0887\"],[0.1111111111111111,\"#46039f\"],[0.2222222222222222,\"#7201a8\"],[0.3333333333333333,\"#9c179e\"],[0.4444444444444444,\"#bd3786\"],[0.5555555555555556,\"#d8576b\"],[0.6666666666666666,\"#ed7953\"],[0.7777777777777778,\"#fb9f3a\"],[0.8888888888888888,\"#fdca26\"],[1.0,\"#f0f921\"]],\"type\":\"histogram2dcontour\"}],\"histogram2d\":[{\"colorbar\":{\"outlinewidth\":0,\"ticks\":\"\"},\"colorscale\":[[0.0,\"#0d0887\"],[0.1111111111111111,\"#46039f\"],[0.2222222222222222,\"#7201a8\"],[0.3333333333333333,\"#9c179e\"],[0.4444444444444444,\"#bd3786\"],[0.5555555555555556,\"#d8576b\"],[0.6666666666666666,\"#ed7953\"],[0.7777777777777778,\"#fb9f3a\"],[0.8888888888888888,\"#fdca26\"],[1.0,\"#f0f921\"]],\"type\":\"histogram2d\"}],\"histogram\":[{\"marker\":{\"pattern\":{\"fillmode\":\"overlay\",\"size\":10,\"solidity\":0.2}},\"type\":\"histogram\"}],\"mesh3d\":[{\"colorbar\":{\"outlinewidth\":0,\"ticks\":\"\"},\"type\":\"mesh3d\"}],\"parcoords\":[{\"line\":{\"colorbar\":{\"outlinewidth\":0,\"ticks\":\"\"}},\"type\":\"parcoords\"}],\"pie\":[{\"automargin\":true,\"type\":\"pie\"}],\"scatter3d\":[{\"line\":{\"colorbar\":{\"outlinewidth\":0,\"ticks\":\"\"}},\"marker\":{\"colorbar\":{\"outlinewidth\":0,\"ticks\":\"\"}},\"type\":\"scatter3d\"}],\"scattercarpet\":[{\"marker\":{\"colorbar\":{\"outlinewidth\":0,\"ticks\":\"\"}},\"type\":\"scattercarpet\"}],\"scattergeo\":[{\"marker\":{\"colorbar\":{\"outlinewidth\":0,\"ticks\":\"\"}},\"type\":\"scattergeo\"}],\"scattergl\":[{\"marker\":{\"colorbar\":{\"outlinewidth\":0,\"ticks\":\"\"}},\"type\":\"scattergl\"}],\"scattermapbox\":[{\"marker\":{\"colorbar\":{\"outlinewidth\":0,\"ticks\":\"\"}},\"type\":\"scattermapbox\"}],\"scatterpolargl\":[{\"marker\":{\"colorbar\":{\"outlinewidth\":0,\"ticks\":\"\"}},\"type\":\"scatterpolargl\"}],\"scatterpolar\":[{\"marker\":{\"colorbar\":{\"outlinewidth\":0,\"ticks\":\"\"}},\"type\":\"scatterpolar\"}],\"scatter\":[{\"fillpattern\":{\"fillmode\":\"overlay\",\"size\":10,\"solidity\":0.2},\"type\":\"scatter\"}],\"scatterternary\":[{\"marker\":{\"colorbar\":{\"outlinewidth\":0,\"ticks\":\"\"}},\"type\":\"scatterternary\"}],\"surface\":[{\"colorbar\":{\"outlinewidth\":0,\"ticks\":\"\"},\"colorscale\":[[0.0,\"#0d0887\"],[0.1111111111111111,\"#46039f\"],[0.2222222222222222,\"#7201a8\"],[0.3333333333333333,\"#9c179e\"],[0.4444444444444444,\"#bd3786\"],[0.5555555555555556,\"#d8576b\"],[0.6666666666666666,\"#ed7953\"],[0.7777777777777778,\"#fb9f3a\"],[0.8888888888888888,\"#fdca26\"],[1.0,\"#f0f921\"]],\"type\":\"surface\"}],\"table\":[{\"cells\":{\"fill\":{\"color\":\"#EBF0F8\"},\"line\":{\"color\":\"white\"}},\"header\":{\"fill\":{\"color\":\"#C8D4E3\"},\"line\":{\"color\":\"white\"}},\"type\":\"table\"}]},\"layout\":{\"annotationdefaults\":{\"arrowcolor\":\"#2a3f5f\",\"arrowhead\":0,\"arrowwidth\":1},\"autotypenumbers\":\"strict\",\"coloraxis\":{\"colorbar\":{\"outlinewidth\":0,\"ticks\":\"\"}},\"colorscale\":{\"diverging\":[[0,\"#8e0152\"],[0.1,\"#c51b7d\"],[0.2,\"#de77ae\"],[0.3,\"#f1b6da\"],[0.4,\"#fde0ef\"],[0.5,\"#f7f7f7\"],[0.6,\"#e6f5d0\"],[0.7,\"#b8e186\"],[0.8,\"#7fbc41\"],[0.9,\"#4d9221\"],[1,\"#276419\"]],\"sequential\":[[0.0,\"#0d0887\"],[0.1111111111111111,\"#46039f\"],[0.2222222222222222,\"#7201a8\"],[0.3333333333333333,\"#9c179e\"],[0.4444444444444444,\"#bd3786\"],[0.5555555555555556,\"#d8576b\"],[0.6666666666666666,\"#ed7953\"],[0.7777777777777778,\"#fb9f3a\"],[0.8888888888888888,\"#fdca26\"],[1.0,\"#f0f921\"]],\"sequentialminus\":[[0.0,\"#0d0887\"],[0.1111111111111111,\"#46039f\"],[0.2222222222222222,\"#7201a8\"],[0.3333333333333333,\"#9c179e\"],[0.4444444444444444,\"#bd3786\"],[0.5555555555555556,\"#d8576b\"],[0.6666666666666666,\"#ed7953\"],[0.7777777777777778,\"#fb9f3a\"],[0.8888888888888888,\"#fdca26\"],[1.0,\"#f0f921\"]]},\"colorway\":[\"#636efa\",\"#EF553B\",\"#00cc96\",\"#ab63fa\",\"#FFA15A\",\"#19d3f3\",\"#FF6692\",\"#B6E880\",\"#FF97FF\",\"#FECB52\"],\"font\":{\"color\":\"#2a3f5f\"},\"geo\":{\"bgcolor\":\"white\",\"lakecolor\":\"white\",\"landcolor\":\"#E5ECF6\",\"showlakes\":true,\"showland\":true,\"subunitcolor\":\"white\"},\"hoverlabel\":{\"align\":\"left\"},\"hovermode\":\"closest\",\"mapbox\":{\"style\":\"light\"},\"paper_bgcolor\":\"white\",\"plot_bgcolor\":\"#E5ECF6\",\"polar\":{\"angularaxis\":{\"gridcolor\":\"white\",\"linecolor\":\"white\",\"ticks\":\"\"},\"bgcolor\":\"#E5ECF6\",\"radialaxis\":{\"gridcolor\":\"white\",\"linecolor\":\"white\",\"ticks\":\"\"}},\"scene\":{\"xaxis\":{\"backgroundcolor\":\"#E5ECF6\",\"gridcolor\":\"white\",\"gridwidth\":2,\"linecolor\":\"white\",\"showbackground\":true,\"ticks\":\"\",\"zerolinecolor\":\"white\"},\"yaxis\":{\"backgroundcolor\":\"#E5ECF6\",\"gridcolor\":\"white\",\"gridwidth\":2,\"linecolor\":\"white\",\"showbackground\":true,\"ticks\":\"\",\"zerolinecolor\":\"white\"},\"zaxis\":{\"backgroundcolor\":\"#E5ECF6\",\"gridcolor\":\"white\",\"gridwidth\":2,\"linecolor\":\"white\",\"showbackground\":true,\"ticks\":\"\",\"zerolinecolor\":\"white\"}},\"shapedefaults\":{\"line\":{\"color\":\"#2a3f5f\"}},\"ternary\":{\"aaxis\":{\"gridcolor\":\"white\",\"linecolor\":\"white\",\"ticks\":\"\"},\"baxis\":{\"gridcolor\":\"white\",\"linecolor\":\"white\",\"ticks\":\"\"},\"bgcolor\":\"#E5ECF6\",\"caxis\":{\"gridcolor\":\"white\",\"linecolor\":\"white\",\"ticks\":\"\"}},\"title\":{\"x\":0.05},\"xaxis\":{\"automargin\":true,\"gridcolor\":\"white\",\"linecolor\":\"white\",\"ticks\":\"\",\"title\":{\"standoff\":15},\"zerolinecolor\":\"white\",\"zerolinewidth\":2},\"yaxis\":{\"automargin\":true,\"gridcolor\":\"white\",\"linecolor\":\"white\",\"ticks\":\"\",\"title\":{\"standoff\":15},\"zerolinecolor\":\"white\",\"zerolinewidth\":2}}},\"title\":{\"text\":\"Research, citation, income and total score VS World Rank of Universities\"},\"xaxis\":{\"domain\":[0,0.45]},\"yaxis\":{\"domain\":[0,0.45]},\"xaxis2\":{\"domain\":[0.55,1]},\"xaxis3\":{\"anchor\":\"y3\",\"domain\":[0,0.45]},\"xaxis4\":{\"anchor\":\"y4\",\"domain\":[0.55,1]},\"yaxis2\":{\"anchor\":\"x2\",\"domain\":[0,0.45]},\"yaxis3\":{\"domain\":[0.55,1]},\"yaxis4\":{\"anchor\":\"x4\",\"domain\":[0.55,1]}},                        {\"responsive\": true}                    ).then(function(){\n",
       "                            \n",
       "var gd = document.getElementById('6f2a7bfe-55f2-4157-9b1c-6cc844379d34');\n",
       "var x = new MutationObserver(function (mutations, observer) {{\n",
       "        var display = window.getComputedStyle(gd).display;\n",
       "        if (!display || display === 'none') {{\n",
       "            console.log([gd, 'removed!']);\n",
       "            Plotly.purge(gd);\n",
       "            observer.disconnect();\n",
       "        }}\n",
       "}});\n",
       "\n",
       "// Listen for the removal of the full notebook cells\n",
       "var notebookContainer = gd.closest('#notebook-container');\n",
       "if (notebookContainer) {{\n",
       "    x.observe(notebookContainer, {childList: true});\n",
       "}}\n",
       "\n",
       "// Listen for the clearing of the current output cell\n",
       "var outputEl = gd.closest('.output');\n",
       "if (outputEl) {{\n",
       "    x.observe(outputEl, {childList: true});\n",
       "}}\n",
       "\n",
       "                        })                };                });            </script>        </div>"
      ]
     },
     "metadata": {},
     "output_type": "display_data"
    }
   ],
   "source": [
    "trace1= go.Scatter(x= dataframe.world_rank, y=dataframe.research, name= \"research\")\n",
    "trace2= go.Scatter(x= dataframe.world_rank, y=dataframe.citations, xaxis='x2', yaxis='y2', name=\"citations\")\n",
    "trace3= go.Scatter(x= dataframe.world_rank, y= dataframe.income, xaxis='x3', yaxis='y3', name=\"income\")\n",
    "trace4= go.Scatter(x=dataframe.world_rank, y= dataframe.total_score, xaxis='x4', yaxis='y4', name=\"total_score\")\n",
    "data=[trace1, trace2, trace3, trace4]\n",
    "layout= go.Layout( xaxis=dict(domain=[0, 0.45]), xaxis2= dict(domain=[0.55, 1]), xaxis3= dict(domain=[0, 0.45], anchor='y3'), xaxis4=dict(domain=[0.55, 1], anchor='y4'), yaxis= dict(domain=[0, 0.45]), yaxis2= dict(domain=[0, 0.45], anchor='x2'), yaxis3= dict(domain=[0.55, 1]), yaxis4= dict(domain=[0.55, 1], anchor='x4'),\n",
    "                 title= 'Research, citation, income and total score VS World Rank of Universities')\n",
    "fig= go.Figure(data=data, layout=layout)\n",
    "iplot(fig)"
   ]
  }
 ],
 "metadata": {
  "kernelspec": {
   "display_name": "Python 3",
   "language": "python",
   "name": "python3"
  },
  "language_info": {
   "codemirror_mode": {
    "name": "ipython",
    "version": 3
   },
   "file_extension": ".py",
   "mimetype": "text/x-python",
   "name": "python",
   "nbconvert_exporter": "python",
   "pygments_lexer": "ipython3",
   "version": "3.7.12"
  },
  "papermill": {
   "default_parameters": {},
   "duration": 21.418736,
   "end_time": "2022-08-02T12:21:01.475586",
   "environment_variables": {},
   "exception": null,
   "input_path": "__notebook__.ipynb",
   "output_path": "__notebook__.ipynb",
   "parameters": {},
   "start_time": "2022-08-02T12:20:40.056850",
   "version": "2.3.4"
  }
 },
 "nbformat": 4,
 "nbformat_minor": 5
}
